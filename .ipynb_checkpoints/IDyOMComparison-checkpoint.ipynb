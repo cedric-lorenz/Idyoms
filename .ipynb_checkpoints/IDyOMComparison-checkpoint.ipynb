{
 "cells": [
  {
   "cell_type": "markdown",
   "metadata": {},
   "source": [
    "# Comparing Idyoms and IDyOM"
   ]
  },
  {
   "cell_type": "code",
   "execution_count": 1,
   "metadata": {},
   "outputs": [],
   "source": [
    "using CSV, DataFrames, Plots\n",
    "using Chakra, Melch\n",
    "include(\"src/Idyoms.jl\")\n",
    "using Main.Idyoms"
   ]
  },
  {
   "cell_type": "markdown",
   "metadata": {},
   "source": [
    "### Load Nova dataset from Melch"
   ]
  },
  {
   "cell_type": "code",
   "execution_count": 2,
   "metadata": {},
   "outputs": [],
   "source": [
    "Melch.__INIT__(\"/Users/nick/Dropbox/MelchData\")\n",
    "nova = fnd(Melch.id(0),Melch)\n",
    "nova.description\n",
    "melodies = pts(nova)\n",
    "sequences = [sequence(pts(mel,Melch),Melch) for mel in melodies]\n",
    "pitch_view = [View(seq,vp(Melch.CPITCH),vp(Melch.CPITCH)) for seq in sequences];"
   ]
  },
  {
   "cell_type": "markdown",
   "metadata": {},
   "source": [
    "### Choose an IDyOM model\n",
    "\n",
    "The folder idyom-data contains cvs files output from IDyOM. They model the Nova dataset using the viewpoint CPITCH and various different parameter combinations. We choose one of these models to compare to the output of Idyoms."
   ]
  },
  {
   "cell_type": "code",
   "execution_count": 3,
   "metadata": {},
   "outputs": [
    {
     "data": {
      "text/plain": [
       "\"./idyom-data/STMC5I.csv\""
      ]
     },
     "execution_count": 3,
     "metadata": {},
     "output_type": "execute_result"
    }
   ],
   "source": [
    "idyom_model = \"./idyom-data/STMC5I.csv\""
   ]
  },
  {
   "cell_type": "markdown",
   "metadata": {},
   "source": [
    "### Set parameters\n",
    "\n",
    "Now we set the corresponding paramters for Idyoms. "
   ]
  },
  {
   "cell_type": "code",
   "execution_count": 4,
   "metadata": {},
   "outputs": [
    {
     "data": {
      "text/plain": [
       "Bounded{5}()"
      ]
     },
     "execution_count": 4,
     "metadata": {},
     "output_type": "execute_result"
    }
   ],
   "source": [
    "a = Set([54:77...,79,81])\n",
    "b = Interpolated()\n",
    "e = C()\n",
    "u = true\n",
    "o = Bounded(5)"
   ]
  },
  {
   "cell_type": "markdown",
   "metadata": {},
   "source": [
    "### Compute the corresponding model in Idyoms"
   ]
  },
  {
   "cell_type": "code",
   "execution_count": 5,
   "metadata": {},
   "outputs": [
    {
     "name": "stdout",
     "output_type": "stream",
     "text": [
      "  1.974553 seconds (14.22 M allocations: 1.425 GiB, 14.22% gc time, 36.78% compilation time)\n"
     ]
    },
    {
     "data": {
      "text/plain": [
       "3.0240140188490763"
      ]
     },
     "execution_count": 5,
     "metadata": {},
     "output_type": "execute_result"
    }
   ],
   "source": [
    "@time pitch_stm = Idyoms.ppm_stm(pitch_view,a,b,e,u,o);\n",
    "Idyoms.mean_infcontent(pitch_stm)"
   ]
  },
  {
   "cell_type": "code",
   "execution_count": 6,
   "metadata": {},
   "outputs": [],
   "source": [
    "pitch_table = Idyoms.todataframe(pitch_stm);"
   ]
  },
  {
   "cell_type": "markdown",
   "metadata": {},
   "source": [
    "### Compare values from Idyoms with IDyOM"
   ]
  },
  {
   "cell_type": "code",
   "execution_count": 7,
   "metadata": {
    "scrolled": true
   },
   "outputs": [
    {
     "data": {
      "text/html": [
       "<div><div style = \"float: left;\"><span>8552×3 DataFrame</span></div><div style = \"float: right;\"><span style = \"font-style: italic;\">8527 rows omitted</span></div><div style = \"clear: both;\"></div></div><div class = \"data-frame\" style = \"overflow-x: scroll;\"><table class = \"data-frame\" style = \"margin-bottom: 6px;\"><thead><tr class = \"header\"><th class = \"rowNumber\" style = \"font-weight: bold; text-align: right;\">Row</th><th style = \"text-align: left;\">Symbol</th><th style = \"text-align: left;\">Idyom</th><th style = \"text-align: left;\">Julia</th></tr><tr class = \"subheader headerLastRow\"><th class = \"rowNumber\" style = \"font-weight: bold; text-align: right;\"></th><th title = \"Int64\" style = \"text-align: left;\">Int64</th><th title = \"Float64\" style = \"text-align: left;\">Float64</th><th title = \"Float64\" style = \"text-align: left;\">Float64</th></tr></thead><tbody><tr><td class = \"rowNumber\" style = \"font-weight: bold; text-align: right;\">1</td><td style = \"text-align: right;\">65</td><td style = \"text-align: right;\">0.0384615</td><td style = \"text-align: right;\">0.0384615</td></tr><tr><td class = \"rowNumber\" style = \"font-weight: bold; text-align: right;\">2</td><td style = \"text-align: right;\">62</td><td style = \"text-align: right;\">0.0192308</td><td style = \"text-align: right;\">0.0192308</td></tr><tr><td class = \"rowNumber\" style = \"font-weight: bold; text-align: right;\">3</td><td style = \"text-align: right;\">60</td><td style = \"text-align: right;\">0.0196078</td><td style = \"text-align: right;\">0.0196078</td></tr><tr><td class = \"rowNumber\" style = \"font-weight: bold; text-align: right;\">4</td><td style = \"text-align: right;\">60</td><td style = \"text-align: right;\">0.18</td><td style = \"text-align: right;\">0.18</td></tr><tr><td class = \"rowNumber\" style = \"font-weight: bold; text-align: right;\">5</td><td style = \"text-align: right;\">60</td><td style = \"text-align: right;\">0.581632</td><td style = \"text-align: right;\">0.581633</td></tr><tr><td class = \"rowNumber\" style = \"font-weight: bold; text-align: right;\">6</td><td style = \"text-align: right;\">60</td><td style = \"text-align: right;\">0.613207</td><td style = \"text-align: right;\">0.613208</td></tr><tr><td class = \"rowNumber\" style = \"font-weight: bold; text-align: right;\">7</td><td style = \"text-align: right;\">65</td><td style = \"text-align: right;\">0.0789473</td><td style = \"text-align: right;\">0.0789474</td></tr><tr><td class = \"rowNumber\" style = \"font-weight: bold; text-align: right;\">8</td><td style = \"text-align: right;\">65</td><td style = \"text-align: right;\">0.11039</td><td style = \"text-align: right;\">0.11039</td></tr><tr><td class = \"rowNumber\" style = \"font-weight: bold; text-align: right;\">9</td><td style = \"text-align: right;\">65</td><td style = \"text-align: right;\">0.363014</td><td style = \"text-align: right;\">0.363014</td></tr><tr><td class = \"rowNumber\" style = \"font-weight: bold; text-align: right;\">10</td><td style = \"text-align: right;\">69</td><td style = \"text-align: right;\">0.0037594</td><td style = \"text-align: right;\">0.0037594</td></tr><tr><td class = \"rowNumber\" style = \"font-weight: bold; text-align: right;\">11</td><td style = \"text-align: right;\">69</td><td style = \"text-align: right;\">0.0808383</td><td style = \"text-align: right;\">0.0808383</td></tr><tr><td class = \"rowNumber\" style = \"font-weight: bold; text-align: right;\">12</td><td style = \"text-align: right;\">69</td><td style = \"text-align: right;\">0.532012</td><td style = \"text-align: right;\">0.532012</td></tr><tr><td class = \"rowNumber\" style = \"font-weight: bold; text-align: right;\">13</td><td style = \"text-align: right;\">69</td><td style = \"text-align: right;\">0.547864</td><td style = \"text-align: right;\">0.547865</td></tr><tr><td style = \"text-align: right;\">&vellip;</td><td style = \"text-align: right;\">&vellip;</td><td style = \"text-align: right;\">&vellip;</td><td style = \"text-align: right;\">&vellip;</td></tr><tr><td class = \"rowNumber\" style = \"font-weight: bold; text-align: right;\">8541</td><td style = \"text-align: right;\">60</td><td style = \"text-align: right;\">0.503788</td><td style = \"text-align: right;\">0.503788</td></tr><tr><td class = \"rowNumber\" style = \"font-weight: bold; text-align: right;\">8542</td><td style = \"text-align: right;\">62</td><td style = \"text-align: right;\">0.532606</td><td style = \"text-align: right;\">0.532606</td></tr><tr><td class = \"rowNumber\" style = \"font-weight: bold; text-align: right;\">8543</td><td style = \"text-align: right;\">65</td><td style = \"text-align: right;\">0.569415</td><td style = \"text-align: right;\">0.569415</td></tr><tr><td class = \"rowNumber\" style = \"font-weight: bold; text-align: right;\">8544</td><td style = \"text-align: right;\">65</td><td style = \"text-align: right;\">0.461494</td><td style = \"text-align: right;\">0.461494</td></tr><tr><td class = \"rowNumber\" style = \"font-weight: bold; text-align: right;\">8545</td><td style = \"text-align: right;\">65</td><td style = \"text-align: right;\">0.119957</td><td style = \"text-align: right;\">0.119957</td></tr><tr><td class = \"rowNumber\" style = \"font-weight: bold; text-align: right;\">8546</td><td style = \"text-align: right;\">62</td><td style = \"text-align: right;\">0.233042</td><td style = \"text-align: right;\">0.233042</td></tr><tr><td class = \"rowNumber\" style = \"font-weight: bold; text-align: right;\">8547</td><td style = \"text-align: right;\">58</td><td style = \"text-align: right;\">0.48381</td><td style = \"text-align: right;\">0.483811</td></tr><tr><td class = \"rowNumber\" style = \"font-weight: bold; text-align: right;\">8548</td><td style = \"text-align: right;\">62</td><td style = \"text-align: right;\">0.0895262</td><td style = \"text-align: right;\">0.0895262</td></tr><tr><td class = \"rowNumber\" style = \"font-weight: bold; text-align: right;\">8549</td><td style = \"text-align: right;\">60</td><td style = \"text-align: right;\">0.227576</td><td style = \"text-align: right;\">0.227576</td></tr><tr><td class = \"rowNumber\" style = \"font-weight: bold; text-align: right;\">8550</td><td style = \"text-align: right;\">58</td><td style = \"text-align: right;\">0.537819</td><td style = \"text-align: right;\">0.537819</td></tr><tr><td class = \"rowNumber\" style = \"font-weight: bold; text-align: right;\">8551</td><td style = \"text-align: right;\">57</td><td style = \"text-align: right;\">0.395015</td><td style = \"text-align: right;\">0.395015</td></tr><tr><td class = \"rowNumber\" style = \"font-weight: bold; text-align: right;\">8552</td><td style = \"text-align: right;\">58</td><td style = \"text-align: right;\">0.520243</td><td style = \"text-align: right;\">0.520243</td></tr></tbody></table></div>"
      ],
      "text/latex": [
       "\\begin{tabular}{r|ccc}\n",
       "\t& Symbol & Idyom & Julia\\\\\n",
       "\t\\hline\n",
       "\t& Int64 & Float64 & Float64\\\\\n",
       "\t\\hline\n",
       "\t1 & 65 & 0.0384615 & 0.0384615 \\\\\n",
       "\t2 & 62 & 0.0192308 & 0.0192308 \\\\\n",
       "\t3 & 60 & 0.0196078 & 0.0196078 \\\\\n",
       "\t4 & 60 & 0.18 & 0.18 \\\\\n",
       "\t5 & 60 & 0.581632 & 0.581633 \\\\\n",
       "\t6 & 60 & 0.613207 & 0.613208 \\\\\n",
       "\t7 & 65 & 0.0789473 & 0.0789474 \\\\\n",
       "\t8 & 65 & 0.11039 & 0.11039 \\\\\n",
       "\t9 & 65 & 0.363014 & 0.363014 \\\\\n",
       "\t10 & 69 & 0.0037594 & 0.0037594 \\\\\n",
       "\t11 & 69 & 0.0808383 & 0.0808383 \\\\\n",
       "\t12 & 69 & 0.532012 & 0.532012 \\\\\n",
       "\t13 & 69 & 0.547864 & 0.547865 \\\\\n",
       "\t14 & 69 & 0.562678 & 0.562678 \\\\\n",
       "\t15 & 67 & 0.00551724 & 0.00551724 \\\\\n",
       "\t16 & 65 & 0.202174 & 0.202174 \\\\\n",
       "\t17 & 65 & 0.337489 & 0.337489 \\\\\n",
       "\t18 & 65 & 0.432703 & 0.432703 \\\\\n",
       "\t19 & 62 & 0.0503513 & 0.0503513 \\\\\n",
       "\t20 & 60 & 0.539473 & 0.539474 \\\\\n",
       "\t21 & 60 & 0.61935 & 0.619351 \\\\\n",
       "\t22 & 65 & 0.208276 & 0.208276 \\\\\n",
       "\t23 & 69 & 0.115472 & 0.115472 \\\\\n",
       "\t24 & 69 & 0.706119 & 0.706119 \\\\\n",
       "\t25 & 67 & 0.113407 & 0.113407 \\\\\n",
       "\t26 & 65 & 0.571306 & 0.571306 \\\\\n",
       "\t27 & 60 & 0.0642589 & 0.0642589 \\\\\n",
       "\t28 & 60 & 0.484831 & 0.484831 \\\\\n",
       "\t29 & 60 & 0.367586 & 0.367586 \\\\\n",
       "\t30 & 60 & 0.338393 & 0.338393 \\\\\n",
       "\t$\\dots$ & $\\dots$ & $\\dots$ & $\\dots$ \\\\\n",
       "\\end{tabular}\n"
      ],
      "text/plain": [
       "\u001b[1m8552×3 DataFrame\u001b[0m\n",
       "\u001b[1m  Row \u001b[0m│\u001b[1m Symbol \u001b[0m\u001b[1m Idyom     \u001b[0m\u001b[1m Julia     \u001b[0m\n",
       "      │\u001b[90m Int64  \u001b[0m\u001b[90m Float64   \u001b[0m\u001b[90m Float64   \u001b[0m\n",
       "──────┼──────────────────────────────\n",
       "    1 │     65  0.0384615  0.0384615\n",
       "    2 │     62  0.0192308  0.0192308\n",
       "    3 │     60  0.0196078  0.0196078\n",
       "    4 │     60  0.18       0.18\n",
       "    5 │     60  0.581632   0.581633\n",
       "    6 │     60  0.613207   0.613208\n",
       "    7 │     65  0.0789473  0.0789474\n",
       "    8 │     65  0.11039    0.11039\n",
       "    9 │     65  0.363014   0.363014\n",
       "   10 │     69  0.0037594  0.0037594\n",
       "   11 │     69  0.0808383  0.0808383\n",
       "  ⋮   │   ⋮         ⋮          ⋮\n",
       " 8543 │     65  0.569415   0.569415\n",
       " 8544 │     65  0.461494   0.461494\n",
       " 8545 │     65  0.119957   0.119957\n",
       " 8546 │     62  0.233042   0.233042\n",
       " 8547 │     58  0.48381    0.483811\n",
       " 8548 │     62  0.0895262  0.0895262\n",
       " 8549 │     60  0.227576   0.227576\n",
       " 8550 │     58  0.537819   0.537819\n",
       " 8551 │     57  0.395015   0.395015\n",
       " 8552 │     58  0.520243   0.520243\n",
       "\u001b[36m                    8531 rows omitted\u001b[0m"
      ]
     },
     "execution_count": 7,
     "metadata": {},
     "output_type": "execute_result"
    }
   ],
   "source": [
    "idyom_data = CSV.File(idyom_model) |> DataFrame;\n",
    "idyom_prob = idyom_data[!,\"probability\"];\n",
    "idyom_ic = idyom_data[!,\"information.content\"]\n",
    "DataFrame(Symbol = pitch_table.Symbol, Idyom = idyom_prob, Julia = pitch_table.Prob)"
   ]
  },
  {
   "cell_type": "markdown",
   "metadata": {},
   "source": [
    "### Plot the values from Idyoms and IDyOM"
   ]
  },
  {
   "cell_type": "code",
   "execution_count": 8,
   "metadata": {
    "scrolled": true
   },
   "outputs": [
    {
     "data": {
      "image/svg+xml": [
       "<?xml version=\"1.0\" encoding=\"utf-8\"?>\n",
       "<svg xmlns=\"http://www.w3.org/2000/svg\" xmlns:xlink=\"http://www.w3.org/1999/xlink\" width=\"900\" height=\"300\" viewBox=\"0 0 3600 1200\">\n",
       "<defs>\n",
       "  <clipPath id=\"clip480\">\n",
       "    <rect x=\"0\" y=\"0\" width=\"3600\" height=\"1200\"/>\n",
       "  </clipPath>\n",
       "</defs>\n",
       "<path clip-path=\"url(#clip480)\" d=\"\n",
       "M0 1200 L3600 1200 L3600 0 L0 0  Z\n",
       "  \" fill=\"#ffffff\" fill-rule=\"evenodd\" fill-opacity=\"1\"/>\n",
       "<defs>\n",
       "  <clipPath id=\"clip481\">\n",
       "    <rect x=\"720\" y=\"0\" width=\"2521\" height=\"1200\"/>\n",
       "  </clipPath>\n",
       "</defs>\n",
       "<path clip-path=\"url(#clip480)\" d=\"\n",
       "M124.177 1107.73 L3552.76 1107.73 L3552.76 47.2441 L124.177 47.2441  Z\n",
       "  \" fill=\"#ffffff\" fill-rule=\"evenodd\" fill-opacity=\"1\"/>\n",
       "<defs>\n",
       "  <clipPath id=\"clip482\">\n",
       "    <rect x=\"124\" y=\"47\" width=\"3430\" height=\"1061\"/>\n",
       "  </clipPath>\n",
       "</defs>\n",
       "<polyline clip-path=\"url(#clip482)\" style=\"stroke:#000000; stroke-linecap:round; stroke-linejoin:round; stroke-width:2; stroke-opacity:0.1; fill:none\" points=\"\n",
       "  190.408,1107.73 190.408,47.2441 \n",
       "  \"/>\n",
       "<polyline clip-path=\"url(#clip482)\" style=\"stroke:#000000; stroke-linecap:round; stroke-linejoin:round; stroke-width:2; stroke-opacity:0.1; fill:none\" points=\"\n",
       "  960.529,1107.73 960.529,47.2441 \n",
       "  \"/>\n",
       "<polyline clip-path=\"url(#clip482)\" style=\"stroke:#000000; stroke-linecap:round; stroke-linejoin:round; stroke-width:2; stroke-opacity:0.1; fill:none\" points=\"\n",
       "  1730.65,1107.73 1730.65,47.2441 \n",
       "  \"/>\n",
       "<polyline clip-path=\"url(#clip482)\" style=\"stroke:#000000; stroke-linecap:round; stroke-linejoin:round; stroke-width:2; stroke-opacity:0.1; fill:none\" points=\"\n",
       "  2500.77,1107.73 2500.77,47.2441 \n",
       "  \"/>\n",
       "<polyline clip-path=\"url(#clip482)\" style=\"stroke:#000000; stroke-linecap:round; stroke-linejoin:round; stroke-width:2; stroke-opacity:0.1; fill:none\" points=\"\n",
       "  3270.89,1107.73 3270.89,47.2441 \n",
       "  \"/>\n",
       "<polyline clip-path=\"url(#clip480)\" style=\"stroke:#000000; stroke-linecap:round; stroke-linejoin:round; stroke-width:4; stroke-opacity:1; fill:none\" points=\"\n",
       "  124.177,1107.73 3552.76,1107.73 \n",
       "  \"/>\n",
       "<polyline clip-path=\"url(#clip480)\" style=\"stroke:#000000; stroke-linecap:round; stroke-linejoin:round; stroke-width:4; stroke-opacity:1; fill:none\" points=\"\n",
       "  190.408,1107.73 190.408,1088.83 \n",
       "  \"/>\n",
       "<polyline clip-path=\"url(#clip480)\" style=\"stroke:#000000; stroke-linecap:round; stroke-linejoin:round; stroke-width:4; stroke-opacity:1; fill:none\" points=\"\n",
       "  960.529,1107.73 960.529,1088.83 \n",
       "  \"/>\n",
       "<polyline clip-path=\"url(#clip480)\" style=\"stroke:#000000; stroke-linecap:round; stroke-linejoin:round; stroke-width:4; stroke-opacity:1; fill:none\" points=\"\n",
       "  1730.65,1107.73 1730.65,1088.83 \n",
       "  \"/>\n",
       "<polyline clip-path=\"url(#clip480)\" style=\"stroke:#000000; stroke-linecap:round; stroke-linejoin:round; stroke-width:4; stroke-opacity:1; fill:none\" points=\"\n",
       "  2500.77,1107.73 2500.77,1088.83 \n",
       "  \"/>\n",
       "<polyline clip-path=\"url(#clip480)\" style=\"stroke:#000000; stroke-linecap:round; stroke-linejoin:round; stroke-width:4; stroke-opacity:1; fill:none\" points=\"\n",
       "  3270.89,1107.73 3270.89,1088.83 \n",
       "  \"/>\n",
       "<path clip-path=\"url(#clip480)\" d=\"M190.408 1148.25 Q186.796 1148.25 184.968 1151.81 Q183.162 1155.35 183.162 1162.48 Q183.162 1169.59 184.968 1173.15 Q186.796 1176.7 190.408 1176.7 Q194.042 1176.7 195.847 1173.15 Q197.676 1169.59 197.676 1162.48 Q197.676 1155.35 195.847 1151.81 Q194.042 1148.25 190.408 1148.25 M190.408 1144.54 Q196.218 1144.54 199.273 1149.15 Q202.352 1153.73 202.352 1162.48 Q202.352 1171.21 199.273 1175.82 Q196.218 1180.4 190.408 1180.4 Q184.597 1180.4 181.519 1175.82 Q178.463 1171.21 178.463 1162.48 Q178.463 1153.73 181.519 1149.15 Q184.597 1144.54 190.408 1144.54 Z\" fill=\"#000000\" fill-rule=\"evenodd\" fill-opacity=\"1\" /><path clip-path=\"url(#clip480)\" d=\"M939.8 1175.79 L956.119 1175.79 L956.119 1179.73 L934.175 1179.73 L934.175 1175.79 Q936.837 1173.04 941.42 1168.41 Q946.026 1163.76 947.207 1162.41 Q949.452 1159.89 950.332 1158.15 Q951.235 1156.39 951.235 1154.7 Q951.235 1151.95 949.29 1150.21 Q947.369 1148.48 944.267 1148.48 Q942.068 1148.48 939.614 1149.24 Q937.184 1150.01 934.406 1151.56 L934.406 1146.83 Q937.23 1145.7 939.684 1145.12 Q942.137 1144.54 944.175 1144.54 Q949.545 1144.54 952.739 1147.23 Q955.934 1149.91 955.934 1154.4 Q955.934 1156.53 955.124 1158.45 Q954.336 1160.35 952.23 1162.95 Q951.651 1163.62 948.549 1166.83 Q945.448 1170.03 939.8 1175.79 Z\" fill=\"#000000\" fill-rule=\"evenodd\" fill-opacity=\"1\" /><path clip-path=\"url(#clip480)\" d=\"M965.98 1145.17 L984.336 1145.17 L984.336 1149.1 L970.262 1149.1 L970.262 1157.58 Q971.281 1157.23 972.299 1157.07 Q973.318 1156.88 974.336 1156.88 Q980.123 1156.88 983.503 1160.05 Q986.883 1163.22 986.883 1168.64 Q986.883 1174.22 983.41 1177.32 Q979.938 1180.4 973.619 1180.4 Q971.443 1180.4 969.174 1180.03 Q966.929 1179.66 964.522 1178.92 L964.522 1174.22 Q966.605 1175.35 968.827 1175.91 Q971.049 1176.46 973.526 1176.46 Q977.531 1176.46 979.869 1174.36 Q982.207 1172.25 982.207 1168.64 Q982.207 1165.03 979.869 1162.92 Q977.531 1160.82 973.526 1160.82 Q971.651 1160.82 969.776 1161.23 Q967.924 1161.65 965.98 1162.53 L965.98 1145.17 Z\" fill=\"#000000\" fill-rule=\"evenodd\" fill-opacity=\"1\" /><path clip-path=\"url(#clip480)\" d=\"M1705.35 1145.17 L1723.71 1145.17 L1723.71 1149.1 L1709.63 1149.1 L1709.63 1157.58 Q1710.65 1157.23 1711.67 1157.07 Q1712.69 1156.88 1713.71 1156.88 Q1719.49 1156.88 1722.87 1160.05 Q1726.25 1163.22 1726.25 1168.64 Q1726.25 1174.22 1722.78 1177.32 Q1719.31 1180.4 1712.99 1180.4 Q1710.81 1180.4 1708.54 1180.03 Q1706.3 1179.66 1703.89 1178.92 L1703.89 1174.22 Q1705.97 1175.35 1708.2 1175.91 Q1710.42 1176.46 1712.9 1176.46 Q1716.9 1176.46 1719.24 1174.36 Q1721.58 1172.25 1721.58 1168.64 Q1721.58 1165.03 1719.24 1162.92 Q1716.9 1160.82 1712.9 1160.82 Q1711.02 1160.82 1709.15 1161.23 Q1707.29 1161.65 1705.35 1162.53 L1705.35 1145.17 Z\" fill=\"#000000\" fill-rule=\"evenodd\" fill-opacity=\"1\" /><path clip-path=\"url(#clip480)\" d=\"M1745.46 1148.25 Q1741.85 1148.25 1740.02 1151.81 Q1738.22 1155.35 1738.22 1162.48 Q1738.22 1169.59 1740.02 1173.15 Q1741.85 1176.7 1745.46 1176.7 Q1749.1 1176.7 1750.9 1173.15 Q1752.73 1169.59 1752.73 1162.48 Q1752.73 1155.35 1750.9 1151.81 Q1749.1 1148.25 1745.46 1148.25 M1745.46 1144.54 Q1751.27 1144.54 1754.33 1149.15 Q1757.41 1153.73 1757.41 1162.48 Q1757.41 1171.21 1754.33 1175.82 Q1751.27 1180.4 1745.46 1180.4 Q1739.65 1180.4 1736.58 1175.82 Q1733.52 1171.21 1733.52 1162.48 Q1733.52 1153.73 1736.58 1149.15 Q1739.65 1144.54 1745.46 1144.54 Z\" fill=\"#000000\" fill-rule=\"evenodd\" fill-opacity=\"1\" /><path clip-path=\"url(#clip480)\" d=\"M2474.62 1145.17 L2496.85 1145.17 L2496.85 1147.16 L2484.3 1179.73 L2479.42 1179.73 L2491.22 1149.1 L2474.62 1149.1 L2474.62 1145.17 Z\" fill=\"#000000\" fill-rule=\"evenodd\" fill-opacity=\"1\" /><path clip-path=\"url(#clip480)\" d=\"M2506.01 1145.17 L2524.37 1145.17 L2524.37 1149.1 L2510.3 1149.1 L2510.3 1157.58 Q2511.31 1157.23 2512.33 1157.07 Q2513.35 1156.88 2514.37 1156.88 Q2520.16 1156.88 2523.54 1160.05 Q2526.92 1163.22 2526.92 1168.64 Q2526.92 1174.22 2523.44 1177.32 Q2519.97 1180.4 2513.65 1180.4 Q2511.48 1180.4 2509.21 1180.03 Q2506.96 1179.66 2504.56 1178.92 L2504.56 1174.22 Q2506.64 1175.35 2508.86 1175.91 Q2511.08 1176.46 2513.56 1176.46 Q2517.56 1176.46 2519.9 1174.36 Q2522.24 1172.25 2522.24 1168.64 Q2522.24 1165.03 2519.9 1162.92 Q2517.56 1160.82 2513.56 1160.82 Q2511.68 1160.82 2509.81 1161.23 Q2507.96 1161.65 2506.01 1162.53 L2506.01 1145.17 Z\" fill=\"#000000\" fill-rule=\"evenodd\" fill-opacity=\"1\" /><path clip-path=\"url(#clip480)\" d=\"M3230.5 1175.79 L3238.14 1175.79 L3238.14 1149.43 L3229.83 1151.09 L3229.83 1146.83 L3238.09 1145.17 L3242.77 1145.17 L3242.77 1175.79 L3250.41 1175.79 L3250.41 1179.73 L3230.5 1179.73 L3230.5 1175.79 Z\" fill=\"#000000\" fill-rule=\"evenodd\" fill-opacity=\"1\" /><path clip-path=\"url(#clip480)\" d=\"M3269.85 1148.25 Q3266.24 1148.25 3264.41 1151.81 Q3262.6 1155.35 3262.6 1162.48 Q3262.6 1169.59 3264.41 1173.15 Q3266.24 1176.7 3269.85 1176.7 Q3273.48 1176.7 3275.29 1173.15 Q3277.12 1169.59 3277.12 1162.48 Q3277.12 1155.35 3275.29 1151.81 Q3273.48 1148.25 3269.85 1148.25 M3269.85 1144.54 Q3275.66 1144.54 3278.72 1149.15 Q3281.79 1153.73 3281.79 1162.48 Q3281.79 1171.21 3278.72 1175.82 Q3275.66 1180.4 3269.85 1180.4 Q3264.04 1180.4 3260.96 1175.82 Q3257.91 1171.21 3257.91 1162.48 Q3257.91 1153.73 3260.96 1149.15 Q3264.04 1144.54 3269.85 1144.54 Z\" fill=\"#000000\" fill-rule=\"evenodd\" fill-opacity=\"1\" /><path clip-path=\"url(#clip480)\" d=\"M3300.01 1148.25 Q3296.4 1148.25 3294.57 1151.81 Q3292.77 1155.35 3292.77 1162.48 Q3292.77 1169.59 3294.57 1173.15 Q3296.4 1176.7 3300.01 1176.7 Q3303.65 1176.7 3305.45 1173.15 Q3307.28 1169.59 3307.28 1162.48 Q3307.28 1155.35 3305.45 1151.81 Q3303.65 1148.25 3300.01 1148.25 M3300.01 1144.54 Q3305.82 1144.54 3308.88 1149.15 Q3311.96 1153.73 3311.96 1162.48 Q3311.96 1171.21 3308.88 1175.82 Q3305.82 1180.4 3300.01 1180.4 Q3294.2 1180.4 3291.12 1175.82 Q3288.07 1171.21 3288.07 1162.48 Q3288.07 1153.73 3291.12 1149.15 Q3294.2 1144.54 3300.01 1144.54 Z\" fill=\"#000000\" fill-rule=\"evenodd\" fill-opacity=\"1\" /><polyline clip-path=\"url(#clip482)\" style=\"stroke:#000000; stroke-linecap:round; stroke-linejoin:round; stroke-width:2; stroke-opacity:0.1; fill:none\" points=\"\n",
       "  124.177,880.15 3552.76,880.15 \n",
       "  \"/>\n",
       "<polyline clip-path=\"url(#clip482)\" style=\"stroke:#000000; stroke-linecap:round; stroke-linejoin:round; stroke-width:2; stroke-opacity:0.1; fill:none\" points=\"\n",
       "  124.177,651.771 3552.76,651.771 \n",
       "  \"/>\n",
       "<polyline clip-path=\"url(#clip482)\" style=\"stroke:#000000; stroke-linecap:round; stroke-linejoin:round; stroke-width:2; stroke-opacity:0.1; fill:none\" points=\"\n",
       "  124.177,423.391 3552.76,423.391 \n",
       "  \"/>\n",
       "<polyline clip-path=\"url(#clip482)\" style=\"stroke:#000000; stroke-linecap:round; stroke-linejoin:round; stroke-width:2; stroke-opacity:0.1; fill:none\" points=\"\n",
       "  124.177,195.012 3552.76,195.012 \n",
       "  \"/>\n",
       "<polyline clip-path=\"url(#clip480)\" style=\"stroke:#000000; stroke-linecap:round; stroke-linejoin:round; stroke-width:4; stroke-opacity:1; fill:none\" points=\"\n",
       "  124.177,1107.73 124.177,47.2441 \n",
       "  \"/>\n",
       "<polyline clip-path=\"url(#clip480)\" style=\"stroke:#000000; stroke-linecap:round; stroke-linejoin:round; stroke-width:4; stroke-opacity:1; fill:none\" points=\"\n",
       "  124.177,880.15 143.075,880.15 \n",
       "  \"/>\n",
       "<polyline clip-path=\"url(#clip480)\" style=\"stroke:#000000; stroke-linecap:round; stroke-linejoin:round; stroke-width:4; stroke-opacity:1; fill:none\" points=\"\n",
       "  124.177,651.771 143.075,651.771 \n",
       "  \"/>\n",
       "<polyline clip-path=\"url(#clip480)\" style=\"stroke:#000000; stroke-linecap:round; stroke-linejoin:round; stroke-width:4; stroke-opacity:1; fill:none\" points=\"\n",
       "  124.177,423.391 143.075,423.391 \n",
       "  \"/>\n",
       "<polyline clip-path=\"url(#clip480)\" style=\"stroke:#000000; stroke-linecap:round; stroke-linejoin:round; stroke-width:4; stroke-opacity:1; fill:none\" points=\"\n",
       "  124.177,195.012 143.075,195.012 \n",
       "  \"/>\n",
       "<path clip-path=\"url(#clip480)\" d=\"M53.8578 893.495 L70.1772 893.495 L70.1772 897.43 L48.2328 897.43 L48.2328 893.495 Q50.8949 890.74 55.4782 886.11 Q60.0846 881.458 61.2652 880.115 Q63.5105 877.592 64.3902 875.856 Q65.2929 874.097 65.2929 872.407 Q65.2929 869.652 63.3485 867.916 Q61.4272 866.18 58.3254 866.18 Q56.1263 866.18 53.6726 866.944 Q51.2421 867.708 48.4643 869.259 L48.4643 864.536 Q51.2884 863.402 53.7421 862.824 Q56.1958 862.245 58.2328 862.245 Q63.6031 862.245 66.7976 864.93 Q69.992 867.615 69.992 872.106 Q69.992 874.236 69.1818 876.157 Q68.3948 878.055 66.2883 880.648 Q65.7096 881.319 62.6078 884.536 Q59.5059 887.731 53.8578 893.495 Z\" fill=\"#000000\" fill-rule=\"evenodd\" fill-opacity=\"1\" /><path clip-path=\"url(#clip480)\" d=\"M60.5939 638.565 L48.7884 657.014 L60.5939 657.014 L60.5939 638.565 M59.367 634.491 L65.2466 634.491 L65.2466 657.014 L70.1772 657.014 L70.1772 660.903 L65.2466 660.903 L65.2466 669.051 L60.5939 669.051 L60.5939 660.903 L44.9921 660.903 L44.9921 656.389 L59.367 634.491 Z\" fill=\"#000000\" fill-rule=\"evenodd\" fill-opacity=\"1\" /><path clip-path=\"url(#clip480)\" d=\"M58.6495 421.528 Q55.5013 421.528 53.6495 423.681 Q51.8208 425.834 51.8208 429.584 Q51.8208 433.31 53.6495 435.486 Q55.5013 437.639 58.6495 437.639 Q61.7976 437.639 63.6263 435.486 Q65.4781 433.31 65.4781 429.584 Q65.4781 425.834 63.6263 423.681 Q61.7976 421.528 58.6495 421.528 M67.9318 406.875 L67.9318 411.135 Q66.1726 410.301 64.367 409.861 Q62.5846 409.422 60.8254 409.422 Q56.1958 409.422 53.7421 412.547 Q51.3115 415.672 50.9643 421.991 Q52.33 419.977 54.3902 418.912 Q56.4504 417.824 58.9272 417.824 Q64.1355 417.824 67.1448 420.996 Q70.1772 424.144 70.1772 429.584 Q70.1772 434.908 67.029 438.125 Q63.8809 441.343 58.6495 441.343 Q52.6541 441.343 49.4828 436.759 Q46.3116 432.153 46.3116 423.426 Q46.3116 415.232 50.2004 410.371 Q54.0893 405.486 60.6402 405.486 Q62.3994 405.486 64.1818 405.834 Q65.9874 406.181 67.9318 406.875 Z\" fill=\"#000000\" fill-rule=\"evenodd\" fill-opacity=\"1\" /><path clip-path=\"url(#clip480)\" d=\"M58.3254 195.88 Q54.9921 195.88 53.0708 197.663 Q51.1726 199.445 51.1726 202.57 Q51.1726 205.695 53.0708 207.477 Q54.9921 209.26 58.3254 209.26 Q61.6587 209.26 63.58 207.477 Q65.5013 205.672 65.5013 202.57 Q65.5013 199.445 63.58 197.663 Q61.6819 195.88 58.3254 195.88 M53.6495 193.89 Q50.6402 193.149 48.9504 191.089 Q47.2838 189.029 47.2838 186.066 Q47.2838 181.922 50.2236 179.515 Q53.1865 177.107 58.3254 177.107 Q63.4874 177.107 66.4272 179.515 Q69.367 181.922 69.367 186.066 Q69.367 189.029 67.6772 191.089 Q66.0105 193.149 63.0244 193.89 Q66.404 194.677 68.279 196.968 Q70.1772 199.26 70.1772 202.57 Q70.1772 207.593 67.0985 210.278 Q64.0429 212.964 58.3254 212.964 Q52.6078 212.964 49.5291 210.278 Q46.4736 207.593 46.4736 202.57 Q46.4736 199.26 48.3717 196.968 Q50.2699 194.677 53.6495 193.89 M51.9365 186.505 Q51.9365 189.191 53.6032 190.695 Q55.293 192.2 58.3254 192.2 Q61.3346 192.2 63.0244 190.695 Q64.7374 189.191 64.7374 186.505 Q64.7374 183.82 63.0244 182.316 Q61.3346 180.811 58.3254 180.811 Q55.293 180.811 53.6032 182.316 Q51.9365 183.82 51.9365 186.505 Z\" fill=\"#000000\" fill-rule=\"evenodd\" fill-opacity=\"1\" /><polyline clip-path=\"url(#clip482)\" style=\"stroke:#009af9; stroke-linecap:round; stroke-linejoin:round; stroke-width:4; stroke-opacity:1; fill:none\" points=\"\n",
       "  221.212,571.788 252.017,457.598 282.822,460.797 313.627,826.032 344.432,1019.25 375.237,1027.96 406.041,690.256 436.846,745.483 467.651,941.595 498.456,188.7 \n",
       "  529.261,694.156 560.066,1004.56 590.871,1009.4 621.675,1013.8 652.48,251.897 683.285,845.17 714.09,929.584 744.895,970.525 775.7,616.163 806.504,1006.86 \n",
       "  837.309,1029.6 868.114,850.069 898.919,752.899 929.724,1051.2 960.529,749.925 991.333,1016.3 1022.14,656.343 1052.94,989.264 1083.75,943.657 1114.55,930.025 \n",
       "  1145.36,1005.67 1176.16,994.676 1206.97,992.572 1237.77,892.956 1268.58,839.949 1299.38,1048.73 1330.19,1022.2 1360.99,1035.33 1391.8,77.2578 1422.6,517.67 \n",
       "  1453.41,158.251 1484.21,290.782 1515.02,600.288 1545.82,749.536 1576.63,1017.94 1607.43,987.843 1638.24,968.995 1669.04,789.721 1699.84,483.318 1730.65,738.272 \n",
       "  1761.45,783.299 1792.26,867.58 1823.06,967.866 1853.87,364.773 1884.67,992.887 1915.48,995.506 1946.28,399.668 1977.09,101.676 2007.89,557.242 2038.7,481.824 \n",
       "  2069.5,783.604 2100.31,662.011 2131.11,870.506 2161.92,906.263 2192.72,1009.76 2223.53,994.339 2254.33,865.49 2285.14,1056.55 2315.94,925.844 2346.75,1025.24 \n",
       "  2377.55,995.379 2408.36,490.556 2439.16,1060.26 2469.97,836.041 2500.77,1034.85 2531.58,808.715 2562.38,668.359 2593.19,1048.82 2623.99,575.839 2654.79,461.295 \n",
       "  2685.6,545.31 2716.4,933.783 2747.21,1077.71 2778.01,949.292 2808.82,1057.07 2839.62,1042.19 2870.43,818.67 2901.23,992.772 2932.04,1016.36 2962.84,1007.21 \n",
       "  2993.65,1036.19 3024.45,1037.27 3055.26,999.282 3086.06,780.758 3116.87,651.771 3147.67,995.145 3178.48,866.07 3209.28,990.635 3240.09,1023.44 3270.89,1011.04 \n",
       "  3301.7,675.226 3332.5,1016.19 3363.31,692.994 3394.11,835.203 3424.92,993.975 3455.72,1012.14 \n",
       "  \"/>\n",
       "<polyline clip-path=\"url(#clip482)\" style=\"stroke:#e26f46; stroke-linecap:round; stroke-linejoin:round; stroke-width:4; stroke-opacity:1; fill:none\" points=\"\n",
       "  221.212,571.788 252.017,457.598 282.822,460.797 313.627,826.032 344.432,1019.25 375.237,1027.96 406.041,690.257 436.846,745.483 467.651,941.595 498.456,188.7 \n",
       "  529.261,694.156 560.066,1004.56 590.871,1009.4 621.675,1013.8 652.48,251.897 683.285,845.17 714.09,929.584 744.895,970.525 775.7,616.163 806.504,1006.86 \n",
       "  837.309,1029.6 868.114,850.069 898.919,752.899 929.724,1051.2 960.529,749.925 991.333,1016.3 1022.14,656.343 1052.94,989.264 1083.75,943.657 1114.55,930.025 \n",
       "  1145.36,1005.67 1176.16,994.676 1206.97,992.572 1237.77,892.956 1268.58,839.949 1299.38,1048.73 1330.19,1022.2 1360.99,1035.33 1391.8,155.596 1422.6,517.67 \n",
       "  1453.41,158.251 1484.21,290.782 1515.02,600.288 1545.82,749.536 1576.63,1017.94 1607.43,987.843 1638.24,968.995 1669.04,789.721 1699.84,483.318 1730.65,738.272 \n",
       "  1761.45,783.299 1792.26,867.58 1823.06,967.866 1853.87,364.773 1884.67,992.887 1915.48,995.506 1946.28,399.668 1977.09,101.676 2007.89,557.242 2038.7,481.824 \n",
       "  2069.5,783.604 2100.31,662.011 2131.11,870.506 2161.92,906.263 2192.72,1009.76 2223.53,994.339 2254.33,865.49 2285.14,1056.55 2315.94,925.844 2346.75,1025.24 \n",
       "  2377.55,1040.85 2408.36,490.556 2439.16,1060.26 2469.97,836.041 2500.77,1034.85 2531.58,808.715 2562.38,668.359 2593.19,1048.82 2623.99,575.839 2654.79,461.295 \n",
       "  2685.6,545.31 2716.4,933.783 2747.21,1077.71 2778.01,949.292 2808.82,1057.07 2839.62,1060.83 2870.43,818.67 2901.23,992.772 2932.04,1016.36 2962.84,1007.21 \n",
       "  2993.65,1036.19 3024.45,1037.27 3055.26,1071.38 3086.06,780.758 3116.87,651.771 3147.67,995.145 3178.48,866.07 3209.28,990.635 3240.09,1023.44 3270.89,1011.04 \n",
       "  3301.7,746.808 3332.5,1016.19 3363.31,746.865 3394.11,835.203 3424.92,993.975 3455.72,1012.14 \n",
       "  \"/>\n",
       "<polyline clip-path=\"url(#clip482)\" style=\"stroke:#3da44d; stroke-linecap:round; stroke-linejoin:round; stroke-width:8; stroke-opacity:1; fill:none\" points=\"\n",
       "  221.212,2168.21 221.212,-1013.24 \n",
       "  \"/>\n",
       "<polyline clip-path=\"url(#clip482)\" style=\"stroke:#3da44d; stroke-linecap:round; stroke-linejoin:round; stroke-width:8; stroke-opacity:1; fill:none\" points=\"\n",
       "  683.285,2168.21 683.285,-1013.24 \n",
       "  \"/>\n",
       "<polyline clip-path=\"url(#clip482)\" style=\"stroke:#3da44d; stroke-linecap:round; stroke-linejoin:round; stroke-width:8; stroke-opacity:1; fill:none\" points=\"\n",
       "  991.333,2168.21 991.333,-1013.24 \n",
       "  \"/>\n",
       "<polyline clip-path=\"url(#clip482)\" style=\"stroke:#3da44d; stroke-linecap:round; stroke-linejoin:round; stroke-width:8; stroke-opacity:1; fill:none\" points=\"\n",
       "  1453.41,2168.21 1453.41,-1013.24 \n",
       "  \"/>\n",
       "<polyline clip-path=\"url(#clip482)\" style=\"stroke:#3da44d; stroke-linecap:round; stroke-linejoin:round; stroke-width:8; stroke-opacity:1; fill:none\" points=\"\n",
       "  1853.87,2168.21 1853.87,-1013.24 \n",
       "  \"/>\n",
       "<polyline clip-path=\"url(#clip482)\" style=\"stroke:#3da44d; stroke-linecap:round; stroke-linejoin:round; stroke-width:8; stroke-opacity:1; fill:none\" points=\"\n",
       "  2254.33,2168.21 2254.33,-1013.24 \n",
       "  \"/>\n",
       "<polyline clip-path=\"url(#clip482)\" style=\"stroke:#3da44d; stroke-linecap:round; stroke-linejoin:round; stroke-width:8; stroke-opacity:1; fill:none\" points=\"\n",
       "  2654.79,2168.21 2654.79,-1013.24 \n",
       "  \"/>\n",
       "<polyline clip-path=\"url(#clip482)\" style=\"stroke:#3da44d; stroke-linecap:round; stroke-linejoin:round; stroke-width:8; stroke-opacity:1; fill:none\" points=\"\n",
       "  3086.06,2168.21 3086.06,-1013.24 \n",
       "  \"/>\n",
       "<path clip-path=\"url(#clip480)\" d=\"\n",
       "M3042.6 289.954 L3438.47 289.954 L3438.47 82.5936 L3042.6 82.5936  Z\n",
       "  \" fill=\"#ffffff\" fill-rule=\"evenodd\" fill-opacity=\"1\"/>\n",
       "<polyline clip-path=\"url(#clip480)\" style=\"stroke:#000000; stroke-linecap:round; stroke-linejoin:round; stroke-width:4; stroke-opacity:1; fill:none\" points=\"\n",
       "  3042.6,289.954 3438.47,289.954 3438.47,82.5936 3042.6,82.5936 3042.6,289.954 \n",
       "  \"/>\n",
       "<polyline clip-path=\"url(#clip480)\" style=\"stroke:#009af9; stroke-linecap:round; stroke-linejoin:round; stroke-width:4; stroke-opacity:1; fill:none\" points=\"\n",
       "  3080.7,134.434 3309.27,134.434 \n",
       "  \"/>\n",
       "<path clip-path=\"url(#clip480)\" d=\"M3361.21 154.121 Q3359.4 158.751 3357.69 160.163 Q3355.98 161.575 3353.11 161.575 L3349.7 161.575 L3349.7 158.01 L3352.2 158.01 Q3353.96 158.01 3354.94 157.176 Q3355.91 156.343 3357.09 153.241 L3357.85 151.297 L3347.37 125.788 L3351.88 125.788 L3359.98 146.065 L3368.08 125.788 L3372.6 125.788 L3361.21 154.121 Z\" fill=\"#000000\" fill-rule=\"evenodd\" fill-opacity=\"1\" /><path clip-path=\"url(#clip480)\" d=\"M3379.89 147.778 L3387.53 147.778 L3387.53 121.413 L3379.22 123.079 L3379.22 118.82 L3387.48 117.154 L3392.16 117.154 L3392.16 147.778 L3399.8 147.778 L3399.8 151.714 L3379.89 151.714 L3379.89 147.778 Z\" fill=\"#000000\" fill-rule=\"evenodd\" fill-opacity=\"1\" /><polyline clip-path=\"url(#clip480)\" style=\"stroke:#e26f46; stroke-linecap:round; stroke-linejoin:round; stroke-width:4; stroke-opacity:1; fill:none\" points=\"\n",
       "  3080.7,186.274 3309.27,186.274 \n",
       "  \"/>\n",
       "<path clip-path=\"url(#clip480)\" d=\"M3361.21 205.961 Q3359.4 210.591 3357.69 212.003 Q3355.98 213.415 3353.11 213.415 L3349.7 213.415 L3349.7 209.85 L3352.2 209.85 Q3353.96 209.85 3354.94 209.016 Q3355.91 208.183 3357.09 205.081 L3357.85 203.137 L3347.37 177.628 L3351.88 177.628 L3359.98 197.905 L3368.08 177.628 L3372.6 177.628 L3361.21 205.961 Z\" fill=\"#000000\" fill-rule=\"evenodd\" fill-opacity=\"1\" /><path clip-path=\"url(#clip480)\" d=\"M3383.11 199.618 L3399.43 199.618 L3399.43 203.554 L3377.48 203.554 L3377.48 199.618 Q3380.14 196.864 3384.73 192.234 Q3389.33 187.581 3390.51 186.239 Q3392.76 183.716 3393.64 181.98 Q3394.54 180.22 3394.54 178.531 Q3394.54 175.776 3392.6 174.04 Q3390.68 172.304 3387.57 172.304 Q3385.37 172.304 3382.92 173.068 Q3380.49 173.831 3377.71 175.382 L3377.71 170.66 Q3380.54 169.526 3382.99 168.947 Q3385.44 168.369 3387.48 168.369 Q3392.85 168.369 3396.05 171.054 Q3399.24 173.739 3399.24 178.23 Q3399.24 180.359 3398.43 182.281 Q3397.64 184.179 3395.54 186.771 Q3394.96 187.443 3391.86 190.66 Q3388.75 193.855 3383.11 199.618 Z\" fill=\"#000000\" fill-rule=\"evenodd\" fill-opacity=\"1\" /><polyline clip-path=\"url(#clip480)\" style=\"stroke:#3da44d; stroke-linecap:round; stroke-linejoin:round; stroke-width:8; stroke-opacity:1; fill:none\" points=\"\n",
       "  3080.7,238.114 3309.27,238.114 \n",
       "  \"/>\n",
       "<path clip-path=\"url(#clip480)\" d=\"M3361.21 257.801 Q3359.4 262.431 3357.69 263.843 Q3355.98 265.255 3353.11 265.255 L3349.7 265.255 L3349.7 261.69 L3352.2 261.69 Q3353.96 261.69 3354.94 260.856 Q3355.91 260.023 3357.09 256.921 L3357.85 254.977 L3347.37 229.468 L3351.88 229.468 L3359.98 249.745 L3368.08 229.468 L3372.6 229.468 L3361.21 257.801 Z\" fill=\"#000000\" fill-rule=\"evenodd\" fill-opacity=\"1\" /><path clip-path=\"url(#clip480)\" d=\"M3393.25 236.759 Q3396.6 237.477 3398.48 239.745 Q3400.37 242.014 3400.37 245.347 Q3400.37 250.463 3396.86 253.264 Q3393.34 256.065 3386.86 256.065 Q3384.68 256.065 3382.37 255.625 Q3380.07 255.208 3377.62 254.352 L3377.62 249.838 Q3379.56 250.972 3381.88 251.551 Q3384.19 252.13 3386.72 252.13 Q3391.12 252.13 3393.41 250.394 Q3395.72 248.657 3395.72 245.347 Q3395.72 242.292 3393.57 240.579 Q3391.44 238.843 3387.62 238.843 L3383.59 238.843 L3383.59 235 L3387.81 235 Q3391.25 235 3393.08 233.634 Q3394.91 232.246 3394.91 229.653 Q3394.91 226.991 3393.01 225.579 Q3391.14 224.144 3387.62 224.144 Q3385.7 224.144 3383.5 224.56 Q3381.3 224.977 3378.66 225.857 L3378.66 221.69 Q3381.32 220.949 3383.64 220.579 Q3385.98 220.209 3388.04 220.209 Q3393.36 220.209 3396.46 222.639 Q3399.56 225.046 3399.56 229.167 Q3399.56 232.037 3397.92 234.028 Q3396.28 235.996 3393.25 236.759 Z\" fill=\"#000000\" fill-rule=\"evenodd\" fill-opacity=\"1\" /></svg>\n"
      ]
     },
     "execution_count": 8,
     "metadata": {},
     "output_type": "execute_result"
    }
   ],
   "source": [
    "plot(idyom_ic[1:106])\n",
    "plot!(pitch_table.IC[1:106])\n",
    "phrases = findall(x->x==1,idyom_data[!,\"phrase\"][1:106]);\n",
    "vline!(phrases, lw = 2)\n",
    "plot!(size=(900,300))"
   ]
  },
  {
   "cell_type": "markdown",
   "metadata": {},
   "source": [
    "### Discussion \n",
    "\n",
    "Idyoms implements, as faithfully as possible, the formulas of Pearce (2005). However, there are still some discrepencies in the values obtained from the two implementations. This is most likely due to the fact that, in Idyoms, NGrams and Views can be constructed from two different viewpoints: one for the target elements and one for the context elements. The result is that the way NGrams are counted, and the way NGram counts are updated, is slightly different in certain senarios. Exactly what is going on here is yet to be determined, but for now, the values are close enough to be confident that Idyoms is reasonably correct."
   ]
  }
 ],
 "metadata": {
  "kernelspec": {
   "display_name": "Julia 1.7.3",
   "language": "julia",
   "name": "julia-1.7"
  },
  "language_info": {
   "file_extension": ".jl",
   "mimetype": "application/julia",
   "name": "julia",
   "version": "1.7.3"
  }
 },
 "nbformat": 4,
 "nbformat_minor": 4
}
