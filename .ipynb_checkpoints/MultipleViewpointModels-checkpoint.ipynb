{
 "cells": [
  {
   "cell_type": "markdown",
   "metadata": {},
   "source": [
    "# Multiple Viewpoint Models"
   ]
  },
  {
   "cell_type": "code",
   "execution_count": 1,
   "metadata": {},
   "outputs": [],
   "source": [
    "using CSV, DataFrames, Plots\n",
    "using Chakra, Melch\n",
    "include(\"src/Idyoms.jl\")\n",
    "using Main.Idyoms"
   ]
  },
  {
   "cell_type": "markdown",
   "metadata": {},
   "source": [
    "### Initialise Melch data"
   ]
  },
  {
   "cell_type": "code",
   "execution_count": 2,
   "metadata": {},
   "outputs": [],
   "source": [
    "Melch.__INIT__(\"/Users/nick/Dropbox/MelchData\")\n",
    "nova = fnd(Melch.id(0),Melch)\n",
    "melodies = pts(nova)\n",
    "sequences = [sequence(pts(mel,Melch),Melch) for mel in melodies];"
   ]
  },
  {
   "cell_type": "markdown",
   "metadata": {},
   "source": [
    "### Define Viewpoints"
   ]
  },
  {
   "cell_type": "code",
   "execution_count": 3,
   "metadata": {},
   "outputs": [],
   "source": [
    "# Atomic Viewpoints\n",
    "PITCH = vp(Melch.CPITCH);\n",
    "DUR = vp(Melch.DUR);\n",
    "\n",
    "# Difference Viewpoints\n",
    "PDIFF = Chakra.diff(PITCH);\n",
    "DDIFF = Chakra.diff(DUR);\n",
    "\n",
    "# Linked Viewpoints\n",
    "PITCH_X_DUR = link(PITCH,DUR);\n",
    "PDIFF_X_DDIFF = link(PDIFF,DDIFF);"
   ]
  },
  {
   "cell_type": "markdown",
   "metadata": {},
   "source": [
    "### Define the source and target viewpoints"
   ]
  },
  {
   "cell_type": "code",
   "execution_count": 4,
   "metadata": {},
   "outputs": [],
   "source": [
    "# Target viewpoint: the viewpoint we want to predict.\n",
    "trg = DUR;\n",
    "\n",
    "# Source viewpoints: the viewpoints we wish to predict from. \n",
    "src = [PITCH,DUR,PDIFF,DDIFF];"
   ]
  },
  {
   "cell_type": "markdown",
   "metadata": {},
   "source": [
    "### Generate Views from Viewpoints"
   ]
  },
  {
   "cell_type": "code",
   "execution_count": 5,
   "metadata": {},
   "outputs": [],
   "source": [
    "# For each source viewpoint, we construct a view for each sequence.\n",
    "views = [[View(seq,s,trg) for seq in sequences] for s in src];"
   ]
  },
  {
   "cell_type": "markdown",
   "metadata": {},
   "source": [
    "### Generate predictions"
   ]
  },
  {
   "cell_type": "code",
   "execution_count": 6,
   "metadata": {},
   "outputs": [
    {
     "name": "stdout",
     "output_type": "stream",
     "text": [
      " 12.324374 seconds (98.27 M allocations: 9.601 GiB, 18.87% gc time, 18.96% compilation time)\n"
     ]
    }
   ],
   "source": [
    "a = Idyoms.get_alphabet(trg,sequences);\n",
    "b = Interpolated()\n",
    "e = A()\n",
    "u = true\n",
    "o = Bounded(5)\n",
    "\n",
    "@time models = [Idyoms.ppm_both(v,a,b,e,u,o) for v in views];"
   ]
  },
  {
   "cell_type": "code",
   "execution_count": 7,
   "metadata": {},
   "outputs": [
    {
     "name": "stdout",
     "output_type": "stream",
     "text": [
      "  0.626599 seconds (2.28 M allocations: 162.114 MiB, 7.49% gc time, 77.15% compilation time)\n"
     ]
    }
   ],
   "source": [
    "weight = 0\n",
    "\n",
    "@time m = Idyoms.combine_predictions(models,weight);"
   ]
  },
  {
   "cell_type": "code",
   "execution_count": 8,
   "metadata": {},
   "outputs": [
    {
     "data": {
      "text/plain": [
       "4-element Vector{Float64}:\n",
       " 1.7090163807733965\n",
       " 1.3519908056847632\n",
       " 1.701177930282903\n",
       " 1.4024012612320715"
      ]
     },
     "execution_count": 8,
     "metadata": {},
     "output_type": "execute_result"
    }
   ],
   "source": [
    "[Idyoms.mean_infcontent(m) for m in models]"
   ]
  },
  {
   "cell_type": "code",
   "execution_count": 9,
   "metadata": {},
   "outputs": [
    {
     "data": {
      "text/plain": [
       "1.4629036934216473"
      ]
     },
     "execution_count": 9,
     "metadata": {},
     "output_type": "execute_result"
    }
   ],
   "source": [
    "Idyoms.mean_infcontent(m)"
   ]
  },
  {
   "cell_type": "markdown",
   "metadata": {},
   "source": [
    "### Tabulate predictions\n",
    "\n",
    "We can display the prediction sequences as data frames using the todataframe function."
   ]
  },
  {
   "cell_type": "code",
   "execution_count": 10,
   "metadata": {},
   "outputs": [
    {
     "data": {
      "text/html": [
       "<div><div style = \"float: left;\"><span>8552×7 DataFrame</span></div><div style = \"float: right;\"><span style = \"font-style: italic;\">8527 rows omitted</span></div><div style = \"clear: both;\"></div></div><div class = \"data-frame\" style = \"overflow-x: scroll;\"><table class = \"data-frame\" style = \"margin-bottom: 6px;\"><thead><tr class = \"header\"><th class = \"rowNumber\" style = \"font-weight: bold; text-align: right;\">Row</th><th style = \"text-align: left;\">SeqID</th><th style = \"text-align: left;\">EventID</th><th style = \"text-align: left;\">Symbol</th><th style = \"text-align: left;\">Order</th><th style = \"text-align: left;\">Prob</th><th style = \"text-align: left;\">IC</th><th style = \"text-align: left;\">H</th></tr><tr class = \"subheader headerLastRow\"><th class = \"rowNumber\" style = \"font-weight: bold; text-align: right;\"></th><th title = \"Int64\" style = \"text-align: left;\">Int64</th><th title = \"Int64\" style = \"text-align: left;\">Int64</th><th title = \"Int64\" style = \"text-align: left;\">Int64</th><th title = \"Int64\" style = \"text-align: left;\">Int64</th><th title = \"Float64\" style = \"text-align: left;\">Float64</th><th title = \"Float64\" style = \"text-align: left;\">Float64</th><th title = \"Float64\" style = \"text-align: left;\">Float64</th></tr></thead><tbody><tr><td class = \"rowNumber\" style = \"font-weight: bold; text-align: right;\">1</td><td style = \"text-align: right;\">1</td><td style = \"text-align: right;\">1</td><td style = \"text-align: right;\">24</td><td style = \"text-align: right;\">0</td><td style = \"text-align: right;\">0.241378</td><td style = \"text-align: right;\">2.05063</td><td style = \"text-align: right;\">3.33679</td></tr><tr><td class = \"rowNumber\" style = \"font-weight: bold; text-align: right;\">2</td><td style = \"text-align: right;\">1</td><td style = \"text-align: right;\">2</td><td style = \"text-align: right;\">24</td><td style = \"text-align: right;\">1</td><td style = \"text-align: right;\">0.488687</td><td style = \"text-align: right;\">1.03302</td><td style = \"text-align: right;\">2.54561</td></tr><tr><td class = \"rowNumber\" style = \"font-weight: bold; text-align: right;\">3</td><td style = \"text-align: right;\">1</td><td style = \"text-align: right;\">3</td><td style = \"text-align: right;\">12</td><td style = \"text-align: right;\">2</td><td style = \"text-align: right;\">0.160779</td><td style = \"text-align: right;\">2.63685</td><td style = \"text-align: right;\">2.25298</td></tr><tr><td class = \"rowNumber\" style = \"font-weight: bold; text-align: right;\">4</td><td style = \"text-align: right;\">1</td><td style = \"text-align: right;\">4</td><td style = \"text-align: right;\">12</td><td style = \"text-align: right;\">3</td><td style = \"text-align: right;\">0.389379</td><td style = \"text-align: right;\">1.36075</td><td style = \"text-align: right;\">2.16799</td></tr><tr><td class = \"rowNumber\" style = \"font-weight: bold; text-align: right;\">5</td><td style = \"text-align: right;\">1</td><td style = \"text-align: right;\">5</td><td style = \"text-align: right;\">12</td><td style = \"text-align: right;\">4</td><td style = \"text-align: right;\">0.442686</td><td style = \"text-align: right;\">1.17564</td><td style = \"text-align: right;\">1.99542</td></tr><tr><td class = \"rowNumber\" style = \"font-weight: bold; text-align: right;\">6</td><td style = \"text-align: right;\">1</td><td style = \"text-align: right;\">6</td><td style = \"text-align: right;\">12</td><td style = \"text-align: right;\">4</td><td style = \"text-align: right;\">0.617341</td><td style = \"text-align: right;\">0.69586</td><td style = \"text-align: right;\">1.6996</td></tr><tr><td class = \"rowNumber\" style = \"font-weight: bold; text-align: right;\">7</td><td style = \"text-align: right;\">1</td><td style = \"text-align: right;\">7</td><td style = \"text-align: right;\">24</td><td style = \"text-align: right;\">4</td><td style = \"text-align: right;\">0.314534</td><td style = \"text-align: right;\">1.66871</td><td style = \"text-align: right;\">1.78838</td></tr><tr><td class = \"rowNumber\" style = \"font-weight: bold; text-align: right;\">8</td><td style = \"text-align: right;\">1</td><td style = \"text-align: right;\">8</td><td style = \"text-align: right;\">12</td><td style = \"text-align: right;\">4</td><td style = \"text-align: right;\">0.499065</td><td style = \"text-align: right;\">1.0027</td><td style = \"text-align: right;\">1.86043</td></tr><tr><td class = \"rowNumber\" style = \"font-weight: bold; text-align: right;\">9</td><td style = \"text-align: right;\">1</td><td style = \"text-align: right;\">9</td><td style = \"text-align: right;\">12</td><td style = \"text-align: right;\">4</td><td style = \"text-align: right;\">0.506243</td><td style = \"text-align: right;\">0.982099</td><td style = \"text-align: right;\">1.93883</td></tr><tr><td class = \"rowNumber\" style = \"font-weight: bold; text-align: right;\">10</td><td style = \"text-align: right;\">1</td><td style = \"text-align: right;\">10</td><td style = \"text-align: right;\">12</td><td style = \"text-align: right;\">4</td><td style = \"text-align: right;\">0.521313</td><td style = \"text-align: right;\">0.939778</td><td style = \"text-align: right;\">2.00509</td></tr><tr><td class = \"rowNumber\" style = \"font-weight: bold; text-align: right;\">11</td><td style = \"text-align: right;\">1</td><td style = \"text-align: right;\">11</td><td style = \"text-align: right;\">12</td><td style = \"text-align: right;\">4</td><td style = \"text-align: right;\">0.601694</td><td style = \"text-align: right;\">0.732898</td><td style = \"text-align: right;\">1.78826</td></tr><tr><td class = \"rowNumber\" style = \"font-weight: bold; text-align: right;\">12</td><td style = \"text-align: right;\">1</td><td style = \"text-align: right;\">12</td><td style = \"text-align: right;\">12</td><td style = \"text-align: right;\">4</td><td style = \"text-align: right;\">0.446745</td><td style = \"text-align: right;\">1.16248</td><td style = \"text-align: right;\">1.93742</td></tr><tr><td class = \"rowNumber\" style = \"font-weight: bold; text-align: right;\">13</td><td style = \"text-align: right;\">1</td><td style = \"text-align: right;\">13</td><td style = \"text-align: right;\">12</td><td style = \"text-align: right;\">4</td><td style = \"text-align: right;\">0.451781</td><td style = \"text-align: right;\">1.14631</td><td style = \"text-align: right;\">2.08659</td></tr><tr><td style = \"text-align: right;\">&vellip;</td><td style = \"text-align: right;\">&vellip;</td><td style = \"text-align: right;\">&vellip;</td><td style = \"text-align: right;\">&vellip;</td><td style = \"text-align: right;\">&vellip;</td><td style = \"text-align: right;\">&vellip;</td><td style = \"text-align: right;\">&vellip;</td><td style = \"text-align: right;\">&vellip;</td></tr><tr><td class = \"rowNumber\" style = \"font-weight: bold; text-align: right;\">8541</td><td style = \"text-align: right;\">152</td><td style = \"text-align: right;\">55</td><td style = \"text-align: right;\">12</td><td style = \"text-align: right;\">4</td><td style = \"text-align: right;\">0.591976</td><td style = \"text-align: right;\">0.75639</td><td style = \"text-align: right;\">1.59328</td></tr><tr><td class = \"rowNumber\" style = \"font-weight: bold; text-align: right;\">8542</td><td style = \"text-align: right;\">152</td><td style = \"text-align: right;\">56</td><td style = \"text-align: right;\">12</td><td style = \"text-align: right;\">4</td><td style = \"text-align: right;\">0.683625</td><td style = \"text-align: right;\">0.548723</td><td style = \"text-align: right;\">1.31068</td></tr><tr><td class = \"rowNumber\" style = \"font-weight: bold; text-align: right;\">8543</td><td style = \"text-align: right;\">152</td><td style = \"text-align: right;\">57</td><td style = \"text-align: right;\">12</td><td style = \"text-align: right;\">4</td><td style = \"text-align: right;\">0.400794</td><td style = \"text-align: right;\">1.31907</td><td style = \"text-align: right;\">1.70392</td></tr><tr><td class = \"rowNumber\" style = \"font-weight: bold; text-align: right;\">8544</td><td style = \"text-align: right;\">152</td><td style = \"text-align: right;\">58</td><td style = \"text-align: right;\">12</td><td style = \"text-align: right;\">4</td><td style = \"text-align: right;\">0.489295</td><td style = \"text-align: right;\">1.03122</td><td style = \"text-align: right;\">1.63152</td></tr><tr><td class = \"rowNumber\" style = \"font-weight: bold; text-align: right;\">8545</td><td style = \"text-align: right;\">152</td><td style = \"text-align: right;\">59</td><td style = \"text-align: right;\">12</td><td style = \"text-align: right;\">4</td><td style = \"text-align: right;\">0.544677</td><td style = \"text-align: right;\">0.876526</td><td style = \"text-align: right;\">1.60332</td></tr><tr><td class = \"rowNumber\" style = \"font-weight: bold; text-align: right;\">8546</td><td style = \"text-align: right;\">152</td><td style = \"text-align: right;\">60</td><td style = \"text-align: right;\">24</td><td style = \"text-align: right;\">4</td><td style = \"text-align: right;\">0.350154</td><td style = \"text-align: right;\">1.51394</td><td style = \"text-align: right;\">1.57611</td></tr><tr><td class = \"rowNumber\" style = \"font-weight: bold; text-align: right;\">8547</td><td style = \"text-align: right;\">152</td><td style = \"text-align: right;\">61</td><td style = \"text-align: right;\">12</td><td style = \"text-align: right;\">4</td><td style = \"text-align: right;\">0.553093</td><td style = \"text-align: right;\">0.854406</td><td style = \"text-align: right;\">1.67017</td></tr><tr><td class = \"rowNumber\" style = \"font-weight: bold; text-align: right;\">8548</td><td style = \"text-align: right;\">152</td><td style = \"text-align: right;\">62</td><td style = \"text-align: right;\">24</td><td style = \"text-align: right;\">4</td><td style = \"text-align: right;\">0.340314</td><td style = \"text-align: right;\">1.55506</td><td style = \"text-align: right;\">1.84464</td></tr><tr><td class = \"rowNumber\" style = \"font-weight: bold; text-align: right;\">8549</td><td style = \"text-align: right;\">152</td><td style = \"text-align: right;\">63</td><td style = \"text-align: right;\">12</td><td style = \"text-align: right;\">4</td><td style = \"text-align: right;\">0.63416</td><td style = \"text-align: right;\">0.657082</td><td style = \"text-align: right;\">1.59041</td></tr><tr><td class = \"rowNumber\" style = \"font-weight: bold; text-align: right;\">8550</td><td style = \"text-align: right;\">152</td><td style = \"text-align: right;\">64</td><td style = \"text-align: right;\">24</td><td style = \"text-align: right;\">4</td><td style = \"text-align: right;\">0.354685</td><td style = \"text-align: right;\">1.49539</td><td style = \"text-align: right;\">1.82612</td></tr><tr><td class = \"rowNumber\" style = \"font-weight: bold; text-align: right;\">8551</td><td style = \"text-align: right;\">152</td><td style = \"text-align: right;\">65</td><td style = \"text-align: right;\">12</td><td style = \"text-align: right;\">4</td><td style = \"text-align: right;\">0.637874</td><td style = \"text-align: right;\">0.648656</td><td style = \"text-align: right;\">1.57786</td></tr><tr><td class = \"rowNumber\" style = \"font-weight: bold; text-align: right;\">8552</td><td style = \"text-align: right;\">152</td><td style = \"text-align: right;\">66</td><td style = \"text-align: right;\">36</td><td style = \"text-align: right;\">4</td><td style = \"text-align: right;\">0.237965</td><td style = \"text-align: right;\">2.07118</td><td style = \"text-align: right;\">2.00852</td></tr></tbody></table></div>"
      ],
      "text/latex": [
       "\\begin{tabular}{r|ccccccc}\n",
       "\t& SeqID & EventID & Symbol & Order & Prob & IC & H\\\\\n",
       "\t\\hline\n",
       "\t& Int64 & Int64 & Int64 & Int64 & Float64 & Float64 & Float64\\\\\n",
       "\t\\hline\n",
       "\t1 & 1 & 1 & 24 & 0 & 0.241378 & 2.05063 & 3.33679 \\\\\n",
       "\t2 & 1 & 2 & 24 & 1 & 0.488687 & 1.03302 & 2.54561 \\\\\n",
       "\t3 & 1 & 3 & 12 & 2 & 0.160779 & 2.63685 & 2.25298 \\\\\n",
       "\t4 & 1 & 4 & 12 & 3 & 0.389379 & 1.36075 & 2.16799 \\\\\n",
       "\t5 & 1 & 5 & 12 & 4 & 0.442686 & 1.17564 & 1.99542 \\\\\n",
       "\t6 & 1 & 6 & 12 & 4 & 0.617341 & 0.69586 & 1.6996 \\\\\n",
       "\t7 & 1 & 7 & 24 & 4 & 0.314534 & 1.66871 & 1.78838 \\\\\n",
       "\t8 & 1 & 8 & 12 & 4 & 0.499065 & 1.0027 & 1.86043 \\\\\n",
       "\t9 & 1 & 9 & 12 & 4 & 0.506243 & 0.982099 & 1.93883 \\\\\n",
       "\t10 & 1 & 10 & 12 & 4 & 0.521313 & 0.939778 & 2.00509 \\\\\n",
       "\t11 & 1 & 11 & 12 & 4 & 0.601694 & 0.732898 & 1.78826 \\\\\n",
       "\t12 & 1 & 12 & 12 & 4 & 0.446745 & 1.16248 & 1.93742 \\\\\n",
       "\t13 & 1 & 13 & 12 & 4 & 0.451781 & 1.14631 & 2.08659 \\\\\n",
       "\t14 & 1 & 14 & 24 & 4 & 0.369043 & 1.43814 & 1.88466 \\\\\n",
       "\t15 & 1 & 15 & 24 & 4 & 0.413524 & 1.27396 & 1.78207 \\\\\n",
       "\t16 & 1 & 16 & 12 & 4 & 0.521263 & 0.939918 & 1.62244 \\\\\n",
       "\t17 & 1 & 17 & 12 & 4 & 0.606139 & 0.722279 & 1.649 \\\\\n",
       "\t18 & 1 & 18 & 24 & 4 & 0.352 & 1.50635 & 1.6848 \\\\\n",
       "\t19 & 1 & 19 & 24 & 4 & 0.402076 & 1.31446 & 2.05683 \\\\\n",
       "\t20 & 1 & 20 & 12 & 4 & 0.504475 & 0.987144 & 1.62547 \\\\\n",
       "\t21 & 1 & 21 & 12 & 4 & 0.597917 & 0.741982 & 1.64364 \\\\\n",
       "\t22 & 1 & 22 & 24 & 4 & 0.419254 & 1.2541 & 2.16686 \\\\\n",
       "\t23 & 1 & 23 & 12 & 4 & 0.435218 & 1.20019 & 1.76158 \\\\\n",
       "\t24 & 1 & 24 & 12 & 4 & 0.584597 & 0.774485 & 1.59506 \\\\\n",
       "\t25 & 1 & 25 & 36 & 4 & 0.0338987 & 4.88263 & 1.78634 \\\\\n",
       "\t26 & 1 & 26 & 12 & 4 & 0.604877 & 0.725287 & 1.46561 \\\\\n",
       "\t27 & 1 & 27 & 12 & 4 & 0.542694 & 0.881789 & 1.60475 \\\\\n",
       "\t28 & 1 & 28 & 12 & 4 & 0.531359 & 0.91224 & 1.76703 \\\\\n",
       "\t29 & 1 & 29 & 12 & 4 & 0.436684 & 1.19534 & 1.91346 \\\\\n",
       "\t30 & 1 & 30 & 12 & 4 & 0.504353 & 0.987494 & 1.79613 \\\\\n",
       "\t$\\dots$ & $\\dots$ & $\\dots$ & $\\dots$ & $\\dots$ & $\\dots$ & $\\dots$ & $\\dots$ \\\\\n",
       "\\end{tabular}\n"
      ],
      "text/plain": [
       "\u001b[1m8552×7 DataFrame\u001b[0m\n",
       "\u001b[1m  Row \u001b[0m│\u001b[1m SeqID \u001b[0m\u001b[1m EventID \u001b[0m\u001b[1m Symbol \u001b[0m\u001b[1m Order \u001b[0m\u001b[1m Prob     \u001b[0m\u001b[1m IC       \u001b[0m\u001b[1m H       \u001b[0m\n",
       "      │\u001b[90m Int64 \u001b[0m\u001b[90m Int64   \u001b[0m\u001b[90m Int64  \u001b[0m\u001b[90m Int64 \u001b[0m\u001b[90m Float64  \u001b[0m\u001b[90m Float64  \u001b[0m\u001b[90m Float64 \u001b[0m\n",
       "──────┼────────────────────────────────────────────────────────────\n",
       "    1 │     1        1      24      0  0.241378  2.05063   3.33679\n",
       "    2 │     1        2      24      1  0.488687  1.03302   2.54561\n",
       "    3 │     1        3      12      2  0.160779  2.63685   2.25298\n",
       "    4 │     1        4      12      3  0.389379  1.36075   2.16799\n",
       "    5 │     1        5      12      4  0.442686  1.17564   1.99542\n",
       "    6 │     1        6      12      4  0.617341  0.69586   1.6996\n",
       "    7 │     1        7      24      4  0.314534  1.66871   1.78838\n",
       "    8 │     1        8      12      4  0.499065  1.0027    1.86043\n",
       "    9 │     1        9      12      4  0.506243  0.982099  1.93883\n",
       "   10 │     1       10      12      4  0.521313  0.939778  2.00509\n",
       "   11 │     1       11      12      4  0.601694  0.732898  1.78826\n",
       "  ⋮   │   ⋮       ⋮       ⋮       ⋮       ⋮         ⋮         ⋮\n",
       " 8543 │   152       57      12      4  0.400794  1.31907   1.70392\n",
       " 8544 │   152       58      12      4  0.489295  1.03122   1.63152\n",
       " 8545 │   152       59      12      4  0.544677  0.876526  1.60332\n",
       " 8546 │   152       60      24      4  0.350154  1.51394   1.57611\n",
       " 8547 │   152       61      12      4  0.553093  0.854406  1.67017\n",
       " 8548 │   152       62      24      4  0.340314  1.55506   1.84464\n",
       " 8549 │   152       63      12      4  0.63416   0.657082  1.59041\n",
       " 8550 │   152       64      24      4  0.354685  1.49539   1.82612\n",
       " 8551 │   152       65      12      4  0.637874  0.648656  1.57786\n",
       " 8552 │   152       66      36      4  0.237965  2.07118   2.00852\n",
       "\u001b[36m                                                  8531 rows omitted\u001b[0m"
      ]
     },
     "execution_count": 10,
     "metadata": {},
     "output_type": "execute_result"
    }
   ],
   "source": [
    "tables = [Idyoms.todataframe(m) for m in models]\n",
    "t = Idyoms.todataframe(m)"
   ]
  },
  {
   "cell_type": "markdown",
   "metadata": {},
   "source": [
    "### Plot information content"
   ]
  },
  {
   "cell_type": "code",
   "execution_count": 11,
   "metadata": {},
   "outputs": [
    {
     "data": {
      "image/svg+xml": [
       "<?xml version=\"1.0\" encoding=\"utf-8\"?>\n",
       "<svg xmlns=\"http://www.w3.org/2000/svg\" xmlns:xlink=\"http://www.w3.org/1999/xlink\" width=\"900\" height=\"300\" viewBox=\"0 0 3600 1200\">\n",
       "<defs>\n",
       "  <clipPath id=\"clip010\">\n",
       "    <rect x=\"0\" y=\"0\" width=\"3600\" height=\"1200\"/>\n",
       "  </clipPath>\n",
       "</defs>\n",
       "<path clip-path=\"url(#clip010)\" d=\"\n",
       "M0 1200 L3600 1200 L3600 0 L0 0  Z\n",
       "  \" fill=\"#ffffff\" fill-rule=\"evenodd\" fill-opacity=\"1\"/>\n",
       "<defs>\n",
       "  <clipPath id=\"clip011\">\n",
       "    <rect x=\"720\" y=\"0\" width=\"2521\" height=\"1200\"/>\n",
       "  </clipPath>\n",
       "</defs>\n",
       "<path clip-path=\"url(#clip010)\" d=\"\n",
       "M124.177 1107.73 L3552.76 1107.73 L3552.76 47.2441 L124.177 47.2441  Z\n",
       "  \" fill=\"#ffffff\" fill-rule=\"evenodd\" fill-opacity=\"1\"/>\n",
       "<defs>\n",
       "  <clipPath id=\"clip012\">\n",
       "    <rect x=\"124\" y=\"47\" width=\"3430\" height=\"1061\"/>\n",
       "  </clipPath>\n",
       "</defs>\n",
       "<polyline clip-path=\"url(#clip012)\" style=\"stroke:#000000; stroke-linecap:round; stroke-linejoin:round; stroke-width:2; stroke-opacity:0.1; fill:none\" points=\"\n",
       "  190.408,1107.73 190.408,47.2441 \n",
       "  \"/>\n",
       "<polyline clip-path=\"url(#clip012)\" style=\"stroke:#000000; stroke-linecap:round; stroke-linejoin:round; stroke-width:2; stroke-opacity:0.1; fill:none\" points=\"\n",
       "  960.529,1107.73 960.529,47.2441 \n",
       "  \"/>\n",
       "<polyline clip-path=\"url(#clip012)\" style=\"stroke:#000000; stroke-linecap:round; stroke-linejoin:round; stroke-width:2; stroke-opacity:0.1; fill:none\" points=\"\n",
       "  1730.65,1107.73 1730.65,47.2441 \n",
       "  \"/>\n",
       "<polyline clip-path=\"url(#clip012)\" style=\"stroke:#000000; stroke-linecap:round; stroke-linejoin:round; stroke-width:2; stroke-opacity:0.1; fill:none\" points=\"\n",
       "  2500.77,1107.73 2500.77,47.2441 \n",
       "  \"/>\n",
       "<polyline clip-path=\"url(#clip012)\" style=\"stroke:#000000; stroke-linecap:round; stroke-linejoin:round; stroke-width:2; stroke-opacity:0.1; fill:none\" points=\"\n",
       "  3270.89,1107.73 3270.89,47.2441 \n",
       "  \"/>\n",
       "<polyline clip-path=\"url(#clip010)\" style=\"stroke:#000000; stroke-linecap:round; stroke-linejoin:round; stroke-width:4; stroke-opacity:1; fill:none\" points=\"\n",
       "  124.177,1107.73 3552.76,1107.73 \n",
       "  \"/>\n",
       "<polyline clip-path=\"url(#clip010)\" style=\"stroke:#000000; stroke-linecap:round; stroke-linejoin:round; stroke-width:4; stroke-opacity:1; fill:none\" points=\"\n",
       "  190.408,1107.73 190.408,1088.83 \n",
       "  \"/>\n",
       "<polyline clip-path=\"url(#clip010)\" style=\"stroke:#000000; stroke-linecap:round; stroke-linejoin:round; stroke-width:4; stroke-opacity:1; fill:none\" points=\"\n",
       "  960.529,1107.73 960.529,1088.83 \n",
       "  \"/>\n",
       "<polyline clip-path=\"url(#clip010)\" style=\"stroke:#000000; stroke-linecap:round; stroke-linejoin:round; stroke-width:4; stroke-opacity:1; fill:none\" points=\"\n",
       "  1730.65,1107.73 1730.65,1088.83 \n",
       "  \"/>\n",
       "<polyline clip-path=\"url(#clip010)\" style=\"stroke:#000000; stroke-linecap:round; stroke-linejoin:round; stroke-width:4; stroke-opacity:1; fill:none\" points=\"\n",
       "  2500.77,1107.73 2500.77,1088.83 \n",
       "  \"/>\n",
       "<polyline clip-path=\"url(#clip010)\" style=\"stroke:#000000; stroke-linecap:round; stroke-linejoin:round; stroke-width:4; stroke-opacity:1; fill:none\" points=\"\n",
       "  3270.89,1107.73 3270.89,1088.83 \n",
       "  \"/>\n",
       "<path clip-path=\"url(#clip010)\" d=\"M190.408 1148.25 Q186.796 1148.25 184.968 1151.81 Q183.162 1155.35 183.162 1162.48 Q183.162 1169.59 184.968 1173.15 Q186.796 1176.7 190.408 1176.7 Q194.042 1176.7 195.847 1173.15 Q197.676 1169.59 197.676 1162.48 Q197.676 1155.35 195.847 1151.81 Q194.042 1148.25 190.408 1148.25 M190.408 1144.54 Q196.218 1144.54 199.273 1149.15 Q202.352 1153.73 202.352 1162.48 Q202.352 1171.21 199.273 1175.82 Q196.218 1180.4 190.408 1180.4 Q184.597 1180.4 181.519 1175.82 Q178.463 1171.21 178.463 1162.48 Q178.463 1153.73 181.519 1149.15 Q184.597 1144.54 190.408 1144.54 Z\" fill=\"#000000\" fill-rule=\"evenodd\" fill-opacity=\"1\" /><path clip-path=\"url(#clip010)\" d=\"M939.8 1175.79 L956.119 1175.79 L956.119 1179.73 L934.175 1179.73 L934.175 1175.79 Q936.837 1173.04 941.42 1168.41 Q946.026 1163.76 947.207 1162.41 Q949.452 1159.89 950.332 1158.15 Q951.235 1156.39 951.235 1154.7 Q951.235 1151.95 949.29 1150.21 Q947.369 1148.48 944.267 1148.48 Q942.068 1148.48 939.614 1149.24 Q937.184 1150.01 934.406 1151.56 L934.406 1146.83 Q937.23 1145.7 939.684 1145.12 Q942.137 1144.54 944.175 1144.54 Q949.545 1144.54 952.739 1147.23 Q955.934 1149.91 955.934 1154.4 Q955.934 1156.53 955.124 1158.45 Q954.336 1160.35 952.23 1162.95 Q951.651 1163.62 948.549 1166.83 Q945.448 1170.03 939.8 1175.79 Z\" fill=\"#000000\" fill-rule=\"evenodd\" fill-opacity=\"1\" /><path clip-path=\"url(#clip010)\" d=\"M965.98 1145.17 L984.336 1145.17 L984.336 1149.1 L970.262 1149.1 L970.262 1157.58 Q971.281 1157.23 972.299 1157.07 Q973.318 1156.88 974.336 1156.88 Q980.123 1156.88 983.503 1160.05 Q986.883 1163.22 986.883 1168.64 Q986.883 1174.22 983.41 1177.32 Q979.938 1180.4 973.619 1180.4 Q971.443 1180.4 969.174 1180.03 Q966.929 1179.66 964.522 1178.92 L964.522 1174.22 Q966.605 1175.35 968.827 1175.91 Q971.049 1176.46 973.526 1176.46 Q977.531 1176.46 979.869 1174.36 Q982.207 1172.25 982.207 1168.64 Q982.207 1165.03 979.869 1162.92 Q977.531 1160.82 973.526 1160.82 Q971.651 1160.82 969.776 1161.23 Q967.924 1161.65 965.98 1162.53 L965.98 1145.17 Z\" fill=\"#000000\" fill-rule=\"evenodd\" fill-opacity=\"1\" /><path clip-path=\"url(#clip010)\" d=\"M1705.35 1145.17 L1723.71 1145.17 L1723.71 1149.1 L1709.63 1149.1 L1709.63 1157.58 Q1710.65 1157.23 1711.67 1157.07 Q1712.69 1156.88 1713.71 1156.88 Q1719.49 1156.88 1722.87 1160.05 Q1726.25 1163.22 1726.25 1168.64 Q1726.25 1174.22 1722.78 1177.32 Q1719.31 1180.4 1712.99 1180.4 Q1710.81 1180.4 1708.54 1180.03 Q1706.3 1179.66 1703.89 1178.92 L1703.89 1174.22 Q1705.97 1175.35 1708.2 1175.91 Q1710.42 1176.46 1712.9 1176.46 Q1716.9 1176.46 1719.24 1174.36 Q1721.58 1172.25 1721.58 1168.64 Q1721.58 1165.03 1719.24 1162.92 Q1716.9 1160.82 1712.9 1160.82 Q1711.02 1160.82 1709.15 1161.23 Q1707.29 1161.65 1705.35 1162.53 L1705.35 1145.17 Z\" fill=\"#000000\" fill-rule=\"evenodd\" fill-opacity=\"1\" /><path clip-path=\"url(#clip010)\" d=\"M1745.46 1148.25 Q1741.85 1148.25 1740.02 1151.81 Q1738.22 1155.35 1738.22 1162.48 Q1738.22 1169.59 1740.02 1173.15 Q1741.85 1176.7 1745.46 1176.7 Q1749.1 1176.7 1750.9 1173.15 Q1752.73 1169.59 1752.73 1162.48 Q1752.73 1155.35 1750.9 1151.81 Q1749.1 1148.25 1745.46 1148.25 M1745.46 1144.54 Q1751.27 1144.54 1754.33 1149.15 Q1757.41 1153.73 1757.41 1162.48 Q1757.41 1171.21 1754.33 1175.82 Q1751.27 1180.4 1745.46 1180.4 Q1739.65 1180.4 1736.58 1175.82 Q1733.52 1171.21 1733.52 1162.48 Q1733.52 1153.73 1736.58 1149.15 Q1739.65 1144.54 1745.46 1144.54 Z\" fill=\"#000000\" fill-rule=\"evenodd\" fill-opacity=\"1\" /><path clip-path=\"url(#clip010)\" d=\"M2474.62 1145.17 L2496.85 1145.17 L2496.85 1147.16 L2484.3 1179.73 L2479.42 1179.73 L2491.22 1149.1 L2474.62 1149.1 L2474.62 1145.17 Z\" fill=\"#000000\" fill-rule=\"evenodd\" fill-opacity=\"1\" /><path clip-path=\"url(#clip010)\" d=\"M2506.01 1145.17 L2524.37 1145.17 L2524.37 1149.1 L2510.3 1149.1 L2510.3 1157.58 Q2511.31 1157.23 2512.33 1157.07 Q2513.35 1156.88 2514.37 1156.88 Q2520.16 1156.88 2523.54 1160.05 Q2526.92 1163.22 2526.92 1168.64 Q2526.92 1174.22 2523.44 1177.32 Q2519.97 1180.4 2513.65 1180.4 Q2511.48 1180.4 2509.21 1180.03 Q2506.96 1179.66 2504.56 1178.92 L2504.56 1174.22 Q2506.64 1175.35 2508.86 1175.91 Q2511.08 1176.46 2513.56 1176.46 Q2517.56 1176.46 2519.9 1174.36 Q2522.24 1172.25 2522.24 1168.64 Q2522.24 1165.03 2519.9 1162.92 Q2517.56 1160.82 2513.56 1160.82 Q2511.68 1160.82 2509.81 1161.23 Q2507.96 1161.65 2506.01 1162.53 L2506.01 1145.17 Z\" fill=\"#000000\" fill-rule=\"evenodd\" fill-opacity=\"1\" /><path clip-path=\"url(#clip010)\" d=\"M3230.5 1175.79 L3238.14 1175.79 L3238.14 1149.43 L3229.83 1151.09 L3229.83 1146.83 L3238.09 1145.17 L3242.77 1145.17 L3242.77 1175.79 L3250.41 1175.79 L3250.41 1179.73 L3230.5 1179.73 L3230.5 1175.79 Z\" fill=\"#000000\" fill-rule=\"evenodd\" fill-opacity=\"1\" /><path clip-path=\"url(#clip010)\" d=\"M3269.85 1148.25 Q3266.24 1148.25 3264.41 1151.81 Q3262.6 1155.35 3262.6 1162.48 Q3262.6 1169.59 3264.41 1173.15 Q3266.24 1176.7 3269.85 1176.7 Q3273.48 1176.7 3275.29 1173.15 Q3277.12 1169.59 3277.12 1162.48 Q3277.12 1155.35 3275.29 1151.81 Q3273.48 1148.25 3269.85 1148.25 M3269.85 1144.54 Q3275.66 1144.54 3278.72 1149.15 Q3281.79 1153.73 3281.79 1162.48 Q3281.79 1171.21 3278.72 1175.82 Q3275.66 1180.4 3269.85 1180.4 Q3264.04 1180.4 3260.96 1175.82 Q3257.91 1171.21 3257.91 1162.48 Q3257.91 1153.73 3260.96 1149.15 Q3264.04 1144.54 3269.85 1144.54 Z\" fill=\"#000000\" fill-rule=\"evenodd\" fill-opacity=\"1\" /><path clip-path=\"url(#clip010)\" d=\"M3300.01 1148.25 Q3296.4 1148.25 3294.57 1151.81 Q3292.77 1155.35 3292.77 1162.48 Q3292.77 1169.59 3294.57 1173.15 Q3296.4 1176.7 3300.01 1176.7 Q3303.65 1176.7 3305.45 1173.15 Q3307.28 1169.59 3307.28 1162.48 Q3307.28 1155.35 3305.45 1151.81 Q3303.65 1148.25 3300.01 1148.25 M3300.01 1144.54 Q3305.82 1144.54 3308.88 1149.15 Q3311.96 1153.73 3311.96 1162.48 Q3311.96 1171.21 3308.88 1175.82 Q3305.82 1180.4 3300.01 1180.4 Q3294.2 1180.4 3291.12 1175.82 Q3288.07 1171.21 3288.07 1162.48 Q3288.07 1153.73 3291.12 1149.15 Q3294.2 1144.54 3300.01 1144.54 Z\" fill=\"#000000\" fill-rule=\"evenodd\" fill-opacity=\"1\" /><polyline clip-path=\"url(#clip012)\" style=\"stroke:#000000; stroke-linecap:round; stroke-linejoin:round; stroke-width:2; stroke-opacity:0.1; fill:none\" points=\"\n",
       "  124.177,941.454 3552.76,941.454 \n",
       "  \"/>\n",
       "<polyline clip-path=\"url(#clip012)\" style=\"stroke:#000000; stroke-linecap:round; stroke-linejoin:round; stroke-width:2; stroke-opacity:0.1; fill:none\" points=\"\n",
       "  124.177,768.928 3552.76,768.928 \n",
       "  \"/>\n",
       "<polyline clip-path=\"url(#clip012)\" style=\"stroke:#000000; stroke-linecap:round; stroke-linejoin:round; stroke-width:2; stroke-opacity:0.1; fill:none\" points=\"\n",
       "  124.177,596.403 3552.76,596.403 \n",
       "  \"/>\n",
       "<polyline clip-path=\"url(#clip012)\" style=\"stroke:#000000; stroke-linecap:round; stroke-linejoin:round; stroke-width:2; stroke-opacity:0.1; fill:none\" points=\"\n",
       "  124.177,423.877 3552.76,423.877 \n",
       "  \"/>\n",
       "<polyline clip-path=\"url(#clip012)\" style=\"stroke:#000000; stroke-linecap:round; stroke-linejoin:round; stroke-width:2; stroke-opacity:0.1; fill:none\" points=\"\n",
       "  124.177,251.351 3552.76,251.351 \n",
       "  \"/>\n",
       "<polyline clip-path=\"url(#clip012)\" style=\"stroke:#000000; stroke-linecap:round; stroke-linejoin:round; stroke-width:2; stroke-opacity:0.1; fill:none\" points=\"\n",
       "  124.177,78.8248 3552.76,78.8248 \n",
       "  \"/>\n",
       "<polyline clip-path=\"url(#clip010)\" style=\"stroke:#000000; stroke-linecap:round; stroke-linejoin:round; stroke-width:4; stroke-opacity:1; fill:none\" points=\"\n",
       "  124.177,1107.73 124.177,47.2441 \n",
       "  \"/>\n",
       "<polyline clip-path=\"url(#clip010)\" style=\"stroke:#000000; stroke-linecap:round; stroke-linejoin:round; stroke-width:4; stroke-opacity:1; fill:none\" points=\"\n",
       "  124.177,941.454 143.075,941.454 \n",
       "  \"/>\n",
       "<polyline clip-path=\"url(#clip010)\" style=\"stroke:#000000; stroke-linecap:round; stroke-linejoin:round; stroke-width:4; stroke-opacity:1; fill:none\" points=\"\n",
       "  124.177,768.928 143.075,768.928 \n",
       "  \"/>\n",
       "<polyline clip-path=\"url(#clip010)\" style=\"stroke:#000000; stroke-linecap:round; stroke-linejoin:round; stroke-width:4; stroke-opacity:1; fill:none\" points=\"\n",
       "  124.177,596.403 143.075,596.403 \n",
       "  \"/>\n",
       "<polyline clip-path=\"url(#clip010)\" style=\"stroke:#000000; stroke-linecap:round; stroke-linejoin:round; stroke-width:4; stroke-opacity:1; fill:none\" points=\"\n",
       "  124.177,423.877 143.075,423.877 \n",
       "  \"/>\n",
       "<polyline clip-path=\"url(#clip010)\" style=\"stroke:#000000; stroke-linecap:round; stroke-linejoin:round; stroke-width:4; stroke-opacity:1; fill:none\" points=\"\n",
       "  124.177,251.351 143.075,251.351 \n",
       "  \"/>\n",
       "<polyline clip-path=\"url(#clip010)\" style=\"stroke:#000000; stroke-linecap:round; stroke-linejoin:round; stroke-width:4; stroke-opacity:1; fill:none\" points=\"\n",
       "  124.177,78.8248 143.075,78.8248 \n",
       "  \"/>\n",
       "<path clip-path=\"url(#clip010)\" d=\"M50.2699 954.799 L57.9087 954.799 L57.9087 928.434 L49.5986 930.1 L49.5986 925.841 L57.8624 924.174 L62.5383 924.174 L62.5383 954.799 L70.1772 954.799 L70.1772 958.734 L50.2699 958.734 L50.2699 954.799 Z\" fill=\"#000000\" fill-rule=\"evenodd\" fill-opacity=\"1\" /><path clip-path=\"url(#clip010)\" d=\"M53.8578 782.273 L70.1772 782.273 L70.1772 786.208 L48.2328 786.208 L48.2328 782.273 Q50.8949 779.519 55.4782 774.889 Q60.0846 770.236 61.2652 768.894 Q63.5105 766.371 64.3902 764.635 Q65.2929 762.875 65.2929 761.185 Q65.2929 758.431 63.3485 756.695 Q61.4272 754.959 58.3254 754.959 Q56.1263 754.959 53.6726 755.723 Q51.2421 756.486 48.4643 758.037 L48.4643 753.315 Q51.2884 752.181 53.7421 751.602 Q56.1958 751.023 58.2328 751.023 Q63.6031 751.023 66.7976 753.709 Q69.992 756.394 69.992 760.885 Q69.992 763.014 69.1818 764.935 Q68.3948 766.834 66.2883 769.426 Q65.7096 770.097 62.6078 773.315 Q59.5059 776.509 53.8578 782.273 Z\" fill=\"#000000\" fill-rule=\"evenodd\" fill-opacity=\"1\" /><path clip-path=\"url(#clip010)\" d=\"M63.0476 595.048 Q66.404 595.766 68.279 598.035 Q70.1772 600.303 70.1772 603.636 Q70.1772 608.752 66.6587 611.553 Q63.1402 614.354 56.6587 614.354 Q54.4828 614.354 52.168 613.914 Q49.8764 613.497 47.4227 612.641 L47.4227 608.127 Q49.3671 609.261 51.6819 609.84 Q53.9967 610.419 56.5198 610.419 Q60.918 610.419 63.2096 608.683 Q65.5244 606.946 65.5244 603.636 Q65.5244 600.581 63.3717 598.868 Q61.242 597.132 57.4226 597.132 L53.3949 597.132 L53.3949 593.289 L57.6078 593.289 Q61.0569 593.289 62.8855 591.923 Q64.7142 590.535 64.7142 587.942 Q64.7142 585.28 62.8161 583.868 Q60.9411 582.433 57.4226 582.433 Q55.5013 582.433 53.3023 582.849 Q51.1032 583.266 48.4643 584.146 L48.4643 579.979 Q51.1264 579.238 53.4412 578.868 Q55.7791 578.498 57.8393 578.498 Q63.1633 578.498 66.2652 580.928 Q69.367 583.336 69.367 587.456 Q69.367 590.326 67.7235 592.317 Q66.08 594.285 63.0476 595.048 Z\" fill=\"#000000\" fill-rule=\"evenodd\" fill-opacity=\"1\" /><path clip-path=\"url(#clip010)\" d=\"M60.5939 410.671 L48.7884 429.12 L60.5939 429.12 L60.5939 410.671 M59.367 406.597 L65.2466 406.597 L65.2466 429.12 L70.1772 429.12 L70.1772 433.009 L65.2466 433.009 L65.2466 441.157 L60.5939 441.157 L60.5939 433.009 L44.9921 433.009 L44.9921 428.495 L59.367 406.597 Z\" fill=\"#000000\" fill-rule=\"evenodd\" fill-opacity=\"1\" /><path clip-path=\"url(#clip010)\" d=\"M49.2745 234.071 L67.6309 234.071 L67.6309 238.006 L53.5569 238.006 L53.5569 246.478 Q54.5754 246.131 55.5939 245.969 Q56.6124 245.784 57.6309 245.784 Q63.418 245.784 66.7976 248.955 Q70.1772 252.126 70.1772 257.543 Q70.1772 263.122 66.705 266.223 Q63.2328 269.302 56.9134 269.302 Q54.7374 269.302 52.4689 268.932 Q50.2236 268.561 47.8162 267.821 L47.8162 263.122 Q49.8995 264.256 52.1217 264.811 Q54.3439 265.367 56.8208 265.367 Q60.8254 265.367 63.1633 263.26 Q65.5013 261.154 65.5013 257.543 Q65.5013 253.932 63.1633 251.825 Q60.8254 249.719 56.8208 249.719 Q54.9458 249.719 53.0708 250.135 Q51.2189 250.552 49.2745 251.432 L49.2745 234.071 Z\" fill=\"#000000\" fill-rule=\"evenodd\" fill-opacity=\"1\" /><path clip-path=\"url(#clip010)\" d=\"M58.6495 76.9614 Q55.5013 76.9614 53.6495 79.1142 Q51.8208 81.267 51.8208 85.0169 Q51.8208 88.7438 53.6495 90.9197 Q55.5013 93.0724 58.6495 93.0724 Q61.7976 93.0724 63.6263 90.9197 Q65.4781 88.7438 65.4781 85.0169 Q65.4781 81.267 63.6263 79.1142 Q61.7976 76.9614 58.6495 76.9614 M67.9318 62.3087 L67.9318 66.568 Q66.1726 65.7346 64.367 65.2948 Q62.5846 64.855 60.8254 64.855 Q56.1958 64.855 53.7421 67.98 Q51.3115 71.105 50.9643 77.4244 Q52.33 75.4105 54.3902 74.3457 Q56.4504 73.2577 58.9272 73.2577 Q64.1355 73.2577 67.1448 76.429 Q70.1772 79.5772 70.1772 85.0169 Q70.1772 90.341 67.029 93.5586 Q63.8809 96.7761 58.6495 96.7761 Q52.6541 96.7761 49.4828 92.1928 Q46.3116 87.5864 46.3116 78.8596 Q46.3116 70.6652 50.2004 65.8041 Q54.0893 60.9198 60.6402 60.9198 Q62.3994 60.9198 64.1818 61.2671 Q65.9874 61.6143 67.9318 62.3087 Z\" fill=\"#000000\" fill-rule=\"evenodd\" fill-opacity=\"1\" /><polyline clip-path=\"url(#clip012)\" style=\"stroke:#009af9; stroke-linecap:round; stroke-linejoin:round; stroke-width:8; stroke-opacity:1; fill:none\" points=\"\n",
       "  221.212,760.193 252.017,935.758 282.822,659.055 313.627,879.215 344.432,911.151 375.237,993.926 406.041,826.084 436.846,940.989 467.651,944.543 498.456,951.844 \n",
       "  529.261,987.536 560.066,913.423 590.871,916.213 621.675,865.864 652.48,894.19 683.285,951.82 714.09,989.368 744.895,854.095 775.7,887.202 806.504,943.672 \n",
       "  837.309,985.969 868.114,897.615 898.919,906.917 929.724,980.362 960.529,271.6 991.333,988.849 1022.14,961.849 1052.94,956.595 1083.75,907.753 1114.55,943.612 \n",
       "  1145.36,914.482 1176.16,988.359 1206.97,968.338 1237.77,972.505 1268.58,956.385 1299.38,982.639 1330.19,966.259 1360.99,971.275 1391.8,941.194 1422.6,981.673 \n",
       "  1453.41,1000.34 1484.21,991.355 1515.02,980.974 1545.82,999.714 1576.63,1001.39 1607.43,963.868 1638.24,837.141 1669.04,967.796 1699.84,995.538 1730.65,945.799 \n",
       "  1761.45,1016.47 1792.26,817.299 1823.06,305.926 1853.87,987.357 1884.67,968.375 1915.48,982.41 1946.28,995.936 1977.09,998.74 2007.89,799.988 2038.7,953.139 \n",
       "  2069.5,1002.09 2100.31,940.89 2131.11,1021.24 2161.92,999.172 2192.72,990.448 2223.53,357.844 2254.33,1001.4 2285.14,996.987 2315.94,1009.76 2346.75,987.943 \n",
       "  2377.55,913.467 2408.36,983.345 2439.16,943.617 2469.97,1002.05 2500.77,973.683 2531.58,984.648 2562.38,994.785 2593.19,1008.96 2623.99,770.679 2654.79,970.5 \n",
       "  2685.6,1006.68 2716.4,979.131 2747.21,1026.79 2778.01,1004.05 2808.82,982.26 2839.62,832.386 2870.43,980.1 2901.23,1005.07 2932.04,960.467 2962.84,1025.7 \n",
       "  2993.65,995.829 3024.45,987.656 3055.26,844.051 3086.06,987.19 3116.87,984.311 3147.67,981.241 3178.48,1036.45 3209.28,998.68 3240.09,967.384 3270.89,941.13 \n",
       "  3301.7,968.01 3332.5,1002.31 3363.31,980.243 3394.11,799.357 3424.92,802.898 3455.72,421.879 \n",
       "  \"/>\n",
       "<polyline clip-path=\"url(#clip012)\" style=\"stroke:#e26f46; stroke-linecap:round; stroke-linejoin:round; stroke-width:2.8; stroke-opacity:1; fill:none\" points=\"\n",
       "  221.212,759.894 252.017,931.036 282.822,698.669 313.627,818.837 344.432,929.173 375.237,946.607 406.041,827.095 436.846,915.753 467.651,885.327 498.456,959.846 \n",
       "  529.261,964.054 560.066,966.993 590.871,981.071 621.675,846.452 652.48,969.341 683.285,979.218 714.09,929.432 744.895,805.575 775.7,846.046 806.504,953.682 \n",
       "  837.309,915.977 868.114,812.491 898.919,989.512 929.724,938.717 960.529,262.889 991.333,984.72 1022.14,949.403 1052.94,951.522 1083.75,900.252 1114.55,957.479 \n",
       "  1145.36,922.276 1176.16,1009.35 1206.97,976.14 1237.77,969.494 1268.58,959.754 1299.38,969.783 1330.19,933.089 1360.99,937.699 1391.8,840.605 1422.6,979.832 \n",
       "  1453.41,1037.34 1484.21,934.378 1515.02,943.574 1545.82,995.219 1576.63,993.32 1607.43,903.064 1638.24,900.087 1669.04,901.223 1699.84,991.563 1730.65,994.509 \n",
       "  1761.45,946.329 1792.26,827.212 1823.06,324.76 1853.87,949.378 1884.67,980.817 1915.48,954.306 1946.28,989.269 1977.09,993.936 2007.89,846.572 2038.7,986.671 \n",
       "  2069.5,977.226 2100.31,936.564 2131.11,990.283 2161.92,993.421 2192.72,994.002 2223.53,245.292 2254.33,981.674 2285.14,943.116 2315.94,992.99 2346.75,989.531 \n",
       "  2377.55,846.167 2408.36,989.17 2439.16,834.073 2469.97,1011.07 2500.77,943.402 2531.58,990.274 2562.38,1013.92 2593.19,1025.36 2623.99,739.745 2654.79,993.302 \n",
       "  2685.6,1001.43 2716.4,1003.5 2747.21,972.941 2778.01,1028.65 2808.82,997.573 2839.62,877.245 2870.43,994.052 2901.23,967.948 2932.04,942.581 2962.84,994.964 \n",
       "  2993.65,992.382 3024.45,998.279 3055.26,919.573 3086.06,997.019 3116.87,934.329 3147.67,980.538 3178.48,1013.86 3209.28,1037.79 3240.09,943.043 3270.89,881.627 \n",
       "  3301.7,933.899 3332.5,1022.8 3363.31,958.972 3394.11,791.278 3424.92,762.081 3455.72,368.809 \n",
       "  \"/>\n",
       "<polyline clip-path=\"url(#clip012)\" style=\"stroke:#3da44d; stroke-linecap:round; stroke-linejoin:round; stroke-width:2.8; stroke-opacity:1; fill:none\" points=\"\n",
       "  221.212,759.894 252.017,954.84 282.822,508.414 313.627,887.756 344.432,924.907 375.237,1040.28 406.041,756.547 436.846,906.377 467.651,988.11 498.456,980.673 \n",
       "  529.261,1029.43 560.066,905.403 590.871,921.155 621.675,785.2 652.48,790.717 683.285,896.7 714.09,995.77 744.895,858.639 775.7,921.774 806.504,899.755 \n",
       "  837.309,991.507 868.114,913.842 898.919,759.701 929.724,994.943 960.529,384.083 991.333,1014.05 1022.14,996.037 1052.94,966.835 1083.75,949.867 1114.55,968.948 \n",
       "  1145.36,980.749 1176.16,989.658 1206.97,996.627 1237.77,1002.23 1268.58,1006.83 1299.38,1010.68 1330.19,1013.95 1360.99,1016.75 1391.8,1019.19 1422.6,1021.33 \n",
       "  1453.41,1023.22 1484.21,1024.91 1515.02,1026.41 1545.82,1027.77 1576.63,1029.01 1607.43,1030.13 1638.24,700.691 1669.04,1000.51 1699.84,1016.7 1730.65,920.044 \n",
       "  1761.45,1071.47 1792.26,720.394 1823.06,171.52 1853.87,1053.18 1884.67,964.15 1915.48,999.02 1946.28,1001.82 1977.09,1021.31 2007.89,733.16 2038.7,921.181 \n",
       "  2069.5,1019.14 2100.31,956.339 2131.11,1070.25 2161.92,1018.42 2192.72,1019.63 2223.53,399.498 2254.33,1044.11 2285.14,1032.2 2315.94,1028.94 2346.75,1005.02 \n",
       "  2377.55,1012.22 2408.36,1013.72 2439.16,1015.12 2469.97,1016.42 2500.77,1017.64 2531.58,1018.79 2562.38,1019.86 2593.19,1020.87 2623.99,717.338 2654.79,946.03 \n",
       "  2685.6,1022.93 2716.4,975.923 2747.21,1075.45 2778.01,1017.97 2808.82,1018.96 2839.62,726.171 2870.43,962.52 2901.23,1024.61 2932.04,988.214 2962.84,1076.65 \n",
       "  2993.65,1016.34 3024.45,1017.3 3055.26,733.533 3086.06,974.286 3116.87,1025.99 3147.67,996.655 3178.48,1077.71 3209.28,1014.93 3240.09,1015.86 3270.89,1016.75 \n",
       "  3301.7,1017.6 3332.5,1018.42 3363.31,1019.19 3394.11,731.827 3424.92,762.223 3455.72,346.906 \n",
       "  \"/>\n",
       "<polyline clip-path=\"url(#clip012)\" style=\"stroke:#c271d2; stroke-linecap:round; stroke-linejoin:round; stroke-width:2.8; stroke-opacity:1; fill:none\" points=\"\n",
       "  221.212,760.491 252.017,928.063 282.822,704.194 313.627,844.512 344.432,879.548 375.237,951.997 406.041,827.677 436.846,968.582 467.651,921.792 498.456,898.441 \n",
       "  529.261,939.836 560.066,952.955 590.871,920.14 621.675,931.901 652.48,975.17 683.285,980.723 714.09,977.673 744.895,883.632 775.7,841.063 806.504,958.167 \n",
       "  837.309,982.071 868.114,844.681 898.919,1006.39 929.724,946.747 960.529,77.2578 991.333,918.456 1022.14,957.407 1052.94,943.591 1083.75,862.355 1114.55,920.227 \n",
       "  1145.36,816.328 1176.16,1020.04 1206.97,963.684 1237.77,974.704 1268.58,902.491 1299.38,995.792 1330.19,956.721 1360.99,966.529 1391.8,911.144 1422.6,957.99 \n",
       "  1453.41,967.813 1484.21,1027.34 1515.02,978.351 1545.82,1002.77 1576.63,1008.62 1607.43,931.325 1638.24,859.895 1669.04,935.578 1699.84,976.568 1730.65,972.532 \n",
       "  1761.45,975.173 1792.26,831.887 1823.06,443.932 1853.87,971.993 1884.67,980.867 1915.48,974.988 1946.28,1002.36 1977.09,998.08 2007.89,729.083 2038.7,957.334 \n",
       "  2069.5,1009.22 2100.31,946.977 2131.11,958.809 2161.92,1033.97 2192.72,984.983 2223.53,431.58 2254.33,968.856 2285.14,992.196 2315.94,1005.52 2346.75,995.69 \n",
       "  2377.55,709.619 2408.36,976.742 2439.16,941.241 2469.97,1021.32 2500.77,971.688 2531.58,967.87 2562.38,981.791 2593.19,1023.72 2623.99,750.615 2654.79,974.679 \n",
       "  2685.6,994.14 2716.4,988.661 2747.21,988.828 2778.01,1019.1 2808.82,950.607 2839.62,839.484 2870.43,981.871 2901.23,1013.9 2932.04,950.003 2962.84,956.338 \n",
       "  2993.65,1024.18 3024.45,979.381 3055.26,818.417 3086.06,984.987 3116.87,952.53 3147.67,978.828 3178.48,985.838 3209.28,988.639 3240.09,956.449 3270.89,894.049 \n",
       "  3301.7,962.389 3332.5,1010.32 3363.31,984.611 3394.11,785.583 3424.92,916.709 3455.72,562.485 \n",
       "  \"/>\n",
       "<polyline clip-path=\"url(#clip012)\" style=\"stroke:#ac8d18; stroke-linecap:round; stroke-linejoin:round; stroke-width:2.8; stroke-opacity:1; fill:none\" points=\"\n",
       "  221.212,760.491 252.017,928.063 282.822,678.83 313.627,946.545 344.432,907.977 375.237,1022.9 406.041,878.268 436.846,966.74 467.651,970.02 498.456,961.04 \n",
       "  529.261,1006.95 560.066,794.211 590.871,815.18 621.675,877.532 652.48,768.347 683.285,941.44 714.09,1041.67 744.895,862.103 775.7,926.834 806.504,958.354 \n",
       "  837.309,1039.14 868.114,983.816 898.919,763.337 929.724,1029.87 960.529,272.85 991.333,1024.99 1022.14,940.885 1052.94,963.731 1083.75,910.739 1114.55,924.268 \n",
       "  1145.36,911.733 1176.16,923.636 1206.97,932.618 1237.77,939.642 1268.58,945.288 1299.38,949.925 1330.19,953.802 1360.99,957.093 1391.8,959.921 1422.6,962.378 \n",
       "  1453.41,964.532 1484.21,966.437 1515.02,968.132 1545.82,969.652 1576.63,971.021 1607.43,972.262 1638.24,846.555 1669.04,1016.4 1699.84,995.654 1730.65,880.339 \n",
       "  1761.45,1051.5 1792.26,867.099 1823.06,177.802 1853.87,960.759 1884.67,946.02 1915.48,998.587 1946.28,989.987 1977.09,979.83 2007.89,860.952 2038.7,942.792 \n",
       "  2069.5,1000.86 2100.31,922.407 2131.11,1049.71 2161.92,941.25 2192.72,959.455 2223.53,313.495 2254.33,1004.27 2285.14,1011.89 2315.94,1010.24 2346.75,959.202 \n",
       "  2377.55,980.501 2408.36,949.459 2439.16,951.637 2469.97,953.626 2500.77,955.449 2531.58,957.126 2562.38,958.674 2593.19,960.107 2623.99,852.145 2654.79,965.667 \n",
       "  2685.6,1007.33 2716.4,944.727 2747.21,1055 2778.01,941.017 2808.82,955.233 2839.62,860.805 2870.43,980.944 2901.23,1010.2 2932.04,958.613 2962.84,1056.61 \n",
       "  2993.65,942.517 3024.45,950.866 3055.26,868.21 3086.06,991.888 3116.87,1012.4 3147.67,968.101 3178.48,1058 3209.28,943.743 3240.09,946.931 3270.89,948.474 \n",
       "  3301.7,949.925 3332.5,951.292 3363.31,952.582 3394.11,869.1 3424.92,721.92 3455.72,330.535 \n",
       "  \"/>\n",
       "<polyline clip-path=\"url(#clip012)\" style=\"stroke:#00a9ad; stroke-linecap:round; stroke-linejoin:round; stroke-width:4; stroke-opacity:1; fill:none\" points=\"\n",
       "  652.48,2168.21 652.48,-1013.24 \n",
       "  \"/>\n",
       "<polyline clip-path=\"url(#clip012)\" style=\"stroke:#00a9ad; stroke-linecap:round; stroke-linejoin:round; stroke-width:4; stroke-opacity:1; fill:none\" points=\"\n",
       "  960.529,2168.21 960.529,-1013.24 \n",
       "  \"/>\n",
       "<polyline clip-path=\"url(#clip012)\" style=\"stroke:#00a9ad; stroke-linecap:round; stroke-linejoin:round; stroke-width:4; stroke-opacity:1; fill:none\" points=\"\n",
       "  1422.6,2168.21 1422.6,-1013.24 \n",
       "  \"/>\n",
       "<polyline clip-path=\"url(#clip012)\" style=\"stroke:#00a9ad; stroke-linecap:round; stroke-linejoin:round; stroke-width:4; stroke-opacity:1; fill:none\" points=\"\n",
       "  1823.06,2168.21 1823.06,-1013.24 \n",
       "  \"/>\n",
       "<polyline clip-path=\"url(#clip012)\" style=\"stroke:#00a9ad; stroke-linecap:round; stroke-linejoin:round; stroke-width:4; stroke-opacity:1; fill:none\" points=\"\n",
       "  2223.53,2168.21 2223.53,-1013.24 \n",
       "  \"/>\n",
       "<polyline clip-path=\"url(#clip012)\" style=\"stroke:#00a9ad; stroke-linecap:round; stroke-linejoin:round; stroke-width:4; stroke-opacity:1; fill:none\" points=\"\n",
       "  2623.99,2168.21 2623.99,-1013.24 \n",
       "  \"/>\n",
       "<polyline clip-path=\"url(#clip012)\" style=\"stroke:#00a9ad; stroke-linecap:round; stroke-linejoin:round; stroke-width:4; stroke-opacity:1; fill:none\" points=\"\n",
       "  3055.26,2168.21 3055.26,-1013.24 \n",
       "  \"/>\n",
       "<polyline clip-path=\"url(#clip012)\" style=\"stroke:#00a9ad; stroke-linecap:round; stroke-linejoin:round; stroke-width:4; stroke-opacity:1; fill:none\" points=\"\n",
       "  3455.72,2168.21 3455.72,-1013.24 \n",
       "  \"/>\n",
       "<path clip-path=\"url(#clip010)\" d=\"\n",
       "M3041.47 445.474 L3438.47 445.474 L3438.47 82.5936 L3041.47 82.5936  Z\n",
       "  \" fill=\"#ffffff\" fill-rule=\"evenodd\" fill-opacity=\"1\"/>\n",
       "<polyline clip-path=\"url(#clip010)\" style=\"stroke:#000000; stroke-linecap:round; stroke-linejoin:round; stroke-width:4; stroke-opacity:1; fill:none\" points=\"\n",
       "  3041.47,445.474 3438.47,445.474 3438.47,82.5936 3041.47,82.5936 3041.47,445.474 \n",
       "  \"/>\n",
       "<polyline clip-path=\"url(#clip010)\" style=\"stroke:#009af9; stroke-linecap:round; stroke-linejoin:round; stroke-width:8; stroke-opacity:1; fill:none\" points=\"\n",
       "  3079.56,134.434 3308.14,134.434 \n",
       "  \"/>\n",
       "<path clip-path=\"url(#clip010)\" d=\"M3360.07 154.121 Q3358.27 158.751 3356.56 160.163 Q3354.84 161.575 3351.97 161.575 L3348.57 161.575 L3348.57 158.01 L3351.07 158.01 Q3352.83 158.01 3353.8 157.176 Q3354.77 156.343 3355.95 153.241 L3356.72 151.297 L3346.23 125.788 L3350.75 125.788 L3358.85 146.065 L3366.95 125.788 L3371.46 125.788 L3360.07 154.121 Z\" fill=\"#000000\" fill-rule=\"evenodd\" fill-opacity=\"1\" /><path clip-path=\"url(#clip010)\" d=\"M3378.75 147.778 L3386.39 147.778 L3386.39 121.413 L3378.08 123.079 L3378.08 118.82 L3386.35 117.154 L3391.02 117.154 L3391.02 147.778 L3398.66 147.778 L3398.66 151.714 L3378.75 151.714 L3378.75 147.778 Z\" fill=\"#000000\" fill-rule=\"evenodd\" fill-opacity=\"1\" /><polyline clip-path=\"url(#clip010)\" style=\"stroke:#e26f46; stroke-linecap:round; stroke-linejoin:round; stroke-width:2.8; stroke-opacity:1; fill:none\" points=\"\n",
       "  3079.56,186.274 3308.14,186.274 \n",
       "  \"/>\n",
       "<path clip-path=\"url(#clip010)\" d=\"M3360.07 205.961 Q3358.27 210.591 3356.56 212.003 Q3354.84 213.415 3351.97 213.415 L3348.57 213.415 L3348.57 209.85 L3351.07 209.85 Q3352.83 209.85 3353.8 209.016 Q3354.77 208.183 3355.95 205.081 L3356.72 203.137 L3346.23 177.628 L3350.75 177.628 L3358.85 197.905 L3366.95 177.628 L3371.46 177.628 L3360.07 205.961 Z\" fill=\"#000000\" fill-rule=\"evenodd\" fill-opacity=\"1\" /><path clip-path=\"url(#clip010)\" d=\"M3381.97 199.618 L3398.29 199.618 L3398.29 203.554 L3376.35 203.554 L3376.35 199.618 Q3379.01 196.864 3383.59 192.234 Q3388.2 187.581 3389.38 186.239 Q3391.62 183.716 3392.5 181.98 Q3393.41 180.22 3393.41 178.531 Q3393.41 175.776 3391.46 174.04 Q3389.54 172.304 3386.44 172.304 Q3384.24 172.304 3381.79 173.068 Q3379.36 173.831 3376.58 175.382 L3376.58 170.66 Q3379.4 169.526 3381.86 168.947 Q3384.31 168.369 3386.35 168.369 Q3391.72 168.369 3394.91 171.054 Q3398.11 173.739 3398.11 178.23 Q3398.11 180.359 3397.3 182.281 Q3396.51 184.179 3394.4 186.771 Q3393.82 187.443 3390.72 190.66 Q3387.62 193.855 3381.97 199.618 Z\" fill=\"#000000\" fill-rule=\"evenodd\" fill-opacity=\"1\" /><polyline clip-path=\"url(#clip010)\" style=\"stroke:#3da44d; stroke-linecap:round; stroke-linejoin:round; stroke-width:2.8; stroke-opacity:1; fill:none\" points=\"\n",
       "  3079.56,238.114 3308.14,238.114 \n",
       "  \"/>\n",
       "<path clip-path=\"url(#clip010)\" d=\"M3360.07 257.801 Q3358.27 262.431 3356.56 263.843 Q3354.84 265.255 3351.97 265.255 L3348.57 265.255 L3348.57 261.69 L3351.07 261.69 Q3352.83 261.69 3353.8 260.856 Q3354.77 260.023 3355.95 256.921 L3356.72 254.977 L3346.23 229.468 L3350.75 229.468 L3358.85 249.745 L3366.95 229.468 L3371.46 229.468 L3360.07 257.801 Z\" fill=\"#000000\" fill-rule=\"evenodd\" fill-opacity=\"1\" /><path clip-path=\"url(#clip010)\" d=\"M3392.11 236.759 Q3395.47 237.477 3397.34 239.745 Q3399.24 242.014 3399.24 245.347 Q3399.24 250.463 3395.72 253.264 Q3392.2 256.065 3385.72 256.065 Q3383.55 256.065 3381.23 255.625 Q3378.94 255.208 3376.49 254.352 L3376.49 249.838 Q3378.43 250.972 3380.75 251.551 Q3383.06 252.13 3385.58 252.13 Q3389.98 252.13 3392.27 250.394 Q3394.59 248.657 3394.59 245.347 Q3394.59 242.292 3392.43 240.579 Q3390.31 238.843 3386.49 238.843 L3382.46 238.843 L3382.46 235 L3386.67 235 Q3390.12 235 3391.95 233.634 Q3393.78 232.246 3393.78 229.653 Q3393.78 226.991 3391.88 225.579 Q3390 224.144 3386.49 224.144 Q3384.56 224.144 3382.37 224.56 Q3380.17 224.977 3377.53 225.857 L3377.53 221.69 Q3380.19 220.949 3382.5 220.579 Q3384.84 220.209 3386.9 220.209 Q3392.23 220.209 3395.33 222.639 Q3398.43 225.046 3398.43 229.167 Q3398.43 232.037 3396.79 234.028 Q3395.14 235.996 3392.11 236.759 Z\" fill=\"#000000\" fill-rule=\"evenodd\" fill-opacity=\"1\" /><polyline clip-path=\"url(#clip010)\" style=\"stroke:#c271d2; stroke-linecap:round; stroke-linejoin:round; stroke-width:2.8; stroke-opacity:1; fill:none\" points=\"\n",
       "  3079.56,289.954 3308.14,289.954 \n",
       "  \"/>\n",
       "<path clip-path=\"url(#clip010)\" d=\"M3360.07 309.641 Q3358.27 314.271 3356.56 315.683 Q3354.84 317.095 3351.97 317.095 L3348.57 317.095 L3348.57 313.53 L3351.07 313.53 Q3352.83 313.53 3353.8 312.696 Q3354.77 311.863 3355.95 308.761 L3356.72 306.817 L3346.23 281.308 L3350.75 281.308 L3358.85 301.585 L3366.95 281.308 L3371.46 281.308 L3360.07 309.641 Z\" fill=\"#000000\" fill-rule=\"evenodd\" fill-opacity=\"1\" /><path clip-path=\"url(#clip010)\" d=\"M3390.79 276.748 L3378.99 295.197 L3390.79 295.197 L3390.79 276.748 M3389.56 272.674 L3395.44 272.674 L3395.44 295.197 L3400.37 295.197 L3400.37 299.085 L3395.44 299.085 L3395.44 307.234 L3390.79 307.234 L3390.79 299.085 L3375.19 299.085 L3375.19 294.572 L3389.56 272.674 Z\" fill=\"#000000\" fill-rule=\"evenodd\" fill-opacity=\"1\" /><polyline clip-path=\"url(#clip010)\" style=\"stroke:#ac8d18; stroke-linecap:round; stroke-linejoin:round; stroke-width:2.8; stroke-opacity:1; fill:none\" points=\"\n",
       "  3079.56,341.794 3308.14,341.794 \n",
       "  \"/>\n",
       "<path clip-path=\"url(#clip010)\" d=\"M3360.07 361.481 Q3358.27 366.111 3356.56 367.523 Q3354.84 368.935 3351.97 368.935 L3348.57 368.935 L3348.57 365.37 L3351.07 365.37 Q3352.83 365.37 3353.8 364.536 Q3354.77 363.703 3355.95 360.601 L3356.72 358.657 L3346.23 333.148 L3350.75 333.148 L3358.85 353.425 L3366.95 333.148 L3371.46 333.148 L3360.07 361.481 Z\" fill=\"#000000\" fill-rule=\"evenodd\" fill-opacity=\"1\" /><path clip-path=\"url(#clip010)\" d=\"M3377.99 324.514 L3396.35 324.514 L3396.35 328.449 L3382.27 328.449 L3382.27 336.921 Q3383.29 336.574 3384.31 336.412 Q3385.33 336.226 3386.35 336.226 Q3392.13 336.226 3395.51 339.398 Q3398.89 342.569 3398.89 347.986 Q3398.89 353.564 3395.42 356.666 Q3391.95 359.745 3385.63 359.745 Q3383.45 359.745 3381.18 359.374 Q3378.94 359.004 3376.53 358.263 L3376.53 353.564 Q3378.62 354.699 3380.84 355.254 Q3383.06 355.81 3385.54 355.81 Q3389.54 355.81 3391.88 353.703 Q3394.22 351.597 3394.22 347.986 Q3394.22 344.375 3391.88 342.268 Q3389.54 340.162 3385.54 340.162 Q3383.66 340.162 3381.79 340.578 Q3379.93 340.995 3377.99 341.875 L3377.99 324.514 Z\" fill=\"#000000\" fill-rule=\"evenodd\" fill-opacity=\"1\" /><polyline clip-path=\"url(#clip010)\" style=\"stroke:#00a9ad; stroke-linecap:round; stroke-linejoin:round; stroke-width:4; stroke-opacity:1; fill:none\" points=\"\n",
       "  3079.56,393.634 3308.14,393.634 \n",
       "  \"/>\n",
       "<path clip-path=\"url(#clip010)\" d=\"M3360.07 413.321 Q3358.27 417.951 3356.56 419.363 Q3354.84 420.775 3351.97 420.775 L3348.57 420.775 L3348.57 417.21 L3351.07 417.21 Q3352.83 417.21 3353.8 416.376 Q3354.77 415.543 3355.95 412.441 L3356.72 410.497 L3346.23 384.988 L3350.75 384.988 L3358.85 405.265 L3366.95 384.988 L3371.46 384.988 L3360.07 413.321 Z\" fill=\"#000000\" fill-rule=\"evenodd\" fill-opacity=\"1\" /><path clip-path=\"url(#clip010)\" d=\"M3388.52 391.77 Q3385.37 391.77 3383.52 393.923 Q3381.69 396.076 3381.69 399.826 Q3381.69 403.552 3383.52 405.728 Q3385.37 407.881 3388.52 407.881 Q3391.67 407.881 3393.5 405.728 Q3395.35 403.552 3395.35 399.826 Q3395.35 396.076 3393.5 393.923 Q3391.67 391.77 3388.52 391.77 M3397.81 377.117 L3397.81 381.377 Q3396.05 380.543 3394.24 380.104 Q3392.46 379.664 3390.7 379.664 Q3386.07 379.664 3383.62 382.789 Q3381.18 385.914 3380.84 392.233 Q3382.2 390.219 3384.26 389.154 Q3386.32 388.066 3388.8 388.066 Q3394.01 388.066 3397.02 391.238 Q3400.05 394.386 3400.05 399.826 Q3400.05 405.15 3396.9 408.367 Q3393.75 411.585 3388.52 411.585 Q3382.53 411.585 3379.36 407.002 Q3376.18 402.395 3376.18 393.668 Q3376.18 385.474 3380.07 380.613 Q3383.96 375.729 3390.51 375.729 Q3392.27 375.729 3394.06 376.076 Q3395.86 376.423 3397.81 377.117 Z\" fill=\"#000000\" fill-rule=\"evenodd\" fill-opacity=\"1\" /></svg>\n"
      ]
     },
     "execution_count": 11,
     "metadata": {},
     "output_type": "execute_result"
    }
   ],
   "source": [
    "# Plot the IC of the combined model. \n",
    "plot(t.IC[1:106], lw=2)\n",
    "\n",
    "# Plot the IC of each separate model\n",
    "for t in tables\n",
    "    plot!(t.IC[1:106], lw=0.7)\n",
    "end\n",
    "\n",
    "# Extract phrase boundary information from sequences and plot them.\n",
    "phrases = [e.PHRASE for e in vcat(sequences...)];\n",
    "vline!(findall(x->x==-1,phrases[1:106]), lw = 1)\n",
    "\n",
    "plot!(size=(900,300))"
   ]
  }
 ],
 "metadata": {
  "kernelspec": {
   "display_name": "Julia 1.7.3",
   "language": "julia",
   "name": "julia-1.7"
  },
  "language_info": {
   "file_extension": ".jl",
   "mimetype": "application/julia",
   "name": "julia",
   "version": "1.7.3"
  }
 },
 "nbformat": 4,
 "nbformat_minor": 4
}
