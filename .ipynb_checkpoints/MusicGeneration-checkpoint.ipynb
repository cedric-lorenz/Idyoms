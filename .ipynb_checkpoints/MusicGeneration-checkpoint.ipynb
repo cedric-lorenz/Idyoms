{
 "cells": [
  {
   "cell_type": "markdown",
   "metadata": {},
   "source": [
    "# Music Generation Using Idyoms"
   ]
  },
  {
   "cell_type": "code",
   "execution_count": 1,
   "metadata": {},
   "outputs": [],
   "source": [
    "#using DataFrames, Plots, Random\n",
    "using Plots\n",
    "using Chakra\n",
    "include(\"src/Idyoms.jl\")\n",
    "using Main.Idyoms"
   ]
  },
  {
   "cell_type": "markdown",
   "metadata": {},
   "source": [
    "### Load Nova from Melch"
   ]
  },
  {
   "cell_type": "code",
   "execution_count": 2,
   "metadata": {},
   "outputs": [],
   "source": [
    "using Melch\n",
    "Melch.__INIT__(\"/Users/nick/Dropbox/MelchData\")\n",
    "nova = fnd(Melch.id(0),Melch)\n",
    "melodies = pts(nova)\n",
    "sequences = [sequence(pts(mel,Melch),Melch) for mel in melodies];"
   ]
  },
  {
   "cell_type": "markdown",
   "metadata": {},
   "source": [
    "### Define Viewpoints"
   ]
  },
  {
   "cell_type": "code",
   "execution_count": 3,
   "metadata": {},
   "outputs": [],
   "source": [
    "PITCH = vp(Melch.CPITCH)\n",
    "DUR = vp(Melch.DUR)\n",
    "PROD = link(PITCH,DUR);"
   ]
  },
  {
   "cell_type": "markdown",
   "metadata": {},
   "source": [
    "### Generate new sequences"
   ]
  },
  {
   "cell_type": "code",
   "execution_count": 4,
   "metadata": {},
   "outputs": [],
   "source": [
    "views = [View(seq,PROD,PROD) for seq in sequences];\n",
    "o = Bounded(5) # order bound\n",
    "tally, seen = Idyoms.train(views,o);\n",
    "a = seen\n",
    "b = Backoff() # smoothing technique\n",
    "e = C() # escape method\n",
    "u = false # update exclusion\n",
    "\n",
    "preds, seq = Idyoms.gen_seq(100,tally,seen,a,b,e,u,o);"
   ]
  },
  {
   "cell_type": "markdown",
   "metadata": {},
   "source": [
    "### Tabulate sequence"
   ]
  },
  {
   "cell_type": "code",
   "execution_count": 5,
   "metadata": {},
   "outputs": [
    {
     "data": {
      "text/plain": [
       "1.6158462105525964"
      ]
     },
     "execution_count": 5,
     "metadata": {},
     "output_type": "execute_result"
    }
   ],
   "source": [
    "Idyoms.mean_infcontent(preds)"
   ]
  },
  {
   "cell_type": "code",
   "execution_count": 6,
   "metadata": {},
   "outputs": [
    {
     "data": {
      "text/html": [
       "<div><div style = \"float: left;\"><span>100×7 DataFrame</span></div><div style = \"float: right;\"><span style = \"font-style: italic;\">75 rows omitted</span></div><div style = \"clear: both;\"></div></div><div class = \"data-frame\" style = \"overflow-x: scroll;\"><table class = \"data-frame\" style = \"margin-bottom: 6px;\"><thead><tr class = \"header\"><th class = \"rowNumber\" style = \"font-weight: bold; text-align: right;\">Row</th><th style = \"text-align: left;\">SeqID</th><th style = \"text-align: left;\">EventID</th><th style = \"text-align: left;\">Symbol</th><th style = \"text-align: left;\">Order</th><th style = \"text-align: left;\">Prob</th><th style = \"text-align: left;\">IC</th><th style = \"text-align: left;\">H</th></tr><tr class = \"subheader headerLastRow\"><th class = \"rowNumber\" style = \"font-weight: bold; text-align: right;\"></th><th title = \"Int64\" style = \"text-align: left;\">Int64</th><th title = \"Int64\" style = \"text-align: left;\">Int64</th><th title = \"Tuple{Int64, Int64}\" style = \"text-align: left;\">Tuple…</th><th title = \"Int64\" style = \"text-align: left;\">Int64</th><th title = \"Float64\" style = \"text-align: left;\">Float64</th><th title = \"Float64\" style = \"text-align: left;\">Float64</th><th title = \"Float64\" style = \"text-align: left;\">Float64</th></tr></thead><tbody><tr><td class = \"rowNumber\" style = \"font-weight: bold; text-align: right;\">1</td><td style = \"text-align: right;\">1</td><td style = \"text-align: right;\">1</td><td style = \"text-align: left;\">(72, 12)</td><td style = \"text-align: right;\">0</td><td style = \"text-align: right;\">0.0327409</td><td style = \"text-align: right;\">4.93276</td><td style = \"text-align: right;\">5.69385</td></tr><tr><td class = \"rowNumber\" style = \"font-weight: bold; text-align: right;\">2</td><td style = \"text-align: right;\">1</td><td style = \"text-align: right;\">2</td><td style = \"text-align: left;\">(74, 24)</td><td style = \"text-align: right;\">1</td><td style = \"text-align: right;\">0.115345</td><td style = \"text-align: right;\">3.11597</td><td style = \"text-align: right;\">4.4306</td></tr><tr><td class = \"rowNumber\" style = \"font-weight: bold; text-align: right;\">3</td><td style = \"text-align: right;\">1</td><td style = \"text-align: right;\">3</td><td style = \"text-align: left;\">(72, 12)</td><td style = \"text-align: right;\">2</td><td style = \"text-align: right;\">0.32143</td><td style = \"text-align: right;\">1.63742</td><td style = \"text-align: right;\">3.46079</td></tr><tr><td class = \"rowNumber\" style = \"font-weight: bold; text-align: right;\">4</td><td style = \"text-align: right;\">1</td><td style = \"text-align: right;\">4</td><td style = \"text-align: left;\">(70, 24)</td><td style = \"text-align: right;\">3</td><td style = \"text-align: right;\">0.137783</td><td style = \"text-align: right;\">2.85953</td><td style = \"text-align: right;\">3.07746</td></tr><tr><td class = \"rowNumber\" style = \"font-weight: bold; text-align: right;\">5</td><td style = \"text-align: right;\">1</td><td style = \"text-align: right;\">5</td><td style = \"text-align: left;\">(72, 12)</td><td style = \"text-align: right;\">4</td><td style = \"text-align: right;\">0.897999</td><td style = \"text-align: right;\">0.155215</td><td style = \"text-align: right;\">0.856615</td></tr><tr><td class = \"rowNumber\" style = \"font-weight: bold; text-align: right;\">6</td><td style = \"text-align: right;\">1</td><td style = \"text-align: right;\">6</td><td style = \"text-align: left;\">(65, 24)</td><td style = \"text-align: right;\">5</td><td style = \"text-align: right;\">0.959548</td><td style = \"text-align: right;\">0.0595727</td><td style = \"text-align: right;\">0.379215</td></tr><tr><td class = \"rowNumber\" style = \"font-weight: bold; text-align: right;\">7</td><td style = \"text-align: right;\">1</td><td style = \"text-align: right;\">7</td><td style = \"text-align: left;\">(67, 6)</td><td style = \"text-align: right;\">5</td><td style = \"text-align: right;\">0.471613</td><td style = \"text-align: right;\">1.08433</td><td style = \"text-align: right;\">1.51067</td></tr><tr><td class = \"rowNumber\" style = \"font-weight: bold; text-align: right;\">8</td><td style = \"text-align: right;\">1</td><td style = \"text-align: right;\">8</td><td style = \"text-align: left;\">(67, 6)</td><td style = \"text-align: right;\">5</td><td style = \"text-align: right;\">0.911227</td><td style = \"text-align: right;\">0.134118</td><td style = \"text-align: right;\">0.875888</td></tr><tr><td class = \"rowNumber\" style = \"font-weight: bold; text-align: right;\">9</td><td style = \"text-align: right;\">1</td><td style = \"text-align: right;\">9</td><td style = \"text-align: left;\">(68, 24)</td><td style = \"text-align: right;\">5</td><td style = \"text-align: right;\">0.830729</td><td style = \"text-align: right;\">0.267551</td><td style = \"text-align: right;\">1.31889</td></tr><tr><td class = \"rowNumber\" style = \"font-weight: bold; text-align: right;\">10</td><td style = \"text-align: right;\">1</td><td style = \"text-align: right;\">10</td><td style = \"text-align: left;\">(65, 6)</td><td style = \"text-align: right;\">5</td><td style = \"text-align: right;\">0.901763</td><td style = \"text-align: right;\">0.14918</td><td style = \"text-align: right;\">0.951938</td></tr><tr><td class = \"rowNumber\" style = \"font-weight: bold; text-align: right;\">11</td><td style = \"text-align: right;\">1</td><td style = \"text-align: right;\">11</td><td style = \"text-align: left;\">(63, 6)</td><td style = \"text-align: right;\">5</td><td style = \"text-align: right;\">0.903008</td><td style = \"text-align: right;\">0.147189</td><td style = \"text-align: right;\">0.927793</td></tr><tr><td class = \"rowNumber\" style = \"font-weight: bold; text-align: right;\">12</td><td style = \"text-align: right;\">1</td><td style = \"text-align: right;\">12</td><td style = \"text-align: left;\">(60, 24)</td><td style = \"text-align: right;\">5</td><td style = \"text-align: right;\">0.842095</td><td style = \"text-align: right;\">0.247945</td><td style = \"text-align: right;\">1.30232</td></tr><tr><td class = \"rowNumber\" style = \"font-weight: bold; text-align: right;\">13</td><td style = \"text-align: right;\">1</td><td style = \"text-align: right;\">13</td><td style = \"text-align: left;\">(63, 12)</td><td style = \"text-align: right;\">5</td><td style = \"text-align: right;\">0.897281</td><td style = \"text-align: right;\">0.156368</td><td style = \"text-align: right;\">0.949917</td></tr><tr><td style = \"text-align: right;\">&vellip;</td><td style = \"text-align: right;\">&vellip;</td><td style = \"text-align: right;\">&vellip;</td><td style = \"text-align: right;\">&vellip;</td><td style = \"text-align: right;\">&vellip;</td><td style = \"text-align: right;\">&vellip;</td><td style = \"text-align: right;\">&vellip;</td><td style = \"text-align: right;\">&vellip;</td></tr><tr><td class = \"rowNumber\" style = \"font-weight: bold; text-align: right;\">89</td><td style = \"text-align: right;\">1</td><td style = \"text-align: right;\">89</td><td style = \"text-align: left;\">(62, 12)</td><td style = \"text-align: right;\">4</td><td style = \"text-align: right;\">0.819235</td><td style = \"text-align: right;\">0.287651</td><td style = \"text-align: right;\">1.27514</td></tr><tr><td class = \"rowNumber\" style = \"font-weight: bold; text-align: right;\">90</td><td style = \"text-align: right;\">1</td><td style = \"text-align: right;\">90</td><td style = \"text-align: left;\">(62, 12)</td><td style = \"text-align: right;\">4</td><td style = \"text-align: right;\">0.0856521</td><td style = \"text-align: right;\">3.54537</td><td style = \"text-align: right;\">0.920722</td></tr><tr><td class = \"rowNumber\" style = \"font-weight: bold; text-align: right;\">91</td><td style = \"text-align: right;\">1</td><td style = \"text-align: right;\">91</td><td style = \"text-align: left;\">(62, 24)</td><td style = \"text-align: right;\">3</td><td style = \"text-align: right;\">0.0483522</td><td style = \"text-align: right;\">4.37027</td><td style = \"text-align: right;\">1.55722</td></tr><tr><td class = \"rowNumber\" style = \"font-weight: bold; text-align: right;\">92</td><td style = \"text-align: right;\">1</td><td style = \"text-align: right;\">92</td><td style = \"text-align: left;\">(62, 12)</td><td style = \"text-align: right;\">3</td><td style = \"text-align: right;\">0.16872</td><td style = \"text-align: right;\">2.5673</td><td style = \"text-align: right;\">2.02479</td></tr><tr><td class = \"rowNumber\" style = \"font-weight: bold; text-align: right;\">93</td><td style = \"text-align: right;\">1</td><td style = \"text-align: right;\">93</td><td style = \"text-align: left;\">(62, 24)</td><td style = \"text-align: right;\">4</td><td style = \"text-align: right;\">0.849806</td><td style = \"text-align: right;\">0.234795</td><td style = \"text-align: right;\">1.06229</td></tr><tr><td class = \"rowNumber\" style = \"font-weight: bold; text-align: right;\">94</td><td style = \"text-align: right;\">1</td><td style = \"text-align: right;\">94</td><td style = \"text-align: left;\">(62, 12)</td><td style = \"text-align: right;\">5</td><td style = \"text-align: right;\">0.627915</td><td style = \"text-align: right;\">0.671359</td><td style = \"text-align: right;\">1.40588</td></tr><tr><td class = \"rowNumber\" style = \"font-weight: bold; text-align: right;\">95</td><td style = \"text-align: right;\">1</td><td style = \"text-align: right;\">95</td><td style = \"text-align: left;\">(67, 24)</td><td style = \"text-align: right;\">5</td><td style = \"text-align: right;\">0.395223</td><td style = \"text-align: right;\">1.33926</td><td style = \"text-align: right;\">2.04069</td></tr><tr><td class = \"rowNumber\" style = \"font-weight: bold; text-align: right;\">96</td><td style = \"text-align: right;\">1</td><td style = \"text-align: right;\">96</td><td style = \"text-align: left;\">(67, 12)</td><td style = \"text-align: right;\">5</td><td style = \"text-align: right;\">0.946266</td><td style = \"text-align: right;\">0.0796821</td><td style = \"text-align: right;\">0.487834</td></tr><tr><td class = \"rowNumber\" style = \"font-weight: bold; text-align: right;\">97</td><td style = \"text-align: right;\">1</td><td style = \"text-align: right;\">97</td><td style = \"text-align: left;\">(65, 12)</td><td style = \"text-align: right;\">2</td><td style = \"text-align: right;\">0.00562375</td><td style = \"text-align: right;\">7.47425</td><td style = \"text-align: right;\">1.86095</td></tr><tr><td class = \"rowNumber\" style = \"font-weight: bold; text-align: right;\">98</td><td style = \"text-align: right;\">1</td><td style = \"text-align: right;\">98</td><td style = \"text-align: left;\">(67, 12)</td><td style = \"text-align: right;\">2</td><td style = \"text-align: right;\">0.033241</td><td style = \"text-align: right;\">4.91089</td><td style = \"text-align: right;\">3.35698</td></tr><tr><td class = \"rowNumber\" style = \"font-weight: bold; text-align: right;\">99</td><td style = \"text-align: right;\">1</td><td style = \"text-align: right;\">99</td><td style = \"text-align: left;\">(69, 24)</td><td style = \"text-align: right;\">3</td><td style = \"text-align: right;\">0.461314</td><td style = \"text-align: right;\">1.11618</td><td style = \"text-align: right;\">2.65991</td></tr><tr><td class = \"rowNumber\" style = \"font-weight: bold; text-align: right;\">100</td><td style = \"text-align: right;\">1</td><td style = \"text-align: right;\">100</td><td style = \"text-align: left;\">(74, 48)</td><td style = \"text-align: right;\">4</td><td style = \"text-align: right;\">0.310164</td><td style = \"text-align: right;\">1.6889</td><td style = \"text-align: right;\">2.845</td></tr></tbody></table></div>"
      ],
      "text/latex": [
       "\\begin{tabular}{r|ccccccc}\n",
       "\t& SeqID & EventID & Symbol & Order & Prob & IC & H\\\\\n",
       "\t\\hline\n",
       "\t& Int64 & Int64 & Tuple… & Int64 & Float64 & Float64 & Float64\\\\\n",
       "\t\\hline\n",
       "\t1 & 1 & 1 & (72, 12) & 0 & 0.0327409 & 4.93276 & 5.69385 \\\\\n",
       "\t2 & 1 & 2 & (74, 24) & 1 & 0.115345 & 3.11597 & 4.4306 \\\\\n",
       "\t3 & 1 & 3 & (72, 12) & 2 & 0.32143 & 1.63742 & 3.46079 \\\\\n",
       "\t4 & 1 & 4 & (70, 24) & 3 & 0.137783 & 2.85953 & 3.07746 \\\\\n",
       "\t5 & 1 & 5 & (72, 12) & 4 & 0.897999 & 0.155215 & 0.856615 \\\\\n",
       "\t6 & 1 & 6 & (65, 24) & 5 & 0.959548 & 0.0595727 & 0.379215 \\\\\n",
       "\t7 & 1 & 7 & (67, 6) & 5 & 0.471613 & 1.08433 & 1.51067 \\\\\n",
       "\t8 & 1 & 8 & (67, 6) & 5 & 0.911227 & 0.134118 & 0.875888 \\\\\n",
       "\t9 & 1 & 9 & (68, 24) & 5 & 0.830729 & 0.267551 & 1.31889 \\\\\n",
       "\t10 & 1 & 10 & (65, 6) & 5 & 0.901763 & 0.14918 & 0.951938 \\\\\n",
       "\t11 & 1 & 11 & (63, 6) & 5 & 0.903008 & 0.147189 & 0.927793 \\\\\n",
       "\t12 & 1 & 12 & (60, 24) & 5 & 0.842095 & 0.247945 & 1.30232 \\\\\n",
       "\t13 & 1 & 13 & (63, 12) & 5 & 0.897281 & 0.156368 & 0.949917 \\\\\n",
       "\t14 & 1 & 14 & (65, 60) & 5 & 0.843301 & 0.245881 & 1.25175 \\\\\n",
       "\t15 & 1 & 15 & (65, 36) & 0 & 0.000810528 & 10.2689 & 0.914374 \\\\\n",
       "\t16 & 1 & 16 & (65, 12) & 1 & 0.202081 & 2.307 & 4.53807 \\\\\n",
       "\t17 & 1 & 17 & (65, 12) & 2 & 0.184958 & 2.43473 & 3.72091 \\\\\n",
       "\t18 & 1 & 18 & (67, 12) & 2 & 0.0298846 & 5.06445 & 3.61726 \\\\\n",
       "\t19 & 1 & 19 & (65, 36) & 3 & 0.471044 & 1.08607 & 2.59066 \\\\\n",
       "\t20 & 1 & 20 & (62, 6) & 4 & 0.802206 & 0.317956 & 1.39394 \\\\\n",
       "\t21 & 1 & 21 & (58, 6) & 5 & 0.967926 & 0.0470309 & 0.308675 \\\\\n",
       "\t22 & 1 & 22 & (58, 12) & 5 & 0.983945 & 0.0233503 & 0.198576 \\\\\n",
       "\t23 & 1 & 23 & (57, 12) & 5 & 0.984277 & 0.0228638 & 0.189522 \\\\\n",
       "\t24 & 1 & 24 & (72, 24) & 0 & 0.000113133 & 13.1097 & 0.193198 \\\\\n",
       "\t25 & 1 & 25 & (69, 24) & 1 & 0.0975171 & 3.3582 & 4.71296 \\\\\n",
       "\t26 & 1 & 26 & (71, 24) & 2 & 0.0912987 & 3.45326 & 3.73761 \\\\\n",
       "\t27 & 1 & 27 & (69, 12) & 3 & 0.23431 & 2.09351 & 2.69181 \\\\\n",
       "\t28 & 1 & 28 & (66, 12) & 4 & 0.719649 & 0.474635 & 1.86854 \\\\\n",
       "\t29 & 1 & 29 & (62, 36) & 5 & 0.830618 & 0.267743 & 1.25976 \\\\\n",
       "\t30 & 1 & 30 & (74, 36) & 5 & 0.907461 & 0.140093 & 0.861046 \\\\\n",
       "\t$\\dots$ & $\\dots$ & $\\dots$ & $\\dots$ & $\\dots$ & $\\dots$ & $\\dots$ & $\\dots$ \\\\\n",
       "\\end{tabular}\n"
      ],
      "text/plain": [
       "\u001b[1m100×7 DataFrame\u001b[0m\n",
       "\u001b[1m Row \u001b[0m│\u001b[1m SeqID \u001b[0m\u001b[1m EventID \u001b[0m\u001b[1m Symbol   \u001b[0m\u001b[1m Order \u001b[0m\u001b[1m Prob       \u001b[0m\u001b[1m IC        \u001b[0m\u001b[1m H        \u001b[0m\n",
       "     │\u001b[90m Int64 \u001b[0m\u001b[90m Int64   \u001b[0m\u001b[90m Tuple…   \u001b[0m\u001b[90m Int64 \u001b[0m\u001b[90m Float64    \u001b[0m\u001b[90m Float64   \u001b[0m\u001b[90m Float64  \u001b[0m\n",
       "─────┼──────────────────────────────────────────────────────────────────\n",
       "   1 │     1        1  (72, 12)      0  0.0327409   4.93276    5.69385\n",
       "   2 │     1        2  (74, 24)      1  0.115345    3.11597    4.4306\n",
       "   3 │     1        3  (72, 12)      2  0.32143     1.63742    3.46079\n",
       "   4 │     1        4  (70, 24)      3  0.137783    2.85953    3.07746\n",
       "   5 │     1        5  (72, 12)      4  0.897999    0.155215   0.856615\n",
       "   6 │     1        6  (65, 24)      5  0.959548    0.0595727  0.379215\n",
       "   7 │     1        7  (67, 6)       5  0.471613    1.08433    1.51067\n",
       "   8 │     1        8  (67, 6)       5  0.911227    0.134118   0.875888\n",
       "   9 │     1        9  (68, 24)      5  0.830729    0.267551   1.31889\n",
       "  10 │     1       10  (65, 6)       5  0.901763    0.14918    0.951938\n",
       "  11 │     1       11  (63, 6)       5  0.903008    0.147189   0.927793\n",
       "  ⋮  │   ⋮       ⋮        ⋮        ⋮        ⋮           ⋮         ⋮\n",
       "  91 │     1       91  (62, 24)      3  0.0483522   4.37027    1.55722\n",
       "  92 │     1       92  (62, 12)      3  0.16872     2.5673     2.02479\n",
       "  93 │     1       93  (62, 24)      4  0.849806    0.234795   1.06229\n",
       "  94 │     1       94  (62, 12)      5  0.627915    0.671359   1.40588\n",
       "  95 │     1       95  (67, 24)      5  0.395223    1.33926    2.04069\n",
       "  96 │     1       96  (67, 12)      5  0.946266    0.0796821  0.487834\n",
       "  97 │     1       97  (65, 12)      2  0.00562375  7.47425    1.86095\n",
       "  98 │     1       98  (67, 12)      2  0.033241    4.91089    3.35698\n",
       "  99 │     1       99  (69, 24)      3  0.461314    1.11618    2.65991\n",
       " 100 │     1      100  (74, 48)      4  0.310164    1.6889     2.845\n",
       "\u001b[36m                                                         79 rows omitted\u001b[0m"
      ]
     },
     "execution_count": 6,
     "metadata": {},
     "output_type": "execute_result"
    }
   ],
   "source": [
    "df = Idyoms.todataframe(1,preds)"
   ]
  },
  {
   "cell_type": "markdown",
   "metadata": {},
   "source": [
    "### Display information profiles"
   ]
  },
  {
   "cell_type": "code",
   "execution_count": 7,
   "metadata": {},
   "outputs": [
    {
     "data": {
      "image/svg+xml": [
       "<?xml version=\"1.0\" encoding=\"utf-8\"?>\n",
       "<svg xmlns=\"http://www.w3.org/2000/svg\" xmlns:xlink=\"http://www.w3.org/1999/xlink\" width=\"900\" height=\"300\" viewBox=\"0 0 3600 1200\">\n",
       "<defs>\n",
       "  <clipPath id=\"clip210\">\n",
       "    <rect x=\"0\" y=\"0\" width=\"3600\" height=\"1200\"/>\n",
       "  </clipPath>\n",
       "</defs>\n",
       "<path clip-path=\"url(#clip210)\" d=\"\n",
       "M0 1200 L3600 1200 L3600 0 L0 0  Z\n",
       "  \" fill=\"#ffffff\" fill-rule=\"evenodd\" fill-opacity=\"1\"/>\n",
       "<defs>\n",
       "  <clipPath id=\"clip211\">\n",
       "    <rect x=\"720\" y=\"0\" width=\"2521\" height=\"1200\"/>\n",
       "  </clipPath>\n",
       "</defs>\n",
       "<path clip-path=\"url(#clip210)\" d=\"\n",
       "M150.959 1107.73 L3552.76 1107.73 L3552.76 47.2441 L150.959 47.2441  Z\n",
       "  \" fill=\"#ffffff\" fill-rule=\"evenodd\" fill-opacity=\"1\"/>\n",
       "<defs>\n",
       "  <clipPath id=\"clip212\">\n",
       "    <rect x=\"150\" y=\"47\" width=\"3403\" height=\"1061\"/>\n",
       "  </clipPath>\n",
       "</defs>\n",
       "<polyline clip-path=\"url(#clip212)\" style=\"stroke:#000000; stroke-linecap:round; stroke-linejoin:round; stroke-width:2; stroke-opacity:0.1; fill:none\" points=\"\n",
       "  214.82,1107.73 214.82,47.2441 \n",
       "  \"/>\n",
       "<polyline clip-path=\"url(#clip212)\" style=\"stroke:#000000; stroke-linecap:round; stroke-linejoin:round; stroke-width:2; stroke-opacity:0.1; fill:none\" points=\"\n",
       "  1025.23,1107.73 1025.23,47.2441 \n",
       "  \"/>\n",
       "<polyline clip-path=\"url(#clip212)\" style=\"stroke:#000000; stroke-linecap:round; stroke-linejoin:round; stroke-width:2; stroke-opacity:0.1; fill:none\" points=\"\n",
       "  1835.65,1107.73 1835.65,47.2441 \n",
       "  \"/>\n",
       "<polyline clip-path=\"url(#clip212)\" style=\"stroke:#000000; stroke-linecap:round; stroke-linejoin:round; stroke-width:2; stroke-opacity:0.1; fill:none\" points=\"\n",
       "  2646.06,1107.73 2646.06,47.2441 \n",
       "  \"/>\n",
       "<polyline clip-path=\"url(#clip212)\" style=\"stroke:#000000; stroke-linecap:round; stroke-linejoin:round; stroke-width:2; stroke-opacity:0.1; fill:none\" points=\"\n",
       "  3456.48,1107.73 3456.48,47.2441 \n",
       "  \"/>\n",
       "<polyline clip-path=\"url(#clip210)\" style=\"stroke:#000000; stroke-linecap:round; stroke-linejoin:round; stroke-width:4; stroke-opacity:1; fill:none\" points=\"\n",
       "  150.959,1107.73 3552.76,1107.73 \n",
       "  \"/>\n",
       "<polyline clip-path=\"url(#clip210)\" style=\"stroke:#000000; stroke-linecap:round; stroke-linejoin:round; stroke-width:4; stroke-opacity:1; fill:none\" points=\"\n",
       "  214.82,1107.73 214.82,1088.83 \n",
       "  \"/>\n",
       "<polyline clip-path=\"url(#clip210)\" style=\"stroke:#000000; stroke-linecap:round; stroke-linejoin:round; stroke-width:4; stroke-opacity:1; fill:none\" points=\"\n",
       "  1025.23,1107.73 1025.23,1088.83 \n",
       "  \"/>\n",
       "<polyline clip-path=\"url(#clip210)\" style=\"stroke:#000000; stroke-linecap:round; stroke-linejoin:round; stroke-width:4; stroke-opacity:1; fill:none\" points=\"\n",
       "  1835.65,1107.73 1835.65,1088.83 \n",
       "  \"/>\n",
       "<polyline clip-path=\"url(#clip210)\" style=\"stroke:#000000; stroke-linecap:round; stroke-linejoin:round; stroke-width:4; stroke-opacity:1; fill:none\" points=\"\n",
       "  2646.06,1107.73 2646.06,1088.83 \n",
       "  \"/>\n",
       "<polyline clip-path=\"url(#clip210)\" style=\"stroke:#000000; stroke-linecap:round; stroke-linejoin:round; stroke-width:4; stroke-opacity:1; fill:none\" points=\"\n",
       "  3456.48,1107.73 3456.48,1088.83 \n",
       "  \"/>\n",
       "<path clip-path=\"url(#clip210)\" d=\"M214.82 1148.25 Q211.209 1148.25 209.38 1151.81 Q207.575 1155.35 207.575 1162.48 Q207.575 1169.59 209.38 1173.15 Q211.209 1176.7 214.82 1176.7 Q218.454 1176.7 220.26 1173.15 Q222.089 1169.59 222.089 1162.48 Q222.089 1155.35 220.26 1151.81 Q218.454 1148.25 214.82 1148.25 M214.82 1144.54 Q220.63 1144.54 223.686 1149.15 Q226.764 1153.73 226.764 1162.48 Q226.764 1171.21 223.686 1175.82 Q220.63 1180.4 214.82 1180.4 Q209.01 1180.4 205.931 1175.82 Q202.876 1171.21 202.876 1162.48 Q202.876 1153.73 205.931 1149.15 Q209.01 1144.54 214.82 1144.54 Z\" fill=\"#000000\" fill-rule=\"evenodd\" fill-opacity=\"1\" /><path clip-path=\"url(#clip210)\" d=\"M1004.51 1175.79 L1020.83 1175.79 L1020.83 1179.73 L998.881 1179.73 L998.881 1175.79 Q1001.54 1173.04 1006.13 1168.41 Q1010.73 1163.76 1011.91 1162.41 Q1014.16 1159.89 1015.04 1158.15 Q1015.94 1156.39 1015.94 1154.7 Q1015.94 1151.95 1014 1150.21 Q1012.08 1148.48 1008.97 1148.48 Q1006.77 1148.48 1004.32 1149.24 Q1001.89 1150.01 999.112 1151.56 L999.112 1146.83 Q1001.94 1145.7 1004.39 1145.12 Q1006.84 1144.54 1008.88 1144.54 Q1014.25 1144.54 1017.45 1147.23 Q1020.64 1149.91 1020.64 1154.4 Q1020.64 1156.53 1019.83 1158.45 Q1019.04 1160.35 1016.94 1162.95 Q1016.36 1163.62 1013.26 1166.83 Q1010.15 1170.03 1004.51 1175.79 Z\" fill=\"#000000\" fill-rule=\"evenodd\" fill-opacity=\"1\" /><path clip-path=\"url(#clip210)\" d=\"M1030.69 1145.17 L1049.04 1145.17 L1049.04 1149.1 L1034.97 1149.1 L1034.97 1157.58 Q1035.99 1157.23 1037.01 1157.07 Q1038.02 1156.88 1039.04 1156.88 Q1044.83 1156.88 1048.21 1160.05 Q1051.59 1163.22 1051.59 1168.64 Q1051.59 1174.22 1048.12 1177.32 Q1044.64 1180.4 1038.32 1180.4 Q1036.15 1180.4 1033.88 1180.03 Q1031.64 1179.66 1029.23 1178.92 L1029.23 1174.22 Q1031.31 1175.35 1033.53 1175.91 Q1035.76 1176.46 1038.23 1176.46 Q1042.24 1176.46 1044.57 1174.36 Q1046.91 1172.25 1046.91 1168.64 Q1046.91 1165.03 1044.57 1162.92 Q1042.24 1160.82 1038.23 1160.82 Q1036.36 1160.82 1034.48 1161.23 Q1032.63 1161.65 1030.69 1162.53 L1030.69 1145.17 Z\" fill=\"#000000\" fill-rule=\"evenodd\" fill-opacity=\"1\" /><path clip-path=\"url(#clip210)\" d=\"M1810.35 1145.17 L1828.7 1145.17 L1828.7 1149.1 L1814.63 1149.1 L1814.63 1157.58 Q1815.65 1157.23 1816.67 1157.07 Q1817.69 1156.88 1818.71 1156.88 Q1824.49 1156.88 1827.87 1160.05 Q1831.25 1163.22 1831.25 1168.64 Q1831.25 1174.22 1827.78 1177.32 Q1824.31 1180.4 1817.99 1180.4 Q1815.81 1180.4 1813.54 1180.03 Q1811.3 1179.66 1808.89 1178.92 L1808.89 1174.22 Q1810.97 1175.35 1813.2 1175.91 Q1815.42 1176.46 1817.89 1176.46 Q1821.9 1176.46 1824.24 1174.36 Q1826.58 1172.25 1826.58 1168.64 Q1826.58 1165.03 1824.24 1162.92 Q1821.9 1160.82 1817.89 1160.82 Q1816.02 1160.82 1814.14 1161.23 Q1812.29 1161.65 1810.35 1162.53 L1810.35 1145.17 Z\" fill=\"#000000\" fill-rule=\"evenodd\" fill-opacity=\"1\" /><path clip-path=\"url(#clip210)\" d=\"M1850.46 1148.25 Q1846.85 1148.25 1845.02 1151.81 Q1843.22 1155.35 1843.22 1162.48 Q1843.22 1169.59 1845.02 1173.15 Q1846.85 1176.7 1850.46 1176.7 Q1854.1 1176.7 1855.9 1173.15 Q1857.73 1169.59 1857.73 1162.48 Q1857.73 1155.35 1855.9 1151.81 Q1854.1 1148.25 1850.46 1148.25 M1850.46 1144.54 Q1856.27 1144.54 1859.33 1149.15 Q1862.41 1153.73 1862.41 1162.48 Q1862.41 1171.21 1859.33 1175.82 Q1856.27 1180.4 1850.46 1180.4 Q1844.65 1180.4 1841.58 1175.82 Q1838.52 1171.21 1838.52 1162.48 Q1838.52 1153.73 1841.58 1149.15 Q1844.65 1144.54 1850.46 1144.54 Z\" fill=\"#000000\" fill-rule=\"evenodd\" fill-opacity=\"1\" /><path clip-path=\"url(#clip210)\" d=\"M2619.92 1145.17 L2642.14 1145.17 L2642.14 1147.16 L2629.59 1179.73 L2624.71 1179.73 L2636.52 1149.1 L2619.92 1149.1 L2619.92 1145.17 Z\" fill=\"#000000\" fill-rule=\"evenodd\" fill-opacity=\"1\" /><path clip-path=\"url(#clip210)\" d=\"M2651.31 1145.17 L2669.66 1145.17 L2669.66 1149.1 L2655.59 1149.1 L2655.59 1157.58 Q2656.61 1157.23 2657.63 1157.07 Q2658.64 1156.88 2659.66 1156.88 Q2665.45 1156.88 2668.83 1160.05 Q2672.21 1163.22 2672.21 1168.64 Q2672.21 1174.22 2668.74 1177.32 Q2665.27 1180.4 2658.95 1180.4 Q2656.77 1180.4 2654.5 1180.03 Q2652.26 1179.66 2649.85 1178.92 L2649.85 1174.22 Q2651.93 1175.35 2654.15 1175.91 Q2656.38 1176.46 2658.85 1176.46 Q2662.86 1176.46 2665.2 1174.36 Q2667.53 1172.25 2667.53 1168.64 Q2667.53 1165.03 2665.2 1162.92 Q2662.86 1160.82 2658.85 1160.82 Q2656.98 1160.82 2655.1 1161.23 Q2653.25 1161.65 2651.31 1162.53 L2651.31 1145.17 Z\" fill=\"#000000\" fill-rule=\"evenodd\" fill-opacity=\"1\" /><path clip-path=\"url(#clip210)\" d=\"M3416.09 1175.79 L3423.72 1175.79 L3423.72 1149.43 L3415.41 1151.09 L3415.41 1146.83 L3423.68 1145.17 L3428.35 1145.17 L3428.35 1175.79 L3435.99 1175.79 L3435.99 1179.73 L3416.09 1179.73 L3416.09 1175.79 Z\" fill=\"#000000\" fill-rule=\"evenodd\" fill-opacity=\"1\" /><path clip-path=\"url(#clip210)\" d=\"M3455.44 1148.25 Q3451.83 1148.25 3450 1151.81 Q3448.19 1155.35 3448.19 1162.48 Q3448.19 1169.59 3450 1173.15 Q3451.83 1176.7 3455.44 1176.7 Q3459.07 1176.7 3460.88 1173.15 Q3462.71 1169.59 3462.71 1162.48 Q3462.71 1155.35 3460.88 1151.81 Q3459.07 1148.25 3455.44 1148.25 M3455.44 1144.54 Q3461.25 1144.54 3464.3 1149.15 Q3467.38 1153.73 3467.38 1162.48 Q3467.38 1171.21 3464.3 1175.82 Q3461.25 1180.4 3455.44 1180.4 Q3449.63 1180.4 3446.55 1175.82 Q3443.49 1171.21 3443.49 1162.48 Q3443.49 1153.73 3446.55 1149.15 Q3449.63 1144.54 3455.44 1144.54 Z\" fill=\"#000000\" fill-rule=\"evenodd\" fill-opacity=\"1\" /><path clip-path=\"url(#clip210)\" d=\"M3485.6 1148.25 Q3481.99 1148.25 3480.16 1151.81 Q3478.35 1155.35 3478.35 1162.48 Q3478.35 1169.59 3480.16 1173.15 Q3481.99 1176.7 3485.6 1176.7 Q3489.23 1176.7 3491.04 1173.15 Q3492.87 1169.59 3492.87 1162.48 Q3492.87 1155.35 3491.04 1151.81 Q3489.23 1148.25 3485.6 1148.25 M3485.6 1144.54 Q3491.41 1144.54 3494.46 1149.15 Q3497.54 1153.73 3497.54 1162.48 Q3497.54 1171.21 3494.46 1175.82 Q3491.41 1180.4 3485.6 1180.4 Q3479.79 1180.4 3476.71 1175.82 Q3473.65 1171.21 3473.65 1162.48 Q3473.65 1153.73 3476.71 1149.15 Q3479.79 1144.54 3485.6 1144.54 Z\" fill=\"#000000\" fill-rule=\"evenodd\" fill-opacity=\"1\" /><polyline clip-path=\"url(#clip212)\" style=\"stroke:#000000; stroke-linecap:round; stroke-linejoin:round; stroke-width:2; stroke-opacity:0.1; fill:none\" points=\"\n",
       "  150.959,1077.72 3552.76,1077.72 \n",
       "  \"/>\n",
       "<polyline clip-path=\"url(#clip212)\" style=\"stroke:#000000; stroke-linecap:round; stroke-linejoin:round; stroke-width:2; stroke-opacity:0.1; fill:none\" points=\"\n",
       "  150.959,925.093 3552.76,925.093 \n",
       "  \"/>\n",
       "<polyline clip-path=\"url(#clip212)\" style=\"stroke:#000000; stroke-linecap:round; stroke-linejoin:round; stroke-width:2; stroke-opacity:0.1; fill:none\" points=\"\n",
       "  150.959,772.463 3552.76,772.463 \n",
       "  \"/>\n",
       "<polyline clip-path=\"url(#clip212)\" style=\"stroke:#000000; stroke-linecap:round; stroke-linejoin:round; stroke-width:2; stroke-opacity:0.1; fill:none\" points=\"\n",
       "  150.959,619.833 3552.76,619.833 \n",
       "  \"/>\n",
       "<polyline clip-path=\"url(#clip212)\" style=\"stroke:#000000; stroke-linecap:round; stroke-linejoin:round; stroke-width:2; stroke-opacity:0.1; fill:none\" points=\"\n",
       "  150.959,467.204 3552.76,467.204 \n",
       "  \"/>\n",
       "<polyline clip-path=\"url(#clip212)\" style=\"stroke:#000000; stroke-linecap:round; stroke-linejoin:round; stroke-width:2; stroke-opacity:0.1; fill:none\" points=\"\n",
       "  150.959,314.574 3552.76,314.574 \n",
       "  \"/>\n",
       "<polyline clip-path=\"url(#clip212)\" style=\"stroke:#000000; stroke-linecap:round; stroke-linejoin:round; stroke-width:2; stroke-opacity:0.1; fill:none\" points=\"\n",
       "  150.959,161.944 3552.76,161.944 \n",
       "  \"/>\n",
       "<polyline clip-path=\"url(#clip210)\" style=\"stroke:#000000; stroke-linecap:round; stroke-linejoin:round; stroke-width:4; stroke-opacity:1; fill:none\" points=\"\n",
       "  150.959,1107.73 150.959,47.2441 \n",
       "  \"/>\n",
       "<polyline clip-path=\"url(#clip210)\" style=\"stroke:#000000; stroke-linecap:round; stroke-linejoin:round; stroke-width:4; stroke-opacity:1; fill:none\" points=\"\n",
       "  150.959,1077.72 169.857,1077.72 \n",
       "  \"/>\n",
       "<polyline clip-path=\"url(#clip210)\" style=\"stroke:#000000; stroke-linecap:round; stroke-linejoin:round; stroke-width:4; stroke-opacity:1; fill:none\" points=\"\n",
       "  150.959,925.093 169.857,925.093 \n",
       "  \"/>\n",
       "<polyline clip-path=\"url(#clip210)\" style=\"stroke:#000000; stroke-linecap:round; stroke-linejoin:round; stroke-width:4; stroke-opacity:1; fill:none\" points=\"\n",
       "  150.959,772.463 169.857,772.463 \n",
       "  \"/>\n",
       "<polyline clip-path=\"url(#clip210)\" style=\"stroke:#000000; stroke-linecap:round; stroke-linejoin:round; stroke-width:4; stroke-opacity:1; fill:none\" points=\"\n",
       "  150.959,619.833 169.857,619.833 \n",
       "  \"/>\n",
       "<polyline clip-path=\"url(#clip210)\" style=\"stroke:#000000; stroke-linecap:round; stroke-linejoin:round; stroke-width:4; stroke-opacity:1; fill:none\" points=\"\n",
       "  150.959,467.204 169.857,467.204 \n",
       "  \"/>\n",
       "<polyline clip-path=\"url(#clip210)\" style=\"stroke:#000000; stroke-linecap:round; stroke-linejoin:round; stroke-width:4; stroke-opacity:1; fill:none\" points=\"\n",
       "  150.959,314.574 169.857,314.574 \n",
       "  \"/>\n",
       "<polyline clip-path=\"url(#clip210)\" style=\"stroke:#000000; stroke-linecap:round; stroke-linejoin:round; stroke-width:4; stroke-opacity:1; fill:none\" points=\"\n",
       "  150.959,161.944 169.857,161.944 \n",
       "  \"/>\n",
       "<path clip-path=\"url(#clip210)\" d=\"M85.0151 1063.52 Q81.404 1063.52 79.5753 1067.09 Q77.7697 1070.63 77.7697 1077.76 Q77.7697 1084.86 79.5753 1088.43 Q81.404 1091.97 85.0151 1091.97 Q88.6493 1091.97 90.4548 1088.43 Q92.2835 1084.86 92.2835 1077.76 Q92.2835 1070.63 90.4548 1067.09 Q88.6493 1063.52 85.0151 1063.52 M85.0151 1059.82 Q90.8252 1059.82 93.8808 1064.42 Q96.9594 1069.01 96.9594 1077.76 Q96.9594 1086.48 93.8808 1091.09 Q90.8252 1095.67 85.0151 1095.67 Q79.2049 1095.67 76.1262 1091.09 Q73.0707 1086.48 73.0707 1077.76 Q73.0707 1069.01 76.1262 1064.42 Q79.2049 1059.82 85.0151 1059.82 Z\" fill=\"#000000\" fill-rule=\"evenodd\" fill-opacity=\"1\" /><path clip-path=\"url(#clip210)\" d=\"M80.6401 938.438 L96.9594 938.438 L96.9594 942.373 L75.0151 942.373 L75.0151 938.438 Q77.6771 935.683 82.2604 931.054 Q86.8669 926.401 88.0475 925.058 Q90.2928 922.535 91.1724 920.799 Q92.0752 919.04 92.0752 917.35 Q92.0752 914.595 90.1308 912.859 Q88.2095 911.123 85.1077 911.123 Q82.9086 911.123 80.4549 911.887 Q78.0244 912.651 75.2466 914.202 L75.2466 909.48 Q78.0707 908.345 80.5243 907.767 Q82.978 907.188 85.0151 907.188 Q90.3854 907.188 93.5798 909.873 Q96.7743 912.558 96.7743 917.049 Q96.7743 919.179 95.9641 921.1 Q95.177 922.998 93.0706 925.591 Q92.4919 926.262 89.39 929.48 Q86.2882 932.674 80.6401 938.438 Z\" fill=\"#000000\" fill-rule=\"evenodd\" fill-opacity=\"1\" /><path clip-path=\"url(#clip210)\" d=\"M87.3762 759.257 L75.5707 777.706 L87.3762 777.706 L87.3762 759.257 M86.1493 755.183 L92.0289 755.183 L92.0289 777.706 L96.9594 777.706 L96.9594 781.595 L92.0289 781.595 L92.0289 789.743 L87.3762 789.743 L87.3762 781.595 L71.7744 781.595 L71.7744 777.081 L86.1493 755.183 Z\" fill=\"#000000\" fill-rule=\"evenodd\" fill-opacity=\"1\" /><path clip-path=\"url(#clip210)\" d=\"M85.4317 617.97 Q82.2836 617.97 80.4318 620.123 Q78.6031 622.276 78.6031 626.026 Q78.6031 629.752 80.4318 631.928 Q82.2836 634.081 85.4317 634.081 Q88.5799 634.081 90.4085 631.928 Q92.2604 629.752 92.2604 626.026 Q92.2604 622.276 90.4085 620.123 Q88.5799 617.97 85.4317 617.97 M94.7141 603.317 L94.7141 607.577 Q92.9548 606.743 91.1493 606.303 Q89.3669 605.864 87.6076 605.864 Q82.978 605.864 80.5243 608.989 Q78.0938 612.114 77.7466 618.433 Q79.1123 616.419 81.1725 615.354 Q83.2327 614.266 85.7095 614.266 Q90.9178 614.266 93.927 617.438 Q96.9594 620.586 96.9594 626.026 Q96.9594 631.35 93.8113 634.567 Q90.6632 637.785 85.4317 637.785 Q79.4364 637.785 76.2651 633.201 Q73.0938 628.595 73.0938 619.868 Q73.0938 611.674 76.9827 606.813 Q80.8716 601.928 87.4225 601.928 Q89.1817 601.928 90.9641 602.276 Q92.7696 602.623 94.7141 603.317 Z\" fill=\"#000000\" fill-rule=\"evenodd\" fill-opacity=\"1\" /><path clip-path=\"url(#clip210)\" d=\"M85.1077 468.072 Q81.7743 468.072 79.8531 469.854 Q77.9549 471.637 77.9549 474.762 Q77.9549 477.886 79.8531 479.669 Q81.7743 481.451 85.1077 481.451 Q88.441 481.451 90.3623 479.669 Q92.2835 477.863 92.2835 474.762 Q92.2835 471.637 90.3623 469.854 Q88.4641 468.072 85.1077 468.072 M80.4318 466.081 Q77.4225 465.34 75.7327 463.28 Q74.066 461.22 74.066 458.257 Q74.066 454.113 77.0058 451.706 Q79.9688 449.299 85.1077 449.299 Q90.2697 449.299 93.2095 451.706 Q96.1493 454.113 96.1493 458.257 Q96.1493 461.22 94.4595 463.28 Q92.7928 465.34 89.8067 466.081 Q93.1863 466.868 95.0613 469.16 Q96.9594 471.451 96.9594 474.762 Q96.9594 479.785 93.8808 482.47 Q90.8252 485.155 85.1077 485.155 Q79.3901 485.155 76.3114 482.47 Q73.2559 479.785 73.2559 474.762 Q73.2559 471.451 75.154 469.16 Q77.0521 466.868 80.4318 466.081 M78.7188 458.697 Q78.7188 461.382 80.3855 462.887 Q82.0753 464.391 85.1077 464.391 Q88.1169 464.391 89.8067 462.887 Q91.5197 461.382 91.5197 458.697 Q91.5197 456.012 89.8067 454.507 Q88.1169 453.002 85.1077 453.002 Q82.0753 453.002 80.3855 454.507 Q78.7188 456.012 78.7188 458.697 Z\" fill=\"#000000\" fill-rule=\"evenodd\" fill-opacity=\"1\" /><path clip-path=\"url(#clip210)\" d=\"M45.6634 327.919 L53.3023 327.919 L53.3023 301.553 L44.9921 303.22 L44.9921 298.961 L53.256 297.294 L57.9319 297.294 L57.9319 327.919 L65.5707 327.919 L65.5707 331.854 L45.6634 331.854 L45.6634 327.919 Z\" fill=\"#000000\" fill-rule=\"evenodd\" fill-opacity=\"1\" /><path clip-path=\"url(#clip210)\" d=\"M85.0151 300.373 Q81.404 300.373 79.5753 303.937 Q77.7697 307.479 77.7697 314.609 Q77.7697 321.715 79.5753 325.28 Q81.404 328.822 85.0151 328.822 Q88.6493 328.822 90.4548 325.28 Q92.2835 321.715 92.2835 314.609 Q92.2835 307.479 90.4548 303.937 Q88.6493 300.373 85.0151 300.373 M85.0151 296.669 Q90.8252 296.669 93.8808 301.275 Q96.9594 305.859 96.9594 314.609 Q96.9594 323.335 93.8808 327.942 Q90.8252 332.525 85.0151 332.525 Q79.2049 332.525 76.1262 327.942 Q73.0707 323.335 73.0707 314.609 Q73.0707 305.859 76.1262 301.275 Q79.2049 296.669 85.0151 296.669 Z\" fill=\"#000000\" fill-rule=\"evenodd\" fill-opacity=\"1\" /><path clip-path=\"url(#clip210)\" d=\"M47.2606 175.289 L54.8995 175.289 L54.8995 148.923 L46.5893 150.59 L46.5893 146.331 L54.8532 144.664 L59.5291 144.664 L59.5291 175.289 L67.1679 175.289 L67.1679 179.224 L47.2606 179.224 L47.2606 175.289 Z\" fill=\"#000000\" fill-rule=\"evenodd\" fill-opacity=\"1\" /><path clip-path=\"url(#clip210)\" d=\"M80.6401 175.289 L96.9594 175.289 L96.9594 179.224 L75.0151 179.224 L75.0151 175.289 Q77.6771 172.534 82.2604 167.905 Q86.8669 163.252 88.0475 161.909 Q90.2928 159.386 91.1724 157.65 Q92.0752 155.891 92.0752 154.201 Q92.0752 151.446 90.1308 149.71 Q88.2095 147.974 85.1077 147.974 Q82.9086 147.974 80.4549 148.738 Q78.0244 149.502 75.2466 151.053 L75.2466 146.331 Q78.0707 145.197 80.5243 144.618 Q82.978 144.039 85.0151 144.039 Q90.3854 144.039 93.5798 146.724 Q96.7743 149.409 96.7743 153.9 Q96.7743 156.03 95.9641 157.951 Q95.177 159.849 93.0706 162.442 Q92.4919 163.113 89.39 166.331 Q86.2882 169.525 80.6401 175.289 Z\" fill=\"#000000\" fill-rule=\"evenodd\" fill-opacity=\"1\" /><polyline clip-path=\"url(#clip212)\" style=\"stroke:#009af9; stroke-linecap:round; stroke-linejoin:round; stroke-width:4; stroke-opacity:1; fill:none\" points=\"\n",
       "  247.237,1075.22 279.653,1068.92 312.07,1053.19 344.486,1067.21 376.903,1009.19 409.32,1004.49 441.736,1041.73 474.153,1008.18 506.569,1014.33 538.986,1008.9 \n",
       "  571.403,1008.81 603.819,1013.46 636.236,1009.25 668.652,1013.37 701.069,1077.66 733.485,1062.3 765.902,1063.61 798.319,1075.44 830.735,1041.78 863.152,1016.5 \n",
       "  895.568,1003.86 927.985,1002.63 960.402,1002.61 992.818,1077.71 1025.23,1070.28 1057.65,1070.76 1090.07,1059.84 1122.48,1022.8 1154.9,1014.33 1187.32,1008.47 \n",
       "  1219.73,1008.27 1252.15,1011.63 1284.57,1014.16 1316.98,1012.43 1349.4,1010.26 1381.82,1064.24 1414.23,1066.22 1446.65,1077.03 1479.07,1054.76 1511.48,1051.13 \n",
       "  1543.9,1016.77 1576.32,1008.52 1608.73,1065.87 1641.15,1019.54 1673.57,1012.43 1705.98,1013.06 1738.4,1013.79 1770.82,1009.01 1803.23,1008.71 1835.65,1012.39 \n",
       "  1868.07,1012.23 1900.48,1013.71 1932.9,1011.97 1965.32,1017.58 1997.73,1016.86 2030.15,1030.12 2062.57,1007.84 2094.98,1021.49 2127.4,1013.65 2159.82,1013.92 \n",
       "  2192.23,1073.05 2224.65,1020.72 2257.06,1050 2289.48,1009.12 2321.9,1002.8 2354.31,1019.62 2386.73,1004.26 2419.15,1008.28 2451.56,1077.28 2483.98,1035.19 \n",
       "  2516.4,1073.38 2548.81,1059.52 2581.23,1028.86 2613.65,1027.07 2646.06,1072.85 2678.48,1017.22 2710.9,1077.22 2743.31,1077.4 2775.73,1051.32 2808.15,1022.19 \n",
       "  2840.56,1004.76 2872.98,1002.67 2905.4,1045.19 2937.81,1011.95 2970.23,1008.53 3002.65,1012.58 3035.06,1009.14 3067.48,1071.34 3099.9,1015.2 3132.31,1071.19 \n",
       "  3164.73,1074.03 3197.15,1064.85 3229.56,1012.87 3261.98,1029.8 3294.4,1047.56 3326.81,1005.51 3359.23,1077.29 3391.65,1075.19 3424.06,1042.52 3456.48,1054.05 \n",
       "  \n",
       "  \"/>\n",
       "<polyline clip-path=\"url(#clip212)\" style=\"stroke:#e26f46; stroke-linecap:round; stroke-linejoin:round; stroke-width:4; stroke-opacity:1; fill:none\" points=\"\n",
       "  247.237,701.28 279.653,839.928 312.07,952.763 344.486,859.498 376.903,1065.88 409.32,1073.18 441.736,994.973 474.153,1067.49 506.569,1057.3 538.986,1066.34 \n",
       "  571.403,1066.49 603.819,1058.8 636.236,1065.79 668.652,1058.96 701.069,294.057 733.485,901.665 765.902,891.916 798.319,691.229 830.735,994.84 863.152,1053.46 \n",
       "  895.568,1074.13 927.985,1075.94 960.402,1075.98 992.818,77.2578 1025.23,821.442 1057.65,814.187 1090.07,917.957 1122.48,1041.5 1154.9,1057.29 1187.32,1067.03 \n",
       "  1219.73,1067.35 1252.15,1061.9 1284.57,1057.58 1316.98,1060.55 1349.4,1064.15 1381.82,886.876 1414.23,869.39 1446.65,560.644 1479.07,945.476 1511.48,961.644 \n",
       "  1543.9,1052.97 1576.32,1066.95 1608.73,872.731 1641.15,1047.85 1673.57,1060.56 1705.98,1059.48 1738.4,1058.23 1770.82,1066.16 1803.23,1066.64 1835.65,1060.62 \n",
       "  1868.07,1060.89 1900.48,1058.38 1932.9,1061.33 1965.32,1051.5 1997.73,1052.81 2030.15,1025.76 2062.57,1068.04 2094.98,1044.09 2127.4,1058.47 2159.82,1058 \n",
       "  2192.23,770.119 2224.65,1045.59 2257.06,966.223 2289.48,1065.99 2321.9,1075.69 2354.31,1047.71 2386.73,1073.53 2419.15,1067.34 2451.56,509.879 2483.98,1013.36 \n",
       "  2516.4,762.215 2548.81,919.93 2581.23,1028.63 2613.65,1032.6 2646.06,774.719 2678.48,1052.16 2710.9,524.775 2743.31,475.627 2775.73,960.882 2808.15,1042.72 \n",
       "  2840.56,1072.77 2872.98,1075.89 2905.4,983.838 2937.81,1061.36 2970.23,1066.94 3002.65,1060.3 3035.06,1065.96 3067.48,804.621 3099.9,1055.77 3132.31,807.158 \n",
       "  3164.73,744.206 3197.15,881.8 3229.56,1059.8 3261.98,1026.49 3294.4,975.517 3326.81,1071.64 3359.23,507.326 3391.65,702.949 3424.06,992.542 3456.48,948.835 \n",
       "  \n",
       "  \"/>\n",
       "<polyline clip-path=\"url(#clip212)\" style=\"stroke:#3da44d; stroke-linecap:round; stroke-linejoin:round; stroke-width:4; stroke-opacity:1; fill:none\" points=\"\n",
       "  247.237,643.198 279.653,739.602 312.07,813.613 344.486,842.867 376.903,1012.35 409.32,1048.78 441.736,962.436 474.153,1010.88 506.569,977.072 538.986,1005.08 \n",
       "  571.403,1006.92 603.819,978.337 636.236,1005.23 668.652,982.196 701.069,1007.94 733.485,731.4 765.902,793.762 798.319,801.672 830.735,880.017 863.152,971.344 \n",
       "  895.568,1054.17 927.985,1062.57 960.402,1063.26 992.818,1062.98 1025.23,718.054 1057.65,792.488 1090.07,872.298 1122.48,935.126 1154.9,981.584 1187.32,1012.01 \n",
       "  1219.73,1010.99 1252.15,998.558 1284.57,978.955 1316.98,985.186 1349.4,1003.64 1381.82,958.67 1414.23,969.504 1446.65,1002.17 1479.07,851.08 1511.48,892.712 \n",
       "  1543.9,974.555 1576.32,1014.35 1608.73,944.899 1641.15,960.391 1673.57,987.595 1705.98,994.902 1738.4,978.047 1770.82,1007.75 1803.23,1009.86 1835.65,990.839 \n",
       "  1868.07,991.582 1900.48,985.87 1932.9,990.816 1965.32,969.772 1997.73,974.283 2030.15,953.108 2062.57,1020.91 2094.98,946.349 2127.4,978.893 2159.82,991.52 \n",
       "  2192.23,997.613 2224.65,933.541 2257.06,881.429 2289.48,1010.37 2321.9,1060.49 2354.31,974.94 2386.73,1050.21 2419.15,1022.61 2451.56,946.934 2483.98,843.951 \n",
       "  2516.4,870.822 2548.81,838.821 2581.23,925.414 2613.65,939.445 2646.06,962.839 2678.48,964.982 2710.9,1017.28 2743.31,938.067 2775.73,811.978 2808.15,928.045 \n",
       "  2840.56,1043.51 2872.98,1062.86 2905.4,924.466 2937.81,994.856 2970.23,1013.03 3002.65,998.466 3035.06,1010.99 3067.48,966.52 3099.9,980.41 3132.31,1007.46 \n",
       "  3164.73,958.884 3197.15,923.201 3229.56,996.654 3261.98,970.433 3294.4,921.988 3326.81,1040.49 3359.23,935.704 3391.65,821.535 3424.06,874.732 3456.48,860.607 \n",
       "  \n",
       "  \"/>\n",
       "<path clip-path=\"url(#clip210)\" d=\"\n",
       "M3046.17 289.954 L3439.36 289.954 L3439.36 82.5936 L3046.17 82.5936  Z\n",
       "  \" fill=\"#ffffff\" fill-rule=\"evenodd\" fill-opacity=\"1\"/>\n",
       "<polyline clip-path=\"url(#clip210)\" style=\"stroke:#000000; stroke-linecap:round; stroke-linejoin:round; stroke-width:4; stroke-opacity:1; fill:none\" points=\"\n",
       "  3046.17,289.954 3439.36,289.954 3439.36,82.5936 3046.17,82.5936 3046.17,289.954 \n",
       "  \"/>\n",
       "<polyline clip-path=\"url(#clip210)\" style=\"stroke:#009af9; stroke-linecap:round; stroke-linejoin:round; stroke-width:4; stroke-opacity:1; fill:none\" points=\"\n",
       "  3083.97,134.434 3310.76,134.434 \n",
       "  \"/>\n",
       "<path clip-path=\"url(#clip210)\" d=\"M3362.4 154.121 Q3360.59 158.751 3358.88 160.163 Q3357.17 161.575 3354.3 161.575 L3350.89 161.575 L3350.89 158.01 L3353.39 158.01 Q3355.15 158.01 3356.13 157.176 Q3357.1 156.343 3358.28 153.241 L3359.04 151.297 L3348.56 125.788 L3353.07 125.788 L3361.17 146.065 L3369.27 125.788 L3373.79 125.788 L3362.4 154.121 Z\" fill=\"#000000\" fill-rule=\"evenodd\" fill-opacity=\"1\" /><path clip-path=\"url(#clip210)\" d=\"M3381.08 147.778 L3388.72 147.778 L3388.72 121.413 L3380.41 123.079 L3380.41 118.82 L3388.67 117.154 L3393.35 117.154 L3393.35 147.778 L3400.99 147.778 L3400.99 151.714 L3381.08 151.714 L3381.08 147.778 Z\" fill=\"#000000\" fill-rule=\"evenodd\" fill-opacity=\"1\" /><polyline clip-path=\"url(#clip210)\" style=\"stroke:#e26f46; stroke-linecap:round; stroke-linejoin:round; stroke-width:4; stroke-opacity:1; fill:none\" points=\"\n",
       "  3083.97,186.274 3310.76,186.274 \n",
       "  \"/>\n",
       "<path clip-path=\"url(#clip210)\" d=\"M3362.4 205.961 Q3360.59 210.591 3358.88 212.003 Q3357.17 213.415 3354.3 213.415 L3350.89 213.415 L3350.89 209.85 L3353.39 209.85 Q3355.15 209.85 3356.13 209.016 Q3357.1 208.183 3358.28 205.081 L3359.04 203.137 L3348.56 177.628 L3353.07 177.628 L3361.17 197.905 L3369.27 177.628 L3373.79 177.628 L3362.4 205.961 Z\" fill=\"#000000\" fill-rule=\"evenodd\" fill-opacity=\"1\" /><path clip-path=\"url(#clip210)\" d=\"M3384.3 199.618 L3400.62 199.618 L3400.62 203.554 L3378.67 203.554 L3378.67 199.618 Q3381.33 196.864 3385.92 192.234 Q3390.52 187.581 3391.7 186.239 Q3393.95 183.716 3394.83 181.98 Q3395.73 180.22 3395.73 178.531 Q3395.73 175.776 3393.79 174.04 Q3391.87 172.304 3388.76 172.304 Q3386.57 172.304 3384.11 173.068 Q3381.68 173.831 3378.9 175.382 L3378.9 170.66 Q3381.73 169.526 3384.18 168.947 Q3386.63 168.369 3388.67 168.369 Q3394.04 168.369 3397.24 171.054 Q3400.43 173.739 3400.43 178.23 Q3400.43 180.359 3399.62 182.281 Q3398.83 184.179 3396.73 186.771 Q3396.15 187.443 3393.05 190.66 Q3389.94 193.855 3384.3 199.618 Z\" fill=\"#000000\" fill-rule=\"evenodd\" fill-opacity=\"1\" /><polyline clip-path=\"url(#clip210)\" style=\"stroke:#3da44d; stroke-linecap:round; stroke-linejoin:round; stroke-width:4; stroke-opacity:1; fill:none\" points=\"\n",
       "  3083.97,238.114 3310.76,238.114 \n",
       "  \"/>\n",
       "<path clip-path=\"url(#clip210)\" d=\"M3362.4 257.801 Q3360.59 262.431 3358.88 263.843 Q3357.17 265.255 3354.3 265.255 L3350.89 265.255 L3350.89 261.69 L3353.39 261.69 Q3355.15 261.69 3356.13 260.856 Q3357.1 260.023 3358.28 256.921 L3359.04 254.977 L3348.56 229.468 L3353.07 229.468 L3361.17 249.745 L3369.27 229.468 L3373.79 229.468 L3362.4 257.801 Z\" fill=\"#000000\" fill-rule=\"evenodd\" fill-opacity=\"1\" /><path clip-path=\"url(#clip210)\" d=\"M3394.44 236.759 Q3397.79 237.477 3399.67 239.745 Q3401.56 242.014 3401.56 245.347 Q3401.56 250.463 3398.05 253.264 Q3394.53 256.065 3388.05 256.065 Q3385.87 256.065 3383.56 255.625 Q3381.26 255.208 3378.81 254.352 L3378.81 249.838 Q3380.75 250.972 3383.07 251.551 Q3385.38 252.13 3387.91 252.13 Q3392.31 252.13 3394.6 250.394 Q3396.91 248.657 3396.91 245.347 Q3396.91 242.292 3394.76 240.579 Q3392.63 238.843 3388.81 238.843 L3384.78 238.843 L3384.78 235 L3389 235 Q3392.44 235 3394.27 233.634 Q3396.1 232.246 3396.1 229.653 Q3396.1 226.991 3394.2 225.579 Q3392.33 224.144 3388.81 224.144 Q3386.89 224.144 3384.69 224.56 Q3382.49 224.977 3379.85 225.857 L3379.85 221.69 Q3382.51 220.949 3384.83 220.579 Q3387.17 220.209 3389.23 220.209 Q3394.55 220.209 3397.65 222.639 Q3400.75 225.046 3400.75 229.167 Q3400.75 232.037 3399.11 234.028 Q3397.47 235.996 3394.44 236.759 Z\" fill=\"#000000\" fill-rule=\"evenodd\" fill-opacity=\"1\" /></svg>\n"
      ]
     },
     "execution_count": 7,
     "metadata": {},
     "output_type": "execute_result"
    }
   ],
   "source": [
    "plot(df.Prob)\n",
    "plot!(df.IC)\n",
    "plot!(df.H)\n",
    "plot!(size=(900,300))"
   ]
  },
  {
   "cell_type": "markdown",
   "metadata": {},
   "source": [
    "### Generate Midi file"
   ]
  },
  {
   "cell_type": "code",
   "execution_count": 8,
   "metadata": {},
   "outputs": [
    {
     "data": {
      "text/plain": [
       "generatemidifile (generic function with 1 method)"
      ]
     },
     "execution_count": 8,
     "metadata": {},
     "output_type": "execute_result"
    }
   ],
   "source": [
    "using MIDI\n",
    "function generatemidifile(xs::Vector{Tuple{Int,Int}},name::String)\n",
    "    tpq = 960\n",
    "    notes = Note[]\n",
    "    pos = 0\n",
    "    for pair in xs\n",
    "        pitch = pair[1]\n",
    "        velocity = 100\n",
    "        dur = Int(tpq*pair[2]/24)\n",
    "        \n",
    "        note = Note(pitch,100,pos,dur)\n",
    "        \n",
    "        push!(notes,note)\n",
    "        pos+=dur\n",
    "    end\n",
    "    track = MIDITrack()\n",
    "    addnotes!(track, notes)\n",
    "    \n",
    "    midi = MIDIFile(0, tpq, [track])\n",
    "    cd(@__DIR__)\n",
    "    save(name, midi)\n",
    "end"
   ]
  },
  {
   "cell_type": "code",
   "execution_count": 9,
   "metadata": {},
   "outputs": [
    {
     "data": {
      "text/plain": [
       "MIDIFile (format=0, tpq=960) with 1 tracks"
      ]
     },
     "execution_count": 9,
     "metadata": {},
     "output_type": "execute_result"
    }
   ],
   "source": [
    "generatemidifile(seq,\"example1.mid\")"
   ]
  },
  {
   "cell_type": "markdown",
   "metadata": {},
   "source": [
    "### Generating separate sequences of pitch and duration"
   ]
  },
  {
   "cell_type": "code",
   "execution_count": 10,
   "metadata": {},
   "outputs": [
    {
     "data": {
      "text/plain": [
       "100-element Vector{Tuple{Int64, Int64}}:\n",
       " (67, 24)\n",
       " (65, 24)\n",
       " (67, 24)\n",
       " (65, 24)\n",
       " (58, 24)\n",
       " (60, 24)\n",
       " (58, 24)\n",
       " (57, 24)\n",
       " (58, 24)\n",
       " (65, 24)\n",
       " (65, 24)\n",
       " (65, 24)\n",
       " (67, 24)\n",
       " ⋮\n",
       " (62, 12)\n",
       " (60, 12)\n",
       " (62, 36)\n",
       " (65, 12)\n",
       " (64, 24)\n",
       " (65, 12)\n",
       " (69, 24)\n",
       " (72, 12)\n",
       " (69, 24)\n",
       " (69, 12)\n",
       " (65, 36)\n",
       " (65, 12)"
      ]
     },
     "execution_count": 10,
     "metadata": {},
     "output_type": "execute_result"
    }
   ],
   "source": [
    "pviews = [View(seq,PITCH,PITCH) for seq in sequences];\n",
    "dviews = [View(seq,DUR,DUR) for seq in sequences]\n",
    "\n",
    "o = Bounded(5) # order bound\n",
    "\n",
    "ptally, pseen = Idyoms.train(pviews,o);\n",
    "dtally, dseen = Idyoms.train(dviews,o);\n",
    "\n",
    "pa = pseen\n",
    "da = dseen\n",
    "\n",
    "b = Backoff() # smoothing technique\n",
    "e = C() # escape method\n",
    "u = false # update exclusion\n",
    "\n",
    "ppreds, pseq = Idyoms.gen_seq(100,ptally,pseen,pa,b,e,u,o);\n",
    "dpreds, dseq = Idyoms.gen_seq(100,dtally,dseen,da,b,e,u,o);\n",
    "\n",
    "seq = collect(zip(pseq,dseq))"
   ]
  },
  {
   "cell_type": "code",
   "execution_count": 11,
   "metadata": {},
   "outputs": [
    {
     "data": {
      "text/plain": [
       "MIDIFile (format=0, tpq=960) with 1 tracks"
      ]
     },
     "execution_count": 11,
     "metadata": {},
     "output_type": "execute_result"
    }
   ],
   "source": [
    "generatemidifile(seq,\"example2.mid\")"
   ]
  }
 ],
 "metadata": {
  "kernelspec": {
   "display_name": "Julia 1.7.3",
   "language": "julia",
   "name": "julia-1.7"
  },
  "language_info": {
   "file_extension": ".jl",
   "mimetype": "application/julia",
   "name": "julia",
   "version": "1.7.3"
  }
 },
 "nbformat": 4,
 "nbformat_minor": 4
}
