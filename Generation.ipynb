{
 "cells": [
  {
   "cell_type": "markdown",
   "metadata": {},
   "source": [
    "# Generation Using Idyoms"
   ]
  },
  {
   "cell_type": "code",
   "execution_count": 1,
   "metadata": {},
   "outputs": [
    {
     "name": "stderr",
     "output_type": "stream",
     "text": [
      "WARNING: using DataFrames.combine in module Idyoms conflicts with an existing identifier.\n"
     ]
    }
   ],
   "source": [
    "using DataFrames, Plots, Random\n",
    "using Chakra\n",
    "include(\"src/Idyoms.jl\")\n",
    "using Main.Idyoms"
   ]
  },
  {
   "cell_type": "markdown",
   "metadata": {},
   "source": [
    "## Load Melch"
   ]
  },
  {
   "cell_type": "code",
   "execution_count": 2,
   "metadata": {},
   "outputs": [],
   "source": [
    "using Melch\n",
    "Melch.__INIT__(\"/Users/nick/Dropbox/MelchData\")"
   ]
  },
  {
   "cell_type": "markdown",
   "metadata": {},
   "source": [
    "## Select Nova Dataset"
   ]
  },
  {
   "cell_type": "code",
   "execution_count": 3,
   "metadata": {},
   "outputs": [
    {
     "data": {
      "text/plain": [
       "\"Songs and ballads from Nova Scotia, Canada.\""
      ]
     },
     "execution_count": 3,
     "metadata": {},
     "output_type": "execute_result"
    }
   ],
   "source": [
    "nova = fnd(Melch.id(0),Melch)\n",
    "nova.description"
   ]
  },
  {
   "cell_type": "markdown",
   "metadata": {},
   "source": [
    "## Generate Sequences"
   ]
  },
  {
   "cell_type": "code",
   "execution_count": 4,
   "metadata": {},
   "outputs": [],
   "source": [
    "melodies = pts(nova)\n",
    "sequences = [sequence(pts(mel,Melch),Melch) for mel in melodies];"
   ]
  },
  {
   "cell_type": "code",
   "execution_count": 5,
   "metadata": {},
   "outputs": [
    {
     "name": "stdout",
     "output_type": "stream",
     "text": [
      "Melch.Event\n",
      "  id: Melch.EventId\n",
      "    dataset: Int64 0\n",
      "    melody: Int64 1\n",
      "    event: Int64 1\n",
      "  ONSET: Int64 0\n",
      "  DELTAST: Int64 0\n",
      "  BIOI: Int64 1\n",
      "  DUR: Int64 24\n",
      "  CPITCH: Int64 65\n",
      "  MPITCH: Int64 38\n",
      "  ACCIDENTAL: Int64 0\n",
      "  KEYSIG: Int64 -1\n",
      "  MODE: Int64 0\n",
      "  BARLENGTH: Int64 48\n",
      "  PULSES: Int64 2\n",
      "  PHRASE: Int64 1\n",
      "  VOICE: Int64 1\n",
      "  ORNAMENT: Int64 0\n",
      "  COMMA: Int64 0\n",
      "  VERTINT12: Chakra.None Chakra.None()\n",
      "  ARTICULATION: Int64 0\n",
      "  DYN: Chakra.None Chakra.None()\n"
     ]
    }
   ],
   "source": [
    "dump(sequences[1][1])"
   ]
  },
  {
   "cell_type": "markdown",
   "metadata": {},
   "source": [
    "## Define Viewpoints"
   ]
  },
  {
   "cell_type": "code",
   "execution_count": 6,
   "metadata": {},
   "outputs": [
    {
     "data": {
      "text/plain": [
       "Chakra.LinkedViewpoint{Tuple{Int64, Int64}}(Viewpoint[Chakra.AtomicViewpoint{Int64}(Melch.Attribute{:CPITCH, Int64}(), Type[Int64]), Chakra.AtomicViewpoint{Int64}(Melch.Attribute{:DUR, Int64}(), Type[Int64])], DataType[Int64, Int64])"
      ]
     },
     "execution_count": 6,
     "metadata": {},
     "output_type": "execute_result"
    }
   ],
   "source": [
    "CPITCH = vp(Melch.CPITCH)\n",
    "DUR = vp(Melch.DUR)\n",
    "CPITCH_X_DUR = link(CPITCH,DUR)"
   ]
  },
  {
   "cell_type": "markdown",
   "metadata": {},
   "source": [
    "## Generate Views"
   ]
  },
  {
   "cell_type": "code",
   "execution_count": 7,
   "metadata": {},
   "outputs": [],
   "source": [
    "p_p = [View(seq,CPITCH,CPITCH) for seq in sequences];\n",
    "d_d = [View(seq,DUR,DUR) for seq in sequences];\n",
    "p_d = [View(seq,CPITCH,DUR) for seq in sequences];\n",
    "d_p = [View(seq,DUR,CPITCH) for seq in sequences];\n",
    "pxd_pxd = [View(seq,CPITCH_X_DUR,CPITCH_X_DUR) for seq in sequences];"
   ]
  },
  {
   "cell_type": "markdown",
   "metadata": {},
   "source": [
    "## Set Parameters"
   ]
  },
  {
   "cell_type": "code",
   "execution_count": 24,
   "metadata": {},
   "outputs": [
    {
     "data": {
      "text/plain": [
       "true"
      ]
     },
     "execution_count": 24,
     "metadata": {},
     "output_type": "execute_result"
    }
   ],
   "source": [
    "o = Bounded(5) # order bound\n",
    "b = Interpolated() # smoothing technique\n",
    "e = A() # escape method\n",
    "u = true # update exclusion"
   ]
  },
  {
   "cell_type": "markdown",
   "metadata": {},
   "source": [
    "## Generate Models"
   ]
  },
  {
   "cell_type": "code",
   "execution_count": 25,
   "metadata": {},
   "outputs": [],
   "source": [
    "p_p_tally, p_seen = Idyoms.train(p_p,o);\n",
    "d_d_tally, d_seen = Idyoms.train(d_d,o);\n",
    "p_d_tally, d_seen = Idyoms.train(p_d,o);\n",
    "d_p_tally, p_seen = Idyoms.train(d_p,o);\n",
    "pxd_pxd_tally, pxd_seen = Idyoms.train(pxd_pxd,o);"
   ]
  },
  {
   "cell_type": "markdown",
   "metadata": {},
   "source": [
    "## Use models to generate new sequences"
   ]
  },
  {
   "cell_type": "code",
   "execution_count": 26,
   "metadata": {},
   "outputs": [
    {
     "ename": "LoadError",
     "evalue": "ArgumentError: invalid index: nothing of type Nothing",
     "output_type": "error",
     "traceback": [
      "ArgumentError: invalid index: nothing of type Nothing",
      "",
      "Stacktrace:",
      "  [1] to_index(i::Nothing)",
      "    @ Base ./indices.jl:300",
      "  [2] to_index(A::Vector{Pair{Tuple{Int64, Int64}, Float64}}, i::Nothing)",
      "    @ Base ./indices.jl:277",
      "  [3] to_indices",
      "    @ ./indices.jl:333 [inlined]",
      "  [4] to_indices",
      "    @ ./indices.jl:325 [inlined]",
      "  [5] getindex",
      "    @ ./abstractarray.jl:1218 [inlined]",
      "  [6] sample(dist::Dict{Tuple{Int64, Int64}, Float64})",
      "    @ Main.Idyoms ~/Dropbox/code/Idyoms/src/Idyoms.jl:452",
      "  [7] generate_next(ctx::SubArray{Tuple{Int64, Int64}, 1, Vector{Tuple{Int64, Int64}}, Tuple{UnitRange{Int64}}, true}, tally::Dict{SubArray{Tuple{Int64, Int64}, 1, Vector{Tuple{Int64, Int64}}, Tuple{UnitRange{Int64}}, true}, DataStructures.DefaultDict{Tuple{Int64, Int64}, Int64, Int64}}, seen::Set{Tuple{Int64, Int64}}, A::Set{Tuple{Int64, Int64}}, B::Interpolated, E::A, U::Bool)",
      "    @ Main.Idyoms ~/Dropbox/code/Idyoms/src/Idyoms.jl:779",
      "  [8] generate_sequence(len::Int64, tally::Dict{SubArray{Tuple{Int64, Int64}, 1, Vector{Tuple{Int64, Int64}}, Tuple{UnitRange{Int64}}, true}, DataStructures.DefaultDict{Tuple{Int64, Int64}, Int64, Int64}}, seen::Set{Tuple{Int64, Int64}}, A::Set{Tuple{Int64, Int64}}, B::Interpolated, E::A, U::Bool, O::Bounded{5})",
      "    @ Main.Idyoms ~/Dropbox/code/Idyoms/src/Idyoms.jl:807",
      "  [9] top-level scope",
      "    @ In[26]:1",
      " [10] eval",
      "    @ ./boot.jl:373 [inlined]",
      " [11] include_string(mapexpr::typeof(REPL.softscope), mod::Module, code::String, filename::String)",
      "    @ Base ./loading.jl:1196"
     ]
    }
   ],
   "source": [
    "preds, seq = Idyoms.generate_sequence(100,pxd_pxd_tally,pxd_seen,pxd_seen,b,e,u,o) "
   ]
  },
  {
   "cell_type": "markdown",
   "metadata": {},
   "source": [
    "## Display Sequence"
   ]
  },
  {
   "cell_type": "code",
   "execution_count": 27,
   "metadata": {},
   "outputs": [
    {
     "data": {
      "text/plain": [
       "2.7386591110275735"
      ]
     },
     "execution_count": 27,
     "metadata": {},
     "output_type": "execute_result"
    }
   ],
   "source": [
    "Idyoms.mean_infcontent(preds)"
   ]
  },
  {
   "cell_type": "code",
   "execution_count": 28,
   "metadata": {},
   "outputs": [
    {
     "data": {
      "text/html": [
       "<div><div style = \"float: left;\"><span>100×7 DataFrame</span></div><div style = \"float: right;\"><span style = \"font-style: italic;\">75 rows omitted</span></div><div style = \"clear: both;\"></div></div><div class = \"data-frame\" style = \"overflow-x: scroll;\"><table class = \"data-frame\" style = \"margin-bottom: 6px;\"><thead><tr class = \"header\"><th class = \"rowNumber\" style = \"font-weight: bold; text-align: right;\">Row</th><th style = \"text-align: left;\">SeqID</th><th style = \"text-align: left;\">EventID</th><th style = \"text-align: left;\">Symbol</th><th style = \"text-align: left;\">Order</th><th style = \"text-align: left;\">Prob</th><th style = \"text-align: left;\">IC</th><th style = \"text-align: left;\">H</th></tr><tr class = \"subheader headerLastRow\"><th class = \"rowNumber\" style = \"font-weight: bold; text-align: right;\"></th><th title = \"Int64\" style = \"text-align: left;\">Int64</th><th title = \"Int64\" style = \"text-align: left;\">Int64</th><th title = \"Tuple{Int64, Int64}\" style = \"text-align: left;\">Tuple…</th><th title = \"Int64\" style = \"text-align: left;\">Int64</th><th title = \"Float64\" style = \"text-align: left;\">Float64</th><th title = \"Float64\" style = \"text-align: left;\">Float64</th><th title = \"Float64\" style = \"text-align: left;\">Float64</th></tr></thead><tbody><tr><td class = \"rowNumber\" style = \"font-weight: bold; text-align: right;\">1</td><td style = \"text-align: right;\">1</td><td style = \"text-align: right;\">1</td><td style = \"text-align: left;\">(62, 24)</td><td style = \"text-align: right;\">0</td><td style = \"text-align: right;\">0.0344949</td><td style = \"text-align: right;\">4.85747</td><td style = \"text-align: right;\">5.69385</td></tr><tr><td class = \"rowNumber\" style = \"font-weight: bold; text-align: right;\">2</td><td style = \"text-align: right;\">1</td><td style = \"text-align: right;\">2</td><td style = \"text-align: left;\">(62, 48)</td><td style = \"text-align: right;\">1</td><td style = \"text-align: right;\">0.0170649</td><td style = \"text-align: right;\">5.87283</td><td style = \"text-align: right;\">4.50203</td></tr><tr><td class = \"rowNumber\" style = \"font-weight: bold; text-align: right;\">3</td><td style = \"text-align: right;\">1</td><td style = \"text-align: right;\">3</td><td style = \"text-align: left;\">(64, 12)</td><td style = \"text-align: right;\">1</td><td style = \"text-align: right;\">0.0333335</td><td style = \"text-align: right;\">4.90688</td><td style = \"text-align: right;\">2.86766</td></tr><tr><td class = \"rowNumber\" style = \"font-weight: bold; text-align: right;\">4</td><td style = \"text-align: right;\">1</td><td style = \"text-align: right;\">4</td><td style = \"text-align: left;\">(67, 24)</td><td style = \"text-align: right;\">1</td><td style = \"text-align: right;\">0.012766</td><td style = \"text-align: right;\">6.29155</td><td style = \"text-align: right;\">3.24347</td></tr><tr><td class = \"rowNumber\" style = \"font-weight: bold; text-align: right;\">5</td><td style = \"text-align: right;\">1</td><td style = \"text-align: right;\">5</td><td style = \"text-align: left;\">(67, 12)</td><td style = \"text-align: right;\">2</td><td style = \"text-align: right;\">0.285714</td><td style = \"text-align: right;\">1.80735</td><td style = \"text-align: right;\">3.15886</td></tr><tr><td class = \"rowNumber\" style = \"font-weight: bold; text-align: right;\">6</td><td style = \"text-align: right;\">1</td><td style = \"text-align: right;\">6</td><td style = \"text-align: left;\">(64, 12)</td><td style = \"text-align: right;\">3</td><td style = \"text-align: right;\">0.333333</td><td style = \"text-align: right;\">1.58496</td><td style = \"text-align: right;\">2.81316</td></tr><tr><td class = \"rowNumber\" style = \"font-weight: bold; text-align: right;\">7</td><td style = \"text-align: right;\">1</td><td style = \"text-align: right;\">7</td><td style = \"text-align: left;\">(62, 12)</td><td style = \"text-align: right;\">2</td><td style = \"text-align: right;\">0.0367647</td><td style = \"text-align: right;\">4.76553</td><td style = \"text-align: right;\">2.3548</td></tr><tr><td class = \"rowNumber\" style = \"font-weight: bold; text-align: right;\">8</td><td style = \"text-align: right;\">1</td><td style = \"text-align: right;\">8</td><td style = \"text-align: left;\">(62, 12)</td><td style = \"text-align: right;\">3</td><td style = \"text-align: right;\">0.166667</td><td style = \"text-align: right;\">2.58496</td><td style = \"text-align: right;\">2.74576</td></tr><tr><td class = \"rowNumber\" style = \"font-weight: bold; text-align: right;\">9</td><td style = \"text-align: right;\">1</td><td style = \"text-align: right;\">9</td><td style = \"text-align: left;\">(62, 48)</td><td style = \"text-align: right;\">4</td><td style = \"text-align: right;\">0.5</td><td style = \"text-align: right;\">1.0</td><td style = \"text-align: right;\">2.37011</td></tr><tr><td class = \"rowNumber\" style = \"font-weight: bold; text-align: right;\">10</td><td style = \"text-align: right;\">1</td><td style = \"text-align: right;\">10</td><td style = \"text-align: left;\">(62, 24)</td><td style = \"text-align: right;\">3</td><td style = \"text-align: right;\">0.500002</td><td style = \"text-align: right;\">0.999994</td><td style = \"text-align: right;\">2.26087</td></tr><tr><td class = \"rowNumber\" style = \"font-weight: bold; text-align: right;\">11</td><td style = \"text-align: right;\">1</td><td style = \"text-align: right;\">11</td><td style = \"text-align: left;\">(65, 48)</td><td style = \"text-align: right;\">4</td><td style = \"text-align: right;\">0.5</td><td style = \"text-align: right;\">1.0</td><td style = \"text-align: right;\">2.53614</td></tr><tr><td class = \"rowNumber\" style = \"font-weight: bold; text-align: right;\">12</td><td style = \"text-align: right;\">1</td><td style = \"text-align: right;\">12</td><td style = \"text-align: left;\">(65, 24)</td><td style = \"text-align: right;\">5</td><td style = \"text-align: right;\">0.500001</td><td style = \"text-align: right;\">0.999998</td><td style = \"text-align: right;\">2.45213</td></tr><tr><td class = \"rowNumber\" style = \"font-weight: bold; text-align: right;\">13</td><td style = \"text-align: right;\">1</td><td style = \"text-align: right;\">13</td><td style = \"text-align: left;\">(62, 48)</td><td style = \"text-align: right;\">5</td><td style = \"text-align: right;\">0.5</td><td style = \"text-align: right;\">1.0</td><td style = \"text-align: right;\">2.20963</td></tr><tr><td style = \"text-align: right;\">&vellip;</td><td style = \"text-align: right;\">&vellip;</td><td style = \"text-align: right;\">&vellip;</td><td style = \"text-align: right;\">&vellip;</td><td style = \"text-align: right;\">&vellip;</td><td style = \"text-align: right;\">&vellip;</td><td style = \"text-align: right;\">&vellip;</td><td style = \"text-align: right;\">&vellip;</td></tr><tr><td class = \"rowNumber\" style = \"font-weight: bold; text-align: right;\">89</td><td style = \"text-align: right;\">1</td><td style = \"text-align: right;\">89</td><td style = \"text-align: left;\">(60, 12)</td><td style = \"text-align: right;\">2</td><td style = \"text-align: right;\">0.500003</td><td style = \"text-align: right;\">0.999992</td><td style = \"text-align: right;\">2.67653</td></tr><tr><td class = \"rowNumber\" style = \"font-weight: bold; text-align: right;\">90</td><td style = \"text-align: right;\">1</td><td style = \"text-align: right;\">90</td><td style = \"text-align: left;\">(69, 12)</td><td style = \"text-align: right;\">1</td><td style = \"text-align: right;\">0.00135501</td><td style = \"text-align: right;\">9.52748</td><td style = \"text-align: right;\">2.45627</td></tr><tr><td class = \"rowNumber\" style = \"font-weight: bold; text-align: right;\">91</td><td style = \"text-align: right;\">1</td><td style = \"text-align: right;\">91</td><td style = \"text-align: left;\">(72, 36)</td><td style = \"text-align: right;\">2</td><td style = \"text-align: right;\">0.333333</td><td style = \"text-align: right;\">1.58496</td><td style = \"text-align: right;\">3.01271</td></tr><tr><td class = \"rowNumber\" style = \"font-weight: bold; text-align: right;\">92</td><td style = \"text-align: right;\">1</td><td style = \"text-align: right;\">92</td><td style = \"text-align: left;\">(72, 6)</td><td style = \"text-align: right;\">3</td><td style = \"text-align: right;\">0.5</td><td style = \"text-align: right;\">0.999999</td><td style = \"text-align: right;\">2.34884</td></tr><tr><td class = \"rowNumber\" style = \"font-weight: bold; text-align: right;\">93</td><td style = \"text-align: right;\">1</td><td style = \"text-align: right;\">93</td><td style = \"text-align: left;\">(70, 24)</td><td style = \"text-align: right;\">1</td><td style = \"text-align: right;\">0.0234375</td><td style = \"text-align: right;\">5.41504</td><td style = \"text-align: right;\">2.40314</td></tr><tr><td class = \"rowNumber\" style = \"font-weight: bold; text-align: right;\">94</td><td style = \"text-align: right;\">1</td><td style = \"text-align: right;\">94</td><td style = \"text-align: left;\">(67, 18)</td><td style = \"text-align: right;\">2</td><td style = \"text-align: right;\">0.25</td><td style = \"text-align: right;\">2.0</td><td style = \"text-align: right;\">3.03914</td></tr><tr><td class = \"rowNumber\" style = \"font-weight: bold; text-align: right;\">95</td><td style = \"text-align: right;\">1</td><td style = \"text-align: right;\">95</td><td style = \"text-align: left;\">(65, 6)</td><td style = \"text-align: right;\">3</td><td style = \"text-align: right;\">0.500001</td><td style = \"text-align: right;\">0.999997</td><td style = \"text-align: right;\">2.10762</td></tr><tr><td class = \"rowNumber\" style = \"font-weight: bold; text-align: right;\">96</td><td style = \"text-align: right;\">1</td><td style = \"text-align: right;\">96</td><td style = \"text-align: left;\">(63, 18)</td><td style = \"text-align: right;\">4</td><td style = \"text-align: right;\">0.5</td><td style = \"text-align: right;\">1.0</td><td style = \"text-align: right;\">2.48906</td></tr><tr><td class = \"rowNumber\" style = \"font-weight: bold; text-align: right;\">97</td><td style = \"text-align: right;\">1</td><td style = \"text-align: right;\">97</td><td style = \"text-align: left;\">(60, 6)</td><td style = \"text-align: right;\">3</td><td style = \"text-align: right;\">0.250001</td><td style = \"text-align: right;\">1.99999</td><td style = \"text-align: right;\">2.21269</td></tr><tr><td class = \"rowNumber\" style = \"font-weight: bold; text-align: right;\">98</td><td style = \"text-align: right;\">1</td><td style = \"text-align: right;\">98</td><td style = \"text-align: left;\">(58, 12)</td><td style = \"text-align: right;\">1</td><td style = \"text-align: right;\">0.0333334</td><td style = \"text-align: right;\">4.90689</td><td style = \"text-align: right;\">2.97473</td></tr><tr><td class = \"rowNumber\" style = \"font-weight: bold; text-align: right;\">99</td><td style = \"text-align: right;\">1</td><td style = \"text-align: right;\">99</td><td style = \"text-align: left;\">(63, 12)</td><td style = \"text-align: right;\">1</td><td style = \"text-align: right;\">0.0443549</td><td style = \"text-align: right;\">4.49476</td><td style = \"text-align: right;\">2.44741</td></tr><tr><td class = \"rowNumber\" style = \"font-weight: bold; text-align: right;\">100</td><td style = \"text-align: right;\">1</td><td style = \"text-align: right;\">100</td><td style = \"text-align: left;\">(65, 12)</td><td style = \"text-align: right;\">2</td><td style = \"text-align: right;\">0.25</td><td style = \"text-align: right;\">2.0</td><td style = \"text-align: right;\">2.10418</td></tr></tbody></table></div>"
      ],
      "text/latex": [
       "\\begin{tabular}{r|ccccccc}\n",
       "\t& SeqID & EventID & Symbol & Order & Prob & IC & H\\\\\n",
       "\t\\hline\n",
       "\t& Int64 & Int64 & Tuple… & Int64 & Float64 & Float64 & Float64\\\\\n",
       "\t\\hline\n",
       "\t1 & 1 & 1 & (62, 24) & 0 & 0.0344949 & 4.85747 & 5.69385 \\\\\n",
       "\t2 & 1 & 2 & (62, 48) & 1 & 0.0170649 & 5.87283 & 4.50203 \\\\\n",
       "\t3 & 1 & 3 & (64, 12) & 1 & 0.0333335 & 4.90688 & 2.86766 \\\\\n",
       "\t4 & 1 & 4 & (67, 24) & 1 & 0.012766 & 6.29155 & 3.24347 \\\\\n",
       "\t5 & 1 & 5 & (67, 12) & 2 & 0.285714 & 1.80735 & 3.15886 \\\\\n",
       "\t6 & 1 & 6 & (64, 12) & 3 & 0.333333 & 1.58496 & 2.81316 \\\\\n",
       "\t7 & 1 & 7 & (62, 12) & 2 & 0.0367647 & 4.76553 & 2.3548 \\\\\n",
       "\t8 & 1 & 8 & (62, 12) & 3 & 0.166667 & 2.58496 & 2.74576 \\\\\n",
       "\t9 & 1 & 9 & (62, 48) & 4 & 0.5 & 1.0 & 2.37011 \\\\\n",
       "\t10 & 1 & 10 & (62, 24) & 3 & 0.500002 & 0.999994 & 2.26087 \\\\\n",
       "\t11 & 1 & 11 & (65, 48) & 4 & 0.5 & 1.0 & 2.53614 \\\\\n",
       "\t12 & 1 & 12 & (65, 24) & 5 & 0.500001 & 0.999998 & 2.45213 \\\\\n",
       "\t13 & 1 & 13 & (62, 48) & 5 & 0.5 & 1.0 & 2.20963 \\\\\n",
       "\t14 & 1 & 14 & (67, 48) & 1 & 0.0500004 & 4.32192 & 2.60408 \\\\\n",
       "\t15 & 1 & 15 & (60, 72) & 2 & 0.500002 & 0.999994 & 3.01644 \\\\\n",
       "\t16 & 1 & 16 & (60, 24) & 3 & 0.500006 & 0.999982 & 2.76635 \\\\\n",
       "\t17 & 1 & 17 & (60, 24) & 4 & 0.5 & 0.999999 & 3.30986 \\\\\n",
       "\t18 & 1 & 18 & (67, 24) & 5 & 0.5 & 1.0 & 2.63684 \\\\\n",
       "\t19 & 1 & 19 & (72, 24) & 5 & 0.5 & 1.0 & 1.91131 \\\\\n",
       "\t20 & 1 & 20 & (70, 24) & 2 & 0.0555556 & 4.16992 & 2.59283 \\\\\n",
       "\t21 & 1 & 21 & (67, 24) & 3 & 0.5 & 1.0 & 2.54853 \\\\\n",
       "\t22 & 1 & 22 & (70, 24) & 4 & 0.5 & 1.0 & 2.39433 \\\\\n",
       "\t23 & 1 & 23 & (62, 24) & 5 & 0.5 & 1.0 & 2.31004 \\\\\n",
       "\t24 & 1 & 24 & (63, 24) & 5 & 0.75 & 0.415037 & 1.46085 \\\\\n",
       "\t25 & 1 & 25 & (65, 96) & 5 & 0.75 & 0.415037 & 1.8841 \\\\\n",
       "\t26 & 1 & 26 & (65, 12) & 5 & 0.750008 & 0.415022 & 1.67887 \\\\\n",
       "\t27 & 1 & 27 & (67, 12) & 5 & 0.75 & 0.415037 & 1.86082 \\\\\n",
       "\t28 & 1 & 28 & (68, 24) & 5 & 0.75 & 0.415037 & 1.639 \\\\\n",
       "\t29 & 1 & 29 & (65, 12) & 2 & 0.0625 & 4.0 & 1.56585 \\\\\n",
       "\t30 & 1 & 30 & (63, 12) & 3 & 0.5 & 0.999999 & 3.05825 \\\\\n",
       "\t$\\dots$ & $\\dots$ & $\\dots$ & $\\dots$ & $\\dots$ & $\\dots$ & $\\dots$ & $\\dots$ \\\\\n",
       "\\end{tabular}\n"
      ],
      "text/plain": [
       "\u001b[1m100×7 DataFrame\u001b[0m\n",
       "\u001b[1m Row \u001b[0m│\u001b[1m SeqID \u001b[0m\u001b[1m EventID \u001b[0m\u001b[1m Symbol   \u001b[0m\u001b[1m Order \u001b[0m\u001b[1m Prob       \u001b[0m\u001b[1m IC       \u001b[0m\u001b[1m H       \u001b[0m\n",
       "     │\u001b[90m Int64 \u001b[0m\u001b[90m Int64   \u001b[0m\u001b[90m Tuple…   \u001b[0m\u001b[90m Int64 \u001b[0m\u001b[90m Float64    \u001b[0m\u001b[90m Float64  \u001b[0m\u001b[90m Float64 \u001b[0m\n",
       "─────┼────────────────────────────────────────────────────────────────\n",
       "   1 │     1        1  (62, 24)      0  0.0344949   4.85747   5.69385\n",
       "   2 │     1        2  (62, 48)      1  0.0170649   5.87283   4.50203\n",
       "   3 │     1        3  (64, 12)      1  0.0333335   4.90688   2.86766\n",
       "   4 │     1        4  (67, 24)      1  0.012766    6.29155   3.24347\n",
       "   5 │     1        5  (67, 12)      2  0.285714    1.80735   3.15886\n",
       "   6 │     1        6  (64, 12)      3  0.333333    1.58496   2.81316\n",
       "   7 │     1        7  (62, 12)      2  0.0367647   4.76553   2.3548\n",
       "   8 │     1        8  (62, 12)      3  0.166667    2.58496   2.74576\n",
       "   9 │     1        9  (62, 48)      4  0.5         1.0       2.37011\n",
       "  10 │     1       10  (62, 24)      3  0.500002    0.999994  2.26087\n",
       "  11 │     1       11  (65, 48)      4  0.5         1.0       2.53614\n",
       "  ⋮  │   ⋮       ⋮        ⋮        ⋮        ⋮          ⋮         ⋮\n",
       "  91 │     1       91  (72, 36)      2  0.333333    1.58496   3.01271\n",
       "  92 │     1       92  (72, 6)       3  0.5         0.999999  2.34884\n",
       "  93 │     1       93  (70, 24)      1  0.0234375   5.41504   2.40314\n",
       "  94 │     1       94  (67, 18)      2  0.25        2.0       3.03914\n",
       "  95 │     1       95  (65, 6)       3  0.500001    0.999997  2.10762\n",
       "  96 │     1       96  (63, 18)      4  0.5         1.0       2.48906\n",
       "  97 │     1       97  (60, 6)       3  0.250001    1.99999   2.21269\n",
       "  98 │     1       98  (58, 12)      1  0.0333334   4.90689   2.97473\n",
       "  99 │     1       99  (63, 12)      1  0.0443549   4.49476   2.44741\n",
       " 100 │     1      100  (65, 12)      2  0.25        2.0       2.10418\n",
       "\u001b[36m                                                       79 rows omitted\u001b[0m"
      ]
     },
     "execution_count": 28,
     "metadata": {},
     "output_type": "execute_result"
    }
   ],
   "source": [
    "df = Idyoms.todataframe(1,preds)"
   ]
  },
  {
   "cell_type": "code",
   "execution_count": 29,
   "metadata": {},
   "outputs": [
    {
     "data": {
      "image/svg+xml": [
       "<?xml version=\"1.0\" encoding=\"utf-8\"?>\n",
       "<svg xmlns=\"http://www.w3.org/2000/svg\" xmlns:xlink=\"http://www.w3.org/1999/xlink\" width=\"900\" height=\"300\" viewBox=\"0 0 3600 1200\">\n",
       "<defs>\n",
       "  <clipPath id=\"clip190\">\n",
       "    <rect x=\"0\" y=\"0\" width=\"3600\" height=\"1200\"/>\n",
       "  </clipPath>\n",
       "</defs>\n",
       "<path clip-path=\"url(#clip190)\" d=\"\n",
       "M0 1200 L3600 1200 L3600 0 L0 0  Z\n",
       "  \" fill=\"#ffffff\" fill-rule=\"evenodd\" fill-opacity=\"1\"/>\n",
       "<defs>\n",
       "  <clipPath id=\"clip191\">\n",
       "    <rect x=\"720\" y=\"0\" width=\"2521\" height=\"1200\"/>\n",
       "  </clipPath>\n",
       "</defs>\n",
       "<path clip-path=\"url(#clip190)\" d=\"\n",
       "M196.191 1107.73 L3552.76 1107.73 L3552.76 47.2441 L196.191 47.2441  Z\n",
       "  \" fill=\"#ffffff\" fill-rule=\"evenodd\" fill-opacity=\"1\"/>\n",
       "<defs>\n",
       "  <clipPath id=\"clip192\">\n",
       "    <rect x=\"196\" y=\"47\" width=\"3358\" height=\"1061\"/>\n",
       "  </clipPath>\n",
       "</defs>\n",
       "<polyline clip-path=\"url(#clip192)\" style=\"stroke:#000000; stroke-linecap:round; stroke-linejoin:round; stroke-width:2; stroke-opacity:0.1; fill:none\" points=\"\n",
       "  259.202,1107.73 259.202,47.2441 \n",
       "  \"/>\n",
       "<polyline clip-path=\"url(#clip192)\" style=\"stroke:#000000; stroke-linecap:round; stroke-linejoin:round; stroke-width:2; stroke-opacity:0.1; fill:none\" points=\"\n",
       "  1058.84,1107.73 1058.84,47.2441 \n",
       "  \"/>\n",
       "<polyline clip-path=\"url(#clip192)\" style=\"stroke:#000000; stroke-linecap:round; stroke-linejoin:round; stroke-width:2; stroke-opacity:0.1; fill:none\" points=\"\n",
       "  1858.48,1107.73 1858.48,47.2441 \n",
       "  \"/>\n",
       "<polyline clip-path=\"url(#clip192)\" style=\"stroke:#000000; stroke-linecap:round; stroke-linejoin:round; stroke-width:2; stroke-opacity:0.1; fill:none\" points=\"\n",
       "  2658.12,1107.73 2658.12,47.2441 \n",
       "  \"/>\n",
       "<polyline clip-path=\"url(#clip192)\" style=\"stroke:#000000; stroke-linecap:round; stroke-linejoin:round; stroke-width:2; stroke-opacity:0.1; fill:none\" points=\"\n",
       "  3457.76,1107.73 3457.76,47.2441 \n",
       "  \"/>\n",
       "<polyline clip-path=\"url(#clip190)\" style=\"stroke:#000000; stroke-linecap:round; stroke-linejoin:round; stroke-width:4; stroke-opacity:1; fill:none\" points=\"\n",
       "  196.191,1107.73 3552.76,1107.73 \n",
       "  \"/>\n",
       "<polyline clip-path=\"url(#clip190)\" style=\"stroke:#000000; stroke-linecap:round; stroke-linejoin:round; stroke-width:4; stroke-opacity:1; fill:none\" points=\"\n",
       "  259.202,1107.73 259.202,1088.83 \n",
       "  \"/>\n",
       "<polyline clip-path=\"url(#clip190)\" style=\"stroke:#000000; stroke-linecap:round; stroke-linejoin:round; stroke-width:4; stroke-opacity:1; fill:none\" points=\"\n",
       "  1058.84,1107.73 1058.84,1088.83 \n",
       "  \"/>\n",
       "<polyline clip-path=\"url(#clip190)\" style=\"stroke:#000000; stroke-linecap:round; stroke-linejoin:round; stroke-width:4; stroke-opacity:1; fill:none\" points=\"\n",
       "  1858.48,1107.73 1858.48,1088.83 \n",
       "  \"/>\n",
       "<polyline clip-path=\"url(#clip190)\" style=\"stroke:#000000; stroke-linecap:round; stroke-linejoin:round; stroke-width:4; stroke-opacity:1; fill:none\" points=\"\n",
       "  2658.12,1107.73 2658.12,1088.83 \n",
       "  \"/>\n",
       "<polyline clip-path=\"url(#clip190)\" style=\"stroke:#000000; stroke-linecap:round; stroke-linejoin:round; stroke-width:4; stroke-opacity:1; fill:none\" points=\"\n",
       "  3457.76,1107.73 3457.76,1088.83 \n",
       "  \"/>\n",
       "<path clip-path=\"url(#clip190)\" d=\"M259.202 1148.25 Q255.591 1148.25 253.762 1151.81 Q251.957 1155.35 251.957 1162.48 Q251.957 1169.59 253.762 1173.15 Q255.591 1176.7 259.202 1176.7 Q262.836 1176.7 264.642 1173.15 Q266.471 1169.59 266.471 1162.48 Q266.471 1155.35 264.642 1151.81 Q262.836 1148.25 259.202 1148.25 M259.202 1144.54 Q265.012 1144.54 268.068 1149.15 Q271.147 1153.73 271.147 1162.48 Q271.147 1171.21 268.068 1175.82 Q265.012 1180.4 259.202 1180.4 Q253.392 1180.4 250.313 1175.82 Q247.258 1171.21 247.258 1162.48 Q247.258 1153.73 250.313 1149.15 Q253.392 1144.54 259.202 1144.54 Z\" fill=\"#000000\" fill-rule=\"evenodd\" fill-opacity=\"1\" /><path clip-path=\"url(#clip190)\" d=\"M1038.11 1175.79 L1054.43 1175.79 L1054.43 1179.73 L1032.49 1179.73 L1032.49 1175.79 Q1035.15 1173.04 1039.73 1168.41 Q1044.34 1163.76 1045.52 1162.41 Q1047.77 1159.89 1048.64 1158.15 Q1049.55 1156.39 1049.55 1154.7 Q1049.55 1151.95 1047.6 1150.21 Q1045.68 1148.48 1042.58 1148.48 Q1040.38 1148.48 1037.93 1149.24 Q1035.5 1150.01 1032.72 1151.56 L1032.72 1146.83 Q1035.54 1145.7 1038 1145.12 Q1040.45 1144.54 1042.49 1144.54 Q1047.86 1144.54 1051.05 1147.23 Q1054.25 1149.91 1054.25 1154.4 Q1054.25 1156.53 1053.44 1158.45 Q1052.65 1160.35 1050.54 1162.95 Q1049.96 1163.62 1046.86 1166.83 Q1043.76 1170.03 1038.11 1175.79 Z\" fill=\"#000000\" fill-rule=\"evenodd\" fill-opacity=\"1\" /><path clip-path=\"url(#clip190)\" d=\"M1064.29 1145.17 L1082.65 1145.17 L1082.65 1149.1 L1068.58 1149.1 L1068.58 1157.58 Q1069.59 1157.23 1070.61 1157.07 Q1071.63 1156.88 1072.65 1156.88 Q1078.44 1156.88 1081.82 1160.05 Q1085.2 1163.22 1085.2 1168.64 Q1085.2 1174.22 1081.72 1177.32 Q1078.25 1180.4 1071.93 1180.4 Q1069.76 1180.4 1067.49 1180.03 Q1065.24 1179.66 1062.83 1178.92 L1062.83 1174.22 Q1064.92 1175.35 1067.14 1175.91 Q1069.36 1176.46 1071.84 1176.46 Q1075.84 1176.46 1078.18 1174.36 Q1080.52 1172.25 1080.52 1168.64 Q1080.52 1165.03 1078.18 1162.92 Q1075.84 1160.82 1071.84 1160.82 Q1069.96 1160.82 1068.09 1161.23 Q1066.24 1161.65 1064.29 1162.53 L1064.29 1145.17 Z\" fill=\"#000000\" fill-rule=\"evenodd\" fill-opacity=\"1\" /><path clip-path=\"url(#clip190)\" d=\"M1833.18 1145.17 L1851.54 1145.17 L1851.54 1149.1 L1837.46 1149.1 L1837.46 1157.58 Q1838.48 1157.23 1839.5 1157.07 Q1840.52 1156.88 1841.54 1156.88 Q1847.32 1156.88 1850.7 1160.05 Q1854.08 1163.22 1854.08 1168.64 Q1854.08 1174.22 1850.61 1177.32 Q1847.14 1180.4 1840.82 1180.4 Q1838.64 1180.4 1836.37 1180.03 Q1834.13 1179.66 1831.72 1178.92 L1831.72 1174.22 Q1833.8 1175.35 1836.03 1175.91 Q1838.25 1176.46 1840.73 1176.46 Q1844.73 1176.46 1847.07 1174.36 Q1849.41 1172.25 1849.41 1168.64 Q1849.41 1165.03 1847.07 1162.92 Q1844.73 1160.82 1840.73 1160.82 Q1838.85 1160.82 1836.98 1161.23 Q1835.12 1161.65 1833.18 1162.53 L1833.18 1145.17 Z\" fill=\"#000000\" fill-rule=\"evenodd\" fill-opacity=\"1\" /><path clip-path=\"url(#clip190)\" d=\"M1873.3 1148.25 Q1869.68 1148.25 1867.86 1151.81 Q1866.05 1155.35 1866.05 1162.48 Q1866.05 1169.59 1867.86 1173.15 Q1869.68 1176.7 1873.3 1176.7 Q1876.93 1176.7 1878.74 1173.15 Q1880.56 1169.59 1880.56 1162.48 Q1880.56 1155.35 1878.74 1151.81 Q1876.93 1148.25 1873.3 1148.25 M1873.3 1144.54 Q1879.11 1144.54 1882.16 1149.15 Q1885.24 1153.73 1885.24 1162.48 Q1885.24 1171.21 1882.16 1175.82 Q1879.11 1180.4 1873.3 1180.4 Q1867.49 1180.4 1864.41 1175.82 Q1861.35 1171.21 1861.35 1162.48 Q1861.35 1153.73 1864.41 1149.15 Q1867.49 1144.54 1873.3 1144.54 Z\" fill=\"#000000\" fill-rule=\"evenodd\" fill-opacity=\"1\" /><path clip-path=\"url(#clip190)\" d=\"M2631.97 1145.17 L2654.2 1145.17 L2654.2 1147.16 L2641.65 1179.73 L2636.77 1179.73 L2648.57 1149.1 L2631.97 1149.1 L2631.97 1145.17 Z\" fill=\"#000000\" fill-rule=\"evenodd\" fill-opacity=\"1\" /><path clip-path=\"url(#clip190)\" d=\"M2663.36 1145.17 L2681.72 1145.17 L2681.72 1149.1 L2667.65 1149.1 L2667.65 1157.58 Q2668.66 1157.23 2669.68 1157.07 Q2670.7 1156.88 2671.72 1156.88 Q2677.51 1156.88 2680.89 1160.05 Q2684.27 1163.22 2684.27 1168.64 Q2684.27 1174.22 2680.79 1177.32 Q2677.32 1180.4 2671 1180.4 Q2668.83 1180.4 2666.56 1180.03 Q2664.31 1179.66 2661.9 1178.92 L2661.9 1174.22 Q2663.99 1175.35 2666.21 1175.91 Q2668.43 1176.46 2670.91 1176.46 Q2674.91 1176.46 2677.25 1174.36 Q2679.59 1172.25 2679.59 1168.64 Q2679.59 1165.03 2677.25 1162.92 Q2674.91 1160.82 2670.91 1160.82 Q2669.03 1160.82 2667.16 1161.23 Q2665.31 1161.65 2663.36 1162.53 L2663.36 1145.17 Z\" fill=\"#000000\" fill-rule=\"evenodd\" fill-opacity=\"1\" /><path clip-path=\"url(#clip190)\" d=\"M3417.37 1175.79 L3425 1175.79 L3425 1149.43 L3416.69 1151.09 L3416.69 1146.83 L3424.96 1145.17 L3429.63 1145.17 L3429.63 1175.79 L3437.27 1175.79 L3437.27 1179.73 L3417.37 1179.73 L3417.37 1175.79 Z\" fill=\"#000000\" fill-rule=\"evenodd\" fill-opacity=\"1\" /><path clip-path=\"url(#clip190)\" d=\"M3456.72 1148.25 Q3453.11 1148.25 3451.28 1151.81 Q3449.47 1155.35 3449.47 1162.48 Q3449.47 1169.59 3451.28 1173.15 Q3453.11 1176.7 3456.72 1176.7 Q3460.35 1176.7 3462.16 1173.15 Q3463.99 1169.59 3463.99 1162.48 Q3463.99 1155.35 3462.16 1151.81 Q3460.35 1148.25 3456.72 1148.25 M3456.72 1144.54 Q3462.53 1144.54 3465.58 1149.15 Q3468.66 1153.73 3468.66 1162.48 Q3468.66 1171.21 3465.58 1175.82 Q3462.53 1180.4 3456.72 1180.4 Q3450.91 1180.4 3447.83 1175.82 Q3444.77 1171.21 3444.77 1162.48 Q3444.77 1153.73 3447.83 1149.15 Q3450.91 1144.54 3456.72 1144.54 Z\" fill=\"#000000\" fill-rule=\"evenodd\" fill-opacity=\"1\" /><path clip-path=\"url(#clip190)\" d=\"M3486.88 1148.25 Q3483.27 1148.25 3481.44 1151.81 Q3479.63 1155.35 3479.63 1162.48 Q3479.63 1169.59 3481.44 1173.15 Q3483.27 1176.7 3486.88 1176.7 Q3490.51 1176.7 3492.32 1173.15 Q3494.15 1169.59 3494.15 1162.48 Q3494.15 1155.35 3492.32 1151.81 Q3490.51 1148.25 3486.88 1148.25 M3486.88 1144.54 Q3492.69 1144.54 3495.74 1149.15 Q3498.82 1153.73 3498.82 1162.48 Q3498.82 1171.21 3495.74 1175.82 Q3492.69 1180.4 3486.88 1180.4 Q3481.07 1180.4 3477.99 1175.82 Q3474.93 1171.21 3474.93 1162.48 Q3474.93 1153.73 3477.99 1149.15 Q3481.07 1144.54 3486.88 1144.54 Z\" fill=\"#000000\" fill-rule=\"evenodd\" fill-opacity=\"1\" /><polyline clip-path=\"url(#clip192)\" style=\"stroke:#000000; stroke-linecap:round; stroke-linejoin:round; stroke-width:2; stroke-opacity:0.1; fill:none\" points=\"\n",
       "  196.191,1077.74 3552.76,1077.74 \n",
       "  \"/>\n",
       "<polyline clip-path=\"url(#clip192)\" style=\"stroke:#000000; stroke-linecap:round; stroke-linejoin:round; stroke-width:2; stroke-opacity:0.1; fill:none\" points=\"\n",
       "  196.191,864.609 3552.76,864.609 \n",
       "  \"/>\n",
       "<polyline clip-path=\"url(#clip192)\" style=\"stroke:#000000; stroke-linecap:round; stroke-linejoin:round; stroke-width:2; stroke-opacity:0.1; fill:none\" points=\"\n",
       "  196.191,651.478 3552.76,651.478 \n",
       "  \"/>\n",
       "<polyline clip-path=\"url(#clip192)\" style=\"stroke:#000000; stroke-linecap:round; stroke-linejoin:round; stroke-width:2; stroke-opacity:0.1; fill:none\" points=\"\n",
       "  196.191,438.348 3552.76,438.348 \n",
       "  \"/>\n",
       "<polyline clip-path=\"url(#clip192)\" style=\"stroke:#000000; stroke-linecap:round; stroke-linejoin:round; stroke-width:2; stroke-opacity:0.1; fill:none\" points=\"\n",
       "  196.191,225.218 3552.76,225.218 \n",
       "  \"/>\n",
       "<polyline clip-path=\"url(#clip190)\" style=\"stroke:#000000; stroke-linecap:round; stroke-linejoin:round; stroke-width:4; stroke-opacity:1; fill:none\" points=\"\n",
       "  196.191,1107.73 196.191,47.2441 \n",
       "  \"/>\n",
       "<polyline clip-path=\"url(#clip190)\" style=\"stroke:#000000; stroke-linecap:round; stroke-linejoin:round; stroke-width:4; stroke-opacity:1; fill:none\" points=\"\n",
       "  196.191,1077.74 215.088,1077.74 \n",
       "  \"/>\n",
       "<polyline clip-path=\"url(#clip190)\" style=\"stroke:#000000; stroke-linecap:round; stroke-linejoin:round; stroke-width:4; stroke-opacity:1; fill:none\" points=\"\n",
       "  196.191,864.609 215.088,864.609 \n",
       "  \"/>\n",
       "<polyline clip-path=\"url(#clip190)\" style=\"stroke:#000000; stroke-linecap:round; stroke-linejoin:round; stroke-width:4; stroke-opacity:1; fill:none\" points=\"\n",
       "  196.191,651.478 215.088,651.478 \n",
       "  \"/>\n",
       "<polyline clip-path=\"url(#clip190)\" style=\"stroke:#000000; stroke-linecap:round; stroke-linejoin:round; stroke-width:4; stroke-opacity:1; fill:none\" points=\"\n",
       "  196.191,438.348 215.088,438.348 \n",
       "  \"/>\n",
       "<polyline clip-path=\"url(#clip190)\" style=\"stroke:#000000; stroke-linecap:round; stroke-linejoin:round; stroke-width:4; stroke-opacity:1; fill:none\" points=\"\n",
       "  196.191,225.218 215.088,225.218 \n",
       "  \"/>\n",
       "<path clip-path=\"url(#clip190)\" d=\"M85.0151 1063.54 Q81.404 1063.54 79.5753 1067.1 Q77.7697 1070.64 77.7697 1077.77 Q77.7697 1084.88 79.5753 1088.45 Q81.404 1091.99 85.0151 1091.99 Q88.6493 1091.99 90.4548 1088.45 Q92.2835 1084.88 92.2835 1077.77 Q92.2835 1070.64 90.4548 1067.1 Q88.6493 1063.54 85.0151 1063.54 M85.0151 1059.83 Q90.8252 1059.83 93.8808 1064.44 Q96.9594 1069.02 96.9594 1077.77 Q96.9594 1086.5 93.8808 1091.11 Q90.8252 1095.69 85.0151 1095.69 Q79.2049 1095.69 76.1262 1091.11 Q73.0707 1086.5 73.0707 1077.77 Q73.0707 1069.02 76.1262 1064.44 Q79.2049 1059.83 85.0151 1059.83 Z\" fill=\"#000000\" fill-rule=\"evenodd\" fill-opacity=\"1\" /><path clip-path=\"url(#clip190)\" d=\"M105.177 1089.14 L110.061 1089.14 L110.061 1095.02 L105.177 1095.02 L105.177 1089.14 Z\" fill=\"#000000\" fill-rule=\"evenodd\" fill-opacity=\"1\" /><path clip-path=\"url(#clip190)\" d=\"M130.246 1063.54 Q126.635 1063.54 124.807 1067.1 Q123.001 1070.64 123.001 1077.77 Q123.001 1084.88 124.807 1088.45 Q126.635 1091.99 130.246 1091.99 Q133.881 1091.99 135.686 1088.45 Q137.515 1084.88 137.515 1077.77 Q137.515 1070.64 135.686 1067.1 Q133.881 1063.54 130.246 1063.54 M130.246 1059.83 Q136.056 1059.83 139.112 1064.44 Q142.191 1069.02 142.191 1077.77 Q142.191 1086.5 139.112 1091.11 Q136.056 1095.69 130.246 1095.69 Q124.436 1095.69 121.357 1091.11 Q118.302 1086.5 118.302 1077.77 Q118.302 1069.02 121.357 1064.44 Q124.436 1059.83 130.246 1059.83 Z\" fill=\"#000000\" fill-rule=\"evenodd\" fill-opacity=\"1\" /><path clip-path=\"url(#clip190)\" d=\"M80.0382 877.954 L96.3576 877.954 L96.3576 881.889 L74.4133 881.889 L74.4133 877.954 Q77.0753 875.199 81.6586 870.569 Q86.2651 865.917 87.4456 864.574 Q89.691 862.051 90.5706 860.315 Q91.4734 858.556 91.4734 856.866 Q91.4734 854.111 89.5289 852.375 Q87.6076 850.639 84.5058 850.639 Q82.3067 850.639 79.8531 851.403 Q77.4225 852.167 74.6447 853.718 L74.6447 848.995 Q77.4688 847.861 79.9225 847.283 Q82.3762 846.704 84.4132 846.704 Q89.7836 846.704 92.978 849.389 Q96.1724 852.074 96.1724 856.565 Q96.1724 858.694 95.3622 860.616 Q94.5752 862.514 92.4687 865.106 Q91.89 865.778 88.7882 868.995 Q85.6864 872.19 80.0382 877.954 Z\" fill=\"#000000\" fill-rule=\"evenodd\" fill-opacity=\"1\" /><path clip-path=\"url(#clip190)\" d=\"M106.172 876.009 L111.057 876.009 L111.057 881.889 L106.172 881.889 L106.172 876.009 Z\" fill=\"#000000\" fill-rule=\"evenodd\" fill-opacity=\"1\" /><path clip-path=\"url(#clip190)\" d=\"M121.288 847.329 L139.644 847.329 L139.644 851.264 L125.57 851.264 L125.57 859.736 Q126.589 859.389 127.607 859.227 Q128.626 859.042 129.644 859.042 Q135.431 859.042 138.811 862.213 Q142.191 865.384 142.191 870.801 Q142.191 876.38 138.718 879.481 Q135.246 882.56 128.927 882.56 Q126.751 882.56 124.482 882.19 Q122.237 881.819 119.83 881.079 L119.83 876.38 Q121.913 877.514 124.135 878.069 Q126.357 878.625 128.834 878.625 Q132.839 878.625 135.177 876.518 Q137.515 874.412 137.515 870.801 Q137.515 867.19 135.177 865.083 Q132.839 862.977 128.834 862.977 Q126.959 862.977 125.084 863.394 Q123.232 863.81 121.288 864.69 L121.288 847.329 Z\" fill=\"#000000\" fill-rule=\"evenodd\" fill-opacity=\"1\" /><path clip-path=\"url(#clip190)\" d=\"M75.0614 634.198 L93.4178 634.198 L93.4178 638.134 L79.3438 638.134 L79.3438 646.606 Q80.3623 646.259 81.3808 646.097 Q82.3993 645.911 83.4178 645.911 Q89.2049 645.911 92.5845 649.083 Q95.9641 652.254 95.9641 657.671 Q95.9641 663.249 92.4919 666.351 Q89.0197 669.43 82.7003 669.43 Q80.5243 669.43 78.2558 669.059 Q76.0105 668.689 73.6031 667.948 L73.6031 663.249 Q75.6864 664.383 77.9086 664.939 Q80.1308 665.495 82.6077 665.495 Q86.6123 665.495 88.9502 663.388 Q91.2882 661.282 91.2882 657.671 Q91.2882 654.059 88.9502 651.953 Q86.6123 649.846 82.6077 649.846 Q80.7327 649.846 78.8577 650.263 Q77.0058 650.68 75.0614 651.559 L75.0614 634.198 Z\" fill=\"#000000\" fill-rule=\"evenodd\" fill-opacity=\"1\" /><path clip-path=\"url(#clip190)\" d=\"M105.177 662.879 L110.061 662.879 L110.061 668.758 L105.177 668.758 L105.177 662.879 Z\" fill=\"#000000\" fill-rule=\"evenodd\" fill-opacity=\"1\" /><path clip-path=\"url(#clip190)\" d=\"M130.246 637.277 Q126.635 637.277 124.807 640.842 Q123.001 644.384 123.001 651.513 Q123.001 658.62 124.807 662.184 Q126.635 665.726 130.246 665.726 Q133.881 665.726 135.686 662.184 Q137.515 658.62 137.515 651.513 Q137.515 644.384 135.686 640.842 Q133.881 637.277 130.246 637.277 M130.246 633.573 Q136.056 633.573 139.112 638.18 Q142.191 642.763 142.191 651.513 Q142.191 660.24 139.112 664.846 Q136.056 669.43 130.246 669.43 Q124.436 669.43 121.357 664.846 Q118.302 660.24 118.302 651.513 Q118.302 642.763 121.357 638.18 Q124.436 633.573 130.246 633.573 Z\" fill=\"#000000\" fill-rule=\"evenodd\" fill-opacity=\"1\" /><path clip-path=\"url(#clip190)\" d=\"M74.8299 421.068 L97.052 421.068 L97.052 423.059 L84.5058 455.628 L79.6216 455.628 L91.4271 425.003 L74.8299 425.003 L74.8299 421.068 Z\" fill=\"#000000\" fill-rule=\"evenodd\" fill-opacity=\"1\" /><path clip-path=\"url(#clip190)\" d=\"M106.172 449.748 L111.057 449.748 L111.057 455.628 L106.172 455.628 L106.172 449.748 Z\" fill=\"#000000\" fill-rule=\"evenodd\" fill-opacity=\"1\" /><path clip-path=\"url(#clip190)\" d=\"M121.288 421.068 L139.644 421.068 L139.644 425.003 L125.57 425.003 L125.57 433.475 Q126.589 433.128 127.607 432.966 Q128.626 432.781 129.644 432.781 Q135.431 432.781 138.811 435.952 Q142.191 439.123 142.191 444.54 Q142.191 450.119 138.718 453.221 Q135.246 456.299 128.927 456.299 Q126.751 456.299 124.482 455.929 Q122.237 455.559 119.83 454.818 L119.83 450.119 Q121.913 451.253 124.135 451.809 Q126.357 452.364 128.834 452.364 Q132.839 452.364 135.177 450.258 Q137.515 448.151 137.515 444.54 Q137.515 440.929 135.177 438.823 Q132.839 436.716 128.834 436.716 Q126.959 436.716 125.084 437.133 Q123.232 437.549 121.288 438.429 L121.288 421.068 Z\" fill=\"#000000\" fill-rule=\"evenodd\" fill-opacity=\"1\" /><path clip-path=\"url(#clip190)\" d=\"M45.6634 238.562 L53.3023 238.562 L53.3023 212.197 L44.9921 213.864 L44.9921 209.604 L53.256 207.938 L57.9319 207.938 L57.9319 238.562 L65.5707 238.562 L65.5707 242.498 L45.6634 242.498 L45.6634 238.562 Z\" fill=\"#000000\" fill-rule=\"evenodd\" fill-opacity=\"1\" /><path clip-path=\"url(#clip190)\" d=\"M85.0151 211.016 Q81.404 211.016 79.5753 214.581 Q77.7697 218.123 77.7697 225.252 Q77.7697 232.359 79.5753 235.924 Q81.404 239.465 85.0151 239.465 Q88.6493 239.465 90.4548 235.924 Q92.2835 232.359 92.2835 225.252 Q92.2835 218.123 90.4548 214.581 Q88.6493 211.016 85.0151 211.016 M85.0151 207.313 Q90.8252 207.313 93.8808 211.919 Q96.9594 216.502 96.9594 225.252 Q96.9594 233.979 93.8808 238.586 Q90.8252 243.169 85.0151 243.169 Q79.2049 243.169 76.1262 238.586 Q73.0707 233.979 73.0707 225.252 Q73.0707 216.502 76.1262 211.919 Q79.2049 207.313 85.0151 207.313 Z\" fill=\"#000000\" fill-rule=\"evenodd\" fill-opacity=\"1\" /><path clip-path=\"url(#clip190)\" d=\"M105.177 236.618 L110.061 236.618 L110.061 242.498 L105.177 242.498 L105.177 236.618 Z\" fill=\"#000000\" fill-rule=\"evenodd\" fill-opacity=\"1\" /><path clip-path=\"url(#clip190)\" d=\"M130.246 211.016 Q126.635 211.016 124.807 214.581 Q123.001 218.123 123.001 225.252 Q123.001 232.359 124.807 235.924 Q126.635 239.465 130.246 239.465 Q133.881 239.465 135.686 235.924 Q137.515 232.359 137.515 225.252 Q137.515 218.123 135.686 214.581 Q133.881 211.016 130.246 211.016 M130.246 207.313 Q136.056 207.313 139.112 211.919 Q142.191 216.502 142.191 225.252 Q142.191 233.979 139.112 238.586 Q136.056 243.169 130.246 243.169 Q124.436 243.169 121.357 238.586 Q118.302 233.979 118.302 225.252 Q118.302 216.502 121.357 211.919 Q124.436 207.313 130.246 207.313 Z\" fill=\"#000000\" fill-rule=\"evenodd\" fill-opacity=\"1\" /><polyline clip-path=\"url(#clip192)\" style=\"stroke:#009af9; stroke-linecap:round; stroke-linejoin:round; stroke-width:4; stroke-opacity:1; fill:none\" points=\"\n",
       "  291.188,1074.8 323.173,1076.28 355.159,1074.9 387.145,1076.65 419.13,1053.38 451.116,1049.32 483.101,1074.6 515.087,1063.53 547.072,1035.11 579.058,1035.11 \n",
       "  611.043,1035.11 643.029,1035.11 675.015,1035.11 707,1073.48 738.986,1035.11 770.971,1035.11 802.957,1035.11 834.942,1035.11 866.928,1035.11 898.914,1073 \n",
       "  930.899,1035.11 962.885,1035.11 994.87,1035.11 1026.86,1013.8 1058.84,1013.8 1090.83,1013.8 1122.81,1013.8 1154.8,1013.8 1186.78,1072.41 1218.77,1035.11 \n",
       "  1250.75,1065.56 1282.74,1060.69 1314.73,1074.03 1346.71,1077.02 1378.7,1065.2 1410.68,1063.53 1442.67,1074.9 1474.65,1035.11 1506.64,1068.96 1538.62,1035.11 \n",
       "  1570.61,1076.49 1602.6,1035.11 1634.58,1071.77 1666.57,1067.08 1698.55,1035.11 1730.54,1067.08 1762.52,1035.11 1794.51,1077.24 1826.49,1076.69 1858.48,1035.11 \n",
       "  1890.47,1069.21 1922.45,1077.51 1954.44,1049.32 1986.42,1035.11 2018.41,1056.43 2050.39,1063.53 2082.38,1035.11 2114.37,1074.03 2146.35,1068.27 2178.34,1035.11 \n",
       "  2210.32,1035.11 2242.31,1035.11 2274.29,1076.32 2306.28,1076.9 2338.26,1070.59 2370.25,1049.32 2402.24,1063.53 2434.22,1035.11 2466.21,1035.11 2498.19,1035.11 \n",
       "  2530.18,1035.11 2562.16,1063.53 2594.15,1077.71 2626.13,1035.11 2658.12,1056.43 2690.11,1075.5 2722.09,1035.11 2754.08,1056.43 2786.06,1070.63 2818.05,1076.24 \n",
       "  2850.03,1035.11 2882.02,1035.11 2914,1053.38 2945.99,1068.27 2977.98,1056.43 3009.96,1077.48 3041.95,1035.11 3073.93,1063.53 3105.92,1035.11 3137.9,1077.62 \n",
       "  3169.89,1049.32 3201.87,1035.11 3233.86,1075.74 3265.85,1056.43 3297.83,1035.11 3329.82,1035.11 3361.8,1056.43 3393.79,1074.9 3425.77,1073.96 3457.76,1056.43 \n",
       "  \n",
       "  \"/>\n",
       "<polyline clip-path=\"url(#clip192)\" style=\"stroke:#e26f46; stroke-linecap:round; stroke-linejoin:round; stroke-width:4; stroke-opacity:1; fill:none\" points=\"\n",
       "  291.188,663.629 323.173,577.068 355.159,659.417 387.145,541.371 419.13,923.658 451.116,942.618 483.101,671.467 515.087,857.366 547.072,992.487 579.058,992.488 \n",
       "  611.043,992.487 643.029,992.487 675.015,992.487 707,709.286 738.986,992.488 770.971,992.489 802.957,992.487 834.942,992.487 866.928,992.487 898.914,722.244 \n",
       "  930.899,992.487 962.885,992.487 994.87,992.487 1026.86,1042.36 1058.84,1042.36 1090.83,1042.36 1122.81,1042.36 1154.8,1042.36 1186.78,736.731 1218.77,992.487 \n",
       "  1250.75,838.406 1282.74,879.79 1314.73,692.096 1346.71,491.264 1378.7,841.971 1410.68,857.366 1442.67,659.416 1474.65,992.487 1506.64,798.103 1538.62,992.487 \n",
       "  1570.61,558.77 1602.6,992.487 1634.58,750.669 1666.57,821.983 1698.55,992.487 1730.54,821.983 1762.52,992.487 1794.51,446.073 1826.49,537.253 1858.48,992.487 \n",
       "  1890.47,794.538 1922.45,351.087 1954.44,942.618 1986.42,992.487 2018.41,907.235 2050.39,857.366 2082.38,992.487 2114.37,692.096 2146.35,807.496 2178.34,992.487 \n",
       "  2210.32,992.487 2242.31,992.487 2274.29,574.164 2306.28,509.476 2338.26,772.848 2370.25,942.618 2402.24,857.366 2434.22,992.487 2466.21,992.487 2498.19,992.487 \n",
       "  2530.18,992.487 2562.16,857.366 2594.15,77.2578 2626.13,992.487 2658.12,907.235 2690.11,630.342 2722.09,992.487 2754.08,907.235 2786.06,772.113 2818.05,580.473 \n",
       "  2850.03,992.494 2882.02,992.487 2914,923.658 2945.99,807.496 2977.98,907.235 3009.96,363.379 3041.95,992.494 3073.93,857.368 3105.92,992.488 3137.9,265.501 \n",
       "  3169.89,942.618 3201.87,992.487 3233.86,616.096 3265.85,907.235 3297.83,992.487 3329.82,992.487 3361.8,907.235 3393.79,659.416 3425.77,694.551 3457.76,907.235 \n",
       "  \n",
       "  \"/>\n",
       "<polyline clip-path=\"url(#clip192)\" style=\"stroke:#3da44d; stroke-linecap:round; stroke-linejoin:round; stroke-width:4; stroke-opacity:1; fill:none\" points=\"\n",
       "  291.188,592.327 323.173,693.931 355.159,833.265 387.145,801.227 419.13,808.439 451.116,837.912 483.101,876.987 515.087,843.657 547.072,875.683 579.058,884.995 \n",
       "  611.043,861.528 643.029,868.69 675.015,889.364 707,855.736 738.986,820.582 770.971,841.902 802.957,795.566 834.942,852.943 866.928,914.796 898.914,856.695 \n",
       "  930.899,860.471 962.885,873.617 994.87,880.803 1026.86,953.198 1058.84,917.116 1090.83,934.612 1122.81,919.1 1154.8,938.011 1186.78,944.247 1218.77,817.017 \n",
       "  1250.75,863.369 1282.74,871.989 1314.73,868.762 1346.71,910.896 1378.7,807.069 1410.68,833.755 1442.67,881.737 1474.65,856.697 1506.64,836.445 1538.62,868.474 \n",
       "  1570.61,889.42 1602.6,876.673 1634.58,851.999 1666.57,824.458 1698.55,873.123 1730.54,869.297 1762.52,878.92 1794.51,860.367 1826.49,850.685 1858.48,911.306 \n",
       "  1890.47,878.804 1922.45,803.581 1954.44,853.65 1986.42,856.429 2018.41,880.657 2050.39,883.033 2082.38,902.443 2114.37,875.262 2146.35,832.193 2178.34,884.966 \n",
       "  2210.32,896.745 2242.31,805.146 2274.29,840.712 2306.28,750.957 2338.26,710.853 2370.25,833.961 2402.24,873.099 2434.22,836.32 2466.21,866.971 2498.19,856.279 \n",
       "  2530.18,846.782 2562.16,865.998 2594.15,873.268 2626.13,833.772 2658.12,858.325 2690.11,866.632 2722.09,862.256 2754.08,881.869 2786.06,869.804 2818.05,838.62 \n",
       "  2850.03,750.957 2882.02,811.578 2914,896.942 2945.99,856.803 2977.98,891.805 3009.96,934.688 3041.95,749.903 3073.93,844.457 3105.92,849.559 3137.9,868.337 \n",
       "  3169.89,820.899 3201.87,877.495 3233.86,872.867 3265.85,818.646 3297.83,898.06 3329.82,865.542 3361.8,889.102 3393.79,824.137 3425.77,869.092 3457.76,898.353 \n",
       "  \n",
       "  \"/>\n",
       "<path clip-path=\"url(#clip190)\" d=\"\n",
       "M3052.2 289.954 L3440.87 289.954 L3440.87 82.5936 L3052.2 82.5936  Z\n",
       "  \" fill=\"#ffffff\" fill-rule=\"evenodd\" fill-opacity=\"1\"/>\n",
       "<polyline clip-path=\"url(#clip190)\" style=\"stroke:#000000; stroke-linecap:round; stroke-linejoin:round; stroke-width:4; stroke-opacity:1; fill:none\" points=\"\n",
       "  3052.2,289.954 3440.87,289.954 3440.87,82.5936 3052.2,82.5936 3052.2,289.954 \n",
       "  \"/>\n",
       "<polyline clip-path=\"url(#clip190)\" style=\"stroke:#009af9; stroke-linecap:round; stroke-linejoin:round; stroke-width:4; stroke-opacity:1; fill:none\" points=\"\n",
       "  3089.5,134.434 3313.27,134.434 \n",
       "  \"/>\n",
       "<path clip-path=\"url(#clip190)\" d=\"M3364.41 154.121 Q3362.6 158.751 3360.89 160.163 Q3359.18 161.575 3356.31 161.575 L3352.9 161.575 L3352.9 158.01 L3355.4 158.01 Q3357.16 158.01 3358.14 157.176 Q3359.11 156.343 3360.29 153.241 L3361.05 151.297 L3350.57 125.788 L3355.08 125.788 L3363.18 146.065 L3371.28 125.788 L3375.8 125.788 L3364.41 154.121 Z\" fill=\"#000000\" fill-rule=\"evenodd\" fill-opacity=\"1\" /><path clip-path=\"url(#clip190)\" d=\"M3383.09 147.778 L3390.73 147.778 L3390.73 121.413 L3382.42 123.079 L3382.42 118.82 L3390.68 117.154 L3395.36 117.154 L3395.36 147.778 L3403 147.778 L3403 151.714 L3383.09 151.714 L3383.09 147.778 Z\" fill=\"#000000\" fill-rule=\"evenodd\" fill-opacity=\"1\" /><polyline clip-path=\"url(#clip190)\" style=\"stroke:#e26f46; stroke-linecap:round; stroke-linejoin:round; stroke-width:4; stroke-opacity:1; fill:none\" points=\"\n",
       "  3089.5,186.274 3313.27,186.274 \n",
       "  \"/>\n",
       "<path clip-path=\"url(#clip190)\" d=\"M3364.41 205.961 Q3362.6 210.591 3360.89 212.003 Q3359.18 213.415 3356.31 213.415 L3352.9 213.415 L3352.9 209.85 L3355.4 209.85 Q3357.16 209.85 3358.14 209.016 Q3359.11 208.183 3360.29 205.081 L3361.05 203.137 L3350.57 177.628 L3355.08 177.628 L3363.18 197.905 L3371.28 177.628 L3375.8 177.628 L3364.41 205.961 Z\" fill=\"#000000\" fill-rule=\"evenodd\" fill-opacity=\"1\" /><path clip-path=\"url(#clip190)\" d=\"M3386.31 199.618 L3402.63 199.618 L3402.63 203.554 L3380.68 203.554 L3380.68 199.618 Q3383.34 196.864 3387.93 192.234 Q3392.53 187.581 3393.71 186.239 Q3395.96 183.716 3396.84 181.98 Q3397.74 180.22 3397.74 178.531 Q3397.74 175.776 3395.8 174.04 Q3393.88 172.304 3390.77 172.304 Q3388.58 172.304 3386.12 173.068 Q3383.69 173.831 3380.91 175.382 L3380.91 170.66 Q3383.74 169.526 3386.19 168.947 Q3388.64 168.369 3390.68 168.369 Q3396.05 168.369 3399.25 171.054 Q3402.44 173.739 3402.44 178.23 Q3402.44 180.359 3401.63 182.281 Q3400.84 184.179 3398.74 186.771 Q3398.16 187.443 3395.06 190.66 Q3391.95 193.855 3386.31 199.618 Z\" fill=\"#000000\" fill-rule=\"evenodd\" fill-opacity=\"1\" /><polyline clip-path=\"url(#clip190)\" style=\"stroke:#3da44d; stroke-linecap:round; stroke-linejoin:round; stroke-width:4; stroke-opacity:1; fill:none\" points=\"\n",
       "  3089.5,238.114 3313.27,238.114 \n",
       "  \"/>\n",
       "<path clip-path=\"url(#clip190)\" d=\"M3364.41 257.801 Q3362.6 262.431 3360.89 263.843 Q3359.18 265.255 3356.31 265.255 L3352.9 265.255 L3352.9 261.69 L3355.4 261.69 Q3357.16 261.69 3358.14 260.856 Q3359.11 260.023 3360.29 256.921 L3361.05 254.977 L3350.57 229.468 L3355.08 229.468 L3363.18 249.745 L3371.28 229.468 L3375.8 229.468 L3364.41 257.801 Z\" fill=\"#000000\" fill-rule=\"evenodd\" fill-opacity=\"1\" /><path clip-path=\"url(#clip190)\" d=\"M3396.45 236.759 Q3399.8 237.477 3401.68 239.745 Q3403.58 242.014 3403.58 245.347 Q3403.58 250.463 3400.06 253.264 Q3396.54 256.065 3390.06 256.065 Q3387.88 256.065 3385.57 255.625 Q3383.27 255.208 3380.82 254.352 L3380.82 249.838 Q3382.77 250.972 3385.08 251.551 Q3387.39 252.13 3389.92 252.13 Q3394.32 252.13 3396.61 250.394 Q3398.92 248.657 3398.92 245.347 Q3398.92 242.292 3396.77 240.579 Q3394.64 238.843 3390.82 238.843 L3386.79 238.843 L3386.79 235 L3391.01 235 Q3394.45 235 3396.28 233.634 Q3398.11 232.246 3398.11 229.653 Q3398.11 226.991 3396.21 225.579 Q3394.34 224.144 3390.82 224.144 Q3388.9 224.144 3386.7 224.56 Q3384.5 224.977 3381.86 225.857 L3381.86 221.69 Q3384.52 220.949 3386.84 220.579 Q3389.18 220.209 3391.24 220.209 Q3396.56 220.209 3399.66 222.639 Q3402.77 225.046 3402.77 229.167 Q3402.77 232.037 3401.12 234.028 Q3399.48 235.996 3396.45 236.759 Z\" fill=\"#000000\" fill-rule=\"evenodd\" fill-opacity=\"1\" /></svg>\n"
      ]
     },
     "execution_count": 29,
     "metadata": {},
     "output_type": "execute_result"
    }
   ],
   "source": [
    "plot(df.Prob)\n",
    "plot!(df.IC)\n",
    "plot!(df.H)\n",
    "plot!(size=(900,300))"
   ]
  },
  {
   "cell_type": "code",
   "execution_count": 30,
   "metadata": {},
   "outputs": [
    {
     "data": {
      "text/plain": [
       "generatemidifile (generic function with 1 method)"
      ]
     },
     "execution_count": 30,
     "metadata": {},
     "output_type": "execute_result"
    }
   ],
   "source": [
    "using MIDI, Dates\n",
    "function generatemidifile(xs::Vector{Tuple{Int,Int}},name::String)\n",
    "    tpq = 960\n",
    "    notes = Note[]\n",
    "    pos = 0\n",
    "    for pair in xs\n",
    "        pitch = pair[1]\n",
    "        velocity = 100\n",
    "        dur = Int(tpq*pair[2]/24)\n",
    "        \n",
    "        note = Note(pitch,100,pos,dur)\n",
    "        \n",
    "        push!(notes,note)\n",
    "        pos+=dur\n",
    "    end\n",
    "    track = MIDITrack()\n",
    "    addnotes!(track, notes)\n",
    "    \n",
    "    midi = MIDIFile(0, tpq, [track])\n",
    "    cd(@__DIR__)\n",
    "    save(name, midi)\n",
    "end"
   ]
  },
  {
   "cell_type": "code",
   "execution_count": 23,
   "metadata": {},
   "outputs": [
    {
     "data": {
      "text/plain": [
       "MIDIFile (format=0, tpq=960) with 1 tracks"
      ]
     },
     "execution_count": 23,
     "metadata": {},
     "output_type": "execute_result"
    }
   ],
   "source": [
    "generatemidifile(seq,\"example.mid\")"
   ]
  },
  {
   "cell_type": "code",
   "execution_count": null,
   "metadata": {},
   "outputs": [],
   "source": []
  }
 ],
 "metadata": {
  "kernelspec": {
   "display_name": "Julia 1.7.3",
   "language": "julia",
   "name": "julia-1.7"
  },
  "language_info": {
   "file_extension": ".jl",
   "mimetype": "application/julia",
   "name": "julia",
   "version": "1.7.3"
  }
 },
 "nbformat": 4,
 "nbformat_minor": 4
}
