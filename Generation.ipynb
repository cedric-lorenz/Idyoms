{
 "cells": [
  {
   "cell_type": "markdown",
   "metadata": {},
   "source": [
    "# Generation Using Idyoms"
   ]
  },
  {
   "cell_type": "code",
   "execution_count": 1,
   "metadata": {},
   "outputs": [],
   "source": [
    "using DataFrames, Plots, Random\n",
    "using Chakra\n",
    "using Idyoms"
   ]
  },
  {
   "cell_type": "markdown",
   "metadata": {},
   "source": [
    "## Load Melch"
   ]
  },
  {
   "cell_type": "code",
   "execution_count": 2,
   "metadata": {},
   "outputs": [],
   "source": [
    "using Melch\n",
    "Melch.__INIT__(\"/Users/nick/Dropbox/MelchData\")"
   ]
  },
  {
   "cell_type": "markdown",
   "metadata": {},
   "source": [
    "## Select Nova Dataset"
   ]
  },
  {
   "cell_type": "code",
   "execution_count": 3,
   "metadata": {},
   "outputs": [
    {
     "data": {
      "text/plain": [
       "\"Songs and ballads from Nova Scotia, Canada.\""
      ]
     },
     "execution_count": 3,
     "metadata": {},
     "output_type": "execute_result"
    }
   ],
   "source": [
    "nova = fnd(Melch.id(0),Melch)\n",
    "nova.description"
   ]
  },
  {
   "cell_type": "markdown",
   "metadata": {},
   "source": [
    "## Generate Sequences"
   ]
  },
  {
   "cell_type": "code",
   "execution_count": 4,
   "metadata": {},
   "outputs": [],
   "source": [
    "melodies = pts(nova)\n",
    "sequences = [sequence(pts(mel,Melch),Melch) for mel in melodies];"
   ]
  },
  {
   "cell_type": "markdown",
   "metadata": {},
   "source": [
    "## Define Viewpoints"
   ]
  },
  {
   "cell_type": "code",
   "execution_count": 5,
   "metadata": {},
   "outputs": [
    {
     "data": {
      "text/plain": [
       "Chakra.LinkedViewpoint{Tuple{Int64, Int64}}(Viewpoint[Chakra.AtomicViewpoint{Int64}(Melch.Attribute{:CPITCH, Int64}(), Type[Int64]), Chakra.AtomicViewpoint{Int64}(Melch.Attribute{:DUR, Int64}(), Type[Int64])], DataType[Int64, Int64])"
      ]
     },
     "execution_count": 5,
     "metadata": {},
     "output_type": "execute_result"
    }
   ],
   "source": [
    "CPITCH = vp(Melch.CPITCH)\n",
    "DUR = vp(Melch.DUR)\n",
    "CPITCH_X_DUR = link(CPITCH,DUR)"
   ]
  },
  {
   "cell_type": "markdown",
   "metadata": {},
   "source": [
    "## Generate Views"
   ]
  },
  {
   "cell_type": "code",
   "execution_count": 6,
   "metadata": {},
   "outputs": [],
   "source": [
    "p_p = [View(seq,CPITCH,CPITCH) for seq in sequences];\n",
    "d_d = [View(seq,DUR,DUR) for seq in sequences];\n",
    "p_d = [View(seq,CPITCH,DUR) for seq in sequences];\n",
    "d_p = [View(seq,DUR,CPITCH) for seq in sequences];\n",
    "pxd_pxd = [View(seq,CPITCH_X_DUR,CPITCH_X_DUR) for seq in sequences];"
   ]
  },
  {
   "cell_type": "markdown",
   "metadata": {},
   "source": [
    "## Define Generation Functions"
   ]
  },
  {
   "cell_type": "code",
   "execution_count": 7,
   "metadata": {},
   "outputs": [
    {
     "data": {
      "text/plain": [
       "generate (generic function with 1 method)"
      ]
     },
     "execution_count": 7,
     "metadata": {},
     "output_type": "execute_result"
    }
   ],
   "source": [
    "function sample(dist::Idyoms.Distribution{T}) where T\n",
    "    ps = shuffle(collect(dist))\n",
    "    a = first.(ps)\n",
    "    p = cumsum(last.(ps))\n",
    "    n = rand(Float64)\n",
    "    q = findfirst(q->n<=q,p)\n",
    "    return first(ps[q])\n",
    "end\n",
    "\n",
    "function generate(ctx::Vector{S},\n",
    "                  tally::Idyoms.Tally{S,T},\n",
    "                  seen::Set{T},\n",
    "                  A::Set{T},\n",
    "                  B::Idyoms.Smoothing,\n",
    "                  E::Idyoms.Escape,\n",
    "                  U::Bool) where {S,T}\n",
    "    dist = Dict{T,Float64}()\n",
    "    ords = Dict{T,Int}()\n",
    "    for e in A\n",
    "        @views p, o = Idyoms.estimate(e,ctx[1:end],tally,seen,A,B,E,U)\n",
    "        dist[e] = p\n",
    "        ords[e] = o\n",
    "    end\n",
    "\n",
    "    Idyoms.normalise!(dist)\n",
    "    \n",
    "    nxt = sample(dist)\n",
    "    \n",
    "    return Prediction(nxt,dist[nxt],ords[nxt],dist)\n",
    "end"
   ]
  },
  {
   "cell_type": "markdown",
   "metadata": {},
   "source": [
    "## Set Parameters"
   ]
  },
  {
   "cell_type": "code",
   "execution_count": 8,
   "metadata": {},
   "outputs": [
    {
     "data": {
      "text/plain": [
       "true"
      ]
     },
     "execution_count": 8,
     "metadata": {},
     "output_type": "execute_result"
    }
   ],
   "source": [
    "o = Bounded(5) # order bound\n",
    "b = Backoff() # smoothing technique\n",
    "e = A() # escape method\n",
    "u = true # update exclusion"
   ]
  },
  {
   "cell_type": "markdown",
   "metadata": {},
   "source": [
    "## Generate Models"
   ]
  },
  {
   "cell_type": "code",
   "execution_count": 9,
   "metadata": {},
   "outputs": [],
   "source": [
    "p_p_tally, p_seen = Idyoms.train(p_p,o);\n",
    "d_d_tally, d_seen = Idyoms.train(d_d,o);\n",
    "p_d_tally, d_seen = Idyoms.train(p_d,o);\n",
    "d_p_tally, p_seen = Idyoms.train(d_p,o);\n",
    "pxd_pxd_tally, pxd_seen = Idyoms.train(pxd_pxd,o);"
   ]
  },
  {
   "cell_type": "markdown",
   "metadata": {},
   "source": [
    "## Use models to generate new sequences"
   ]
  },
  {
   "cell_type": "code",
   "execution_count": 10,
   "metadata": {},
   "outputs": [],
   "source": [
    "preds = Prediction{Tuple{Int,Int}}[]\n",
    "seq = Tuple{Int,Int}[]\n",
    "for i in 1:100\n",
    "    p = generate(seq,pxd_pxd_tally,pxd_seen,pxd_seen,b,e,u)\n",
    "    push!(seq,p.symbol)\n",
    "    push!(preds,p)\n",
    "end"
   ]
  },
  {
   "cell_type": "markdown",
   "metadata": {},
   "source": [
    "## Display Sequence"
   ]
  },
  {
   "cell_type": "code",
   "execution_count": 11,
   "metadata": {},
   "outputs": [
    {
     "data": {
      "text/plain": [
       "2.4446112518458283"
      ]
     },
     "execution_count": 11,
     "metadata": {},
     "output_type": "execute_result"
    }
   ],
   "source": [
    "Idyoms.mean_infcontent(preds)"
   ]
  },
  {
   "cell_type": "code",
   "execution_count": 12,
   "metadata": {},
   "outputs": [
    {
     "data": {
      "text/html": [
       "<div><div style = \"float: left;\"><span>100×7 DataFrame</span></div><div style = \"float: right;\"><span style = \"font-style: italic;\">75 rows omitted</span></div><div style = \"clear: both;\"></div></div><div class = \"data-frame\" style = \"overflow-x: scroll;\"><table class = \"data-frame\" style = \"margin-bottom: 6px;\"><thead><tr class = \"header\"><th class = \"rowNumber\" style = \"font-weight: bold; text-align: right;\">Row</th><th style = \"text-align: left;\">SeqID</th><th style = \"text-align: left;\">EventID</th><th style = \"text-align: left;\">Symbol</th><th style = \"text-align: left;\">Order</th><th style = \"text-align: left;\">Prob</th><th style = \"text-align: left;\">IC</th><th style = \"text-align: left;\">H</th></tr><tr class = \"subheader headerLastRow\"><th class = \"rowNumber\" style = \"font-weight: bold; text-align: right;\"></th><th title = \"Int64\" style = \"text-align: left;\">Int64</th><th title = \"Int64\" style = \"text-align: left;\">Int64</th><th title = \"Tuple{Int64, Int64}\" style = \"text-align: left;\">Tuple…</th><th title = \"Int64\" style = \"text-align: left;\">Int64</th><th title = \"Float64\" style = \"text-align: left;\">Float64</th><th title = \"Float64\" style = \"text-align: left;\">Float64</th><th title = \"Float64\" style = \"text-align: left;\">Float64</th></tr></thead><tbody><tr><td class = \"rowNumber\" style = \"font-weight: bold; text-align: right;\">1</td><td style = \"text-align: right;\">1</td><td style = \"text-align: right;\">1</td><td style = \"text-align: left;\">(75, 12)</td><td style = \"text-align: right;\">0</td><td style = \"text-align: right;\">0.00105239</td><td style = \"text-align: right;\">9.89212</td><td style = \"text-align: right;\">5.69385</td></tr><tr><td class = \"rowNumber\" style = \"font-weight: bold; text-align: right;\">2</td><td style = \"text-align: right;\">1</td><td style = \"text-align: right;\">2</td><td style = \"text-align: left;\">(63, 12)</td><td style = \"text-align: right;\">1</td><td style = \"text-align: right;\">0.300004</td><td style = \"text-align: right;\">1.73695</td><td style = \"text-align: right;\">2.93056</td></tr><tr><td class = \"rowNumber\" style = \"font-weight: bold; text-align: right;\">3</td><td style = \"text-align: right;\">1</td><td style = \"text-align: right;\">3</td><td style = \"text-align: left;\">(63, 12)</td><td style = \"text-align: right;\">2</td><td style = \"text-align: right;\">0.75</td><td style = \"text-align: right;\">0.415037</td><td style = \"text-align: right;\">1.8922</td></tr><tr><td class = \"rowNumber\" style = \"font-weight: bold; text-align: right;\">4</td><td style = \"text-align: right;\">1</td><td style = \"text-align: right;\">4</td><td style = \"text-align: left;\">(67, 12)</td><td style = \"text-align: right;\">3</td><td style = \"text-align: right;\">0.75</td><td style = \"text-align: right;\">0.415037</td><td style = \"text-align: right;\">1.70516</td></tr><tr><td class = \"rowNumber\" style = \"font-weight: bold; text-align: right;\">5</td><td style = \"text-align: right;\">1</td><td style = \"text-align: right;\">5</td><td style = \"text-align: left;\">(68, 12)</td><td style = \"text-align: right;\">3</td><td style = \"text-align: right;\">0.0833333</td><td style = \"text-align: right;\">3.58496</td><td style = \"text-align: right;\">1.431</td></tr><tr><td class = \"rowNumber\" style = \"font-weight: bold; text-align: right;\">6</td><td style = \"text-align: right;\">1</td><td style = \"text-align: right;\">6</td><td style = \"text-align: left;\">(70, 12)</td><td style = \"text-align: right;\">4</td><td style = \"text-align: right;\">0.5</td><td style = \"text-align: right;\">0.999999</td><td style = \"text-align: right;\">2.40849</td></tr><tr><td class = \"rowNumber\" style = \"font-weight: bold; text-align: right;\">7</td><td style = \"text-align: right;\">1</td><td style = \"text-align: right;\">7</td><td style = \"text-align: left;\">(72, 12)</td><td style = \"text-align: right;\">2</td><td style = \"text-align: right;\">0.375</td><td style = \"text-align: right;\">1.41504</td><td style = \"text-align: right;\">1.90011</td></tr><tr><td class = \"rowNumber\" style = \"font-weight: bold; text-align: right;\">8</td><td style = \"text-align: right;\">1</td><td style = \"text-align: right;\">8</td><td style = \"text-align: left;\">(63, 24)</td><td style = \"text-align: right;\">3</td><td style = \"text-align: right;\">0.75</td><td style = \"text-align: right;\">0.415037</td><td style = \"text-align: right;\">1.62401</td></tr><tr><td class = \"rowNumber\" style = \"font-weight: bold; text-align: right;\">9</td><td style = \"text-align: right;\">1</td><td style = \"text-align: right;\">9</td><td style = \"text-align: left;\">(63, 12)</td><td style = \"text-align: right;\">4</td><td style = \"text-align: right;\">0.750001</td><td style = \"text-align: right;\">0.415037</td><td style = \"text-align: right;\">1.88998</td></tr><tr><td class = \"rowNumber\" style = \"font-weight: bold; text-align: right;\">10</td><td style = \"text-align: right;\">1</td><td style = \"text-align: right;\">10</td><td style = \"text-align: left;\">(68, 12)</td><td style = \"text-align: right;\">2</td><td style = \"text-align: right;\">0.0833333</td><td style = \"text-align: right;\">3.58496</td><td style = \"text-align: right;\">1.54823</td></tr><tr><td class = \"rowNumber\" style = \"font-weight: bold; text-align: right;\">11</td><td style = \"text-align: right;\">1</td><td style = \"text-align: right;\">11</td><td style = \"text-align: left;\">(68, 12)</td><td style = \"text-align: right;\">3</td><td style = \"text-align: right;\">0.333334</td><td style = \"text-align: right;\">1.58496</td><td style = \"text-align: right;\">2.96549</td></tr><tr><td class = \"rowNumber\" style = \"font-weight: bold; text-align: right;\">12</td><td style = \"text-align: right;\">1</td><td style = \"text-align: right;\">12</td><td style = \"text-align: left;\">(67, 12)</td><td style = \"text-align: right;\">2</td><td style = \"text-align: right;\">0.1</td><td style = \"text-align: right;\">3.32193</td><td style = \"text-align: right;\">2.55745</td></tr><tr><td class = \"rowNumber\" style = \"font-weight: bold; text-align: right;\">13</td><td style = \"text-align: right;\">1</td><td style = \"text-align: right;\">13</td><td style = \"text-align: left;\">(65, 36)</td><td style = \"text-align: right;\">2</td><td style = \"text-align: right;\">0.2</td><td style = \"text-align: right;\">2.32193</td><td style = \"text-align: right;\">2.37291</td></tr><tr><td style = \"text-align: right;\">&vellip;</td><td style = \"text-align: right;\">&vellip;</td><td style = \"text-align: right;\">&vellip;</td><td style = \"text-align: right;\">&vellip;</td><td style = \"text-align: right;\">&vellip;</td><td style = \"text-align: right;\">&vellip;</td><td style = \"text-align: right;\">&vellip;</td><td style = \"text-align: right;\">&vellip;</td></tr><tr><td class = \"rowNumber\" style = \"font-weight: bold; text-align: right;\">89</td><td style = \"text-align: right;\">1</td><td style = \"text-align: right;\">89</td><td style = \"text-align: left;\">(72, 24)</td><td style = \"text-align: right;\">1</td><td style = \"text-align: right;\">0.0208334</td><td style = \"text-align: right;\">5.58496</td><td style = \"text-align: right;\">4.18576</td></tr><tr><td class = \"rowNumber\" style = \"font-weight: bold; text-align: right;\">90</td><td style = \"text-align: right;\">1</td><td style = \"text-align: right;\">90</td><td style = \"text-align: left;\">(70, 12)</td><td style = \"text-align: right;\">1</td><td style = \"text-align: right;\">0.0140351</td><td style = \"text-align: right;\">6.15482</td><td style = \"text-align: right;\">3.22205</td></tr><tr><td class = \"rowNumber\" style = \"font-weight: bold; text-align: right;\">91</td><td style = \"text-align: right;\">1</td><td style = \"text-align: right;\">91</td><td style = \"text-align: left;\">(70, 24)</td><td style = \"text-align: right;\">2</td><td style = \"text-align: right;\">0.333333</td><td style = \"text-align: right;\">1.58496</td><td style = \"text-align: right;\">3.06111</td></tr><tr><td class = \"rowNumber\" style = \"font-weight: bold; text-align: right;\">92</td><td style = \"text-align: right;\">1</td><td style = \"text-align: right;\">92</td><td style = \"text-align: left;\">(70, 12)</td><td style = \"text-align: right;\">2</td><td style = \"text-align: right;\">0.0882353</td><td style = \"text-align: right;\">3.5025</td><td style = \"text-align: right;\">1.60071</td></tr><tr><td class = \"rowNumber\" style = \"font-weight: bold; text-align: right;\">93</td><td style = \"text-align: right;\">1</td><td style = \"text-align: right;\">93</td><td style = \"text-align: left;\">(65, 24)</td><td style = \"text-align: right;\">3</td><td style = \"text-align: right;\">0.428571</td><td style = \"text-align: right;\">1.22239</td><td style = \"text-align: right;\">1.85186</td></tr><tr><td class = \"rowNumber\" style = \"font-weight: bold; text-align: right;\">94</td><td style = \"text-align: right;\">1</td><td style = \"text-align: right;\">94</td><td style = \"text-align: left;\">(70, 12)</td><td style = \"text-align: right;\">2</td><td style = \"text-align: right;\">0.125</td><td style = \"text-align: right;\">3.0</td><td style = \"text-align: right;\">2.28318</td></tr><tr><td class = \"rowNumber\" style = \"font-weight: bold; text-align: right;\">95</td><td style = \"text-align: right;\">1</td><td style = \"text-align: right;\">95</td><td style = \"text-align: left;\">(72, 24)</td><td style = \"text-align: right;\">3</td><td style = \"text-align: right;\">0.5</td><td style = \"text-align: right;\">0.999999</td><td style = \"text-align: right;\">2.49366</td></tr><tr><td class = \"rowNumber\" style = \"font-weight: bold; text-align: right;\">96</td><td style = \"text-align: right;\">1</td><td style = \"text-align: right;\">96</td><td style = \"text-align: left;\">(72, 12)</td><td style = \"text-align: right;\">2</td><td style = \"text-align: right;\">0.0645161</td><td style = \"text-align: right;\">3.9542</td><td style = \"text-align: right;\">2.84015</td></tr><tr><td class = \"rowNumber\" style = \"font-weight: bold; text-align: right;\">97</td><td style = \"text-align: right;\">1</td><td style = \"text-align: right;\">97</td><td style = \"text-align: left;\">(70, 12)</td><td style = \"text-align: right;\">3</td><td style = \"text-align: right;\">0.2</td><td style = \"text-align: right;\">2.32193</td><td style = \"text-align: right;\">1.96161</td></tr><tr><td class = \"rowNumber\" style = \"font-weight: bold; text-align: right;\">98</td><td style = \"text-align: right;\">1</td><td style = \"text-align: right;\">98</td><td style = \"text-align: left;\">(67, 12)</td><td style = \"text-align: right;\">2</td><td style = \"text-align: right;\">0.0652174</td><td style = \"text-align: right;\">3.9386</td><td style = \"text-align: right;\">3.03745</td></tr><tr><td class = \"rowNumber\" style = \"font-weight: bold; text-align: right;\">99</td><td style = \"text-align: right;\">1</td><td style = \"text-align: right;\">99</td><td style = \"text-align: left;\">(65, 12)</td><td style = \"text-align: right;\">3</td><td style = \"text-align: right;\">0.25</td><td style = \"text-align: right;\">2.0</td><td style = \"text-align: right;\">2.67875</td></tr><tr><td class = \"rowNumber\" style = \"font-weight: bold; text-align: right;\">100</td><td style = \"text-align: right;\">1</td><td style = \"text-align: right;\">100</td><td style = \"text-align: left;\">(58, 36)</td><td style = \"text-align: right;\">2</td><td style = \"text-align: right;\">0.00609756</td><td style = \"text-align: right;\">7.35755</td><td style = \"text-align: right;\">2.37614</td></tr></tbody></table></div>"
      ],
      "text/latex": [
       "\\begin{tabular}{r|ccccccc}\n",
       "\t& SeqID & EventID & Symbol & Order & Prob & IC & H\\\\\n",
       "\t\\hline\n",
       "\t& Int64 & Int64 & Tuple… & Int64 & Float64 & Float64 & Float64\\\\\n",
       "\t\\hline\n",
       "\t1 & 1 & 1 & (75, 12) & 0 & 0.00105239 & 9.89212 & 5.69385 \\\\\n",
       "\t2 & 1 & 2 & (63, 12) & 1 & 0.300004 & 1.73695 & 2.93056 \\\\\n",
       "\t3 & 1 & 3 & (63, 12) & 2 & 0.75 & 0.415037 & 1.8922 \\\\\n",
       "\t4 & 1 & 4 & (67, 12) & 3 & 0.75 & 0.415037 & 1.70516 \\\\\n",
       "\t5 & 1 & 5 & (68, 12) & 3 & 0.0833333 & 3.58496 & 1.431 \\\\\n",
       "\t6 & 1 & 6 & (70, 12) & 4 & 0.5 & 0.999999 & 2.40849 \\\\\n",
       "\t7 & 1 & 7 & (72, 12) & 2 & 0.375 & 1.41504 & 1.90011 \\\\\n",
       "\t8 & 1 & 8 & (63, 24) & 3 & 0.75 & 0.415037 & 1.62401 \\\\\n",
       "\t9 & 1 & 9 & (63, 12) & 4 & 0.750001 & 0.415037 & 1.88998 \\\\\n",
       "\t10 & 1 & 10 & (68, 12) & 2 & 0.0833333 & 3.58496 & 1.54823 \\\\\n",
       "\t11 & 1 & 11 & (68, 12) & 3 & 0.333334 & 1.58496 & 2.96549 \\\\\n",
       "\t12 & 1 & 12 & (67, 12) & 2 & 0.1 & 3.32193 & 2.55745 \\\\\n",
       "\t13 & 1 & 13 & (65, 36) & 2 & 0.2 & 2.32193 & 2.37291 \\\\\n",
       "\t14 & 1 & 14 & (63, 6) & 3 & 0.333333 & 1.58496 & 2.68585 \\\\\n",
       "\t15 & 1 & 15 & (60, 6) & 4 & 0.500001 & 0.999996 & 2.98196 \\\\\n",
       "\t16 & 1 & 16 & (65, 24) & 1 & 0.0465117 & 4.42626 & 2.96135 \\\\\n",
       "\t17 & 1 & 17 & (65, 24) & 1 & 0.0358974 & 4.79997 & 2.76631 \\\\\n",
       "\t18 & 1 & 18 & (65, 24) & 2 & 0.235294 & 2.08746 & 3.66428 \\\\\n",
       "\t19 & 1 & 19 & (60, 24) & 3 & 0.117647 & 3.08746 & 2.86521 \\\\\n",
       "\t20 & 1 & 20 & (60, 24) & 2 & 0.0625 & 4.0 & 2.40023 \\\\\n",
       "\t21 & 1 & 21 & (60, 24) & 3 & 0.285714 & 1.80735 & 2.73656 \\\\\n",
       "\t22 & 1 & 22 & (60, 36) & 4 & 0.666667 & 0.584962 & 1.76533 \\\\\n",
       "\t23 & 1 & 23 & (69, 24) & 5 & 0.666667 & 0.584962 & 1.52402 \\\\\n",
       "\t24 & 1 & 24 & (69, 24) & 5 & 0.666667 & 0.584962 & 2.42559 \\\\\n",
       "\t25 & 1 & 25 & (65, 24) & 2 & 0.0588235 & 4.08746 & 1.9995 \\\\\n",
       "\t26 & 1 & 26 & (67, 24) & 3 & 0.428571 & 1.22239 & 2.24196 \\\\\n",
       "\t27 & 1 & 27 & (69, 24) & 4 & 0.75 & 0.415037 & 1.55084 \\\\\n",
       "\t28 & 1 & 28 & (62, 24) & 5 & 0.25 & 2.0 & 1.96949 \\\\\n",
       "\t29 & 1 & 29 & (71, 24) & 2 & 0.166667 & 2.58496 & 2.52124 \\\\\n",
       "\t30 & 1 & 30 & (71, 36) & 3 & 0.5 & 0.999999 & 2.44094 \\\\\n",
       "\t$\\dots$ & $\\dots$ & $\\dots$ & $\\dots$ & $\\dots$ & $\\dots$ & $\\dots$ & $\\dots$ \\\\\n",
       "\\end{tabular}\n"
      ],
      "text/plain": [
       "\u001b[1m100×7 DataFrame\u001b[0m\n",
       "\u001b[1m Row \u001b[0m│\u001b[1m SeqID \u001b[0m\u001b[1m EventID \u001b[0m\u001b[1m Symbol   \u001b[0m\u001b[1m Order \u001b[0m\u001b[1m Prob       \u001b[0m\u001b[1m IC       \u001b[0m\u001b[1m H       \u001b[0m\n",
       "     │\u001b[90m Int64 \u001b[0m\u001b[90m Int64   \u001b[0m\u001b[90m Tuple…   \u001b[0m\u001b[90m Int64 \u001b[0m\u001b[90m Float64    \u001b[0m\u001b[90m Float64  \u001b[0m\u001b[90m Float64 \u001b[0m\n",
       "─────┼────────────────────────────────────────────────────────────────\n",
       "   1 │     1        1  (75, 12)      0  0.00105239  9.89212   5.69385\n",
       "   2 │     1        2  (63, 12)      1  0.300004    1.73695   2.93056\n",
       "   3 │     1        3  (63, 12)      2  0.75        0.415037  1.8922\n",
       "   4 │     1        4  (67, 12)      3  0.75        0.415037  1.70516\n",
       "   5 │     1        5  (68, 12)      3  0.0833333   3.58496   1.431\n",
       "   6 │     1        6  (70, 12)      4  0.5         0.999999  2.40849\n",
       "   7 │     1        7  (72, 12)      2  0.375       1.41504   1.90011\n",
       "   8 │     1        8  (63, 24)      3  0.75        0.415037  1.62401\n",
       "   9 │     1        9  (63, 12)      4  0.750001    0.415037  1.88998\n",
       "  10 │     1       10  (68, 12)      2  0.0833333   3.58496   1.54823\n",
       "  11 │     1       11  (68, 12)      3  0.333334    1.58496   2.96549\n",
       "  ⋮  │   ⋮       ⋮        ⋮        ⋮        ⋮          ⋮         ⋮\n",
       "  91 │     1       91  (70, 24)      2  0.333333    1.58496   3.06111\n",
       "  92 │     1       92  (70, 12)      2  0.0882353   3.5025    1.60071\n",
       "  93 │     1       93  (65, 24)      3  0.428571    1.22239   1.85186\n",
       "  94 │     1       94  (70, 12)      2  0.125       3.0       2.28318\n",
       "  95 │     1       95  (72, 24)      3  0.5         0.999999  2.49366\n",
       "  96 │     1       96  (72, 12)      2  0.0645161   3.9542    2.84015\n",
       "  97 │     1       97  (70, 12)      3  0.2         2.32193   1.96161\n",
       "  98 │     1       98  (67, 12)      2  0.0652174   3.9386    3.03745\n",
       "  99 │     1       99  (65, 12)      3  0.25        2.0       2.67875\n",
       " 100 │     1      100  (58, 36)      2  0.00609756  7.35755   2.37614\n",
       "\u001b[36m                                                       79 rows omitted\u001b[0m"
      ]
     },
     "execution_count": 12,
     "metadata": {},
     "output_type": "execute_result"
    }
   ],
   "source": [
    "df = Idyoms.todataframe(1,preds)"
   ]
  },
  {
   "cell_type": "code",
   "execution_count": 13,
   "metadata": {},
   "outputs": [
    {
     "data": {
      "image/svg+xml": [
       "<?xml version=\"1.0\" encoding=\"utf-8\"?>\n",
       "<svg xmlns=\"http://www.w3.org/2000/svg\" xmlns:xlink=\"http://www.w3.org/1999/xlink\" width=\"900\" height=\"300\" viewBox=\"0 0 3600 1200\">\n",
       "<defs>\n",
       "  <clipPath id=\"clip650\">\n",
       "    <rect x=\"0\" y=\"0\" width=\"3600\" height=\"1200\"/>\n",
       "  </clipPath>\n",
       "</defs>\n",
       "<path clip-path=\"url(#clip650)\" d=\"\n",
       "M0 1200 L3600 1200 L3600 0 L0 0  Z\n",
       "  \" fill=\"#ffffff\" fill-rule=\"evenodd\" fill-opacity=\"1\"/>\n",
       "<defs>\n",
       "  <clipPath id=\"clip651\">\n",
       "    <rect x=\"720\" y=\"0\" width=\"2521\" height=\"1200\"/>\n",
       "  </clipPath>\n",
       "</defs>\n",
       "<path clip-path=\"url(#clip650)\" d=\"\n",
       "M196.191 1107.73 L3552.76 1107.73 L3552.76 47.2441 L196.191 47.2441  Z\n",
       "  \" fill=\"#ffffff\" fill-rule=\"evenodd\" fill-opacity=\"1\"/>\n",
       "<defs>\n",
       "  <clipPath id=\"clip652\">\n",
       "    <rect x=\"196\" y=\"47\" width=\"3358\" height=\"1061\"/>\n",
       "  </clipPath>\n",
       "</defs>\n",
       "<polyline clip-path=\"url(#clip652)\" style=\"stroke:#000000; stroke-linecap:round; stroke-linejoin:round; stroke-width:2; stroke-opacity:0.1; fill:none\" points=\"\n",
       "  259.202,1107.73 259.202,47.2441 \n",
       "  \"/>\n",
       "<polyline clip-path=\"url(#clip652)\" style=\"stroke:#000000; stroke-linecap:round; stroke-linejoin:round; stroke-width:2; stroke-opacity:0.1; fill:none\" points=\"\n",
       "  1058.84,1107.73 1058.84,47.2441 \n",
       "  \"/>\n",
       "<polyline clip-path=\"url(#clip652)\" style=\"stroke:#000000; stroke-linecap:round; stroke-linejoin:round; stroke-width:2; stroke-opacity:0.1; fill:none\" points=\"\n",
       "  1858.48,1107.73 1858.48,47.2441 \n",
       "  \"/>\n",
       "<polyline clip-path=\"url(#clip652)\" style=\"stroke:#000000; stroke-linecap:round; stroke-linejoin:round; stroke-width:2; stroke-opacity:0.1; fill:none\" points=\"\n",
       "  2658.12,1107.73 2658.12,47.2441 \n",
       "  \"/>\n",
       "<polyline clip-path=\"url(#clip652)\" style=\"stroke:#000000; stroke-linecap:round; stroke-linejoin:round; stroke-width:2; stroke-opacity:0.1; fill:none\" points=\"\n",
       "  3457.76,1107.73 3457.76,47.2441 \n",
       "  \"/>\n",
       "<polyline clip-path=\"url(#clip650)\" style=\"stroke:#000000; stroke-linecap:round; stroke-linejoin:round; stroke-width:4; stroke-opacity:1; fill:none\" points=\"\n",
       "  196.191,1107.73 3552.76,1107.73 \n",
       "  \"/>\n",
       "<polyline clip-path=\"url(#clip650)\" style=\"stroke:#000000; stroke-linecap:round; stroke-linejoin:round; stroke-width:4; stroke-opacity:1; fill:none\" points=\"\n",
       "  259.202,1107.73 259.202,1088.83 \n",
       "  \"/>\n",
       "<polyline clip-path=\"url(#clip650)\" style=\"stroke:#000000; stroke-linecap:round; stroke-linejoin:round; stroke-width:4; stroke-opacity:1; fill:none\" points=\"\n",
       "  1058.84,1107.73 1058.84,1088.83 \n",
       "  \"/>\n",
       "<polyline clip-path=\"url(#clip650)\" style=\"stroke:#000000; stroke-linecap:round; stroke-linejoin:round; stroke-width:4; stroke-opacity:1; fill:none\" points=\"\n",
       "  1858.48,1107.73 1858.48,1088.83 \n",
       "  \"/>\n",
       "<polyline clip-path=\"url(#clip650)\" style=\"stroke:#000000; stroke-linecap:round; stroke-linejoin:round; stroke-width:4; stroke-opacity:1; fill:none\" points=\"\n",
       "  2658.12,1107.73 2658.12,1088.83 \n",
       "  \"/>\n",
       "<polyline clip-path=\"url(#clip650)\" style=\"stroke:#000000; stroke-linecap:round; stroke-linejoin:round; stroke-width:4; stroke-opacity:1; fill:none\" points=\"\n",
       "  3457.76,1107.73 3457.76,1088.83 \n",
       "  \"/>\n",
       "<path clip-path=\"url(#clip650)\" d=\"M259.202 1148.25 Q255.591 1148.25 253.762 1151.81 Q251.957 1155.35 251.957 1162.48 Q251.957 1169.59 253.762 1173.15 Q255.591 1176.7 259.202 1176.7 Q262.836 1176.7 264.642 1173.15 Q266.471 1169.59 266.471 1162.48 Q266.471 1155.35 264.642 1151.81 Q262.836 1148.25 259.202 1148.25 M259.202 1144.54 Q265.012 1144.54 268.068 1149.15 Q271.147 1153.73 271.147 1162.48 Q271.147 1171.21 268.068 1175.82 Q265.012 1180.4 259.202 1180.4 Q253.392 1180.4 250.313 1175.82 Q247.258 1171.21 247.258 1162.48 Q247.258 1153.73 250.313 1149.15 Q253.392 1144.54 259.202 1144.54 Z\" fill=\"#000000\" fill-rule=\"evenodd\" fill-opacity=\"1\" /><path clip-path=\"url(#clip650)\" d=\"M1038.11 1175.79 L1054.43 1175.79 L1054.43 1179.73 L1032.49 1179.73 L1032.49 1175.79 Q1035.15 1173.04 1039.73 1168.41 Q1044.34 1163.76 1045.52 1162.41 Q1047.77 1159.89 1048.64 1158.15 Q1049.55 1156.39 1049.55 1154.7 Q1049.55 1151.95 1047.6 1150.21 Q1045.68 1148.48 1042.58 1148.48 Q1040.38 1148.48 1037.93 1149.24 Q1035.5 1150.01 1032.72 1151.56 L1032.72 1146.83 Q1035.54 1145.7 1038 1145.12 Q1040.45 1144.54 1042.49 1144.54 Q1047.86 1144.54 1051.05 1147.23 Q1054.25 1149.91 1054.25 1154.4 Q1054.25 1156.53 1053.44 1158.45 Q1052.65 1160.35 1050.54 1162.95 Q1049.96 1163.62 1046.86 1166.83 Q1043.76 1170.03 1038.11 1175.79 Z\" fill=\"#000000\" fill-rule=\"evenodd\" fill-opacity=\"1\" /><path clip-path=\"url(#clip650)\" d=\"M1064.29 1145.17 L1082.65 1145.17 L1082.65 1149.1 L1068.58 1149.1 L1068.58 1157.58 Q1069.59 1157.23 1070.61 1157.07 Q1071.63 1156.88 1072.65 1156.88 Q1078.44 1156.88 1081.82 1160.05 Q1085.2 1163.22 1085.2 1168.64 Q1085.2 1174.22 1081.72 1177.32 Q1078.25 1180.4 1071.93 1180.4 Q1069.76 1180.4 1067.49 1180.03 Q1065.24 1179.66 1062.83 1178.92 L1062.83 1174.22 Q1064.92 1175.35 1067.14 1175.91 Q1069.36 1176.46 1071.84 1176.46 Q1075.84 1176.46 1078.18 1174.36 Q1080.52 1172.25 1080.52 1168.64 Q1080.52 1165.03 1078.18 1162.92 Q1075.84 1160.82 1071.84 1160.82 Q1069.96 1160.82 1068.09 1161.23 Q1066.24 1161.65 1064.29 1162.53 L1064.29 1145.17 Z\" fill=\"#000000\" fill-rule=\"evenodd\" fill-opacity=\"1\" /><path clip-path=\"url(#clip650)\" d=\"M1833.18 1145.17 L1851.54 1145.17 L1851.54 1149.1 L1837.46 1149.1 L1837.46 1157.58 Q1838.48 1157.23 1839.5 1157.07 Q1840.52 1156.88 1841.54 1156.88 Q1847.32 1156.88 1850.7 1160.05 Q1854.08 1163.22 1854.08 1168.64 Q1854.08 1174.22 1850.61 1177.32 Q1847.14 1180.4 1840.82 1180.4 Q1838.64 1180.4 1836.37 1180.03 Q1834.13 1179.66 1831.72 1178.92 L1831.72 1174.22 Q1833.8 1175.35 1836.03 1175.91 Q1838.25 1176.46 1840.73 1176.46 Q1844.73 1176.46 1847.07 1174.36 Q1849.41 1172.25 1849.41 1168.64 Q1849.41 1165.03 1847.07 1162.92 Q1844.73 1160.82 1840.73 1160.82 Q1838.85 1160.82 1836.98 1161.23 Q1835.12 1161.65 1833.18 1162.53 L1833.18 1145.17 Z\" fill=\"#000000\" fill-rule=\"evenodd\" fill-opacity=\"1\" /><path clip-path=\"url(#clip650)\" d=\"M1873.3 1148.25 Q1869.68 1148.25 1867.86 1151.81 Q1866.05 1155.35 1866.05 1162.48 Q1866.05 1169.59 1867.86 1173.15 Q1869.68 1176.7 1873.3 1176.7 Q1876.93 1176.7 1878.74 1173.15 Q1880.56 1169.59 1880.56 1162.48 Q1880.56 1155.35 1878.74 1151.81 Q1876.93 1148.25 1873.3 1148.25 M1873.3 1144.54 Q1879.11 1144.54 1882.16 1149.15 Q1885.24 1153.73 1885.24 1162.48 Q1885.24 1171.21 1882.16 1175.82 Q1879.11 1180.4 1873.3 1180.4 Q1867.49 1180.4 1864.41 1175.82 Q1861.35 1171.21 1861.35 1162.48 Q1861.35 1153.73 1864.41 1149.15 Q1867.49 1144.54 1873.3 1144.54 Z\" fill=\"#000000\" fill-rule=\"evenodd\" fill-opacity=\"1\" /><path clip-path=\"url(#clip650)\" d=\"M2631.97 1145.17 L2654.2 1145.17 L2654.2 1147.16 L2641.65 1179.73 L2636.77 1179.73 L2648.57 1149.1 L2631.97 1149.1 L2631.97 1145.17 Z\" fill=\"#000000\" fill-rule=\"evenodd\" fill-opacity=\"1\" /><path clip-path=\"url(#clip650)\" d=\"M2663.36 1145.17 L2681.72 1145.17 L2681.72 1149.1 L2667.65 1149.1 L2667.65 1157.58 Q2668.66 1157.23 2669.68 1157.07 Q2670.7 1156.88 2671.72 1156.88 Q2677.51 1156.88 2680.89 1160.05 Q2684.27 1163.22 2684.27 1168.64 Q2684.27 1174.22 2680.79 1177.32 Q2677.32 1180.4 2671 1180.4 Q2668.83 1180.4 2666.56 1180.03 Q2664.31 1179.66 2661.9 1178.92 L2661.9 1174.22 Q2663.99 1175.35 2666.21 1175.91 Q2668.43 1176.46 2670.91 1176.46 Q2674.91 1176.46 2677.25 1174.36 Q2679.59 1172.25 2679.59 1168.64 Q2679.59 1165.03 2677.25 1162.92 Q2674.91 1160.82 2670.91 1160.82 Q2669.03 1160.82 2667.16 1161.23 Q2665.31 1161.65 2663.36 1162.53 L2663.36 1145.17 Z\" fill=\"#000000\" fill-rule=\"evenodd\" fill-opacity=\"1\" /><path clip-path=\"url(#clip650)\" d=\"M3417.37 1175.79 L3425 1175.79 L3425 1149.43 L3416.69 1151.09 L3416.69 1146.83 L3424.96 1145.17 L3429.63 1145.17 L3429.63 1175.79 L3437.27 1175.79 L3437.27 1179.73 L3417.37 1179.73 L3417.37 1175.79 Z\" fill=\"#000000\" fill-rule=\"evenodd\" fill-opacity=\"1\" /><path clip-path=\"url(#clip650)\" d=\"M3456.72 1148.25 Q3453.11 1148.25 3451.28 1151.81 Q3449.47 1155.35 3449.47 1162.48 Q3449.47 1169.59 3451.28 1173.15 Q3453.11 1176.7 3456.72 1176.7 Q3460.35 1176.7 3462.16 1173.15 Q3463.99 1169.59 3463.99 1162.48 Q3463.99 1155.35 3462.16 1151.81 Q3460.35 1148.25 3456.72 1148.25 M3456.72 1144.54 Q3462.53 1144.54 3465.58 1149.15 Q3468.66 1153.73 3468.66 1162.48 Q3468.66 1171.21 3465.58 1175.82 Q3462.53 1180.4 3456.72 1180.4 Q3450.91 1180.4 3447.83 1175.82 Q3444.77 1171.21 3444.77 1162.48 Q3444.77 1153.73 3447.83 1149.15 Q3450.91 1144.54 3456.72 1144.54 Z\" fill=\"#000000\" fill-rule=\"evenodd\" fill-opacity=\"1\" /><path clip-path=\"url(#clip650)\" d=\"M3486.88 1148.25 Q3483.27 1148.25 3481.44 1151.81 Q3479.63 1155.35 3479.63 1162.48 Q3479.63 1169.59 3481.44 1173.15 Q3483.27 1176.7 3486.88 1176.7 Q3490.51 1176.7 3492.32 1173.15 Q3494.15 1169.59 3494.15 1162.48 Q3494.15 1155.35 3492.32 1151.81 Q3490.51 1148.25 3486.88 1148.25 M3486.88 1144.54 Q3492.69 1144.54 3495.74 1149.15 Q3498.82 1153.73 3498.82 1162.48 Q3498.82 1171.21 3495.74 1175.82 Q3492.69 1180.4 3486.88 1180.4 Q3481.07 1180.4 3477.99 1175.82 Q3474.93 1171.21 3474.93 1162.48 Q3474.93 1153.73 3477.99 1149.15 Q3481.07 1144.54 3486.88 1144.54 Z\" fill=\"#000000\" fill-rule=\"evenodd\" fill-opacity=\"1\" /><polyline clip-path=\"url(#clip652)\" style=\"stroke:#000000; stroke-linecap:round; stroke-linejoin:round; stroke-width:2; stroke-opacity:0.1; fill:none\" points=\"\n",
       "  196.191,1077.82 3552.76,1077.82 \n",
       "  \"/>\n",
       "<polyline clip-path=\"url(#clip652)\" style=\"stroke:#000000; stroke-linecap:round; stroke-linejoin:round; stroke-width:2; stroke-opacity:0.1; fill:none\" points=\"\n",
       "  196.191,824.952 3552.76,824.952 \n",
       "  \"/>\n",
       "<polyline clip-path=\"url(#clip652)\" style=\"stroke:#000000; stroke-linecap:round; stroke-linejoin:round; stroke-width:2; stroke-opacity:0.1; fill:none\" points=\"\n",
       "  196.191,572.083 3552.76,572.083 \n",
       "  \"/>\n",
       "<polyline clip-path=\"url(#clip652)\" style=\"stroke:#000000; stroke-linecap:round; stroke-linejoin:round; stroke-width:2; stroke-opacity:0.1; fill:none\" points=\"\n",
       "  196.191,319.215 3552.76,319.215 \n",
       "  \"/>\n",
       "<polyline clip-path=\"url(#clip652)\" style=\"stroke:#000000; stroke-linecap:round; stroke-linejoin:round; stroke-width:2; stroke-opacity:0.1; fill:none\" points=\"\n",
       "  196.191,66.3461 3552.76,66.3461 \n",
       "  \"/>\n",
       "<polyline clip-path=\"url(#clip650)\" style=\"stroke:#000000; stroke-linecap:round; stroke-linejoin:round; stroke-width:4; stroke-opacity:1; fill:none\" points=\"\n",
       "  196.191,1107.73 196.191,47.2441 \n",
       "  \"/>\n",
       "<polyline clip-path=\"url(#clip650)\" style=\"stroke:#000000; stroke-linecap:round; stroke-linejoin:round; stroke-width:4; stroke-opacity:1; fill:none\" points=\"\n",
       "  196.191,1077.82 215.088,1077.82 \n",
       "  \"/>\n",
       "<polyline clip-path=\"url(#clip650)\" style=\"stroke:#000000; stroke-linecap:round; stroke-linejoin:round; stroke-width:4; stroke-opacity:1; fill:none\" points=\"\n",
       "  196.191,824.952 215.088,824.952 \n",
       "  \"/>\n",
       "<polyline clip-path=\"url(#clip650)\" style=\"stroke:#000000; stroke-linecap:round; stroke-linejoin:round; stroke-width:4; stroke-opacity:1; fill:none\" points=\"\n",
       "  196.191,572.083 215.088,572.083 \n",
       "  \"/>\n",
       "<polyline clip-path=\"url(#clip650)\" style=\"stroke:#000000; stroke-linecap:round; stroke-linejoin:round; stroke-width:4; stroke-opacity:1; fill:none\" points=\"\n",
       "  196.191,319.215 215.088,319.215 \n",
       "  \"/>\n",
       "<polyline clip-path=\"url(#clip650)\" style=\"stroke:#000000; stroke-linecap:round; stroke-linejoin:round; stroke-width:4; stroke-opacity:1; fill:none\" points=\"\n",
       "  196.191,66.3461 215.088,66.3461 \n",
       "  \"/>\n",
       "<path clip-path=\"url(#clip650)\" d=\"M85.0151 1063.62 Q81.404 1063.62 79.5753 1067.18 Q77.7697 1070.73 77.7697 1077.86 Q77.7697 1084.96 79.5753 1088.53 Q81.404 1092.07 85.0151 1092.07 Q88.6493 1092.07 90.4548 1088.53 Q92.2835 1084.96 92.2835 1077.86 Q92.2835 1070.73 90.4548 1067.18 Q88.6493 1063.62 85.0151 1063.62 M85.0151 1059.92 Q90.8252 1059.92 93.8808 1064.52 Q96.9594 1069.11 96.9594 1077.86 Q96.9594 1086.58 93.8808 1091.19 Q90.8252 1095.77 85.0151 1095.77 Q79.2049 1095.77 76.1262 1091.19 Q73.0707 1086.58 73.0707 1077.86 Q73.0707 1069.11 76.1262 1064.52 Q79.2049 1059.92 85.0151 1059.92 Z\" fill=\"#000000\" fill-rule=\"evenodd\" fill-opacity=\"1\" /><path clip-path=\"url(#clip650)\" d=\"M105.177 1089.22 L110.061 1089.22 L110.061 1095.1 L105.177 1095.1 L105.177 1089.22 Z\" fill=\"#000000\" fill-rule=\"evenodd\" fill-opacity=\"1\" /><path clip-path=\"url(#clip650)\" d=\"M130.246 1063.62 Q126.635 1063.62 124.807 1067.18 Q123.001 1070.73 123.001 1077.86 Q123.001 1084.96 124.807 1088.53 Q126.635 1092.07 130.246 1092.07 Q133.881 1092.07 135.686 1088.53 Q137.515 1084.96 137.515 1077.86 Q137.515 1070.73 135.686 1067.18 Q133.881 1063.62 130.246 1063.62 M130.246 1059.92 Q136.056 1059.92 139.112 1064.52 Q142.191 1069.11 142.191 1077.86 Q142.191 1086.58 139.112 1091.19 Q136.056 1095.77 130.246 1095.77 Q124.436 1095.77 121.357 1091.19 Q118.302 1086.58 118.302 1077.86 Q118.302 1069.11 121.357 1064.52 Q124.436 1059.92 130.246 1059.92 Z\" fill=\"#000000\" fill-rule=\"evenodd\" fill-opacity=\"1\" /><path clip-path=\"url(#clip650)\" d=\"M80.0382 838.297 L96.3576 838.297 L96.3576 842.232 L74.4133 842.232 L74.4133 838.297 Q77.0753 835.542 81.6586 830.913 Q86.2651 826.26 87.4456 824.917 Q89.691 822.394 90.5706 820.658 Q91.4734 818.899 91.4734 817.209 Q91.4734 814.454 89.5289 812.718 Q87.6076 810.982 84.5058 810.982 Q82.3067 810.982 79.8531 811.746 Q77.4225 812.51 74.6447 814.061 L74.6447 809.339 Q77.4688 808.204 79.9225 807.626 Q82.3762 807.047 84.4132 807.047 Q89.7836 807.047 92.978 809.732 Q96.1724 812.417 96.1724 816.908 Q96.1724 819.038 95.3622 820.959 Q94.5752 822.857 92.4687 825.45 Q91.89 826.121 88.7882 829.339 Q85.6864 832.533 80.0382 838.297 Z\" fill=\"#000000\" fill-rule=\"evenodd\" fill-opacity=\"1\" /><path clip-path=\"url(#clip650)\" d=\"M106.172 836.352 L111.057 836.352 L111.057 842.232 L106.172 842.232 L106.172 836.352 Z\" fill=\"#000000\" fill-rule=\"evenodd\" fill-opacity=\"1\" /><path clip-path=\"url(#clip650)\" d=\"M121.288 807.672 L139.644 807.672 L139.644 811.607 L125.57 811.607 L125.57 820.079 Q126.589 819.732 127.607 819.57 Q128.626 819.385 129.644 819.385 Q135.431 819.385 138.811 822.556 Q142.191 825.727 142.191 831.144 Q142.191 836.723 138.718 839.825 Q135.246 842.903 128.927 842.903 Q126.751 842.903 124.482 842.533 Q122.237 842.163 119.83 841.422 L119.83 836.723 Q121.913 837.857 124.135 838.413 Q126.357 838.968 128.834 838.968 Q132.839 838.968 135.177 836.862 Q137.515 834.755 137.515 831.144 Q137.515 827.533 135.177 825.427 Q132.839 823.32 128.834 823.32 Q126.959 823.32 125.084 823.737 Q123.232 824.153 121.288 825.033 L121.288 807.672 Z\" fill=\"#000000\" fill-rule=\"evenodd\" fill-opacity=\"1\" /><path clip-path=\"url(#clip650)\" d=\"M75.0614 554.803 L93.4178 554.803 L93.4178 558.739 L79.3438 558.739 L79.3438 567.211 Q80.3623 566.863 81.3808 566.701 Q82.3993 566.516 83.4178 566.516 Q89.2049 566.516 92.5845 569.688 Q95.9641 572.859 95.9641 578.275 Q95.9641 583.854 92.4919 586.956 Q89.0197 590.035 82.7003 590.035 Q80.5243 590.035 78.2558 589.664 Q76.0105 589.294 73.6031 588.553 L73.6031 583.854 Q75.6864 584.988 77.9086 585.544 Q80.1308 586.099 82.6077 586.099 Q86.6123 586.099 88.9502 583.993 Q91.2882 581.887 91.2882 578.275 Q91.2882 574.664 88.9502 572.558 Q86.6123 570.451 82.6077 570.451 Q80.7327 570.451 78.8577 570.868 Q77.0058 571.285 75.0614 572.164 L75.0614 554.803 Z\" fill=\"#000000\" fill-rule=\"evenodd\" fill-opacity=\"1\" /><path clip-path=\"url(#clip650)\" d=\"M105.177 583.484 L110.061 583.484 L110.061 589.363 L105.177 589.363 L105.177 583.484 Z\" fill=\"#000000\" fill-rule=\"evenodd\" fill-opacity=\"1\" /><path clip-path=\"url(#clip650)\" d=\"M130.246 557.882 Q126.635 557.882 124.807 561.447 Q123.001 564.989 123.001 572.118 Q123.001 579.225 124.807 582.789 Q126.635 586.331 130.246 586.331 Q133.881 586.331 135.686 582.789 Q137.515 579.225 137.515 572.118 Q137.515 564.989 135.686 561.447 Q133.881 557.882 130.246 557.882 M130.246 554.178 Q136.056 554.178 139.112 558.785 Q142.191 563.368 142.191 572.118 Q142.191 580.845 139.112 585.451 Q136.056 590.035 130.246 590.035 Q124.436 590.035 121.357 585.451 Q118.302 580.845 118.302 572.118 Q118.302 563.368 121.357 558.785 Q124.436 554.178 130.246 554.178 Z\" fill=\"#000000\" fill-rule=\"evenodd\" fill-opacity=\"1\" /><path clip-path=\"url(#clip650)\" d=\"M74.8299 301.935 L97.052 301.935 L97.052 303.925 L84.5058 336.495 L79.6216 336.495 L91.4271 305.87 L74.8299 305.87 L74.8299 301.935 Z\" fill=\"#000000\" fill-rule=\"evenodd\" fill-opacity=\"1\" /><path clip-path=\"url(#clip650)\" d=\"M106.172 330.615 L111.057 330.615 L111.057 336.495 L106.172 336.495 L106.172 330.615 Z\" fill=\"#000000\" fill-rule=\"evenodd\" fill-opacity=\"1\" /><path clip-path=\"url(#clip650)\" d=\"M121.288 301.935 L139.644 301.935 L139.644 305.87 L125.57 305.87 L125.57 314.342 Q126.589 313.995 127.607 313.833 Q128.626 313.648 129.644 313.648 Q135.431 313.648 138.811 316.819 Q142.191 319.99 142.191 325.407 Q142.191 330.986 138.718 334.087 Q135.246 337.166 128.927 337.166 Q126.751 337.166 124.482 336.796 Q122.237 336.425 119.83 335.685 L119.83 330.986 Q121.913 332.12 124.135 332.675 Q126.357 333.231 128.834 333.231 Q132.839 333.231 135.177 331.124 Q137.515 329.018 137.515 325.407 Q137.515 321.796 135.177 319.689 Q132.839 317.583 128.834 317.583 Q126.959 317.583 125.084 317.999 Q123.232 318.416 121.288 319.296 L121.288 301.935 Z\" fill=\"#000000\" fill-rule=\"evenodd\" fill-opacity=\"1\" /><path clip-path=\"url(#clip650)\" d=\"M45.6634 79.691 L53.3023 79.691 L53.3023 53.3254 L44.9921 54.992 L44.9921 50.7328 L53.256 49.0661 L57.9319 49.0661 L57.9319 79.691 L65.5707 79.691 L65.5707 83.6261 L45.6634 83.6261 L45.6634 79.691 Z\" fill=\"#000000\" fill-rule=\"evenodd\" fill-opacity=\"1\" /><path clip-path=\"url(#clip650)\" d=\"M85.0151 52.1448 Q81.404 52.1448 79.5753 55.7096 Q77.7697 59.2512 77.7697 66.3808 Q77.7697 73.4873 79.5753 77.0521 Q81.404 80.5937 85.0151 80.5937 Q88.6493 80.5937 90.4548 77.0521 Q92.2835 73.4873 92.2835 66.3808 Q92.2835 59.2512 90.4548 55.7096 Q88.6493 52.1448 85.0151 52.1448 M85.0151 48.4411 Q90.8252 48.4411 93.8808 53.0476 Q96.9594 57.6309 96.9594 66.3808 Q96.9594 75.1076 93.8808 79.7141 Q90.8252 84.2974 85.0151 84.2974 Q79.2049 84.2974 76.1262 79.7141 Q73.0707 75.1076 73.0707 66.3808 Q73.0707 57.6309 76.1262 53.0476 Q79.2049 48.4411 85.0151 48.4411 Z\" fill=\"#000000\" fill-rule=\"evenodd\" fill-opacity=\"1\" /><path clip-path=\"url(#clip650)\" d=\"M105.177 77.7465 L110.061 77.7465 L110.061 83.6261 L105.177 83.6261 L105.177 77.7465 Z\" fill=\"#000000\" fill-rule=\"evenodd\" fill-opacity=\"1\" /><path clip-path=\"url(#clip650)\" d=\"M130.246 52.1448 Q126.635 52.1448 124.807 55.7096 Q123.001 59.2512 123.001 66.3808 Q123.001 73.4873 124.807 77.0521 Q126.635 80.5937 130.246 80.5937 Q133.881 80.5937 135.686 77.0521 Q137.515 73.4873 137.515 66.3808 Q137.515 59.2512 135.686 55.7096 Q133.881 52.1448 130.246 52.1448 M130.246 48.4411 Q136.056 48.4411 139.112 53.0476 Q142.191 57.6309 142.191 66.3808 Q142.191 75.1076 139.112 79.7141 Q136.056 84.2974 130.246 84.2974 Q124.436 84.2974 121.357 79.7141 Q118.302 75.1076 118.302 66.3808 Q118.302 57.6309 121.357 53.0476 Q124.436 48.4411 130.246 48.4411 Z\" fill=\"#000000\" fill-rule=\"evenodd\" fill-opacity=\"1\" /><polyline clip-path=\"url(#clip652)\" style=\"stroke:#009af9; stroke-linecap:round; stroke-linejoin:round; stroke-width:4; stroke-opacity:1; fill:none\" points=\"\n",
       "  291.188,1077.71 323.173,1047.48 355.159,1001.96 387.145,1001.96 419.13,1069.39 451.116,1027.25 483.101,1039.89 515.087,1001.96 547.072,1001.96 579.058,1069.39 \n",
       "  611.043,1044.1 643.029,1067.71 675.015,1057.59 707,1044.1 738.986,1027.25 770.971,1073.12 802.957,1074.19 834.942,1054.02 866.928,1065.92 898.914,1071.5 \n",
       "  930.899,1048.92 962.885,1010.39 994.87,1010.39 1026.86,1010.39 1058.84,1071.87 1090.83,1034.47 1122.81,1001.96 1154.8,1052.53 1186.78,1060.96 1218.77,1027.25 \n",
       "  1250.75,1074.21 1282.74,1027.25 1314.73,1076.64 1346.71,1027.25 1378.7,1073.36 1410.68,1052.53 1442.67,1027.25 1474.65,1056.15 1506.64,1052.53 1538.62,1052.53 \n",
       "  1570.61,1027.25 1602.6,1027.25 1634.58,1052.53 1666.57,1027.25 1698.55,1027.25 1730.54,1027.25 1762.52,1027.25 1794.51,1027.25 1826.49,1027.25 1858.48,1027.25 \n",
       "  1890.47,1027.25 1922.45,1065.18 1954.44,1027.25 1986.42,1027.25 2018.41,1073.71 2050.39,1070.42 2082.38,1052.53 2114.37,1027.25 2146.35,1075.11 2178.34,1052.53 \n",
       "  2210.32,1064.33 2242.31,1017.13 2274.29,1062.65 2306.28,1062.26 2338.26,1052.53 2370.25,1052.53 2402.24,1027.25 2434.22,1077.26 2466.21,1066.58 2498.19,1027.25 \n",
       "  2530.18,1027.25 2562.16,1077.07 2594.15,1052.53 2626.13,1068.25 2658.12,1039.89 2690.11,1027.25 2722.09,1075.95 2754.08,1027.25 2786.06,1027.25 2818.05,1065.18 \n",
       "  2850.03,1044.1 2882.02,1065.18 2914,1027.25 2945.99,1070.6 2977.98,1027.25 3009.96,1027.25 3041.95,1065.18 3073.93,1077.26 3105.92,1075.71 3137.9,1076.4 \n",
       "  3169.89,1044.1 3201.87,1068.9 3233.86,1034.47 3265.85,1065.18 3297.83,1027.25 3329.82,1071.29 3361.8,1057.59 3393.79,1071.22 3425.77,1052.53 3457.76,1077.2 \n",
       "  \n",
       "  \"/>\n",
       "<polyline clip-path=\"url(#clip652)\" style=\"stroke:#e26f46; stroke-linecap:round; stroke-linejoin:round; stroke-width:4; stroke-opacity:1; fill:none\" points=\"\n",
       "  291.188,77.2578 323.173,902.133 355.159,1035.84 387.145,1035.84 419.13,715.211 451.116,976.673 483.101,934.693 515.087,1035.84 547.072,1035.84 579.058,715.211 \n",
       "  611.043,917.506 643.029,741.816 675.015,842.964 707,917.506 738.986,976.674 770.971,630.116 802.957,592.315 834.942,866.679 866.928,765.532 898.914,673.231 \n",
       "  930.899,895.011 962.885,1018.65 994.87,1018.65 1026.86,1018.65 1058.84,664.384 1090.83,954.179 1122.81,1035.84 1154.8,875.526 1186.78,816.358 1218.77,976.673 \n",
       "  1250.75,591.57 1282.74,976.673 1314.73,427.82 1346.71,976.673 1378.7,622.404 1410.68,875.526 1442.67,976.673 1474.65,853.031 1506.64,875.526 1538.62,875.526 \n",
       "  1570.61,976.673 1602.6,976.673 1634.58,875.526 1666.57,976.673 1698.55,976.673 1730.54,976.673 1762.52,976.674 1794.51,976.673 1826.49,976.673 1858.48,976.673 \n",
       "  1890.47,976.674 1922.45,774.378 1954.44,976.673 1986.42,976.673 2018.41,610.46 2050.39,696.233 2082.38,875.526 2114.37,976.674 2146.35,549.589 2178.34,875.526 \n",
       "  2210.32,783.797 2242.31,1003.28 2274.29,800.984 2306.28,804.678 2338.26,875.527 2370.25,875.526 2402.24,976.673 2434.22,318.426 2466.21,757.191 2498.19,976.673 \n",
       "  2530.18,976.673 2562.16,362.38 2594.15,875.527 2626.13,733.707 2658.12,934.693 2690.11,976.673 2722.09,495.728 2754.08,976.673 2786.06,976.673 2818.05,774.378 \n",
       "  2850.03,917.506 2882.02,774.378 2914,976.673 2945.99,692.716 2977.98,976.673 3009.96,976.673 3041.95,774.378 3073.93,318.46 3105.92,512.917 3137.9,455.277 \n",
       "  3169.89,917.506 3201.87,723.552 3233.86,954.179 3265.85,774.378 3297.83,976.673 3329.82,677.864 3361.8,842.964 3393.79,679.441 3425.77,875.526 3457.76,333.623 \n",
       "  \n",
       "  \"/>\n",
       "<polyline clip-path=\"url(#clip652)\" style=\"stroke:#3da44d; stroke-linecap:round; stroke-linejoin:round; stroke-width:4; stroke-opacity:1; fill:none\" points=\"\n",
       "  291.188,501.903 323.173,781.402 355.159,886.429 387.145,905.348 419.13,933.079 451.116,834.208 483.101,885.629 515.087,913.556 547.072,886.654 579.058,921.221 \n",
       "  611.043,777.869 643.029,819.141 675.015,837.807 707,806.154 738.986,776.203 770.971,778.287 802.957,798.016 834.942,707.188 866.928,788.012 898.914,835.043 \n",
       "  930.899,801.025 962.885,899.262 994.87,923.67 1026.86,832.478 1058.84,875.576 1090.83,851.053 1122.81,920.957 1154.8,878.612 1186.78,822.804 1218.77,830.926 \n",
       "  1250.75,807.264 1282.74,749.929 1314.73,833.887 1346.71,815.563 1378.7,830.857 1410.68,803.239 1442.67,870.257 1474.65,855.497 1506.64,804.011 1538.62,867.14 \n",
       "  1570.61,843.228 1602.6,813.701 1634.58,819.893 1666.57,804.535 1698.55,849.486 1730.54,838.09 1762.52,849.139 1794.51,821.297 1826.49,829.794 1858.48,854.323 \n",
       "  1890.47,814.425 1922.45,821.297 1954.44,813.963 1986.42,826.821 2018.41,748.746 2050.39,723.452 2082.38,812.004 2114.37,812.814 2146.35,763.915 2178.34,763.973 \n",
       "  2210.32,827.51 2242.31,858.979 2274.29,880.245 2306.28,760.286 2338.26,909.888 2370.25,773.296 2402.24,758.874 2434.22,794.94 2466.21,786.161 2498.19,819.069 \n",
       "  2530.18,904.609 2562.16,835.865 2594.15,857.19 2626.13,791.389 2658.12,841.871 2690.11,849.434 2722.09,817.542 2754.08,776.148 2786.06,858.693 2818.05,836.09 \n",
       "  2850.03,774.134 2882.02,819.197 2914,777.646 2945.99,843.512 2977.98,834.897 3009.96,846.844 3041.95,821.411 3073.93,501.903 3105.92,654.442 3137.9,751.918 \n",
       "  3169.89,768.197 3201.87,915.912 3233.86,890.51 3265.85,846.882 3297.83,825.593 3329.82,790.547 3361.8,879.409 3393.79,770.591 3425.77,806.872 3457.76,837.48 \n",
       "  \n",
       "  \"/>\n",
       "<path clip-path=\"url(#clip650)\" d=\"\n",
       "M3052.2 289.954 L3440.87 289.954 L3440.87 82.5936 L3052.2 82.5936  Z\n",
       "  \" fill=\"#ffffff\" fill-rule=\"evenodd\" fill-opacity=\"1\"/>\n",
       "<polyline clip-path=\"url(#clip650)\" style=\"stroke:#000000; stroke-linecap:round; stroke-linejoin:round; stroke-width:4; stroke-opacity:1; fill:none\" points=\"\n",
       "  3052.2,289.954 3440.87,289.954 3440.87,82.5936 3052.2,82.5936 3052.2,289.954 \n",
       "  \"/>\n",
       "<polyline clip-path=\"url(#clip650)\" style=\"stroke:#009af9; stroke-linecap:round; stroke-linejoin:round; stroke-width:4; stroke-opacity:1; fill:none\" points=\"\n",
       "  3089.5,134.434 3313.27,134.434 \n",
       "  \"/>\n",
       "<path clip-path=\"url(#clip650)\" d=\"M3364.41 154.121 Q3362.6 158.751 3360.89 160.163 Q3359.18 161.575 3356.31 161.575 L3352.9 161.575 L3352.9 158.01 L3355.4 158.01 Q3357.16 158.01 3358.14 157.176 Q3359.11 156.343 3360.29 153.241 L3361.05 151.297 L3350.57 125.788 L3355.08 125.788 L3363.18 146.065 L3371.28 125.788 L3375.8 125.788 L3364.41 154.121 Z\" fill=\"#000000\" fill-rule=\"evenodd\" fill-opacity=\"1\" /><path clip-path=\"url(#clip650)\" d=\"M3383.09 147.778 L3390.73 147.778 L3390.73 121.413 L3382.42 123.079 L3382.42 118.82 L3390.68 117.154 L3395.36 117.154 L3395.36 147.778 L3403 147.778 L3403 151.714 L3383.09 151.714 L3383.09 147.778 Z\" fill=\"#000000\" fill-rule=\"evenodd\" fill-opacity=\"1\" /><polyline clip-path=\"url(#clip650)\" style=\"stroke:#e26f46; stroke-linecap:round; stroke-linejoin:round; stroke-width:4; stroke-opacity:1; fill:none\" points=\"\n",
       "  3089.5,186.274 3313.27,186.274 \n",
       "  \"/>\n",
       "<path clip-path=\"url(#clip650)\" d=\"M3364.41 205.961 Q3362.6 210.591 3360.89 212.003 Q3359.18 213.415 3356.31 213.415 L3352.9 213.415 L3352.9 209.85 L3355.4 209.85 Q3357.16 209.85 3358.14 209.016 Q3359.11 208.183 3360.29 205.081 L3361.05 203.137 L3350.57 177.628 L3355.08 177.628 L3363.18 197.905 L3371.28 177.628 L3375.8 177.628 L3364.41 205.961 Z\" fill=\"#000000\" fill-rule=\"evenodd\" fill-opacity=\"1\" /><path clip-path=\"url(#clip650)\" d=\"M3386.31 199.618 L3402.63 199.618 L3402.63 203.554 L3380.68 203.554 L3380.68 199.618 Q3383.34 196.864 3387.93 192.234 Q3392.53 187.581 3393.71 186.239 Q3395.96 183.716 3396.84 181.98 Q3397.74 180.22 3397.74 178.531 Q3397.74 175.776 3395.8 174.04 Q3393.88 172.304 3390.77 172.304 Q3388.58 172.304 3386.12 173.068 Q3383.69 173.831 3380.91 175.382 L3380.91 170.66 Q3383.74 169.526 3386.19 168.947 Q3388.64 168.369 3390.68 168.369 Q3396.05 168.369 3399.25 171.054 Q3402.44 173.739 3402.44 178.23 Q3402.44 180.359 3401.63 182.281 Q3400.84 184.179 3398.74 186.771 Q3398.16 187.443 3395.06 190.66 Q3391.95 193.855 3386.31 199.618 Z\" fill=\"#000000\" fill-rule=\"evenodd\" fill-opacity=\"1\" /><polyline clip-path=\"url(#clip650)\" style=\"stroke:#3da44d; stroke-linecap:round; stroke-linejoin:round; stroke-width:4; stroke-opacity:1; fill:none\" points=\"\n",
       "  3089.5,238.114 3313.27,238.114 \n",
       "  \"/>\n",
       "<path clip-path=\"url(#clip650)\" d=\"M3364.41 257.801 Q3362.6 262.431 3360.89 263.843 Q3359.18 265.255 3356.31 265.255 L3352.9 265.255 L3352.9 261.69 L3355.4 261.69 Q3357.16 261.69 3358.14 260.856 Q3359.11 260.023 3360.29 256.921 L3361.05 254.977 L3350.57 229.468 L3355.08 229.468 L3363.18 249.745 L3371.28 229.468 L3375.8 229.468 L3364.41 257.801 Z\" fill=\"#000000\" fill-rule=\"evenodd\" fill-opacity=\"1\" /><path clip-path=\"url(#clip650)\" d=\"M3396.45 236.759 Q3399.8 237.477 3401.68 239.745 Q3403.58 242.014 3403.58 245.347 Q3403.58 250.463 3400.06 253.264 Q3396.54 256.065 3390.06 256.065 Q3387.88 256.065 3385.57 255.625 Q3383.27 255.208 3380.82 254.352 L3380.82 249.838 Q3382.77 250.972 3385.08 251.551 Q3387.39 252.13 3389.92 252.13 Q3394.32 252.13 3396.61 250.394 Q3398.92 248.657 3398.92 245.347 Q3398.92 242.292 3396.77 240.579 Q3394.64 238.843 3390.82 238.843 L3386.79 238.843 L3386.79 235 L3391.01 235 Q3394.45 235 3396.28 233.634 Q3398.11 232.246 3398.11 229.653 Q3398.11 226.991 3396.21 225.579 Q3394.34 224.144 3390.82 224.144 Q3388.9 224.144 3386.7 224.56 Q3384.5 224.977 3381.86 225.857 L3381.86 221.69 Q3384.52 220.949 3386.84 220.579 Q3389.18 220.209 3391.24 220.209 Q3396.56 220.209 3399.66 222.639 Q3402.77 225.046 3402.77 229.167 Q3402.77 232.037 3401.12 234.028 Q3399.48 235.996 3396.45 236.759 Z\" fill=\"#000000\" fill-rule=\"evenodd\" fill-opacity=\"1\" /></svg>\n"
      ]
     },
     "execution_count": 13,
     "metadata": {},
     "output_type": "execute_result"
    }
   ],
   "source": [
    "plot(df.Prob)\n",
    "plot!(df.IC)\n",
    "plot!(df.H)\n",
    "plot!(size=(900,300))"
   ]
  },
  {
   "cell_type": "code",
   "execution_count": 14,
   "metadata": {},
   "outputs": [
    {
     "data": {
      "text/plain": [
       "generatemidifile (generic function with 1 method)"
      ]
     },
     "execution_count": 14,
     "metadata": {},
     "output_type": "execute_result"
    }
   ],
   "source": [
    "using MIDI, Dates\n",
    "function generatemidifile(xs::Vector{Tuple{Int,Int}},name::String)\n",
    "    tpq = 960\n",
    "    notes = Note[]\n",
    "    pos = 0\n",
    "    for pair in xs\n",
    "        pitch = pair[1]\n",
    "        velocity = 100\n",
    "        dur = Int(tpq*pair[2]/24)\n",
    "        \n",
    "        note = Note(pitch,100,pos,dur)\n",
    "        \n",
    "        push!(notes,note)\n",
    "        pos+=dur\n",
    "    end\n",
    "    track = MIDITrack()\n",
    "    addnotes!(track, notes)\n",
    "    \n",
    "    midi = MIDIFile(0, tpq, [track])\n",
    "    cd(@__DIR__)\n",
    "    save(name, midi)\n",
    "end"
   ]
  },
  {
   "cell_type": "code",
   "execution_count": 15,
   "metadata": {},
   "outputs": [
    {
     "data": {
      "text/plain": [
       "MIDIFile (format=0, tpq=960) with 1 tracks"
      ]
     },
     "execution_count": 15,
     "metadata": {},
     "output_type": "execute_result"
    }
   ],
   "source": [
    "generatemidifile(seq,\"example.mid\")"
   ]
  }
 ],
 "metadata": {
  "kernelspec": {
   "display_name": "Julia 1.7.3",
   "language": "julia",
   "name": "julia-1.7"
  },
  "language_info": {
   "file_extension": ".jl",
   "mimetype": "application/julia",
   "name": "julia",
   "version": "1.7.3"
  }
 },
 "nbformat": 4,
 "nbformat_minor": 4
}
