{
 "cells": [
  {
   "cell_type": "code",
   "execution_count": 1,
   "metadata": {},
   "outputs": [
    {
     "name": "stderr",
     "output_type": "stream",
     "text": [
      "WARNING: using DataFrames.combine in module Idyoms conflicts with an existing identifier.\n"
     ]
    }
   ],
   "source": [
    "using CSV, DataFrames, Plots\n",
    "#include(\"src/Idyoms.jl\")\n",
    "\n",
    "using Chakra\n",
    "using Melch\n",
    "include(\"src/Idyoms.jl\")\n",
    "using Main.Idyoms"
   ]
  },
  {
   "cell_type": "code",
   "execution_count": 2,
   "metadata": {},
   "outputs": [],
   "source": [
    "Melch.__INIT__(\"/Users/nick/Dropbox/MelchData\")"
   ]
  },
  {
   "cell_type": "code",
   "execution_count": 3,
   "metadata": {},
   "outputs": [
    {
     "data": {
      "text/plain": [
       "\"Songs and ballads from Nova Scotia, Canada.\""
      ]
     },
     "execution_count": 3,
     "metadata": {},
     "output_type": "execute_result"
    }
   ],
   "source": [
    "nova = fnd(Melch.id(0),Melch)\n",
    "nova.description"
   ]
  },
  {
   "cell_type": "code",
   "execution_count": 4,
   "metadata": {},
   "outputs": [],
   "source": [
    "melodies = pts(nova)\n",
    "sequences = [sequence(pts(mel,Melch),Melch) for mel in melodies];"
   ]
  },
  {
   "cell_type": "code",
   "execution_count": 5,
   "metadata": {},
   "outputs": [],
   "source": [
    "pitch_view = [View(seq,vp(Melch.CPITCH),vp(Melch.CPITCH)) for seq in sequences];"
   ]
  },
  {
   "cell_type": "markdown",
   "metadata": {},
   "source": [
    "# Parameters"
   ]
  },
  {
   "cell_type": "code",
   "execution_count": 6,
   "metadata": {},
   "outputs": [
    {
     "data": {
      "text/plain": [
       "\"./idyom-data/STMA5I.csv\""
      ]
     },
     "execution_count": 6,
     "metadata": {},
     "output_type": "execute_result"
    }
   ],
   "source": [
    "a = Set([54:77...,79,81])\n",
    "b = Interpolated()\n",
    "e = A()\n",
    "u = true\n",
    "o = Bounded(5)\n",
    "#o = Unbounded();\n",
    "idyom_model = \"./idyom-data/STMA5I.csv\""
   ]
  },
  {
   "cell_type": "markdown",
   "metadata": {},
   "source": [
    "# Compute Models"
   ]
  },
  {
   "cell_type": "code",
   "execution_count": 7,
   "metadata": {},
   "outputs": [
    {
     "name": "stdout",
     "output_type": "stream",
     "text": [
      "  1.898350 seconds (13.81 M allocations: 1.401 GiB, 18.28% gc time, 31.59% compilation time)\n"
     ]
    },
    {
     "data": {
      "text/plain": [
       "3.1620058474495836"
      ]
     },
     "execution_count": 7,
     "metadata": {},
     "output_type": "execute_result"
    }
   ],
   "source": [
    "@time pitch_stm = Idyoms.ppm_stm(pitch_view,a,b,e,u,o);\n",
    "Idyoms.mean_infcontent(pitch_stm)"
   ]
  },
  {
   "cell_type": "code",
   "execution_count": 8,
   "metadata": {
    "scrolled": true
   },
   "outputs": [
    {
     "name": "stdout",
     "output_type": "stream",
     "text": [
      "  2.955220 seconds (21.39 M allocations: 2.216 GiB, 22.78% gc time, 28.06% compilation time)\n"
     ]
    },
    {
     "data": {
      "text/plain": [
       "3.149688853456989"
      ]
     },
     "execution_count": 8,
     "metadata": {},
     "output_type": "execute_result"
    }
   ],
   "source": [
    "@time pitch_ltm = Idyoms.ppm_ltm(pitch_view,a,b,e,u,o);\n",
    "Idyoms.mean_infcontent(pitch_ltm)"
   ]
  },
  {
   "cell_type": "code",
   "execution_count": 9,
   "metadata": {},
   "outputs": [
    {
     "name": "stdout",
     "output_type": "stream",
     "text": [
      "  2.504022 seconds (21.92 M allocations: 2.369 GiB, 24.82% gc time, 8.20% compilation time)\n"
     ]
    },
    {
     "data": {
      "text/plain": [
       "2.8782888216781366"
      ]
     },
     "execution_count": 9,
     "metadata": {},
     "output_type": "execute_result"
    }
   ],
   "source": [
    "@time pitch_ltm_plus = Idyoms.ppm_ltm_plus(pitch_view,a,b,e,u,o);\n",
    "Idyoms.mean_infcontent(pitch_ltm_plus)"
   ]
  },
  {
   "cell_type": "code",
   "execution_count": 10,
   "metadata": {},
   "outputs": [
    {
     "name": "stdout",
     "output_type": "stream",
     "text": [
      "  3.943280 seconds (34.16 M allocations: 3.604 GiB, 19.84% gc time, 14.89% compilation time)\n"
     ]
    },
    {
     "data": {
      "text/plain": [
       "2.544371622597849"
      ]
     },
     "execution_count": 10,
     "metadata": {},
     "output_type": "execute_result"
    }
   ],
   "source": [
    "@time pitch_both = Idyoms.ppm_both(pitch_view,a,b,e,u,o);\n",
    "Idyoms.mean_infcontent(pitch_both)"
   ]
  },
  {
   "cell_type": "code",
   "execution_count": 11,
   "metadata": {},
   "outputs": [
    {
     "name": "stdout",
     "output_type": "stream",
     "text": [
      "  4.046793 seconds (34.43 M allocations: 3.738 GiB, 33.42% gc time, 2.36% compilation time)\n"
     ]
    },
    {
     "data": {
      "text/plain": [
       "2.503681972956312"
      ]
     },
     "execution_count": 11,
     "metadata": {},
     "output_type": "execute_result"
    }
   ],
   "source": [
    "@time pitch_both_plus = Idyoms.ppm_both_plus(pitch_view,a,b,e,u,o);\n",
    "Idyoms.mean_infcontent(pitch_both_plus)"
   ]
  },
  {
   "cell_type": "markdown",
   "metadata": {},
   "source": [
    "# Print Table "
   ]
  },
  {
   "cell_type": "code",
   "execution_count": 12,
   "metadata": {},
   "outputs": [
    {
     "data": {
      "text/html": [
       "<div><div style = \"float: left;\"><span>8552×7 DataFrame</span></div><div style = \"float: right;\"><span style = \"font-style: italic;\">8527 rows omitted</span></div><div style = \"clear: both;\"></div></div><div class = \"data-frame\" style = \"overflow-x: scroll;\"><table class = \"data-frame\" style = \"margin-bottom: 6px;\"><thead><tr class = \"header\"><th class = \"rowNumber\" style = \"font-weight: bold; text-align: right;\">Row</th><th style = \"text-align: left;\">SeqID</th><th style = \"text-align: left;\">EventID</th><th style = \"text-align: left;\">Symbol</th><th style = \"text-align: left;\">Order</th><th style = \"text-align: left;\">Prob</th><th style = \"text-align: left;\">IC</th><th style = \"text-align: left;\">H</th></tr><tr class = \"subheader headerLastRow\"><th class = \"rowNumber\" style = \"font-weight: bold; text-align: right;\"></th><th title = \"Int64\" style = \"text-align: left;\">Int64</th><th title = \"Int64\" style = \"text-align: left;\">Int64</th><th title = \"Int64\" style = \"text-align: left;\">Int64</th><th title = \"Int64\" style = \"text-align: left;\">Int64</th><th title = \"Float64\" style = \"text-align: left;\">Float64</th><th title = \"Float64\" style = \"text-align: left;\">Float64</th><th title = \"Float64\" style = \"text-align: left;\">Float64</th></tr></thead><tbody><tr><td class = \"rowNumber\" style = \"font-weight: bold; text-align: right;\">1</td><td style = \"text-align: right;\">1</td><td style = \"text-align: right;\">1</td><td style = \"text-align: right;\">65</td><td style = \"text-align: right;\">-1</td><td style = \"text-align: right;\">0.0384615</td><td style = \"text-align: right;\">4.70044</td><td style = \"text-align: right;\">4.70044</td></tr><tr><td class = \"rowNumber\" style = \"font-weight: bold; text-align: right;\">2</td><td style = \"text-align: right;\">1</td><td style = \"text-align: right;\">2</td><td style = \"text-align: right;\">62</td><td style = \"text-align: right;\">-1</td><td style = \"text-align: right;\">0.0192308</td><td style = \"text-align: right;\">5.70044</td><td style = \"text-align: right;\">3.23156</td></tr><tr><td class = \"rowNumber\" style = \"font-weight: bold; text-align: right;\">3</td><td style = \"text-align: right;\">1</td><td style = \"text-align: right;\">3</td><td style = \"text-align: right;\">60</td><td style = \"text-align: right;\">-1</td><td style = \"text-align: right;\">0.0131579</td><td style = \"text-align: right;\">6.24793</td><td style = \"text-align: right;\">3.03184</td></tr><tr><td class = \"rowNumber\" style = \"font-weight: bold; text-align: right;\">4</td><td style = \"text-align: right;\">1</td><td style = \"text-align: right;\">4</td><td style = \"text-align: right;\">60</td><td style = \"text-align: right;\">0</td><td style = \"text-align: right;\">0.255102</td><td style = \"text-align: right;\">1.97085</td><td style = \"text-align: right;\">3.06074</td></tr><tr><td class = \"rowNumber\" style = \"font-weight: bold; text-align: right;\">5</td><td style = \"text-align: right;\">1</td><td style = \"text-align: right;\">5</td><td style = \"text-align: right;\">60</td><td style = \"text-align: right;\">1</td><td style = \"text-align: right;\">0.623711</td><td style = \"text-align: right;\">0.68105</td><td style = \"text-align: right;\">2.08767</td></tr><tr><td class = \"rowNumber\" style = \"font-weight: bold; text-align: right;\">6</td><td style = \"text-align: right;\">1</td><td style = \"text-align: right;\">6</td><td style = \"text-align: right;\">60</td><td style = \"text-align: right;\">2</td><td style = \"text-align: right;\">0.665138</td><td style = \"text-align: right;\">0.588275</td><td style = \"text-align: right;\">1.92745</td></tr><tr><td class = \"rowNumber\" style = \"font-weight: bold; text-align: right;\">7</td><td style = \"text-align: right;\">1</td><td style = \"text-align: right;\">7</td><td style = \"text-align: right;\">65</td><td style = \"text-align: right;\">0</td><td style = \"text-align: right;\">0.103306</td><td style = \"text-align: right;\">3.27501</td><td style = \"text-align: right;\">1.79101</td></tr><tr><td class = \"rowNumber\" style = \"font-weight: bold; text-align: right;\">8</td><td style = \"text-align: right;\">1</td><td style = \"text-align: right;\">8</td><td style = \"text-align: right;\">65</td><td style = \"text-align: right;\">0</td><td style = \"text-align: right;\">0.135359</td><td style = \"text-align: right;\">2.88514</td><td style = \"text-align: right;\">1.92345</td></tr><tr><td class = \"rowNumber\" style = \"font-weight: bold; text-align: right;\">9</td><td style = \"text-align: right;\">1</td><td style = \"text-align: right;\">9</td><td style = \"text-align: right;\">65</td><td style = \"text-align: right;\">1</td><td style = \"text-align: right;\">0.421397</td><td style = \"text-align: right;\">1.24675</td><td style = \"text-align: right;\">1.96885</td></tr><tr><td class = \"rowNumber\" style = \"font-weight: bold; text-align: right;\">10</td><td style = \"text-align: right;\">1</td><td style = \"text-align: right;\">10</td><td style = \"text-align: right;\">69</td><td style = \"text-align: right;\">-1</td><td style = \"text-align: right;\">0.00118765</td><td style = \"text-align: right;\">9.71768</td><td style = \"text-align: right;\">1.43529</td></tr><tr><td class = \"rowNumber\" style = \"font-weight: bold; text-align: right;\">11</td><td style = \"text-align: right;\">1</td><td style = \"text-align: right;\">11</td><td style = \"text-align: right;\">69</td><td style = \"text-align: right;\">0</td><td style = \"text-align: right;\">0.09375</td><td style = \"text-align: right;\">3.41504</td><td style = \"text-align: right;\">2.38921</td></tr><tr><td class = \"rowNumber\" style = \"font-weight: bold; text-align: right;\">12</td><td style = \"text-align: right;\">1</td><td style = \"text-align: right;\">12</td><td style = \"text-align: right;\">69</td><td style = \"text-align: right;\">1</td><td style = \"text-align: right;\">0.544204</td><td style = \"text-align: right;\">0.87778</td><td style = \"text-align: right;\">1.97025</td></tr><tr><td class = \"rowNumber\" style = \"font-weight: bold; text-align: right;\">13</td><td style = \"text-align: right;\">1</td><td style = \"text-align: right;\">13</td><td style = \"text-align: right;\">69</td><td style = \"text-align: right;\">2</td><td style = \"text-align: right;\">0.56391</td><td style = \"text-align: right;\">0.826464</td><td style = \"text-align: right;\">1.92188</td></tr><tr><td style = \"text-align: right;\">&vellip;</td><td style = \"text-align: right;\">&vellip;</td><td style = \"text-align: right;\">&vellip;</td><td style = \"text-align: right;\">&vellip;</td><td style = \"text-align: right;\">&vellip;</td><td style = \"text-align: right;\">&vellip;</td><td style = \"text-align: right;\">&vellip;</td><td style = \"text-align: right;\">&vellip;</td></tr><tr><td class = \"rowNumber\" style = \"font-weight: bold; text-align: right;\">8541</td><td style = \"text-align: right;\">152</td><td style = \"text-align: right;\">55</td><td style = \"text-align: right;\">60</td><td style = \"text-align: right;\">4</td><td style = \"text-align: right;\">0.57105</td><td style = \"text-align: right;\">0.80831</td><td style = \"text-align: right;\">1.86885</td></tr><tr><td class = \"rowNumber\" style = \"font-weight: bold; text-align: right;\">8542</td><td style = \"text-align: right;\">152</td><td style = \"text-align: right;\">56</td><td style = \"text-align: right;\">62</td><td style = \"text-align: right;\">4</td><td style = \"text-align: right;\">0.593736</td><td style = \"text-align: right;\">0.752107</td><td style = \"text-align: right;\">1.9333</td></tr><tr><td class = \"rowNumber\" style = \"font-weight: bold; text-align: right;\">8543</td><td style = \"text-align: right;\">152</td><td style = \"text-align: right;\">57</td><td style = \"text-align: right;\">65</td><td style = \"text-align: right;\">4</td><td style = \"text-align: right;\">0.634078</td><td style = \"text-align: right;\">0.657268</td><td style = \"text-align: right;\">1.61576</td></tr><tr><td class = \"rowNumber\" style = \"font-weight: bold; text-align: right;\">8544</td><td style = \"text-align: right;\">152</td><td style = \"text-align: right;\">58</td><td style = \"text-align: right;\">65</td><td style = \"text-align: right;\">4</td><td style = \"text-align: right;\">0.524299</td><td style = \"text-align: right;\">0.931538</td><td style = \"text-align: right;\">2.05148</td></tr><tr><td class = \"rowNumber\" style = \"font-weight: bold; text-align: right;\">8545</td><td style = \"text-align: right;\">152</td><td style = \"text-align: right;\">59</td><td style = \"text-align: right;\">65</td><td style = \"text-align: right;\">1</td><td style = \"text-align: right;\">0.106635</td><td style = \"text-align: right;\">3.22925</td><td style = \"text-align: right;\">2.42563</td></tr><tr><td class = \"rowNumber\" style = \"font-weight: bold; text-align: right;\">8546</td><td style = \"text-align: right;\">152</td><td style = \"text-align: right;\">60</td><td style = \"text-align: right;\">62</td><td style = \"text-align: right;\">2</td><td style = \"text-align: right;\">0.311171</td><td style = \"text-align: right;\">1.68422</td><td style = \"text-align: right;\">2.37609</td></tr><tr><td class = \"rowNumber\" style = \"font-weight: bold; text-align: right;\">8547</td><td style = \"text-align: right;\">152</td><td style = \"text-align: right;\">61</td><td style = \"text-align: right;\">58</td><td style = \"text-align: right;\">3</td><td style = \"text-align: right;\">0.541027</td><td style = \"text-align: right;\">0.886227</td><td style = \"text-align: right;\">1.98971</td></tr><tr><td class = \"rowNumber\" style = \"font-weight: bold; text-align: right;\">8548</td><td style = \"text-align: right;\">152</td><td style = \"text-align: right;\">62</td><td style = \"text-align: right;\">62</td><td style = \"text-align: right;\">1</td><td style = \"text-align: right;\">0.0757447</td><td style = \"text-align: right;\">3.72271</td><td style = \"text-align: right;\">1.75727</td></tr><tr><td class = \"rowNumber\" style = \"font-weight: bold; text-align: right;\">8549</td><td style = \"text-align: right;\">152</td><td style = \"text-align: right;\">63</td><td style = \"text-align: right;\">60</td><td style = \"text-align: right;\">2</td><td style = \"text-align: right;\">0.272496</td><td style = \"text-align: right;\">1.87569</td><td style = \"text-align: right;\">1.91692</td></tr><tr><td class = \"rowNumber\" style = \"font-weight: bold; text-align: right;\">8550</td><td style = \"text-align: right;\">152</td><td style = \"text-align: right;\">64</td><td style = \"text-align: right;\">58</td><td style = \"text-align: right;\">3</td><td style = \"text-align: right;\">0.58538</td><td style = \"text-align: right;\">0.772554</td><td style = \"text-align: right;\">1.7325</td></tr><tr><td class = \"rowNumber\" style = \"font-weight: bold; text-align: right;\">8551</td><td style = \"text-align: right;\">152</td><td style = \"text-align: right;\">65</td><td style = \"text-align: right;\">57</td><td style = \"text-align: right;\">4</td><td style = \"text-align: right;\">0.468822</td><td style = \"text-align: right;\">1.09289</td><td style = \"text-align: right;\">2.24569</td></tr><tr><td class = \"rowNumber\" style = \"font-weight: bold; text-align: right;\">8552</td><td style = \"text-align: right;\">152</td><td style = \"text-align: right;\">66</td><td style = \"text-align: right;\">58</td><td style = \"text-align: right;\">4</td><td style = \"text-align: right;\">0.539126</td><td style = \"text-align: right;\">0.891305</td><td style = \"text-align: right;\">2.37188</td></tr></tbody></table></div>"
      ],
      "text/latex": [
       "\\begin{tabular}{r|ccccccc}\n",
       "\t& SeqID & EventID & Symbol & Order & Prob & IC & H\\\\\n",
       "\t\\hline\n",
       "\t& Int64 & Int64 & Int64 & Int64 & Float64 & Float64 & Float64\\\\\n",
       "\t\\hline\n",
       "\t1 & 1 & 1 & 65 & -1 & 0.0384615 & 4.70044 & 4.70044 \\\\\n",
       "\t2 & 1 & 2 & 62 & -1 & 0.0192308 & 5.70044 & 3.23156 \\\\\n",
       "\t3 & 1 & 3 & 60 & -1 & 0.0131579 & 6.24793 & 3.03184 \\\\\n",
       "\t4 & 1 & 4 & 60 & 0 & 0.255102 & 1.97085 & 3.06074 \\\\\n",
       "\t5 & 1 & 5 & 60 & 1 & 0.623711 & 0.68105 & 2.08767 \\\\\n",
       "\t6 & 1 & 6 & 60 & 2 & 0.665138 & 0.588275 & 1.92745 \\\\\n",
       "\t7 & 1 & 7 & 65 & 0 & 0.103306 & 3.27501 & 1.79101 \\\\\n",
       "\t8 & 1 & 8 & 65 & 0 & 0.135359 & 2.88514 & 1.92345 \\\\\n",
       "\t9 & 1 & 9 & 65 & 1 & 0.421397 & 1.24675 & 1.96885 \\\\\n",
       "\t10 & 1 & 10 & 69 & -1 & 0.00118765 & 9.71768 & 1.43529 \\\\\n",
       "\t11 & 1 & 11 & 69 & 0 & 0.09375 & 3.41504 & 2.38921 \\\\\n",
       "\t12 & 1 & 12 & 69 & 1 & 0.544204 & 0.87778 & 1.97025 \\\\\n",
       "\t13 & 1 & 13 & 69 & 2 & 0.56391 & 0.826464 & 1.92188 \\\\\n",
       "\t14 & 1 & 14 & 69 & 3 & 0.581982 & 0.780954 & 1.87553 \\\\\n",
       "\t15 & 1 & 15 & 67 & -1 & 0.0017301 & 9.17493 & 1.83115 \\\\\n",
       "\t16 & 1 & 16 & 65 & 0 & 0.25 & 2.0 & 2.53488 \\\\\n",
       "\t17 & 1 & 17 & 65 & 1 & 0.413907 & 1.27262 & 2.16284 \\\\\n",
       "\t18 & 1 & 18 & 65 & 2 & 0.49937 & 1.00182 & 1.81591 \\\\\n",
       "\t19 & 1 & 19 & 62 & 1 & 0.0553967 & 4.17406 & 1.56919 \\\\\n",
       "\t20 & 1 & 20 & 60 & 2 & 0.55402 & 0.85199 & 1.96429 \\\\\n",
       "\t21 & 1 & 21 & 60 & 3 & 0.665659 & 0.587145 & 1.49093 \\\\\n",
       "\t22 & 1 & 22 & 65 & 2 & 0.238836 & 2.06591 & 1.59351 \\\\\n",
       "\t23 & 1 & 23 & 69 & 1 & 0.117334 & 3.0913 & 1.58246 \\\\\n",
       "\t24 & 1 & 24 & 69 & 2 & 0.754603 & 0.40621 & 1.27433 \\\\\n",
       "\t25 & 1 & 25 & 67 & 2 & 0.141887 & 2.81719 & 1.37993 \\\\\n",
       "\t26 & 1 & 26 & 65 & 3 & 0.589506 & 0.762421 & 1.88935 \\\\\n",
       "\t27 & 1 & 27 & 60 & 0 & 0.0419294 & 4.57589 & 1.61453 \\\\\n",
       "\t28 & 1 & 28 & 60 & 1 & 0.549456 & 0.863925 & 1.60689 \\\\\n",
       "\t29 & 1 & 29 & 60 & 2 & 0.415194 & 1.26814 & 1.77607 \\\\\n",
       "\t30 & 1 & 30 & 60 & 3 & 0.388423 & 1.3643 & 1.97951 \\\\\n",
       "\t$\\dots$ & $\\dots$ & $\\dots$ & $\\dots$ & $\\dots$ & $\\dots$ & $\\dots$ & $\\dots$ \\\\\n",
       "\\end{tabular}\n"
      ],
      "text/plain": [
       "\u001b[1m8552×7 DataFrame\u001b[0m\n",
       "\u001b[1m  Row \u001b[0m│\u001b[1m SeqID \u001b[0m\u001b[1m EventID \u001b[0m\u001b[1m Symbol \u001b[0m\u001b[1m Order \u001b[0m\u001b[1m Prob       \u001b[0m\u001b[1m IC       \u001b[0m\u001b[1m H       \u001b[0m\n",
       "      │\u001b[90m Int64 \u001b[0m\u001b[90m Int64   \u001b[0m\u001b[90m Int64  \u001b[0m\u001b[90m Int64 \u001b[0m\u001b[90m Float64    \u001b[0m\u001b[90m Float64  \u001b[0m\u001b[90m Float64 \u001b[0m\n",
       "──────┼──────────────────────────────────────────────────────────────\n",
       "    1 │     1        1      65     -1  0.0384615   4.70044   4.70044\n",
       "    2 │     1        2      62     -1  0.0192308   5.70044   3.23156\n",
       "    3 │     1        3      60     -1  0.0131579   6.24793   3.03184\n",
       "    4 │     1        4      60      0  0.255102    1.97085   3.06074\n",
       "    5 │     1        5      60      1  0.623711    0.68105   2.08767\n",
       "    6 │     1        6      60      2  0.665138    0.588275  1.92745\n",
       "    7 │     1        7      65      0  0.103306    3.27501   1.79101\n",
       "    8 │     1        8      65      0  0.135359    2.88514   1.92345\n",
       "    9 │     1        9      65      1  0.421397    1.24675   1.96885\n",
       "   10 │     1       10      69     -1  0.00118765  9.71768   1.43529\n",
       "   11 │     1       11      69      0  0.09375     3.41504   2.38921\n",
       "  ⋮   │   ⋮       ⋮       ⋮       ⋮        ⋮          ⋮         ⋮\n",
       " 8543 │   152       57      65      4  0.634078    0.657268  1.61576\n",
       " 8544 │   152       58      65      4  0.524299    0.931538  2.05148\n",
       " 8545 │   152       59      65      1  0.106635    3.22925   2.42563\n",
       " 8546 │   152       60      62      2  0.311171    1.68422   2.37609\n",
       " 8547 │   152       61      58      3  0.541027    0.886227  1.98971\n",
       " 8548 │   152       62      62      1  0.0757447   3.72271   1.75727\n",
       " 8549 │   152       63      60      2  0.272496    1.87569   1.91692\n",
       " 8550 │   152       64      58      3  0.58538     0.772554  1.7325\n",
       " 8551 │   152       65      57      4  0.468822    1.09289   2.24569\n",
       " 8552 │   152       66      58      4  0.539126    0.891305  2.37188\n",
       "\u001b[36m                                                    8531 rows omitted\u001b[0m"
      ]
     },
     "execution_count": 12,
     "metadata": {},
     "output_type": "execute_result"
    }
   ],
   "source": [
    "pitch_table = Idyoms.todataframe(pitch_stm)"
   ]
  },
  {
   "cell_type": "code",
   "execution_count": 13,
   "metadata": {},
   "outputs": [
    {
     "data": {
      "image/svg+xml": [
       "<?xml version=\"1.0\" encoding=\"utf-8\"?>\n",
       "<svg xmlns=\"http://www.w3.org/2000/svg\" xmlns:xlink=\"http://www.w3.org/1999/xlink\" width=\"900\" height=\"300\" viewBox=\"0 0 3600 1200\">\n",
       "<defs>\n",
       "  <clipPath id=\"clip480\">\n",
       "    <rect x=\"0\" y=\"0\" width=\"3600\" height=\"1200\"/>\n",
       "  </clipPath>\n",
       "</defs>\n",
       "<path clip-path=\"url(#clip480)\" d=\"\n",
       "M0 1200 L3600 1200 L3600 0 L0 0  Z\n",
       "  \" fill=\"#ffffff\" fill-rule=\"evenodd\" fill-opacity=\"1\"/>\n",
       "<defs>\n",
       "  <clipPath id=\"clip481\">\n",
       "    <rect x=\"720\" y=\"0\" width=\"2521\" height=\"1200\"/>\n",
       "  </clipPath>\n",
       "</defs>\n",
       "<path clip-path=\"url(#clip480)\" d=\"\n",
       "M196.191 1107.73 L3552.76 1107.73 L3552.76 47.2441 L196.191 47.2441  Z\n",
       "  \" fill=\"#ffffff\" fill-rule=\"evenodd\" fill-opacity=\"1\"/>\n",
       "<defs>\n",
       "  <clipPath id=\"clip482\">\n",
       "    <rect x=\"196\" y=\"47\" width=\"3358\" height=\"1061\"/>\n",
       "  </clipPath>\n",
       "</defs>\n",
       "<polyline clip-path=\"url(#clip482)\" style=\"stroke:#000000; stroke-linecap:round; stroke-linejoin:round; stroke-width:2; stroke-opacity:0.1; fill:none\" points=\"\n",
       "  261.03,1107.73 261.03,47.2441 \n",
       "  \"/>\n",
       "<polyline clip-path=\"url(#clip482)\" style=\"stroke:#000000; stroke-linecap:round; stroke-linejoin:round; stroke-width:2; stroke-opacity:0.1; fill:none\" points=\"\n",
       "  1014.98,1107.73 1014.98,47.2441 \n",
       "  \"/>\n",
       "<polyline clip-path=\"url(#clip482)\" style=\"stroke:#000000; stroke-linecap:round; stroke-linejoin:round; stroke-width:2; stroke-opacity:0.1; fill:none\" points=\"\n",
       "  1768.92,1107.73 1768.92,47.2441 \n",
       "  \"/>\n",
       "<polyline clip-path=\"url(#clip482)\" style=\"stroke:#000000; stroke-linecap:round; stroke-linejoin:round; stroke-width:2; stroke-opacity:0.1; fill:none\" points=\"\n",
       "  2522.87,1107.73 2522.87,47.2441 \n",
       "  \"/>\n",
       "<polyline clip-path=\"url(#clip482)\" style=\"stroke:#000000; stroke-linecap:round; stroke-linejoin:round; stroke-width:2; stroke-opacity:0.1; fill:none\" points=\"\n",
       "  3276.81,1107.73 3276.81,47.2441 \n",
       "  \"/>\n",
       "<polyline clip-path=\"url(#clip480)\" style=\"stroke:#000000; stroke-linecap:round; stroke-linejoin:round; stroke-width:4; stroke-opacity:1; fill:none\" points=\"\n",
       "  196.191,1107.73 3552.76,1107.73 \n",
       "  \"/>\n",
       "<polyline clip-path=\"url(#clip480)\" style=\"stroke:#000000; stroke-linecap:round; stroke-linejoin:round; stroke-width:4; stroke-opacity:1; fill:none\" points=\"\n",
       "  261.03,1107.73 261.03,1088.83 \n",
       "  \"/>\n",
       "<polyline clip-path=\"url(#clip480)\" style=\"stroke:#000000; stroke-linecap:round; stroke-linejoin:round; stroke-width:4; stroke-opacity:1; fill:none\" points=\"\n",
       "  1014.98,1107.73 1014.98,1088.83 \n",
       "  \"/>\n",
       "<polyline clip-path=\"url(#clip480)\" style=\"stroke:#000000; stroke-linecap:round; stroke-linejoin:round; stroke-width:4; stroke-opacity:1; fill:none\" points=\"\n",
       "  1768.92,1107.73 1768.92,1088.83 \n",
       "  \"/>\n",
       "<polyline clip-path=\"url(#clip480)\" style=\"stroke:#000000; stroke-linecap:round; stroke-linejoin:round; stroke-width:4; stroke-opacity:1; fill:none\" points=\"\n",
       "  2522.87,1107.73 2522.87,1088.83 \n",
       "  \"/>\n",
       "<polyline clip-path=\"url(#clip480)\" style=\"stroke:#000000; stroke-linecap:round; stroke-linejoin:round; stroke-width:4; stroke-opacity:1; fill:none\" points=\"\n",
       "  3276.81,1107.73 3276.81,1088.83 \n",
       "  \"/>\n",
       "<path clip-path=\"url(#clip480)\" d=\"M261.03 1148.25 Q257.419 1148.25 255.59 1151.81 Q253.785 1155.35 253.785 1162.48 Q253.785 1169.59 255.59 1173.15 Q257.419 1176.7 261.03 1176.7 Q264.664 1176.7 266.47 1173.15 Q268.298 1169.59 268.298 1162.48 Q268.298 1155.35 266.47 1151.81 Q264.664 1148.25 261.03 1148.25 M261.03 1144.54 Q266.84 1144.54 269.896 1149.15 Q272.974 1153.73 272.974 1162.48 Q272.974 1171.21 269.896 1175.82 Q266.84 1180.4 261.03 1180.4 Q255.22 1180.4 252.141 1175.82 Q249.086 1171.21 249.086 1162.48 Q249.086 1153.73 252.141 1149.15 Q255.22 1144.54 261.03 1144.54 Z\" fill=\"#000000\" fill-rule=\"evenodd\" fill-opacity=\"1\" /><path clip-path=\"url(#clip480)\" d=\"M994.246 1175.79 L1010.57 1175.79 L1010.57 1179.73 L988.621 1179.73 L988.621 1175.79 Q991.283 1173.04 995.867 1168.41 Q1000.47 1163.76 1001.65 1162.41 Q1003.9 1159.89 1004.78 1158.15 Q1005.68 1156.39 1005.68 1154.7 Q1005.68 1151.95 1003.74 1150.21 Q1001.82 1148.48 998.714 1148.48 Q996.515 1148.48 994.061 1149.24 Q991.631 1150.01 988.853 1151.56 L988.853 1146.83 Q991.677 1145.7 994.131 1145.12 Q996.584 1144.54 998.621 1144.54 Q1003.99 1144.54 1007.19 1147.23 Q1010.38 1149.91 1010.38 1154.4 Q1010.38 1156.53 1009.57 1158.45 Q1008.78 1160.35 1006.68 1162.95 Q1006.1 1163.62 1003 1166.83 Q999.895 1170.03 994.246 1175.79 Z\" fill=\"#000000\" fill-rule=\"evenodd\" fill-opacity=\"1\" /><path clip-path=\"url(#clip480)\" d=\"M1020.43 1145.17 L1038.78 1145.17 L1038.78 1149.1 L1024.71 1149.1 L1024.71 1157.58 Q1025.73 1157.23 1026.75 1157.07 Q1027.76 1156.88 1028.78 1156.88 Q1034.57 1156.88 1037.95 1160.05 Q1041.33 1163.22 1041.33 1168.64 Q1041.33 1174.22 1037.86 1177.32 Q1034.39 1180.4 1028.07 1180.4 Q1025.89 1180.4 1023.62 1180.03 Q1021.38 1179.66 1018.97 1178.92 L1018.97 1174.22 Q1021.05 1175.35 1023.27 1175.91 Q1025.5 1176.46 1027.97 1176.46 Q1031.98 1176.46 1034.32 1174.36 Q1036.65 1172.25 1036.65 1168.64 Q1036.65 1165.03 1034.32 1162.92 Q1031.98 1160.82 1027.97 1160.82 Q1026.1 1160.82 1024.22 1161.23 Q1022.37 1161.65 1020.43 1162.53 L1020.43 1145.17 Z\" fill=\"#000000\" fill-rule=\"evenodd\" fill-opacity=\"1\" /><path clip-path=\"url(#clip480)\" d=\"M1743.62 1145.17 L1761.98 1145.17 L1761.98 1149.1 L1747.9 1149.1 L1747.9 1157.58 Q1748.92 1157.23 1749.94 1157.07 Q1750.96 1156.88 1751.98 1156.88 Q1757.76 1156.88 1761.14 1160.05 Q1764.52 1163.22 1764.52 1168.64 Q1764.52 1174.22 1761.05 1177.32 Q1757.58 1180.4 1751.26 1180.4 Q1749.08 1180.4 1746.81 1180.03 Q1744.57 1179.66 1742.16 1178.92 L1742.16 1174.22 Q1744.25 1175.35 1746.47 1175.91 Q1748.69 1176.46 1751.17 1176.46 Q1755.17 1176.46 1757.51 1174.36 Q1759.85 1172.25 1759.85 1168.64 Q1759.85 1165.03 1757.51 1162.92 Q1755.17 1160.82 1751.17 1160.82 Q1749.29 1160.82 1747.42 1161.23 Q1745.56 1161.65 1743.62 1162.53 L1743.62 1145.17 Z\" fill=\"#000000\" fill-rule=\"evenodd\" fill-opacity=\"1\" /><path clip-path=\"url(#clip480)\" d=\"M1783.74 1148.25 Q1780.12 1148.25 1778.3 1151.81 Q1776.49 1155.35 1776.49 1162.48 Q1776.49 1169.59 1778.3 1173.15 Q1780.12 1176.7 1783.74 1176.7 Q1787.37 1176.7 1789.18 1173.15 Q1791 1169.59 1791 1162.48 Q1791 1155.35 1789.18 1151.81 Q1787.37 1148.25 1783.74 1148.25 M1783.74 1144.54 Q1789.55 1144.54 1792.6 1149.15 Q1795.68 1153.73 1795.68 1162.48 Q1795.68 1171.21 1792.6 1175.82 Q1789.55 1180.4 1783.74 1180.4 Q1777.93 1180.4 1774.85 1175.82 Q1771.79 1171.21 1771.79 1162.48 Q1771.79 1153.73 1774.85 1149.15 Q1777.93 1144.54 1783.74 1144.54 Z\" fill=\"#000000\" fill-rule=\"evenodd\" fill-opacity=\"1\" /><path clip-path=\"url(#clip480)\" d=\"M2496.72 1145.17 L2518.94 1145.17 L2518.94 1147.16 L2506.4 1179.73 L2501.51 1179.73 L2513.32 1149.1 L2496.72 1149.1 L2496.72 1145.17 Z\" fill=\"#000000\" fill-rule=\"evenodd\" fill-opacity=\"1\" /><path clip-path=\"url(#clip480)\" d=\"M2528.11 1145.17 L2546.47 1145.17 L2546.47 1149.1 L2532.39 1149.1 L2532.39 1157.58 Q2533.41 1157.23 2534.43 1157.07 Q2535.45 1156.88 2536.47 1156.88 Q2542.25 1156.88 2545.63 1160.05 Q2549.01 1163.22 2549.01 1168.64 Q2549.01 1174.22 2545.54 1177.32 Q2542.07 1180.4 2535.75 1180.4 Q2533.57 1180.4 2531.3 1180.03 Q2529.06 1179.66 2526.65 1178.92 L2526.65 1174.22 Q2528.73 1175.35 2530.96 1175.91 Q2533.18 1176.46 2535.66 1176.46 Q2539.66 1176.46 2542 1174.36 Q2544.34 1172.25 2544.34 1168.64 Q2544.34 1165.03 2542 1162.92 Q2539.66 1160.82 2535.66 1160.82 Q2533.78 1160.82 2531.91 1161.23 Q2530.05 1161.65 2528.11 1162.53 L2528.11 1145.17 Z\" fill=\"#000000\" fill-rule=\"evenodd\" fill-opacity=\"1\" /><path clip-path=\"url(#clip480)\" d=\"M3236.42 1175.79 L3244.06 1175.79 L3244.06 1149.43 L3235.75 1151.09 L3235.75 1146.83 L3244.01 1145.17 L3248.69 1145.17 L3248.69 1175.79 L3256.33 1175.79 L3256.33 1179.73 L3236.42 1179.73 L3236.42 1175.79 Z\" fill=\"#000000\" fill-rule=\"evenodd\" fill-opacity=\"1\" /><path clip-path=\"url(#clip480)\" d=\"M3275.77 1148.25 Q3272.16 1148.25 3270.33 1151.81 Q3268.52 1155.35 3268.52 1162.48 Q3268.52 1169.59 3270.33 1173.15 Q3272.16 1176.7 3275.77 1176.7 Q3279.4 1176.7 3281.21 1173.15 Q3283.04 1169.59 3283.04 1162.48 Q3283.04 1155.35 3281.21 1151.81 Q3279.4 1148.25 3275.77 1148.25 M3275.77 1144.54 Q3281.58 1144.54 3284.64 1149.15 Q3287.71 1153.73 3287.71 1162.48 Q3287.71 1171.21 3284.64 1175.82 Q3281.58 1180.4 3275.77 1180.4 Q3269.96 1180.4 3266.88 1175.82 Q3263.83 1171.21 3263.83 1162.48 Q3263.83 1153.73 3266.88 1149.15 Q3269.96 1144.54 3275.77 1144.54 Z\" fill=\"#000000\" fill-rule=\"evenodd\" fill-opacity=\"1\" /><path clip-path=\"url(#clip480)\" d=\"M3305.93 1148.25 Q3302.32 1148.25 3300.49 1151.81 Q3298.69 1155.35 3298.69 1162.48 Q3298.69 1169.59 3300.49 1173.15 Q3302.32 1176.7 3305.93 1176.7 Q3309.57 1176.7 3311.37 1173.15 Q3313.2 1169.59 3313.2 1162.48 Q3313.2 1155.35 3311.37 1151.81 Q3309.57 1148.25 3305.93 1148.25 M3305.93 1144.54 Q3311.74 1144.54 3314.8 1149.15 Q3317.88 1153.73 3317.88 1162.48 Q3317.88 1171.21 3314.8 1175.82 Q3311.74 1180.4 3305.93 1180.4 Q3300.12 1180.4 3297.04 1175.82 Q3293.99 1171.21 3293.99 1162.48 Q3293.99 1153.73 3297.04 1149.15 Q3300.12 1144.54 3305.93 1144.54 Z\" fill=\"#000000\" fill-rule=\"evenodd\" fill-opacity=\"1\" /><polyline clip-path=\"url(#clip482)\" style=\"stroke:#000000; stroke-linecap:round; stroke-linejoin:round; stroke-width:2; stroke-opacity:0.1; fill:none\" points=\"\n",
       "  196.191,1077.74 3552.76,1077.74 \n",
       "  \"/>\n",
       "<polyline clip-path=\"url(#clip482)\" style=\"stroke:#000000; stroke-linecap:round; stroke-linejoin:round; stroke-width:2; stroke-opacity:0.1; fill:none\" points=\"\n",
       "  196.191,862.605 3552.76,862.605 \n",
       "  \"/>\n",
       "<polyline clip-path=\"url(#clip482)\" style=\"stroke:#000000; stroke-linecap:round; stroke-linejoin:round; stroke-width:2; stroke-opacity:0.1; fill:none\" points=\"\n",
       "  196.191,647.469 3552.76,647.469 \n",
       "  \"/>\n",
       "<polyline clip-path=\"url(#clip482)\" style=\"stroke:#000000; stroke-linecap:round; stroke-linejoin:round; stroke-width:2; stroke-opacity:0.1; fill:none\" points=\"\n",
       "  196.191,432.333 3552.76,432.333 \n",
       "  \"/>\n",
       "<polyline clip-path=\"url(#clip482)\" style=\"stroke:#000000; stroke-linecap:round; stroke-linejoin:round; stroke-width:2; stroke-opacity:0.1; fill:none\" points=\"\n",
       "  196.191,217.197 3552.76,217.197 \n",
       "  \"/>\n",
       "<polyline clip-path=\"url(#clip480)\" style=\"stroke:#000000; stroke-linecap:round; stroke-linejoin:round; stroke-width:4; stroke-opacity:1; fill:none\" points=\"\n",
       "  196.191,1107.73 196.191,47.2441 \n",
       "  \"/>\n",
       "<polyline clip-path=\"url(#clip480)\" style=\"stroke:#000000; stroke-linecap:round; stroke-linejoin:round; stroke-width:4; stroke-opacity:1; fill:none\" points=\"\n",
       "  196.191,1077.74 215.088,1077.74 \n",
       "  \"/>\n",
       "<polyline clip-path=\"url(#clip480)\" style=\"stroke:#000000; stroke-linecap:round; stroke-linejoin:round; stroke-width:4; stroke-opacity:1; fill:none\" points=\"\n",
       "  196.191,862.605 215.088,862.605 \n",
       "  \"/>\n",
       "<polyline clip-path=\"url(#clip480)\" style=\"stroke:#000000; stroke-linecap:round; stroke-linejoin:round; stroke-width:4; stroke-opacity:1; fill:none\" points=\"\n",
       "  196.191,647.469 215.088,647.469 \n",
       "  \"/>\n",
       "<polyline clip-path=\"url(#clip480)\" style=\"stroke:#000000; stroke-linecap:round; stroke-linejoin:round; stroke-width:4; stroke-opacity:1; fill:none\" points=\"\n",
       "  196.191,432.333 215.088,432.333 \n",
       "  \"/>\n",
       "<polyline clip-path=\"url(#clip480)\" style=\"stroke:#000000; stroke-linecap:round; stroke-linejoin:round; stroke-width:4; stroke-opacity:1; fill:none\" points=\"\n",
       "  196.191,217.197 215.088,217.197 \n",
       "  \"/>\n",
       "<path clip-path=\"url(#clip480)\" d=\"M85.0151 1063.54 Q81.404 1063.54 79.5753 1067.1 Q77.7697 1070.65 77.7697 1077.78 Q77.7697 1084.88 79.5753 1088.45 Q81.404 1091.99 85.0151 1091.99 Q88.6493 1091.99 90.4548 1088.45 Q92.2835 1084.88 92.2835 1077.78 Q92.2835 1070.65 90.4548 1067.1 Q88.6493 1063.54 85.0151 1063.54 M85.0151 1059.84 Q90.8252 1059.84 93.8808 1064.44 Q96.9594 1069.03 96.9594 1077.78 Q96.9594 1086.5 93.8808 1091.11 Q90.8252 1095.69 85.0151 1095.69 Q79.2049 1095.69 76.1262 1091.11 Q73.0707 1086.5 73.0707 1077.78 Q73.0707 1069.03 76.1262 1064.44 Q79.2049 1059.84 85.0151 1059.84 Z\" fill=\"#000000\" fill-rule=\"evenodd\" fill-opacity=\"1\" /><path clip-path=\"url(#clip480)\" d=\"M105.177 1089.14 L110.061 1089.14 L110.061 1095.02 L105.177 1095.02 L105.177 1089.14 Z\" fill=\"#000000\" fill-rule=\"evenodd\" fill-opacity=\"1\" /><path clip-path=\"url(#clip480)\" d=\"M130.246 1063.54 Q126.635 1063.54 124.807 1067.1 Q123.001 1070.65 123.001 1077.78 Q123.001 1084.88 124.807 1088.45 Q126.635 1091.99 130.246 1091.99 Q133.881 1091.99 135.686 1088.45 Q137.515 1084.88 137.515 1077.78 Q137.515 1070.65 135.686 1067.1 Q133.881 1063.54 130.246 1063.54 M130.246 1059.84 Q136.056 1059.84 139.112 1064.44 Q142.191 1069.03 142.191 1077.78 Q142.191 1086.5 139.112 1091.11 Q136.056 1095.69 130.246 1095.69 Q124.436 1095.69 121.357 1091.11 Q118.302 1086.5 118.302 1077.78 Q118.302 1069.03 121.357 1064.44 Q124.436 1059.84 130.246 1059.84 Z\" fill=\"#000000\" fill-rule=\"evenodd\" fill-opacity=\"1\" /><path clip-path=\"url(#clip480)\" d=\"M80.0382 875.95 L96.3576 875.95 L96.3576 879.885 L74.4133 879.885 L74.4133 875.95 Q77.0753 873.195 81.6586 868.566 Q86.2651 863.913 87.4456 862.57 Q89.691 860.047 90.5706 858.311 Q91.4734 856.552 91.4734 854.862 Q91.4734 852.108 89.5289 850.371 Q87.6076 848.635 84.5058 848.635 Q82.3067 848.635 79.8531 849.399 Q77.4225 850.163 74.6447 851.714 L74.6447 846.992 Q77.4688 845.858 79.9225 845.279 Q82.3762 844.7 84.4132 844.7 Q89.7836 844.7 92.978 847.385 Q96.1724 850.071 96.1724 854.561 Q96.1724 856.691 95.3622 858.612 Q94.5752 860.51 92.4687 863.103 Q91.89 863.774 88.7882 866.992 Q85.6864 870.186 80.0382 875.95 Z\" fill=\"#000000\" fill-rule=\"evenodd\" fill-opacity=\"1\" /><path clip-path=\"url(#clip480)\" d=\"M106.172 874.006 L111.057 874.006 L111.057 879.885 L106.172 879.885 L106.172 874.006 Z\" fill=\"#000000\" fill-rule=\"evenodd\" fill-opacity=\"1\" /><path clip-path=\"url(#clip480)\" d=\"M121.288 845.325 L139.644 845.325 L139.644 849.26 L125.57 849.26 L125.57 857.733 Q126.589 857.385 127.607 857.223 Q128.626 857.038 129.644 857.038 Q135.431 857.038 138.811 860.209 Q142.191 863.381 142.191 868.797 Q142.191 874.376 138.718 877.478 Q135.246 880.556 128.927 880.556 Q126.751 880.556 124.482 880.186 Q122.237 879.816 119.83 879.075 L119.83 874.376 Q121.913 875.51 124.135 876.066 Q126.357 876.621 128.834 876.621 Q132.839 876.621 135.177 874.515 Q137.515 872.408 137.515 868.797 Q137.515 865.186 135.177 863.08 Q132.839 860.973 128.834 860.973 Q126.959 860.973 125.084 861.39 Q123.232 861.807 121.288 862.686 L121.288 845.325 Z\" fill=\"#000000\" fill-rule=\"evenodd\" fill-opacity=\"1\" /><path clip-path=\"url(#clip480)\" d=\"M75.0614 630.189 L93.4178 630.189 L93.4178 634.124 L79.3438 634.124 L79.3438 642.596 Q80.3623 642.249 81.3808 642.087 Q82.3993 641.902 83.4178 641.902 Q89.2049 641.902 92.5845 645.073 Q95.9641 648.244 95.9641 653.661 Q95.9641 659.24 92.4919 662.342 Q89.0197 665.42 82.7003 665.42 Q80.5243 665.42 78.2558 665.05 Q76.0105 664.68 73.6031 663.939 L73.6031 659.24 Q75.6864 660.374 77.9086 660.93 Q80.1308 661.485 82.6077 661.485 Q86.6123 661.485 88.9502 659.379 Q91.2882 657.272 91.2882 653.661 Q91.2882 650.05 88.9502 647.944 Q86.6123 645.837 82.6077 645.837 Q80.7327 645.837 78.8577 646.254 Q77.0058 646.67 75.0614 647.55 L75.0614 630.189 Z\" fill=\"#000000\" fill-rule=\"evenodd\" fill-opacity=\"1\" /><path clip-path=\"url(#clip480)\" d=\"M105.177 658.869 L110.061 658.869 L110.061 664.749 L105.177 664.749 L105.177 658.869 Z\" fill=\"#000000\" fill-rule=\"evenodd\" fill-opacity=\"1\" /><path clip-path=\"url(#clip480)\" d=\"M130.246 633.268 Q126.635 633.268 124.807 636.832 Q123.001 640.374 123.001 647.504 Q123.001 654.61 124.807 658.175 Q126.635 661.717 130.246 661.717 Q133.881 661.717 135.686 658.175 Q137.515 654.61 137.515 647.504 Q137.515 640.374 135.686 636.832 Q133.881 633.268 130.246 633.268 M130.246 629.564 Q136.056 629.564 139.112 634.17 Q142.191 638.754 142.191 647.504 Q142.191 656.231 139.112 660.837 Q136.056 665.42 130.246 665.42 Q124.436 665.42 121.357 660.837 Q118.302 656.231 118.302 647.504 Q118.302 638.754 121.357 634.17 Q124.436 629.564 130.246 629.564 Z\" fill=\"#000000\" fill-rule=\"evenodd\" fill-opacity=\"1\" /><path clip-path=\"url(#clip480)\" d=\"M74.8299 415.053 L97.052 415.053 L97.052 417.044 L84.5058 449.613 L79.6216 449.613 L91.4271 418.988 L74.8299 418.988 L74.8299 415.053 Z\" fill=\"#000000\" fill-rule=\"evenodd\" fill-opacity=\"1\" /><path clip-path=\"url(#clip480)\" d=\"M106.172 443.733 L111.057 443.733 L111.057 449.613 L106.172 449.613 L106.172 443.733 Z\" fill=\"#000000\" fill-rule=\"evenodd\" fill-opacity=\"1\" /><path clip-path=\"url(#clip480)\" d=\"M121.288 415.053 L139.644 415.053 L139.644 418.988 L125.57 418.988 L125.57 427.46 Q126.589 427.113 127.607 426.951 Q128.626 426.766 129.644 426.766 Q135.431 426.766 138.811 429.937 Q142.191 433.108 142.191 438.525 Q142.191 444.104 138.718 447.205 Q135.246 450.284 128.927 450.284 Q126.751 450.284 124.482 449.914 Q122.237 449.543 119.83 448.803 L119.83 444.104 Q121.913 445.238 124.135 445.793 Q126.357 446.349 128.834 446.349 Q132.839 446.349 135.177 444.242 Q137.515 442.136 137.515 438.525 Q137.515 434.914 135.177 432.807 Q132.839 430.701 128.834 430.701 Q126.959 430.701 125.084 431.118 Q123.232 431.534 121.288 432.414 L121.288 415.053 Z\" fill=\"#000000\" fill-rule=\"evenodd\" fill-opacity=\"1\" /><path clip-path=\"url(#clip480)\" d=\"M45.6634 230.541 L53.3023 230.541 L53.3023 204.176 L44.9921 205.842 L44.9921 201.583 L53.256 199.917 L57.9319 199.917 L57.9319 230.541 L65.5707 230.541 L65.5707 234.477 L45.6634 234.477 L45.6634 230.541 Z\" fill=\"#000000\" fill-rule=\"evenodd\" fill-opacity=\"1\" /><path clip-path=\"url(#clip480)\" d=\"M85.0151 202.995 Q81.404 202.995 79.5753 206.56 Q77.7697 210.102 77.7697 217.231 Q77.7697 224.338 79.5753 227.903 Q81.404 231.444 85.0151 231.444 Q88.6493 231.444 90.4548 227.903 Q92.2835 224.338 92.2835 217.231 Q92.2835 210.102 90.4548 206.56 Q88.6493 202.995 85.0151 202.995 M85.0151 199.292 Q90.8252 199.292 93.8808 203.898 Q96.9594 208.481 96.9594 217.231 Q96.9594 225.958 93.8808 230.565 Q90.8252 235.148 85.0151 235.148 Q79.2049 235.148 76.1262 230.565 Q73.0707 225.958 73.0707 217.231 Q73.0707 208.481 76.1262 203.898 Q79.2049 199.292 85.0151 199.292 Z\" fill=\"#000000\" fill-rule=\"evenodd\" fill-opacity=\"1\" /><path clip-path=\"url(#clip480)\" d=\"M105.177 228.597 L110.061 228.597 L110.061 234.477 L105.177 234.477 L105.177 228.597 Z\" fill=\"#000000\" fill-rule=\"evenodd\" fill-opacity=\"1\" /><path clip-path=\"url(#clip480)\" d=\"M130.246 202.995 Q126.635 202.995 124.807 206.56 Q123.001 210.102 123.001 217.231 Q123.001 224.338 124.807 227.903 Q126.635 231.444 130.246 231.444 Q133.881 231.444 135.686 227.903 Q137.515 224.338 137.515 217.231 Q137.515 210.102 135.686 206.56 Q133.881 202.995 130.246 202.995 M130.246 199.292 Q136.056 199.292 139.112 203.898 Q142.191 208.481 142.191 217.231 Q142.191 225.958 139.112 230.565 Q136.056 235.148 130.246 235.148 Q124.436 235.148 121.357 230.565 Q118.302 225.958 118.302 217.231 Q118.302 208.481 121.357 203.898 Q124.436 199.292 130.246 199.292 Z\" fill=\"#000000\" fill-rule=\"evenodd\" fill-opacity=\"1\" /><polyline clip-path=\"url(#clip482)\" style=\"stroke:#009af9; stroke-linecap:round; stroke-linejoin:round; stroke-width:4; stroke-opacity:1; fill:none\" points=\"\n",
       "  291.188,1074.43 321.346,1076.09 351.503,1076.61 381.661,1055.79 411.819,1024.07 441.977,1020.5 472.135,1068.85 502.293,1066.09 532.45,1041.48 562.608,1077.64 \n",
       "  592.766,1069.67 622.924,1030.91 653.082,1029.21 683.239,1027.66 713.397,1077.59 743.555,1056.23 773.713,1042.12 803.871,1034.77 834.029,1072.97 864.186,1030.07 \n",
       "  894.344,1020.46 924.502,1057.19 954.66,1067.64 984.818,1012.8 1014.98,1065.53 1045.13,1027.01 1075.29,1074.13 1105.45,1030.46 1135.61,1042.01 1165.76,1044.32 \n",
       "  1195.92,1030.17 1226.08,1031.14 1256.24,1031.89 1286.4,1056.34 1316.55,1059.36 1346.71,1014.97 1376.87,1024.68 1407.03,1019.39 1437.18,1077.7 1467.34,1075.5 \n",
       "  1497.5,1077.69 1527.66,1077.64 1557.82,1073.67 1587.97,1070.09 1618.13,1020.26 1648.29,1029.03 1678.45,1032.71 1708.61,1069.26 1738.76,1076.59 1768.92,1067.16 \n",
       "  1799.08,1068.7 1829.24,1055.46 1859.39,1034.28 1889.55,1077.33 1919.71,1034.42 1949.87,1033.64 1980.03,1077.08 2010.18,1077.71 2040.34,1074.77 2070.5,1075.74 \n",
       "  2100.66,1060.72 2130.81,1069.82 2160.97,1052.31 2191.13,1044.61 2221.29,1027.29 2251.45,1033.83 2281.6,1052.83 2311.76,1013.2 2341.92,1041.4 2372.08,1021.51 \n",
       "  2402.24,1019.91 2432.39,1076.33 2462.55,1012.9 2492.71,1055.44 2522.87,1020.4 2553.02,1062.19 2583.18,1070.37 2613.34,1015.16 2643.5,1074.96 2673.66,1076.56 \n",
       "  2703.81,1076.37 2733.97,1035.98 2764.13,1005.56 2794.29,1038.93 2824.44,1011.76 2854.6,1012.74 2884.76,1060.2 2914.92,1031.9 2945.08,1023.94 2975.23,1030.54 \n",
       "  3005.39,1017.78 3035.55,1018.39 3065.71,1008.6 3095.86,1063.47 3126.02,1071.99 3156.18,1031.23 3186.34,1056.52 3216.5,1029.12 3246.65,1019.27 3276.81,1023.11 \n",
       "  3306.97,1062.62 3337.13,1022.81 3367.29,1066.46 3397.44,1058.06 3427.6,1033.29 3457.76,1024.28 \n",
       "  \"/>\n",
       "<polyline clip-path=\"url(#clip482)\" style=\"stroke:#e26f46; stroke-linecap:round; stroke-linejoin:round; stroke-width:4; stroke-opacity:1; fill:none\" points=\"\n",
       "  291.188,673.248 321.346,587.193 351.503,540.079 381.661,908.141 411.819,1019.13 441.977,1027.12 472.135,795.912 502.293,829.463 532.45,970.453 562.608,241.492 \n",
       "  592.766,783.862 622.924,1002.2 653.082,1006.62 683.239,1010.54 713.397,288.198 743.555,905.632 773.713,968.227 803.871,991.53 834.029,718.545 864.186,1004.42 \n",
       "  894.344,1027.21 924.502,899.961 954.66,811.721 984.818,1042.79 1014.98,835.31 1045.13,1012.13 1075.29,683.965 1105.45,1003.4 1135.61,968.612 1165.76,960.337 \n",
       "  1195.92,1004.16 1226.08,1001.6 1256.24,999.585 1286.4,904.988 1316.55,886.072 1346.71,1038.57 1376.87,1017.7 1407.03,1029.52 1437.18,133.715 1467.34,624.804 \n",
       "  1497.5,155.364 1527.66,240.903 1557.82,699.007 1587.97,777.226 1618.13,1027.65 1648.29,1007.1 1678.45,997.345 1708.61,790.135 1738.76,542.191 1768.92,817.586 \n",
       "  1799.08,798.077 1829.24,909.974 1859.39,992.942 1889.55,413.159 1919.71,992.521 1949.87,994.755 1980.03,473.191 2010.18,77.2578 2040.34,660.038 2070.5,610.747 \n",
       "  2100.66,876.559 2130.81,781.626 2160.97,926.412 2191.13,959.229 2221.29,1011.46 2251.45,994.219 2281.6,923.84 2311.76,1042.02 2341.92,970.73 2372.08,1024.91 \n",
       "  2402.24,1028.39 2432.39,567.338 2462.55,1042.6 2492.71,910.102 2522.87,1027.34 2553.02,865.353 2583.18,772.661 2613.34,1038.21 2643.5,651.761 2673.66,545.533 \n",
       "  2703.81,564.226 2733.97,987.982 2764.13,1055.91 2794.29,978.875 2824.44,1044.77 2854.6,1042.91 2884.76,880.277 2914.92,999.543 2945.08,1019.43 2975.23,1003.19 \n",
       "  3005.39,1032.89 3035.55,1031.61 3065.71,1050.58 3095.86,854.655 3126.02,741.803 3156.18,1001.35 3186.34,903.943 3216.5,1006.87 3246.65,1029.77 3276.81,1021.33 \n",
       "  3306.97,861.876 3337.13,1022.01 3367.29,825.518 3397.44,894.604 3427.6,995.718 3457.76,1018.64 \n",
       "  \"/>\n",
       "<polyline clip-path=\"url(#clip482)\" style=\"stroke:#3da44d; stroke-linecap:round; stroke-linejoin:round; stroke-width:4; stroke-opacity:1; fill:none\" points=\"\n",
       "  291.188,673.248 321.346,799.652 351.503,816.838 381.661,814.351 411.819,898.088 441.977,911.876 472.135,923.617 502.293,912.22 532.45,908.313 562.608,954.228 \n",
       "  592.766,872.139 622.924,908.193 653.082,912.355 683.239,916.344 713.397,920.163 743.555,859.604 773.713,891.62 803.871,921.474 834.029,942.706 864.186,908.705 \n",
       "  894.344,949.44 924.502,940.613 954.66,941.564 984.818,968.079 1014.98,958.992 1045.13,915.154 1075.29,938.804 1105.45,939.461 1135.61,924.903 1165.76,907.396 \n",
       "  1195.92,940.714 1226.08,920.408 1256.24,913.922 1286.4,917.332 1316.55,900.3 1346.71,971.53 1376.87,935.83 1407.03,949.992 1437.18,902.123 1467.34,876.105 \n",
       "  1497.5,898.116 1527.66,861.949 1557.82,853.155 1587.97,876.227 1618.13,942.266 1648.29,918.841 1678.45,901.217 1708.61,871.18 1738.76,896.076 1768.92,940.527 \n",
       "  1799.08,931.885 1829.24,889.656 1859.39,909.544 1889.55,894.651 1919.71,885.122 1949.87,888.626 1980.03,913.355 2010.18,929.265 2040.34,839.899 2070.5,924.409 \n",
       "  2100.66,849.465 2130.81,896.62 2160.97,927.606 2191.13,897.178 2221.29,914.785 2251.45,875.434 2281.6,929.228 2311.76,969.641 2341.92,900.674 2372.08,931.157 \n",
       "  2402.24,919.771 2432.39,873.481 2462.55,948.284 2492.71,857.798 2522.87,956.681 2553.02,946.276 2583.18,948.633 2613.34,953.969 2643.5,896.441 2673.66,937.041 \n",
       "  2703.81,904.143 2733.97,881.161 2764.13,1002.43 2794.29,922.63 2824.44,964.917 2854.6,948.028 2884.76,895.29 2914.92,915.014 2945.08,935.831 2975.23,943.551 \n",
       "  3005.39,964.049 3035.55,953.974 3065.71,967.346 3095.86,898.461 3126.02,873.78 3156.18,948.917 3186.34,952.455 3216.5,926.72 3246.65,935.086 3276.81,918.612 \n",
       "  3306.97,847.324 3337.13,925.3 3367.29,903.787 3397.44,937.828 3427.6,933.288 3457.76,928.427 \n",
       "  \"/>\n",
       "<path clip-path=\"url(#clip480)\" d=\"\n",
       "M3052.2 289.954 L3440.87 289.954 L3440.87 82.5936 L3052.2 82.5936  Z\n",
       "  \" fill=\"#ffffff\" fill-rule=\"evenodd\" fill-opacity=\"1\"/>\n",
       "<polyline clip-path=\"url(#clip480)\" style=\"stroke:#000000; stroke-linecap:round; stroke-linejoin:round; stroke-width:4; stroke-opacity:1; fill:none\" points=\"\n",
       "  3052.2,289.954 3440.87,289.954 3440.87,82.5936 3052.2,82.5936 3052.2,289.954 \n",
       "  \"/>\n",
       "<polyline clip-path=\"url(#clip480)\" style=\"stroke:#009af9; stroke-linecap:round; stroke-linejoin:round; stroke-width:4; stroke-opacity:1; fill:none\" points=\"\n",
       "  3089.5,134.434 3313.27,134.434 \n",
       "  \"/>\n",
       "<path clip-path=\"url(#clip480)\" d=\"M3364.41 154.121 Q3362.6 158.751 3360.89 160.163 Q3359.18 161.575 3356.31 161.575 L3352.9 161.575 L3352.9 158.01 L3355.4 158.01 Q3357.16 158.01 3358.14 157.176 Q3359.11 156.343 3360.29 153.241 L3361.05 151.297 L3350.57 125.788 L3355.08 125.788 L3363.18 146.065 L3371.28 125.788 L3375.8 125.788 L3364.41 154.121 Z\" fill=\"#000000\" fill-rule=\"evenodd\" fill-opacity=\"1\" /><path clip-path=\"url(#clip480)\" d=\"M3383.09 147.778 L3390.73 147.778 L3390.73 121.413 L3382.42 123.079 L3382.42 118.82 L3390.68 117.154 L3395.36 117.154 L3395.36 147.778 L3403 147.778 L3403 151.714 L3383.09 151.714 L3383.09 147.778 Z\" fill=\"#000000\" fill-rule=\"evenodd\" fill-opacity=\"1\" /><polyline clip-path=\"url(#clip480)\" style=\"stroke:#e26f46; stroke-linecap:round; stroke-linejoin:round; stroke-width:4; stroke-opacity:1; fill:none\" points=\"\n",
       "  3089.5,186.274 3313.27,186.274 \n",
       "  \"/>\n",
       "<path clip-path=\"url(#clip480)\" d=\"M3364.41 205.961 Q3362.6 210.591 3360.89 212.003 Q3359.18 213.415 3356.31 213.415 L3352.9 213.415 L3352.9 209.85 L3355.4 209.85 Q3357.16 209.85 3358.14 209.016 Q3359.11 208.183 3360.29 205.081 L3361.05 203.137 L3350.57 177.628 L3355.08 177.628 L3363.18 197.905 L3371.28 177.628 L3375.8 177.628 L3364.41 205.961 Z\" fill=\"#000000\" fill-rule=\"evenodd\" fill-opacity=\"1\" /><path clip-path=\"url(#clip480)\" d=\"M3386.31 199.618 L3402.63 199.618 L3402.63 203.554 L3380.68 203.554 L3380.68 199.618 Q3383.34 196.864 3387.93 192.234 Q3392.53 187.581 3393.71 186.239 Q3395.96 183.716 3396.84 181.98 Q3397.74 180.22 3397.74 178.531 Q3397.74 175.776 3395.8 174.04 Q3393.88 172.304 3390.77 172.304 Q3388.58 172.304 3386.12 173.068 Q3383.69 173.831 3380.91 175.382 L3380.91 170.66 Q3383.74 169.526 3386.19 168.947 Q3388.64 168.369 3390.68 168.369 Q3396.05 168.369 3399.25 171.054 Q3402.44 173.739 3402.44 178.23 Q3402.44 180.359 3401.63 182.281 Q3400.84 184.179 3398.74 186.771 Q3398.16 187.443 3395.06 190.66 Q3391.95 193.855 3386.31 199.618 Z\" fill=\"#000000\" fill-rule=\"evenodd\" fill-opacity=\"1\" /><polyline clip-path=\"url(#clip480)\" style=\"stroke:#3da44d; stroke-linecap:round; stroke-linejoin:round; stroke-width:4; stroke-opacity:1; fill:none\" points=\"\n",
       "  3089.5,238.114 3313.27,238.114 \n",
       "  \"/>\n",
       "<path clip-path=\"url(#clip480)\" d=\"M3364.41 257.801 Q3362.6 262.431 3360.89 263.843 Q3359.18 265.255 3356.31 265.255 L3352.9 265.255 L3352.9 261.69 L3355.4 261.69 Q3357.16 261.69 3358.14 260.856 Q3359.11 260.023 3360.29 256.921 L3361.05 254.977 L3350.57 229.468 L3355.08 229.468 L3363.18 249.745 L3371.28 229.468 L3375.8 229.468 L3364.41 257.801 Z\" fill=\"#000000\" fill-rule=\"evenodd\" fill-opacity=\"1\" /><path clip-path=\"url(#clip480)\" d=\"M3396.45 236.759 Q3399.8 237.477 3401.68 239.745 Q3403.58 242.014 3403.58 245.347 Q3403.58 250.463 3400.06 253.264 Q3396.54 256.065 3390.06 256.065 Q3387.88 256.065 3385.57 255.625 Q3383.27 255.208 3380.82 254.352 L3380.82 249.838 Q3382.77 250.972 3385.08 251.551 Q3387.39 252.13 3389.92 252.13 Q3394.32 252.13 3396.61 250.394 Q3398.92 248.657 3398.92 245.347 Q3398.92 242.292 3396.77 240.579 Q3394.64 238.843 3390.82 238.843 L3386.79 238.843 L3386.79 235 L3391.01 235 Q3394.45 235 3396.28 233.634 Q3398.11 232.246 3398.11 229.653 Q3398.11 226.991 3396.21 225.579 Q3394.34 224.144 3390.82 224.144 Q3388.9 224.144 3386.7 224.56 Q3384.5 224.977 3381.86 225.857 L3381.86 221.69 Q3384.52 220.949 3386.84 220.579 Q3389.18 220.209 3391.24 220.209 Q3396.56 220.209 3399.66 222.639 Q3402.77 225.046 3402.77 229.167 Q3402.77 232.037 3401.12 234.028 Q3399.48 235.996 3396.45 236.759 Z\" fill=\"#000000\" fill-rule=\"evenodd\" fill-opacity=\"1\" /></svg>\n"
      ]
     },
     "execution_count": 13,
     "metadata": {},
     "output_type": "execute_result"
    }
   ],
   "source": [
    "plot(pitch_table.Prob[1:106])\n",
    "plot!(pitch_table.IC[1:106])\n",
    "plot!(pitch_table.H[1:106])\n",
    "plot!(size=(900,300))"
   ]
  },
  {
   "cell_type": "markdown",
   "metadata": {},
   "source": [
    "# Comparison with IDyOM"
   ]
  },
  {
   "cell_type": "code",
   "execution_count": 14,
   "metadata": {
    "scrolled": true
   },
   "outputs": [
    {
     "data": {
      "text/html": [
       "<div><div style = \"float: left;\"><span>8552×3 DataFrame</span></div><div style = \"float: right;\"><span style = \"font-style: italic;\">8527 rows omitted</span></div><div style = \"clear: both;\"></div></div><div class = \"data-frame\" style = \"overflow-x: scroll;\"><table class = \"data-frame\" style = \"margin-bottom: 6px;\"><thead><tr class = \"header\"><th class = \"rowNumber\" style = \"font-weight: bold; text-align: right;\">Row</th><th style = \"text-align: left;\">Symbol</th><th style = \"text-align: left;\">Idyom</th><th style = \"text-align: left;\">Julia</th></tr><tr class = \"subheader headerLastRow\"><th class = \"rowNumber\" style = \"font-weight: bold; text-align: right;\"></th><th title = \"Int64\" style = \"text-align: left;\">Int64</th><th title = \"Float64\" style = \"text-align: left;\">Float64</th><th title = \"Float64\" style = \"text-align: left;\">Float64</th></tr></thead><tbody><tr><td class = \"rowNumber\" style = \"font-weight: bold; text-align: right;\">1</td><td style = \"text-align: right;\">65</td><td style = \"text-align: right;\">0.0384615</td><td style = \"text-align: right;\">0.0384615</td></tr><tr><td class = \"rowNumber\" style = \"font-weight: bold; text-align: right;\">2</td><td style = \"text-align: right;\">62</td><td style = \"text-align: right;\">0.0192308</td><td style = \"text-align: right;\">0.0192308</td></tr><tr><td class = \"rowNumber\" style = \"font-weight: bold; text-align: right;\">3</td><td style = \"text-align: right;\">60</td><td style = \"text-align: right;\">0.0131579</td><td style = \"text-align: right;\">0.0131579</td></tr><tr><td class = \"rowNumber\" style = \"font-weight: bold; text-align: right;\">4</td><td style = \"text-align: right;\">60</td><td style = \"text-align: right;\">0.255102</td><td style = \"text-align: right;\">0.255102</td></tr><tr><td class = \"rowNumber\" style = \"font-weight: bold; text-align: right;\">5</td><td style = \"text-align: right;\">60</td><td style = \"text-align: right;\">0.623711</td><td style = \"text-align: right;\">0.623711</td></tr><tr><td class = \"rowNumber\" style = \"font-weight: bold; text-align: right;\">6</td><td style = \"text-align: right;\">60</td><td style = \"text-align: right;\">0.665137</td><td style = \"text-align: right;\">0.665138</td></tr><tr><td class = \"rowNumber\" style = \"font-weight: bold; text-align: right;\">7</td><td style = \"text-align: right;\">65</td><td style = \"text-align: right;\">0.103306</td><td style = \"text-align: right;\">0.103306</td></tr><tr><td class = \"rowNumber\" style = \"font-weight: bold; text-align: right;\">8</td><td style = \"text-align: right;\">65</td><td style = \"text-align: right;\">0.135359</td><td style = \"text-align: right;\">0.135359</td></tr><tr><td class = \"rowNumber\" style = \"font-weight: bold; text-align: right;\">9</td><td style = \"text-align: right;\">65</td><td style = \"text-align: right;\">0.421397</td><td style = \"text-align: right;\">0.421397</td></tr><tr><td class = \"rowNumber\" style = \"font-weight: bold; text-align: right;\">10</td><td style = \"text-align: right;\">69</td><td style = \"text-align: right;\">0.00118765</td><td style = \"text-align: right;\">0.00118765</td></tr><tr><td class = \"rowNumber\" style = \"font-weight: bold; text-align: right;\">11</td><td style = \"text-align: right;\">69</td><td style = \"text-align: right;\">0.09375</td><td style = \"text-align: right;\">0.09375</td></tr><tr><td class = \"rowNumber\" style = \"font-weight: bold; text-align: right;\">12</td><td style = \"text-align: right;\">69</td><td style = \"text-align: right;\">0.544204</td><td style = \"text-align: right;\">0.544204</td></tr><tr><td class = \"rowNumber\" style = \"font-weight: bold; text-align: right;\">13</td><td style = \"text-align: right;\">69</td><td style = \"text-align: right;\">0.56391</td><td style = \"text-align: right;\">0.56391</td></tr><tr><td style = \"text-align: right;\">&vellip;</td><td style = \"text-align: right;\">&vellip;</td><td style = \"text-align: right;\">&vellip;</td><td style = \"text-align: right;\">&vellip;</td></tr><tr><td class = \"rowNumber\" style = \"font-weight: bold; text-align: right;\">8541</td><td style = \"text-align: right;\">60</td><td style = \"text-align: right;\">0.571051</td><td style = \"text-align: right;\">0.57105</td></tr><tr><td class = \"rowNumber\" style = \"font-weight: bold; text-align: right;\">8542</td><td style = \"text-align: right;\">62</td><td style = \"text-align: right;\">0.593736</td><td style = \"text-align: right;\">0.593736</td></tr><tr><td class = \"rowNumber\" style = \"font-weight: bold; text-align: right;\">8543</td><td style = \"text-align: right;\">65</td><td style = \"text-align: right;\">0.634078</td><td style = \"text-align: right;\">0.634078</td></tr><tr><td class = \"rowNumber\" style = \"font-weight: bold; text-align: right;\">8544</td><td style = \"text-align: right;\">65</td><td style = \"text-align: right;\">0.524299</td><td style = \"text-align: right;\">0.524299</td></tr><tr><td class = \"rowNumber\" style = \"font-weight: bold; text-align: right;\">8545</td><td style = \"text-align: right;\">65</td><td style = \"text-align: right;\">0.106635</td><td style = \"text-align: right;\">0.106635</td></tr><tr><td class = \"rowNumber\" style = \"font-weight: bold; text-align: right;\">8546</td><td style = \"text-align: right;\">62</td><td style = \"text-align: right;\">0.311171</td><td style = \"text-align: right;\">0.311171</td></tr><tr><td class = \"rowNumber\" style = \"font-weight: bold; text-align: right;\">8547</td><td style = \"text-align: right;\">58</td><td style = \"text-align: right;\">0.541027</td><td style = \"text-align: right;\">0.541027</td></tr><tr><td class = \"rowNumber\" style = \"font-weight: bold; text-align: right;\">8548</td><td style = \"text-align: right;\">62</td><td style = \"text-align: right;\">0.0757447</td><td style = \"text-align: right;\">0.0757447</td></tr><tr><td class = \"rowNumber\" style = \"font-weight: bold; text-align: right;\">8549</td><td style = \"text-align: right;\">60</td><td style = \"text-align: right;\">0.272496</td><td style = \"text-align: right;\">0.272496</td></tr><tr><td class = \"rowNumber\" style = \"font-weight: bold; text-align: right;\">8550</td><td style = \"text-align: right;\">58</td><td style = \"text-align: right;\">0.58538</td><td style = \"text-align: right;\">0.58538</td></tr><tr><td class = \"rowNumber\" style = \"font-weight: bold; text-align: right;\">8551</td><td style = \"text-align: right;\">57</td><td style = \"text-align: right;\">0.468822</td><td style = \"text-align: right;\">0.468822</td></tr><tr><td class = \"rowNumber\" style = \"font-weight: bold; text-align: right;\">8552</td><td style = \"text-align: right;\">58</td><td style = \"text-align: right;\">0.539126</td><td style = \"text-align: right;\">0.539126</td></tr></tbody></table></div>"
      ],
      "text/latex": [
       "\\begin{tabular}{r|ccc}\n",
       "\t& Symbol & Idyom & Julia\\\\\n",
       "\t\\hline\n",
       "\t& Int64 & Float64 & Float64\\\\\n",
       "\t\\hline\n",
       "\t1 & 65 & 0.0384615 & 0.0384615 \\\\\n",
       "\t2 & 62 & 0.0192308 & 0.0192308 \\\\\n",
       "\t3 & 60 & 0.0131579 & 0.0131579 \\\\\n",
       "\t4 & 60 & 0.255102 & 0.255102 \\\\\n",
       "\t5 & 60 & 0.623711 & 0.623711 \\\\\n",
       "\t6 & 60 & 0.665137 & 0.665138 \\\\\n",
       "\t7 & 65 & 0.103306 & 0.103306 \\\\\n",
       "\t8 & 65 & 0.135359 & 0.135359 \\\\\n",
       "\t9 & 65 & 0.421397 & 0.421397 \\\\\n",
       "\t10 & 69 & 0.00118765 & 0.00118765 \\\\\n",
       "\t11 & 69 & 0.09375 & 0.09375 \\\\\n",
       "\t12 & 69 & 0.544204 & 0.544204 \\\\\n",
       "\t13 & 69 & 0.56391 & 0.56391 \\\\\n",
       "\t14 & 69 & 0.581982 & 0.581982 \\\\\n",
       "\t15 & 67 & 0.0017301 & 0.0017301 \\\\\n",
       "\t16 & 65 & 0.25 & 0.25 \\\\\n",
       "\t17 & 65 & 0.413907 & 0.413907 \\\\\n",
       "\t18 & 65 & 0.49937 & 0.49937 \\\\\n",
       "\t19 & 62 & 0.0553967 & 0.0553967 \\\\\n",
       "\t20 & 60 & 0.55402 & 0.55402 \\\\\n",
       "\t21 & 60 & 0.665659 & 0.665659 \\\\\n",
       "\t22 & 65 & 0.238836 & 0.238836 \\\\\n",
       "\t23 & 69 & 0.117334 & 0.117334 \\\\\n",
       "\t24 & 69 & 0.754603 & 0.754603 \\\\\n",
       "\t25 & 67 & 0.141887 & 0.141887 \\\\\n",
       "\t26 & 65 & 0.589506 & 0.589506 \\\\\n",
       "\t27 & 60 & 0.0419294 & 0.0419294 \\\\\n",
       "\t28 & 60 & 0.549456 & 0.549456 \\\\\n",
       "\t29 & 60 & 0.415194 & 0.415194 \\\\\n",
       "\t30 & 60 & 0.388423 & 0.388423 \\\\\n",
       "\t$\\dots$ & $\\dots$ & $\\dots$ & $\\dots$ \\\\\n",
       "\\end{tabular}\n"
      ],
      "text/plain": [
       "\u001b[1m8552×3 DataFrame\u001b[0m\n",
       "\u001b[1m  Row \u001b[0m│\u001b[1m Symbol \u001b[0m\u001b[1m Idyom      \u001b[0m\u001b[1m Julia      \u001b[0m\n",
       "      │\u001b[90m Int64  \u001b[0m\u001b[90m Float64    \u001b[0m\u001b[90m Float64    \u001b[0m\n",
       "──────┼────────────────────────────────\n",
       "    1 │     65  0.0384615   0.0384615\n",
       "    2 │     62  0.0192308   0.0192308\n",
       "    3 │     60  0.0131579   0.0131579\n",
       "    4 │     60  0.255102    0.255102\n",
       "    5 │     60  0.623711    0.623711\n",
       "    6 │     60  0.665137    0.665138\n",
       "    7 │     65  0.103306    0.103306\n",
       "    8 │     65  0.135359    0.135359\n",
       "    9 │     65  0.421397    0.421397\n",
       "   10 │     69  0.00118765  0.00118765\n",
       "   11 │     69  0.09375     0.09375\n",
       "  ⋮   │   ⋮         ⋮           ⋮\n",
       " 8543 │     65  0.634078    0.634078\n",
       " 8544 │     65  0.524299    0.524299\n",
       " 8545 │     65  0.106635    0.106635\n",
       " 8546 │     62  0.311171    0.311171\n",
       " 8547 │     58  0.541027    0.541027\n",
       " 8548 │     62  0.0757447   0.0757447\n",
       " 8549 │     60  0.272496    0.272496\n",
       " 8550 │     58  0.58538     0.58538\n",
       " 8551 │     57  0.468822    0.468822\n",
       " 8552 │     58  0.539126    0.539126\n",
       "\u001b[36m                      8531 rows omitted\u001b[0m"
      ]
     },
     "execution_count": 14,
     "metadata": {},
     "output_type": "execute_result"
    }
   ],
   "source": [
    "idyom_data = CSV.File(idyom_model) |> DataFrame;\n",
    "idyom_prob = idyom_data[!,\"probability\"];\n",
    "idyom_ic = idyom_data[!,\"information.content\"]\n",
    "DataFrame(Symbol = pitch_table.Symbol, Idyom = idyom_prob, Julia = pitch_table.Prob)"
   ]
  },
  {
   "cell_type": "code",
   "execution_count": 15,
   "metadata": {
    "scrolled": true
   },
   "outputs": [
    {
     "data": {
      "image/svg+xml": [
       "<?xml version=\"1.0\" encoding=\"utf-8\"?>\n",
       "<svg xmlns=\"http://www.w3.org/2000/svg\" xmlns:xlink=\"http://www.w3.org/1999/xlink\" width=\"900\" height=\"300\" viewBox=\"0 0 3600 1200\">\n",
       "<defs>\n",
       "  <clipPath id=\"clip520\">\n",
       "    <rect x=\"0\" y=\"0\" width=\"3600\" height=\"1200\"/>\n",
       "  </clipPath>\n",
       "</defs>\n",
       "<path clip-path=\"url(#clip520)\" d=\"\n",
       "M0 1200 L3600 1200 L3600 0 L0 0  Z\n",
       "  \" fill=\"#ffffff\" fill-rule=\"evenodd\" fill-opacity=\"1\"/>\n",
       "<defs>\n",
       "  <clipPath id=\"clip521\">\n",
       "    <rect x=\"720\" y=\"0\" width=\"2521\" height=\"1200\"/>\n",
       "  </clipPath>\n",
       "</defs>\n",
       "<path clip-path=\"url(#clip520)\" d=\"\n",
       "M150.959 1107.73 L3552.76 1107.73 L3552.76 47.2441 L150.959 47.2441  Z\n",
       "  \" fill=\"#ffffff\" fill-rule=\"evenodd\" fill-opacity=\"1\"/>\n",
       "<defs>\n",
       "  <clipPath id=\"clip522\">\n",
       "    <rect x=\"150\" y=\"47\" width=\"3403\" height=\"1061\"/>\n",
       "  </clipPath>\n",
       "</defs>\n",
       "<polyline clip-path=\"url(#clip522)\" style=\"stroke:#000000; stroke-linecap:round; stroke-linejoin:round; stroke-width:2; stroke-opacity:0.1; fill:none\" points=\"\n",
       "  231.19,1107.73 231.19,47.2441 \n",
       "  \"/>\n",
       "<polyline clip-path=\"url(#clip522)\" style=\"stroke:#000000; stroke-linecap:round; stroke-linejoin:round; stroke-width:2; stroke-opacity:0.1; fill:none\" points=\"\n",
       "  1033.5,1107.73 1033.5,47.2441 \n",
       "  \"/>\n",
       "<polyline clip-path=\"url(#clip522)\" style=\"stroke:#000000; stroke-linecap:round; stroke-linejoin:round; stroke-width:2; stroke-opacity:0.1; fill:none\" points=\"\n",
       "  1835.81,1107.73 1835.81,47.2441 \n",
       "  \"/>\n",
       "<polyline clip-path=\"url(#clip522)\" style=\"stroke:#000000; stroke-linecap:round; stroke-linejoin:round; stroke-width:2; stroke-opacity:0.1; fill:none\" points=\"\n",
       "  2638.12,1107.73 2638.12,47.2441 \n",
       "  \"/>\n",
       "<polyline clip-path=\"url(#clip522)\" style=\"stroke:#000000; stroke-linecap:round; stroke-linejoin:round; stroke-width:2; stroke-opacity:0.1; fill:none\" points=\"\n",
       "  3440.43,1107.73 3440.43,47.2441 \n",
       "  \"/>\n",
       "<polyline clip-path=\"url(#clip520)\" style=\"stroke:#000000; stroke-linecap:round; stroke-linejoin:round; stroke-width:4; stroke-opacity:1; fill:none\" points=\"\n",
       "  150.959,1107.73 3552.76,1107.73 \n",
       "  \"/>\n",
       "<polyline clip-path=\"url(#clip520)\" style=\"stroke:#000000; stroke-linecap:round; stroke-linejoin:round; stroke-width:4; stroke-opacity:1; fill:none\" points=\"\n",
       "  231.19,1107.73 231.19,1088.83 \n",
       "  \"/>\n",
       "<polyline clip-path=\"url(#clip520)\" style=\"stroke:#000000; stroke-linecap:round; stroke-linejoin:round; stroke-width:4; stroke-opacity:1; fill:none\" points=\"\n",
       "  1033.5,1107.73 1033.5,1088.83 \n",
       "  \"/>\n",
       "<polyline clip-path=\"url(#clip520)\" style=\"stroke:#000000; stroke-linecap:round; stroke-linejoin:round; stroke-width:4; stroke-opacity:1; fill:none\" points=\"\n",
       "  1835.81,1107.73 1835.81,1088.83 \n",
       "  \"/>\n",
       "<polyline clip-path=\"url(#clip520)\" style=\"stroke:#000000; stroke-linecap:round; stroke-linejoin:round; stroke-width:4; stroke-opacity:1; fill:none\" points=\"\n",
       "  2638.12,1107.73 2638.12,1088.83 \n",
       "  \"/>\n",
       "<polyline clip-path=\"url(#clip520)\" style=\"stroke:#000000; stroke-linecap:round; stroke-linejoin:round; stroke-width:4; stroke-opacity:1; fill:none\" points=\"\n",
       "  3440.43,1107.73 3440.43,1088.83 \n",
       "  \"/>\n",
       "<path clip-path=\"url(#clip520)\" d=\"M231.19 1148.25 Q227.579 1148.25 225.751 1151.81 Q223.945 1155.35 223.945 1162.48 Q223.945 1169.59 225.751 1173.15 Q227.579 1176.7 231.19 1176.7 Q234.825 1176.7 236.63 1173.15 Q238.459 1169.59 238.459 1162.48 Q238.459 1155.35 236.63 1151.81 Q234.825 1148.25 231.19 1148.25 M231.19 1144.54 Q237.001 1144.54 240.056 1149.15 Q243.135 1153.73 243.135 1162.48 Q243.135 1171.21 240.056 1175.82 Q237.001 1180.4 231.19 1180.4 Q225.38 1180.4 222.302 1175.82 Q219.246 1171.21 219.246 1162.48 Q219.246 1153.73 222.302 1149.15 Q225.38 1144.54 231.19 1144.54 Z\" fill=\"#000000\" fill-rule=\"evenodd\" fill-opacity=\"1\" /><path clip-path=\"url(#clip520)\" d=\"M1008.2 1145.17 L1026.56 1145.17 L1026.56 1149.1 L1012.48 1149.1 L1012.48 1157.58 Q1013.5 1157.23 1014.52 1157.07 Q1015.54 1156.88 1016.56 1156.88 Q1022.34 1156.88 1025.72 1160.05 Q1029.1 1163.22 1029.1 1168.64 Q1029.1 1174.22 1025.63 1177.32 Q1022.16 1180.4 1015.84 1180.4 Q1013.66 1180.4 1011.39 1180.03 Q1009.15 1179.66 1006.74 1178.92 L1006.74 1174.22 Q1008.83 1175.35 1011.05 1175.91 Q1013.27 1176.46 1015.75 1176.46 Q1019.75 1176.46 1022.09 1174.36 Q1024.43 1172.25 1024.43 1168.64 Q1024.43 1165.03 1022.09 1162.92 Q1019.75 1160.82 1015.75 1160.82 Q1013.87 1160.82 1012 1161.23 Q1010.14 1161.65 1008.2 1162.53 L1008.2 1145.17 Z\" fill=\"#000000\" fill-rule=\"evenodd\" fill-opacity=\"1\" /><path clip-path=\"url(#clip520)\" d=\"M1048.32 1148.25 Q1044.7 1148.25 1042.88 1151.81 Q1041.07 1155.35 1041.07 1162.48 Q1041.07 1169.59 1042.88 1173.15 Q1044.7 1176.7 1048.32 1176.7 Q1051.95 1176.7 1053.76 1173.15 Q1055.58 1169.59 1055.58 1162.48 Q1055.58 1155.35 1053.76 1151.81 Q1051.95 1148.25 1048.32 1148.25 M1048.32 1144.54 Q1054.13 1144.54 1057.18 1149.15 Q1060.26 1153.73 1060.26 1162.48 Q1060.26 1171.21 1057.18 1175.82 Q1054.13 1180.4 1048.32 1180.4 Q1042.51 1180.4 1039.43 1175.82 Q1036.37 1171.21 1036.37 1162.48 Q1036.37 1153.73 1039.43 1149.15 Q1042.51 1144.54 1048.32 1144.54 Z\" fill=\"#000000\" fill-rule=\"evenodd\" fill-opacity=\"1\" /><path clip-path=\"url(#clip520)\" d=\"M1795.42 1175.79 L1803.06 1175.79 L1803.06 1149.43 L1794.75 1151.09 L1794.75 1146.83 L1803.01 1145.17 L1807.69 1145.17 L1807.69 1175.79 L1815.33 1175.79 L1815.33 1179.73 L1795.42 1179.73 L1795.42 1175.79 Z\" fill=\"#000000\" fill-rule=\"evenodd\" fill-opacity=\"1\" /><path clip-path=\"url(#clip520)\" d=\"M1834.77 1148.25 Q1831.16 1148.25 1829.33 1151.81 Q1827.52 1155.35 1827.52 1162.48 Q1827.52 1169.59 1829.33 1173.15 Q1831.16 1176.7 1834.77 1176.7 Q1838.4 1176.7 1840.21 1173.15 Q1842.04 1169.59 1842.04 1162.48 Q1842.04 1155.35 1840.21 1151.81 Q1838.4 1148.25 1834.77 1148.25 M1834.77 1144.54 Q1840.58 1144.54 1843.64 1149.15 Q1846.71 1153.73 1846.71 1162.48 Q1846.71 1171.21 1843.64 1175.82 Q1840.58 1180.4 1834.77 1180.4 Q1828.96 1180.4 1825.88 1175.82 Q1822.83 1171.21 1822.83 1162.48 Q1822.83 1153.73 1825.88 1149.15 Q1828.96 1144.54 1834.77 1144.54 Z\" fill=\"#000000\" fill-rule=\"evenodd\" fill-opacity=\"1\" /><path clip-path=\"url(#clip520)\" d=\"M1864.93 1148.25 Q1861.32 1148.25 1859.49 1151.81 Q1857.69 1155.35 1857.69 1162.48 Q1857.69 1169.59 1859.49 1173.15 Q1861.32 1176.7 1864.93 1176.7 Q1868.57 1176.7 1870.37 1173.15 Q1872.2 1169.59 1872.2 1162.48 Q1872.2 1155.35 1870.37 1151.81 Q1868.57 1148.25 1864.93 1148.25 M1864.93 1144.54 Q1870.74 1144.54 1873.8 1149.15 Q1876.88 1153.73 1876.88 1162.48 Q1876.88 1171.21 1873.8 1175.82 Q1870.74 1180.4 1864.93 1180.4 Q1859.12 1180.4 1856.04 1175.82 Q1852.99 1171.21 1852.99 1162.48 Q1852.99 1153.73 1856.04 1149.15 Q1859.12 1144.54 1864.93 1144.54 Z\" fill=\"#000000\" fill-rule=\"evenodd\" fill-opacity=\"1\" /><path clip-path=\"url(#clip520)\" d=\"M2597.73 1175.79 L2605.37 1175.79 L2605.37 1149.43 L2597.06 1151.09 L2597.06 1146.83 L2605.32 1145.17 L2610 1145.17 L2610 1175.79 L2617.64 1175.79 L2617.64 1179.73 L2597.73 1179.73 L2597.73 1175.79 Z\" fill=\"#000000\" fill-rule=\"evenodd\" fill-opacity=\"1\" /><path clip-path=\"url(#clip520)\" d=\"M2627.13 1145.17 L2645.48 1145.17 L2645.48 1149.1 L2631.41 1149.1 L2631.41 1157.58 Q2632.43 1157.23 2633.45 1157.07 Q2634.46 1156.88 2635.48 1156.88 Q2641.27 1156.88 2644.65 1160.05 Q2648.03 1163.22 2648.03 1168.64 Q2648.03 1174.22 2644.56 1177.32 Q2641.08 1180.4 2634.77 1180.4 Q2632.59 1180.4 2630.32 1180.03 Q2628.08 1179.66 2625.67 1178.92 L2625.67 1174.22 Q2627.75 1175.35 2629.97 1175.91 Q2632.2 1176.46 2634.67 1176.46 Q2638.68 1176.46 2641.02 1174.36 Q2643.35 1172.25 2643.35 1168.64 Q2643.35 1165.03 2641.02 1162.92 Q2638.68 1160.82 2634.67 1160.82 Q2632.8 1160.82 2630.92 1161.23 Q2629.07 1161.65 2627.13 1162.53 L2627.13 1145.17 Z\" fill=\"#000000\" fill-rule=\"evenodd\" fill-opacity=\"1\" /><path clip-path=\"url(#clip520)\" d=\"M2667.24 1148.25 Q2663.63 1148.25 2661.8 1151.81 Q2660 1155.35 2660 1162.48 Q2660 1169.59 2661.8 1173.15 Q2663.63 1176.7 2667.24 1176.7 Q2670.88 1176.7 2672.68 1173.15 Q2674.51 1169.59 2674.51 1162.48 Q2674.51 1155.35 2672.68 1151.81 Q2670.88 1148.25 2667.24 1148.25 M2667.24 1144.54 Q2673.05 1144.54 2676.11 1149.15 Q2679.19 1153.73 2679.19 1162.48 Q2679.19 1171.21 2676.11 1175.82 Q2673.05 1180.4 2667.24 1180.4 Q2661.43 1180.4 2658.35 1175.82 Q2655.3 1171.21 2655.3 1162.48 Q2655.3 1153.73 2658.35 1149.15 Q2661.43 1144.54 2667.24 1144.54 Z\" fill=\"#000000\" fill-rule=\"evenodd\" fill-opacity=\"1\" /><path clip-path=\"url(#clip520)\" d=\"M3404.12 1175.79 L3420.44 1175.79 L3420.44 1179.73 L3398.5 1179.73 L3398.5 1175.79 Q3401.16 1173.04 3405.75 1168.41 Q3410.35 1163.76 3411.53 1162.41 Q3413.78 1159.89 3414.66 1158.15 Q3415.56 1156.39 3415.56 1154.7 Q3415.56 1151.95 3413.62 1150.21 Q3411.69 1148.48 3408.59 1148.48 Q3406.39 1148.48 3403.94 1149.24 Q3401.51 1150.01 3398.73 1151.56 L3398.73 1146.83 Q3401.56 1145.7 3404.01 1145.12 Q3406.46 1144.54 3408.5 1144.54 Q3413.87 1144.54 3417.06 1147.23 Q3420.26 1149.91 3420.26 1154.4 Q3420.26 1156.53 3419.45 1158.45 Q3418.66 1160.35 3416.56 1162.95 Q3415.98 1163.62 3412.87 1166.83 Q3409.77 1170.03 3404.12 1175.79 Z\" fill=\"#000000\" fill-rule=\"evenodd\" fill-opacity=\"1\" /><path clip-path=\"url(#clip520)\" d=\"M3440.26 1148.25 Q3436.65 1148.25 3434.82 1151.81 Q3433.01 1155.35 3433.01 1162.48 Q3433.01 1169.59 3434.82 1173.15 Q3436.65 1176.7 3440.26 1176.7 Q3443.89 1176.7 3445.7 1173.15 Q3447.53 1169.59 3447.53 1162.48 Q3447.53 1155.35 3445.7 1151.81 Q3443.89 1148.25 3440.26 1148.25 M3440.26 1144.54 Q3446.07 1144.54 3449.12 1149.15 Q3452.2 1153.73 3452.2 1162.48 Q3452.2 1171.21 3449.12 1175.82 Q3446.07 1180.4 3440.26 1180.4 Q3434.45 1180.4 3431.37 1175.82 Q3428.31 1171.21 3428.31 1162.48 Q3428.31 1153.73 3431.37 1149.15 Q3434.45 1144.54 3440.26 1144.54 Z\" fill=\"#000000\" fill-rule=\"evenodd\" fill-opacity=\"1\" /><path clip-path=\"url(#clip520)\" d=\"M3470.42 1148.25 Q3466.81 1148.25 3464.98 1151.81 Q3463.18 1155.35 3463.18 1162.48 Q3463.18 1169.59 3464.98 1173.15 Q3466.81 1176.7 3470.42 1176.7 Q3474.05 1176.7 3475.86 1173.15 Q3477.69 1169.59 3477.69 1162.48 Q3477.69 1155.35 3475.86 1151.81 Q3474.05 1148.25 3470.42 1148.25 M3470.42 1144.54 Q3476.23 1144.54 3479.29 1149.15 Q3482.37 1153.73 3482.37 1162.48 Q3482.37 1171.21 3479.29 1175.82 Q3476.23 1180.4 3470.42 1180.4 Q3464.61 1180.4 3461.53 1175.82 Q3458.48 1171.21 3458.48 1162.48 Q3458.48 1153.73 3461.53 1149.15 Q3464.61 1144.54 3470.42 1144.54 Z\" fill=\"#000000\" fill-rule=\"evenodd\" fill-opacity=\"1\" /><polyline clip-path=\"url(#clip522)\" style=\"stroke:#000000; stroke-linecap:round; stroke-linejoin:round; stroke-width:2; stroke-opacity:0.1; fill:none\" points=\"\n",
       "  150.959,1105.41 3552.76,1105.41 \n",
       "  \"/>\n",
       "<polyline clip-path=\"url(#clip522)\" style=\"stroke:#000000; stroke-linecap:round; stroke-linejoin:round; stroke-width:2; stroke-opacity:0.1; fill:none\" points=\"\n",
       "  150.959,940.363 3552.76,940.363 \n",
       "  \"/>\n",
       "<polyline clip-path=\"url(#clip522)\" style=\"stroke:#000000; stroke-linecap:round; stroke-linejoin:round; stroke-width:2; stroke-opacity:0.1; fill:none\" points=\"\n",
       "  150.959,775.32 3552.76,775.32 \n",
       "  \"/>\n",
       "<polyline clip-path=\"url(#clip522)\" style=\"stroke:#000000; stroke-linecap:round; stroke-linejoin:round; stroke-width:2; stroke-opacity:0.1; fill:none\" points=\"\n",
       "  150.959,610.278 3552.76,610.278 \n",
       "  \"/>\n",
       "<polyline clip-path=\"url(#clip522)\" style=\"stroke:#000000; stroke-linecap:round; stroke-linejoin:round; stroke-width:2; stroke-opacity:0.1; fill:none\" points=\"\n",
       "  150.959,445.235 3552.76,445.235 \n",
       "  \"/>\n",
       "<polyline clip-path=\"url(#clip522)\" style=\"stroke:#000000; stroke-linecap:round; stroke-linejoin:round; stroke-width:2; stroke-opacity:0.1; fill:none\" points=\"\n",
       "  150.959,280.192 3552.76,280.192 \n",
       "  \"/>\n",
       "<polyline clip-path=\"url(#clip522)\" style=\"stroke:#000000; stroke-linecap:round; stroke-linejoin:round; stroke-width:2; stroke-opacity:0.1; fill:none\" points=\"\n",
       "  150.959,115.15 3552.76,115.15 \n",
       "  \"/>\n",
       "<polyline clip-path=\"url(#clip520)\" style=\"stroke:#000000; stroke-linecap:round; stroke-linejoin:round; stroke-width:4; stroke-opacity:1; fill:none\" points=\"\n",
       "  150.959,1107.73 150.959,47.2441 \n",
       "  \"/>\n",
       "<polyline clip-path=\"url(#clip520)\" style=\"stroke:#000000; stroke-linecap:round; stroke-linejoin:round; stroke-width:4; stroke-opacity:1; fill:none\" points=\"\n",
       "  150.959,1105.41 169.857,1105.41 \n",
       "  \"/>\n",
       "<polyline clip-path=\"url(#clip520)\" style=\"stroke:#000000; stroke-linecap:round; stroke-linejoin:round; stroke-width:4; stroke-opacity:1; fill:none\" points=\"\n",
       "  150.959,940.363 169.857,940.363 \n",
       "  \"/>\n",
       "<polyline clip-path=\"url(#clip520)\" style=\"stroke:#000000; stroke-linecap:round; stroke-linejoin:round; stroke-width:4; stroke-opacity:1; fill:none\" points=\"\n",
       "  150.959,775.32 169.857,775.32 \n",
       "  \"/>\n",
       "<polyline clip-path=\"url(#clip520)\" style=\"stroke:#000000; stroke-linecap:round; stroke-linejoin:round; stroke-width:4; stroke-opacity:1; fill:none\" points=\"\n",
       "  150.959,610.278 169.857,610.278 \n",
       "  \"/>\n",
       "<polyline clip-path=\"url(#clip520)\" style=\"stroke:#000000; stroke-linecap:round; stroke-linejoin:round; stroke-width:4; stroke-opacity:1; fill:none\" points=\"\n",
       "  150.959,445.235 169.857,445.235 \n",
       "  \"/>\n",
       "<polyline clip-path=\"url(#clip520)\" style=\"stroke:#000000; stroke-linecap:round; stroke-linejoin:round; stroke-width:4; stroke-opacity:1; fill:none\" points=\"\n",
       "  150.959,280.192 169.857,280.192 \n",
       "  \"/>\n",
       "<polyline clip-path=\"url(#clip520)\" style=\"stroke:#000000; stroke-linecap:round; stroke-linejoin:round; stroke-width:4; stroke-opacity:1; fill:none\" points=\"\n",
       "  150.959,115.15 169.857,115.15 \n",
       "  \"/>\n",
       "<path clip-path=\"url(#clip520)\" d=\"M85.0151 1091.2 Q81.404 1091.2 79.5753 1094.77 Q77.7697 1098.31 77.7697 1105.44 Q77.7697 1112.55 79.5753 1116.11 Q81.404 1119.65 85.0151 1119.65 Q88.6493 1119.65 90.4548 1116.11 Q92.2835 1112.55 92.2835 1105.44 Q92.2835 1098.31 90.4548 1094.77 Q88.6493 1091.2 85.0151 1091.2 M85.0151 1087.5 Q90.8252 1087.5 93.8808 1092.11 Q96.9594 1096.69 96.9594 1105.44 Q96.9594 1114.17 93.8808 1118.77 Q90.8252 1123.36 85.0151 1123.36 Q79.2049 1123.36 76.1262 1118.77 Q73.0707 1114.17 73.0707 1105.44 Q73.0707 1096.69 76.1262 1092.11 Q79.2049 1087.5 85.0151 1087.5 Z\" fill=\"#000000\" fill-rule=\"evenodd\" fill-opacity=\"1\" /><path clip-path=\"url(#clip520)\" d=\"M80.6401 953.708 L96.9594 953.708 L96.9594 957.643 L75.0151 957.643 L75.0151 953.708 Q77.6771 950.953 82.2604 946.323 Q86.8669 941.671 88.0475 940.328 Q90.2928 937.805 91.1724 936.069 Q92.0752 934.31 92.0752 932.62 Q92.0752 929.865 90.1308 928.129 Q88.2095 926.393 85.1077 926.393 Q82.9086 926.393 80.4549 927.157 Q78.0244 927.921 75.2466 929.472 L75.2466 924.75 Q78.0707 923.615 80.5243 923.037 Q82.978 922.458 85.0151 922.458 Q90.3854 922.458 93.5798 925.143 Q96.7743 927.828 96.7743 932.319 Q96.7743 934.449 95.9641 936.37 Q95.177 938.268 93.0706 940.861 Q92.4919 941.532 89.39 944.749 Q86.2882 947.944 80.6401 953.708 Z\" fill=\"#000000\" fill-rule=\"evenodd\" fill-opacity=\"1\" /><path clip-path=\"url(#clip520)\" d=\"M87.3762 762.114 L75.5707 780.563 L87.3762 780.563 L87.3762 762.114 M86.1493 758.04 L92.0289 758.04 L92.0289 780.563 L96.9594 780.563 L96.9594 784.452 L92.0289 784.452 L92.0289 792.6 L87.3762 792.6 L87.3762 784.452 L71.7744 784.452 L71.7744 779.938 L86.1493 758.04 Z\" fill=\"#000000\" fill-rule=\"evenodd\" fill-opacity=\"1\" /><path clip-path=\"url(#clip520)\" d=\"M85.4317 608.414 Q82.2836 608.414 80.4318 610.567 Q78.6031 612.72 78.6031 616.47 Q78.6031 620.196 80.4318 622.372 Q82.2836 624.525 85.4317 624.525 Q88.5799 624.525 90.4085 622.372 Q92.2604 620.196 92.2604 616.47 Q92.2604 612.72 90.4085 610.567 Q88.5799 608.414 85.4317 608.414 M94.7141 593.761 L94.7141 598.021 Q92.9548 597.187 91.1493 596.748 Q89.3669 596.308 87.6076 596.308 Q82.978 596.308 80.5243 599.433 Q78.0938 602.558 77.7466 608.877 Q79.1123 606.863 81.1725 605.798 Q83.2327 604.71 85.7095 604.71 Q90.9178 604.71 93.927 607.882 Q96.9594 611.03 96.9594 616.47 Q96.9594 621.794 93.8113 625.011 Q90.6632 628.229 85.4317 628.229 Q79.4364 628.229 76.2651 623.646 Q73.0938 619.039 73.0938 610.312 Q73.0938 602.118 76.9827 597.257 Q80.8716 592.373 87.4225 592.373 Q89.1817 592.373 90.9641 592.72 Q92.7696 593.067 94.7141 593.761 Z\" fill=\"#000000\" fill-rule=\"evenodd\" fill-opacity=\"1\" /><path clip-path=\"url(#clip520)\" d=\"M85.1077 446.103 Q81.7743 446.103 79.8531 447.885 Q77.9549 449.668 77.9549 452.793 Q77.9549 455.918 79.8531 457.7 Q81.7743 459.483 85.1077 459.483 Q88.441 459.483 90.3623 457.7 Q92.2835 455.895 92.2835 452.793 Q92.2835 449.668 90.3623 447.885 Q88.4641 446.103 85.1077 446.103 M80.4318 444.112 Q77.4225 443.371 75.7327 441.311 Q74.066 439.251 74.066 436.288 Q74.066 432.145 77.0058 429.737 Q79.9688 427.33 85.1077 427.33 Q90.2697 427.33 93.2095 429.737 Q96.1493 432.145 96.1493 436.288 Q96.1493 439.251 94.4595 441.311 Q92.7928 443.371 89.8067 444.112 Q93.1863 444.899 95.0613 447.191 Q96.9594 449.483 96.9594 452.793 Q96.9594 457.816 93.8808 460.501 Q90.8252 463.186 85.1077 463.186 Q79.3901 463.186 76.3114 460.501 Q73.2559 457.816 73.2559 452.793 Q73.2559 449.483 75.154 447.191 Q77.0521 444.899 80.4318 444.112 M78.7188 436.728 Q78.7188 439.413 80.3855 440.918 Q82.0753 442.422 85.1077 442.422 Q88.1169 442.422 89.8067 440.918 Q91.5197 439.413 91.5197 436.728 Q91.5197 434.043 89.8067 432.538 Q88.1169 431.034 85.1077 431.034 Q82.0753 431.034 80.3855 432.538 Q78.7188 434.043 78.7188 436.728 Z\" fill=\"#000000\" fill-rule=\"evenodd\" fill-opacity=\"1\" /><path clip-path=\"url(#clip520)\" d=\"M45.6634 293.537 L53.3023 293.537 L53.3023 267.171 L44.9921 268.838 L44.9921 264.579 L53.256 262.912 L57.9319 262.912 L57.9319 293.537 L65.5707 293.537 L65.5707 297.472 L45.6634 297.472 L45.6634 293.537 Z\" fill=\"#000000\" fill-rule=\"evenodd\" fill-opacity=\"1\" /><path clip-path=\"url(#clip520)\" d=\"M85.0151 265.991 Q81.404 265.991 79.5753 269.556 Q77.7697 273.097 77.7697 280.227 Q77.7697 287.333 79.5753 290.898 Q81.404 294.44 85.0151 294.44 Q88.6493 294.44 90.4548 290.898 Q92.2835 287.333 92.2835 280.227 Q92.2835 273.097 90.4548 269.556 Q88.6493 265.991 85.0151 265.991 M85.0151 262.287 Q90.8252 262.287 93.8808 266.894 Q96.9594 271.477 96.9594 280.227 Q96.9594 288.954 93.8808 293.56 Q90.8252 298.144 85.0151 298.144 Q79.2049 298.144 76.1262 293.56 Q73.0707 288.954 73.0707 280.227 Q73.0707 271.477 76.1262 266.894 Q79.2049 262.287 85.0151 262.287 Z\" fill=\"#000000\" fill-rule=\"evenodd\" fill-opacity=\"1\" /><path clip-path=\"url(#clip520)\" d=\"M47.2606 128.494 L54.8995 128.494 L54.8995 102.129 L46.5893 103.795 L46.5893 99.5363 L54.8532 97.8696 L59.5291 97.8696 L59.5291 128.494 L67.1679 128.494 L67.1679 132.43 L47.2606 132.43 L47.2606 128.494 Z\" fill=\"#000000\" fill-rule=\"evenodd\" fill-opacity=\"1\" /><path clip-path=\"url(#clip520)\" d=\"M80.6401 128.494 L96.9594 128.494 L96.9594 132.43 L75.0151 132.43 L75.0151 128.494 Q77.6771 125.74 82.2604 121.11 Q86.8669 116.457 88.0475 115.115 Q90.2928 112.592 91.1724 110.856 Q92.0752 109.096 92.0752 107.407 Q92.0752 104.652 90.1308 102.916 Q88.2095 101.18 85.1077 101.18 Q82.9086 101.18 80.4549 101.944 Q78.0244 102.708 75.2466 104.258 L75.2466 99.5363 Q78.0707 98.402 80.5243 97.8233 Q82.978 97.2446 85.0151 97.2446 Q90.3854 97.2446 93.5798 99.9298 Q96.7743 102.615 96.7743 107.106 Q96.7743 109.235 95.9641 111.157 Q95.177 113.055 93.0706 115.647 Q92.4919 116.319 89.39 119.536 Q86.2882 122.731 80.6401 128.494 Z\" fill=\"#000000\" fill-rule=\"evenodd\" fill-opacity=\"1\" /><polyline clip-path=\"url(#clip522)\" style=\"stroke:#009af9; stroke-linecap:round; stroke-linejoin:round; stroke-width:4; stroke-opacity:1; fill:none\" points=\"\n",
       "  247.237,1051.31 263.283,840.308 279.329,1051.97 295.375,823.458 311.422,929.787 327.468,1026.75 343.514,1048.73 359.56,717.519 375.606,634.998 391.653,977.705 \n",
       "  407.699,489.843 423.745,533.472 439.791,974.612 455.837,772.26 471.884,425.561 487.93,473.44 503.976,834.013 520.022,1039.37 536.068,1031.06 552.115,1031.67 \n",
       "  568.161,771.77 584.207,962.975 600.253,927.78 616.3,742.288 632.346,1063.25 648.392,833.508 664.438,1041.68 680.484,1049.21 696.531,1054.3 712.577,937.802 \n",
       "  728.623,1041.96 744.669,93.3515 760.715,721.962 776.762,644.763 792.808,715.306 808.854,980.399 824.9,1056.96 840.946,878.433 856.993,1043.74 873.039,1057.01 \n",
       "  889.085,717.519 905.131,1027.38 921.178,634.998 937.224,1024.06 953.27,589.818 969.316,512.092 985.362,876.608 1001.41,922.62 1017.45,926.768 1033.5,387.148 \n",
       "  1049.55,823.269 1065.59,368.429 1081.64,803.418 1097.69,721.972 1113.73,801.756 1129.78,798.195 1145.82,820.695 1161.87,911.194 1177.92,1042.92 1193.96,1034.92 \n",
       "  1210.01,1029.65 1226.06,677.933 1242.1,257.023 1258.15,858.33 1274.19,258.758 1290.24,721.95 1306.29,831.648 1322.33,916.832 1338.38,902.814 1354.43,1004.83 \n",
       "  1370.47,901.362 1386.52,1031.23 1402.56,1051.16 1418.61,1043.37 1434.66,1052.2 1450.7,816.844 1466.75,788.503 1482.79,915.476 1498.84,832.786 1514.89,77.2578 \n",
       "  1530.93,668.446 1546.98,794.54 1563.03,580.146 1579.07,691.99 1595.12,780.96 1611.16,983.66 1627.21,1013.27 1643.26,572.513 1659.3,699.095 1675.35,1015.51 \n",
       "  1691.4,1073.05 1707.44,1077.71 1723.49,941.211 1739.53,1034.16 1755.58,1047.42 1771.63,1025.99 1787.67,1029.05 1803.72,1025.89 1819.77,1042.58 1835.81,957.492 \n",
       "  1851.86,979.469 1867.9,717.519 1883.95,1027.38 1900,634.998 1916.04,943.848 1932.09,474.031 1948.13,512.092 1964.18,876.608 1980.23,416.823 1996.27,926.635 \n",
       "  2012.32,741.72 2028.37,1039.69 2044.41,291.912 2060.46,803.418 2076.5,1031.03 2092.55,1034.76 2108.6,793.011 2124.64,829.055 2140.69,706.832 2156.74,818.034 \n",
       "  2172.78,940.245 2188.83,924.997 2204.87,1013.39 2220.92,621.677 2236.97,949.339 2253.01,871.032 2269.06,1025.98 2285.11,887.992 2301.15,892.143 2317.2,741.563 \n",
       "  2333.24,971.462 2349.29,130.649 2365.34,924.202 2381.38,876.078 2397.43,728.649 2413.48,798.58 2429.52,1040.28 2445.57,717.519 2461.61,634.998 2477.66,977.705 \n",
       "  2493.71,1057.53 2509.75,1065.62 2525.8,474.031 2541.84,493.973 2557.89,860.983 2573.94,1052.27 2589.98,311.835 2606.03,1010.66 2622.08,884.81 2638.12,379.679 \n",
       "  2654.17,874.533 2670.21,1010.26 2686.26,1030.74 2702.31,269.736 2718.35,991.844 2734.4,847.923 2750.45,834.856 2766.49,904.214 2782.54,1046.06 2798.58,932.599 \n",
       "  2814.63,578.527 2830.68,1066.99 2846.72,959.4 2862.77,677.161 2878.82,1076.2 2894.86,507.521 2910.91,1026.5 2926.95,1047.97 2943,729.765 2959.05,1048.51 \n",
       "  2975.09,1032.78 2991.14,1039.72 3007.18,1048.18 3023.23,1012.76 3039.28,1027.35 3055.32,717.519 3071.37,634.998 3087.42,589.818 3103.46,942.768 3119.51,478.251 \n",
       "  3135.55,974.612 3151.6,425.561 3167.65,860.458 3183.69,866.766 3199.74,765.393 3215.79,1039.69 3231.83,291.912 3247.88,435.42 3263.92,432.042 3279.97,786.222 \n",
       "  3296.02,1025.65 3312.06,340.891 3328.11,844.177 3344.16,1058.55 3360.2,984.877 3376.25,1030.67 3392.29,1035.29 3408.34,825.856 3424.39,1000.79 3440.43,614.057 \n",
       "  3456.48,1034.05 \n",
       "  \"/>\n",
       "<polyline clip-path=\"url(#clip522)\" style=\"stroke:#e26f46; stroke-linecap:round; stroke-linejoin:round; stroke-width:4; stroke-opacity:1; fill:none\" points=\"\n",
       "  247.237,1051.31 263.283,898.403 279.329,1051.97 295.375,863.538 311.422,929.787 327.468,1026.75 343.514,1048.73 359.56,717.519 375.606,634.998 391.653,977.705 \n",
       "  407.699,489.843 423.745,533.472 439.791,974.612 455.837,772.26 471.884,425.561 487.93,473.44 503.976,834.013 520.022,1039.37 536.068,1031.06 552.115,1031.67 \n",
       "  568.161,771.77 584.207,962.975 600.253,927.78 616.3,742.288 632.346,1063.25 648.392,833.508 664.438,1041.68 680.484,1049.21 696.531,1054.3 712.577,976.789 \n",
       "  728.623,1041.96 744.669,93.3516 760.715,721.962 776.762,644.763 792.808,715.306 808.854,980.399 824.9,1056.96 840.946,878.433 856.993,1043.74 873.039,1057.01 \n",
       "  889.085,717.519 905.131,1027.38 921.178,634.998 937.224,1024.06 953.27,589.818 969.316,512.092 985.362,876.608 1001.41,922.62 1017.45,926.768 1033.5,387.148 \n",
       "  1049.55,823.269 1065.59,368.429 1081.64,803.418 1097.69,721.972 1113.73,801.756 1129.78,798.195 1145.82,820.695 1161.87,911.194 1177.92,1042.92 1193.96,1034.92 \n",
       "  1210.01,1029.65 1226.06,677.933 1242.1,257.023 1258.15,858.33 1274.19,258.758 1290.24,721.95 1306.29,831.648 1322.33,916.832 1338.38,902.814 1354.43,1004.83 \n",
       "  1370.47,901.361 1386.52,1031.23 1402.56,1051.16 1418.61,1043.37 1434.66,1066.56 1450.7,816.844 1466.75,788.503 1482.79,915.476 1498.84,832.786 1514.89,77.2578 \n",
       "  1530.93,668.446 1546.98,794.54 1563.03,580.146 1579.07,691.99 1595.12,780.96 1611.16,983.66 1627.21,1013.27 1643.26,572.513 1659.3,699.095 1675.35,1015.51 \n",
       "  1691.4,1073.05 1707.44,1077.71 1723.49,941.211 1739.53,1034.16 1755.58,1047.42 1771.63,1025.99 1787.67,1029.05 1803.72,1025.89 1819.77,1042.58 1835.81,957.492 \n",
       "  1851.86,979.469 1867.9,717.519 1883.95,1027.38 1900,634.998 1916.04,943.848 1932.09,474.031 1948.13,512.092 1964.18,876.608 1980.23,416.823 1996.27,926.635 \n",
       "  2012.32,741.72 2028.37,1039.69 2044.41,291.912 2060.46,803.418 2076.5,1031.03 2092.55,1034.76 2108.6,793.011 2124.64,829.055 2140.69,706.832 2156.74,818.034 \n",
       "  2172.78,940.245 2188.83,924.997 2204.87,1013.39 2220.92,621.677 2236.97,949.339 2253.01,871.032 2269.06,1025.98 2285.11,887.992 2301.15,892.143 2317.2,741.563 \n",
       "  2333.24,971.462 2349.29,130.649 2365.34,924.202 2381.38,876.078 2397.43,728.649 2413.48,798.58 2429.52,1040.28 2445.57,717.519 2461.61,634.998 2477.66,977.705 \n",
       "  2493.71,1057.53 2509.75,1065.62 2525.8,474.031 2541.84,493.973 2557.89,860.983 2573.94,1052.27 2589.98,311.835 2606.03,1010.66 2622.08,884.81 2638.12,379.679 \n",
       "  2654.17,874.533 2670.21,1010.26 2686.26,1030.74 2702.31,269.736 2718.35,991.844 2734.4,847.923 2750.45,834.856 2766.49,904.214 2782.54,1046.06 2798.58,932.599 \n",
       "  2814.63,578.527 2830.68,1066.99 2846.72,959.4 2862.77,677.161 2878.82,1076.2 2894.86,507.521 2910.91,1026.5 2926.95,1047.97 2943,729.765 2959.05,1048.51 \n",
       "  2975.09,1032.78 2991.14,1039.72 3007.18,1048.18 3023.23,1012.76 3039.28,1027.35 3055.32,717.519 3071.37,634.998 3087.42,589.818 3103.46,942.768 3119.51,478.251 \n",
       "  3135.55,974.612 3151.6,425.561 3167.65,860.458 3183.69,866.766 3199.74,765.393 3215.79,1039.69 3231.83,291.912 3247.88,435.42 3263.92,432.042 3279.97,786.222 \n",
       "  3296.02,1025.65 3312.06,340.891 3328.11,844.177 3344.16,1058.55 3360.2,984.877 3376.25,1030.67 3392.29,1035.29 3408.34,825.856 3424.39,1000.79 3440.43,614.057 \n",
       "  3456.48,1034.05 \n",
       "  \"/>\n",
       "<polyline clip-path=\"url(#clip522)\" style=\"stroke:#3da44d; stroke-linecap:round; stroke-linejoin:round; stroke-width:8; stroke-opacity:1; fill:none\" points=\"\n",
       "  359.56,2168.21 359.56,-1013.24 \n",
       "  \"/>\n",
       "<polyline clip-path=\"url(#clip522)\" style=\"stroke:#3da44d; stroke-linecap:round; stroke-linejoin:round; stroke-width:8; stroke-opacity:1; fill:none\" points=\"\n",
       "  503.976,2168.21 503.976,-1013.24 \n",
       "  \"/>\n",
       "<polyline clip-path=\"url(#clip522)\" style=\"stroke:#3da44d; stroke-linecap:round; stroke-linejoin:round; stroke-width:8; stroke-opacity:1; fill:none\" points=\"\n",
       "  632.346,2168.21 632.346,-1013.24 \n",
       "  \"/>\n",
       "<polyline clip-path=\"url(#clip522)\" style=\"stroke:#3da44d; stroke-linecap:round; stroke-linejoin:round; stroke-width:8; stroke-opacity:1; fill:none\" points=\"\n",
       "  776.762,2168.21 776.762,-1013.24 \n",
       "  \"/>\n",
       "<polyline clip-path=\"url(#clip522)\" style=\"stroke:#3da44d; stroke-linecap:round; stroke-linejoin:round; stroke-width:8; stroke-opacity:1; fill:none\" points=\"\n",
       "  889.085,2168.21 889.085,-1013.24 \n",
       "  \"/>\n",
       "<polyline clip-path=\"url(#clip522)\" style=\"stroke:#3da44d; stroke-linecap:round; stroke-linejoin:round; stroke-width:8; stroke-opacity:1; fill:none\" points=\"\n",
       "  1017.45,2168.21 1017.45,-1013.24 \n",
       "  \"/>\n",
       "<polyline clip-path=\"url(#clip522)\" style=\"stroke:#3da44d; stroke-linecap:round; stroke-linejoin:round; stroke-width:8; stroke-opacity:1; fill:none\" points=\"\n",
       "  1113.73,2168.21 1113.73,-1013.24 \n",
       "  \"/>\n",
       "<polyline clip-path=\"url(#clip522)\" style=\"stroke:#3da44d; stroke-linecap:round; stroke-linejoin:round; stroke-width:8; stroke-opacity:1; fill:none\" points=\"\n",
       "  1242.1,2168.21 1242.1,-1013.24 \n",
       "  \"/>\n",
       "<polyline clip-path=\"url(#clip522)\" style=\"stroke:#3da44d; stroke-linecap:round; stroke-linejoin:round; stroke-width:8; stroke-opacity:1; fill:none\" points=\"\n",
       "  1354.43,2168.21 1354.43,-1013.24 \n",
       "  \"/>\n",
       "<polyline clip-path=\"url(#clip522)\" style=\"stroke:#3da44d; stroke-linecap:round; stroke-linejoin:round; stroke-width:8; stroke-opacity:1; fill:none\" points=\"\n",
       "  1466.75,2168.21 1466.75,-1013.24 \n",
       "  \"/>\n",
       "<polyline clip-path=\"url(#clip522)\" style=\"stroke:#3da44d; stroke-linecap:round; stroke-linejoin:round; stroke-width:8; stroke-opacity:1; fill:none\" points=\"\n",
       "  1611.16,2168.21 1611.16,-1013.24 \n",
       "  \"/>\n",
       "<polyline clip-path=\"url(#clip522)\" style=\"stroke:#3da44d; stroke-linecap:round; stroke-linejoin:round; stroke-width:8; stroke-opacity:1; fill:none\" points=\"\n",
       "  1755.58,2168.21 1755.58,-1013.24 \n",
       "  \"/>\n",
       "<polyline clip-path=\"url(#clip522)\" style=\"stroke:#3da44d; stroke-linecap:round; stroke-linejoin:round; stroke-width:8; stroke-opacity:1; fill:none\" points=\"\n",
       "  1867.9,2168.21 1867.9,-1013.24 \n",
       "  \"/>\n",
       "<polyline clip-path=\"url(#clip522)\" style=\"stroke:#3da44d; stroke-linecap:round; stroke-linejoin:round; stroke-width:8; stroke-opacity:1; fill:none\" points=\"\n",
       "  2028.37,2168.21 2028.37,-1013.24 \n",
       "  \"/>\n",
       "<polyline clip-path=\"url(#clip522)\" style=\"stroke:#3da44d; stroke-linecap:round; stroke-linejoin:round; stroke-width:8; stroke-opacity:1; fill:none\" points=\"\n",
       "  2317.2,2168.21 2317.2,-1013.24 \n",
       "  \"/>\n",
       "<polyline clip-path=\"url(#clip522)\" style=\"stroke:#3da44d; stroke-linecap:round; stroke-linejoin:round; stroke-width:8; stroke-opacity:1; fill:none\" points=\"\n",
       "  2445.57,2168.21 2445.57,-1013.24 \n",
       "  \"/>\n",
       "<polyline clip-path=\"url(#clip522)\" style=\"stroke:#3da44d; stroke-linecap:round; stroke-linejoin:round; stroke-width:8; stroke-opacity:1; fill:none\" points=\"\n",
       "  2573.94,2168.21 2573.94,-1013.24 \n",
       "  \"/>\n",
       "<polyline clip-path=\"url(#clip522)\" style=\"stroke:#3da44d; stroke-linecap:round; stroke-linejoin:round; stroke-width:8; stroke-opacity:1; fill:none\" points=\"\n",
       "  2670.21,2168.21 2670.21,-1013.24 \n",
       "  \"/>\n",
       "<polyline clip-path=\"url(#clip522)\" style=\"stroke:#3da44d; stroke-linecap:round; stroke-linejoin:round; stroke-width:8; stroke-opacity:1; fill:none\" points=\"\n",
       "  2798.58,2168.21 2798.58,-1013.24 \n",
       "  \"/>\n",
       "<polyline clip-path=\"url(#clip522)\" style=\"stroke:#3da44d; stroke-linecap:round; stroke-linejoin:round; stroke-width:8; stroke-opacity:1; fill:none\" points=\"\n",
       "  2926.95,2168.21 2926.95,-1013.24 \n",
       "  \"/>\n",
       "<polyline clip-path=\"url(#clip522)\" style=\"stroke:#3da44d; stroke-linecap:round; stroke-linejoin:round; stroke-width:8; stroke-opacity:1; fill:none\" points=\"\n",
       "  3055.32,2168.21 3055.32,-1013.24 \n",
       "  \"/>\n",
       "<polyline clip-path=\"url(#clip522)\" style=\"stroke:#3da44d; stroke-linecap:round; stroke-linejoin:round; stroke-width:8; stroke-opacity:1; fill:none\" points=\"\n",
       "  3199.74,2168.21 3199.74,-1013.24 \n",
       "  \"/>\n",
       "<polyline clip-path=\"url(#clip522)\" style=\"stroke:#3da44d; stroke-linecap:round; stroke-linejoin:round; stroke-width:8; stroke-opacity:1; fill:none\" points=\"\n",
       "  3360.2,2168.21 3360.2,-1013.24 \n",
       "  \"/>\n",
       "<path clip-path=\"url(#clip520)\" d=\"\n",
       "M3046.17 289.954 L3439.36 289.954 L3439.36 82.5936 L3046.17 82.5936  Z\n",
       "  \" fill=\"#ffffff\" fill-rule=\"evenodd\" fill-opacity=\"1\"/>\n",
       "<polyline clip-path=\"url(#clip520)\" style=\"stroke:#000000; stroke-linecap:round; stroke-linejoin:round; stroke-width:4; stroke-opacity:1; fill:none\" points=\"\n",
       "  3046.17,289.954 3439.36,289.954 3439.36,82.5936 3046.17,82.5936 3046.17,289.954 \n",
       "  \"/>\n",
       "<polyline clip-path=\"url(#clip520)\" style=\"stroke:#009af9; stroke-linecap:round; stroke-linejoin:round; stroke-width:4; stroke-opacity:1; fill:none\" points=\"\n",
       "  3083.97,134.434 3310.76,134.434 \n",
       "  \"/>\n",
       "<path clip-path=\"url(#clip520)\" d=\"M3362.4 154.121 Q3360.59 158.751 3358.88 160.163 Q3357.17 161.575 3354.3 161.575 L3350.89 161.575 L3350.89 158.01 L3353.39 158.01 Q3355.15 158.01 3356.13 157.176 Q3357.1 156.343 3358.28 153.241 L3359.04 151.297 L3348.56 125.788 L3353.07 125.788 L3361.17 146.065 L3369.27 125.788 L3373.79 125.788 L3362.4 154.121 Z\" fill=\"#000000\" fill-rule=\"evenodd\" fill-opacity=\"1\" /><path clip-path=\"url(#clip520)\" d=\"M3381.08 147.778 L3388.72 147.778 L3388.72 121.413 L3380.41 123.079 L3380.41 118.82 L3388.67 117.154 L3393.35 117.154 L3393.35 147.778 L3400.99 147.778 L3400.99 151.714 L3381.08 151.714 L3381.08 147.778 Z\" fill=\"#000000\" fill-rule=\"evenodd\" fill-opacity=\"1\" /><polyline clip-path=\"url(#clip520)\" style=\"stroke:#e26f46; stroke-linecap:round; stroke-linejoin:round; stroke-width:4; stroke-opacity:1; fill:none\" points=\"\n",
       "  3083.97,186.274 3310.76,186.274 \n",
       "  \"/>\n",
       "<path clip-path=\"url(#clip520)\" d=\"M3362.4 205.961 Q3360.59 210.591 3358.88 212.003 Q3357.17 213.415 3354.3 213.415 L3350.89 213.415 L3350.89 209.85 L3353.39 209.85 Q3355.15 209.85 3356.13 209.016 Q3357.1 208.183 3358.28 205.081 L3359.04 203.137 L3348.56 177.628 L3353.07 177.628 L3361.17 197.905 L3369.27 177.628 L3373.79 177.628 L3362.4 205.961 Z\" fill=\"#000000\" fill-rule=\"evenodd\" fill-opacity=\"1\" /><path clip-path=\"url(#clip520)\" d=\"M3384.3 199.618 L3400.62 199.618 L3400.62 203.554 L3378.67 203.554 L3378.67 199.618 Q3381.33 196.864 3385.92 192.234 Q3390.52 187.581 3391.7 186.239 Q3393.95 183.716 3394.83 181.98 Q3395.73 180.22 3395.73 178.531 Q3395.73 175.776 3393.79 174.04 Q3391.87 172.304 3388.76 172.304 Q3386.57 172.304 3384.11 173.068 Q3381.68 173.831 3378.9 175.382 L3378.9 170.66 Q3381.73 169.526 3384.18 168.947 Q3386.63 168.369 3388.67 168.369 Q3394.04 168.369 3397.24 171.054 Q3400.43 173.739 3400.43 178.23 Q3400.43 180.359 3399.62 182.281 Q3398.83 184.179 3396.73 186.771 Q3396.15 187.443 3393.05 190.66 Q3389.94 193.855 3384.3 199.618 Z\" fill=\"#000000\" fill-rule=\"evenodd\" fill-opacity=\"1\" /><polyline clip-path=\"url(#clip520)\" style=\"stroke:#3da44d; stroke-linecap:round; stroke-linejoin:round; stroke-width:8; stroke-opacity:1; fill:none\" points=\"\n",
       "  3083.97,238.114 3310.76,238.114 \n",
       "  \"/>\n",
       "<path clip-path=\"url(#clip520)\" d=\"M3362.4 257.801 Q3360.59 262.431 3358.88 263.843 Q3357.17 265.255 3354.3 265.255 L3350.89 265.255 L3350.89 261.69 L3353.39 261.69 Q3355.15 261.69 3356.13 260.856 Q3357.1 260.023 3358.28 256.921 L3359.04 254.977 L3348.56 229.468 L3353.07 229.468 L3361.17 249.745 L3369.27 229.468 L3373.79 229.468 L3362.4 257.801 Z\" fill=\"#000000\" fill-rule=\"evenodd\" fill-opacity=\"1\" /><path clip-path=\"url(#clip520)\" d=\"M3394.44 236.759 Q3397.79 237.477 3399.67 239.745 Q3401.56 242.014 3401.56 245.347 Q3401.56 250.463 3398.05 253.264 Q3394.53 256.065 3388.05 256.065 Q3385.87 256.065 3383.56 255.625 Q3381.26 255.208 3378.81 254.352 L3378.81 249.838 Q3380.75 250.972 3383.07 251.551 Q3385.38 252.13 3387.91 252.13 Q3392.31 252.13 3394.6 250.394 Q3396.91 248.657 3396.91 245.347 Q3396.91 242.292 3394.76 240.579 Q3392.63 238.843 3388.81 238.843 L3384.78 238.843 L3384.78 235 L3389 235 Q3392.44 235 3394.27 233.634 Q3396.1 232.246 3396.1 229.653 Q3396.1 226.991 3394.2 225.579 Q3392.33 224.144 3388.81 224.144 Q3386.89 224.144 3384.69 224.56 Q3382.49 224.977 3379.85 225.857 L3379.85 221.69 Q3382.51 220.949 3384.83 220.579 Q3387.17 220.209 3389.23 220.209 Q3394.55 220.209 3397.65 222.639 Q3400.75 225.046 3400.75 229.167 Q3400.75 232.037 3399.11 234.028 Q3397.47 235.996 3394.44 236.759 Z\" fill=\"#000000\" fill-rule=\"evenodd\" fill-opacity=\"1\" /></svg>\n"
      ]
     },
     "execution_count": 15,
     "metadata": {},
     "output_type": "execute_result"
    }
   ],
   "source": [
    "plot(idyom_ic[100:300])\n",
    "plot!(pitch_table.IC[100:300])\n",
    "phrases = findall(x->x==1,idyom_data[!,\"phrase\"][100:300]);\n",
    "vline!(phrases, lw = 2)\n",
    "plot!(size=(900,300))"
   ]
  },
  {
   "cell_type": "markdown",
   "metadata": {},
   "source": [
    "# Multiple Viewpoint Models"
   ]
  },
  {
   "cell_type": "code",
   "execution_count": 16,
   "metadata": {},
   "outputs": [
    {
     "data": {
      "image/svg+xml": [
       "<?xml version=\"1.0\" encoding=\"utf-8\"?>\n",
       "<svg xmlns=\"http://www.w3.org/2000/svg\" xmlns:xlink=\"http://www.w3.org/1999/xlink\" width=\"900\" height=\"300\" viewBox=\"0 0 3600 1200\">\n",
       "<defs>\n",
       "  <clipPath id=\"clip560\">\n",
       "    <rect x=\"0\" y=\"0\" width=\"3600\" height=\"1200\"/>\n",
       "  </clipPath>\n",
       "</defs>\n",
       "<path clip-path=\"url(#clip560)\" d=\"\n",
       "M0 1200 L3600 1200 L3600 0 L0 0  Z\n",
       "  \" fill=\"#ffffff\" fill-rule=\"evenodd\" fill-opacity=\"1\"/>\n",
       "<defs>\n",
       "  <clipPath id=\"clip561\">\n",
       "    <rect x=\"720\" y=\"0\" width=\"2521\" height=\"1200\"/>\n",
       "  </clipPath>\n",
       "</defs>\n",
       "<path clip-path=\"url(#clip560)\" d=\"\n",
       "M150.959 1107.73 L3552.76 1107.73 L3552.76 47.2441 L150.959 47.2441  Z\n",
       "  \" fill=\"#ffffff\" fill-rule=\"evenodd\" fill-opacity=\"1\"/>\n",
       "<defs>\n",
       "  <clipPath id=\"clip562\">\n",
       "    <rect x=\"150\" y=\"47\" width=\"3403\" height=\"1061\"/>\n",
       "  </clipPath>\n",
       "</defs>\n",
       "<polyline clip-path=\"url(#clip562)\" style=\"stroke:#000000; stroke-linecap:round; stroke-linejoin:round; stroke-width:2; stroke-opacity:0.1; fill:none\" points=\"\n",
       "  231.19,1107.73 231.19,47.2441 \n",
       "  \"/>\n",
       "<polyline clip-path=\"url(#clip562)\" style=\"stroke:#000000; stroke-linecap:round; stroke-linejoin:round; stroke-width:2; stroke-opacity:0.1; fill:none\" points=\"\n",
       "  1033.5,1107.73 1033.5,47.2441 \n",
       "  \"/>\n",
       "<polyline clip-path=\"url(#clip562)\" style=\"stroke:#000000; stroke-linecap:round; stroke-linejoin:round; stroke-width:2; stroke-opacity:0.1; fill:none\" points=\"\n",
       "  1835.81,1107.73 1835.81,47.2441 \n",
       "  \"/>\n",
       "<polyline clip-path=\"url(#clip562)\" style=\"stroke:#000000; stroke-linecap:round; stroke-linejoin:round; stroke-width:2; stroke-opacity:0.1; fill:none\" points=\"\n",
       "  2638.12,1107.73 2638.12,47.2441 \n",
       "  \"/>\n",
       "<polyline clip-path=\"url(#clip562)\" style=\"stroke:#000000; stroke-linecap:round; stroke-linejoin:round; stroke-width:2; stroke-opacity:0.1; fill:none\" points=\"\n",
       "  3440.43,1107.73 3440.43,47.2441 \n",
       "  \"/>\n",
       "<polyline clip-path=\"url(#clip560)\" style=\"stroke:#000000; stroke-linecap:round; stroke-linejoin:round; stroke-width:4; stroke-opacity:1; fill:none\" points=\"\n",
       "  150.959,1107.73 3552.76,1107.73 \n",
       "  \"/>\n",
       "<polyline clip-path=\"url(#clip560)\" style=\"stroke:#000000; stroke-linecap:round; stroke-linejoin:round; stroke-width:4; stroke-opacity:1; fill:none\" points=\"\n",
       "  231.19,1107.73 231.19,1088.83 \n",
       "  \"/>\n",
       "<polyline clip-path=\"url(#clip560)\" style=\"stroke:#000000; stroke-linecap:round; stroke-linejoin:round; stroke-width:4; stroke-opacity:1; fill:none\" points=\"\n",
       "  1033.5,1107.73 1033.5,1088.83 \n",
       "  \"/>\n",
       "<polyline clip-path=\"url(#clip560)\" style=\"stroke:#000000; stroke-linecap:round; stroke-linejoin:round; stroke-width:4; stroke-opacity:1; fill:none\" points=\"\n",
       "  1835.81,1107.73 1835.81,1088.83 \n",
       "  \"/>\n",
       "<polyline clip-path=\"url(#clip560)\" style=\"stroke:#000000; stroke-linecap:round; stroke-linejoin:round; stroke-width:4; stroke-opacity:1; fill:none\" points=\"\n",
       "  2638.12,1107.73 2638.12,1088.83 \n",
       "  \"/>\n",
       "<polyline clip-path=\"url(#clip560)\" style=\"stroke:#000000; stroke-linecap:round; stroke-linejoin:round; stroke-width:4; stroke-opacity:1; fill:none\" points=\"\n",
       "  3440.43,1107.73 3440.43,1088.83 \n",
       "  \"/>\n",
       "<path clip-path=\"url(#clip560)\" d=\"M231.19 1148.25 Q227.579 1148.25 225.751 1151.81 Q223.945 1155.35 223.945 1162.48 Q223.945 1169.59 225.751 1173.15 Q227.579 1176.7 231.19 1176.7 Q234.825 1176.7 236.63 1173.15 Q238.459 1169.59 238.459 1162.48 Q238.459 1155.35 236.63 1151.81 Q234.825 1148.25 231.19 1148.25 M231.19 1144.54 Q237.001 1144.54 240.056 1149.15 Q243.135 1153.73 243.135 1162.48 Q243.135 1171.21 240.056 1175.82 Q237.001 1180.4 231.19 1180.4 Q225.38 1180.4 222.302 1175.82 Q219.246 1171.21 219.246 1162.48 Q219.246 1153.73 222.302 1149.15 Q225.38 1144.54 231.19 1144.54 Z\" fill=\"#000000\" fill-rule=\"evenodd\" fill-opacity=\"1\" /><path clip-path=\"url(#clip560)\" d=\"M1008.2 1145.17 L1026.56 1145.17 L1026.56 1149.1 L1012.48 1149.1 L1012.48 1157.58 Q1013.5 1157.23 1014.52 1157.07 Q1015.54 1156.88 1016.56 1156.88 Q1022.34 1156.88 1025.72 1160.05 Q1029.1 1163.22 1029.1 1168.64 Q1029.1 1174.22 1025.63 1177.32 Q1022.16 1180.4 1015.84 1180.4 Q1013.66 1180.4 1011.39 1180.03 Q1009.15 1179.66 1006.74 1178.92 L1006.74 1174.22 Q1008.83 1175.35 1011.05 1175.91 Q1013.27 1176.46 1015.75 1176.46 Q1019.75 1176.46 1022.09 1174.36 Q1024.43 1172.25 1024.43 1168.64 Q1024.43 1165.03 1022.09 1162.92 Q1019.75 1160.82 1015.75 1160.82 Q1013.87 1160.82 1012 1161.23 Q1010.14 1161.65 1008.2 1162.53 L1008.2 1145.17 Z\" fill=\"#000000\" fill-rule=\"evenodd\" fill-opacity=\"1\" /><path clip-path=\"url(#clip560)\" d=\"M1048.32 1148.25 Q1044.7 1148.25 1042.88 1151.81 Q1041.07 1155.35 1041.07 1162.48 Q1041.07 1169.59 1042.88 1173.15 Q1044.7 1176.7 1048.32 1176.7 Q1051.95 1176.7 1053.76 1173.15 Q1055.58 1169.59 1055.58 1162.48 Q1055.58 1155.35 1053.76 1151.81 Q1051.95 1148.25 1048.32 1148.25 M1048.32 1144.54 Q1054.13 1144.54 1057.18 1149.15 Q1060.26 1153.73 1060.26 1162.48 Q1060.26 1171.21 1057.18 1175.82 Q1054.13 1180.4 1048.32 1180.4 Q1042.51 1180.4 1039.43 1175.82 Q1036.37 1171.21 1036.37 1162.48 Q1036.37 1153.73 1039.43 1149.15 Q1042.51 1144.54 1048.32 1144.54 Z\" fill=\"#000000\" fill-rule=\"evenodd\" fill-opacity=\"1\" /><path clip-path=\"url(#clip560)\" d=\"M1795.42 1175.79 L1803.06 1175.79 L1803.06 1149.43 L1794.75 1151.09 L1794.75 1146.83 L1803.01 1145.17 L1807.69 1145.17 L1807.69 1175.79 L1815.33 1175.79 L1815.33 1179.73 L1795.42 1179.73 L1795.42 1175.79 Z\" fill=\"#000000\" fill-rule=\"evenodd\" fill-opacity=\"1\" /><path clip-path=\"url(#clip560)\" d=\"M1834.77 1148.25 Q1831.16 1148.25 1829.33 1151.81 Q1827.52 1155.35 1827.52 1162.48 Q1827.52 1169.59 1829.33 1173.15 Q1831.16 1176.7 1834.77 1176.7 Q1838.4 1176.7 1840.21 1173.15 Q1842.04 1169.59 1842.04 1162.48 Q1842.04 1155.35 1840.21 1151.81 Q1838.4 1148.25 1834.77 1148.25 M1834.77 1144.54 Q1840.58 1144.54 1843.64 1149.15 Q1846.71 1153.73 1846.71 1162.48 Q1846.71 1171.21 1843.64 1175.82 Q1840.58 1180.4 1834.77 1180.4 Q1828.96 1180.4 1825.88 1175.82 Q1822.83 1171.21 1822.83 1162.48 Q1822.83 1153.73 1825.88 1149.15 Q1828.96 1144.54 1834.77 1144.54 Z\" fill=\"#000000\" fill-rule=\"evenodd\" fill-opacity=\"1\" /><path clip-path=\"url(#clip560)\" d=\"M1864.93 1148.25 Q1861.32 1148.25 1859.49 1151.81 Q1857.69 1155.35 1857.69 1162.48 Q1857.69 1169.59 1859.49 1173.15 Q1861.32 1176.7 1864.93 1176.7 Q1868.57 1176.7 1870.37 1173.15 Q1872.2 1169.59 1872.2 1162.48 Q1872.2 1155.35 1870.37 1151.81 Q1868.57 1148.25 1864.93 1148.25 M1864.93 1144.54 Q1870.74 1144.54 1873.8 1149.15 Q1876.88 1153.73 1876.88 1162.48 Q1876.88 1171.21 1873.8 1175.82 Q1870.74 1180.4 1864.93 1180.4 Q1859.12 1180.4 1856.04 1175.82 Q1852.99 1171.21 1852.99 1162.48 Q1852.99 1153.73 1856.04 1149.15 Q1859.12 1144.54 1864.93 1144.54 Z\" fill=\"#000000\" fill-rule=\"evenodd\" fill-opacity=\"1\" /><path clip-path=\"url(#clip560)\" d=\"M2597.73 1175.79 L2605.37 1175.79 L2605.37 1149.43 L2597.06 1151.09 L2597.06 1146.83 L2605.32 1145.17 L2610 1145.17 L2610 1175.79 L2617.64 1175.79 L2617.64 1179.73 L2597.73 1179.73 L2597.73 1175.79 Z\" fill=\"#000000\" fill-rule=\"evenodd\" fill-opacity=\"1\" /><path clip-path=\"url(#clip560)\" d=\"M2627.13 1145.17 L2645.48 1145.17 L2645.48 1149.1 L2631.41 1149.1 L2631.41 1157.58 Q2632.43 1157.23 2633.45 1157.07 Q2634.46 1156.88 2635.48 1156.88 Q2641.27 1156.88 2644.65 1160.05 Q2648.03 1163.22 2648.03 1168.64 Q2648.03 1174.22 2644.56 1177.32 Q2641.08 1180.4 2634.77 1180.4 Q2632.59 1180.4 2630.32 1180.03 Q2628.08 1179.66 2625.67 1178.92 L2625.67 1174.22 Q2627.75 1175.35 2629.97 1175.91 Q2632.2 1176.46 2634.67 1176.46 Q2638.68 1176.46 2641.02 1174.36 Q2643.35 1172.25 2643.35 1168.64 Q2643.35 1165.03 2641.02 1162.92 Q2638.68 1160.82 2634.67 1160.82 Q2632.8 1160.82 2630.92 1161.23 Q2629.07 1161.65 2627.13 1162.53 L2627.13 1145.17 Z\" fill=\"#000000\" fill-rule=\"evenodd\" fill-opacity=\"1\" /><path clip-path=\"url(#clip560)\" d=\"M2667.24 1148.25 Q2663.63 1148.25 2661.8 1151.81 Q2660 1155.35 2660 1162.48 Q2660 1169.59 2661.8 1173.15 Q2663.63 1176.7 2667.24 1176.7 Q2670.88 1176.7 2672.68 1173.15 Q2674.51 1169.59 2674.51 1162.48 Q2674.51 1155.35 2672.68 1151.81 Q2670.88 1148.25 2667.24 1148.25 M2667.24 1144.54 Q2673.05 1144.54 2676.11 1149.15 Q2679.19 1153.73 2679.19 1162.48 Q2679.19 1171.21 2676.11 1175.82 Q2673.05 1180.4 2667.24 1180.4 Q2661.43 1180.4 2658.35 1175.82 Q2655.3 1171.21 2655.3 1162.48 Q2655.3 1153.73 2658.35 1149.15 Q2661.43 1144.54 2667.24 1144.54 Z\" fill=\"#000000\" fill-rule=\"evenodd\" fill-opacity=\"1\" /><path clip-path=\"url(#clip560)\" d=\"M3404.12 1175.79 L3420.44 1175.79 L3420.44 1179.73 L3398.5 1179.73 L3398.5 1175.79 Q3401.16 1173.04 3405.75 1168.41 Q3410.35 1163.76 3411.53 1162.41 Q3413.78 1159.89 3414.66 1158.15 Q3415.56 1156.39 3415.56 1154.7 Q3415.56 1151.95 3413.62 1150.21 Q3411.69 1148.48 3408.59 1148.48 Q3406.39 1148.48 3403.94 1149.24 Q3401.51 1150.01 3398.73 1151.56 L3398.73 1146.83 Q3401.56 1145.7 3404.01 1145.12 Q3406.46 1144.54 3408.5 1144.54 Q3413.87 1144.54 3417.06 1147.23 Q3420.26 1149.91 3420.26 1154.4 Q3420.26 1156.53 3419.45 1158.45 Q3418.66 1160.35 3416.56 1162.95 Q3415.98 1163.62 3412.87 1166.83 Q3409.77 1170.03 3404.12 1175.79 Z\" fill=\"#000000\" fill-rule=\"evenodd\" fill-opacity=\"1\" /><path clip-path=\"url(#clip560)\" d=\"M3440.26 1148.25 Q3436.65 1148.25 3434.82 1151.81 Q3433.01 1155.35 3433.01 1162.48 Q3433.01 1169.59 3434.82 1173.15 Q3436.65 1176.7 3440.26 1176.7 Q3443.89 1176.7 3445.7 1173.15 Q3447.53 1169.59 3447.53 1162.48 Q3447.53 1155.35 3445.7 1151.81 Q3443.89 1148.25 3440.26 1148.25 M3440.26 1144.54 Q3446.07 1144.54 3449.12 1149.15 Q3452.2 1153.73 3452.2 1162.48 Q3452.2 1171.21 3449.12 1175.82 Q3446.07 1180.4 3440.26 1180.4 Q3434.45 1180.4 3431.37 1175.82 Q3428.31 1171.21 3428.31 1162.48 Q3428.31 1153.73 3431.37 1149.15 Q3434.45 1144.54 3440.26 1144.54 Z\" fill=\"#000000\" fill-rule=\"evenodd\" fill-opacity=\"1\" /><path clip-path=\"url(#clip560)\" d=\"M3470.42 1148.25 Q3466.81 1148.25 3464.98 1151.81 Q3463.18 1155.35 3463.18 1162.48 Q3463.18 1169.59 3464.98 1173.15 Q3466.81 1176.7 3470.42 1176.7 Q3474.05 1176.7 3475.86 1173.15 Q3477.69 1169.59 3477.69 1162.48 Q3477.69 1155.35 3475.86 1151.81 Q3474.05 1148.25 3470.42 1148.25 M3470.42 1144.54 Q3476.23 1144.54 3479.29 1149.15 Q3482.37 1153.73 3482.37 1162.48 Q3482.37 1171.21 3479.29 1175.82 Q3476.23 1180.4 3470.42 1180.4 Q3464.61 1180.4 3461.53 1175.82 Q3458.48 1171.21 3458.48 1162.48 Q3458.48 1153.73 3461.53 1149.15 Q3464.61 1144.54 3470.42 1144.54 Z\" fill=\"#000000\" fill-rule=\"evenodd\" fill-opacity=\"1\" /><polyline clip-path=\"url(#clip562)\" style=\"stroke:#000000; stroke-linecap:round; stroke-linejoin:round; stroke-width:2; stroke-opacity:0.1; fill:none\" points=\"\n",
       "  150.959,1077.73 3552.76,1077.73 \n",
       "  \"/>\n",
       "<polyline clip-path=\"url(#clip562)\" style=\"stroke:#000000; stroke-linecap:round; stroke-linejoin:round; stroke-width:2; stroke-opacity:0.1; fill:none\" points=\"\n",
       "  150.959,917.551 3552.76,917.551 \n",
       "  \"/>\n",
       "<polyline clip-path=\"url(#clip562)\" style=\"stroke:#000000; stroke-linecap:round; stroke-linejoin:round; stroke-width:2; stroke-opacity:0.1; fill:none\" points=\"\n",
       "  150.959,757.375 3552.76,757.375 \n",
       "  \"/>\n",
       "<polyline clip-path=\"url(#clip562)\" style=\"stroke:#000000; stroke-linecap:round; stroke-linejoin:round; stroke-width:2; stroke-opacity:0.1; fill:none\" points=\"\n",
       "  150.959,597.198 3552.76,597.198 \n",
       "  \"/>\n",
       "<polyline clip-path=\"url(#clip562)\" style=\"stroke:#000000; stroke-linecap:round; stroke-linejoin:round; stroke-width:2; stroke-opacity:0.1; fill:none\" points=\"\n",
       "  150.959,437.021 3552.76,437.021 \n",
       "  \"/>\n",
       "<polyline clip-path=\"url(#clip562)\" style=\"stroke:#000000; stroke-linecap:round; stroke-linejoin:round; stroke-width:2; stroke-opacity:0.1; fill:none\" points=\"\n",
       "  150.959,276.845 3552.76,276.845 \n",
       "  \"/>\n",
       "<polyline clip-path=\"url(#clip562)\" style=\"stroke:#000000; stroke-linecap:round; stroke-linejoin:round; stroke-width:2; stroke-opacity:0.1; fill:none\" points=\"\n",
       "  150.959,116.668 3552.76,116.668 \n",
       "  \"/>\n",
       "<polyline clip-path=\"url(#clip560)\" style=\"stroke:#000000; stroke-linecap:round; stroke-linejoin:round; stroke-width:4; stroke-opacity:1; fill:none\" points=\"\n",
       "  150.959,1107.73 150.959,47.2441 \n",
       "  \"/>\n",
       "<polyline clip-path=\"url(#clip560)\" style=\"stroke:#000000; stroke-linecap:round; stroke-linejoin:round; stroke-width:4; stroke-opacity:1; fill:none\" points=\"\n",
       "  150.959,1077.73 169.857,1077.73 \n",
       "  \"/>\n",
       "<polyline clip-path=\"url(#clip560)\" style=\"stroke:#000000; stroke-linecap:round; stroke-linejoin:round; stroke-width:4; stroke-opacity:1; fill:none\" points=\"\n",
       "  150.959,917.551 169.857,917.551 \n",
       "  \"/>\n",
       "<polyline clip-path=\"url(#clip560)\" style=\"stroke:#000000; stroke-linecap:round; stroke-linejoin:round; stroke-width:4; stroke-opacity:1; fill:none\" points=\"\n",
       "  150.959,757.375 169.857,757.375 \n",
       "  \"/>\n",
       "<polyline clip-path=\"url(#clip560)\" style=\"stroke:#000000; stroke-linecap:round; stroke-linejoin:round; stroke-width:4; stroke-opacity:1; fill:none\" points=\"\n",
       "  150.959,597.198 169.857,597.198 \n",
       "  \"/>\n",
       "<polyline clip-path=\"url(#clip560)\" style=\"stroke:#000000; stroke-linecap:round; stroke-linejoin:round; stroke-width:4; stroke-opacity:1; fill:none\" points=\"\n",
       "  150.959,437.021 169.857,437.021 \n",
       "  \"/>\n",
       "<polyline clip-path=\"url(#clip560)\" style=\"stroke:#000000; stroke-linecap:round; stroke-linejoin:round; stroke-width:4; stroke-opacity:1; fill:none\" points=\"\n",
       "  150.959,276.845 169.857,276.845 \n",
       "  \"/>\n",
       "<polyline clip-path=\"url(#clip560)\" style=\"stroke:#000000; stroke-linecap:round; stroke-linejoin:round; stroke-width:4; stroke-opacity:1; fill:none\" points=\"\n",
       "  150.959,116.668 169.857,116.668 \n",
       "  \"/>\n",
       "<path clip-path=\"url(#clip560)\" d=\"M85.0151 1063.53 Q81.404 1063.53 79.5753 1067.09 Q77.7697 1070.63 77.7697 1077.76 Q77.7697 1084.87 79.5753 1088.43 Q81.404 1091.98 85.0151 1091.98 Q88.6493 1091.98 90.4548 1088.43 Q92.2835 1084.87 92.2835 1077.76 Q92.2835 1070.63 90.4548 1067.09 Q88.6493 1063.53 85.0151 1063.53 M85.0151 1059.82 Q90.8252 1059.82 93.8808 1064.43 Q96.9594 1069.01 96.9594 1077.76 Q96.9594 1086.49 93.8808 1091.1 Q90.8252 1095.68 85.0151 1095.68 Q79.2049 1095.68 76.1262 1091.1 Q73.0707 1086.49 73.0707 1077.76 Q73.0707 1069.01 76.1262 1064.43 Q79.2049 1059.82 85.0151 1059.82 Z\" fill=\"#000000\" fill-rule=\"evenodd\" fill-opacity=\"1\" /><path clip-path=\"url(#clip560)\" d=\"M80.6401 930.896 L96.9594 930.896 L96.9594 934.831 L75.0151 934.831 L75.0151 930.896 Q77.6771 928.142 82.2604 923.512 Q86.8669 918.859 88.0475 917.517 Q90.2928 914.994 91.1724 913.257 Q92.0752 911.498 92.0752 909.808 Q92.0752 907.054 90.1308 905.318 Q88.2095 903.582 85.1077 903.582 Q82.9086 903.582 80.4549 904.345 Q78.0244 905.109 75.2466 906.66 L75.2466 901.938 Q78.0707 900.804 80.5243 900.225 Q82.978 899.646 85.0151 899.646 Q90.3854 899.646 93.5798 902.332 Q96.7743 905.017 96.7743 909.507 Q96.7743 911.637 95.9641 913.558 Q95.177 915.457 93.0706 918.049 Q92.4919 918.72 89.39 921.938 Q86.2882 925.132 80.6401 930.896 Z\" fill=\"#000000\" fill-rule=\"evenodd\" fill-opacity=\"1\" /><path clip-path=\"url(#clip560)\" d=\"M87.3762 744.169 L75.5707 762.618 L87.3762 762.618 L87.3762 744.169 M86.1493 740.095 L92.0289 740.095 L92.0289 762.618 L96.9594 762.618 L96.9594 766.507 L92.0289 766.507 L92.0289 774.655 L87.3762 774.655 L87.3762 766.507 L71.7744 766.507 L71.7744 761.993 L86.1493 740.095 Z\" fill=\"#000000\" fill-rule=\"evenodd\" fill-opacity=\"1\" /><path clip-path=\"url(#clip560)\" d=\"M85.4317 595.335 Q82.2836 595.335 80.4318 597.487 Q78.6031 599.64 78.6031 603.39 Q78.6031 607.117 80.4318 609.293 Q82.2836 611.446 85.4317 611.446 Q88.5799 611.446 90.4085 609.293 Q92.2604 607.117 92.2604 603.39 Q92.2604 599.64 90.4085 597.487 Q88.5799 595.335 85.4317 595.335 M94.7141 580.682 L94.7141 584.941 Q92.9548 584.108 91.1493 583.668 Q89.3669 583.228 87.6076 583.228 Q82.978 583.228 80.5243 586.353 Q78.0938 589.478 77.7466 595.798 Q79.1123 593.784 81.1725 592.719 Q83.2327 591.631 85.7095 591.631 Q90.9178 591.631 93.927 594.802 Q96.9594 597.95 96.9594 603.39 Q96.9594 608.714 93.8113 611.932 Q90.6632 615.149 85.4317 615.149 Q79.4364 615.149 76.2651 610.566 Q73.0938 605.96 73.0938 597.233 Q73.0938 589.038 76.9827 584.177 Q80.8716 579.293 87.4225 579.293 Q89.1817 579.293 90.9641 579.64 Q92.7696 579.988 94.7141 580.682 Z\" fill=\"#000000\" fill-rule=\"evenodd\" fill-opacity=\"1\" /><path clip-path=\"url(#clip560)\" d=\"M85.1077 437.89 Q81.7743 437.89 79.8531 439.672 Q77.9549 441.454 77.9549 444.579 Q77.9549 447.704 79.8531 449.487 Q81.7743 451.269 85.1077 451.269 Q88.441 451.269 90.3623 449.487 Q92.2835 447.681 92.2835 444.579 Q92.2835 441.454 90.3623 439.672 Q88.4641 437.89 85.1077 437.89 M80.4318 435.899 Q77.4225 435.158 75.7327 433.098 Q74.066 431.038 74.066 428.075 Q74.066 423.931 77.0058 421.524 Q79.9688 419.116 85.1077 419.116 Q90.2697 419.116 93.2095 421.524 Q96.1493 423.931 96.1493 428.075 Q96.1493 431.038 94.4595 433.098 Q92.7928 435.158 89.8067 435.899 Q93.1863 436.686 95.0613 438.977 Q96.9594 441.269 96.9594 444.579 Q96.9594 449.602 93.8808 452.288 Q90.8252 454.973 85.1077 454.973 Q79.3901 454.973 76.3114 452.288 Q73.2559 449.602 73.2559 444.579 Q73.2559 441.269 75.154 438.977 Q77.0521 436.686 80.4318 435.899 M78.7188 428.515 Q78.7188 431.2 80.3855 432.704 Q82.0753 434.209 85.1077 434.209 Q88.1169 434.209 89.8067 432.704 Q91.5197 431.2 91.5197 428.515 Q91.5197 425.829 89.8067 424.325 Q88.1169 422.82 85.1077 422.82 Q82.0753 422.82 80.3855 424.325 Q78.7188 425.829 78.7188 428.515 Z\" fill=\"#000000\" fill-rule=\"evenodd\" fill-opacity=\"1\" /><path clip-path=\"url(#clip560)\" d=\"M45.6634 290.19 L53.3023 290.19 L53.3023 263.824 L44.9921 265.491 L44.9921 261.231 L53.256 259.565 L57.9319 259.565 L57.9319 290.19 L65.5707 290.19 L65.5707 294.125 L45.6634 294.125 L45.6634 290.19 Z\" fill=\"#000000\" fill-rule=\"evenodd\" fill-opacity=\"1\" /><path clip-path=\"url(#clip560)\" d=\"M85.0151 262.643 Q81.404 262.643 79.5753 266.208 Q77.7697 269.75 77.7697 276.88 Q77.7697 283.986 79.5753 287.551 Q81.404 291.092 85.0151 291.092 Q88.6493 291.092 90.4548 287.551 Q92.2835 283.986 92.2835 276.88 Q92.2835 269.75 90.4548 266.208 Q88.6493 262.643 85.0151 262.643 M85.0151 258.94 Q90.8252 258.94 93.8808 263.546 Q96.9594 268.13 96.9594 276.88 Q96.9594 285.606 93.8808 290.213 Q90.8252 294.796 85.0151 294.796 Q79.2049 294.796 76.1262 290.213 Q73.0707 285.606 73.0707 276.88 Q73.0707 268.13 76.1262 263.546 Q79.2049 258.94 85.0151 258.94 Z\" fill=\"#000000\" fill-rule=\"evenodd\" fill-opacity=\"1\" /><path clip-path=\"url(#clip560)\" d=\"M47.2606 130.013 L54.8995 130.013 L54.8995 103.647 L46.5893 105.314 L46.5893 101.055 L54.8532 99.3882 L59.5291 99.3882 L59.5291 130.013 L67.1679 130.013 L67.1679 133.948 L47.2606 133.948 L47.2606 130.013 Z\" fill=\"#000000\" fill-rule=\"evenodd\" fill-opacity=\"1\" /><path clip-path=\"url(#clip560)\" d=\"M80.6401 130.013 L96.9594 130.013 L96.9594 133.948 L75.0151 133.948 L75.0151 130.013 Q77.6771 127.258 82.2604 122.629 Q86.8669 117.976 88.0475 116.633 Q90.2928 114.11 91.1724 112.374 Q92.0752 110.615 92.0752 108.925 Q92.0752 106.171 90.1308 104.434 Q88.2095 102.698 85.1077 102.698 Q82.9086 102.698 80.4549 103.462 Q78.0244 104.226 75.2466 105.777 L75.2466 101.055 Q78.0707 99.9206 80.5243 99.3419 Q82.978 98.7632 85.0151 98.7632 Q90.3854 98.7632 93.5798 101.448 Q96.7743 104.133 96.7743 108.624 Q96.7743 110.754 95.9641 112.675 Q95.177 114.573 93.0706 117.166 Q92.4919 117.837 89.39 121.055 Q86.2882 124.249 80.6401 130.013 Z\" fill=\"#000000\" fill-rule=\"evenodd\" fill-opacity=\"1\" /><polyline clip-path=\"url(#clip562)\" style=\"stroke:#009af9; stroke-linecap:round; stroke-linejoin:round; stroke-width:4; stroke-opacity:1; fill:none\" points=\"\n",
       "  247.237,1041.75 263.283,1068.84 279.329,1045.74 295.375,1070.04 311.422,1058.05 327.468,1043.64 343.514,1037.63 359.56,1074.65 375.606,1076.19 391.653,1055.77 \n",
       "  407.699,1077.18 423.745,1077.26 439.791,1059.89 455.837,1061.28 471.884,1077.38 487.93,1077.42 503.976,1069.53 520.022,1048.7 536.068,1054.98 552.115,1045.86 \n",
       "  568.161,1073.65 584.207,1063.35 600.253,1064.85 616.3,1072.99 632.346,1038.29 648.392,1071.37 664.438,1042.67 680.484,1049.4 696.531,1041.66 712.577,1054.75 \n",
       "  728.623,1044.61 744.669,1077.71 760.715,1075.92 776.762,1076.16 792.808,1073.53 808.854,1063.12 824.9,1048.81 840.946,1070.93 856.993,1052.48 873.039,1043.78 \n",
       "  889.085,1074.65 905.131,1036.14 921.178,1076.19 937.224,1049.24 953.27,1076.88 969.316,1077.32 985.362,1057.12 1001.41,1064.44 1017.45,1060.74 1033.5,1077.54 \n",
       "  1049.55,1070.24 1065.59,1077.5 1081.64,1073.22 1097.69,1071.65 1113.73,1069.22 1129.78,1070.66 1145.82,1069.93 1161.87,1066.36 1177.92,1048.06 1193.96,1046.1 \n",
       "  1210.01,1046.67 1226.06,1072.94 1242.1,1077.58 1258.15,1070.57 1274.19,1077.67 1290.24,1075.28 1306.29,1068.92 1322.33,1066.58 1338.38,1066.38 1354.43,1037.54 \n",
       "  1370.47,1062.16 1386.52,1050.57 1402.56,1043.43 1418.61,1043.04 1434.66,1037.93 1450.7,1074.08 1466.75,1062.07 1482.79,1064.02 1498.84,1068.89 1514.89,1077.71 \n",
       "  1530.93,1076.56 1546.98,1071.45 1563.03,1077.16 1579.07,1076.18 1595.12,1073.49 1611.16,1035.45 1627.21,1038.33 1643.26,1076.86 1659.3,1053.26 1675.35,1046.01 \n",
       "  1691.4,1032.54 1707.44,1032.32 1723.49,1052.31 1739.53,1048.5 1755.58,1044.36 1771.63,1055.06 1787.67,1052.62 1803.72,1057.14 1819.77,1052.23 1835.81,1065.27 \n",
       "  1851.86,1061.92 1867.9,1074.65 1883.95,1036.14 1900,1076.19 1916.04,1043.27 1932.09,1077.26 1948.13,1077.18 1964.18,1069.11 1980.23,1077.49 1996.27,1067.46 \n",
       "  2012.32,1057.76 2028.37,1031.61 2044.41,1077.57 2060.46,1073.65 2076.5,1054.08 2092.55,1050.09 2108.6,1070.41 2124.64,1062.73 2140.69,1075.94 2156.74,1065.72 \n",
       "  2172.78,1062.68 2188.83,1065.76 2204.87,1054.21 2220.92,1069.71 2236.97,1055.93 2253.01,1062.24 2269.06,1053.49 2285.11,1068.8 2301.15,1056.6 2317.2,1065.03 \n",
       "  2333.24,1062.7 2349.29,1077.67 2365.34,1066.22 2381.38,1060.61 2397.43,1073.9 2413.48,1069.25 2429.52,1050.1 2445.57,1074.65 2461.61,1076.19 2477.66,1039.88 \n",
       "  2493.71,1024.16 2509.75,1020.39 2525.8,1077.33 2541.84,1077.34 2557.89,1069.63 2573.94,1043.96 2589.98,1077.39 2606.03,1048.25 2622.08,1066.33 2638.12,1077.44 \n",
       "  2654.17,1063.96 2670.21,1043.83 2686.26,1047.77 2702.31,1077.55 2718.35,1047.91 2734.4,1069.66 2750.45,1064.14 2766.49,1069.32 2782.54,1044.86 2798.58,1057.75 \n",
       "  2814.63,1073.87 2830.68,1040.22 2846.72,1063.99 2862.77,1064.57 2878.82,1022.64 2894.86,1075.58 2910.91,1055.02 2926.95,1037.58 2943,1052.97 2959.05,1028.38 \n",
       "  2975.09,1034.81 2991.14,1030.66 3007.18,1028.05 3023.23,1038.57 3039.28,1036.07 3055.32,1074.65 3071.37,1076.19 3087.42,1076.88 3103.46,1044.18 3119.51,1077.19 \n",
       "  3135.55,1043.09 3151.6,1077.54 3167.65,1069.57 3183.69,1059 3199.74,1071.31 3215.79,1039.29 3231.83,1077.63 3247.88,1077.44 3263.92,1077.51 3279.97,1073.5 \n",
       "  3296.02,1043.95 3312.06,1077.64 3328.11,1072.44 3344.16,1050.24 3360.2,1054.19 3376.25,1032.12 3392.29,1036.25 3408.34,1071.31 3424.39,1059.57 3440.43,1076.21 \n",
       "  3456.48,1051.58 \n",
       "  \"/>\n",
       "<polyline clip-path=\"url(#clip562)\" style=\"stroke:#e26f46; stroke-linecap:round; stroke-linejoin:round; stroke-width:4; stroke-opacity:1; fill:none\" points=\"\n",
       "  247.237,985.264 263.283,823.693 279.329,971.681 295.375,806.946 311.422,915.559 327.468,979.042 343.514,997.793 359.56,701.278 375.606,621.189 391.653,928.239 \n",
       "  407.699,501.228 423.745,483.141 439.791,904.22 455.837,894.849 471.884,448.906 487.93,433.774 503.976,814.337 520.022,960.458 536.068,932.296 552.115,971.268 \n",
       "  568.161,733.557 584.207,879.309 600.253,866.545 616.3,750.924 632.346,995.874 648.392,785.041 664.438,982.279 680.484,957.655 696.531,985.557 712.577,933.457 \n",
       "  728.623,975.707 744.669,118.249 760.715,639.959 776.762,623.385 792.808,737.139 808.854,881.123 824.9,960.024 840.946,792.748 856.993,944.347 873.039,978.546 \n",
       "  889.085,701.278 905.131,1002 921.178,621.189 937.224,958.279 953.27,551.788 969.316,468.933 985.362,920.86 1001.41,870.19 1017.45,898.548 1033.5,380.647 \n",
       "  1049.55,803.91 1065.59,402.216 1081.64,745.379 1097.69,779.831 1113.73,818.639 1129.78,797.256 1145.82,808.548 1161.87,852.111 1177.92,962.979 1193.96,970.394 \n",
       "  1210.01,968.288 1226.06,752.329 1242.1,351.797 1258.15,798.697 1274.19,236.34 1290.24,674.937 1306.29,822.716 1322.33,849.933 1338.38,851.928 1354.43,998.047 \n",
       "  1370.47,888.475 1386.52,952.774 1402.56,979.742 1418.61,981.04 1434.66,996.939 1450.7,720.966 1466.75,889.168 1482.79,873.797 1498.84,823.127 1514.89,77.2578 \n",
       "  1530.93,589.228 1546.98,783.597 1563.03,504.968 1579.07,622.04 1595.12,738.216 1611.16,1003.91 1627.21,995.76 1643.26,555.122 1659.3,940.703 1675.35,970.718 \n",
       "  1691.4,1011.61 1707.44,1012.17 1723.49,945.105 1739.53,961.253 1755.58,976.574 1771.63,931.901 1787.67,943.699 1803.72,920.749 1819.77,945.498 1835.81,862.703 \n",
       "  1851.86,890.216 1867.9,701.278 1883.95,1002 1900,621.189 1916.04,980.294 1932.09,482.67 1948.13,501.907 1964.18,820.201 1980.23,405.565 1996.27,840.339 \n",
       "  2012.32,917.237 2028.37,1013.95 2044.41,356.35 2060.46,733.646 2076.5,936.804 2092.55,954.788 2108.6,801.188 2124.64,884.174 2140.69,638.686 2156.74,858.479 \n",
       "  2172.78,884.574 2188.83,858.091 2204.87,936.132 2220.92,811.883 2236.97,927.372 2253.01,887.865 2269.06,939.631 2285.11,824.294 2301.15,923.766 2317.2,864.939 \n",
       "  2333.24,884.38 2349.29,232.51 2365.34,853.605 2381.38,899.457 2397.43,726.497 2413.48,818.269 2429.52,954.77 2445.57,701.278 2461.61,621.189 2477.66,991.138 \n",
       "  2493.71,1031.26 2509.75,1039.11 2525.8,464.968 2541.84,461.329 2557.89,812.938 2573.94,977.96 2589.98,444.932 2606.03,962.228 2622.08,852.423 2638.12,427.632 \n",
       "  2654.17,874.279 2670.21,978.395 2686.26,964.113 2702.31,373.066 2718.35,963.588 2734.4,812.492 2750.45,872.768 2766.49,817.294 2782.54,974.812 2798.58,917.302 \n",
       "  2814.63,727.271 2830.68,990.085 2846.72,874.001 2862.77,869.025 2878.82,1034.49 2894.86,659.702 2910.91,932.114 2926.95,997.933 2943,942.103 2959.05,1021.78 \n",
       "  2975.09,1005.64 2991.14,1016.3 3007.18,1022.55 3023.23,995.055 3039.28,1002.21 3055.32,701.278 3071.37,621.189 3087.42,551.788 3103.46,977.2 3119.51,498.94 \n",
       "  3135.55,980.875 3151.6,378.501 3167.65,813.881 3183.69,909.812 3199.74,786.027 3215.79,992.901 3231.83,304.905 3247.88,427.496 3263.92,392.798 3279.97,737.887 \n",
       "  3296.02,977.964 3312.06,293.962 3328.11,763.772 3344.16,954.176 3360.2,936.243 3376.25,1012.68 3392.29,1001.7 3408.34,786.07 3424.39,906.234 3440.43,619.545 \n",
       "  3456.48,948.38 \n",
       "  \"/>\n",
       "<polyline clip-path=\"url(#clip562)\" style=\"stroke:#3da44d; stroke-linecap:round; stroke-linejoin:round; stroke-width:4; stroke-opacity:1; fill:none\" points=\"\n",
       "  247.237,874.364 263.283,847.481 279.329,873.316 295.375,852.957 311.422,874.41 327.468,883.378 343.514,891.98 359.56,701.278 375.606,818.918 391.653,862.675 \n",
       "  407.699,899.488 423.745,881.059 439.791,871.054 455.837,885.093 471.884,885.762 487.93,859.901 503.976,833.328 520.022,878.178 536.068,862.437 552.115,881.487 \n",
       "  568.161,897.934 584.207,869.652 600.253,917.594 616.3,916.763 632.346,909.624 648.392,915.8 664.438,899.246 680.484,903.669 696.531,903.837 712.577,902.036 \n",
       "  728.623,903.576 744.669,941.247 760.715,877.857 776.762,897.126 792.808,864.678 808.854,865.504 824.9,893.669 840.946,908.805 856.993,881.321 873.039,878.324 \n",
       "  889.085,701.278 905.131,818.918 921.178,818.918 937.224,876.595 953.27,862.675 969.316,890.153 985.362,870.528 1001.41,915.235 1017.45,884.928 1033.5,902.974 \n",
       "  1049.55,857.919 1065.59,871.763 1081.64,854.526 1097.69,858.426 1113.73,863.771 1129.78,866.562 1145.82,871.737 1161.87,868.204 1177.92,891.392 1193.96,892.37 \n",
       "  1210.01,893.188 1226.06,877.043 1242.1,850.062 1258.15,855.33 1274.19,882.417 1290.24,848.956 1306.29,864.562 1322.33,856.019 1338.38,891.714 1354.43,898.748 \n",
       "  1370.47,891.043 1386.52,887.967 1402.56,901.411 1418.61,896.715 1434.66,914.296 1450.7,882.851 1466.75,858.111 1482.79,868.823 1498.84,889.616 1514.89,887.298 \n",
       "  1530.93,852.564 1546.98,870.182 1563.03,876.193 1579.07,887.452 1595.12,845.331 1611.16,903.424 1627.21,903.342 1643.26,895.396 1659.3,880.616 1675.35,888.671 \n",
       "  1691.4,911.932 1707.44,920.677 1723.49,874.196 1739.53,887.445 1755.58,897.756 1771.63,901.68 1787.67,868.275 1803.72,861.417 1819.77,862.666 1835.81,868.007 \n",
       "  1851.86,852.366 1867.9,701.278 1883.95,818.918 1900,818.918 1916.04,876.595 1932.09,924.363 1948.13,867.427 1964.18,869.73 1980.23,886.8 1996.27,861.888 \n",
       "  2012.32,881.109 2028.37,905.19 2044.41,907.877 2060.46,855.545 2076.5,879.955 2092.55,887.92 2108.6,895.903 2124.64,894.135 2140.69,912.706 2156.74,864.96 \n",
       "  2172.78,853.733 2188.83,856.17 2204.87,868.391 2220.92,884.055 2236.97,886.775 2253.01,901.968 2269.06,897.084 2285.11,933.015 2301.15,891.917 2317.2,914.004 \n",
       "  2333.24,900.873 2349.29,874.342 2365.34,875.18 2381.38,872.886 2397.43,910.67 2413.48,864.176 2429.52,875.932 2445.57,701.278 2461.61,818.918 2477.66,862.675 \n",
       "  2493.71,919.509 2509.75,935.976 2525.8,949.168 2541.84,904.38 2557.89,881.245 2573.94,861.531 2589.98,891.577 2606.03,846.604 2622.08,875.361 2638.12,878.671 \n",
       "  2654.17,845.338 2670.21,873.018 2686.26,891.309 2702.31,875.093 2718.35,861.075 2734.4,884.909 2750.45,864.684 2766.49,867.414 2782.54,862.58 2798.58,871.15 \n",
       "  2814.63,894.266 2830.68,905.429 2846.72,909.618 2862.77,886.691 2878.82,950.864 2894.86,883.852 2910.91,862.931 2926.95,881.283 2943,906.863 2959.05,930.518 \n",
       "  2975.09,922.715 2991.14,935.248 3007.18,934.43 3023.23,903.111 3039.28,902.249 3055.32,701.278 3071.37,818.918 3087.42,862.675 3103.46,870.09 3119.51,880.235 \n",
       "  3135.55,871.588 3151.6,926.126 3167.65,888.949 3183.69,906.328 3199.74,875.001 3215.79,905.398 3231.83,895.432 3247.88,847.081 3263.92,845.263 3279.97,842.497 \n",
       "  3296.02,870.773 3312.06,885.874 3328.11,839.151 3344.16,865.091 3360.2,869.674 3376.25,896.774 3392.29,919.511 3408.34,885.028 3424.39,858.016 3440.43,875.051 \n",
       "  3456.48,870.094 \n",
       "  \"/>\n",
       "<polyline clip-path=\"url(#clip562)\" style=\"stroke:#c271d2; stroke-linecap:round; stroke-linejoin:round; stroke-width:8; stroke-opacity:1; fill:none\" points=\"\n",
       "  359.56,2168.21 359.56,-1013.24 \n",
       "  \"/>\n",
       "<polyline clip-path=\"url(#clip562)\" style=\"stroke:#c271d2; stroke-linecap:round; stroke-linejoin:round; stroke-width:8; stroke-opacity:1; fill:none\" points=\"\n",
       "  503.976,2168.21 503.976,-1013.24 \n",
       "  \"/>\n",
       "<polyline clip-path=\"url(#clip562)\" style=\"stroke:#c271d2; stroke-linecap:round; stroke-linejoin:round; stroke-width:8; stroke-opacity:1; fill:none\" points=\"\n",
       "  632.346,2168.21 632.346,-1013.24 \n",
       "  \"/>\n",
       "<polyline clip-path=\"url(#clip562)\" style=\"stroke:#c271d2; stroke-linecap:round; stroke-linejoin:round; stroke-width:8; stroke-opacity:1; fill:none\" points=\"\n",
       "  776.762,2168.21 776.762,-1013.24 \n",
       "  \"/>\n",
       "<polyline clip-path=\"url(#clip562)\" style=\"stroke:#c271d2; stroke-linecap:round; stroke-linejoin:round; stroke-width:8; stroke-opacity:1; fill:none\" points=\"\n",
       "  889.085,2168.21 889.085,-1013.24 \n",
       "  \"/>\n",
       "<polyline clip-path=\"url(#clip562)\" style=\"stroke:#c271d2; stroke-linecap:round; stroke-linejoin:round; stroke-width:8; stroke-opacity:1; fill:none\" points=\"\n",
       "  1017.45,2168.21 1017.45,-1013.24 \n",
       "  \"/>\n",
       "<polyline clip-path=\"url(#clip562)\" style=\"stroke:#c271d2; stroke-linecap:round; stroke-linejoin:round; stroke-width:8; stroke-opacity:1; fill:none\" points=\"\n",
       "  1113.73,2168.21 1113.73,-1013.24 \n",
       "  \"/>\n",
       "<polyline clip-path=\"url(#clip562)\" style=\"stroke:#c271d2; stroke-linecap:round; stroke-linejoin:round; stroke-width:8; stroke-opacity:1; fill:none\" points=\"\n",
       "  1242.1,2168.21 1242.1,-1013.24 \n",
       "  \"/>\n",
       "<polyline clip-path=\"url(#clip562)\" style=\"stroke:#c271d2; stroke-linecap:round; stroke-linejoin:round; stroke-width:8; stroke-opacity:1; fill:none\" points=\"\n",
       "  1354.43,2168.21 1354.43,-1013.24 \n",
       "  \"/>\n",
       "<polyline clip-path=\"url(#clip562)\" style=\"stroke:#c271d2; stroke-linecap:round; stroke-linejoin:round; stroke-width:8; stroke-opacity:1; fill:none\" points=\"\n",
       "  1466.75,2168.21 1466.75,-1013.24 \n",
       "  \"/>\n",
       "<polyline clip-path=\"url(#clip562)\" style=\"stroke:#c271d2; stroke-linecap:round; stroke-linejoin:round; stroke-width:8; stroke-opacity:1; fill:none\" points=\"\n",
       "  1611.16,2168.21 1611.16,-1013.24 \n",
       "  \"/>\n",
       "<polyline clip-path=\"url(#clip562)\" style=\"stroke:#c271d2; stroke-linecap:round; stroke-linejoin:round; stroke-width:8; stroke-opacity:1; fill:none\" points=\"\n",
       "  1755.58,2168.21 1755.58,-1013.24 \n",
       "  \"/>\n",
       "<polyline clip-path=\"url(#clip562)\" style=\"stroke:#c271d2; stroke-linecap:round; stroke-linejoin:round; stroke-width:8; stroke-opacity:1; fill:none\" points=\"\n",
       "  1867.9,2168.21 1867.9,-1013.24 \n",
       "  \"/>\n",
       "<polyline clip-path=\"url(#clip562)\" style=\"stroke:#c271d2; stroke-linecap:round; stroke-linejoin:round; stroke-width:8; stroke-opacity:1; fill:none\" points=\"\n",
       "  2028.37,2168.21 2028.37,-1013.24 \n",
       "  \"/>\n",
       "<polyline clip-path=\"url(#clip562)\" style=\"stroke:#c271d2; stroke-linecap:round; stroke-linejoin:round; stroke-width:8; stroke-opacity:1; fill:none\" points=\"\n",
       "  2317.2,2168.21 2317.2,-1013.24 \n",
       "  \"/>\n",
       "<polyline clip-path=\"url(#clip562)\" style=\"stroke:#c271d2; stroke-linecap:round; stroke-linejoin:round; stroke-width:8; stroke-opacity:1; fill:none\" points=\"\n",
       "  2445.57,2168.21 2445.57,-1013.24 \n",
       "  \"/>\n",
       "<polyline clip-path=\"url(#clip562)\" style=\"stroke:#c271d2; stroke-linecap:round; stroke-linejoin:round; stroke-width:8; stroke-opacity:1; fill:none\" points=\"\n",
       "  2573.94,2168.21 2573.94,-1013.24 \n",
       "  \"/>\n",
       "<polyline clip-path=\"url(#clip562)\" style=\"stroke:#c271d2; stroke-linecap:round; stroke-linejoin:round; stroke-width:8; stroke-opacity:1; fill:none\" points=\"\n",
       "  2670.21,2168.21 2670.21,-1013.24 \n",
       "  \"/>\n",
       "<polyline clip-path=\"url(#clip562)\" style=\"stroke:#c271d2; stroke-linecap:round; stroke-linejoin:round; stroke-width:8; stroke-opacity:1; fill:none\" points=\"\n",
       "  2798.58,2168.21 2798.58,-1013.24 \n",
       "  \"/>\n",
       "<polyline clip-path=\"url(#clip562)\" style=\"stroke:#c271d2; stroke-linecap:round; stroke-linejoin:round; stroke-width:8; stroke-opacity:1; fill:none\" points=\"\n",
       "  2926.95,2168.21 2926.95,-1013.24 \n",
       "  \"/>\n",
       "<polyline clip-path=\"url(#clip562)\" style=\"stroke:#c271d2; stroke-linecap:round; stroke-linejoin:round; stroke-width:8; stroke-opacity:1; fill:none\" points=\"\n",
       "  3055.32,2168.21 3055.32,-1013.24 \n",
       "  \"/>\n",
       "<polyline clip-path=\"url(#clip562)\" style=\"stroke:#c271d2; stroke-linecap:round; stroke-linejoin:round; stroke-width:8; stroke-opacity:1; fill:none\" points=\"\n",
       "  3199.74,2168.21 3199.74,-1013.24 \n",
       "  \"/>\n",
       "<polyline clip-path=\"url(#clip562)\" style=\"stroke:#c271d2; stroke-linecap:round; stroke-linejoin:round; stroke-width:8; stroke-opacity:1; fill:none\" points=\"\n",
       "  3360.2,2168.21 3360.2,-1013.24 \n",
       "  \"/>\n",
       "<path clip-path=\"url(#clip560)\" d=\"\n",
       "M3045.04 341.794 L3439.36 341.794 L3439.36 82.5936 L3045.04 82.5936  Z\n",
       "  \" fill=\"#ffffff\" fill-rule=\"evenodd\" fill-opacity=\"1\"/>\n",
       "<polyline clip-path=\"url(#clip560)\" style=\"stroke:#000000; stroke-linecap:round; stroke-linejoin:round; stroke-width:4; stroke-opacity:1; fill:none\" points=\"\n",
       "  3045.04,341.794 3439.36,341.794 3439.36,82.5936 3045.04,82.5936 3045.04,341.794 \n",
       "  \"/>\n",
       "<polyline clip-path=\"url(#clip560)\" style=\"stroke:#009af9; stroke-linecap:round; stroke-linejoin:round; stroke-width:4; stroke-opacity:1; fill:none\" points=\"\n",
       "  3082.84,134.434 3309.62,134.434 \n",
       "  \"/>\n",
       "<path clip-path=\"url(#clip560)\" d=\"M3361.26 154.121 Q3359.46 158.751 3357.75 160.163 Q3356.03 161.575 3353.16 161.575 L3349.76 161.575 L3349.76 158.01 L3352.26 158.01 Q3354.02 158.01 3354.99 157.176 Q3355.96 156.343 3357.14 153.241 L3357.91 151.297 L3347.42 125.788 L3351.94 125.788 L3360.04 146.065 L3368.14 125.788 L3372.65 125.788 L3361.26 154.121 Z\" fill=\"#000000\" fill-rule=\"evenodd\" fill-opacity=\"1\" /><path clip-path=\"url(#clip560)\" d=\"M3379.94 147.778 L3387.58 147.778 L3387.58 121.413 L3379.27 123.079 L3379.27 118.82 L3387.54 117.154 L3392.21 117.154 L3392.21 147.778 L3399.85 147.778 L3399.85 151.714 L3379.94 151.714 L3379.94 147.778 Z\" fill=\"#000000\" fill-rule=\"evenodd\" fill-opacity=\"1\" /><polyline clip-path=\"url(#clip560)\" style=\"stroke:#e26f46; stroke-linecap:round; stroke-linejoin:round; stroke-width:4; stroke-opacity:1; fill:none\" points=\"\n",
       "  3082.84,186.274 3309.62,186.274 \n",
       "  \"/>\n",
       "<path clip-path=\"url(#clip560)\" d=\"M3361.26 205.961 Q3359.46 210.591 3357.75 212.003 Q3356.03 213.415 3353.16 213.415 L3349.76 213.415 L3349.76 209.85 L3352.26 209.85 Q3354.02 209.85 3354.99 209.016 Q3355.96 208.183 3357.14 205.081 L3357.91 203.137 L3347.42 177.628 L3351.94 177.628 L3360.04 197.905 L3368.14 177.628 L3372.65 177.628 L3361.26 205.961 Z\" fill=\"#000000\" fill-rule=\"evenodd\" fill-opacity=\"1\" /><path clip-path=\"url(#clip560)\" d=\"M3383.16 199.618 L3399.48 199.618 L3399.48 203.554 L3377.54 203.554 L3377.54 199.618 Q3380.2 196.864 3384.78 192.234 Q3389.39 187.581 3390.57 186.239 Q3392.81 183.716 3393.69 181.98 Q3394.6 180.22 3394.6 178.531 Q3394.6 175.776 3392.65 174.04 Q3390.73 172.304 3387.63 172.304 Q3385.43 172.304 3382.98 173.068 Q3380.55 173.831 3377.77 175.382 L3377.77 170.66 Q3380.59 169.526 3383.05 168.947 Q3385.5 168.369 3387.54 168.369 Q3392.91 168.369 3396.1 171.054 Q3399.3 173.739 3399.3 178.23 Q3399.3 180.359 3398.49 182.281 Q3397.7 184.179 3395.59 186.771 Q3395.01 187.443 3391.91 190.66 Q3388.81 193.855 3383.16 199.618 Z\" fill=\"#000000\" fill-rule=\"evenodd\" fill-opacity=\"1\" /><polyline clip-path=\"url(#clip560)\" style=\"stroke:#3da44d; stroke-linecap:round; stroke-linejoin:round; stroke-width:4; stroke-opacity:1; fill:none\" points=\"\n",
       "  3082.84,238.114 3309.62,238.114 \n",
       "  \"/>\n",
       "<path clip-path=\"url(#clip560)\" d=\"M3361.26 257.801 Q3359.46 262.431 3357.75 263.843 Q3356.03 265.255 3353.16 265.255 L3349.76 265.255 L3349.76 261.69 L3352.26 261.69 Q3354.02 261.69 3354.99 260.856 Q3355.96 260.023 3357.14 256.921 L3357.91 254.977 L3347.42 229.468 L3351.94 229.468 L3360.04 249.745 L3368.14 229.468 L3372.65 229.468 L3361.26 257.801 Z\" fill=\"#000000\" fill-rule=\"evenodd\" fill-opacity=\"1\" /><path clip-path=\"url(#clip560)\" d=\"M3393.3 236.759 Q3396.66 237.477 3398.53 239.745 Q3400.43 242.014 3400.43 245.347 Q3400.43 250.463 3396.91 253.264 Q3393.39 256.065 3386.91 256.065 Q3384.74 256.065 3382.42 255.625 Q3380.13 255.208 3377.68 254.352 L3377.68 249.838 Q3379.62 250.972 3381.94 251.551 Q3384.25 252.13 3386.77 252.13 Q3391.17 252.13 3393.46 250.394 Q3395.78 248.657 3395.78 245.347 Q3395.78 242.292 3393.63 240.579 Q3391.5 238.843 3387.68 238.843 L3383.65 238.843 L3383.65 235 L3387.86 235 Q3391.31 235 3393.14 233.634 Q3394.97 232.246 3394.97 229.653 Q3394.97 226.991 3393.07 225.579 Q3391.19 224.144 3387.68 224.144 Q3385.75 224.144 3383.56 224.56 Q3381.36 224.977 3378.72 225.857 L3378.72 221.69 Q3381.38 220.949 3383.69 220.579 Q3386.03 220.209 3388.09 220.209 Q3393.42 220.209 3396.52 222.639 Q3399.62 225.046 3399.62 229.167 Q3399.62 232.037 3397.98 234.028 Q3396.33 235.996 3393.3 236.759 Z\" fill=\"#000000\" fill-rule=\"evenodd\" fill-opacity=\"1\" /><polyline clip-path=\"url(#clip560)\" style=\"stroke:#c271d2; stroke-linecap:round; stroke-linejoin:round; stroke-width:8; stroke-opacity:1; fill:none\" points=\"\n",
       "  3082.84,289.954 3309.62,289.954 \n",
       "  \"/>\n",
       "<path clip-path=\"url(#clip560)\" d=\"M3361.26 309.641 Q3359.46 314.271 3357.75 315.683 Q3356.03 317.095 3353.16 317.095 L3349.76 317.095 L3349.76 313.53 L3352.26 313.53 Q3354.02 313.53 3354.99 312.696 Q3355.96 311.863 3357.14 308.761 L3357.91 306.817 L3347.42 281.308 L3351.94 281.308 L3360.04 301.585 L3368.14 281.308 L3372.65 281.308 L3361.26 309.641 Z\" fill=\"#000000\" fill-rule=\"evenodd\" fill-opacity=\"1\" /><path clip-path=\"url(#clip560)\" d=\"M3391.98 276.748 L3380.18 295.197 L3391.98 295.197 L3391.98 276.748 M3390.75 272.674 L3396.63 272.674 L3396.63 295.197 L3401.56 295.197 L3401.56 299.085 L3396.63 299.085 L3396.63 307.234 L3391.98 307.234 L3391.98 299.085 L3376.38 299.085 L3376.38 294.572 L3390.75 272.674 Z\" fill=\"#000000\" fill-rule=\"evenodd\" fill-opacity=\"1\" /></svg>\n"
      ]
     },
     "execution_count": 16,
     "metadata": {},
     "output_type": "execute_result"
    }
   ],
   "source": [
    "duration_view = [View(seq,vp(Melch.DUR),vp(Melch.CPITCH)) for seq in sequences];\n",
    "duration_stm = Idyoms.ppm_stm(duration_view,a,b,e,u,o);\n",
    "pitch_duration_stm = [[Idyoms.combine([p1,p2],0) for (p1,p2) in zip(s,l)] for (s,l) in zip(pitch_stm,duration_stm)];\n",
    "pitch_duration_table = Idyoms.todataframe(pitch_duration_stm);\n",
    "plot(pitch_duration_table.Prob[100:300])\n",
    "plot!(pitch_duration_table.IC[100:300])\n",
    "plot!(pitch_duration_table.H[100:300])\n",
    "vline!(phrases, lw = 2)\n",
    "plot!(size=(900,300))"
   ]
  },
  {
   "cell_type": "code",
   "execution_count": 17,
   "metadata": {},
   "outputs": [
    {
     "data": {
      "text/plain": [
       "Chakra.DerivedViewpoint{Int64}(Chakra.LinkedViewpoint{Tuple{Int64, Int64}}(Viewpoint[Chakra.AtomicViewpoint{Int64}(Melch.Attribute{:CPITCH, Int64}(), Type[Int64]), Chakra.DelayedViewpoint{Int64}(Chakra.AtomicViewpoint{Int64}(Melch.Attribute{:CPITCH, Int64}(), Type[Int64]), 1)], DataType[Int64, Int64]), Chakra.var\"#44#45\"(), #undef)"
      ]
     },
     "execution_count": 17,
     "metadata": {},
     "output_type": "execute_result"
    }
   ],
   "source": [
    "pdiff = Chakra.diff(vp(Melch.CPITCH))"
   ]
  },
  {
   "cell_type": "code",
   "execution_count": 18,
   "metadata": {},
   "outputs": [
    {
     "data": {
      "text/plain": [
       "106-element Vector{Option{Int64}}:\n",
       "   Chakra.None()\n",
       " -3\n",
       " -2\n",
       "  0\n",
       "  0\n",
       "  0\n",
       "  5\n",
       "  0\n",
       "  0\n",
       "  4\n",
       "  0\n",
       "  0\n",
       "  0\n",
       "  ⋮\n",
       " -2\n",
       " -2\n",
       " -3\n",
       "  0\n",
       "  0\n",
       "  0\n",
       " -2\n",
       " -2\n",
       "  2\n",
       "  2\n",
       " -4\n",
       "  0"
      ]
     },
     "execution_count": 18,
     "metadata": {},
     "output_type": "execute_result"
    }
   ],
   "source": [
    "vp_map(pdiff,sequences[1])"
   ]
  }
 ],
 "metadata": {
  "kernelspec": {
   "display_name": "Julia 1.7.3",
   "language": "julia",
   "name": "julia-1.7"
  },
  "language_info": {
   "file_extension": ".jl",
   "mimetype": "application/julia",
   "name": "julia",
   "version": "1.7.3"
  }
 },
 "nbformat": 4,
 "nbformat_minor": 4
}
