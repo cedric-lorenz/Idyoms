{
 "cells": [
  {
   "cell_type": "code",
   "execution_count": 1,
   "metadata": {},
   "outputs": [
    {
     "name": "stderr",
     "output_type": "stream",
     "text": [
      "WARNING: using DataFrames.combine in module Idyoms conflicts with an existing identifier.\n"
     ]
    }
   ],
   "source": [
    "using CSV, DataFrames, Plots\n",
    "#include(\"../Chakra/src/Chakra.jl\")\n",
    "include(\"../Melch/src/Melch.jl\")\n",
    "include(\"src/Idyoms.jl\")\n",
    "\n",
    "using Chakra\n",
    "using Main.Melch\n",
    "using Main.Idyoms"
   ]
  },
  {
   "cell_type": "code",
   "execution_count": 2,
   "metadata": {},
   "outputs": [],
   "source": [
    "Melch.__INIT__(\"/Users/nick/Dropbox/MelchData\")"
   ]
  },
  {
   "cell_type": "code",
   "execution_count": 3,
   "metadata": {},
   "outputs": [
    {
     "data": {
      "text/plain": [
       "\"Songs and ballads from Nova Scotia, Canada.\""
      ]
     },
     "execution_count": 3,
     "metadata": {},
     "output_type": "execute_result"
    }
   ],
   "source": [
    "nova = fnd(Melch.id(0),Melch)\n",
    "nova.description"
   ]
  },
  {
   "cell_type": "code",
   "execution_count": 4,
   "metadata": {},
   "outputs": [],
   "source": [
    "melodies = pts(nova)\n",
    "sequences = [sequence(pts(mel,Melch),Melch) for mel in melodies];"
   ]
  },
  {
   "cell_type": "code",
   "execution_count": 5,
   "metadata": {},
   "outputs": [],
   "source": [
    "pitch_view = [View(seq,vp(Symbol(\"Melch.CPITCH\")),vp(Symbol(\"Melch.CPITCH\"))) for seq in sequences];"
   ]
  },
  {
   "cell_type": "markdown",
   "metadata": {},
   "source": [
    "# Parameters"
   ]
  },
  {
   "cell_type": "code",
   "execution_count": 6,
   "metadata": {},
   "outputs": [
    {
     "data": {
      "text/plain": [
       "\"./idyom-data/STMA5.csv\""
      ]
     },
     "execution_count": 6,
     "metadata": {},
     "output_type": "execute_result"
    }
   ],
   "source": [
    "a = Set([54:77...,79,81])\n",
    "b = Backoff()\n",
    "e = A()\n",
    "u = true\n",
    "o = Bounded(5)\n",
    "#o = Unbounded();\n",
    "idyom_model = \"./idyom-data/STMA5.csv\""
   ]
  },
  {
   "cell_type": "markdown",
   "metadata": {},
   "source": [
    "# Compute Models"
   ]
  },
  {
   "cell_type": "code",
   "execution_count": 7,
   "metadata": {},
   "outputs": [
    {
     "name": "stdout",
     "output_type": "stream",
     "text": [
      "  1.922136 seconds (13.45 M allocations: 1.366 GiB, 16.24% gc time, 31.93% compilation time)\n"
     ]
    },
    {
     "data": {
      "text/plain": [
       "3.1252478390427516"
      ]
     },
     "execution_count": 7,
     "metadata": {},
     "output_type": "execute_result"
    }
   ],
   "source": [
    "@time pitch_stm = Idyoms.ppm_stm(pitch_view,a,b,e,u,o);\n",
    "Idyoms.mean_infcontent(pitch_stm)"
   ]
  },
  {
   "cell_type": "code",
   "execution_count": 8,
   "metadata": {
    "scrolled": true
   },
   "outputs": [
    {
     "name": "stdout",
     "output_type": "stream",
     "text": [
      "  2.383631 seconds (17.59 M allocations: 1.706 GiB, 21.20% gc time, 30.65% compilation time)\n"
     ]
    },
    {
     "data": {
      "text/plain": [
       "3.1884859734396596"
      ]
     },
     "execution_count": 8,
     "metadata": {},
     "output_type": "execute_result"
    }
   ],
   "source": [
    "@time pitch_ltm = Idyoms.ppm_ltm(pitch_view,a,b,e,u,o);\n",
    "Idyoms.mean_infcontent(pitch_ltm)"
   ]
  },
  {
   "cell_type": "code",
   "execution_count": 9,
   "metadata": {},
   "outputs": [
    {
     "name": "stdout",
     "output_type": "stream",
     "text": [
      "  2.085065 seconds (18.03 M allocations: 1.847 GiB, 25.69% gc time, 9.51% compilation time)\n"
     ]
    },
    {
     "data": {
      "text/plain": [
       "2.9235090946412456"
      ]
     },
     "execution_count": 9,
     "metadata": {},
     "output_type": "execute_result"
    }
   ],
   "source": [
    "@time pitch_ltm_plus = Idyoms.ppm_ltm_plus(pitch_view,a,b,e,u,o);\n",
    "Idyoms.mean_infcontent(pitch_ltm_plus)"
   ]
  },
  {
   "cell_type": "code",
   "execution_count": 10,
   "metadata": {},
   "outputs": [
    {
     "name": "stdout",
     "output_type": "stream",
     "text": [
      "  3.641389 seconds (30.01 M allocations: 3.060 GiB, 22.58% gc time, 15.92% compilation time)\n"
     ]
    },
    {
     "data": {
      "text/plain": [
       "2.576812470419125"
      ]
     },
     "execution_count": 10,
     "metadata": {},
     "output_type": "execute_result"
    }
   ],
   "source": [
    "@time pitch_both = Idyoms.ppm_both(pitch_view,a,b,e,u,o);\n",
    "Idyoms.mean_infcontent(pitch_both)"
   ]
  },
  {
   "cell_type": "code",
   "execution_count": 11,
   "metadata": {},
   "outputs": [
    {
     "name": "stdout",
     "output_type": "stream",
     "text": [
      "  3.704209 seconds (30.19 M allocations: 3.182 GiB, 28.66% gc time, 2.65% compilation time)\n"
     ]
    },
    {
     "data": {
      "text/plain": [
       "2.5332750302742"
      ]
     },
     "execution_count": 11,
     "metadata": {},
     "output_type": "execute_result"
    }
   ],
   "source": [
    "@time pitch_both_plus = Idyoms.ppm_both_plus(pitch_view,a,b,e,u,o);\n",
    "Idyoms.mean_infcontent(pitch_both_plus)"
   ]
  },
  {
   "cell_type": "markdown",
   "metadata": {},
   "source": [
    "# Print Table "
   ]
  },
  {
   "cell_type": "code",
   "execution_count": 12,
   "metadata": {},
   "outputs": [
    {
     "data": {
      "text/html": [
       "<div><div style = \"float: left;\"><span>8552×7 DataFrame</span></div><div style = \"float: right;\"><span style = \"font-style: italic;\">8527 rows omitted</span></div><div style = \"clear: both;\"></div></div><div class = \"data-frame\" style = \"overflow-x: scroll;\"><table class = \"data-frame\" style = \"margin-bottom: 6px;\"><thead><tr class = \"header\"><th class = \"rowNumber\" style = \"font-weight: bold; text-align: right;\">Row</th><th style = \"text-align: left;\">SeqID</th><th style = \"text-align: left;\">EventID</th><th style = \"text-align: left;\">Symbol</th><th style = \"text-align: left;\">Order</th><th style = \"text-align: left;\">Prob</th><th style = \"text-align: left;\">IC</th><th style = \"text-align: left;\">H</th></tr><tr class = \"subheader headerLastRow\"><th class = \"rowNumber\" style = \"font-weight: bold; text-align: right;\"></th><th title = \"Int64\" style = \"text-align: left;\">Int64</th><th title = \"Int64\" style = \"text-align: left;\">Int64</th><th title = \"Int64\" style = \"text-align: left;\">Int64</th><th title = \"Int64\" style = \"text-align: left;\">Int64</th><th title = \"Float64\" style = \"text-align: left;\">Float64</th><th title = \"Float64\" style = \"text-align: left;\">Float64</th><th title = \"Float64\" style = \"text-align: left;\">Float64</th></tr></thead><tbody><tr><td class = \"rowNumber\" style = \"font-weight: bold; text-align: right;\">1</td><td style = \"text-align: right;\">1</td><td style = \"text-align: right;\">1</td><td style = \"text-align: right;\">65</td><td style = \"text-align: right;\">-1</td><td style = \"text-align: right;\">0.0384615</td><td style = \"text-align: right;\">4.70044</td><td style = \"text-align: right;\">4.70044</td></tr><tr><td class = \"rowNumber\" style = \"font-weight: bold; text-align: right;\">2</td><td style = \"text-align: right;\">1</td><td style = \"text-align: right;\">2</td><td style = \"text-align: right;\">62</td><td style = \"text-align: right;\">-1</td><td style = \"text-align: right;\">0.0196078</td><td style = \"text-align: right;\">5.67243</td><td style = \"text-align: right;\">3.27612</td></tr><tr><td class = \"rowNumber\" style = \"font-weight: bold; text-align: right;\">3</td><td style = \"text-align: right;\">1</td><td style = \"text-align: right;\">3</td><td style = \"text-align: right;\">60</td><td style = \"text-align: right;\">-1</td><td style = \"text-align: right;\">0.0135135</td><td style = \"text-align: right;\">6.20945</td><td style = \"text-align: right;\">3.07171</td></tr><tr><td class = \"rowNumber\" style = \"font-weight: bold; text-align: right;\">4</td><td style = \"text-align: right;\">1</td><td style = \"text-align: right;\">4</td><td style = \"text-align: right;\">60</td><td style = \"text-align: right;\">0</td><td style = \"text-align: right;\">0.252632</td><td style = \"text-align: right;\">1.98489</td><td style = \"text-align: right;\">3.09494</td></tr><tr><td class = \"rowNumber\" style = \"font-weight: bold; text-align: right;\">5</td><td style = \"text-align: right;\">1</td><td style = \"text-align: right;\">5</td><td style = \"text-align: right;\">60</td><td style = \"text-align: right;\">1</td><td style = \"text-align: right;\">0.503497</td><td style = \"text-align: right;\">0.989946</td><td style = \"text-align: right;\">2.51433</td></tr><tr><td class = \"rowNumber\" style = \"font-weight: bold; text-align: right;\">6</td><td style = \"text-align: right;\">1</td><td style = \"text-align: right;\">6</td><td style = \"text-align: right;\">60</td><td style = \"text-align: right;\">2</td><td style = \"text-align: right;\">0.503497</td><td style = \"text-align: right;\">0.989946</td><td style = \"text-align: right;\">2.51433</td></tr><tr><td class = \"rowNumber\" style = \"font-weight: bold; text-align: right;\">7</td><td style = \"text-align: right;\">1</td><td style = \"text-align: right;\">7</td><td style = \"text-align: right;\">65</td><td style = \"text-align: right;\">0</td><td style = \"text-align: right;\">0.167832</td><td style = \"text-align: right;\">2.57491</td><td style = \"text-align: right;\">2.51433</td></tr><tr><td class = \"rowNumber\" style = \"font-weight: bold; text-align: right;\">8</td><td style = \"text-align: right;\">1</td><td style = \"text-align: right;\">8</td><td style = \"text-align: right;\">65</td><td style = \"text-align: right;\">0</td><td style = \"text-align: right;\">0.143284</td><td style = \"text-align: right;\">2.80305</td><td style = \"text-align: right;\">1.99356</td></tr><tr><td class = \"rowNumber\" style = \"font-weight: bold; text-align: right;\">9</td><td style = \"text-align: right;\">1</td><td style = \"text-align: right;\">9</td><td style = \"text-align: right;\">65</td><td style = \"text-align: right;\">1</td><td style = \"text-align: right;\">0.334262</td><td style = \"text-align: right;\">1.58095</td><td style = \"text-align: right;\">2.10954</td></tr><tr><td class = \"rowNumber\" style = \"font-weight: bold; text-align: right;\">10</td><td style = \"text-align: right;\">1</td><td style = \"text-align: right;\">10</td><td style = \"text-align: right;\">69</td><td style = \"text-align: right;\">-1</td><td style = \"text-align: right;\">0.00208768</td><td style = \"text-align: right;\">8.90388</td><td style = \"text-align: right;\">1.89211</td></tr><tr><td class = \"rowNumber\" style = \"font-weight: bold; text-align: right;\">11</td><td style = \"text-align: right;\">1</td><td style = \"text-align: right;\">11</td><td style = \"text-align: right;\">69</td><td style = \"text-align: right;\">0</td><td style = \"text-align: right;\">0.0912698</td><td style = \"text-align: right;\">3.45372</td><td style = \"text-align: right;\">2.38831</td></tr><tr><td class = \"rowNumber\" style = \"font-weight: bold; text-align: right;\">12</td><td style = \"text-align: right;\">1</td><td style = \"text-align: right;\">12</td><td style = \"text-align: right;\">69</td><td style = \"text-align: right;\">1</td><td style = \"text-align: right;\">0.501089</td><td style = \"text-align: right;\">0.99686</td><td style = \"text-align: right;\">2.06928</td></tr><tr><td class = \"rowNumber\" style = \"font-weight: bold; text-align: right;\">13</td><td style = \"text-align: right;\">1</td><td style = \"text-align: right;\">13</td><td style = \"text-align: right;\">69</td><td style = \"text-align: right;\">2</td><td style = \"text-align: right;\">0.501089</td><td style = \"text-align: right;\">0.99686</td><td style = \"text-align: right;\">2.06928</td></tr><tr><td style = \"text-align: right;\">&vellip;</td><td style = \"text-align: right;\">&vellip;</td><td style = \"text-align: right;\">&vellip;</td><td style = \"text-align: right;\">&vellip;</td><td style = \"text-align: right;\">&vellip;</td><td style = \"text-align: right;\">&vellip;</td><td style = \"text-align: right;\">&vellip;</td><td style = \"text-align: right;\">&vellip;</td></tr><tr><td class = \"rowNumber\" style = \"font-weight: bold; text-align: right;\">8541</td><td style = \"text-align: right;\">152</td><td style = \"text-align: right;\">55</td><td style = \"text-align: right;\">60</td><td style = \"text-align: right;\">4</td><td style = \"text-align: right;\">0.500065</td><td style = \"text-align: right;\">0.999814</td><td style = \"text-align: right;\">2.0557</td></tr><tr><td class = \"rowNumber\" style = \"font-weight: bold; text-align: right;\">8542</td><td style = \"text-align: right;\">152</td><td style = \"text-align: right;\">56</td><td style = \"text-align: right;\">62</td><td style = \"text-align: right;\">4</td><td style = \"text-align: right;\">0.500105</td><td style = \"text-align: right;\">0.999697</td><td style = \"text-align: right;\">2.2099</td></tr><tr><td class = \"rowNumber\" style = \"font-weight: bold; text-align: right;\">8543</td><td style = \"text-align: right;\">152</td><td style = \"text-align: right;\">57</td><td style = \"text-align: right;\">65</td><td style = \"text-align: right;\">4</td><td style = \"text-align: right;\">0.500061</td><td style = \"text-align: right;\">0.999823</td><td style = \"text-align: right;\">1.9789</td></tr><tr><td class = \"rowNumber\" style = \"font-weight: bold; text-align: right;\">8544</td><td style = \"text-align: right;\">152</td><td style = \"text-align: right;\">58</td><td style = \"text-align: right;\">65</td><td style = \"text-align: right;\">4</td><td style = \"text-align: right;\">0.500088</td><td style = \"text-align: right;\">0.999747</td><td style = \"text-align: right;\">2.19117</td></tr><tr><td class = \"rowNumber\" style = \"font-weight: bold; text-align: right;\">8545</td><td style = \"text-align: right;\">152</td><td style = \"text-align: right;\">59</td><td style = \"text-align: right;\">65</td><td style = \"text-align: right;\">1</td><td style = \"text-align: right;\">0.0833504</td><td style = \"text-align: right;\">3.58467</td><td style = \"text-align: right;\">2.36345</td></tr><tr><td class = \"rowNumber\" style = \"font-weight: bold; text-align: right;\">8546</td><td style = \"text-align: right;\">152</td><td style = \"text-align: right;\">60</td><td style = \"text-align: right;\">62</td><td style = \"text-align: right;\">2</td><td style = \"text-align: right;\">0.333388</td><td style = \"text-align: right;\">1.58473</td><td style = \"text-align: right;\">2.41567</td></tr><tr><td class = \"rowNumber\" style = \"font-weight: bold; text-align: right;\">8547</td><td style = \"text-align: right;\">152</td><td style = \"text-align: right;\">61</td><td style = \"text-align: right;\">58</td><td style = \"text-align: right;\">3</td><td style = \"text-align: right;\">0.500092</td><td style = \"text-align: right;\">0.999735</td><td style = \"text-align: right;\">2.12412</td></tr><tr><td class = \"rowNumber\" style = \"font-weight: bold; text-align: right;\">8548</td><td style = \"text-align: right;\">152</td><td style = \"text-align: right;\">62</td><td style = \"text-align: right;\">62</td><td style = \"text-align: right;\">1</td><td style = \"text-align: right;\">0.0833405</td><td style = \"text-align: right;\">3.58484</td><td style = \"text-align: right;\">1.82954</td></tr><tr><td class = \"rowNumber\" style = \"font-weight: bold; text-align: right;\">8549</td><td style = \"text-align: right;\">152</td><td style = \"text-align: right;\">63</td><td style = \"text-align: right;\">60</td><td style = \"text-align: right;\">2</td><td style = \"text-align: right;\">0.250023</td><td style = \"text-align: right;\">1.99987</td><td style = \"text-align: right;\">1.93695</td></tr><tr><td class = \"rowNumber\" style = \"font-weight: bold; text-align: right;\">8550</td><td style = \"text-align: right;\">152</td><td style = \"text-align: right;\">64</td><td style = \"text-align: right;\">58</td><td style = \"text-align: right;\">3</td><td style = \"text-align: right;\">0.500034</td><td style = \"text-align: right;\">0.999902</td><td style = \"text-align: right;\">1.92916</td></tr><tr><td class = \"rowNumber\" style = \"font-weight: bold; text-align: right;\">8551</td><td style = \"text-align: right;\">152</td><td style = \"text-align: right;\">65</td><td style = \"text-align: right;\">57</td><td style = \"text-align: right;\">4</td><td style = \"text-align: right;\">0.500086</td><td style = \"text-align: right;\">0.999752</td><td style = \"text-align: right;\">2.17293</td></tr><tr><td class = \"rowNumber\" style = \"font-weight: bold; text-align: right;\">8552</td><td style = \"text-align: right;\">152</td><td style = \"text-align: right;\">66</td><td style = \"text-align: right;\">58</td><td style = \"text-align: right;\">4</td><td style = \"text-align: right;\">0.500263</td><td style = \"text-align: right;\">0.999242</td><td style = \"text-align: right;\">2.48972</td></tr></tbody></table></div>"
      ],
      "text/latex": [
       "\\begin{tabular}{r|ccccccc}\n",
       "\t& SeqID & EventID & Symbol & Order & Prob & IC & H\\\\\n",
       "\t\\hline\n",
       "\t& Int64 & Int64 & Int64 & Int64 & Float64 & Float64 & Float64\\\\\n",
       "\t\\hline\n",
       "\t1 & 1 & 1 & 65 & -1 & 0.0384615 & 4.70044 & 4.70044 \\\\\n",
       "\t2 & 1 & 2 & 62 & -1 & 0.0196078 & 5.67243 & 3.27612 \\\\\n",
       "\t3 & 1 & 3 & 60 & -1 & 0.0135135 & 6.20945 & 3.07171 \\\\\n",
       "\t4 & 1 & 4 & 60 & 0 & 0.252632 & 1.98489 & 3.09494 \\\\\n",
       "\t5 & 1 & 5 & 60 & 1 & 0.503497 & 0.989946 & 2.51433 \\\\\n",
       "\t6 & 1 & 6 & 60 & 2 & 0.503497 & 0.989946 & 2.51433 \\\\\n",
       "\t7 & 1 & 7 & 65 & 0 & 0.167832 & 2.57491 & 2.51433 \\\\\n",
       "\t8 & 1 & 8 & 65 & 0 & 0.143284 & 2.80305 & 1.99356 \\\\\n",
       "\t9 & 1 & 9 & 65 & 1 & 0.334262 & 1.58095 & 2.10954 \\\\\n",
       "\t10 & 1 & 10 & 69 & -1 & 0.00208768 & 8.90388 & 1.89211 \\\\\n",
       "\t11 & 1 & 11 & 69 & 0 & 0.0912698 & 3.45372 & 2.38831 \\\\\n",
       "\t12 & 1 & 12 & 69 & 1 & 0.501089 & 0.99686 & 2.06928 \\\\\n",
       "\t13 & 1 & 13 & 69 & 2 & 0.501089 & 0.99686 & 2.06928 \\\\\n",
       "\t14 & 1 & 14 & 69 & 3 & 0.501089 & 0.99686 & 2.06928 \\\\\n",
       "\t15 & 1 & 15 & 67 & -1 & 0.00217865 & 8.84235 & 2.06928 \\\\\n",
       "\t16 & 1 & 16 & 65 & 0 & 0.250712 & 1.9959 & 2.53218 \\\\\n",
       "\t17 & 1 & 17 & 65 & 1 & 0.400607 & 1.31974 & 2.30802 \\\\\n",
       "\t18 & 1 & 18 & 65 & 2 & 0.333755 & 1.58314 & 2.23962 \\\\\n",
       "\t19 & 1 & 19 & 62 & 1 & 0.083386 & 3.58405 & 1.78556 \\\\\n",
       "\t20 & 1 & 20 & 60 & 2 & 0.500711 & 0.997949 & 2.08743 \\\\\n",
       "\t21 & 1 & 21 & 60 & 3 & 0.500632 & 0.998177 & 2.02689 \\\\\n",
       "\t22 & 1 & 22 & 65 & 2 & 0.250316 & 1.99818 & 2.02689 \\\\\n",
       "\t23 & 1 & 23 & 69 & 1 & 0.125089 & 2.99897 & 1.94527 \\\\\n",
       "\t24 & 1 & 24 & 69 & 2 & 0.500334 & 0.999035 & 1.97031 \\\\\n",
       "\t25 & 1 & 25 & 67 & 2 & 0.250167 & 1.99904 & 1.97031 \\\\\n",
       "\t26 & 1 & 26 & 65 & 3 & 0.500632 & 0.998177 & 2.10971 \\\\\n",
       "\t27 & 1 & 27 & 60 & 0 & 0.0667004 & 3.90616 & 1.92767 \\\\\n",
       "\t28 & 1 & 28 & 60 & 1 & 0.571738 & 0.806574 & 1.65669 \\\\\n",
       "\t29 & 1 & 29 & 60 & 2 & 0.400303 & 1.32083 & 1.91156 \\\\\n",
       "\t30 & 1 & 30 & 60 & 3 & 0.333755 & 1.58314 & 2.23568 \\\\\n",
       "\t$\\dots$ & $\\dots$ & $\\dots$ & $\\dots$ & $\\dots$ & $\\dots$ & $\\dots$ & $\\dots$ \\\\\n",
       "\\end{tabular}\n"
      ],
      "text/plain": [
       "\u001b[1m8552×7 DataFrame\u001b[0m\n",
       "\u001b[1m  Row \u001b[0m│\u001b[1m SeqID \u001b[0m\u001b[1m EventID \u001b[0m\u001b[1m Symbol \u001b[0m\u001b[1m Order \u001b[0m\u001b[1m Prob       \u001b[0m\u001b[1m IC       \u001b[0m\u001b[1m H       \u001b[0m\n",
       "      │\u001b[90m Int64 \u001b[0m\u001b[90m Int64   \u001b[0m\u001b[90m Int64  \u001b[0m\u001b[90m Int64 \u001b[0m\u001b[90m Float64    \u001b[0m\u001b[90m Float64  \u001b[0m\u001b[90m Float64 \u001b[0m\n",
       "──────┼──────────────────────────────────────────────────────────────\n",
       "    1 │     1        1      65     -1  0.0384615   4.70044   4.70044\n",
       "    2 │     1        2      62     -1  0.0196078   5.67243   3.27612\n",
       "    3 │     1        3      60     -1  0.0135135   6.20945   3.07171\n",
       "    4 │     1        4      60      0  0.252632    1.98489   3.09494\n",
       "    5 │     1        5      60      1  0.503497    0.989946  2.51433\n",
       "    6 │     1        6      60      2  0.503497    0.989946  2.51433\n",
       "    7 │     1        7      65      0  0.167832    2.57491   2.51433\n",
       "    8 │     1        8      65      0  0.143284    2.80305   1.99356\n",
       "    9 │     1        9      65      1  0.334262    1.58095   2.10954\n",
       "   10 │     1       10      69     -1  0.00208768  8.90388   1.89211\n",
       "   11 │     1       11      69      0  0.0912698   3.45372   2.38831\n",
       "  ⋮   │   ⋮       ⋮       ⋮       ⋮        ⋮          ⋮         ⋮\n",
       " 8543 │   152       57      65      4  0.500061    0.999823  1.9789\n",
       " 8544 │   152       58      65      4  0.500088    0.999747  2.19117\n",
       " 8545 │   152       59      65      1  0.0833504   3.58467   2.36345\n",
       " 8546 │   152       60      62      2  0.333388    1.58473   2.41567\n",
       " 8547 │   152       61      58      3  0.500092    0.999735  2.12412\n",
       " 8548 │   152       62      62      1  0.0833405   3.58484   1.82954\n",
       " 8549 │   152       63      60      2  0.250023    1.99987   1.93695\n",
       " 8550 │   152       64      58      3  0.500034    0.999902  1.92916\n",
       " 8551 │   152       65      57      4  0.500086    0.999752  2.17293\n",
       " 8552 │   152       66      58      4  0.500263    0.999242  2.48972\n",
       "\u001b[36m                                                    8531 rows omitted\u001b[0m"
      ]
     },
     "execution_count": 12,
     "metadata": {},
     "output_type": "execute_result"
    }
   ],
   "source": [
    "pitch_table = Idyoms.todataframe(pitch_stm)"
   ]
  },
  {
   "cell_type": "code",
   "execution_count": 13,
   "metadata": {},
   "outputs": [
    {
     "data": {
      "image/svg+xml": [
       "<?xml version=\"1.0\" encoding=\"utf-8\"?>\n",
       "<svg xmlns=\"http://www.w3.org/2000/svg\" xmlns:xlink=\"http://www.w3.org/1999/xlink\" width=\"900\" height=\"300\" viewBox=\"0 0 3600 1200\">\n",
       "<defs>\n",
       "  <clipPath id=\"clip930\">\n",
       "    <rect x=\"0\" y=\"0\" width=\"3600\" height=\"1200\"/>\n",
       "  </clipPath>\n",
       "</defs>\n",
       "<path clip-path=\"url(#clip930)\" d=\"\n",
       "M0 1200 L3600 1200 L3600 0 L0 0  Z\n",
       "  \" fill=\"#ffffff\" fill-rule=\"evenodd\" fill-opacity=\"1\"/>\n",
       "<defs>\n",
       "  <clipPath id=\"clip931\">\n",
       "    <rect x=\"720\" y=\"0\" width=\"2521\" height=\"1200\"/>\n",
       "  </clipPath>\n",
       "</defs>\n",
       "<path clip-path=\"url(#clip930)\" d=\"\n",
       "M196.191 1107.73 L3552.76 1107.73 L3552.76 47.2441 L196.191 47.2441  Z\n",
       "  \" fill=\"#ffffff\" fill-rule=\"evenodd\" fill-opacity=\"1\"/>\n",
       "<defs>\n",
       "  <clipPath id=\"clip932\">\n",
       "    <rect x=\"196\" y=\"47\" width=\"3358\" height=\"1061\"/>\n",
       "  </clipPath>\n",
       "</defs>\n",
       "<polyline clip-path=\"url(#clip932)\" style=\"stroke:#000000; stroke-linecap:round; stroke-linejoin:round; stroke-width:2; stroke-opacity:0.1; fill:none\" points=\"\n",
       "  261.03,1107.73 261.03,47.2441 \n",
       "  \"/>\n",
       "<polyline clip-path=\"url(#clip932)\" style=\"stroke:#000000; stroke-linecap:round; stroke-linejoin:round; stroke-width:2; stroke-opacity:0.1; fill:none\" points=\"\n",
       "  1014.98,1107.73 1014.98,47.2441 \n",
       "  \"/>\n",
       "<polyline clip-path=\"url(#clip932)\" style=\"stroke:#000000; stroke-linecap:round; stroke-linejoin:round; stroke-width:2; stroke-opacity:0.1; fill:none\" points=\"\n",
       "  1768.92,1107.73 1768.92,47.2441 \n",
       "  \"/>\n",
       "<polyline clip-path=\"url(#clip932)\" style=\"stroke:#000000; stroke-linecap:round; stroke-linejoin:round; stroke-width:2; stroke-opacity:0.1; fill:none\" points=\"\n",
       "  2522.87,1107.73 2522.87,47.2441 \n",
       "  \"/>\n",
       "<polyline clip-path=\"url(#clip932)\" style=\"stroke:#000000; stroke-linecap:round; stroke-linejoin:round; stroke-width:2; stroke-opacity:0.1; fill:none\" points=\"\n",
       "  3276.81,1107.73 3276.81,47.2441 \n",
       "  \"/>\n",
       "<polyline clip-path=\"url(#clip930)\" style=\"stroke:#000000; stroke-linecap:round; stroke-linejoin:round; stroke-width:4; stroke-opacity:1; fill:none\" points=\"\n",
       "  196.191,1107.73 3552.76,1107.73 \n",
       "  \"/>\n",
       "<polyline clip-path=\"url(#clip930)\" style=\"stroke:#000000; stroke-linecap:round; stroke-linejoin:round; stroke-width:4; stroke-opacity:1; fill:none\" points=\"\n",
       "  261.03,1107.73 261.03,1088.83 \n",
       "  \"/>\n",
       "<polyline clip-path=\"url(#clip930)\" style=\"stroke:#000000; stroke-linecap:round; stroke-linejoin:round; stroke-width:4; stroke-opacity:1; fill:none\" points=\"\n",
       "  1014.98,1107.73 1014.98,1088.83 \n",
       "  \"/>\n",
       "<polyline clip-path=\"url(#clip930)\" style=\"stroke:#000000; stroke-linecap:round; stroke-linejoin:round; stroke-width:4; stroke-opacity:1; fill:none\" points=\"\n",
       "  1768.92,1107.73 1768.92,1088.83 \n",
       "  \"/>\n",
       "<polyline clip-path=\"url(#clip930)\" style=\"stroke:#000000; stroke-linecap:round; stroke-linejoin:round; stroke-width:4; stroke-opacity:1; fill:none\" points=\"\n",
       "  2522.87,1107.73 2522.87,1088.83 \n",
       "  \"/>\n",
       "<polyline clip-path=\"url(#clip930)\" style=\"stroke:#000000; stroke-linecap:round; stroke-linejoin:round; stroke-width:4; stroke-opacity:1; fill:none\" points=\"\n",
       "  3276.81,1107.73 3276.81,1088.83 \n",
       "  \"/>\n",
       "<path clip-path=\"url(#clip930)\" d=\"M261.03 1148.25 Q257.419 1148.25 255.59 1151.81 Q253.785 1155.35 253.785 1162.48 Q253.785 1169.59 255.59 1173.15 Q257.419 1176.7 261.03 1176.7 Q264.664 1176.7 266.47 1173.15 Q268.298 1169.59 268.298 1162.48 Q268.298 1155.35 266.47 1151.81 Q264.664 1148.25 261.03 1148.25 M261.03 1144.54 Q266.84 1144.54 269.896 1149.15 Q272.974 1153.73 272.974 1162.48 Q272.974 1171.21 269.896 1175.82 Q266.84 1180.4 261.03 1180.4 Q255.22 1180.4 252.141 1175.82 Q249.086 1171.21 249.086 1162.48 Q249.086 1153.73 252.141 1149.15 Q255.22 1144.54 261.03 1144.54 Z\" fill=\"#000000\" fill-rule=\"evenodd\" fill-opacity=\"1\" /><path clip-path=\"url(#clip930)\" d=\"M994.246 1175.79 L1010.57 1175.79 L1010.57 1179.73 L988.621 1179.73 L988.621 1175.79 Q991.283 1173.04 995.867 1168.41 Q1000.47 1163.76 1001.65 1162.41 Q1003.9 1159.89 1004.78 1158.15 Q1005.68 1156.39 1005.68 1154.7 Q1005.68 1151.95 1003.74 1150.21 Q1001.82 1148.48 998.714 1148.48 Q996.515 1148.48 994.061 1149.24 Q991.631 1150.01 988.853 1151.56 L988.853 1146.83 Q991.677 1145.7 994.131 1145.12 Q996.584 1144.54 998.621 1144.54 Q1003.99 1144.54 1007.19 1147.23 Q1010.38 1149.91 1010.38 1154.4 Q1010.38 1156.53 1009.57 1158.45 Q1008.78 1160.35 1006.68 1162.95 Q1006.1 1163.62 1003 1166.83 Q999.895 1170.03 994.246 1175.79 Z\" fill=\"#000000\" fill-rule=\"evenodd\" fill-opacity=\"1\" /><path clip-path=\"url(#clip930)\" d=\"M1020.43 1145.17 L1038.78 1145.17 L1038.78 1149.1 L1024.71 1149.1 L1024.71 1157.58 Q1025.73 1157.23 1026.75 1157.07 Q1027.76 1156.88 1028.78 1156.88 Q1034.57 1156.88 1037.95 1160.05 Q1041.33 1163.22 1041.33 1168.64 Q1041.33 1174.22 1037.86 1177.32 Q1034.39 1180.4 1028.07 1180.4 Q1025.89 1180.4 1023.62 1180.03 Q1021.38 1179.66 1018.97 1178.92 L1018.97 1174.22 Q1021.05 1175.35 1023.27 1175.91 Q1025.5 1176.46 1027.97 1176.46 Q1031.98 1176.46 1034.32 1174.36 Q1036.65 1172.25 1036.65 1168.64 Q1036.65 1165.03 1034.32 1162.92 Q1031.98 1160.82 1027.97 1160.82 Q1026.1 1160.82 1024.22 1161.23 Q1022.37 1161.65 1020.43 1162.53 L1020.43 1145.17 Z\" fill=\"#000000\" fill-rule=\"evenodd\" fill-opacity=\"1\" /><path clip-path=\"url(#clip930)\" d=\"M1743.62 1145.17 L1761.98 1145.17 L1761.98 1149.1 L1747.9 1149.1 L1747.9 1157.58 Q1748.92 1157.23 1749.94 1157.07 Q1750.96 1156.88 1751.98 1156.88 Q1757.76 1156.88 1761.14 1160.05 Q1764.52 1163.22 1764.52 1168.64 Q1764.52 1174.22 1761.05 1177.32 Q1757.58 1180.4 1751.26 1180.4 Q1749.08 1180.4 1746.81 1180.03 Q1744.57 1179.66 1742.16 1178.92 L1742.16 1174.22 Q1744.25 1175.35 1746.47 1175.91 Q1748.69 1176.46 1751.17 1176.46 Q1755.17 1176.46 1757.51 1174.36 Q1759.85 1172.25 1759.85 1168.64 Q1759.85 1165.03 1757.51 1162.92 Q1755.17 1160.82 1751.17 1160.82 Q1749.29 1160.82 1747.42 1161.23 Q1745.56 1161.65 1743.62 1162.53 L1743.62 1145.17 Z\" fill=\"#000000\" fill-rule=\"evenodd\" fill-opacity=\"1\" /><path clip-path=\"url(#clip930)\" d=\"M1783.74 1148.25 Q1780.12 1148.25 1778.3 1151.81 Q1776.49 1155.35 1776.49 1162.48 Q1776.49 1169.59 1778.3 1173.15 Q1780.12 1176.7 1783.74 1176.7 Q1787.37 1176.7 1789.18 1173.15 Q1791 1169.59 1791 1162.48 Q1791 1155.35 1789.18 1151.81 Q1787.37 1148.25 1783.74 1148.25 M1783.74 1144.54 Q1789.55 1144.54 1792.6 1149.15 Q1795.68 1153.73 1795.68 1162.48 Q1795.68 1171.21 1792.6 1175.82 Q1789.55 1180.4 1783.74 1180.4 Q1777.93 1180.4 1774.85 1175.82 Q1771.79 1171.21 1771.79 1162.48 Q1771.79 1153.73 1774.85 1149.15 Q1777.93 1144.54 1783.74 1144.54 Z\" fill=\"#000000\" fill-rule=\"evenodd\" fill-opacity=\"1\" /><path clip-path=\"url(#clip930)\" d=\"M2496.72 1145.17 L2518.94 1145.17 L2518.94 1147.16 L2506.4 1179.73 L2501.51 1179.73 L2513.32 1149.1 L2496.72 1149.1 L2496.72 1145.17 Z\" fill=\"#000000\" fill-rule=\"evenodd\" fill-opacity=\"1\" /><path clip-path=\"url(#clip930)\" d=\"M2528.11 1145.17 L2546.47 1145.17 L2546.47 1149.1 L2532.39 1149.1 L2532.39 1157.58 Q2533.41 1157.23 2534.43 1157.07 Q2535.45 1156.88 2536.47 1156.88 Q2542.25 1156.88 2545.63 1160.05 Q2549.01 1163.22 2549.01 1168.64 Q2549.01 1174.22 2545.54 1177.32 Q2542.07 1180.4 2535.75 1180.4 Q2533.57 1180.4 2531.3 1180.03 Q2529.06 1179.66 2526.65 1178.92 L2526.65 1174.22 Q2528.73 1175.35 2530.96 1175.91 Q2533.18 1176.46 2535.66 1176.46 Q2539.66 1176.46 2542 1174.36 Q2544.34 1172.25 2544.34 1168.64 Q2544.34 1165.03 2542 1162.92 Q2539.66 1160.82 2535.66 1160.82 Q2533.78 1160.82 2531.91 1161.23 Q2530.05 1161.65 2528.11 1162.53 L2528.11 1145.17 Z\" fill=\"#000000\" fill-rule=\"evenodd\" fill-opacity=\"1\" /><path clip-path=\"url(#clip930)\" d=\"M3236.42 1175.79 L3244.06 1175.79 L3244.06 1149.43 L3235.75 1151.09 L3235.75 1146.83 L3244.01 1145.17 L3248.69 1145.17 L3248.69 1175.79 L3256.33 1175.79 L3256.33 1179.73 L3236.42 1179.73 L3236.42 1175.79 Z\" fill=\"#000000\" fill-rule=\"evenodd\" fill-opacity=\"1\" /><path clip-path=\"url(#clip930)\" d=\"M3275.77 1148.25 Q3272.16 1148.25 3270.33 1151.81 Q3268.52 1155.35 3268.52 1162.48 Q3268.52 1169.59 3270.33 1173.15 Q3272.16 1176.7 3275.77 1176.7 Q3279.4 1176.7 3281.21 1173.15 Q3283.04 1169.59 3283.04 1162.48 Q3283.04 1155.35 3281.21 1151.81 Q3279.4 1148.25 3275.77 1148.25 M3275.77 1144.54 Q3281.58 1144.54 3284.64 1149.15 Q3287.71 1153.73 3287.71 1162.48 Q3287.71 1171.21 3284.64 1175.82 Q3281.58 1180.4 3275.77 1180.4 Q3269.96 1180.4 3266.88 1175.82 Q3263.83 1171.21 3263.83 1162.48 Q3263.83 1153.73 3266.88 1149.15 Q3269.96 1144.54 3275.77 1144.54 Z\" fill=\"#000000\" fill-rule=\"evenodd\" fill-opacity=\"1\" /><path clip-path=\"url(#clip930)\" d=\"M3305.93 1148.25 Q3302.32 1148.25 3300.49 1151.81 Q3298.69 1155.35 3298.69 1162.48 Q3298.69 1169.59 3300.49 1173.15 Q3302.32 1176.7 3305.93 1176.7 Q3309.57 1176.7 3311.37 1173.15 Q3313.2 1169.59 3313.2 1162.48 Q3313.2 1155.35 3311.37 1151.81 Q3309.57 1148.25 3305.93 1148.25 M3305.93 1144.54 Q3311.74 1144.54 3314.8 1149.15 Q3317.88 1153.73 3317.88 1162.48 Q3317.88 1171.21 3314.8 1175.82 Q3311.74 1180.4 3305.93 1180.4 Q3300.12 1180.4 3297.04 1175.82 Q3293.99 1171.21 3293.99 1162.48 Q3293.99 1153.73 3297.04 1149.15 Q3300.12 1144.54 3305.93 1144.54 Z\" fill=\"#000000\" fill-rule=\"evenodd\" fill-opacity=\"1\" /><polyline clip-path=\"url(#clip932)\" style=\"stroke:#000000; stroke-linecap:round; stroke-linejoin:round; stroke-width:2; stroke-opacity:0.1; fill:none\" points=\"\n",
       "  196.191,1077.74 3552.76,1077.74 \n",
       "  \"/>\n",
       "<polyline clip-path=\"url(#clip932)\" style=\"stroke:#000000; stroke-linecap:round; stroke-linejoin:round; stroke-width:2; stroke-opacity:0.1; fill:none\" points=\"\n",
       "  196.191,861.884 3552.76,861.884 \n",
       "  \"/>\n",
       "<polyline clip-path=\"url(#clip932)\" style=\"stroke:#000000; stroke-linecap:round; stroke-linejoin:round; stroke-width:2; stroke-opacity:0.1; fill:none\" points=\"\n",
       "  196.191,646.027 3552.76,646.027 \n",
       "  \"/>\n",
       "<polyline clip-path=\"url(#clip932)\" style=\"stroke:#000000; stroke-linecap:round; stroke-linejoin:round; stroke-width:2; stroke-opacity:0.1; fill:none\" points=\"\n",
       "  196.191,430.169 3552.76,430.169 \n",
       "  \"/>\n",
       "<polyline clip-path=\"url(#clip932)\" style=\"stroke:#000000; stroke-linecap:round; stroke-linejoin:round; stroke-width:2; stroke-opacity:0.1; fill:none\" points=\"\n",
       "  196.191,214.311 3552.76,214.311 \n",
       "  \"/>\n",
       "<polyline clip-path=\"url(#clip930)\" style=\"stroke:#000000; stroke-linecap:round; stroke-linejoin:round; stroke-width:4; stroke-opacity:1; fill:none\" points=\"\n",
       "  196.191,1107.73 196.191,47.2441 \n",
       "  \"/>\n",
       "<polyline clip-path=\"url(#clip930)\" style=\"stroke:#000000; stroke-linecap:round; stroke-linejoin:round; stroke-width:4; stroke-opacity:1; fill:none\" points=\"\n",
       "  196.191,1077.74 215.088,1077.74 \n",
       "  \"/>\n",
       "<polyline clip-path=\"url(#clip930)\" style=\"stroke:#000000; stroke-linecap:round; stroke-linejoin:round; stroke-width:4; stroke-opacity:1; fill:none\" points=\"\n",
       "  196.191,861.884 215.088,861.884 \n",
       "  \"/>\n",
       "<polyline clip-path=\"url(#clip930)\" style=\"stroke:#000000; stroke-linecap:round; stroke-linejoin:round; stroke-width:4; stroke-opacity:1; fill:none\" points=\"\n",
       "  196.191,646.027 215.088,646.027 \n",
       "  \"/>\n",
       "<polyline clip-path=\"url(#clip930)\" style=\"stroke:#000000; stroke-linecap:round; stroke-linejoin:round; stroke-width:4; stroke-opacity:1; fill:none\" points=\"\n",
       "  196.191,430.169 215.088,430.169 \n",
       "  \"/>\n",
       "<polyline clip-path=\"url(#clip930)\" style=\"stroke:#000000; stroke-linecap:round; stroke-linejoin:round; stroke-width:4; stroke-opacity:1; fill:none\" points=\"\n",
       "  196.191,214.311 215.088,214.311 \n",
       "  \"/>\n",
       "<path clip-path=\"url(#clip930)\" d=\"M85.0151 1063.54 Q81.404 1063.54 79.5753 1067.11 Q77.7697 1070.65 77.7697 1077.78 Q77.7697 1084.88 79.5753 1088.45 Q81.404 1091.99 85.0151 1091.99 Q88.6493 1091.99 90.4548 1088.45 Q92.2835 1084.88 92.2835 1077.78 Q92.2835 1070.65 90.4548 1067.11 Q88.6493 1063.54 85.0151 1063.54 M85.0151 1059.84 Q90.8252 1059.84 93.8808 1064.44 Q96.9594 1069.03 96.9594 1077.78 Q96.9594 1086.5 93.8808 1091.11 Q90.8252 1095.69 85.0151 1095.69 Q79.2049 1095.69 76.1262 1091.11 Q73.0707 1086.5 73.0707 1077.78 Q73.0707 1069.03 76.1262 1064.44 Q79.2049 1059.84 85.0151 1059.84 Z\" fill=\"#000000\" fill-rule=\"evenodd\" fill-opacity=\"1\" /><path clip-path=\"url(#clip930)\" d=\"M105.177 1089.14 L110.061 1089.14 L110.061 1095.02 L105.177 1095.02 L105.177 1089.14 Z\" fill=\"#000000\" fill-rule=\"evenodd\" fill-opacity=\"1\" /><path clip-path=\"url(#clip930)\" d=\"M130.246 1063.54 Q126.635 1063.54 124.807 1067.11 Q123.001 1070.65 123.001 1077.78 Q123.001 1084.88 124.807 1088.45 Q126.635 1091.99 130.246 1091.99 Q133.881 1091.99 135.686 1088.45 Q137.515 1084.88 137.515 1077.78 Q137.515 1070.65 135.686 1067.11 Q133.881 1063.54 130.246 1063.54 M130.246 1059.84 Q136.056 1059.84 139.112 1064.44 Q142.191 1069.03 142.191 1077.78 Q142.191 1086.5 139.112 1091.11 Q136.056 1095.69 130.246 1095.69 Q124.436 1095.69 121.357 1091.11 Q118.302 1086.5 118.302 1077.78 Q118.302 1069.03 121.357 1064.44 Q124.436 1059.84 130.246 1059.84 Z\" fill=\"#000000\" fill-rule=\"evenodd\" fill-opacity=\"1\" /><path clip-path=\"url(#clip930)\" d=\"M80.0382 875.229 L96.3576 875.229 L96.3576 879.164 L74.4133 879.164 L74.4133 875.229 Q77.0753 872.475 81.6586 867.845 Q86.2651 863.192 87.4456 861.85 Q89.691 859.327 90.5706 857.59 Q91.4734 855.831 91.4734 854.141 Q91.4734 851.387 89.5289 849.651 Q87.6076 847.915 84.5058 847.915 Q82.3067 847.915 79.8531 848.678 Q77.4225 849.442 74.6447 850.993 L74.6447 846.271 Q77.4688 845.137 79.9225 844.558 Q82.3762 843.979 84.4132 843.979 Q89.7836 843.979 92.978 846.665 Q96.1724 849.35 96.1724 853.84 Q96.1724 855.97 95.3622 857.891 Q94.5752 859.79 92.4687 862.382 Q91.89 863.053 88.7882 866.271 Q85.6864 869.465 80.0382 875.229 Z\" fill=\"#000000\" fill-rule=\"evenodd\" fill-opacity=\"1\" /><path clip-path=\"url(#clip930)\" d=\"M106.172 873.285 L111.057 873.285 L111.057 879.164 L106.172 879.164 L106.172 873.285 Z\" fill=\"#000000\" fill-rule=\"evenodd\" fill-opacity=\"1\" /><path clip-path=\"url(#clip930)\" d=\"M121.288 844.604 L139.644 844.604 L139.644 848.54 L125.57 848.54 L125.57 857.012 Q126.589 856.665 127.607 856.503 Q128.626 856.317 129.644 856.317 Q135.431 856.317 138.811 859.489 Q142.191 862.66 142.191 868.077 Q142.191 873.655 138.718 876.757 Q135.246 879.836 128.927 879.836 Q126.751 879.836 124.482 879.465 Q122.237 879.095 119.83 878.354 L119.83 873.655 Q121.913 874.789 124.135 875.345 Q126.357 875.901 128.834 875.901 Q132.839 875.901 135.177 873.794 Q137.515 871.688 137.515 868.077 Q137.515 864.465 135.177 862.359 Q132.839 860.252 128.834 860.252 Q126.959 860.252 125.084 860.669 Q123.232 861.086 121.288 861.965 L121.288 844.604 Z\" fill=\"#000000\" fill-rule=\"evenodd\" fill-opacity=\"1\" /><path clip-path=\"url(#clip930)\" d=\"M75.0614 628.747 L93.4178 628.747 L93.4178 632.682 L79.3438 632.682 L79.3438 641.154 Q80.3623 640.807 81.3808 640.645 Q82.3993 640.46 83.4178 640.46 Q89.2049 640.46 92.5845 643.631 Q95.9641 646.802 95.9641 652.219 Q95.9641 657.797 92.4919 660.899 Q89.0197 663.978 82.7003 663.978 Q80.5243 663.978 78.2558 663.608 Q76.0105 663.237 73.6031 662.496 L73.6031 657.797 Q75.6864 658.932 77.9086 659.487 Q80.1308 660.043 82.6077 660.043 Q86.6123 660.043 88.9502 657.936 Q91.2882 655.83 91.2882 652.219 Q91.2882 648.608 88.9502 646.501 Q86.6123 644.395 82.6077 644.395 Q80.7327 644.395 78.8577 644.811 Q77.0058 645.228 75.0614 646.108 L75.0614 628.747 Z\" fill=\"#000000\" fill-rule=\"evenodd\" fill-opacity=\"1\" /><path clip-path=\"url(#clip930)\" d=\"M105.177 657.427 L110.061 657.427 L110.061 663.307 L105.177 663.307 L105.177 657.427 Z\" fill=\"#000000\" fill-rule=\"evenodd\" fill-opacity=\"1\" /><path clip-path=\"url(#clip930)\" d=\"M130.246 631.825 Q126.635 631.825 124.807 635.39 Q123.001 638.932 123.001 646.061 Q123.001 653.168 124.807 656.733 Q126.635 660.274 130.246 660.274 Q133.881 660.274 135.686 656.733 Q137.515 653.168 137.515 646.061 Q137.515 638.932 135.686 635.39 Q133.881 631.825 130.246 631.825 M130.246 628.122 Q136.056 628.122 139.112 632.728 Q142.191 637.311 142.191 646.061 Q142.191 654.788 139.112 659.395 Q136.056 663.978 130.246 663.978 Q124.436 663.978 121.357 659.395 Q118.302 654.788 118.302 646.061 Q118.302 637.311 121.357 632.728 Q124.436 628.122 130.246 628.122 Z\" fill=\"#000000\" fill-rule=\"evenodd\" fill-opacity=\"1\" /><path clip-path=\"url(#clip930)\" d=\"M74.8299 412.889 L97.052 412.889 L97.052 414.88 L84.5058 447.449 L79.6216 447.449 L91.4271 416.824 L74.8299 416.824 L74.8299 412.889 Z\" fill=\"#000000\" fill-rule=\"evenodd\" fill-opacity=\"1\" /><path clip-path=\"url(#clip930)\" d=\"M106.172 441.569 L111.057 441.569 L111.057 447.449 L106.172 447.449 L106.172 441.569 Z\" fill=\"#000000\" fill-rule=\"evenodd\" fill-opacity=\"1\" /><path clip-path=\"url(#clip930)\" d=\"M121.288 412.889 L139.644 412.889 L139.644 416.824 L125.57 416.824 L125.57 425.296 Q126.589 424.949 127.607 424.787 Q128.626 424.602 129.644 424.602 Q135.431 424.602 138.811 427.773 Q142.191 430.944 142.191 436.361 Q142.191 441.94 138.718 445.041 Q135.246 448.12 128.927 448.12 Q126.751 448.12 124.482 447.75 Q122.237 447.379 119.83 446.639 L119.83 441.94 Q121.913 443.074 124.135 443.629 Q126.357 444.185 128.834 444.185 Q132.839 444.185 135.177 442.078 Q137.515 439.972 137.515 436.361 Q137.515 432.75 135.177 430.643 Q132.839 428.537 128.834 428.537 Q126.959 428.537 125.084 428.954 Q123.232 429.37 121.288 430.25 L121.288 412.889 Z\" fill=\"#000000\" fill-rule=\"evenodd\" fill-opacity=\"1\" /><path clip-path=\"url(#clip930)\" d=\"M45.6634 227.656 L53.3023 227.656 L53.3023 201.29 L44.9921 202.957 L44.9921 198.698 L53.256 197.031 L57.9319 197.031 L57.9319 227.656 L65.5707 227.656 L65.5707 231.591 L45.6634 231.591 L45.6634 227.656 Z\" fill=\"#000000\" fill-rule=\"evenodd\" fill-opacity=\"1\" /><path clip-path=\"url(#clip930)\" d=\"M85.0151 200.11 Q81.404 200.11 79.5753 203.674 Q77.7697 207.216 77.7697 214.346 Q77.7697 221.452 79.5753 225.017 Q81.404 228.559 85.0151 228.559 Q88.6493 228.559 90.4548 225.017 Q92.2835 221.452 92.2835 214.346 Q92.2835 207.216 90.4548 203.674 Q88.6493 200.11 85.0151 200.11 M85.0151 196.406 Q90.8252 196.406 93.8808 201.012 Q96.9594 205.596 96.9594 214.346 Q96.9594 223.073 93.8808 227.679 Q90.8252 232.262 85.0151 232.262 Q79.2049 232.262 76.1262 227.679 Q73.0707 223.073 73.0707 214.346 Q73.0707 205.596 76.1262 201.012 Q79.2049 196.406 85.0151 196.406 Z\" fill=\"#000000\" fill-rule=\"evenodd\" fill-opacity=\"1\" /><path clip-path=\"url(#clip930)\" d=\"M105.177 225.711 L110.061 225.711 L110.061 231.591 L105.177 231.591 L105.177 225.711 Z\" fill=\"#000000\" fill-rule=\"evenodd\" fill-opacity=\"1\" /><path clip-path=\"url(#clip930)\" d=\"M130.246 200.11 Q126.635 200.11 124.807 203.674 Q123.001 207.216 123.001 214.346 Q123.001 221.452 124.807 225.017 Q126.635 228.559 130.246 228.559 Q133.881 228.559 135.686 225.017 Q137.515 221.452 137.515 214.346 Q137.515 207.216 135.686 203.674 Q133.881 200.11 130.246 200.11 M130.246 196.406 Q136.056 196.406 139.112 201.012 Q142.191 205.596 142.191 214.346 Q142.191 223.073 139.112 227.679 Q136.056 232.262 130.246 232.262 Q124.436 232.262 121.357 227.679 Q118.302 223.073 118.302 214.346 Q118.302 205.596 121.357 201.012 Q124.436 196.406 130.246 196.406 Z\" fill=\"#000000\" fill-rule=\"evenodd\" fill-opacity=\"1\" /><polyline clip-path=\"url(#clip932)\" style=\"stroke:#009af9; stroke-linecap:round; stroke-linejoin:round; stroke-width:4; stroke-opacity:1; fill:none\" points=\"\n",
       "  291.188,1074.42 321.346,1076.05 351.503,1076.58 381.661,1055.93 411.819,1034.27 441.977,1034.27 472.135,1063.25 502.293,1065.37 532.45,1048.88 562.608,1077.56 \n",
       "  592.766,1069.86 622.924,1034.48 653.082,1034.48 683.239,1034.48 713.397,1077.55 743.555,1056.09 773.713,1043.15 803.871,1048.92 834.029,1070.54 864.186,1034.51 \n",
       "  894.344,1034.52 924.502,1056.13 954.66,1066.94 984.818,1034.54 1014.98,1056.14 1045.13,1034.52 1075.29,1071.98 1105.45,1028.38 1135.61,1043.18 1165.76,1048.92 \n",
       "  1195.92,1034.54 1226.08,1034.53 1256.24,1034.52 1286.4,1061.55 1316.55,1056.12 1346.71,1034.56 1376.87,1034.55 1407.03,1034.55 1437.18,1077.69 1467.34,1075.58 \n",
       "  1497.5,1077.69 1527.66,1077.64 1557.82,1073.72 1587.97,1069.82 1618.13,1020.17 1648.29,1029.76 1678.45,1034.56 1708.61,1067.72 1738.76,1076.2 1768.92,1065.74 \n",
       "  1799.08,1072.34 1829.24,1056.15 1859.39,1034.55 1889.55,1076.78 1919.71,1034.55 1949.87,1034.55 1980.03,1076.92 2010.18,1077.71 2040.34,1074.81 2070.5,1075.72 \n",
       "  2100.66,1060.47 2130.81,1069.11 2160.97,1048.96 2191.13,1048.96 2221.29,1034.56 2251.45,1034.55 2281.6,1048.96 2311.76,1020.17 2341.92,1048.96 2372.08,1034.56 \n",
       "  2402.24,1020.16 2432.39,1076.23 2462.55,1012.97 2492.71,1056.15 2522.87,1034.57 2553.02,1056.15 2583.18,1063.35 2613.34,1020.17 2643.5,1074.14 2673.66,1076.3 \n",
       "  2703.81,1076.3 2733.97,1034.57 2764.13,1008.67 2794.29,1043.2 2824.44,1020.17 2854.6,1012.97 2884.76,1056.15 2914.92,1034.57 2945.08,1034.57 2975.23,1034.57 \n",
       "  3005.39,1034.57 3035.55,1034.57 3065.71,1008.66 3095.86,1060.47 3126.02,1071.65 3156.18,1031.25 3186.34,1056.16 3216.5,1048.96 3246.65,1034.57 3276.81,1034.56 \n",
       "  3306.97,1060.47 3337.13,1034.56 3367.29,1063.35 3397.44,1056.16 3427.6,1034.57 3457.76,1034.57 \n",
       "  \"/>\n",
       "<polyline clip-path=\"url(#clip932)\" style=\"stroke:#e26f46; stroke-linecap:round; stroke-linejoin:round; stroke-width:4; stroke-opacity:1; fill:none\" points=\"\n",
       "  291.188,671.892 321.346,587.967 351.503,541.599 381.661,906.36 411.819,992.267 441.977,992.267 472.135,855.417 502.293,835.718 532.45,941.238 562.608,308.953 \n",
       "  592.766,779.537 622.924,991.67 653.082,991.67 683.239,991.67 713.397,314.266 743.555,905.41 773.713,963.792 803.871,941.049 834.029,768.284 864.186,991.576 \n",
       "  894.344,991.556 924.502,905.213 954.66,818.801 984.818,991.482 1014.98,905.139 1045.13,991.556 1075.29,740.472 1105.45,1008.1 1135.61,963.697 1165.76,941.049 \n",
       "  1195.92,991.478 1226.08,991.517 1256.24,991.556 1286.4,869.279 1316.55,905.292 1346.71,991.435 1376.87,991.454 1407.03,991.454 1437.18,150.072 1467.34,618.379 \n",
       "  1497.5,155.871 1527.66,239.132 1557.82,695.717 1587.97,780.133 1618.13,1027.25 1648.29,1004.55 1678.45,991.438 1708.61,809.54 1738.76,576.376 1768.92,831.898 \n",
       "  1799.08,732.397 1829.24,905.095 1859.39,991.445 1889.55,517.288 1919.71,991.46 1949.87,991.461 1980.03,498.045 2010.18,77.2578 2040.34,656.277 2070.5,609.988 \n",
       "  2100.66,877.3 2130.81,790.937 2160.97,940.912 2191.13,940.909 2221.29,991.429 2251.45,991.454 2281.6,940.913 2311.76,1027.25 2341.92,940.908 2372.08,991.428 \n",
       "  2402.24,1027.27 2432.39,574.153 2462.55,1041.93 2492.71,905.087 2522.87,991.413 2553.02,905.068 2583.18,854.567 2613.34,1027.26 2643.5,681.875 2673.66,567.742 \n",
       "  2703.81,567.739 2733.97,991.415 2764.13,1049.95 2794.29,963.611 2824.44,1027.25 2854.6,1041.93 2884.76,905.072 2914.92,991.408 2945.08,991.406 2975.23,991.409 \n",
       "  3005.39,991.405 3035.55,991.415 3065.71,1049.96 3095.86,877.273 3126.02,747.57 3156.18,1000.64 3186.34,905.06 3216.5,940.905 3246.65,991.415 3276.81,991.419 \n",
       "  3306.97,877.292 3337.13,991.421 3367.29,854.553 3397.44,905.062 3427.6,991.403 3457.76,991.405 \n",
       "  \"/>\n",
       "<polyline clip-path=\"url(#clip932)\" style=\"stroke:#3da44d; stroke-linecap:round; stroke-linejoin:round; stroke-width:4; stroke-opacity:1; fill:none\" points=\"\n",
       "  291.188,671.892 321.346,794.872 351.503,812.521 381.661,810.516 411.819,860.647 441.977,860.647 472.135,860.647 502.293,905.612 532.45,895.598 562.608,914.371 \n",
       "  592.766,871.528 622.924,899.074 653.082,899.074 683.239,899.074 713.397,899.074 743.555,859.106 773.713,878.46 803.871,884.366 834.029,923.571 864.186,897.507 \n",
       "  894.344,902.734 924.502,902.734 954.66,909.782 984.818,907.619 1014.98,907.619 1045.13,895.583 1075.29,911.301 1105.45,934.699 1135.61,912.693 1165.76,884.707 \n",
       "  1195.92,923.741 1226.08,903.646 1256.24,892.253 1286.4,919.266 1316.55,858.816 1346.71,928.052 1376.87,912.644 1407.03,912.644 1437.18,893.415 1467.34,875.978 \n",
       "  1497.5,895.461 1527.66,861.91 1557.82,853.35 1587.97,873.826 1618.13,941.182 1648.29,915.794 1678.45,894.731 1708.61,862.654 1738.76,895.713 1768.92,929.325 \n",
       "  1799.08,938.804 1829.24,901.046 1859.39,900.881 1889.55,870.528 1919.71,884.063 1949.87,885.645 1980.03,893.486 2010.18,926.926 2040.34,839.868 2070.5,922.813 \n",
       "  2100.66,843.174 2130.81,891.406 2160.97,915.138 2191.13,883.538 2221.29,892.865 2251.45,872.541 2281.6,915.645 2311.76,947.057 2341.92,883.008 2372.08,891.803 \n",
       "  2402.24,917.653 2432.39,867.055 2462.55,946.642 2492.71,853.025 2522.87,927.756 2553.02,904.364 2583.18,891.325 2613.34,928.966 2643.5,872.135 2673.66,925.735 \n",
       "  2703.81,903.83 2733.97,881.494 2764.13,989.775 2794.29,911.104 2824.44,930.858 2854.6,945.615 2884.76,859.905 2914.92,909.349 2945.08,908.871 2975.23,936.894 \n",
       "  3005.39,925.74 3035.55,912.851 3065.71,965.578 3095.86,875.681 3126.02,866.339 3156.18,947.902 3186.34,946.028 3216.5,880.884 3246.65,888.221 3276.81,879.793 \n",
       "  3306.97,836.812 3337.13,886.235 3367.29,881.964 3397.44,921.593 3427.6,932.098 3457.76,896.926 \n",
       "  \"/>\n",
       "<path clip-path=\"url(#clip930)\" d=\"\n",
       "M3014.91 289.954 L3440.87 289.954 L3440.87 82.5936 L3014.91 82.5936  Z\n",
       "  \" fill=\"#ffffff\" fill-rule=\"evenodd\" fill-opacity=\"1\"/>\n",
       "<polyline clip-path=\"url(#clip930)\" style=\"stroke:#000000; stroke-linecap:round; stroke-linejoin:round; stroke-width:4; stroke-opacity:1; fill:none\" points=\"\n",
       "  3014.91,289.954 3440.87,289.954 3440.87,82.5936 3014.91,82.5936 3014.91,289.954 \n",
       "  \"/>\n",
       "<polyline clip-path=\"url(#clip930)\" style=\"stroke:#009af9; stroke-linecap:round; stroke-linejoin:round; stroke-width:4; stroke-opacity:1; fill:none\" points=\"\n",
       "  3052.2,134.434 3275.98,134.434 \n",
       "  \"/>\n",
       "<path clip-path=\"url(#clip930)\" d=\"M3327.11 154.121 Q3325.31 158.751 3323.6 160.163 Q3321.88 161.575 3319.01 161.575 L3315.61 161.575 L3315.61 158.01 L3318.11 158.01 Q3319.87 158.01 3320.84 157.176 Q3321.81 156.343 3322.99 153.241 L3323.76 151.297 L3313.27 125.788 L3317.78 125.788 L3325.89 146.065 L3333.99 125.788 L3338.5 125.788 L3327.11 154.121 Z\" fill=\"#000000\" fill-rule=\"evenodd\" fill-opacity=\"1\" /><path clip-path=\"url(#clip930)\" d=\"M3345.79 147.778 L3353.43 147.778 L3353.43 121.413 L3345.12 123.079 L3345.12 118.82 L3353.39 117.154 L3358.06 117.154 L3358.06 147.778 L3365.7 147.778 L3365.7 151.714 L3345.79 151.714 L3345.79 147.778 Z\" fill=\"#000000\" fill-rule=\"evenodd\" fill-opacity=\"1\" /><polyline clip-path=\"url(#clip930)\" style=\"stroke:#e26f46; stroke-linecap:round; stroke-linejoin:round; stroke-width:4; stroke-opacity:1; fill:none\" points=\"\n",
       "  3052.2,186.274 3275.98,186.274 \n",
       "  \"/>\n",
       "<path clip-path=\"url(#clip930)\" d=\"M3327.11 205.961 Q3325.31 210.591 3323.6 212.003 Q3321.88 213.415 3319.01 213.415 L3315.61 213.415 L3315.61 209.85 L3318.11 209.85 Q3319.87 209.85 3320.84 209.016 Q3321.81 208.183 3322.99 205.081 L3323.76 203.137 L3313.27 177.628 L3317.78 177.628 L3325.89 197.905 L3333.99 177.628 L3338.5 177.628 L3327.11 205.961 Z\" fill=\"#000000\" fill-rule=\"evenodd\" fill-opacity=\"1\" /><path clip-path=\"url(#clip930)\" d=\"M3349.01 199.618 L3365.33 199.618 L3365.33 203.554 L3343.39 203.554 L3343.39 199.618 Q3346.05 196.864 3350.63 192.234 Q3355.24 187.581 3356.42 186.239 Q3358.66 183.716 3359.54 181.98 Q3360.45 180.22 3360.45 178.531 Q3360.45 175.776 3358.5 174.04 Q3356.58 172.304 3353.48 172.304 Q3351.28 172.304 3348.83 173.068 Q3346.4 173.831 3343.62 175.382 L3343.62 170.66 Q3346.44 169.526 3348.9 168.947 Q3351.35 168.369 3353.39 168.369 Q3358.76 168.369 3361.95 171.054 Q3365.15 173.739 3365.15 178.23 Q3365.15 180.359 3364.34 182.281 Q3363.55 184.179 3361.44 186.771 Q3360.86 187.443 3357.76 190.66 Q3354.66 193.855 3349.01 199.618 Z\" fill=\"#000000\" fill-rule=\"evenodd\" fill-opacity=\"1\" /><polyline clip-path=\"url(#clip930)\" style=\"stroke:#3da44d; stroke-linecap:round; stroke-linejoin:round; stroke-width:4; stroke-opacity:1; fill:none\" points=\"\n",
       "  3052.2,238.114 3275.98,238.114 \n",
       "  \"/>\n",
       "<path clip-path=\"url(#clip930)\" d=\"M3327.11 257.801 Q3325.31 262.431 3323.6 263.843 Q3321.88 265.255 3319.01 265.255 L3315.61 265.255 L3315.61 261.69 L3318.11 261.69 Q3319.87 261.69 3320.84 260.856 Q3321.81 260.023 3322.99 256.921 L3323.76 254.977 L3313.27 229.468 L3317.78 229.468 L3325.89 249.745 L3333.99 229.468 L3338.5 229.468 L3327.11 257.801 Z\" fill=\"#000000\" fill-rule=\"evenodd\" fill-opacity=\"1\" /><path clip-path=\"url(#clip930)\" d=\"M3359.15 236.759 Q3362.51 237.477 3364.38 239.745 Q3366.28 242.014 3366.28 245.347 Q3366.28 250.463 3362.76 253.264 Q3359.24 256.065 3352.76 256.065 Q3350.59 256.065 3348.27 255.625 Q3345.98 255.208 3343.53 254.352 L3343.53 249.838 Q3345.47 250.972 3347.78 251.551 Q3350.1 252.13 3352.62 252.13 Q3357.02 252.13 3359.31 250.394 Q3361.63 248.657 3361.63 245.347 Q3361.63 242.292 3359.47 240.579 Q3357.34 238.843 3353.53 238.843 L3349.5 238.843 L3349.5 235 L3353.71 235 Q3357.16 235 3358.99 233.634 Q3360.82 232.246 3360.82 229.653 Q3360.82 226.991 3358.92 225.579 Q3357.04 224.144 3353.53 224.144 Q3351.6 224.144 3349.41 224.56 Q3347.21 224.977 3344.57 225.857 L3344.57 221.69 Q3347.23 220.949 3349.54 220.579 Q3351.88 220.209 3353.94 220.209 Q3359.27 220.209 3362.37 222.639 Q3365.47 225.046 3365.47 229.167 Q3365.47 232.037 3363.83 234.028 Q3362.18 235.996 3359.15 236.759 Z\" fill=\"#000000\" fill-rule=\"evenodd\" fill-opacity=\"1\" /></svg>\n"
      ]
     },
     "execution_count": 13,
     "metadata": {},
     "output_type": "execute_result"
    }
   ],
   "source": [
    "plot(pitch_table.Prob[1:106])\n",
    "plot!(pitch_table.IC[1:106])\n",
    "plot!(pitch_table.H[1:106])\n",
    "plot!(size=(900,300))"
   ]
  },
  {
   "cell_type": "markdown",
   "metadata": {},
   "source": [
    "# Comparison with IDyOM"
   ]
  },
  {
   "cell_type": "code",
   "execution_count": 14,
   "metadata": {
    "scrolled": true
   },
   "outputs": [
    {
     "data": {
      "text/html": [
       "<div><div style = \"float: left;\"><span>8552×3 DataFrame</span></div><div style = \"float: right;\"><span style = \"font-style: italic;\">8527 rows omitted</span></div><div style = \"clear: both;\"></div></div><div class = \"data-frame\" style = \"overflow-x: scroll;\"><table class = \"data-frame\" style = \"margin-bottom: 6px;\"><thead><tr class = \"header\"><th class = \"rowNumber\" style = \"font-weight: bold; text-align: right;\">Row</th><th style = \"text-align: left;\">Symbol</th><th style = \"text-align: left;\">Idyom</th><th style = \"text-align: left;\">Julia</th></tr><tr class = \"subheader headerLastRow\"><th class = \"rowNumber\" style = \"font-weight: bold; text-align: right;\"></th><th title = \"Int64\" style = \"text-align: left;\">Int64</th><th title = \"Float64\" style = \"text-align: left;\">Float64</th><th title = \"Float64\" style = \"text-align: left;\">Float64</th></tr></thead><tbody><tr><td class = \"rowNumber\" style = \"font-weight: bold; text-align: right;\">1</td><td style = \"text-align: right;\">65</td><td style = \"text-align: right;\">0.0384615</td><td style = \"text-align: right;\">0.0384615</td></tr><tr><td class = \"rowNumber\" style = \"font-weight: bold; text-align: right;\">2</td><td style = \"text-align: right;\">62</td><td style = \"text-align: right;\">0.0196078</td><td style = \"text-align: right;\">0.0196078</td></tr><tr><td class = \"rowNumber\" style = \"font-weight: bold; text-align: right;\">3</td><td style = \"text-align: right;\">60</td><td style = \"text-align: right;\">0.0135135</td><td style = \"text-align: right;\">0.0135135</td></tr><tr><td class = \"rowNumber\" style = \"font-weight: bold; text-align: right;\">4</td><td style = \"text-align: right;\">60</td><td style = \"text-align: right;\">0.252632</td><td style = \"text-align: right;\">0.252632</td></tr><tr><td class = \"rowNumber\" style = \"font-weight: bold; text-align: right;\">5</td><td style = \"text-align: right;\">60</td><td style = \"text-align: right;\">0.503497</td><td style = \"text-align: right;\">0.503497</td></tr><tr><td class = \"rowNumber\" style = \"font-weight: bold; text-align: right;\">6</td><td style = \"text-align: right;\">60</td><td style = \"text-align: right;\">0.503497</td><td style = \"text-align: right;\">0.503497</td></tr><tr><td class = \"rowNumber\" style = \"font-weight: bold; text-align: right;\">7</td><td style = \"text-align: right;\">65</td><td style = \"text-align: right;\">0.167832</td><td style = \"text-align: right;\">0.167832</td></tr><tr><td class = \"rowNumber\" style = \"font-weight: bold; text-align: right;\">8</td><td style = \"text-align: right;\">65</td><td style = \"text-align: right;\">0.143284</td><td style = \"text-align: right;\">0.143284</td></tr><tr><td class = \"rowNumber\" style = \"font-weight: bold; text-align: right;\">9</td><td style = \"text-align: right;\">65</td><td style = \"text-align: right;\">0.334262</td><td style = \"text-align: right;\">0.334262</td></tr><tr><td class = \"rowNumber\" style = \"font-weight: bold; text-align: right;\">10</td><td style = \"text-align: right;\">69</td><td style = \"text-align: right;\">0.00208768</td><td style = \"text-align: right;\">0.00208768</td></tr><tr><td class = \"rowNumber\" style = \"font-weight: bold; text-align: right;\">11</td><td style = \"text-align: right;\">69</td><td style = \"text-align: right;\">0.0912698</td><td style = \"text-align: right;\">0.0912698</td></tr><tr><td class = \"rowNumber\" style = \"font-weight: bold; text-align: right;\">12</td><td style = \"text-align: right;\">69</td><td style = \"text-align: right;\">0.501089</td><td style = \"text-align: right;\">0.501089</td></tr><tr><td class = \"rowNumber\" style = \"font-weight: bold; text-align: right;\">13</td><td style = \"text-align: right;\">69</td><td style = \"text-align: right;\">0.501089</td><td style = \"text-align: right;\">0.501089</td></tr><tr><td style = \"text-align: right;\">&vellip;</td><td style = \"text-align: right;\">&vellip;</td><td style = \"text-align: right;\">&vellip;</td><td style = \"text-align: right;\">&vellip;</td></tr><tr><td class = \"rowNumber\" style = \"font-weight: bold; text-align: right;\">8541</td><td style = \"text-align: right;\">60</td><td style = \"text-align: right;\">0.5</td><td style = \"text-align: right;\">0.500065</td></tr><tr><td class = \"rowNumber\" style = \"font-weight: bold; text-align: right;\">8542</td><td style = \"text-align: right;\">62</td><td style = \"text-align: right;\">0.5</td><td style = \"text-align: right;\">0.500105</td></tr><tr><td class = \"rowNumber\" style = \"font-weight: bold; text-align: right;\">8543</td><td style = \"text-align: right;\">65</td><td style = \"text-align: right;\">0.5</td><td style = \"text-align: right;\">0.500061</td></tr><tr><td class = \"rowNumber\" style = \"font-weight: bold; text-align: right;\">8544</td><td style = \"text-align: right;\">65</td><td style = \"text-align: right;\">0.5</td><td style = \"text-align: right;\">0.500088</td></tr><tr><td class = \"rowNumber\" style = \"font-weight: bold; text-align: right;\">8545</td><td style = \"text-align: right;\">65</td><td style = \"text-align: right;\">0.0833333</td><td style = \"text-align: right;\">0.0833504</td></tr><tr><td class = \"rowNumber\" style = \"font-weight: bold; text-align: right;\">8546</td><td style = \"text-align: right;\">62</td><td style = \"text-align: right;\">0.333333</td><td style = \"text-align: right;\">0.333388</td></tr><tr><td class = \"rowNumber\" style = \"font-weight: bold; text-align: right;\">8547</td><td style = \"text-align: right;\">58</td><td style = \"text-align: right;\">0.5</td><td style = \"text-align: right;\">0.500092</td></tr><tr><td class = \"rowNumber\" style = \"font-weight: bold; text-align: right;\">8548</td><td style = \"text-align: right;\">62</td><td style = \"text-align: right;\">0.0833333</td><td style = \"text-align: right;\">0.0833405</td></tr><tr><td class = \"rowNumber\" style = \"font-weight: bold; text-align: right;\">8549</td><td style = \"text-align: right;\">60</td><td style = \"text-align: right;\">0.25</td><td style = \"text-align: right;\">0.250023</td></tr><tr><td class = \"rowNumber\" style = \"font-weight: bold; text-align: right;\">8550</td><td style = \"text-align: right;\">58</td><td style = \"text-align: right;\">0.5</td><td style = \"text-align: right;\">0.500034</td></tr><tr><td class = \"rowNumber\" style = \"font-weight: bold; text-align: right;\">8551</td><td style = \"text-align: right;\">57</td><td style = \"text-align: right;\">0.5</td><td style = \"text-align: right;\">0.500086</td></tr><tr><td class = \"rowNumber\" style = \"font-weight: bold; text-align: right;\">8552</td><td style = \"text-align: right;\">58</td><td style = \"text-align: right;\">0.5</td><td style = \"text-align: right;\">0.500263</td></tr></tbody></table></div>"
      ],
      "text/latex": [
       "\\begin{tabular}{r|ccc}\n",
       "\t& Symbol & Idyom & Julia\\\\\n",
       "\t\\hline\n",
       "\t& Int64 & Float64 & Float64\\\\\n",
       "\t\\hline\n",
       "\t1 & 65 & 0.0384615 & 0.0384615 \\\\\n",
       "\t2 & 62 & 0.0196078 & 0.0196078 \\\\\n",
       "\t3 & 60 & 0.0135135 & 0.0135135 \\\\\n",
       "\t4 & 60 & 0.252632 & 0.252632 \\\\\n",
       "\t5 & 60 & 0.503497 & 0.503497 \\\\\n",
       "\t6 & 60 & 0.503497 & 0.503497 \\\\\n",
       "\t7 & 65 & 0.167832 & 0.167832 \\\\\n",
       "\t8 & 65 & 0.143284 & 0.143284 \\\\\n",
       "\t9 & 65 & 0.334262 & 0.334262 \\\\\n",
       "\t10 & 69 & 0.00208768 & 0.00208768 \\\\\n",
       "\t11 & 69 & 0.0912698 & 0.0912698 \\\\\n",
       "\t12 & 69 & 0.501089 & 0.501089 \\\\\n",
       "\t13 & 69 & 0.501089 & 0.501089 \\\\\n",
       "\t14 & 69 & 0.501089 & 0.501089 \\\\\n",
       "\t15 & 67 & 0.00217865 & 0.00217865 \\\\\n",
       "\t16 & 65 & 0.250712 & 0.250712 \\\\\n",
       "\t17 & 65 & 0.400607 & 0.400607 \\\\\n",
       "\t18 & 65 & 0.333755 & 0.333755 \\\\\n",
       "\t19 & 62 & 0.0833333 & 0.083386 \\\\\n",
       "\t20 & 60 & 0.500711 & 0.500711 \\\\\n",
       "\t21 & 60 & 0.500632 & 0.500632 \\\\\n",
       "\t22 & 65 & 0.250316 & 0.250316 \\\\\n",
       "\t23 & 69 & 0.125 & 0.125089 \\\\\n",
       "\t24 & 69 & 0.5 & 0.500334 \\\\\n",
       "\t25 & 67 & 0.25 & 0.250167 \\\\\n",
       "\t26 & 65 & 0.500632 & 0.500632 \\\\\n",
       "\t27 & 60 & 0.0666667 & 0.0667004 \\\\\n",
       "\t28 & 60 & 0.571429 & 0.571738 \\\\\n",
       "\t29 & 60 & 0.4 & 0.400303 \\\\\n",
       "\t30 & 60 & 0.333755 & 0.333755 \\\\\n",
       "\t$\\dots$ & $\\dots$ & $\\dots$ & $\\dots$ \\\\\n",
       "\\end{tabular}\n"
      ],
      "text/plain": [
       "\u001b[1m8552×3 DataFrame\u001b[0m\n",
       "\u001b[1m  Row \u001b[0m│\u001b[1m Symbol \u001b[0m\u001b[1m Idyom      \u001b[0m\u001b[1m Julia      \u001b[0m\n",
       "      │\u001b[90m Int64  \u001b[0m\u001b[90m Float64    \u001b[0m\u001b[90m Float64    \u001b[0m\n",
       "──────┼────────────────────────────────\n",
       "    1 │     65  0.0384615   0.0384615\n",
       "    2 │     62  0.0196078   0.0196078\n",
       "    3 │     60  0.0135135   0.0135135\n",
       "    4 │     60  0.252632    0.252632\n",
       "    5 │     60  0.503497    0.503497\n",
       "    6 │     60  0.503497    0.503497\n",
       "    7 │     65  0.167832    0.167832\n",
       "    8 │     65  0.143284    0.143284\n",
       "    9 │     65  0.334262    0.334262\n",
       "   10 │     69  0.00208768  0.00208768\n",
       "   11 │     69  0.0912698   0.0912698\n",
       "  ⋮   │   ⋮         ⋮           ⋮\n",
       " 8543 │     65  0.5         0.500061\n",
       " 8544 │     65  0.5         0.500088\n",
       " 8545 │     65  0.0833333   0.0833504\n",
       " 8546 │     62  0.333333    0.333388\n",
       " 8547 │     58  0.5         0.500092\n",
       " 8548 │     62  0.0833333   0.0833405\n",
       " 8549 │     60  0.25        0.250023\n",
       " 8550 │     58  0.5         0.500034\n",
       " 8551 │     57  0.5         0.500086\n",
       " 8552 │     58  0.5         0.500263\n",
       "\u001b[36m                      8531 rows omitted\u001b[0m"
      ]
     },
     "execution_count": 14,
     "metadata": {},
     "output_type": "execute_result"
    }
   ],
   "source": [
    "idyom_data = CSV.File(idyom_model) |> DataFrame;\n",
    "idyom_prob = idyom_data[!,\"probability\"];\n",
    "idyom_ic = idyom_data[!,\"information.content\"]\n",
    "DataFrame(Symbol = pitch_table.Symbol, Idyom = idyom_prob, Julia = pitch_table.Prob)"
   ]
  },
  {
   "cell_type": "code",
   "execution_count": 15,
   "metadata": {
    "scrolled": true
   },
   "outputs": [
    {
     "data": {
      "image/svg+xml": [
       "<?xml version=\"1.0\" encoding=\"utf-8\"?>\n",
       "<svg xmlns=\"http://www.w3.org/2000/svg\" xmlns:xlink=\"http://www.w3.org/1999/xlink\" width=\"900\" height=\"300\" viewBox=\"0 0 3600 1200\">\n",
       "<defs>\n",
       "  <clipPath id=\"clip970\">\n",
       "    <rect x=\"0\" y=\"0\" width=\"3600\" height=\"1200\"/>\n",
       "  </clipPath>\n",
       "</defs>\n",
       "<path clip-path=\"url(#clip970)\" d=\"\n",
       "M0 1200 L3600 1200 L3600 0 L0 0  Z\n",
       "  \" fill=\"#ffffff\" fill-rule=\"evenodd\" fill-opacity=\"1\"/>\n",
       "<defs>\n",
       "  <clipPath id=\"clip971\">\n",
       "    <rect x=\"720\" y=\"0\" width=\"2521\" height=\"1200\"/>\n",
       "  </clipPath>\n",
       "</defs>\n",
       "<path clip-path=\"url(#clip970)\" d=\"\n",
       "M196.191 1107.73 L3552.76 1107.73 L3552.76 47.2441 L196.191 47.2441  Z\n",
       "  \" fill=\"#ffffff\" fill-rule=\"evenodd\" fill-opacity=\"1\"/>\n",
       "<defs>\n",
       "  <clipPath id=\"clip972\">\n",
       "    <rect x=\"196\" y=\"47\" width=\"3358\" height=\"1061\"/>\n",
       "  </clipPath>\n",
       "</defs>\n",
       "<polyline clip-path=\"url(#clip972)\" style=\"stroke:#000000; stroke-linecap:round; stroke-linejoin:round; stroke-width:2; stroke-opacity:0.1; fill:none\" points=\"\n",
       "  275.355,1107.73 275.355,47.2441 \n",
       "  \"/>\n",
       "<polyline clip-path=\"url(#clip972)\" style=\"stroke:#000000; stroke-linecap:round; stroke-linejoin:round; stroke-width:2; stroke-opacity:0.1; fill:none\" points=\"\n",
       "  1067,1107.73 1067,47.2441 \n",
       "  \"/>\n",
       "<polyline clip-path=\"url(#clip972)\" style=\"stroke:#000000; stroke-linecap:round; stroke-linejoin:round; stroke-width:2; stroke-opacity:0.1; fill:none\" points=\"\n",
       "  1858.64,1107.73 1858.64,47.2441 \n",
       "  \"/>\n",
       "<polyline clip-path=\"url(#clip972)\" style=\"stroke:#000000; stroke-linecap:round; stroke-linejoin:round; stroke-width:2; stroke-opacity:0.1; fill:none\" points=\"\n",
       "  2650.28,1107.73 2650.28,47.2441 \n",
       "  \"/>\n",
       "<polyline clip-path=\"url(#clip972)\" style=\"stroke:#000000; stroke-linecap:round; stroke-linejoin:round; stroke-width:2; stroke-opacity:0.1; fill:none\" points=\"\n",
       "  3441.93,1107.73 3441.93,47.2441 \n",
       "  \"/>\n",
       "<polyline clip-path=\"url(#clip970)\" style=\"stroke:#000000; stroke-linecap:round; stroke-linejoin:round; stroke-width:4; stroke-opacity:1; fill:none\" points=\"\n",
       "  196.191,1107.73 3552.76,1107.73 \n",
       "  \"/>\n",
       "<polyline clip-path=\"url(#clip970)\" style=\"stroke:#000000; stroke-linecap:round; stroke-linejoin:round; stroke-width:4; stroke-opacity:1; fill:none\" points=\"\n",
       "  275.355,1107.73 275.355,1088.83 \n",
       "  \"/>\n",
       "<polyline clip-path=\"url(#clip970)\" style=\"stroke:#000000; stroke-linecap:round; stroke-linejoin:round; stroke-width:4; stroke-opacity:1; fill:none\" points=\"\n",
       "  1067,1107.73 1067,1088.83 \n",
       "  \"/>\n",
       "<polyline clip-path=\"url(#clip970)\" style=\"stroke:#000000; stroke-linecap:round; stroke-linejoin:round; stroke-width:4; stroke-opacity:1; fill:none\" points=\"\n",
       "  1858.64,1107.73 1858.64,1088.83 \n",
       "  \"/>\n",
       "<polyline clip-path=\"url(#clip970)\" style=\"stroke:#000000; stroke-linecap:round; stroke-linejoin:round; stroke-width:4; stroke-opacity:1; fill:none\" points=\"\n",
       "  2650.28,1107.73 2650.28,1088.83 \n",
       "  \"/>\n",
       "<polyline clip-path=\"url(#clip970)\" style=\"stroke:#000000; stroke-linecap:round; stroke-linejoin:round; stroke-width:4; stroke-opacity:1; fill:none\" points=\"\n",
       "  3441.93,1107.73 3441.93,1088.83 \n",
       "  \"/>\n",
       "<path clip-path=\"url(#clip970)\" d=\"M275.355 1148.25 Q271.744 1148.25 269.915 1151.81 Q268.11 1155.35 268.11 1162.48 Q268.11 1169.59 269.915 1173.15 Q271.744 1176.7 275.355 1176.7 Q278.989 1176.7 280.795 1173.15 Q282.623 1169.59 282.623 1162.48 Q282.623 1155.35 280.795 1151.81 Q278.989 1148.25 275.355 1148.25 M275.355 1144.54 Q281.165 1144.54 284.221 1149.15 Q287.299 1153.73 287.299 1162.48 Q287.299 1171.21 284.221 1175.82 Q281.165 1180.4 275.355 1180.4 Q269.545 1180.4 266.466 1175.82 Q263.411 1171.21 263.411 1162.48 Q263.411 1153.73 266.466 1149.15 Q269.545 1144.54 275.355 1144.54 Z\" fill=\"#000000\" fill-rule=\"evenodd\" fill-opacity=\"1\" /><path clip-path=\"url(#clip970)\" d=\"M1041.7 1145.17 L1060.05 1145.17 L1060.05 1149.1 L1045.98 1149.1 L1045.98 1157.58 Q1047 1157.23 1048.02 1157.07 Q1049.03 1156.88 1050.05 1156.88 Q1055.84 1156.88 1059.22 1160.05 Q1062.6 1163.22 1062.6 1168.64 Q1062.6 1174.22 1059.13 1177.32 Q1055.66 1180.4 1049.34 1180.4 Q1047.16 1180.4 1044.89 1180.03 Q1042.65 1179.66 1040.24 1178.92 L1040.24 1174.22 Q1042.32 1175.35 1044.54 1175.91 Q1046.77 1176.46 1049.24 1176.46 Q1053.25 1176.46 1055.59 1174.36 Q1057.92 1172.25 1057.92 1168.64 Q1057.92 1165.03 1055.59 1162.92 Q1053.25 1160.82 1049.24 1160.82 Q1047.37 1160.82 1045.49 1161.23 Q1043.64 1161.65 1041.7 1162.53 L1041.7 1145.17 Z\" fill=\"#000000\" fill-rule=\"evenodd\" fill-opacity=\"1\" /><path clip-path=\"url(#clip970)\" d=\"M1081.81 1148.25 Q1078.2 1148.25 1076.37 1151.81 Q1074.57 1155.35 1074.57 1162.48 Q1074.57 1169.59 1076.37 1173.15 Q1078.2 1176.7 1081.81 1176.7 Q1085.45 1176.7 1087.25 1173.15 Q1089.08 1169.59 1089.08 1162.48 Q1089.08 1155.35 1087.25 1151.81 Q1085.45 1148.25 1081.81 1148.25 M1081.81 1144.54 Q1087.62 1144.54 1090.68 1149.15 Q1093.76 1153.73 1093.76 1162.48 Q1093.76 1171.21 1090.68 1175.82 Q1087.62 1180.4 1081.81 1180.4 Q1076 1180.4 1072.92 1175.82 Q1069.87 1171.21 1069.87 1162.48 Q1069.87 1153.73 1072.92 1149.15 Q1076 1144.54 1081.81 1144.54 Z\" fill=\"#000000\" fill-rule=\"evenodd\" fill-opacity=\"1\" /><path clip-path=\"url(#clip970)\" d=\"M1818.25 1175.79 L1825.89 1175.79 L1825.89 1149.43 L1817.58 1151.09 L1817.58 1146.83 L1825.84 1145.17 L1830.52 1145.17 L1830.52 1175.79 L1838.15 1175.79 L1838.15 1179.73 L1818.25 1179.73 L1818.25 1175.79 Z\" fill=\"#000000\" fill-rule=\"evenodd\" fill-opacity=\"1\" /><path clip-path=\"url(#clip970)\" d=\"M1857.6 1148.25 Q1853.99 1148.25 1852.16 1151.81 Q1850.35 1155.35 1850.35 1162.48 Q1850.35 1169.59 1852.16 1173.15 Q1853.99 1176.7 1857.6 1176.7 Q1861.23 1176.7 1863.04 1173.15 Q1864.87 1169.59 1864.87 1162.48 Q1864.87 1155.35 1863.04 1151.81 Q1861.23 1148.25 1857.6 1148.25 M1857.6 1144.54 Q1863.41 1144.54 1866.46 1149.15 Q1869.54 1153.73 1869.54 1162.48 Q1869.54 1171.21 1866.46 1175.82 Q1863.41 1180.4 1857.6 1180.4 Q1851.79 1180.4 1848.71 1175.82 Q1845.65 1171.21 1845.65 1162.48 Q1845.65 1153.73 1848.71 1149.15 Q1851.79 1144.54 1857.6 1144.54 Z\" fill=\"#000000\" fill-rule=\"evenodd\" fill-opacity=\"1\" /><path clip-path=\"url(#clip970)\" d=\"M1887.76 1148.25 Q1884.15 1148.25 1882.32 1151.81 Q1880.52 1155.35 1880.52 1162.48 Q1880.52 1169.59 1882.32 1173.15 Q1884.15 1176.7 1887.76 1176.7 Q1891.39 1176.7 1893.2 1173.15 Q1895.03 1169.59 1895.03 1162.48 Q1895.03 1155.35 1893.2 1151.81 Q1891.39 1148.25 1887.76 1148.25 M1887.76 1144.54 Q1893.57 1144.54 1896.63 1149.15 Q1899.71 1153.73 1899.71 1162.48 Q1899.71 1171.21 1896.63 1175.82 Q1893.57 1180.4 1887.76 1180.4 Q1881.95 1180.4 1878.87 1175.82 Q1875.82 1171.21 1875.82 1162.48 Q1875.82 1153.73 1878.87 1149.15 Q1881.95 1144.54 1887.76 1144.54 Z\" fill=\"#000000\" fill-rule=\"evenodd\" fill-opacity=\"1\" /><path clip-path=\"url(#clip970)\" d=\"M2609.89 1175.79 L2617.53 1175.79 L2617.53 1149.43 L2609.22 1151.09 L2609.22 1146.83 L2617.48 1145.17 L2622.16 1145.17 L2622.16 1175.79 L2629.8 1175.79 L2629.8 1179.73 L2609.89 1179.73 L2609.89 1175.79 Z\" fill=\"#000000\" fill-rule=\"evenodd\" fill-opacity=\"1\" /><path clip-path=\"url(#clip970)\" d=\"M2639.29 1145.17 L2657.64 1145.17 L2657.64 1149.1 L2643.57 1149.1 L2643.57 1157.58 Q2644.59 1157.23 2645.61 1157.07 Q2646.63 1156.88 2647.64 1156.88 Q2653.43 1156.88 2656.81 1160.05 Q2660.19 1163.22 2660.19 1168.64 Q2660.19 1174.22 2656.72 1177.32 Q2653.25 1180.4 2646.93 1180.4 Q2644.75 1180.4 2642.48 1180.03 Q2640.24 1179.66 2637.83 1178.92 L2637.83 1174.22 Q2639.91 1175.35 2642.14 1175.91 Q2644.36 1176.46 2646.83 1176.46 Q2650.84 1176.46 2653.18 1174.36 Q2655.51 1172.25 2655.51 1168.64 Q2655.51 1165.03 2653.18 1162.92 Q2650.84 1160.82 2646.83 1160.82 Q2644.96 1160.82 2643.08 1161.23 Q2641.23 1161.65 2639.29 1162.53 L2639.29 1145.17 Z\" fill=\"#000000\" fill-rule=\"evenodd\" fill-opacity=\"1\" /><path clip-path=\"url(#clip970)\" d=\"M2679.4 1148.25 Q2675.79 1148.25 2673.96 1151.81 Q2672.16 1155.35 2672.16 1162.48 Q2672.16 1169.59 2673.96 1173.15 Q2675.79 1176.7 2679.4 1176.7 Q2683.04 1176.7 2684.84 1173.15 Q2686.67 1169.59 2686.67 1162.48 Q2686.67 1155.35 2684.84 1151.81 Q2683.04 1148.25 2679.4 1148.25 M2679.4 1144.54 Q2685.21 1144.54 2688.27 1149.15 Q2691.35 1153.73 2691.35 1162.48 Q2691.35 1171.21 2688.27 1175.82 Q2685.21 1180.4 2679.4 1180.4 Q2673.59 1180.4 2670.51 1175.82 Q2667.46 1171.21 2667.46 1162.48 Q2667.46 1153.73 2670.51 1149.15 Q2673.59 1144.54 2679.4 1144.54 Z\" fill=\"#000000\" fill-rule=\"evenodd\" fill-opacity=\"1\" /><path clip-path=\"url(#clip970)\" d=\"M3405.62 1175.79 L3421.94 1175.79 L3421.94 1179.73 L3399.99 1179.73 L3399.99 1175.79 Q3402.66 1173.04 3407.24 1168.41 Q3411.85 1163.76 3413.03 1162.41 Q3415.27 1159.89 3416.15 1158.15 Q3417.05 1156.39 3417.05 1154.7 Q3417.05 1151.95 3415.11 1150.21 Q3413.19 1148.48 3410.09 1148.48 Q3407.89 1148.48 3405.43 1149.24 Q3403 1150.01 3400.22 1151.56 L3400.22 1146.83 Q3403.05 1145.7 3405.5 1145.12 Q3407.96 1144.54 3409.99 1144.54 Q3415.36 1144.54 3418.56 1147.23 Q3421.75 1149.91 3421.75 1154.4 Q3421.75 1156.53 3420.94 1158.45 Q3420.16 1160.35 3418.05 1162.95 Q3417.47 1163.62 3414.37 1166.83 Q3411.27 1170.03 3405.62 1175.79 Z\" fill=\"#000000\" fill-rule=\"evenodd\" fill-opacity=\"1\" /><path clip-path=\"url(#clip970)\" d=\"M3441.75 1148.25 Q3438.14 1148.25 3436.31 1151.81 Q3434.51 1155.35 3434.51 1162.48 Q3434.51 1169.59 3436.31 1173.15 Q3438.14 1176.7 3441.75 1176.7 Q3445.39 1176.7 3447.19 1173.15 Q3449.02 1169.59 3449.02 1162.48 Q3449.02 1155.35 3447.19 1151.81 Q3445.39 1148.25 3441.75 1148.25 M3441.75 1144.54 Q3447.56 1144.54 3450.62 1149.15 Q3453.7 1153.73 3453.7 1162.48 Q3453.7 1171.21 3450.62 1175.82 Q3447.56 1180.4 3441.75 1180.4 Q3435.94 1180.4 3432.86 1175.82 Q3429.81 1171.21 3429.81 1162.48 Q3429.81 1153.73 3432.86 1149.15 Q3435.94 1144.54 3441.75 1144.54 Z\" fill=\"#000000\" fill-rule=\"evenodd\" fill-opacity=\"1\" /><path clip-path=\"url(#clip970)\" d=\"M3471.91 1148.25 Q3468.3 1148.25 3466.47 1151.81 Q3464.67 1155.35 3464.67 1162.48 Q3464.67 1169.59 3466.47 1173.15 Q3468.3 1176.7 3471.91 1176.7 Q3475.55 1176.7 3477.35 1173.15 Q3479.18 1169.59 3479.18 1162.48 Q3479.18 1155.35 3477.35 1151.81 Q3475.55 1148.25 3471.91 1148.25 M3471.91 1144.54 Q3477.72 1144.54 3480.78 1149.15 Q3483.86 1153.73 3483.86 1162.48 Q3483.86 1171.21 3480.78 1175.82 Q3477.72 1180.4 3471.91 1180.4 Q3466.1 1180.4 3463.03 1175.82 Q3459.97 1171.21 3459.97 1162.48 Q3459.97 1153.73 3463.03 1149.15 Q3466.1 1144.54 3471.91 1144.54 Z\" fill=\"#000000\" fill-rule=\"evenodd\" fill-opacity=\"1\" /><polyline clip-path=\"url(#clip972)\" style=\"stroke:#000000; stroke-linecap:round; stroke-linejoin:round; stroke-width:2; stroke-opacity:0.1; fill:none\" points=\"\n",
       "  196.191,898.441 3552.76,898.441 \n",
       "  \"/>\n",
       "<polyline clip-path=\"url(#clip972)\" style=\"stroke:#000000; stroke-linecap:round; stroke-linejoin:round; stroke-width:2; stroke-opacity:0.1; fill:none\" points=\"\n",
       "  196.191,683.59 3552.76,683.59 \n",
       "  \"/>\n",
       "<polyline clip-path=\"url(#clip972)\" style=\"stroke:#000000; stroke-linecap:round; stroke-linejoin:round; stroke-width:2; stroke-opacity:0.1; fill:none\" points=\"\n",
       "  196.191,468.74 3552.76,468.74 \n",
       "  \"/>\n",
       "<polyline clip-path=\"url(#clip972)\" style=\"stroke:#000000; stroke-linecap:round; stroke-linejoin:round; stroke-width:2; stroke-opacity:0.1; fill:none\" points=\"\n",
       "  196.191,253.889 3552.76,253.889 \n",
       "  \"/>\n",
       "<polyline clip-path=\"url(#clip970)\" style=\"stroke:#000000; stroke-linecap:round; stroke-linejoin:round; stroke-width:4; stroke-opacity:1; fill:none\" points=\"\n",
       "  196.191,1107.73 196.191,47.2441 \n",
       "  \"/>\n",
       "<polyline clip-path=\"url(#clip970)\" style=\"stroke:#000000; stroke-linecap:round; stroke-linejoin:round; stroke-width:4; stroke-opacity:1; fill:none\" points=\"\n",
       "  196.191,898.441 215.088,898.441 \n",
       "  \"/>\n",
       "<polyline clip-path=\"url(#clip970)\" style=\"stroke:#000000; stroke-linecap:round; stroke-linejoin:round; stroke-width:4; stroke-opacity:1; fill:none\" points=\"\n",
       "  196.191,683.59 215.088,683.59 \n",
       "  \"/>\n",
       "<polyline clip-path=\"url(#clip970)\" style=\"stroke:#000000; stroke-linecap:round; stroke-linejoin:round; stroke-width:4; stroke-opacity:1; fill:none\" points=\"\n",
       "  196.191,468.74 215.088,468.74 \n",
       "  \"/>\n",
       "<polyline clip-path=\"url(#clip970)\" style=\"stroke:#000000; stroke-linecap:round; stroke-linejoin:round; stroke-width:4; stroke-opacity:1; fill:none\" points=\"\n",
       "  196.191,253.889 215.088,253.889 \n",
       "  \"/>\n",
       "<path clip-path=\"url(#clip970)\" d=\"M80.0382 911.786 L96.3576 911.786 L96.3576 915.721 L74.4133 915.721 L74.4133 911.786 Q77.0753 909.031 81.6586 904.401 Q86.2651 899.749 87.4456 898.406 Q89.691 895.883 90.5706 894.147 Q91.4734 892.388 91.4734 890.698 Q91.4734 887.943 89.5289 886.207 Q87.6076 884.471 84.5058 884.471 Q82.3067 884.471 79.8531 885.235 Q77.4225 885.999 74.6447 887.55 L74.6447 882.828 Q77.4688 881.693 79.9225 881.115 Q82.3762 880.536 84.4132 880.536 Q89.7836 880.536 92.978 883.221 Q96.1724 885.906 96.1724 890.397 Q96.1724 892.527 95.3622 894.448 Q94.5752 896.346 92.4687 898.939 Q91.89 899.61 88.7882 902.827 Q85.6864 906.022 80.0382 911.786 Z\" fill=\"#000000\" fill-rule=\"evenodd\" fill-opacity=\"1\" /><path clip-path=\"url(#clip970)\" d=\"M106.172 909.841 L111.057 909.841 L111.057 915.721 L106.172 915.721 L106.172 909.841 Z\" fill=\"#000000\" fill-rule=\"evenodd\" fill-opacity=\"1\" /><path clip-path=\"url(#clip970)\" d=\"M121.288 881.161 L139.644 881.161 L139.644 885.096 L125.57 885.096 L125.57 893.568 Q126.589 893.221 127.607 893.059 Q128.626 892.874 129.644 892.874 Q135.431 892.874 138.811 896.045 Q142.191 899.216 142.191 904.633 Q142.191 910.212 138.718 913.313 Q135.246 916.392 128.927 916.392 Q126.751 916.392 124.482 916.022 Q122.237 915.651 119.83 914.911 L119.83 910.212 Q121.913 911.346 124.135 911.901 Q126.357 912.457 128.834 912.457 Q132.839 912.457 135.177 910.351 Q137.515 908.244 137.515 904.633 Q137.515 901.022 135.177 898.915 Q132.839 896.809 128.834 896.809 Q126.959 896.809 125.084 897.226 Q123.232 897.642 121.288 898.522 L121.288 881.161 Z\" fill=\"#000000\" fill-rule=\"evenodd\" fill-opacity=\"1\" /><path clip-path=\"url(#clip970)\" d=\"M75.0614 666.31 L93.4178 666.31 L93.4178 670.245 L79.3438 670.245 L79.3438 678.718 Q80.3623 678.37 81.3808 678.208 Q82.3993 678.023 83.4178 678.023 Q89.2049 678.023 92.5845 681.194 Q95.9641 684.366 95.9641 689.782 Q95.9641 695.361 92.4919 698.463 Q89.0197 701.542 82.7003 701.542 Q80.5243 701.542 78.2558 701.171 Q76.0105 700.801 73.6031 700.06 L73.6031 695.361 Q75.6864 696.495 77.9086 697.051 Q80.1308 697.606 82.6077 697.606 Q86.6123 697.606 88.9502 695.5 Q91.2882 693.393 91.2882 689.782 Q91.2882 686.171 88.9502 684.065 Q86.6123 681.958 82.6077 681.958 Q80.7327 681.958 78.8577 682.375 Q77.0058 682.792 75.0614 683.671 L75.0614 666.31 Z\" fill=\"#000000\" fill-rule=\"evenodd\" fill-opacity=\"1\" /><path clip-path=\"url(#clip970)\" d=\"M105.177 694.991 L110.061 694.991 L110.061 700.87 L105.177 700.87 L105.177 694.991 Z\" fill=\"#000000\" fill-rule=\"evenodd\" fill-opacity=\"1\" /><path clip-path=\"url(#clip970)\" d=\"M130.246 669.389 Q126.635 669.389 124.807 672.954 Q123.001 676.495 123.001 683.625 Q123.001 690.731 124.807 694.296 Q126.635 697.838 130.246 697.838 Q133.881 697.838 135.686 694.296 Q137.515 690.731 137.515 683.625 Q137.515 676.495 135.686 672.954 Q133.881 669.389 130.246 669.389 M130.246 665.685 Q136.056 665.685 139.112 670.292 Q142.191 674.875 142.191 683.625 Q142.191 692.352 139.112 696.958 Q136.056 701.542 130.246 701.542 Q124.436 701.542 121.357 696.958 Q118.302 692.352 118.302 683.625 Q118.302 674.875 121.357 670.292 Q124.436 665.685 130.246 665.685 Z\" fill=\"#000000\" fill-rule=\"evenodd\" fill-opacity=\"1\" /><path clip-path=\"url(#clip970)\" d=\"M74.8299 451.46 L97.052 451.46 L97.052 453.45 L84.5058 486.02 L79.6216 486.02 L91.4271 455.395 L74.8299 455.395 L74.8299 451.46 Z\" fill=\"#000000\" fill-rule=\"evenodd\" fill-opacity=\"1\" /><path clip-path=\"url(#clip970)\" d=\"M106.172 480.14 L111.057 480.14 L111.057 486.02 L106.172 486.02 L106.172 480.14 Z\" fill=\"#000000\" fill-rule=\"evenodd\" fill-opacity=\"1\" /><path clip-path=\"url(#clip970)\" d=\"M121.288 451.46 L139.644 451.46 L139.644 455.395 L125.57 455.395 L125.57 463.867 Q126.589 463.52 127.607 463.358 Q128.626 463.173 129.644 463.173 Q135.431 463.173 138.811 466.344 Q142.191 469.515 142.191 474.932 Q142.191 480.511 138.718 483.612 Q135.246 486.691 128.927 486.691 Q126.751 486.691 124.482 486.321 Q122.237 485.95 119.83 485.21 L119.83 480.511 Q121.913 481.645 124.135 482.2 Q126.357 482.756 128.834 482.756 Q132.839 482.756 135.177 480.649 Q137.515 478.543 137.515 474.932 Q137.515 471.321 135.177 469.214 Q132.839 467.108 128.834 467.108 Q126.959 467.108 125.084 467.524 Q123.232 467.941 121.288 468.821 L121.288 451.46 Z\" fill=\"#000000\" fill-rule=\"evenodd\" fill-opacity=\"1\" /><path clip-path=\"url(#clip970)\" d=\"M45.6634 267.234 L53.3023 267.234 L53.3023 240.868 L44.9921 242.535 L44.9921 238.276 L53.256 236.609 L57.9319 236.609 L57.9319 267.234 L65.5707 267.234 L65.5707 271.169 L45.6634 271.169 L45.6634 267.234 Z\" fill=\"#000000\" fill-rule=\"evenodd\" fill-opacity=\"1\" /><path clip-path=\"url(#clip970)\" d=\"M85.0151 239.688 Q81.404 239.688 79.5753 243.253 Q77.7697 246.794 77.7697 253.924 Q77.7697 261.03 79.5753 264.595 Q81.404 268.137 85.0151 268.137 Q88.6493 268.137 90.4548 264.595 Q92.2835 261.03 92.2835 253.924 Q92.2835 246.794 90.4548 243.253 Q88.6493 239.688 85.0151 239.688 M85.0151 235.984 Q90.8252 235.984 93.8808 240.591 Q96.9594 245.174 96.9594 253.924 Q96.9594 262.651 93.8808 267.257 Q90.8252 271.84 85.0151 271.84 Q79.2049 271.84 76.1262 267.257 Q73.0707 262.651 73.0707 253.924 Q73.0707 245.174 76.1262 240.591 Q79.2049 235.984 85.0151 235.984 Z\" fill=\"#000000\" fill-rule=\"evenodd\" fill-opacity=\"1\" /><path clip-path=\"url(#clip970)\" d=\"M105.177 265.29 L110.061 265.29 L110.061 271.169 L105.177 271.169 L105.177 265.29 Z\" fill=\"#000000\" fill-rule=\"evenodd\" fill-opacity=\"1\" /><path clip-path=\"url(#clip970)\" d=\"M130.246 239.688 Q126.635 239.688 124.807 243.253 Q123.001 246.794 123.001 253.924 Q123.001 261.03 124.807 264.595 Q126.635 268.137 130.246 268.137 Q133.881 268.137 135.686 264.595 Q137.515 261.03 137.515 253.924 Q137.515 246.794 135.686 243.253 Q133.881 239.688 130.246 239.688 M130.246 235.984 Q136.056 235.984 139.112 240.591 Q142.191 245.174 142.191 253.924 Q142.191 262.651 139.112 267.257 Q136.056 271.84 130.246 271.84 Q124.436 271.84 121.357 267.257 Q118.302 262.651 118.302 253.924 Q118.302 245.174 121.357 240.591 Q124.436 235.984 130.246 235.984 Z\" fill=\"#000000\" fill-rule=\"evenodd\" fill-opacity=\"1\" /><polyline clip-path=\"url(#clip972)\" style=\"stroke:#009af9; stroke-linecap:round; stroke-linejoin:round; stroke-width:4; stroke-opacity:1; fill:none\" points=\"\n",
       "  291.188,1027.35 307.021,855.471 322.854,1027.35 338.686,855.471 354.519,941.411 370.352,1027.35 386.185,1027.35 402.018,709.335 417.851,625.802 433.684,978.744 \n",
       "  449.516,492.874 465.349,520.749 481.182,977.981 497.015,777.892 512.848,439.588 528.681,458.251 544.513,828.396 560.346,1027.72 576.179,1027.49 592.012,1027.62 \n",
       "  607.845,805.363 623.678,941.657 639.511,941.411 655.343,745.154 671.176,1063.17 687.009,840.867 702.842,1027.56 718.675,1027.35 734.508,1027.35 750.341,941.411 \n",
       "  766.173,1027.35 782.006,130.418 797.839,709.573 813.672,638.73 829.505,709.335 845.338,977.079 861.171,1027.35 877.003,941.411 892.836,1027.35 908.669,1027.35 \n",
       "  924.502,709.335 940.335,1029.76 956.168,625.802 972.001,1028.6 987.833,579.65 1003.67,497.97 1019.5,872.799 1035.33,941.861 1051.16,941.861 1067,381.112 \n",
       "  1082.83,816.5 1098.66,358.902 1114.5,795.73 1130.33,719.505 1146.16,816.256 1161.99,805.363 1177.83,841.031 1193.66,913.913 1209.49,1027.5 1225.33,1027.35 \n",
       "  1241.16,1027.35 1256.99,709.335 1272.82,241.238 1288.66,855.729 1304.49,262.02 1320.32,709.586 1336.16,838.284 1351.99,891.139 1367.82,891.139 1383.65,977.079 \n",
       "  1399.49,941.411 1415.32,1027.35 1431.15,1027.35 1446.99,1027.35 1462.82,1027.35 1478.65,840.867 1494.48,786.086 1510.32,891.139 1526.15,827.804 1541.98,77.2578 \n",
       "  1557.82,653.03 1573.65,792.136 1589.48,580.49 1605.31,704.655 1621.15,782.594 1636.98,987.868 1652.81,999.685 1668.65,622.208 1684.48,709.335 1700.31,1027.35 \n",
       "  1716.14,1077.62 1731.98,1077.62 1747.81,941.411 1763.64,1027.35 1779.48,1027.35 1795.31,1027.35 1811.14,1027.35 1826.97,1027.35 1842.81,1027.35 1858.64,977.079 \n",
       "  1874.47,977.079 1890.31,709.335 1906.14,1029.76 1921.97,625.802 1937.8,942.657 1953.64,492.874 1969.47,497.97 1985.3,872.799 2001.14,416.893 2016.97,927.435 \n",
       "  2032.8,755.241 2048.63,1027.7 2064.47,308.535 2080.3,795.73 2096.13,1027.6 2111.97,1027.6 2127.8,805.445 2143.63,841.031 2159.46,714.197 2175.3,831.095 \n",
       "  2191.13,913.913 2206.96,913.744 2222.8,977.079 2238.63,700.146 2254.46,941.411 2270.29,855.471 2286.13,1027.35 2301.96,891.139 2317.79,855.471 2333.63,805.199 \n",
       "  2349.46,977.079 2365.29,142.235 2381.12,925.049 2396.96,855.471 2412.79,756.467 2428.62,828.114 2444.46,1027.35 2460.29,709.335 2476.12,625.802 2491.95,978.744 \n",
       "  2507.79,1028.6 2523.62,1028.6 2539.45,543.563 2555.29,478.734 2571.12,856.146 2586.95,1027.89 2602.78,381.112 2618.62,1016.05 2634.45,891.374 2650.28,403.245 \n",
       "  2666.12,872.449 2681.95,977.326 2697.78,1027.35 2713.61,291.674 2729.45,996.537 2745.28,855.6 2761.11,834.327 2776.95,913.744 2792.78,1027.57 2808.61,922.298 \n",
       "  2824.44,614.206 2840.28,1063.16 2856.11,977.079 2871.94,700.146 2887.78,1077.62 2903.61,542.317 2919.44,1027.35 2935.27,1027.51 2951.11,719.259 2966.94,1027.51 \n",
       "  2982.77,1027.35 2998.61,1027.35 3014.44,1027.49 3030.27,1027.35 3046.1,1027.35 3061.94,709.335 3077.77,625.802 3093.6,579.65 3109.44,942.709 3125.27,497.97 \n",
       "  3141.1,977.981 3156.93,452.712 3172.77,856.177 3188.6,891.61 3204.43,805.669 3220.27,1027.7 3236.1,308.535 3251.93,418.253 3267.76,415.103 3283.6,777.968 \n",
       "  3299.43,1027.57 3315.26,326.742 3331.1,841.251 3346.93,1063.15 3362.76,977.223 3378.59,1027.54 3394.43,1027.35 3410.26,834.345 3426.09,999.685 3441.93,605.652 \n",
       "  3457.76,1027.52 \n",
       "  \"/>\n",
       "<polyline clip-path=\"url(#clip972)\" style=\"stroke:#e26f46; stroke-linecap:round; stroke-linejoin:round; stroke-width:4; stroke-opacity:1; fill:none\" points=\"\n",
       "  291.188,1027.37 307.021,913.776 322.854,1027.37 338.686,891.144 354.519,941.417 370.352,1027.36 386.185,1027.36 402.018,709.335 417.851,625.802 433.684,978.744 \n",
       "  449.516,492.874 465.349,520.749 481.182,977.981 497.015,777.892 512.848,439.588 528.681,458.251 544.513,828.396 560.346,1027.72 576.179,1027.49 592.012,1027.62 \n",
       "  607.845,805.363 623.678,941.657 639.511,941.503 655.343,745.154 671.176,1063.17 687.009,840.94 702.842,1027.56 718.675,1027.42 734.508,1027.46 750.341,977.178 \n",
       "  766.173,1027.42 782.006,130.463 797.839,709.573 813.672,638.73 829.505,709.454 845.338,977.165 861.171,1027.42 877.003,941.476 892.836,1027.42 908.669,1027.39 \n",
       "  924.502,709.335 940.335,1029.76 956.168,625.802 972.001,1028.6 987.833,579.65 1003.67,497.97 1019.5,872.799 1035.33,941.861 1051.16,941.861 1067,381.112 \n",
       "  1082.83,816.5 1098.66,358.902 1114.5,795.73 1130.33,719.505 1146.16,816.256 1161.99,805.363 1177.83,841.031 1193.66,913.913 1209.49,1027.5 1225.33,1027.46 \n",
       "  1241.16,1027.43 1256.99,709.448 1272.82,241.348 1288.66,855.729 1304.49,262.02 1320.32,709.586 1336.16,838.284 1351.99,891.26 1367.82,891.2 1383.65,977.14 \n",
       "  1399.49,941.456 1415.32,1027.4 1431.15,1027.45 1446.99,1027.4 1462.82,1063.04 1478.65,840.906 1494.48,786.18 1510.32,891.196 1526.15,827.845 1541.98,77.2869 \n",
       "  1557.82,653.03 1573.65,792.222 1589.48,580.537 1605.31,704.74 1621.15,782.642 1636.98,987.912 1652.81,999.704 1668.65,622.241 1684.48,709.388 1700.31,1027.41 \n",
       "  1716.14,1077.64 1731.98,1077.63 1747.81,941.428 1763.64,1027.37 1779.48,1027.37 1795.31,1027.36 1811.14,1027.38 1826.97,1027.37 1842.81,1027.39 1858.64,977.102 \n",
       "  1874.47,977.125 1890.31,709.335 1906.14,1029.76 1921.97,625.802 1937.8,942.657 1953.64,492.874 1969.47,497.97 1985.3,872.799 2001.14,416.893 2016.97,927.435 \n",
       "  2032.8,755.241 2048.63,1027.7 2064.47,308.536 2080.3,795.73 2096.13,1027.6 2111.97,1027.6 2127.8,805.445 2143.63,841.031 2159.46,714.316 2175.3,831.095 \n",
       "  2191.13,913.913 2206.96,913.829 2222.8,977.173 2238.63,700.217 2254.46,941.525 2270.29,855.528 2286.13,1027.4 2301.96,891.238 2317.79,855.545 2333.63,805.297 \n",
       "  2349.46,977.178 2365.29,142.284 2381.12,925.049 2396.96,855.548 2412.79,756.506 2428.62,828.115 2444.46,1027.47 2460.29,709.335 2476.12,625.802 2491.95,978.744 \n",
       "  2507.79,1028.6 2523.62,1028.6 2539.45,543.563 2555.29,478.734 2571.12,856.146 2586.95,1027.89 2602.78,381.112 2618.62,1016.05 2634.45,891.374 2650.28,403.245 \n",
       "  2666.12,872.449 2681.95,977.326 2697.78,1027.47 2713.61,291.674 2729.45,996.537 2745.28,855.6 2761.11,834.327 2776.95,913.857 2792.78,1027.57 2808.61,922.362 \n",
       "  2824.44,614.261 2840.28,1063.16 2856.11,977.162 2871.94,700.22 2887.78,1077.71 2903.61,542.379 2919.44,1027.46 2935.27,1027.51 2951.11,719.31 2966.94,1027.51 \n",
       "  2982.77,1027.39 2998.61,1027.38 3014.44,1027.49 3030.27,1027.37 3046.1,1027.44 3061.94,709.335 3077.77,625.802 3093.6,579.65 3109.44,942.709 3125.27,497.97 \n",
       "  3141.1,977.981 3156.93,452.712 3172.77,856.177 3188.6,891.61 3204.43,805.669 3220.27,1027.7 3236.1,308.536 3251.93,418.253 3267.76,415.103 3283.6,777.968 \n",
       "  3299.43,1027.57 3315.26,326.742 3331.1,841.251 3346.93,1063.15 3362.76,977.223 3378.59,1027.54 3394.43,1027.42 3410.26,834.345 3426.09,999.761 3441.93,605.767 \n",
       "  3457.76,1027.52 \n",
       "  \"/>\n",
       "<polyline clip-path=\"url(#clip972)\" style=\"stroke:#3da44d; stroke-linecap:round; stroke-linejoin:round; stroke-width:8; stroke-opacity:1; fill:none\" points=\"\n",
       "  402.018,2168.21 402.018,-1013.24 \n",
       "  \"/>\n",
       "<polyline clip-path=\"url(#clip972)\" style=\"stroke:#3da44d; stroke-linecap:round; stroke-linejoin:round; stroke-width:8; stroke-opacity:1; fill:none\" points=\"\n",
       "  544.513,2168.21 544.513,-1013.24 \n",
       "  \"/>\n",
       "<polyline clip-path=\"url(#clip972)\" style=\"stroke:#3da44d; stroke-linecap:round; stroke-linejoin:round; stroke-width:8; stroke-opacity:1; fill:none\" points=\"\n",
       "  671.176,2168.21 671.176,-1013.24 \n",
       "  \"/>\n",
       "<polyline clip-path=\"url(#clip972)\" style=\"stroke:#3da44d; stroke-linecap:round; stroke-linejoin:round; stroke-width:8; stroke-opacity:1; fill:none\" points=\"\n",
       "  813.672,2168.21 813.672,-1013.24 \n",
       "  \"/>\n",
       "<polyline clip-path=\"url(#clip972)\" style=\"stroke:#3da44d; stroke-linecap:round; stroke-linejoin:round; stroke-width:8; stroke-opacity:1; fill:none\" points=\"\n",
       "  924.502,2168.21 924.502,-1013.24 \n",
       "  \"/>\n",
       "<polyline clip-path=\"url(#clip972)\" style=\"stroke:#3da44d; stroke-linecap:round; stroke-linejoin:round; stroke-width:8; stroke-opacity:1; fill:none\" points=\"\n",
       "  1051.16,2168.21 1051.16,-1013.24 \n",
       "  \"/>\n",
       "<polyline clip-path=\"url(#clip972)\" style=\"stroke:#3da44d; stroke-linecap:round; stroke-linejoin:round; stroke-width:8; stroke-opacity:1; fill:none\" points=\"\n",
       "  1146.16,2168.21 1146.16,-1013.24 \n",
       "  \"/>\n",
       "<polyline clip-path=\"url(#clip972)\" style=\"stroke:#3da44d; stroke-linecap:round; stroke-linejoin:round; stroke-width:8; stroke-opacity:1; fill:none\" points=\"\n",
       "  1272.82,2168.21 1272.82,-1013.24 \n",
       "  \"/>\n",
       "<polyline clip-path=\"url(#clip972)\" style=\"stroke:#3da44d; stroke-linecap:round; stroke-linejoin:round; stroke-width:8; stroke-opacity:1; fill:none\" points=\"\n",
       "  1383.65,2168.21 1383.65,-1013.24 \n",
       "  \"/>\n",
       "<polyline clip-path=\"url(#clip972)\" style=\"stroke:#3da44d; stroke-linecap:round; stroke-linejoin:round; stroke-width:8; stroke-opacity:1; fill:none\" points=\"\n",
       "  1494.48,2168.21 1494.48,-1013.24 \n",
       "  \"/>\n",
       "<polyline clip-path=\"url(#clip972)\" style=\"stroke:#3da44d; stroke-linecap:round; stroke-linejoin:round; stroke-width:8; stroke-opacity:1; fill:none\" points=\"\n",
       "  1636.98,2168.21 1636.98,-1013.24 \n",
       "  \"/>\n",
       "<polyline clip-path=\"url(#clip972)\" style=\"stroke:#3da44d; stroke-linecap:round; stroke-linejoin:round; stroke-width:8; stroke-opacity:1; fill:none\" points=\"\n",
       "  1779.48,2168.21 1779.48,-1013.24 \n",
       "  \"/>\n",
       "<polyline clip-path=\"url(#clip972)\" style=\"stroke:#3da44d; stroke-linecap:round; stroke-linejoin:round; stroke-width:8; stroke-opacity:1; fill:none\" points=\"\n",
       "  1890.31,2168.21 1890.31,-1013.24 \n",
       "  \"/>\n",
       "<polyline clip-path=\"url(#clip972)\" style=\"stroke:#3da44d; stroke-linecap:round; stroke-linejoin:round; stroke-width:8; stroke-opacity:1; fill:none\" points=\"\n",
       "  2048.63,2168.21 2048.63,-1013.24 \n",
       "  \"/>\n",
       "<polyline clip-path=\"url(#clip972)\" style=\"stroke:#3da44d; stroke-linecap:round; stroke-linejoin:round; stroke-width:8; stroke-opacity:1; fill:none\" points=\"\n",
       "  2333.63,2168.21 2333.63,-1013.24 \n",
       "  \"/>\n",
       "<polyline clip-path=\"url(#clip972)\" style=\"stroke:#3da44d; stroke-linecap:round; stroke-linejoin:round; stroke-width:8; stroke-opacity:1; fill:none\" points=\"\n",
       "  2460.29,2168.21 2460.29,-1013.24 \n",
       "  \"/>\n",
       "<polyline clip-path=\"url(#clip972)\" style=\"stroke:#3da44d; stroke-linecap:round; stroke-linejoin:round; stroke-width:8; stroke-opacity:1; fill:none\" points=\"\n",
       "  2586.95,2168.21 2586.95,-1013.24 \n",
       "  \"/>\n",
       "<polyline clip-path=\"url(#clip972)\" style=\"stroke:#3da44d; stroke-linecap:round; stroke-linejoin:round; stroke-width:8; stroke-opacity:1; fill:none\" points=\"\n",
       "  2681.95,2168.21 2681.95,-1013.24 \n",
       "  \"/>\n",
       "<polyline clip-path=\"url(#clip972)\" style=\"stroke:#3da44d; stroke-linecap:round; stroke-linejoin:round; stroke-width:8; stroke-opacity:1; fill:none\" points=\"\n",
       "  2808.61,2168.21 2808.61,-1013.24 \n",
       "  \"/>\n",
       "<polyline clip-path=\"url(#clip972)\" style=\"stroke:#3da44d; stroke-linecap:round; stroke-linejoin:round; stroke-width:8; stroke-opacity:1; fill:none\" points=\"\n",
       "  2935.27,2168.21 2935.27,-1013.24 \n",
       "  \"/>\n",
       "<polyline clip-path=\"url(#clip972)\" style=\"stroke:#3da44d; stroke-linecap:round; stroke-linejoin:round; stroke-width:8; stroke-opacity:1; fill:none\" points=\"\n",
       "  3061.94,2168.21 3061.94,-1013.24 \n",
       "  \"/>\n",
       "<polyline clip-path=\"url(#clip972)\" style=\"stroke:#3da44d; stroke-linecap:round; stroke-linejoin:round; stroke-width:8; stroke-opacity:1; fill:none\" points=\"\n",
       "  3204.43,2168.21 3204.43,-1013.24 \n",
       "  \"/>\n",
       "<polyline clip-path=\"url(#clip972)\" style=\"stroke:#3da44d; stroke-linecap:round; stroke-linejoin:round; stroke-width:8; stroke-opacity:1; fill:none\" points=\"\n",
       "  3362.76,2168.21 3362.76,-1013.24 \n",
       "  \"/>\n",
       "<path clip-path=\"url(#clip970)\" d=\"\n",
       "M3014.91 289.954 L3440.87 289.954 L3440.87 82.5936 L3014.91 82.5936  Z\n",
       "  \" fill=\"#ffffff\" fill-rule=\"evenodd\" fill-opacity=\"1\"/>\n",
       "<polyline clip-path=\"url(#clip970)\" style=\"stroke:#000000; stroke-linecap:round; stroke-linejoin:round; stroke-width:4; stroke-opacity:1; fill:none\" points=\"\n",
       "  3014.91,289.954 3440.87,289.954 3440.87,82.5936 3014.91,82.5936 3014.91,289.954 \n",
       "  \"/>\n",
       "<polyline clip-path=\"url(#clip970)\" style=\"stroke:#009af9; stroke-linecap:round; stroke-linejoin:round; stroke-width:4; stroke-opacity:1; fill:none\" points=\"\n",
       "  3052.2,134.434 3275.98,134.434 \n",
       "  \"/>\n",
       "<path clip-path=\"url(#clip970)\" d=\"M3327.11 154.121 Q3325.31 158.751 3323.6 160.163 Q3321.88 161.575 3319.01 161.575 L3315.61 161.575 L3315.61 158.01 L3318.11 158.01 Q3319.87 158.01 3320.84 157.176 Q3321.81 156.343 3322.99 153.241 L3323.76 151.297 L3313.27 125.788 L3317.78 125.788 L3325.89 146.065 L3333.99 125.788 L3338.5 125.788 L3327.11 154.121 Z\" fill=\"#000000\" fill-rule=\"evenodd\" fill-opacity=\"1\" /><path clip-path=\"url(#clip970)\" d=\"M3345.79 147.778 L3353.43 147.778 L3353.43 121.413 L3345.12 123.079 L3345.12 118.82 L3353.39 117.154 L3358.06 117.154 L3358.06 147.778 L3365.7 147.778 L3365.7 151.714 L3345.79 151.714 L3345.79 147.778 Z\" fill=\"#000000\" fill-rule=\"evenodd\" fill-opacity=\"1\" /><polyline clip-path=\"url(#clip970)\" style=\"stroke:#e26f46; stroke-linecap:round; stroke-linejoin:round; stroke-width:4; stroke-opacity:1; fill:none\" points=\"\n",
       "  3052.2,186.274 3275.98,186.274 \n",
       "  \"/>\n",
       "<path clip-path=\"url(#clip970)\" d=\"M3327.11 205.961 Q3325.31 210.591 3323.6 212.003 Q3321.88 213.415 3319.01 213.415 L3315.61 213.415 L3315.61 209.85 L3318.11 209.85 Q3319.87 209.85 3320.84 209.016 Q3321.81 208.183 3322.99 205.081 L3323.76 203.137 L3313.27 177.628 L3317.78 177.628 L3325.89 197.905 L3333.99 177.628 L3338.5 177.628 L3327.11 205.961 Z\" fill=\"#000000\" fill-rule=\"evenodd\" fill-opacity=\"1\" /><path clip-path=\"url(#clip970)\" d=\"M3349.01 199.618 L3365.33 199.618 L3365.33 203.554 L3343.39 203.554 L3343.39 199.618 Q3346.05 196.864 3350.63 192.234 Q3355.24 187.581 3356.42 186.239 Q3358.66 183.716 3359.54 181.98 Q3360.45 180.22 3360.45 178.531 Q3360.45 175.776 3358.5 174.04 Q3356.58 172.304 3353.48 172.304 Q3351.28 172.304 3348.83 173.068 Q3346.4 173.831 3343.62 175.382 L3343.62 170.66 Q3346.44 169.526 3348.9 168.947 Q3351.35 168.369 3353.39 168.369 Q3358.76 168.369 3361.95 171.054 Q3365.15 173.739 3365.15 178.23 Q3365.15 180.359 3364.34 182.281 Q3363.55 184.179 3361.44 186.771 Q3360.86 187.443 3357.76 190.66 Q3354.66 193.855 3349.01 199.618 Z\" fill=\"#000000\" fill-rule=\"evenodd\" fill-opacity=\"1\" /><polyline clip-path=\"url(#clip970)\" style=\"stroke:#3da44d; stroke-linecap:round; stroke-linejoin:round; stroke-width:4; stroke-opacity:1; fill:none\" points=\"\n",
       "  3052.2,238.114 3275.98,238.114 \n",
       "  \"/>\n",
       "<path clip-path=\"url(#clip970)\" d=\"M3327.11 257.801 Q3325.31 262.431 3323.6 263.843 Q3321.88 265.255 3319.01 265.255 L3315.61 265.255 L3315.61 261.69 L3318.11 261.69 Q3319.87 261.69 3320.84 260.856 Q3321.81 260.023 3322.99 256.921 L3323.76 254.977 L3313.27 229.468 L3317.78 229.468 L3325.89 249.745 L3333.99 229.468 L3338.5 229.468 L3327.11 257.801 Z\" fill=\"#000000\" fill-rule=\"evenodd\" fill-opacity=\"1\" /><path clip-path=\"url(#clip970)\" d=\"M3359.15 236.759 Q3362.51 237.477 3364.38 239.745 Q3366.28 242.014 3366.28 245.347 Q3366.28 250.463 3362.76 253.264 Q3359.24 256.065 3352.76 256.065 Q3350.59 256.065 3348.27 255.625 Q3345.98 255.208 3343.53 254.352 L3343.53 249.838 Q3345.47 250.972 3347.78 251.551 Q3350.1 252.13 3352.62 252.13 Q3357.02 252.13 3359.31 250.394 Q3361.63 248.657 3361.63 245.347 Q3361.63 242.292 3359.47 240.579 Q3357.34 238.843 3353.53 238.843 L3349.5 238.843 L3349.5 235 L3353.71 235 Q3357.16 235 3358.99 233.634 Q3360.82 232.246 3360.82 229.653 Q3360.82 226.991 3358.92 225.579 Q3357.04 224.144 3353.53 224.144 Q3351.6 224.144 3349.41 224.56 Q3347.21 224.977 3344.57 225.857 L3344.57 221.69 Q3347.23 220.949 3349.54 220.579 Q3351.88 220.209 3353.94 220.209 Q3359.27 220.209 3362.37 222.639 Q3365.47 225.046 3365.47 229.167 Q3365.47 232.037 3363.83 234.028 Q3362.18 235.996 3359.15 236.759 Z\" fill=\"#000000\" fill-rule=\"evenodd\" fill-opacity=\"1\" /></svg>\n"
      ]
     },
     "execution_count": 15,
     "metadata": {},
     "output_type": "execute_result"
    }
   ],
   "source": [
    "plot(idyom_ic[100:300])\n",
    "plot!(pitch_table.IC[100:300])\n",
    "phrases = findall(x->x==1,idyom_data[!,\"phrase\"][100:300]);\n",
    "vline!(phrases, lw = 2)\n",
    "plot!(size=(900,300))"
   ]
  },
  {
   "cell_type": "markdown",
   "metadata": {},
   "source": [
    "# Multiple Viewpoint Models"
   ]
  },
  {
   "cell_type": "code",
   "execution_count": 20,
   "metadata": {},
   "outputs": [
    {
     "data": {
      "image/svg+xml": [
       "<?xml version=\"1.0\" encoding=\"utf-8\"?>\n",
       "<svg xmlns=\"http://www.w3.org/2000/svg\" xmlns:xlink=\"http://www.w3.org/1999/xlink\" width=\"900\" height=\"300\" viewBox=\"0 0 3600 1200\">\n",
       "<defs>\n",
       "  <clipPath id=\"clip010\">\n",
       "    <rect x=\"0\" y=\"0\" width=\"3600\" height=\"1200\"/>\n",
       "  </clipPath>\n",
       "</defs>\n",
       "<path clip-path=\"url(#clip010)\" d=\"\n",
       "M0 1200 L3600 1200 L3600 0 L0 0  Z\n",
       "  \" fill=\"#ffffff\" fill-rule=\"evenodd\" fill-opacity=\"1\"/>\n",
       "<defs>\n",
       "  <clipPath id=\"clip011\">\n",
       "    <rect x=\"720\" y=\"0\" width=\"2521\" height=\"1200\"/>\n",
       "  </clipPath>\n",
       "</defs>\n",
       "<path clip-path=\"url(#clip010)\" d=\"\n",
       "M196.191 1107.73 L3552.76 1107.73 L3552.76 47.2441 L196.191 47.2441  Z\n",
       "  \" fill=\"#ffffff\" fill-rule=\"evenodd\" fill-opacity=\"1\"/>\n",
       "<defs>\n",
       "  <clipPath id=\"clip012\">\n",
       "    <rect x=\"196\" y=\"47\" width=\"3358\" height=\"1061\"/>\n",
       "  </clipPath>\n",
       "</defs>\n",
       "<polyline clip-path=\"url(#clip012)\" style=\"stroke:#000000; stroke-linecap:round; stroke-linejoin:round; stroke-width:2; stroke-opacity:0.1; fill:none\" points=\"\n",
       "  275.355,1107.73 275.355,47.2441 \n",
       "  \"/>\n",
       "<polyline clip-path=\"url(#clip012)\" style=\"stroke:#000000; stroke-linecap:round; stroke-linejoin:round; stroke-width:2; stroke-opacity:0.1; fill:none\" points=\"\n",
       "  1067,1107.73 1067,47.2441 \n",
       "  \"/>\n",
       "<polyline clip-path=\"url(#clip012)\" style=\"stroke:#000000; stroke-linecap:round; stroke-linejoin:round; stroke-width:2; stroke-opacity:0.1; fill:none\" points=\"\n",
       "  1858.64,1107.73 1858.64,47.2441 \n",
       "  \"/>\n",
       "<polyline clip-path=\"url(#clip012)\" style=\"stroke:#000000; stroke-linecap:round; stroke-linejoin:round; stroke-width:2; stroke-opacity:0.1; fill:none\" points=\"\n",
       "  2650.28,1107.73 2650.28,47.2441 \n",
       "  \"/>\n",
       "<polyline clip-path=\"url(#clip012)\" style=\"stroke:#000000; stroke-linecap:round; stroke-linejoin:round; stroke-width:2; stroke-opacity:0.1; fill:none\" points=\"\n",
       "  3441.93,1107.73 3441.93,47.2441 \n",
       "  \"/>\n",
       "<polyline clip-path=\"url(#clip010)\" style=\"stroke:#000000; stroke-linecap:round; stroke-linejoin:round; stroke-width:4; stroke-opacity:1; fill:none\" points=\"\n",
       "  196.191,1107.73 3552.76,1107.73 \n",
       "  \"/>\n",
       "<polyline clip-path=\"url(#clip010)\" style=\"stroke:#000000; stroke-linecap:round; stroke-linejoin:round; stroke-width:4; stroke-opacity:1; fill:none\" points=\"\n",
       "  275.355,1107.73 275.355,1088.83 \n",
       "  \"/>\n",
       "<polyline clip-path=\"url(#clip010)\" style=\"stroke:#000000; stroke-linecap:round; stroke-linejoin:round; stroke-width:4; stroke-opacity:1; fill:none\" points=\"\n",
       "  1067,1107.73 1067,1088.83 \n",
       "  \"/>\n",
       "<polyline clip-path=\"url(#clip010)\" style=\"stroke:#000000; stroke-linecap:round; stroke-linejoin:round; stroke-width:4; stroke-opacity:1; fill:none\" points=\"\n",
       "  1858.64,1107.73 1858.64,1088.83 \n",
       "  \"/>\n",
       "<polyline clip-path=\"url(#clip010)\" style=\"stroke:#000000; stroke-linecap:round; stroke-linejoin:round; stroke-width:4; stroke-opacity:1; fill:none\" points=\"\n",
       "  2650.28,1107.73 2650.28,1088.83 \n",
       "  \"/>\n",
       "<polyline clip-path=\"url(#clip010)\" style=\"stroke:#000000; stroke-linecap:round; stroke-linejoin:round; stroke-width:4; stroke-opacity:1; fill:none\" points=\"\n",
       "  3441.93,1107.73 3441.93,1088.83 \n",
       "  \"/>\n",
       "<path clip-path=\"url(#clip010)\" d=\"M275.355 1148.25 Q271.744 1148.25 269.915 1151.81 Q268.11 1155.35 268.11 1162.48 Q268.11 1169.59 269.915 1173.15 Q271.744 1176.7 275.355 1176.7 Q278.989 1176.7 280.795 1173.15 Q282.623 1169.59 282.623 1162.48 Q282.623 1155.35 280.795 1151.81 Q278.989 1148.25 275.355 1148.25 M275.355 1144.54 Q281.165 1144.54 284.221 1149.15 Q287.299 1153.73 287.299 1162.48 Q287.299 1171.21 284.221 1175.82 Q281.165 1180.4 275.355 1180.4 Q269.545 1180.4 266.466 1175.82 Q263.411 1171.21 263.411 1162.48 Q263.411 1153.73 266.466 1149.15 Q269.545 1144.54 275.355 1144.54 Z\" fill=\"#000000\" fill-rule=\"evenodd\" fill-opacity=\"1\" /><path clip-path=\"url(#clip010)\" d=\"M1041.7 1145.17 L1060.05 1145.17 L1060.05 1149.1 L1045.98 1149.1 L1045.98 1157.58 Q1047 1157.23 1048.02 1157.07 Q1049.03 1156.88 1050.05 1156.88 Q1055.84 1156.88 1059.22 1160.05 Q1062.6 1163.22 1062.6 1168.64 Q1062.6 1174.22 1059.13 1177.32 Q1055.66 1180.4 1049.34 1180.4 Q1047.16 1180.4 1044.89 1180.03 Q1042.65 1179.66 1040.24 1178.92 L1040.24 1174.22 Q1042.32 1175.35 1044.54 1175.91 Q1046.77 1176.46 1049.24 1176.46 Q1053.25 1176.46 1055.59 1174.36 Q1057.92 1172.25 1057.92 1168.64 Q1057.92 1165.03 1055.59 1162.92 Q1053.25 1160.82 1049.24 1160.82 Q1047.37 1160.82 1045.49 1161.23 Q1043.64 1161.65 1041.7 1162.53 L1041.7 1145.17 Z\" fill=\"#000000\" fill-rule=\"evenodd\" fill-opacity=\"1\" /><path clip-path=\"url(#clip010)\" d=\"M1081.81 1148.25 Q1078.2 1148.25 1076.37 1151.81 Q1074.57 1155.35 1074.57 1162.48 Q1074.57 1169.59 1076.37 1173.15 Q1078.2 1176.7 1081.81 1176.7 Q1085.45 1176.7 1087.25 1173.15 Q1089.08 1169.59 1089.08 1162.48 Q1089.08 1155.35 1087.25 1151.81 Q1085.45 1148.25 1081.81 1148.25 M1081.81 1144.54 Q1087.62 1144.54 1090.68 1149.15 Q1093.76 1153.73 1093.76 1162.48 Q1093.76 1171.21 1090.68 1175.82 Q1087.62 1180.4 1081.81 1180.4 Q1076 1180.4 1072.92 1175.82 Q1069.87 1171.21 1069.87 1162.48 Q1069.87 1153.73 1072.92 1149.15 Q1076 1144.54 1081.81 1144.54 Z\" fill=\"#000000\" fill-rule=\"evenodd\" fill-opacity=\"1\" /><path clip-path=\"url(#clip010)\" d=\"M1818.25 1175.79 L1825.89 1175.79 L1825.89 1149.43 L1817.58 1151.09 L1817.58 1146.83 L1825.84 1145.17 L1830.52 1145.17 L1830.52 1175.79 L1838.15 1175.79 L1838.15 1179.73 L1818.25 1179.73 L1818.25 1175.79 Z\" fill=\"#000000\" fill-rule=\"evenodd\" fill-opacity=\"1\" /><path clip-path=\"url(#clip010)\" d=\"M1857.6 1148.25 Q1853.99 1148.25 1852.16 1151.81 Q1850.35 1155.35 1850.35 1162.48 Q1850.35 1169.59 1852.16 1173.15 Q1853.99 1176.7 1857.6 1176.7 Q1861.23 1176.7 1863.04 1173.15 Q1864.87 1169.59 1864.87 1162.48 Q1864.87 1155.35 1863.04 1151.81 Q1861.23 1148.25 1857.6 1148.25 M1857.6 1144.54 Q1863.41 1144.54 1866.46 1149.15 Q1869.54 1153.73 1869.54 1162.48 Q1869.54 1171.21 1866.46 1175.82 Q1863.41 1180.4 1857.6 1180.4 Q1851.79 1180.4 1848.71 1175.82 Q1845.65 1171.21 1845.65 1162.48 Q1845.65 1153.73 1848.71 1149.15 Q1851.79 1144.54 1857.6 1144.54 Z\" fill=\"#000000\" fill-rule=\"evenodd\" fill-opacity=\"1\" /><path clip-path=\"url(#clip010)\" d=\"M1887.76 1148.25 Q1884.15 1148.25 1882.32 1151.81 Q1880.52 1155.35 1880.52 1162.48 Q1880.52 1169.59 1882.32 1173.15 Q1884.15 1176.7 1887.76 1176.7 Q1891.39 1176.7 1893.2 1173.15 Q1895.03 1169.59 1895.03 1162.48 Q1895.03 1155.35 1893.2 1151.81 Q1891.39 1148.25 1887.76 1148.25 M1887.76 1144.54 Q1893.57 1144.54 1896.63 1149.15 Q1899.71 1153.73 1899.71 1162.48 Q1899.71 1171.21 1896.63 1175.82 Q1893.57 1180.4 1887.76 1180.4 Q1881.95 1180.4 1878.87 1175.82 Q1875.82 1171.21 1875.82 1162.48 Q1875.82 1153.73 1878.87 1149.15 Q1881.95 1144.54 1887.76 1144.54 Z\" fill=\"#000000\" fill-rule=\"evenodd\" fill-opacity=\"1\" /><path clip-path=\"url(#clip010)\" d=\"M2609.89 1175.79 L2617.53 1175.79 L2617.53 1149.43 L2609.22 1151.09 L2609.22 1146.83 L2617.48 1145.17 L2622.16 1145.17 L2622.16 1175.79 L2629.8 1175.79 L2629.8 1179.73 L2609.89 1179.73 L2609.89 1175.79 Z\" fill=\"#000000\" fill-rule=\"evenodd\" fill-opacity=\"1\" /><path clip-path=\"url(#clip010)\" d=\"M2639.29 1145.17 L2657.64 1145.17 L2657.64 1149.1 L2643.57 1149.1 L2643.57 1157.58 Q2644.59 1157.23 2645.61 1157.07 Q2646.63 1156.88 2647.64 1156.88 Q2653.43 1156.88 2656.81 1160.05 Q2660.19 1163.22 2660.19 1168.64 Q2660.19 1174.22 2656.72 1177.32 Q2653.25 1180.4 2646.93 1180.4 Q2644.75 1180.4 2642.48 1180.03 Q2640.24 1179.66 2637.83 1178.92 L2637.83 1174.22 Q2639.91 1175.35 2642.14 1175.91 Q2644.36 1176.46 2646.83 1176.46 Q2650.84 1176.46 2653.18 1174.36 Q2655.51 1172.25 2655.51 1168.64 Q2655.51 1165.03 2653.18 1162.92 Q2650.84 1160.82 2646.83 1160.82 Q2644.96 1160.82 2643.08 1161.23 Q2641.23 1161.65 2639.29 1162.53 L2639.29 1145.17 Z\" fill=\"#000000\" fill-rule=\"evenodd\" fill-opacity=\"1\" /><path clip-path=\"url(#clip010)\" d=\"M2679.4 1148.25 Q2675.79 1148.25 2673.96 1151.81 Q2672.16 1155.35 2672.16 1162.48 Q2672.16 1169.59 2673.96 1173.15 Q2675.79 1176.7 2679.4 1176.7 Q2683.04 1176.7 2684.84 1173.15 Q2686.67 1169.59 2686.67 1162.48 Q2686.67 1155.35 2684.84 1151.81 Q2683.04 1148.25 2679.4 1148.25 M2679.4 1144.54 Q2685.21 1144.54 2688.27 1149.15 Q2691.35 1153.73 2691.35 1162.48 Q2691.35 1171.21 2688.27 1175.82 Q2685.21 1180.4 2679.4 1180.4 Q2673.59 1180.4 2670.51 1175.82 Q2667.46 1171.21 2667.46 1162.48 Q2667.46 1153.73 2670.51 1149.15 Q2673.59 1144.54 2679.4 1144.54 Z\" fill=\"#000000\" fill-rule=\"evenodd\" fill-opacity=\"1\" /><path clip-path=\"url(#clip010)\" d=\"M3405.62 1175.79 L3421.94 1175.79 L3421.94 1179.73 L3399.99 1179.73 L3399.99 1175.79 Q3402.66 1173.04 3407.24 1168.41 Q3411.85 1163.76 3413.03 1162.41 Q3415.27 1159.89 3416.15 1158.15 Q3417.05 1156.39 3417.05 1154.7 Q3417.05 1151.95 3415.11 1150.21 Q3413.19 1148.48 3410.09 1148.48 Q3407.89 1148.48 3405.43 1149.24 Q3403 1150.01 3400.22 1151.56 L3400.22 1146.83 Q3403.05 1145.7 3405.5 1145.12 Q3407.96 1144.54 3409.99 1144.54 Q3415.36 1144.54 3418.56 1147.23 Q3421.75 1149.91 3421.75 1154.4 Q3421.75 1156.53 3420.94 1158.45 Q3420.16 1160.35 3418.05 1162.95 Q3417.47 1163.62 3414.37 1166.83 Q3411.27 1170.03 3405.62 1175.79 Z\" fill=\"#000000\" fill-rule=\"evenodd\" fill-opacity=\"1\" /><path clip-path=\"url(#clip010)\" d=\"M3441.75 1148.25 Q3438.14 1148.25 3436.31 1151.81 Q3434.51 1155.35 3434.51 1162.48 Q3434.51 1169.59 3436.31 1173.15 Q3438.14 1176.7 3441.75 1176.7 Q3445.39 1176.7 3447.19 1173.15 Q3449.02 1169.59 3449.02 1162.48 Q3449.02 1155.35 3447.19 1151.81 Q3445.39 1148.25 3441.75 1148.25 M3441.75 1144.54 Q3447.56 1144.54 3450.62 1149.15 Q3453.7 1153.73 3453.7 1162.48 Q3453.7 1171.21 3450.62 1175.82 Q3447.56 1180.4 3441.75 1180.4 Q3435.94 1180.4 3432.86 1175.82 Q3429.81 1171.21 3429.81 1162.48 Q3429.81 1153.73 3432.86 1149.15 Q3435.94 1144.54 3441.75 1144.54 Z\" fill=\"#000000\" fill-rule=\"evenodd\" fill-opacity=\"1\" /><path clip-path=\"url(#clip010)\" d=\"M3471.91 1148.25 Q3468.3 1148.25 3466.47 1151.81 Q3464.67 1155.35 3464.67 1162.48 Q3464.67 1169.59 3466.47 1173.15 Q3468.3 1176.7 3471.91 1176.7 Q3475.55 1176.7 3477.35 1173.15 Q3479.18 1169.59 3479.18 1162.48 Q3479.18 1155.35 3477.35 1151.81 Q3475.55 1148.25 3471.91 1148.25 M3471.91 1144.54 Q3477.72 1144.54 3480.78 1149.15 Q3483.86 1153.73 3483.86 1162.48 Q3483.86 1171.21 3480.78 1175.82 Q3477.72 1180.4 3471.91 1180.4 Q3466.1 1180.4 3463.03 1175.82 Q3459.97 1171.21 3459.97 1162.48 Q3459.97 1153.73 3463.03 1149.15 Q3466.1 1144.54 3471.91 1144.54 Z\" fill=\"#000000\" fill-rule=\"evenodd\" fill-opacity=\"1\" /><polyline clip-path=\"url(#clip012)\" style=\"stroke:#000000; stroke-linecap:round; stroke-linejoin:round; stroke-width:2; stroke-opacity:0.1; fill:none\" points=\"\n",
       "  196.191,1077.74 3552.76,1077.74 \n",
       "  \"/>\n",
       "<polyline clip-path=\"url(#clip012)\" style=\"stroke:#000000; stroke-linecap:round; stroke-linejoin:round; stroke-width:2; stroke-opacity:0.1; fill:none\" points=\"\n",
       "  196.191,868.795 3552.76,868.795 \n",
       "  \"/>\n",
       "<polyline clip-path=\"url(#clip012)\" style=\"stroke:#000000; stroke-linecap:round; stroke-linejoin:round; stroke-width:2; stroke-opacity:0.1; fill:none\" points=\"\n",
       "  196.191,659.855 3552.76,659.855 \n",
       "  \"/>\n",
       "<polyline clip-path=\"url(#clip012)\" style=\"stroke:#000000; stroke-linecap:round; stroke-linejoin:round; stroke-width:2; stroke-opacity:0.1; fill:none\" points=\"\n",
       "  196.191,450.914 3552.76,450.914 \n",
       "  \"/>\n",
       "<polyline clip-path=\"url(#clip012)\" style=\"stroke:#000000; stroke-linecap:round; stroke-linejoin:round; stroke-width:2; stroke-opacity:0.1; fill:none\" points=\"\n",
       "  196.191,241.974 3552.76,241.974 \n",
       "  \"/>\n",
       "<polyline clip-path=\"url(#clip010)\" style=\"stroke:#000000; stroke-linecap:round; stroke-linejoin:round; stroke-width:4; stroke-opacity:1; fill:none\" points=\"\n",
       "  196.191,1107.73 196.191,47.2441 \n",
       "  \"/>\n",
       "<polyline clip-path=\"url(#clip010)\" style=\"stroke:#000000; stroke-linecap:round; stroke-linejoin:round; stroke-width:4; stroke-opacity:1; fill:none\" points=\"\n",
       "  196.191,1077.74 215.088,1077.74 \n",
       "  \"/>\n",
       "<polyline clip-path=\"url(#clip010)\" style=\"stroke:#000000; stroke-linecap:round; stroke-linejoin:round; stroke-width:4; stroke-opacity:1; fill:none\" points=\"\n",
       "  196.191,868.795 215.088,868.795 \n",
       "  \"/>\n",
       "<polyline clip-path=\"url(#clip010)\" style=\"stroke:#000000; stroke-linecap:round; stroke-linejoin:round; stroke-width:4; stroke-opacity:1; fill:none\" points=\"\n",
       "  196.191,659.855 215.088,659.855 \n",
       "  \"/>\n",
       "<polyline clip-path=\"url(#clip010)\" style=\"stroke:#000000; stroke-linecap:round; stroke-linejoin:round; stroke-width:4; stroke-opacity:1; fill:none\" points=\"\n",
       "  196.191,450.914 215.088,450.914 \n",
       "  \"/>\n",
       "<polyline clip-path=\"url(#clip010)\" style=\"stroke:#000000; stroke-linecap:round; stroke-linejoin:round; stroke-width:4; stroke-opacity:1; fill:none\" points=\"\n",
       "  196.191,241.974 215.088,241.974 \n",
       "  \"/>\n",
       "<path clip-path=\"url(#clip010)\" d=\"M85.0151 1063.53 Q81.404 1063.53 79.5753 1067.1 Q77.7697 1070.64 77.7697 1077.77 Q77.7697 1084.88 79.5753 1088.44 Q81.404 1091.98 85.0151 1091.98 Q88.6493 1091.98 90.4548 1088.44 Q92.2835 1084.88 92.2835 1077.77 Q92.2835 1070.64 90.4548 1067.1 Q88.6493 1063.53 85.0151 1063.53 M85.0151 1059.83 Q90.8252 1059.83 93.8808 1064.44 Q96.9594 1069.02 96.9594 1077.77 Q96.9594 1086.5 93.8808 1091.1 Q90.8252 1095.69 85.0151 1095.69 Q79.2049 1095.69 76.1262 1091.1 Q73.0707 1086.5 73.0707 1077.77 Q73.0707 1069.02 76.1262 1064.44 Q79.2049 1059.83 85.0151 1059.83 Z\" fill=\"#000000\" fill-rule=\"evenodd\" fill-opacity=\"1\" /><path clip-path=\"url(#clip010)\" d=\"M105.177 1089.14 L110.061 1089.14 L110.061 1095.02 L105.177 1095.02 L105.177 1089.14 Z\" fill=\"#000000\" fill-rule=\"evenodd\" fill-opacity=\"1\" /><path clip-path=\"url(#clip010)\" d=\"M130.246 1063.53 Q126.635 1063.53 124.807 1067.1 Q123.001 1070.64 123.001 1077.77 Q123.001 1084.88 124.807 1088.44 Q126.635 1091.98 130.246 1091.98 Q133.881 1091.98 135.686 1088.44 Q137.515 1084.88 137.515 1077.77 Q137.515 1070.64 135.686 1067.1 Q133.881 1063.53 130.246 1063.53 M130.246 1059.83 Q136.056 1059.83 139.112 1064.44 Q142.191 1069.02 142.191 1077.77 Q142.191 1086.5 139.112 1091.1 Q136.056 1095.69 130.246 1095.69 Q124.436 1095.69 121.357 1091.1 Q118.302 1086.5 118.302 1077.77 Q118.302 1069.02 121.357 1064.44 Q124.436 1059.83 130.246 1059.83 Z\" fill=\"#000000\" fill-rule=\"evenodd\" fill-opacity=\"1\" /><path clip-path=\"url(#clip010)\" d=\"M80.0382 882.14 L96.3576 882.14 L96.3576 886.075 L74.4133 886.075 L74.4133 882.14 Q77.0753 879.385 81.6586 874.755 Q86.2651 870.103 87.4456 868.76 Q89.691 866.237 90.5706 864.501 Q91.4734 862.742 91.4734 861.052 Q91.4734 858.297 89.5289 856.561 Q87.6076 854.825 84.5058 854.825 Q82.3067 854.825 79.8531 855.589 Q77.4225 856.353 74.6447 857.904 L74.6447 853.181 Q77.4688 852.047 79.9225 851.469 Q82.3762 850.89 84.4132 850.89 Q89.7836 850.89 92.978 853.575 Q96.1724 856.26 96.1724 860.751 Q96.1724 862.881 95.3622 864.802 Q94.5752 866.7 92.4687 869.293 Q91.89 869.964 88.7882 873.181 Q85.6864 876.376 80.0382 882.14 Z\" fill=\"#000000\" fill-rule=\"evenodd\" fill-opacity=\"1\" /><path clip-path=\"url(#clip010)\" d=\"M106.172 880.195 L111.057 880.195 L111.057 886.075 L106.172 886.075 L106.172 880.195 Z\" fill=\"#000000\" fill-rule=\"evenodd\" fill-opacity=\"1\" /><path clip-path=\"url(#clip010)\" d=\"M121.288 851.515 L139.644 851.515 L139.644 855.45 L125.57 855.45 L125.57 863.922 Q126.589 863.575 127.607 863.413 Q128.626 863.228 129.644 863.228 Q135.431 863.228 138.811 866.399 Q142.191 869.57 142.191 874.987 Q142.191 880.566 138.718 883.667 Q135.246 886.746 128.927 886.746 Q126.751 886.746 124.482 886.376 Q122.237 886.005 119.83 885.265 L119.83 880.566 Q121.913 881.7 124.135 882.255 Q126.357 882.811 128.834 882.811 Q132.839 882.811 135.177 880.704 Q137.515 878.598 137.515 874.987 Q137.515 871.376 135.177 869.269 Q132.839 867.163 128.834 867.163 Q126.959 867.163 125.084 867.58 Q123.232 867.996 121.288 868.876 L121.288 851.515 Z\" fill=\"#000000\" fill-rule=\"evenodd\" fill-opacity=\"1\" /><path clip-path=\"url(#clip010)\" d=\"M75.0614 642.575 L93.4178 642.575 L93.4178 646.51 L79.3438 646.51 L79.3438 654.982 Q80.3623 654.635 81.3808 654.473 Q82.3993 654.288 83.4178 654.288 Q89.2049 654.288 92.5845 657.459 Q95.9641 660.63 95.9641 666.047 Q95.9641 671.625 92.4919 674.727 Q89.0197 677.806 82.7003 677.806 Q80.5243 677.806 78.2558 677.436 Q76.0105 677.065 73.6031 676.324 L73.6031 671.625 Q75.6864 672.76 77.9086 673.315 Q80.1308 673.871 82.6077 673.871 Q86.6123 673.871 88.9502 671.764 Q91.2882 669.658 91.2882 666.047 Q91.2882 662.436 88.9502 660.329 Q86.6123 658.223 82.6077 658.223 Q80.7327 658.223 78.8577 658.639 Q77.0058 659.056 75.0614 659.936 L75.0614 642.575 Z\" fill=\"#000000\" fill-rule=\"evenodd\" fill-opacity=\"1\" /><path clip-path=\"url(#clip010)\" d=\"M105.177 671.255 L110.061 671.255 L110.061 677.135 L105.177 677.135 L105.177 671.255 Z\" fill=\"#000000\" fill-rule=\"evenodd\" fill-opacity=\"1\" /><path clip-path=\"url(#clip010)\" d=\"M130.246 645.653 Q126.635 645.653 124.807 649.218 Q123.001 652.76 123.001 659.889 Q123.001 666.996 124.807 670.561 Q126.635 674.102 130.246 674.102 Q133.881 674.102 135.686 670.561 Q137.515 666.996 137.515 659.889 Q137.515 652.76 135.686 649.218 Q133.881 645.653 130.246 645.653 M130.246 641.95 Q136.056 641.95 139.112 646.556 Q142.191 651.139 142.191 659.889 Q142.191 668.616 139.112 673.223 Q136.056 677.806 130.246 677.806 Q124.436 677.806 121.357 673.223 Q118.302 668.616 118.302 659.889 Q118.302 651.139 121.357 646.556 Q124.436 641.95 130.246 641.95 Z\" fill=\"#000000\" fill-rule=\"evenodd\" fill-opacity=\"1\" /><path clip-path=\"url(#clip010)\" d=\"M74.8299 433.634 L97.052 433.634 L97.052 435.625 L84.5058 468.194 L79.6216 468.194 L91.4271 437.57 L74.8299 437.57 L74.8299 433.634 Z\" fill=\"#000000\" fill-rule=\"evenodd\" fill-opacity=\"1\" /><path clip-path=\"url(#clip010)\" d=\"M106.172 462.315 L111.057 462.315 L111.057 468.194 L106.172 468.194 L106.172 462.315 Z\" fill=\"#000000\" fill-rule=\"evenodd\" fill-opacity=\"1\" /><path clip-path=\"url(#clip010)\" d=\"M121.288 433.634 L139.644 433.634 L139.644 437.57 L125.57 437.57 L125.57 446.042 Q126.589 445.695 127.607 445.533 Q128.626 445.347 129.644 445.347 Q135.431 445.347 138.811 448.519 Q142.191 451.69 142.191 457.107 Q142.191 462.685 138.718 465.787 Q135.246 468.866 128.927 468.866 Q126.751 468.866 124.482 468.495 Q122.237 468.125 119.83 467.384 L119.83 462.685 Q121.913 463.82 124.135 464.375 Q126.357 464.931 128.834 464.931 Q132.839 464.931 135.177 462.824 Q137.515 460.718 137.515 457.107 Q137.515 453.495 135.177 451.389 Q132.839 449.283 128.834 449.283 Q126.959 449.283 125.084 449.699 Q123.232 450.116 121.288 450.996 L121.288 433.634 Z\" fill=\"#000000\" fill-rule=\"evenodd\" fill-opacity=\"1\" /><path clip-path=\"url(#clip010)\" d=\"M45.6634 255.319 L53.3023 255.319 L53.3023 228.954 L44.9921 230.62 L44.9921 226.361 L53.256 224.694 L57.9319 224.694 L57.9319 255.319 L65.5707 255.319 L65.5707 259.254 L45.6634 259.254 L45.6634 255.319 Z\" fill=\"#000000\" fill-rule=\"evenodd\" fill-opacity=\"1\" /><path clip-path=\"url(#clip010)\" d=\"M85.0151 227.773 Q81.404 227.773 79.5753 231.338 Q77.7697 234.879 77.7697 242.009 Q77.7697 249.115 79.5753 252.68 Q81.404 256.222 85.0151 256.222 Q88.6493 256.222 90.4548 252.68 Q92.2835 249.115 92.2835 242.009 Q92.2835 234.879 90.4548 231.338 Q88.6493 227.773 85.0151 227.773 M85.0151 224.069 Q90.8252 224.069 93.8808 228.676 Q96.9594 233.259 96.9594 242.009 Q96.9594 250.736 93.8808 255.342 Q90.8252 259.926 85.0151 259.926 Q79.2049 259.926 76.1262 255.342 Q73.0707 250.736 73.0707 242.009 Q73.0707 233.259 76.1262 228.676 Q79.2049 224.069 85.0151 224.069 Z\" fill=\"#000000\" fill-rule=\"evenodd\" fill-opacity=\"1\" /><path clip-path=\"url(#clip010)\" d=\"M105.177 253.375 L110.061 253.375 L110.061 259.254 L105.177 259.254 L105.177 253.375 Z\" fill=\"#000000\" fill-rule=\"evenodd\" fill-opacity=\"1\" /><path clip-path=\"url(#clip010)\" d=\"M130.246 227.773 Q126.635 227.773 124.807 231.338 Q123.001 234.879 123.001 242.009 Q123.001 249.115 124.807 252.68 Q126.635 256.222 130.246 256.222 Q133.881 256.222 135.686 252.68 Q137.515 249.115 137.515 242.009 Q137.515 234.879 135.686 231.338 Q133.881 227.773 130.246 227.773 M130.246 224.069 Q136.056 224.069 139.112 228.676 Q142.191 233.259 142.191 242.009 Q142.191 250.736 139.112 255.342 Q136.056 259.926 130.246 259.926 Q124.436 259.926 121.357 255.342 Q118.302 250.736 118.302 242.009 Q118.302 233.259 121.357 228.676 Q124.436 224.069 130.246 224.069 Z\" fill=\"#000000\" fill-rule=\"evenodd\" fill-opacity=\"1\" /><polyline clip-path=\"url(#clip012)\" style=\"stroke:#009af9; stroke-linecap:round; stroke-linejoin:round; stroke-width:4; stroke-opacity:1; fill:none\" points=\"\n",
       "  291.188,1044.11 307.021,1067.6 322.854,1050.74 338.686,1068.21 354.519,1054.75 370.352,1042.91 386.185,1042.91 402.018,1074.52 417.851,1076.1 433.684,1053.06 \n",
       "  449.516,1077.03 465.349,1077.17 481.182,1058.47 497.015,1060.96 512.848,1077.32 528.681,1077.4 544.513,1069.34 560.346,1049.8 576.179,1055.42 592.012,1044.83 \n",
       "  607.845,1072.16 623.678,1064.28 639.511,1063.09 655.343,1072.1 671.176,1041.47 687.009,1070.47 702.842,1048.43 718.675,1053.34 734.508,1044.86 750.341,1053.34 \n",
       "  766.173,1046.38 782.006,1077.7 797.839,1075.78 813.672,1075.9 829.505,1073.66 845.338,1063.01 861.171,1055.09 877.003,1066.51 892.836,1055.9 908.669,1049.22 \n",
       "  924.502,1074.52 940.335,1035.13 956.168,1076.1 972.001,1046.08 987.833,1076.75 1003.67,1077.22 1019.5,1057.75 1035.33,1062.01 1051.16,1058.86 1067,1077.47 \n",
       "  1082.83,1070.11 1098.66,1077.48 1114.5,1072.41 1130.33,1071.33 1146.16,1068.34 1161.99,1069.76 1177.83,1068.01 1193.66,1065.56 1209.49,1051.58 1225.33,1046.37 \n",
       "  1241.16,1044.87 1256.99,1072.32 1272.82,1077.57 1288.66,1069.65 1304.49,1077.66 1320.32,1075.22 1336.16,1069.01 1351.99,1068.35 1367.82,1066.85 1383.65,1042.88 \n",
       "  1399.49,1058.47 1415.32,1050.86 1431.15,1048.47 1446.99,1046.38 1462.82,1035.94 1478.65,1072.92 1494.48,1059.55 1510.32,1067.28 1526.15,1070.07 1541.98,1077.71 \n",
       "  1557.82,1076.5 1573.65,1070.24 1589.48,1077.06 1605.31,1075.71 1621.15,1073.09 1636.98,1034.66 1652.81,1040.11 1668.65,1076.29 1684.48,1055.23 1700.31,1042.9 \n",
       "  1716.14,1032.46 1731.98,1030.32 1747.81,1049.37 1763.64,1051.27 1779.48,1049 1795.31,1054.38 1811.14,1052.19 1826.97,1056.75 1842.81,1054.75 1858.64,1063.03 \n",
       "  1874.47,1061.48 1890.31,1074.52 1906.14,1035.13 1921.97,1076.1 1937.8,1046.08 1953.64,1077.03 1969.47,1077.15 1985.3,1067.53 2001.14,1077.43 2016.97,1066.07 \n",
       "  2032.8,1054.47 2048.63,1035.83 2064.47,1077.54 2080.3,1073.35 2096.13,1055.06 2111.97,1053.31 2127.8,1070.76 2143.63,1064.72 2159.46,1075.19 2175.3,1064.62 \n",
       "  2191.13,1064.13 2206.96,1066.15 2222.8,1059.61 2238.63,1070.27 2254.46,1056.82 2270.29,1063.21 2286.13,1052.65 2301.96,1067.83 2317.79,1058.56 2333.63,1063.79 \n",
       "  2349.46,1061.18 2365.29,1077.67 2381.12,1065.48 2396.96,1061.11 2412.79,1073.06 2428.62,1067.11 2444.46,1053.83 2460.29,1074.52 2476.12,1076.1 2491.95,1042.51 \n",
       "  2507.79,1035.52 2523.62,1035.52 2539.45,1076.89 2555.29,1077.19 2571.12,1067.23 2586.95,1048.32 2602.78,1077.32 2618.62,1046.64 2634.45,1065.5 2650.28,1077.39 \n",
       "  2666.12,1063.35 2681.95,1047.01 2697.78,1047.84 2713.61,1077.53 2729.45,1047.48 2745.28,1068.7 2761.11,1062.86 2776.95,1067.76 2792.78,1047.82 2808.61,1057.6 \n",
       "  2824.44,1073.5 2840.28,1040.34 2856.11,1061.01 2871.94,1062.29 2887.78,1025.46 2903.61,1075.41 2919.44,1054.73 2935.27,1040.52 2951.11,1055.09 2966.94,1035.91 \n",
       "  2982.77,1035.93 2998.61,1035.93 3014.44,1035.92 3030.27,1035.92 3046.1,1035.91 3061.94,1074.52 3077.77,1076.1 3093.6,1076.75 3109.44,1046.17 3125.27,1077.09 \n",
       "  3141.1,1042.73 3156.93,1077.43 3172.77,1067.25 3188.6,1056.78 3204.43,1070.04 3220.27,1041.09 3236.1,1077.59 3251.93,1077.43 3267.76,1077.5 3283.6,1073.33 \n",
       "  3299.43,1042.86 3315.26,1077.62 3331.1,1072.15 3346.93,1048.99 3362.76,1053.33 3378.59,1035.9 3394.43,1035.92 3410.26,1071.43 3426.09,1059.52 3441.93,1076.13 \n",
       "  3457.76,1052.63 \n",
       "  \"/>\n",
       "<polyline clip-path=\"url(#clip012)\" style=\"stroke:#e26f46; stroke-linecap:round; stroke-linejoin:round; stroke-width:4; stroke-opacity:1; fill:none\" points=\"\n",
       "  291.188,967.937 307.021,823.395 322.854,941.469 338.686,815.858 354.519,922.102 370.352,972.18 386.185,972.186 402.018,684.891 417.851,603.656 433.684,930.614 \n",
       "  449.516,501.534 465.349,476.311 481.182,900.819 497.015,884.1 512.848,436.84 528.681,410.853 544.513,800.677 560.346,945.619 576.179,918.505 592.012,965.347 \n",
       "  607.845,751.348 623.678,857.518 639.511,867.696 655.343,752.521 671.176,977.062 687.009,783.129 702.842,951.354 718.675,929.254 734.508,965.246 750.341,929.255 \n",
       "  766.173,959.539 782.006,142.673 797.839,625.161 813.672,617.562 829.505,713.36 845.338,868.374 861.171,920.296 877.003,835.685 892.836,915.89 908.669,948.059 \n",
       "  924.502,684.891 940.335,996.5 956.168,603.656 972.001,960.684 987.833,542.499 1003.67,463.15 1019.5,905.232 1035.33,876.297 1051.16,898.356 1067,384.347 \n",
       "  1082.83,789.109 1098.66,378.9 1114.5,745.653 1130.33,767.924 1146.16,814.23 1161.99,794.404 1177.83,818.332 1193.66,845.474 1209.49,937.639 1225.33,959.58 \n",
       "  1241.16,965.181 1256.99,747.791 1272.82,324.354 1288.66,796.13 1304.49,233.768 1320.32,655.541 1336.16,805.339 1351.99,814.062 1367.82,831.978 1383.65,972.286 \n",
       "  1399.49,900.767 1415.32,940.94 1431.15,951.227 1446.99,959.515 1462.82,994.179 1478.65,733.705 1494.48,893.864 1510.32,827.059 1526.15,789.656 1541.98,77.2578 \n",
       "  1557.82,569.873 1573.65,786.893 1589.48,497.173 1605.31,629.099 1621.15,729.265 1636.98,997.815 1652.81,981.493 1668.65,588.839 1684.48,919.551 1700.31,972.232 \n",
       "  1716.14,1003.82 1731.98,1009.4 1747.81,947.423 1763.64,939.104 1779.48,948.997 1795.31,924.002 1811.14,934.803 1826.97,911.131 1842.81,922.107 1858.64,868.236 \n",
       "  1874.47,880.322 1890.31,684.891 1906.14,996.5 1921.97,603.656 1937.8,960.684 1953.64,501.534 1969.47,479.341 1985.3,824.17 2001.14,400.494 2016.97,840.26 \n",
       "  2032.8,923.523 2048.63,994.502 2064.47,349.758 2080.3,722.432 2096.13,920.464 2111.97,929.392 2127.8,778.298 2143.63,853.525 2159.46,656.712 2175.3,854.392 \n",
       "  2191.13,858.881 2206.96,839.521 2222.8,893.465 2238.63,786.56 2254.46,910.698 2270.29,866.704 2286.13,932.622 2301.96,820.585 2317.79,900.227 2333.63,861.79 \n",
       "  2349.46,882.514 2365.29,219.387 2381.12,846.231 2396.96,883.056 2412.79,730.027 2428.62,829.06 2444.46,926.803 2460.29,684.891 2476.12,603.656 2491.95,973.55 \n",
       "  2507.79,995.371 2523.62,995.371 2539.45,523.679 2555.29,470.35 2571.12,827.664 2586.95,951.829 2602.78,439.181 2618.62,958.505 2634.45,846.019 2650.28,416.91 \n",
       "  2666.12,865.598 2681.95,957.08 2697.78,953.793 2713.61,355.339 2729.45,955.218 2745.28,809.518 2761.11,869.601 2776.95,821.439 2792.78,953.869 2808.61,906.151 \n",
       "  2824.44,718.169 2840.28,980.775 2856.11,883.778 2871.94,874.113 2887.78,1021.15 2903.61,645.669 2919.44,922.2 2935.27,980.193 2951.11,920.3 2966.94,994.259 \n",
       "  2982.77,994.22 2998.61,994.199 3014.44,994.246 3030.27,994.235 3046.1,994.277 3061.94,684.891 3077.77,603.656 3093.6,542.499 3109.44,960.313 3125.27,490.925 \n",
       "  3141.1,972.789 3156.93,400.543 3172.77,827.465 3188.6,910.939 3204.43,790.118 3220.27,978.328 3236.1,309.345 3251.93,401.817 3267.76,367.049 3283.6,722.913 \n",
       "  3299.43,972.368 3315.26,284.133 3331.1,751.536 3346.93,949.035 3362.76,929.297 3378.59,994.295 3394.43,994.224 3410.26,766.128 3426.09,894.061 3441.93,601.271 \n",
       "  3457.76,932.709 \n",
       "  \"/>\n",
       "<polyline clip-path=\"url(#clip012)\" style=\"stroke:#3da44d; stroke-linecap:round; stroke-linejoin:round; stroke-width:4; stroke-opacity:1; fill:none\" points=\"\n",
       "  291.188,854.462 307.021,834.201 322.854,854.852 338.686,834.642 354.519,866.273 370.352,872.824 386.185,866.517 402.018,684.891 417.851,803.93 433.684,838.727 \n",
       "  449.516,873.22 465.349,859.293 481.182,852.87 497.015,865.405 512.848,864.897 528.681,848.233 544.513,822.273 560.346,858.824 576.179,848.912 592.012,864.714 \n",
       "  607.845,877.523 623.678,852.73 639.511,895.49 655.343,898.468 671.176,885.915 687.009,898.627 702.842,872.405 718.675,879.628 734.508,875.441 750.341,882.626 \n",
       "  766.173,884.181 782.006,917.303 797.839,869.428 813.672,879.772 829.505,848.979 845.338,855.384 861.171,876.401 877.003,877.518 892.836,869.146 908.669,859.51 \n",
       "  924.502,684.891 940.335,803.93 956.168,803.93 972.001,854.743 987.833,838.727 1003.67,868.832 1019.5,852.265 1035.33,890.471 1051.16,858.131 1067,881.985 \n",
       "  1082.83,848.185 1098.66,859.719 1114.5,838.996 1130.33,842.06 1146.16,847.053 1161.99,853.327 1177.83,854.082 1193.66,854.533 1209.49,870.456 1225.33,873.826 \n",
       "  1241.16,878.843 1256.99,861.769 1272.82,838.866 1288.66,840.314 1304.49,863.831 1320.32,837.261 1336.16,849.868 1351.99,843.928 1367.82,881.618 1383.65,872.224 \n",
       "  1399.49,864.457 1415.32,874.345 1431.15,877.174 1446.99,879.543 1462.82,907.427 1478.65,874.103 1494.48,847.069 1510.32,858.301 1526.15,869.374 1541.98,871.977 \n",
       "  1557.82,842.522 1573.65,857.188 1589.48,864.018 1605.31,868.109 1621.15,831.899 1636.98,890.796 1652.81,882.858 1668.65,872.389 1684.48,864.062 1700.31,874.398 \n",
       "  1716.14,900.386 1731.98,909.138 1747.81,863.247 1763.64,871.886 1779.48,873.198 1795.31,895.155 1811.14,854.449 1826.97,849.634 1842.81,846.22 1858.64,852.177 \n",
       "  1874.47,840.268 1890.31,684.891 1906.14,803.93 1921.97,803.93 1937.8,854.743 1953.64,876.46 1969.47,857.009 1985.3,850.702 2001.14,868.561 2016.97,841.407 \n",
       "  2032.8,862.468 2048.63,878.627 2064.47,883.229 2080.3,844.018 2096.13,868.487 2111.97,875.726 2127.8,875.732 2143.63,876.195 2159.46,892.837 2175.3,853.297 \n",
       "  2191.13,838.612 2206.96,845.261 2222.8,846.498 2238.63,859.616 2254.46,870 2270.29,888.354 2286.13,883.71 2301.96,913.244 2317.79,876.715 2333.63,890.295 \n",
       "  2349.46,886.655 2365.29,860.97 2381.12,863.949 2396.96,858.448 2412.79,893.547 2428.62,835.067 2444.46,856.168 2460.29,684.891 2476.12,803.93 2491.95,838.727 \n",
       "  2507.79,859.916 2523.62,859.916 2539.45,859.916 2555.29,867.664 2571.12,850.593 2586.95,838.08 2602.78,859.934 2618.62,835.905 2634.45,859.135 2650.28,853.966 \n",
       "  2666.12,835.229 2681.95,854.502 2697.78,877.854 2713.61,858.937 2729.45,846.458 2745.28,862.053 2761.11,847.276 2776.95,846.011 2792.78,843.727 2808.61,860.29 \n",
       "  2824.44,881.661 2840.28,889.879 2856.11,875.932 2871.94,863.991 2887.78,928.076 2903.61,871.207 2919.44,853.231 2935.27,859.997 2951.11,884.978 2966.94,897.575 \n",
       "  2982.77,896.443 2998.61,908.143 3014.44,902.303 3030.27,895.974 3046.1,890.699 3061.94,684.891 3077.77,803.93 3093.6,838.727 3109.44,847.684 3125.27,855.355 \n",
       "  3141.1,855.879 3156.93,885.206 3172.77,861.097 3188.6,869.654 3204.43,852.426 3220.27,886.955 3236.1,878.001 3251.93,837.124 3267.76,834.194 3283.6,830.086 \n",
       "  3299.43,859.021 3315.26,864.437 3331.1,828.276 3346.93,849.053 3362.76,850.762 3378.59,870.341 3394.43,900.031 3410.26,871.605 3426.09,850.532 3441.93,862.603 \n",
       "  3457.76,852.057 \n",
       "  \"/>\n",
       "<polyline clip-path=\"url(#clip012)\" style=\"stroke:#c271d2; stroke-linecap:round; stroke-linejoin:round; stroke-width:8; stroke-opacity:1; fill:none\" points=\"\n",
       "  402.018,2168.21 402.018,-1013.24 \n",
       "  \"/>\n",
       "<polyline clip-path=\"url(#clip012)\" style=\"stroke:#c271d2; stroke-linecap:round; stroke-linejoin:round; stroke-width:8; stroke-opacity:1; fill:none\" points=\"\n",
       "  544.513,2168.21 544.513,-1013.24 \n",
       "  \"/>\n",
       "<polyline clip-path=\"url(#clip012)\" style=\"stroke:#c271d2; stroke-linecap:round; stroke-linejoin:round; stroke-width:8; stroke-opacity:1; fill:none\" points=\"\n",
       "  671.176,2168.21 671.176,-1013.24 \n",
       "  \"/>\n",
       "<polyline clip-path=\"url(#clip012)\" style=\"stroke:#c271d2; stroke-linecap:round; stroke-linejoin:round; stroke-width:8; stroke-opacity:1; fill:none\" points=\"\n",
       "  813.672,2168.21 813.672,-1013.24 \n",
       "  \"/>\n",
       "<polyline clip-path=\"url(#clip012)\" style=\"stroke:#c271d2; stroke-linecap:round; stroke-linejoin:round; stroke-width:8; stroke-opacity:1; fill:none\" points=\"\n",
       "  924.502,2168.21 924.502,-1013.24 \n",
       "  \"/>\n",
       "<polyline clip-path=\"url(#clip012)\" style=\"stroke:#c271d2; stroke-linecap:round; stroke-linejoin:round; stroke-width:8; stroke-opacity:1; fill:none\" points=\"\n",
       "  1051.16,2168.21 1051.16,-1013.24 \n",
       "  \"/>\n",
       "<polyline clip-path=\"url(#clip012)\" style=\"stroke:#c271d2; stroke-linecap:round; stroke-linejoin:round; stroke-width:8; stroke-opacity:1; fill:none\" points=\"\n",
       "  1146.16,2168.21 1146.16,-1013.24 \n",
       "  \"/>\n",
       "<polyline clip-path=\"url(#clip012)\" style=\"stroke:#c271d2; stroke-linecap:round; stroke-linejoin:round; stroke-width:8; stroke-opacity:1; fill:none\" points=\"\n",
       "  1272.82,2168.21 1272.82,-1013.24 \n",
       "  \"/>\n",
       "<polyline clip-path=\"url(#clip012)\" style=\"stroke:#c271d2; stroke-linecap:round; stroke-linejoin:round; stroke-width:8; stroke-opacity:1; fill:none\" points=\"\n",
       "  1383.65,2168.21 1383.65,-1013.24 \n",
       "  \"/>\n",
       "<polyline clip-path=\"url(#clip012)\" style=\"stroke:#c271d2; stroke-linecap:round; stroke-linejoin:round; stroke-width:8; stroke-opacity:1; fill:none\" points=\"\n",
       "  1494.48,2168.21 1494.48,-1013.24 \n",
       "  \"/>\n",
       "<polyline clip-path=\"url(#clip012)\" style=\"stroke:#c271d2; stroke-linecap:round; stroke-linejoin:round; stroke-width:8; stroke-opacity:1; fill:none\" points=\"\n",
       "  1636.98,2168.21 1636.98,-1013.24 \n",
       "  \"/>\n",
       "<polyline clip-path=\"url(#clip012)\" style=\"stroke:#c271d2; stroke-linecap:round; stroke-linejoin:round; stroke-width:8; stroke-opacity:1; fill:none\" points=\"\n",
       "  1779.48,2168.21 1779.48,-1013.24 \n",
       "  \"/>\n",
       "<polyline clip-path=\"url(#clip012)\" style=\"stroke:#c271d2; stroke-linecap:round; stroke-linejoin:round; stroke-width:8; stroke-opacity:1; fill:none\" points=\"\n",
       "  1890.31,2168.21 1890.31,-1013.24 \n",
       "  \"/>\n",
       "<polyline clip-path=\"url(#clip012)\" style=\"stroke:#c271d2; stroke-linecap:round; stroke-linejoin:round; stroke-width:8; stroke-opacity:1; fill:none\" points=\"\n",
       "  2048.63,2168.21 2048.63,-1013.24 \n",
       "  \"/>\n",
       "<polyline clip-path=\"url(#clip012)\" style=\"stroke:#c271d2; stroke-linecap:round; stroke-linejoin:round; stroke-width:8; stroke-opacity:1; fill:none\" points=\"\n",
       "  2333.63,2168.21 2333.63,-1013.24 \n",
       "  \"/>\n",
       "<polyline clip-path=\"url(#clip012)\" style=\"stroke:#c271d2; stroke-linecap:round; stroke-linejoin:round; stroke-width:8; stroke-opacity:1; fill:none\" points=\"\n",
       "  2460.29,2168.21 2460.29,-1013.24 \n",
       "  \"/>\n",
       "<polyline clip-path=\"url(#clip012)\" style=\"stroke:#c271d2; stroke-linecap:round; stroke-linejoin:round; stroke-width:8; stroke-opacity:1; fill:none\" points=\"\n",
       "  2586.95,2168.21 2586.95,-1013.24 \n",
       "  \"/>\n",
       "<polyline clip-path=\"url(#clip012)\" style=\"stroke:#c271d2; stroke-linecap:round; stroke-linejoin:round; stroke-width:8; stroke-opacity:1; fill:none\" points=\"\n",
       "  2681.95,2168.21 2681.95,-1013.24 \n",
       "  \"/>\n",
       "<polyline clip-path=\"url(#clip012)\" style=\"stroke:#c271d2; stroke-linecap:round; stroke-linejoin:round; stroke-width:8; stroke-opacity:1; fill:none\" points=\"\n",
       "  2808.61,2168.21 2808.61,-1013.24 \n",
       "  \"/>\n",
       "<polyline clip-path=\"url(#clip012)\" style=\"stroke:#c271d2; stroke-linecap:round; stroke-linejoin:round; stroke-width:8; stroke-opacity:1; fill:none\" points=\"\n",
       "  2935.27,2168.21 2935.27,-1013.24 \n",
       "  \"/>\n",
       "<polyline clip-path=\"url(#clip012)\" style=\"stroke:#c271d2; stroke-linecap:round; stroke-linejoin:round; stroke-width:8; stroke-opacity:1; fill:none\" points=\"\n",
       "  3061.94,2168.21 3061.94,-1013.24 \n",
       "  \"/>\n",
       "<polyline clip-path=\"url(#clip012)\" style=\"stroke:#c271d2; stroke-linecap:round; stroke-linejoin:round; stroke-width:8; stroke-opacity:1; fill:none\" points=\"\n",
       "  3204.43,2168.21 3204.43,-1013.24 \n",
       "  \"/>\n",
       "<polyline clip-path=\"url(#clip012)\" style=\"stroke:#c271d2; stroke-linecap:round; stroke-linejoin:round; stroke-width:8; stroke-opacity:1; fill:none\" points=\"\n",
       "  3362.76,2168.21 3362.76,-1013.24 \n",
       "  \"/>\n",
       "<path clip-path=\"url(#clip010)\" d=\"\n",
       "M3013.78 341.794 L3440.87 341.794 L3440.87 82.5936 L3013.78 82.5936  Z\n",
       "  \" fill=\"#ffffff\" fill-rule=\"evenodd\" fill-opacity=\"1\"/>\n",
       "<polyline clip-path=\"url(#clip010)\" style=\"stroke:#000000; stroke-linecap:round; stroke-linejoin:round; stroke-width:4; stroke-opacity:1; fill:none\" points=\"\n",
       "  3013.78,341.794 3440.87,341.794 3440.87,82.5936 3013.78,82.5936 3013.78,341.794 \n",
       "  \"/>\n",
       "<polyline clip-path=\"url(#clip010)\" style=\"stroke:#009af9; stroke-linecap:round; stroke-linejoin:round; stroke-width:4; stroke-opacity:1; fill:none\" points=\"\n",
       "  3051.07,134.434 3274.84,134.434 \n",
       "  \"/>\n",
       "<path clip-path=\"url(#clip010)\" d=\"M3325.98 154.121 Q3324.17 158.751 3322.46 160.163 Q3320.75 161.575 3317.88 161.575 L3314.47 161.575 L3314.47 158.01 L3316.97 158.01 Q3318.73 158.01 3319.71 157.176 Q3320.68 156.343 3321.86 153.241 L3322.62 151.297 L3312.14 125.788 L3316.65 125.788 L3324.75 146.065 L3332.85 125.788 L3337.37 125.788 L3325.98 154.121 Z\" fill=\"#000000\" fill-rule=\"evenodd\" fill-opacity=\"1\" /><path clip-path=\"url(#clip010)\" d=\"M3344.66 147.778 L3352.3 147.778 L3352.3 121.413 L3343.99 123.079 L3343.99 118.82 L3352.25 117.154 L3356.93 117.154 L3356.93 147.778 L3364.57 147.778 L3364.57 151.714 L3344.66 151.714 L3344.66 147.778 Z\" fill=\"#000000\" fill-rule=\"evenodd\" fill-opacity=\"1\" /><polyline clip-path=\"url(#clip010)\" style=\"stroke:#e26f46; stroke-linecap:round; stroke-linejoin:round; stroke-width:4; stroke-opacity:1; fill:none\" points=\"\n",
       "  3051.07,186.274 3274.84,186.274 \n",
       "  \"/>\n",
       "<path clip-path=\"url(#clip010)\" d=\"M3325.98 205.961 Q3324.17 210.591 3322.46 212.003 Q3320.75 213.415 3317.88 213.415 L3314.47 213.415 L3314.47 209.85 L3316.97 209.85 Q3318.73 209.85 3319.71 209.016 Q3320.68 208.183 3321.86 205.081 L3322.62 203.137 L3312.14 177.628 L3316.65 177.628 L3324.75 197.905 L3332.85 177.628 L3337.37 177.628 L3325.98 205.961 Z\" fill=\"#000000\" fill-rule=\"evenodd\" fill-opacity=\"1\" /><path clip-path=\"url(#clip010)\" d=\"M3347.88 199.618 L3364.2 199.618 L3364.2 203.554 L3342.25 203.554 L3342.25 199.618 Q3344.91 196.864 3349.5 192.234 Q3354.1 187.581 3355.28 186.239 Q3357.53 183.716 3358.41 181.98 Q3359.31 180.22 3359.31 178.531 Q3359.31 175.776 3357.37 174.04 Q3355.45 172.304 3352.34 172.304 Q3350.15 172.304 3347.69 173.068 Q3345.26 173.831 3342.48 175.382 L3342.48 170.66 Q3345.31 169.526 3347.76 168.947 Q3350.22 168.369 3352.25 168.369 Q3357.62 168.369 3360.82 171.054 Q3364.01 173.739 3364.01 178.23 Q3364.01 180.359 3363.2 182.281 Q3362.41 184.179 3360.31 186.771 Q3359.73 187.443 3356.63 190.66 Q3353.53 193.855 3347.88 199.618 Z\" fill=\"#000000\" fill-rule=\"evenodd\" fill-opacity=\"1\" /><polyline clip-path=\"url(#clip010)\" style=\"stroke:#3da44d; stroke-linecap:round; stroke-linejoin:round; stroke-width:4; stroke-opacity:1; fill:none\" points=\"\n",
       "  3051.07,238.114 3274.84,238.114 \n",
       "  \"/>\n",
       "<path clip-path=\"url(#clip010)\" d=\"M3325.98 257.801 Q3324.17 262.431 3322.46 263.843 Q3320.75 265.255 3317.88 265.255 L3314.47 265.255 L3314.47 261.69 L3316.97 261.69 Q3318.73 261.69 3319.71 260.856 Q3320.68 260.023 3321.86 256.921 L3322.62 254.977 L3312.14 229.468 L3316.65 229.468 L3324.75 249.745 L3332.85 229.468 L3337.37 229.468 L3325.98 257.801 Z\" fill=\"#000000\" fill-rule=\"evenodd\" fill-opacity=\"1\" /><path clip-path=\"url(#clip010)\" d=\"M3358.02 236.759 Q3361.37 237.477 3363.25 239.745 Q3365.15 242.014 3365.15 245.347 Q3365.15 250.463 3361.63 253.264 Q3358.11 256.065 3351.63 256.065 Q3349.45 256.065 3347.14 255.625 Q3344.84 255.208 3342.39 254.352 L3342.39 249.838 Q3344.34 250.972 3346.65 251.551 Q3348.97 252.13 3351.49 252.13 Q3355.89 252.13 3358.18 250.394 Q3360.49 248.657 3360.49 245.347 Q3360.49 242.292 3358.34 240.579 Q3356.21 238.843 3352.39 238.843 L3348.36 238.843 L3348.36 235 L3352.58 235 Q3356.03 235 3357.85 233.634 Q3359.68 232.246 3359.68 229.653 Q3359.68 226.991 3357.78 225.579 Q3355.91 224.144 3352.39 224.144 Q3350.47 224.144 3348.27 224.56 Q3346.07 224.977 3343.43 225.857 L3343.43 221.69 Q3346.09 220.949 3348.41 220.579 Q3350.75 220.209 3352.81 220.209 Q3358.13 220.209 3361.23 222.639 Q3364.34 225.046 3364.34 229.167 Q3364.34 232.037 3362.69 234.028 Q3361.05 235.996 3358.02 236.759 Z\" fill=\"#000000\" fill-rule=\"evenodd\" fill-opacity=\"1\" /><polyline clip-path=\"url(#clip010)\" style=\"stroke:#c271d2; stroke-linecap:round; stroke-linejoin:round; stroke-width:4; stroke-opacity:1; fill:none\" points=\"\n",
       "  3051.07,289.954 3274.84,289.954 \n",
       "  \"/>\n",
       "<path clip-path=\"url(#clip010)\" d=\"M3325.98 309.641 Q3324.17 314.271 3322.46 315.683 Q3320.75 317.095 3317.88 317.095 L3314.47 317.095 L3314.47 313.53 L3316.97 313.53 Q3318.73 313.53 3319.71 312.696 Q3320.68 311.863 3321.86 308.761 L3322.62 306.817 L3312.14 281.308 L3316.65 281.308 L3324.75 301.585 L3332.85 281.308 L3337.37 281.308 L3325.98 309.641 Z\" fill=\"#000000\" fill-rule=\"evenodd\" fill-opacity=\"1\" /><path clip-path=\"url(#clip010)\" d=\"M3356.7 276.748 L3344.89 295.197 L3356.7 295.197 L3356.7 276.748 M3355.47 272.674 L3361.35 272.674 L3361.35 295.197 L3366.28 295.197 L3366.28 299.085 L3361.35 299.085 L3361.35 307.234 L3356.7 307.234 L3356.7 299.085 L3341.1 299.085 L3341.1 294.572 L3355.47 272.674 Z\" fill=\"#000000\" fill-rule=\"evenodd\" fill-opacity=\"1\" /></svg>\n"
      ]
     },
     "execution_count": 20,
     "metadata": {},
     "output_type": "execute_result"
    }
   ],
   "source": [
    "duration_view = [View(seq,vp(Symbol(\"Melch.DUR\")),vp(Symbol(\"Melch.CPITCH\"))) for seq in sequences];\n",
    "duration_stm = Idyoms.ppm_stm(duration_view,a,b,e,u,o);\n",
    "pitch_duration_stm = [[Idyoms.combine([p1,p2],0) for (p1,p2) in zip(s,l)] for (s,l) in zip(pitch_stm,duration_stm)];\n",
    "pitch_duration_table = Idyoms.todataframe(pitch_duration_stm);\n",
    "plot(pitch_duration_table.Prob[100:300])\n",
    "plot!(pitch_duration_table.IC[100:300])\n",
    "plot!(pitch_duration_table.H[100:300])\n",
    "vline!(phrases, lw = 2)\n",
    "plot!(size=(900,300))"
   ]
  },
  {
   "cell_type": "code",
   "execution_count": 22,
   "metadata": {},
   "outputs": [
    {
     "data": {
      "text/plain": [
       "Chakra.DerivedViewpoint{Int64}(Chakra.LinkedViewpoint{Tuple{Int64, Int64}}(Viewpoint[Chakra.AtomicViewpoint{Int64}(Main.Melch.Attribute{:CPITCH, Int64}(), Type[Int64]), Chakra.DelayedViewpoint{Int64}(Chakra.AtomicViewpoint{Int64}(Main.Melch.Attribute{:CPITCH, Int64}(), Type[Int64]), 1)], DataType[Int64, Int64]), Chakra.var\"#48#49\"(), #undef)"
      ]
     },
     "execution_count": 22,
     "metadata": {},
     "output_type": "execute_result"
    }
   ],
   "source": [
    "pdiff = Chakra.diff(vp(Symbol(\"Melch.CPITCH\")))"
   ]
  },
  {
   "cell_type": "code",
   "execution_count": 24,
   "metadata": {},
   "outputs": [
    {
     "data": {
      "text/plain": [
       "106-element Vector{Option{Int64}}:\n",
       "   Chakra.None()\n",
       " -3\n",
       " -2\n",
       "  0\n",
       "  0\n",
       "  0\n",
       "  5\n",
       "  0\n",
       "  0\n",
       "  4\n",
       "  0\n",
       "  0\n",
       "  0\n",
       "  ⋮\n",
       " -2\n",
       " -2\n",
       " -3\n",
       "  0\n",
       "  0\n",
       "  0\n",
       " -2\n",
       " -2\n",
       "  2\n",
       "  2\n",
       " -4\n",
       "  0"
      ]
     },
     "execution_count": 24,
     "metadata": {},
     "output_type": "execute_result"
    }
   ],
   "source": [
    "vp_map(pdiff,sequences[1])"
   ]
  },
  {
   "cell_type": "code",
   "execution_count": null,
   "metadata": {},
   "outputs": [],
   "source": []
  }
 ],
 "metadata": {
  "kernelspec": {
   "display_name": "Julia 1.7.3",
   "language": "julia",
   "name": "julia-1.7"
  },
  "language_info": {
   "file_extension": ".jl",
   "mimetype": "application/julia",
   "name": "julia",
   "version": "1.7.3"
  }
 },
 "nbformat": 4,
 "nbformat_minor": 4
}
