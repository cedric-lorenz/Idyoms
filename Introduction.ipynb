{
 "cells": [
  {
   "cell_type": "markdown",
   "metadata": {},
   "source": [
    "# Introduction to Idyoms"
   ]
  },
  {
   "cell_type": "code",
   "execution_count": 1,
   "metadata": {},
   "outputs": [],
   "source": [
    "using CSV, DataFrames, Plots\n",
    "using Chakra, Melch\n",
    "include(\"src/Idyoms.jl\")\n",
    "using Main.Idyoms"
   ]
  },
  {
   "cell_type": "markdown",
   "metadata": {},
   "source": [
    "### Initialise Melch data"
   ]
  },
  {
   "cell_type": "code",
   "execution_count": 2,
   "metadata": {},
   "outputs": [],
   "source": [
    "Melch.__INIT__(\"/Users/nick/Dropbox/MelchData\")"
   ]
  },
  {
   "cell_type": "markdown",
   "metadata": {},
   "source": [
    "### Extract the nova dataset"
   ]
  },
  {
   "cell_type": "code",
   "execution_count": 3,
   "metadata": {},
   "outputs": [
    {
     "data": {
      "text/plain": [
       "\"Songs and ballads from Nova Scotia, Canada.\""
      ]
     },
     "execution_count": 3,
     "metadata": {},
     "output_type": "execute_result"
    }
   ],
   "source": [
    "nova = fnd(Melch.id(0),Melch)\n",
    "nova.description"
   ]
  },
  {
   "cell_type": "markdown",
   "metadata": {},
   "source": [
    "### Generate sequence of constituents"
   ]
  },
  {
   "cell_type": "code",
   "execution_count": 4,
   "metadata": {},
   "outputs": [],
   "source": [
    "# First, extract the particles of the nova dataset. These are the melodies it contains. \n",
    "\n",
    "melodies = pts(nova)\n",
    "\n",
    "# Second, turn each melody into a sequence of constituents\n",
    "\n",
    "sequences = [sequence(pts(mel,Melch),Melch) for mel in melodies];"
   ]
  },
  {
   "cell_type": "markdown",
   "metadata": {},
   "source": [
    "### Define Viewpoints"
   ]
  },
  {
   "cell_type": "code",
   "execution_count": 5,
   "metadata": {},
   "outputs": [],
   "source": [
    "# We define a single atomic viewpoint, PITCH, which corresponds with the Melch attribute CPITCH.\n",
    "\n",
    "PITCH = vp(Melch.CPITCH);"
   ]
  },
  {
   "cell_type": "markdown",
   "metadata": {},
   "source": [
    "### Generate Views from Viewpoints"
   ]
  },
  {
   "cell_type": "code",
   "execution_count": 6,
   "metadata": {},
   "outputs": [],
   "source": [
    "# For each sequence in the dataset, we construct a View from a source viewpoint and a target viewpoint.\n",
    "# In this case, both source and target viewpoints are the same: PITCH.\n",
    "\n",
    "pitch_view = [View(seq,PITCH,PITCH) for seq in sequences];"
   ]
  },
  {
   "cell_type": "markdown",
   "metadata": {},
   "source": [
    "### Set parameters"
   ]
  },
  {
   "cell_type": "code",
   "execution_count": 7,
   "metadata": {},
   "outputs": [],
   "source": [
    "# the alphabet of the viewpoint PITCH.\n",
    "a = Set([54:77...,79,81])\n",
    "\n",
    "# the type smoothing method to be used.\n",
    "b = Interpolated()\n",
    "\n",
    "# the escape method: A(), B(), C(), D(), or X()\n",
    "e = A()\n",
    "\n",
    "# update exclusion: true means update exclusion is on\n",
    "u = true\n",
    "\n",
    "# the order bound: Bounded(h), where h is the max context length, or Unbounded()\n",
    "o = Bounded(5);"
   ]
  },
  {
   "cell_type": "markdown",
   "metadata": {},
   "source": [
    "### Generate predictions\n",
    "\n",
    "The functions ppm_stm, ppm_ltm, ppm_ltm_plus, ppm_both, and ppm_both_plus, all generate a sequence of predictions for each view in the dataset. For each model we can compute the mean information content, a measure of how well the view is predicted by the model parameters."
   ]
  },
  {
   "cell_type": "code",
   "execution_count": 8,
   "metadata": {},
   "outputs": [
    {
     "name": "stdout",
     "output_type": "stream",
     "text": [
      "  1.865400 seconds (14.22 M allocations: 1.424 GiB, 15.79% gc time, 37.33% compilation time)\n"
     ]
    },
    {
     "data": {
      "text/plain": [
       "3.1620058474495836"
      ]
     },
     "execution_count": 8,
     "metadata": {},
     "output_type": "execute_result"
    }
   ],
   "source": [
    "@time pitch_stm = Idyoms.ppm_stm(pitch_view,a,b,e,u,o);\n",
    "Idyoms.mean_infcontent(pitch_stm)"
   ]
  },
  {
   "cell_type": "code",
   "execution_count": 9,
   "metadata": {
    "scrolled": true
   },
   "outputs": [
    {
     "name": "stdout",
     "output_type": "stream",
     "text": [
      "  3.331351 seconds (24.09 M allocations: 2.458 GiB, 23.94% gc time, 20.39% compilation time)\n"
     ]
    },
    {
     "data": {
      "text/plain": [
       "3.149688853456989"
      ]
     },
     "execution_count": 9,
     "metadata": {},
     "output_type": "execute_result"
    }
   ],
   "source": [
    "@time pitch_ltm = Idyoms.ppm_ltm(pitch_view,a,b,e,u,o);\n",
    "Idyoms.mean_infcontent(pitch_ltm)"
   ]
  },
  {
   "cell_type": "code",
   "execution_count": 10,
   "metadata": {},
   "outputs": [
    {
     "name": "stdout",
     "output_type": "stream",
     "text": [
      "  3.019539 seconds (24.68 M allocations: 2.616 GiB, 24.42% gc time, 6.81% compilation time)\n"
     ]
    },
    {
     "data": {
      "text/plain": [
       "2.8782888216781366"
      ]
     },
     "execution_count": 10,
     "metadata": {},
     "output_type": "execute_result"
    }
   ],
   "source": [
    "@time pitch_ltm_plus = Idyoms.ppm_ltm_plus(pitch_view,a,b,e,u,o);\n",
    "Idyoms.mean_infcontent(pitch_ltm_plus)"
   ]
  },
  {
   "cell_type": "code",
   "execution_count": 11,
   "metadata": {},
   "outputs": [
    {
     "name": "stdout",
     "output_type": "stream",
     "text": [
      "  4.555408 seconds (36.96 M allocations: 3.856 GiB, 20.27% gc time, 12.76% compilation time)\n"
     ]
    },
    {
     "data": {
      "text/plain": [
       "2.544371622597849"
      ]
     },
     "execution_count": 11,
     "metadata": {},
     "output_type": "execute_result"
    }
   ],
   "source": [
    "@time pitch_both = Idyoms.ppm_both(pitch_view,a,b,e,u,o);\n",
    "Idyoms.mean_infcontent(pitch_both)"
   ]
  },
  {
   "cell_type": "code",
   "execution_count": 12,
   "metadata": {},
   "outputs": [
    {
     "name": "stdout",
     "output_type": "stream",
     "text": [
      "  5.365092 seconds (37.28 M allocations: 3.994 GiB, 32.17% gc time, 1.88% compilation time)\n"
     ]
    },
    {
     "data": {
      "text/plain": [
       "2.503681972956312"
      ]
     },
     "execution_count": 12,
     "metadata": {},
     "output_type": "execute_result"
    }
   ],
   "source": [
    "@time pitch_both_plus = Idyoms.ppm_both_plus(pitch_view,a,b,e,u,o);\n",
    "Idyoms.mean_infcontent(pitch_both_plus)"
   ]
  },
  {
   "cell_type": "markdown",
   "metadata": {},
   "source": [
    "### Tabulate predictions\n",
    "\n",
    "We can display the prediction sequences as data frames using the todataframe function."
   ]
  },
  {
   "cell_type": "code",
   "execution_count": 13,
   "metadata": {},
   "outputs": [
    {
     "data": {
      "text/html": [
       "<div><div style = \"float: left;\"><span>8552×7 DataFrame</span></div><div style = \"float: right;\"><span style = \"font-style: italic;\">8527 rows omitted</span></div><div style = \"clear: both;\"></div></div><div class = \"data-frame\" style = \"overflow-x: scroll;\"><table class = \"data-frame\" style = \"margin-bottom: 6px;\"><thead><tr class = \"header\"><th class = \"rowNumber\" style = \"font-weight: bold; text-align: right;\">Row</th><th style = \"text-align: left;\">SeqID</th><th style = \"text-align: left;\">EventID</th><th style = \"text-align: left;\">Symbol</th><th style = \"text-align: left;\">Order</th><th style = \"text-align: left;\">Prob</th><th style = \"text-align: left;\">IC</th><th style = \"text-align: left;\">H</th></tr><tr class = \"subheader headerLastRow\"><th class = \"rowNumber\" style = \"font-weight: bold; text-align: right;\"></th><th title = \"Int64\" style = \"text-align: left;\">Int64</th><th title = \"Int64\" style = \"text-align: left;\">Int64</th><th title = \"Int64\" style = \"text-align: left;\">Int64</th><th title = \"Int64\" style = \"text-align: left;\">Int64</th><th title = \"Float64\" style = \"text-align: left;\">Float64</th><th title = \"Float64\" style = \"text-align: left;\">Float64</th><th title = \"Float64\" style = \"text-align: left;\">Float64</th></tr></thead><tbody><tr><td class = \"rowNumber\" style = \"font-weight: bold; text-align: right;\">1</td><td style = \"text-align: right;\">1</td><td style = \"text-align: right;\">1</td><td style = \"text-align: right;\">65</td><td style = \"text-align: right;\">-1</td><td style = \"text-align: right;\">0.0384615</td><td style = \"text-align: right;\">4.70044</td><td style = \"text-align: right;\">4.70044</td></tr><tr><td class = \"rowNumber\" style = \"font-weight: bold; text-align: right;\">2</td><td style = \"text-align: right;\">1</td><td style = \"text-align: right;\">2</td><td style = \"text-align: right;\">62</td><td style = \"text-align: right;\">-1</td><td style = \"text-align: right;\">0.0192308</td><td style = \"text-align: right;\">5.70044</td><td style = \"text-align: right;\">3.23156</td></tr><tr><td class = \"rowNumber\" style = \"font-weight: bold; text-align: right;\">3</td><td style = \"text-align: right;\">1</td><td style = \"text-align: right;\">3</td><td style = \"text-align: right;\">60</td><td style = \"text-align: right;\">-1</td><td style = \"text-align: right;\">0.0131579</td><td style = \"text-align: right;\">6.24793</td><td style = \"text-align: right;\">3.03184</td></tr><tr><td class = \"rowNumber\" style = \"font-weight: bold; text-align: right;\">4</td><td style = \"text-align: right;\">1</td><td style = \"text-align: right;\">4</td><td style = \"text-align: right;\">60</td><td style = \"text-align: right;\">0</td><td style = \"text-align: right;\">0.255102</td><td style = \"text-align: right;\">1.97085</td><td style = \"text-align: right;\">3.06074</td></tr><tr><td class = \"rowNumber\" style = \"font-weight: bold; text-align: right;\">5</td><td style = \"text-align: right;\">1</td><td style = \"text-align: right;\">5</td><td style = \"text-align: right;\">60</td><td style = \"text-align: right;\">1</td><td style = \"text-align: right;\">0.623711</td><td style = \"text-align: right;\">0.68105</td><td style = \"text-align: right;\">2.08767</td></tr><tr><td class = \"rowNumber\" style = \"font-weight: bold; text-align: right;\">6</td><td style = \"text-align: right;\">1</td><td style = \"text-align: right;\">6</td><td style = \"text-align: right;\">60</td><td style = \"text-align: right;\">2</td><td style = \"text-align: right;\">0.665138</td><td style = \"text-align: right;\">0.588275</td><td style = \"text-align: right;\">1.92745</td></tr><tr><td class = \"rowNumber\" style = \"font-weight: bold; text-align: right;\">7</td><td style = \"text-align: right;\">1</td><td style = \"text-align: right;\">7</td><td style = \"text-align: right;\">65</td><td style = \"text-align: right;\">0</td><td style = \"text-align: right;\">0.103306</td><td style = \"text-align: right;\">3.27501</td><td style = \"text-align: right;\">1.79101</td></tr><tr><td class = \"rowNumber\" style = \"font-weight: bold; text-align: right;\">8</td><td style = \"text-align: right;\">1</td><td style = \"text-align: right;\">8</td><td style = \"text-align: right;\">65</td><td style = \"text-align: right;\">0</td><td style = \"text-align: right;\">0.135359</td><td style = \"text-align: right;\">2.88514</td><td style = \"text-align: right;\">1.92345</td></tr><tr><td class = \"rowNumber\" style = \"font-weight: bold; text-align: right;\">9</td><td style = \"text-align: right;\">1</td><td style = \"text-align: right;\">9</td><td style = \"text-align: right;\">65</td><td style = \"text-align: right;\">1</td><td style = \"text-align: right;\">0.421397</td><td style = \"text-align: right;\">1.24675</td><td style = \"text-align: right;\">1.96885</td></tr><tr><td class = \"rowNumber\" style = \"font-weight: bold; text-align: right;\">10</td><td style = \"text-align: right;\">1</td><td style = \"text-align: right;\">10</td><td style = \"text-align: right;\">69</td><td style = \"text-align: right;\">-1</td><td style = \"text-align: right;\">0.00118765</td><td style = \"text-align: right;\">9.71768</td><td style = \"text-align: right;\">1.43529</td></tr><tr><td class = \"rowNumber\" style = \"font-weight: bold; text-align: right;\">11</td><td style = \"text-align: right;\">1</td><td style = \"text-align: right;\">11</td><td style = \"text-align: right;\">69</td><td style = \"text-align: right;\">0</td><td style = \"text-align: right;\">0.09375</td><td style = \"text-align: right;\">3.41504</td><td style = \"text-align: right;\">2.38921</td></tr><tr><td class = \"rowNumber\" style = \"font-weight: bold; text-align: right;\">12</td><td style = \"text-align: right;\">1</td><td style = \"text-align: right;\">12</td><td style = \"text-align: right;\">69</td><td style = \"text-align: right;\">1</td><td style = \"text-align: right;\">0.544204</td><td style = \"text-align: right;\">0.87778</td><td style = \"text-align: right;\">1.97025</td></tr><tr><td class = \"rowNumber\" style = \"font-weight: bold; text-align: right;\">13</td><td style = \"text-align: right;\">1</td><td style = \"text-align: right;\">13</td><td style = \"text-align: right;\">69</td><td style = \"text-align: right;\">2</td><td style = \"text-align: right;\">0.56391</td><td style = \"text-align: right;\">0.826464</td><td style = \"text-align: right;\">1.92188</td></tr><tr><td style = \"text-align: right;\">&vellip;</td><td style = \"text-align: right;\">&vellip;</td><td style = \"text-align: right;\">&vellip;</td><td style = \"text-align: right;\">&vellip;</td><td style = \"text-align: right;\">&vellip;</td><td style = \"text-align: right;\">&vellip;</td><td style = \"text-align: right;\">&vellip;</td><td style = \"text-align: right;\">&vellip;</td></tr><tr><td class = \"rowNumber\" style = \"font-weight: bold; text-align: right;\">8541</td><td style = \"text-align: right;\">152</td><td style = \"text-align: right;\">55</td><td style = \"text-align: right;\">60</td><td style = \"text-align: right;\">4</td><td style = \"text-align: right;\">0.57105</td><td style = \"text-align: right;\">0.80831</td><td style = \"text-align: right;\">1.86885</td></tr><tr><td class = \"rowNumber\" style = \"font-weight: bold; text-align: right;\">8542</td><td style = \"text-align: right;\">152</td><td style = \"text-align: right;\">56</td><td style = \"text-align: right;\">62</td><td style = \"text-align: right;\">4</td><td style = \"text-align: right;\">0.593736</td><td style = \"text-align: right;\">0.752107</td><td style = \"text-align: right;\">1.9333</td></tr><tr><td class = \"rowNumber\" style = \"font-weight: bold; text-align: right;\">8543</td><td style = \"text-align: right;\">152</td><td style = \"text-align: right;\">57</td><td style = \"text-align: right;\">65</td><td style = \"text-align: right;\">4</td><td style = \"text-align: right;\">0.634078</td><td style = \"text-align: right;\">0.657268</td><td style = \"text-align: right;\">1.61576</td></tr><tr><td class = \"rowNumber\" style = \"font-weight: bold; text-align: right;\">8544</td><td style = \"text-align: right;\">152</td><td style = \"text-align: right;\">58</td><td style = \"text-align: right;\">65</td><td style = \"text-align: right;\">4</td><td style = \"text-align: right;\">0.524299</td><td style = \"text-align: right;\">0.931538</td><td style = \"text-align: right;\">2.05148</td></tr><tr><td class = \"rowNumber\" style = \"font-weight: bold; text-align: right;\">8545</td><td style = \"text-align: right;\">152</td><td style = \"text-align: right;\">59</td><td style = \"text-align: right;\">65</td><td style = \"text-align: right;\">1</td><td style = \"text-align: right;\">0.106635</td><td style = \"text-align: right;\">3.22925</td><td style = \"text-align: right;\">2.42563</td></tr><tr><td class = \"rowNumber\" style = \"font-weight: bold; text-align: right;\">8546</td><td style = \"text-align: right;\">152</td><td style = \"text-align: right;\">60</td><td style = \"text-align: right;\">62</td><td style = \"text-align: right;\">2</td><td style = \"text-align: right;\">0.311171</td><td style = \"text-align: right;\">1.68422</td><td style = \"text-align: right;\">2.37609</td></tr><tr><td class = \"rowNumber\" style = \"font-weight: bold; text-align: right;\">8547</td><td style = \"text-align: right;\">152</td><td style = \"text-align: right;\">61</td><td style = \"text-align: right;\">58</td><td style = \"text-align: right;\">3</td><td style = \"text-align: right;\">0.541027</td><td style = \"text-align: right;\">0.886227</td><td style = \"text-align: right;\">1.98971</td></tr><tr><td class = \"rowNumber\" style = \"font-weight: bold; text-align: right;\">8548</td><td style = \"text-align: right;\">152</td><td style = \"text-align: right;\">62</td><td style = \"text-align: right;\">62</td><td style = \"text-align: right;\">1</td><td style = \"text-align: right;\">0.0757447</td><td style = \"text-align: right;\">3.72271</td><td style = \"text-align: right;\">1.75727</td></tr><tr><td class = \"rowNumber\" style = \"font-weight: bold; text-align: right;\">8549</td><td style = \"text-align: right;\">152</td><td style = \"text-align: right;\">63</td><td style = \"text-align: right;\">60</td><td style = \"text-align: right;\">2</td><td style = \"text-align: right;\">0.272496</td><td style = \"text-align: right;\">1.87569</td><td style = \"text-align: right;\">1.91692</td></tr><tr><td class = \"rowNumber\" style = \"font-weight: bold; text-align: right;\">8550</td><td style = \"text-align: right;\">152</td><td style = \"text-align: right;\">64</td><td style = \"text-align: right;\">58</td><td style = \"text-align: right;\">3</td><td style = \"text-align: right;\">0.58538</td><td style = \"text-align: right;\">0.772554</td><td style = \"text-align: right;\">1.7325</td></tr><tr><td class = \"rowNumber\" style = \"font-weight: bold; text-align: right;\">8551</td><td style = \"text-align: right;\">152</td><td style = \"text-align: right;\">65</td><td style = \"text-align: right;\">57</td><td style = \"text-align: right;\">4</td><td style = \"text-align: right;\">0.468822</td><td style = \"text-align: right;\">1.09289</td><td style = \"text-align: right;\">2.24569</td></tr><tr><td class = \"rowNumber\" style = \"font-weight: bold; text-align: right;\">8552</td><td style = \"text-align: right;\">152</td><td style = \"text-align: right;\">66</td><td style = \"text-align: right;\">58</td><td style = \"text-align: right;\">4</td><td style = \"text-align: right;\">0.539126</td><td style = \"text-align: right;\">0.891305</td><td style = \"text-align: right;\">2.37188</td></tr></tbody></table></div>"
      ],
      "text/latex": [
       "\\begin{tabular}{r|ccccccc}\n",
       "\t& SeqID & EventID & Symbol & Order & Prob & IC & H\\\\\n",
       "\t\\hline\n",
       "\t& Int64 & Int64 & Int64 & Int64 & Float64 & Float64 & Float64\\\\\n",
       "\t\\hline\n",
       "\t1 & 1 & 1 & 65 & -1 & 0.0384615 & 4.70044 & 4.70044 \\\\\n",
       "\t2 & 1 & 2 & 62 & -1 & 0.0192308 & 5.70044 & 3.23156 \\\\\n",
       "\t3 & 1 & 3 & 60 & -1 & 0.0131579 & 6.24793 & 3.03184 \\\\\n",
       "\t4 & 1 & 4 & 60 & 0 & 0.255102 & 1.97085 & 3.06074 \\\\\n",
       "\t5 & 1 & 5 & 60 & 1 & 0.623711 & 0.68105 & 2.08767 \\\\\n",
       "\t6 & 1 & 6 & 60 & 2 & 0.665138 & 0.588275 & 1.92745 \\\\\n",
       "\t7 & 1 & 7 & 65 & 0 & 0.103306 & 3.27501 & 1.79101 \\\\\n",
       "\t8 & 1 & 8 & 65 & 0 & 0.135359 & 2.88514 & 1.92345 \\\\\n",
       "\t9 & 1 & 9 & 65 & 1 & 0.421397 & 1.24675 & 1.96885 \\\\\n",
       "\t10 & 1 & 10 & 69 & -1 & 0.00118765 & 9.71768 & 1.43529 \\\\\n",
       "\t11 & 1 & 11 & 69 & 0 & 0.09375 & 3.41504 & 2.38921 \\\\\n",
       "\t12 & 1 & 12 & 69 & 1 & 0.544204 & 0.87778 & 1.97025 \\\\\n",
       "\t13 & 1 & 13 & 69 & 2 & 0.56391 & 0.826464 & 1.92188 \\\\\n",
       "\t14 & 1 & 14 & 69 & 3 & 0.581982 & 0.780954 & 1.87553 \\\\\n",
       "\t15 & 1 & 15 & 67 & -1 & 0.0017301 & 9.17493 & 1.83115 \\\\\n",
       "\t16 & 1 & 16 & 65 & 0 & 0.25 & 2.0 & 2.53488 \\\\\n",
       "\t17 & 1 & 17 & 65 & 1 & 0.413907 & 1.27262 & 2.16284 \\\\\n",
       "\t18 & 1 & 18 & 65 & 2 & 0.49937 & 1.00182 & 1.81591 \\\\\n",
       "\t19 & 1 & 19 & 62 & 1 & 0.0553967 & 4.17406 & 1.56919 \\\\\n",
       "\t20 & 1 & 20 & 60 & 2 & 0.55402 & 0.85199 & 1.96429 \\\\\n",
       "\t21 & 1 & 21 & 60 & 3 & 0.665659 & 0.587145 & 1.49093 \\\\\n",
       "\t22 & 1 & 22 & 65 & 2 & 0.238836 & 2.06591 & 1.59351 \\\\\n",
       "\t23 & 1 & 23 & 69 & 1 & 0.117334 & 3.0913 & 1.58246 \\\\\n",
       "\t24 & 1 & 24 & 69 & 2 & 0.754603 & 0.40621 & 1.27433 \\\\\n",
       "\t25 & 1 & 25 & 67 & 2 & 0.141887 & 2.81719 & 1.37993 \\\\\n",
       "\t26 & 1 & 26 & 65 & 3 & 0.589506 & 0.762421 & 1.88935 \\\\\n",
       "\t27 & 1 & 27 & 60 & 0 & 0.0419294 & 4.57589 & 1.61453 \\\\\n",
       "\t28 & 1 & 28 & 60 & 1 & 0.549456 & 0.863925 & 1.60689 \\\\\n",
       "\t29 & 1 & 29 & 60 & 2 & 0.415194 & 1.26814 & 1.77607 \\\\\n",
       "\t30 & 1 & 30 & 60 & 3 & 0.388423 & 1.3643 & 1.97951 \\\\\n",
       "\t$\\dots$ & $\\dots$ & $\\dots$ & $\\dots$ & $\\dots$ & $\\dots$ & $\\dots$ & $\\dots$ \\\\\n",
       "\\end{tabular}\n"
      ],
      "text/plain": [
       "\u001b[1m8552×7 DataFrame\u001b[0m\n",
       "\u001b[1m  Row \u001b[0m│\u001b[1m SeqID \u001b[0m\u001b[1m EventID \u001b[0m\u001b[1m Symbol \u001b[0m\u001b[1m Order \u001b[0m\u001b[1m Prob       \u001b[0m\u001b[1m IC       \u001b[0m\u001b[1m H       \u001b[0m\n",
       "      │\u001b[90m Int64 \u001b[0m\u001b[90m Int64   \u001b[0m\u001b[90m Int64  \u001b[0m\u001b[90m Int64 \u001b[0m\u001b[90m Float64    \u001b[0m\u001b[90m Float64  \u001b[0m\u001b[90m Float64 \u001b[0m\n",
       "──────┼──────────────────────────────────────────────────────────────\n",
       "    1 │     1        1      65     -1  0.0384615   4.70044   4.70044\n",
       "    2 │     1        2      62     -1  0.0192308   5.70044   3.23156\n",
       "    3 │     1        3      60     -1  0.0131579   6.24793   3.03184\n",
       "    4 │     1        4      60      0  0.255102    1.97085   3.06074\n",
       "    5 │     1        5      60      1  0.623711    0.68105   2.08767\n",
       "    6 │     1        6      60      2  0.665138    0.588275  1.92745\n",
       "    7 │     1        7      65      0  0.103306    3.27501   1.79101\n",
       "    8 │     1        8      65      0  0.135359    2.88514   1.92345\n",
       "    9 │     1        9      65      1  0.421397    1.24675   1.96885\n",
       "   10 │     1       10      69     -1  0.00118765  9.71768   1.43529\n",
       "   11 │     1       11      69      0  0.09375     3.41504   2.38921\n",
       "  ⋮   │   ⋮       ⋮       ⋮       ⋮        ⋮          ⋮         ⋮\n",
       " 8543 │   152       57      65      4  0.634078    0.657268  1.61576\n",
       " 8544 │   152       58      65      4  0.524299    0.931538  2.05148\n",
       " 8545 │   152       59      65      1  0.106635    3.22925   2.42563\n",
       " 8546 │   152       60      62      2  0.311171    1.68422   2.37609\n",
       " 8547 │   152       61      58      3  0.541027    0.886227  1.98971\n",
       " 8548 │   152       62      62      1  0.0757447   3.72271   1.75727\n",
       " 8549 │   152       63      60      2  0.272496    1.87569   1.91692\n",
       " 8550 │   152       64      58      3  0.58538     0.772554  1.7325\n",
       " 8551 │   152       65      57      4  0.468822    1.09289   2.24569\n",
       " 8552 │   152       66      58      4  0.539126    0.891305  2.37188\n",
       "\u001b[36m                                                    8531 rows omitted\u001b[0m"
      ]
     },
     "execution_count": 13,
     "metadata": {},
     "output_type": "execute_result"
    }
   ],
   "source": [
    "pitch_table = Idyoms.todataframe(pitch_stm)"
   ]
  },
  {
   "cell_type": "markdown",
   "metadata": {},
   "source": [
    "### Plot information profiles\n",
    "\n",
    "We can plot the probability, information content and entropy of a sequence using Julia's Plots library. Features in these information profiles can be used to detect structure in the sequences. "
   ]
  },
  {
   "cell_type": "code",
   "execution_count": 14,
   "metadata": {},
   "outputs": [
    {
     "data": {
      "image/svg+xml": [
       "<?xml version=\"1.0\" encoding=\"utf-8\"?>\n",
       "<svg xmlns=\"http://www.w3.org/2000/svg\" xmlns:xlink=\"http://www.w3.org/1999/xlink\" width=\"900\" height=\"300\" viewBox=\"0 0 3600 1200\">\n",
       "<defs>\n",
       "  <clipPath id=\"clip150\">\n",
       "    <rect x=\"0\" y=\"0\" width=\"3600\" height=\"1200\"/>\n",
       "  </clipPath>\n",
       "</defs>\n",
       "<path clip-path=\"url(#clip150)\" d=\"\n",
       "M0 1200 L3600 1200 L3600 0 L0 0  Z\n",
       "  \" fill=\"#ffffff\" fill-rule=\"evenodd\" fill-opacity=\"1\"/>\n",
       "<defs>\n",
       "  <clipPath id=\"clip151\">\n",
       "    <rect x=\"720\" y=\"0\" width=\"2521\" height=\"1200\"/>\n",
       "  </clipPath>\n",
       "</defs>\n",
       "<path clip-path=\"url(#clip150)\" d=\"\n",
       "M196.191 1107.73 L3552.76 1107.73 L3552.76 47.2441 L196.191 47.2441  Z\n",
       "  \" fill=\"#ffffff\" fill-rule=\"evenodd\" fill-opacity=\"1\"/>\n",
       "<defs>\n",
       "  <clipPath id=\"clip152\">\n",
       "    <rect x=\"196\" y=\"47\" width=\"3358\" height=\"1061\"/>\n",
       "  </clipPath>\n",
       "</defs>\n",
       "<polyline clip-path=\"url(#clip152)\" style=\"stroke:#000000; stroke-linecap:round; stroke-linejoin:round; stroke-width:2; stroke-opacity:0.1; fill:none\" points=\"\n",
       "  261.03,1107.73 261.03,47.2441 \n",
       "  \"/>\n",
       "<polyline clip-path=\"url(#clip152)\" style=\"stroke:#000000; stroke-linecap:round; stroke-linejoin:round; stroke-width:2; stroke-opacity:0.1; fill:none\" points=\"\n",
       "  1014.98,1107.73 1014.98,47.2441 \n",
       "  \"/>\n",
       "<polyline clip-path=\"url(#clip152)\" style=\"stroke:#000000; stroke-linecap:round; stroke-linejoin:round; stroke-width:2; stroke-opacity:0.1; fill:none\" points=\"\n",
       "  1768.92,1107.73 1768.92,47.2441 \n",
       "  \"/>\n",
       "<polyline clip-path=\"url(#clip152)\" style=\"stroke:#000000; stroke-linecap:round; stroke-linejoin:round; stroke-width:2; stroke-opacity:0.1; fill:none\" points=\"\n",
       "  2522.87,1107.73 2522.87,47.2441 \n",
       "  \"/>\n",
       "<polyline clip-path=\"url(#clip152)\" style=\"stroke:#000000; stroke-linecap:round; stroke-linejoin:round; stroke-width:2; stroke-opacity:0.1; fill:none\" points=\"\n",
       "  3276.81,1107.73 3276.81,47.2441 \n",
       "  \"/>\n",
       "<polyline clip-path=\"url(#clip150)\" style=\"stroke:#000000; stroke-linecap:round; stroke-linejoin:round; stroke-width:4; stroke-opacity:1; fill:none\" points=\"\n",
       "  196.191,1107.73 3552.76,1107.73 \n",
       "  \"/>\n",
       "<polyline clip-path=\"url(#clip150)\" style=\"stroke:#000000; stroke-linecap:round; stroke-linejoin:round; stroke-width:4; stroke-opacity:1; fill:none\" points=\"\n",
       "  261.03,1107.73 261.03,1088.83 \n",
       "  \"/>\n",
       "<polyline clip-path=\"url(#clip150)\" style=\"stroke:#000000; stroke-linecap:round; stroke-linejoin:round; stroke-width:4; stroke-opacity:1; fill:none\" points=\"\n",
       "  1014.98,1107.73 1014.98,1088.83 \n",
       "  \"/>\n",
       "<polyline clip-path=\"url(#clip150)\" style=\"stroke:#000000; stroke-linecap:round; stroke-linejoin:round; stroke-width:4; stroke-opacity:1; fill:none\" points=\"\n",
       "  1768.92,1107.73 1768.92,1088.83 \n",
       "  \"/>\n",
       "<polyline clip-path=\"url(#clip150)\" style=\"stroke:#000000; stroke-linecap:round; stroke-linejoin:round; stroke-width:4; stroke-opacity:1; fill:none\" points=\"\n",
       "  2522.87,1107.73 2522.87,1088.83 \n",
       "  \"/>\n",
       "<polyline clip-path=\"url(#clip150)\" style=\"stroke:#000000; stroke-linecap:round; stroke-linejoin:round; stroke-width:4; stroke-opacity:1; fill:none\" points=\"\n",
       "  3276.81,1107.73 3276.81,1088.83 \n",
       "  \"/>\n",
       "<path clip-path=\"url(#clip150)\" d=\"M261.03 1148.25 Q257.419 1148.25 255.59 1151.81 Q253.785 1155.35 253.785 1162.48 Q253.785 1169.59 255.59 1173.15 Q257.419 1176.7 261.03 1176.7 Q264.664 1176.7 266.47 1173.15 Q268.298 1169.59 268.298 1162.48 Q268.298 1155.35 266.47 1151.81 Q264.664 1148.25 261.03 1148.25 M261.03 1144.54 Q266.84 1144.54 269.896 1149.15 Q272.974 1153.73 272.974 1162.48 Q272.974 1171.21 269.896 1175.82 Q266.84 1180.4 261.03 1180.4 Q255.22 1180.4 252.141 1175.82 Q249.086 1171.21 249.086 1162.48 Q249.086 1153.73 252.141 1149.15 Q255.22 1144.54 261.03 1144.54 Z\" fill=\"#000000\" fill-rule=\"evenodd\" fill-opacity=\"1\" /><path clip-path=\"url(#clip150)\" d=\"M994.246 1175.79 L1010.57 1175.79 L1010.57 1179.73 L988.621 1179.73 L988.621 1175.79 Q991.283 1173.04 995.867 1168.41 Q1000.47 1163.76 1001.65 1162.41 Q1003.9 1159.89 1004.78 1158.15 Q1005.68 1156.39 1005.68 1154.7 Q1005.68 1151.95 1003.74 1150.21 Q1001.82 1148.48 998.714 1148.48 Q996.515 1148.48 994.061 1149.24 Q991.631 1150.01 988.853 1151.56 L988.853 1146.83 Q991.677 1145.7 994.131 1145.12 Q996.584 1144.54 998.621 1144.54 Q1003.99 1144.54 1007.19 1147.23 Q1010.38 1149.91 1010.38 1154.4 Q1010.38 1156.53 1009.57 1158.45 Q1008.78 1160.35 1006.68 1162.95 Q1006.1 1163.62 1003 1166.83 Q999.895 1170.03 994.246 1175.79 Z\" fill=\"#000000\" fill-rule=\"evenodd\" fill-opacity=\"1\" /><path clip-path=\"url(#clip150)\" d=\"M1020.43 1145.17 L1038.78 1145.17 L1038.78 1149.1 L1024.71 1149.1 L1024.71 1157.58 Q1025.73 1157.23 1026.75 1157.07 Q1027.76 1156.88 1028.78 1156.88 Q1034.57 1156.88 1037.95 1160.05 Q1041.33 1163.22 1041.33 1168.64 Q1041.33 1174.22 1037.86 1177.32 Q1034.39 1180.4 1028.07 1180.4 Q1025.89 1180.4 1023.62 1180.03 Q1021.38 1179.66 1018.97 1178.92 L1018.97 1174.22 Q1021.05 1175.35 1023.27 1175.91 Q1025.5 1176.46 1027.97 1176.46 Q1031.98 1176.46 1034.32 1174.36 Q1036.65 1172.25 1036.65 1168.64 Q1036.65 1165.03 1034.32 1162.92 Q1031.98 1160.82 1027.97 1160.82 Q1026.1 1160.82 1024.22 1161.23 Q1022.37 1161.65 1020.43 1162.53 L1020.43 1145.17 Z\" fill=\"#000000\" fill-rule=\"evenodd\" fill-opacity=\"1\" /><path clip-path=\"url(#clip150)\" d=\"M1743.62 1145.17 L1761.98 1145.17 L1761.98 1149.1 L1747.9 1149.1 L1747.9 1157.58 Q1748.92 1157.23 1749.94 1157.07 Q1750.96 1156.88 1751.98 1156.88 Q1757.76 1156.88 1761.14 1160.05 Q1764.52 1163.22 1764.52 1168.64 Q1764.52 1174.22 1761.05 1177.32 Q1757.58 1180.4 1751.26 1180.4 Q1749.08 1180.4 1746.81 1180.03 Q1744.57 1179.66 1742.16 1178.92 L1742.16 1174.22 Q1744.25 1175.35 1746.47 1175.91 Q1748.69 1176.46 1751.17 1176.46 Q1755.17 1176.46 1757.51 1174.36 Q1759.85 1172.25 1759.85 1168.64 Q1759.85 1165.03 1757.51 1162.92 Q1755.17 1160.82 1751.17 1160.82 Q1749.29 1160.82 1747.42 1161.23 Q1745.56 1161.65 1743.62 1162.53 L1743.62 1145.17 Z\" fill=\"#000000\" fill-rule=\"evenodd\" fill-opacity=\"1\" /><path clip-path=\"url(#clip150)\" d=\"M1783.74 1148.25 Q1780.12 1148.25 1778.3 1151.81 Q1776.49 1155.35 1776.49 1162.48 Q1776.49 1169.59 1778.3 1173.15 Q1780.12 1176.7 1783.74 1176.7 Q1787.37 1176.7 1789.18 1173.15 Q1791 1169.59 1791 1162.48 Q1791 1155.35 1789.18 1151.81 Q1787.37 1148.25 1783.74 1148.25 M1783.74 1144.54 Q1789.55 1144.54 1792.6 1149.15 Q1795.68 1153.73 1795.68 1162.48 Q1795.68 1171.21 1792.6 1175.82 Q1789.55 1180.4 1783.74 1180.4 Q1777.93 1180.4 1774.85 1175.82 Q1771.79 1171.21 1771.79 1162.48 Q1771.79 1153.73 1774.85 1149.15 Q1777.93 1144.54 1783.74 1144.54 Z\" fill=\"#000000\" fill-rule=\"evenodd\" fill-opacity=\"1\" /><path clip-path=\"url(#clip150)\" d=\"M2496.72 1145.17 L2518.94 1145.17 L2518.94 1147.16 L2506.4 1179.73 L2501.51 1179.73 L2513.32 1149.1 L2496.72 1149.1 L2496.72 1145.17 Z\" fill=\"#000000\" fill-rule=\"evenodd\" fill-opacity=\"1\" /><path clip-path=\"url(#clip150)\" d=\"M2528.11 1145.17 L2546.47 1145.17 L2546.47 1149.1 L2532.39 1149.1 L2532.39 1157.58 Q2533.41 1157.23 2534.43 1157.07 Q2535.45 1156.88 2536.47 1156.88 Q2542.25 1156.88 2545.63 1160.05 Q2549.01 1163.22 2549.01 1168.64 Q2549.01 1174.22 2545.54 1177.32 Q2542.07 1180.4 2535.75 1180.4 Q2533.57 1180.4 2531.3 1180.03 Q2529.06 1179.66 2526.65 1178.92 L2526.65 1174.22 Q2528.73 1175.35 2530.96 1175.91 Q2533.18 1176.46 2535.66 1176.46 Q2539.66 1176.46 2542 1174.36 Q2544.34 1172.25 2544.34 1168.64 Q2544.34 1165.03 2542 1162.92 Q2539.66 1160.82 2535.66 1160.82 Q2533.78 1160.82 2531.91 1161.23 Q2530.05 1161.65 2528.11 1162.53 L2528.11 1145.17 Z\" fill=\"#000000\" fill-rule=\"evenodd\" fill-opacity=\"1\" /><path clip-path=\"url(#clip150)\" d=\"M3236.42 1175.79 L3244.06 1175.79 L3244.06 1149.43 L3235.75 1151.09 L3235.75 1146.83 L3244.01 1145.17 L3248.69 1145.17 L3248.69 1175.79 L3256.33 1175.79 L3256.33 1179.73 L3236.42 1179.73 L3236.42 1175.79 Z\" fill=\"#000000\" fill-rule=\"evenodd\" fill-opacity=\"1\" /><path clip-path=\"url(#clip150)\" d=\"M3275.77 1148.25 Q3272.16 1148.25 3270.33 1151.81 Q3268.52 1155.35 3268.52 1162.48 Q3268.52 1169.59 3270.33 1173.15 Q3272.16 1176.7 3275.77 1176.7 Q3279.4 1176.7 3281.21 1173.15 Q3283.04 1169.59 3283.04 1162.48 Q3283.04 1155.35 3281.21 1151.81 Q3279.4 1148.25 3275.77 1148.25 M3275.77 1144.54 Q3281.58 1144.54 3284.64 1149.15 Q3287.71 1153.73 3287.71 1162.48 Q3287.71 1171.21 3284.64 1175.82 Q3281.58 1180.4 3275.77 1180.4 Q3269.96 1180.4 3266.88 1175.82 Q3263.83 1171.21 3263.83 1162.48 Q3263.83 1153.73 3266.88 1149.15 Q3269.96 1144.54 3275.77 1144.54 Z\" fill=\"#000000\" fill-rule=\"evenodd\" fill-opacity=\"1\" /><path clip-path=\"url(#clip150)\" d=\"M3305.93 1148.25 Q3302.32 1148.25 3300.49 1151.81 Q3298.69 1155.35 3298.69 1162.48 Q3298.69 1169.59 3300.49 1173.15 Q3302.32 1176.7 3305.93 1176.7 Q3309.57 1176.7 3311.37 1173.15 Q3313.2 1169.59 3313.2 1162.48 Q3313.2 1155.35 3311.37 1151.81 Q3309.57 1148.25 3305.93 1148.25 M3305.93 1144.54 Q3311.74 1144.54 3314.8 1149.15 Q3317.88 1153.73 3317.88 1162.48 Q3317.88 1171.21 3314.8 1175.82 Q3311.74 1180.4 3305.93 1180.4 Q3300.12 1180.4 3297.04 1175.82 Q3293.99 1171.21 3293.99 1162.48 Q3293.99 1153.73 3297.04 1149.15 Q3300.12 1144.54 3305.93 1144.54 Z\" fill=\"#000000\" fill-rule=\"evenodd\" fill-opacity=\"1\" /><polyline clip-path=\"url(#clip152)\" style=\"stroke:#000000; stroke-linecap:round; stroke-linejoin:round; stroke-width:2; stroke-opacity:0.1; fill:none\" points=\"\n",
       "  196.191,1077.74 3552.76,1077.74 \n",
       "  \"/>\n",
       "<polyline clip-path=\"url(#clip152)\" style=\"stroke:#000000; stroke-linecap:round; stroke-linejoin:round; stroke-width:2; stroke-opacity:0.1; fill:none\" points=\"\n",
       "  196.191,862.605 3552.76,862.605 \n",
       "  \"/>\n",
       "<polyline clip-path=\"url(#clip152)\" style=\"stroke:#000000; stroke-linecap:round; stroke-linejoin:round; stroke-width:2; stroke-opacity:0.1; fill:none\" points=\"\n",
       "  196.191,647.469 3552.76,647.469 \n",
       "  \"/>\n",
       "<polyline clip-path=\"url(#clip152)\" style=\"stroke:#000000; stroke-linecap:round; stroke-linejoin:round; stroke-width:2; stroke-opacity:0.1; fill:none\" points=\"\n",
       "  196.191,432.333 3552.76,432.333 \n",
       "  \"/>\n",
       "<polyline clip-path=\"url(#clip152)\" style=\"stroke:#000000; stroke-linecap:round; stroke-linejoin:round; stroke-width:2; stroke-opacity:0.1; fill:none\" points=\"\n",
       "  196.191,217.197 3552.76,217.197 \n",
       "  \"/>\n",
       "<polyline clip-path=\"url(#clip150)\" style=\"stroke:#000000; stroke-linecap:round; stroke-linejoin:round; stroke-width:4; stroke-opacity:1; fill:none\" points=\"\n",
       "  196.191,1107.73 196.191,47.2441 \n",
       "  \"/>\n",
       "<polyline clip-path=\"url(#clip150)\" style=\"stroke:#000000; stroke-linecap:round; stroke-linejoin:round; stroke-width:4; stroke-opacity:1; fill:none\" points=\"\n",
       "  196.191,1077.74 215.088,1077.74 \n",
       "  \"/>\n",
       "<polyline clip-path=\"url(#clip150)\" style=\"stroke:#000000; stroke-linecap:round; stroke-linejoin:round; stroke-width:4; stroke-opacity:1; fill:none\" points=\"\n",
       "  196.191,862.605 215.088,862.605 \n",
       "  \"/>\n",
       "<polyline clip-path=\"url(#clip150)\" style=\"stroke:#000000; stroke-linecap:round; stroke-linejoin:round; stroke-width:4; stroke-opacity:1; fill:none\" points=\"\n",
       "  196.191,647.469 215.088,647.469 \n",
       "  \"/>\n",
       "<polyline clip-path=\"url(#clip150)\" style=\"stroke:#000000; stroke-linecap:round; stroke-linejoin:round; stroke-width:4; stroke-opacity:1; fill:none\" points=\"\n",
       "  196.191,432.333 215.088,432.333 \n",
       "  \"/>\n",
       "<polyline clip-path=\"url(#clip150)\" style=\"stroke:#000000; stroke-linecap:round; stroke-linejoin:round; stroke-width:4; stroke-opacity:1; fill:none\" points=\"\n",
       "  196.191,217.197 215.088,217.197 \n",
       "  \"/>\n",
       "<path clip-path=\"url(#clip150)\" d=\"M85.0151 1063.54 Q81.404 1063.54 79.5753 1067.1 Q77.7697 1070.65 77.7697 1077.78 Q77.7697 1084.88 79.5753 1088.45 Q81.404 1091.99 85.0151 1091.99 Q88.6493 1091.99 90.4548 1088.45 Q92.2835 1084.88 92.2835 1077.78 Q92.2835 1070.65 90.4548 1067.1 Q88.6493 1063.54 85.0151 1063.54 M85.0151 1059.84 Q90.8252 1059.84 93.8808 1064.44 Q96.9594 1069.03 96.9594 1077.78 Q96.9594 1086.5 93.8808 1091.11 Q90.8252 1095.69 85.0151 1095.69 Q79.2049 1095.69 76.1262 1091.11 Q73.0707 1086.5 73.0707 1077.78 Q73.0707 1069.03 76.1262 1064.44 Q79.2049 1059.84 85.0151 1059.84 Z\" fill=\"#000000\" fill-rule=\"evenodd\" fill-opacity=\"1\" /><path clip-path=\"url(#clip150)\" d=\"M105.177 1089.14 L110.061 1089.14 L110.061 1095.02 L105.177 1095.02 L105.177 1089.14 Z\" fill=\"#000000\" fill-rule=\"evenodd\" fill-opacity=\"1\" /><path clip-path=\"url(#clip150)\" d=\"M130.246 1063.54 Q126.635 1063.54 124.807 1067.1 Q123.001 1070.65 123.001 1077.78 Q123.001 1084.88 124.807 1088.45 Q126.635 1091.99 130.246 1091.99 Q133.881 1091.99 135.686 1088.45 Q137.515 1084.88 137.515 1077.78 Q137.515 1070.65 135.686 1067.1 Q133.881 1063.54 130.246 1063.54 M130.246 1059.84 Q136.056 1059.84 139.112 1064.44 Q142.191 1069.03 142.191 1077.78 Q142.191 1086.5 139.112 1091.11 Q136.056 1095.69 130.246 1095.69 Q124.436 1095.69 121.357 1091.11 Q118.302 1086.5 118.302 1077.78 Q118.302 1069.03 121.357 1064.44 Q124.436 1059.84 130.246 1059.84 Z\" fill=\"#000000\" fill-rule=\"evenodd\" fill-opacity=\"1\" /><path clip-path=\"url(#clip150)\" d=\"M80.0382 875.95 L96.3576 875.95 L96.3576 879.885 L74.4133 879.885 L74.4133 875.95 Q77.0753 873.195 81.6586 868.566 Q86.2651 863.913 87.4456 862.57 Q89.691 860.047 90.5706 858.311 Q91.4734 856.552 91.4734 854.862 Q91.4734 852.108 89.5289 850.371 Q87.6076 848.635 84.5058 848.635 Q82.3067 848.635 79.8531 849.399 Q77.4225 850.163 74.6447 851.714 L74.6447 846.992 Q77.4688 845.858 79.9225 845.279 Q82.3762 844.7 84.4132 844.7 Q89.7836 844.7 92.978 847.385 Q96.1724 850.071 96.1724 854.561 Q96.1724 856.691 95.3622 858.612 Q94.5752 860.51 92.4687 863.103 Q91.89 863.774 88.7882 866.992 Q85.6864 870.186 80.0382 875.95 Z\" fill=\"#000000\" fill-rule=\"evenodd\" fill-opacity=\"1\" /><path clip-path=\"url(#clip150)\" d=\"M106.172 874.006 L111.057 874.006 L111.057 879.885 L106.172 879.885 L106.172 874.006 Z\" fill=\"#000000\" fill-rule=\"evenodd\" fill-opacity=\"1\" /><path clip-path=\"url(#clip150)\" d=\"M121.288 845.325 L139.644 845.325 L139.644 849.26 L125.57 849.26 L125.57 857.733 Q126.589 857.385 127.607 857.223 Q128.626 857.038 129.644 857.038 Q135.431 857.038 138.811 860.209 Q142.191 863.381 142.191 868.797 Q142.191 874.376 138.718 877.478 Q135.246 880.556 128.927 880.556 Q126.751 880.556 124.482 880.186 Q122.237 879.816 119.83 879.075 L119.83 874.376 Q121.913 875.51 124.135 876.066 Q126.357 876.621 128.834 876.621 Q132.839 876.621 135.177 874.515 Q137.515 872.408 137.515 868.797 Q137.515 865.186 135.177 863.08 Q132.839 860.973 128.834 860.973 Q126.959 860.973 125.084 861.39 Q123.232 861.807 121.288 862.686 L121.288 845.325 Z\" fill=\"#000000\" fill-rule=\"evenodd\" fill-opacity=\"1\" /><path clip-path=\"url(#clip150)\" d=\"M75.0614 630.189 L93.4178 630.189 L93.4178 634.124 L79.3438 634.124 L79.3438 642.596 Q80.3623 642.249 81.3808 642.087 Q82.3993 641.902 83.4178 641.902 Q89.2049 641.902 92.5845 645.073 Q95.9641 648.244 95.9641 653.661 Q95.9641 659.24 92.4919 662.342 Q89.0197 665.42 82.7003 665.42 Q80.5243 665.42 78.2558 665.05 Q76.0105 664.68 73.6031 663.939 L73.6031 659.24 Q75.6864 660.374 77.9086 660.93 Q80.1308 661.485 82.6077 661.485 Q86.6123 661.485 88.9502 659.379 Q91.2882 657.272 91.2882 653.661 Q91.2882 650.05 88.9502 647.944 Q86.6123 645.837 82.6077 645.837 Q80.7327 645.837 78.8577 646.254 Q77.0058 646.67 75.0614 647.55 L75.0614 630.189 Z\" fill=\"#000000\" fill-rule=\"evenodd\" fill-opacity=\"1\" /><path clip-path=\"url(#clip150)\" d=\"M105.177 658.869 L110.061 658.869 L110.061 664.749 L105.177 664.749 L105.177 658.869 Z\" fill=\"#000000\" fill-rule=\"evenodd\" fill-opacity=\"1\" /><path clip-path=\"url(#clip150)\" d=\"M130.246 633.268 Q126.635 633.268 124.807 636.832 Q123.001 640.374 123.001 647.504 Q123.001 654.61 124.807 658.175 Q126.635 661.717 130.246 661.717 Q133.881 661.717 135.686 658.175 Q137.515 654.61 137.515 647.504 Q137.515 640.374 135.686 636.832 Q133.881 633.268 130.246 633.268 M130.246 629.564 Q136.056 629.564 139.112 634.17 Q142.191 638.754 142.191 647.504 Q142.191 656.231 139.112 660.837 Q136.056 665.42 130.246 665.42 Q124.436 665.42 121.357 660.837 Q118.302 656.231 118.302 647.504 Q118.302 638.754 121.357 634.17 Q124.436 629.564 130.246 629.564 Z\" fill=\"#000000\" fill-rule=\"evenodd\" fill-opacity=\"1\" /><path clip-path=\"url(#clip150)\" d=\"M74.8299 415.053 L97.052 415.053 L97.052 417.044 L84.5058 449.613 L79.6216 449.613 L91.4271 418.988 L74.8299 418.988 L74.8299 415.053 Z\" fill=\"#000000\" fill-rule=\"evenodd\" fill-opacity=\"1\" /><path clip-path=\"url(#clip150)\" d=\"M106.172 443.733 L111.057 443.733 L111.057 449.613 L106.172 449.613 L106.172 443.733 Z\" fill=\"#000000\" fill-rule=\"evenodd\" fill-opacity=\"1\" /><path clip-path=\"url(#clip150)\" d=\"M121.288 415.053 L139.644 415.053 L139.644 418.988 L125.57 418.988 L125.57 427.46 Q126.589 427.113 127.607 426.951 Q128.626 426.766 129.644 426.766 Q135.431 426.766 138.811 429.937 Q142.191 433.108 142.191 438.525 Q142.191 444.104 138.718 447.205 Q135.246 450.284 128.927 450.284 Q126.751 450.284 124.482 449.914 Q122.237 449.543 119.83 448.803 L119.83 444.104 Q121.913 445.238 124.135 445.793 Q126.357 446.349 128.834 446.349 Q132.839 446.349 135.177 444.242 Q137.515 442.136 137.515 438.525 Q137.515 434.914 135.177 432.807 Q132.839 430.701 128.834 430.701 Q126.959 430.701 125.084 431.118 Q123.232 431.534 121.288 432.414 L121.288 415.053 Z\" fill=\"#000000\" fill-rule=\"evenodd\" fill-opacity=\"1\" /><path clip-path=\"url(#clip150)\" d=\"M45.6634 230.541 L53.3023 230.541 L53.3023 204.176 L44.9921 205.842 L44.9921 201.583 L53.256 199.917 L57.9319 199.917 L57.9319 230.541 L65.5707 230.541 L65.5707 234.477 L45.6634 234.477 L45.6634 230.541 Z\" fill=\"#000000\" fill-rule=\"evenodd\" fill-opacity=\"1\" /><path clip-path=\"url(#clip150)\" d=\"M85.0151 202.995 Q81.404 202.995 79.5753 206.56 Q77.7697 210.102 77.7697 217.231 Q77.7697 224.338 79.5753 227.903 Q81.404 231.444 85.0151 231.444 Q88.6493 231.444 90.4548 227.903 Q92.2835 224.338 92.2835 217.231 Q92.2835 210.102 90.4548 206.56 Q88.6493 202.995 85.0151 202.995 M85.0151 199.292 Q90.8252 199.292 93.8808 203.898 Q96.9594 208.481 96.9594 217.231 Q96.9594 225.958 93.8808 230.565 Q90.8252 235.148 85.0151 235.148 Q79.2049 235.148 76.1262 230.565 Q73.0707 225.958 73.0707 217.231 Q73.0707 208.481 76.1262 203.898 Q79.2049 199.292 85.0151 199.292 Z\" fill=\"#000000\" fill-rule=\"evenodd\" fill-opacity=\"1\" /><path clip-path=\"url(#clip150)\" d=\"M105.177 228.597 L110.061 228.597 L110.061 234.477 L105.177 234.477 L105.177 228.597 Z\" fill=\"#000000\" fill-rule=\"evenodd\" fill-opacity=\"1\" /><path clip-path=\"url(#clip150)\" d=\"M130.246 202.995 Q126.635 202.995 124.807 206.56 Q123.001 210.102 123.001 217.231 Q123.001 224.338 124.807 227.903 Q126.635 231.444 130.246 231.444 Q133.881 231.444 135.686 227.903 Q137.515 224.338 137.515 217.231 Q137.515 210.102 135.686 206.56 Q133.881 202.995 130.246 202.995 M130.246 199.292 Q136.056 199.292 139.112 203.898 Q142.191 208.481 142.191 217.231 Q142.191 225.958 139.112 230.565 Q136.056 235.148 130.246 235.148 Q124.436 235.148 121.357 230.565 Q118.302 225.958 118.302 217.231 Q118.302 208.481 121.357 203.898 Q124.436 199.292 130.246 199.292 Z\" fill=\"#000000\" fill-rule=\"evenodd\" fill-opacity=\"1\" /><polyline clip-path=\"url(#clip152)\" style=\"stroke:#009af9; stroke-linecap:round; stroke-linejoin:round; stroke-width:4; stroke-opacity:1; fill:none\" points=\"\n",
       "  291.188,1074.43 321.346,1076.09 351.503,1076.61 381.661,1055.79 411.819,1024.07 441.977,1020.5 472.135,1068.85 502.293,1066.09 532.45,1041.48 562.608,1077.64 \n",
       "  592.766,1069.67 622.924,1030.91 653.082,1029.21 683.239,1027.66 713.397,1077.59 743.555,1056.23 773.713,1042.12 803.871,1034.77 834.029,1072.97 864.186,1030.07 \n",
       "  894.344,1020.46 924.502,1057.19 954.66,1067.64 984.818,1012.8 1014.98,1065.53 1045.13,1027.01 1075.29,1074.13 1105.45,1030.46 1135.61,1042.01 1165.76,1044.32 \n",
       "  1195.92,1030.17 1226.08,1031.14 1256.24,1031.89 1286.4,1056.34 1316.55,1059.36 1346.71,1014.97 1376.87,1024.68 1407.03,1019.39 1437.18,1077.7 1467.34,1075.5 \n",
       "  1497.5,1077.69 1527.66,1077.64 1557.82,1073.67 1587.97,1070.09 1618.13,1020.26 1648.29,1029.03 1678.45,1032.71 1708.61,1069.26 1738.76,1076.59 1768.92,1067.16 \n",
       "  1799.08,1068.7 1829.24,1055.46 1859.39,1034.28 1889.55,1077.33 1919.71,1034.42 1949.87,1033.64 1980.03,1077.08 2010.18,1077.71 2040.34,1074.77 2070.5,1075.74 \n",
       "  2100.66,1060.72 2130.81,1069.82 2160.97,1052.31 2191.13,1044.61 2221.29,1027.29 2251.45,1033.83 2281.6,1052.83 2311.76,1013.2 2341.92,1041.4 2372.08,1021.51 \n",
       "  2402.24,1019.91 2432.39,1076.33 2462.55,1012.9 2492.71,1055.44 2522.87,1020.4 2553.02,1062.19 2583.18,1070.37 2613.34,1015.16 2643.5,1074.96 2673.66,1076.56 \n",
       "  2703.81,1076.37 2733.97,1035.98 2764.13,1005.56 2794.29,1038.93 2824.44,1011.76 2854.6,1012.74 2884.76,1060.2 2914.92,1031.9 2945.08,1023.94 2975.23,1030.54 \n",
       "  3005.39,1017.78 3035.55,1018.39 3065.71,1008.6 3095.86,1063.47 3126.02,1071.99 3156.18,1031.23 3186.34,1056.52 3216.5,1029.12 3246.65,1019.27 3276.81,1023.11 \n",
       "  3306.97,1062.62 3337.13,1022.81 3367.29,1066.46 3397.44,1058.06 3427.6,1033.29 3457.76,1024.28 \n",
       "  \"/>\n",
       "<polyline clip-path=\"url(#clip152)\" style=\"stroke:#e26f46; stroke-linecap:round; stroke-linejoin:round; stroke-width:4; stroke-opacity:1; fill:none\" points=\"\n",
       "  291.188,673.248 321.346,587.193 351.503,540.079 381.661,908.141 411.819,1019.13 441.977,1027.12 472.135,795.912 502.293,829.463 532.45,970.453 562.608,241.492 \n",
       "  592.766,783.862 622.924,1002.2 653.082,1006.62 683.239,1010.54 713.397,288.198 743.555,905.632 773.713,968.227 803.871,991.53 834.029,718.545 864.186,1004.42 \n",
       "  894.344,1027.21 924.502,899.961 954.66,811.721 984.818,1042.79 1014.98,835.31 1045.13,1012.13 1075.29,683.965 1105.45,1003.4 1135.61,968.612 1165.76,960.337 \n",
       "  1195.92,1004.16 1226.08,1001.6 1256.24,999.585 1286.4,904.988 1316.55,886.072 1346.71,1038.57 1376.87,1017.7 1407.03,1029.52 1437.18,133.715 1467.34,624.804 \n",
       "  1497.5,155.364 1527.66,240.903 1557.82,699.007 1587.97,777.226 1618.13,1027.65 1648.29,1007.1 1678.45,997.345 1708.61,790.135 1738.76,542.191 1768.92,817.586 \n",
       "  1799.08,798.077 1829.24,909.974 1859.39,992.942 1889.55,413.159 1919.71,992.521 1949.87,994.755 1980.03,473.191 2010.18,77.2578 2040.34,660.038 2070.5,610.747 \n",
       "  2100.66,876.559 2130.81,781.626 2160.97,926.412 2191.13,959.229 2221.29,1011.46 2251.45,994.219 2281.6,923.84 2311.76,1042.02 2341.92,970.73 2372.08,1024.91 \n",
       "  2402.24,1028.39 2432.39,567.338 2462.55,1042.6 2492.71,910.102 2522.87,1027.34 2553.02,865.353 2583.18,772.661 2613.34,1038.21 2643.5,651.761 2673.66,545.533 \n",
       "  2703.81,564.226 2733.97,987.982 2764.13,1055.91 2794.29,978.875 2824.44,1044.77 2854.6,1042.91 2884.76,880.277 2914.92,999.543 2945.08,1019.43 2975.23,1003.19 \n",
       "  3005.39,1032.89 3035.55,1031.61 3065.71,1050.58 3095.86,854.655 3126.02,741.803 3156.18,1001.35 3186.34,903.943 3216.5,1006.87 3246.65,1029.77 3276.81,1021.33 \n",
       "  3306.97,861.876 3337.13,1022.01 3367.29,825.518 3397.44,894.604 3427.6,995.718 3457.76,1018.64 \n",
       "  \"/>\n",
       "<polyline clip-path=\"url(#clip152)\" style=\"stroke:#3da44d; stroke-linecap:round; stroke-linejoin:round; stroke-width:4; stroke-opacity:1; fill:none\" points=\"\n",
       "  291.188,673.248 321.346,799.652 351.503,816.838 381.661,814.351 411.819,898.088 441.977,911.876 472.135,923.617 502.293,912.22 532.45,908.313 562.608,954.228 \n",
       "  592.766,872.139 622.924,908.193 653.082,912.355 683.239,916.344 713.397,920.163 743.555,859.604 773.713,891.62 803.871,921.474 834.029,942.706 864.186,908.705 \n",
       "  894.344,949.44 924.502,940.613 954.66,941.564 984.818,968.079 1014.98,958.992 1045.13,915.154 1075.29,938.804 1105.45,939.461 1135.61,924.903 1165.76,907.396 \n",
       "  1195.92,940.714 1226.08,920.408 1256.24,913.922 1286.4,917.332 1316.55,900.3 1346.71,971.53 1376.87,935.83 1407.03,949.992 1437.18,902.123 1467.34,876.105 \n",
       "  1497.5,898.116 1527.66,861.949 1557.82,853.155 1587.97,876.227 1618.13,942.266 1648.29,918.841 1678.45,901.217 1708.61,871.18 1738.76,896.076 1768.92,940.527 \n",
       "  1799.08,931.885 1829.24,889.656 1859.39,909.544 1889.55,894.651 1919.71,885.122 1949.87,888.626 1980.03,913.355 2010.18,929.265 2040.34,839.899 2070.5,924.409 \n",
       "  2100.66,849.465 2130.81,896.62 2160.97,927.606 2191.13,897.178 2221.29,914.785 2251.45,875.434 2281.6,929.228 2311.76,969.641 2341.92,900.674 2372.08,931.157 \n",
       "  2402.24,919.771 2432.39,873.481 2462.55,948.284 2492.71,857.798 2522.87,956.681 2553.02,946.276 2583.18,948.633 2613.34,953.969 2643.5,896.441 2673.66,937.041 \n",
       "  2703.81,904.143 2733.97,881.161 2764.13,1002.43 2794.29,922.63 2824.44,964.917 2854.6,948.028 2884.76,895.29 2914.92,915.014 2945.08,935.831 2975.23,943.551 \n",
       "  3005.39,964.049 3035.55,953.974 3065.71,967.346 3095.86,898.461 3126.02,873.78 3156.18,948.917 3186.34,952.455 3216.5,926.72 3246.65,935.086 3276.81,918.612 \n",
       "  3306.97,847.324 3337.13,925.3 3367.29,903.787 3397.44,937.828 3427.6,933.288 3457.76,928.427 \n",
       "  \"/>\n",
       "<polyline clip-path=\"url(#clip152)\" style=\"stroke:#c271d2; stroke-linecap:round; stroke-linejoin:round; stroke-width:4; stroke-opacity:1; fill:none\" points=\"\n",
       "  713.397,2168.21 713.397,-1013.24 \n",
       "  \"/>\n",
       "<polyline clip-path=\"url(#clip152)\" style=\"stroke:#c271d2; stroke-linecap:round; stroke-linejoin:round; stroke-width:4; stroke-opacity:1; fill:none\" points=\"\n",
       "  1014.98,2168.21 1014.98,-1013.24 \n",
       "  \"/>\n",
       "<polyline clip-path=\"url(#clip152)\" style=\"stroke:#c271d2; stroke-linecap:round; stroke-linejoin:round; stroke-width:4; stroke-opacity:1; fill:none\" points=\"\n",
       "  1467.34,2168.21 1467.34,-1013.24 \n",
       "  \"/>\n",
       "<polyline clip-path=\"url(#clip152)\" style=\"stroke:#c271d2; stroke-linecap:round; stroke-linejoin:round; stroke-width:4; stroke-opacity:1; fill:none\" points=\"\n",
       "  1859.39,2168.21 1859.39,-1013.24 \n",
       "  \"/>\n",
       "<polyline clip-path=\"url(#clip152)\" style=\"stroke:#c271d2; stroke-linecap:round; stroke-linejoin:round; stroke-width:4; stroke-opacity:1; fill:none\" points=\"\n",
       "  2251.45,2168.21 2251.45,-1013.24 \n",
       "  \"/>\n",
       "<polyline clip-path=\"url(#clip152)\" style=\"stroke:#c271d2; stroke-linecap:round; stroke-linejoin:round; stroke-width:4; stroke-opacity:1; fill:none\" points=\"\n",
       "  2643.5,2168.21 2643.5,-1013.24 \n",
       "  \"/>\n",
       "<polyline clip-path=\"url(#clip152)\" style=\"stroke:#c271d2; stroke-linecap:round; stroke-linejoin:round; stroke-width:4; stroke-opacity:1; fill:none\" points=\"\n",
       "  3065.71,2168.21 3065.71,-1013.24 \n",
       "  \"/>\n",
       "<polyline clip-path=\"url(#clip152)\" style=\"stroke:#c271d2; stroke-linecap:round; stroke-linejoin:round; stroke-width:4; stroke-opacity:1; fill:none\" points=\"\n",
       "  3457.76,2168.21 3457.76,-1013.24 \n",
       "  \"/>\n",
       "<path clip-path=\"url(#clip150)\" d=\"\n",
       "M3051.07 341.794 L3440.87 341.794 L3440.87 82.5936 L3051.07 82.5936  Z\n",
       "  \" fill=\"#ffffff\" fill-rule=\"evenodd\" fill-opacity=\"1\"/>\n",
       "<polyline clip-path=\"url(#clip150)\" style=\"stroke:#000000; stroke-linecap:round; stroke-linejoin:round; stroke-width:4; stroke-opacity:1; fill:none\" points=\"\n",
       "  3051.07,341.794 3440.87,341.794 3440.87,82.5936 3051.07,82.5936 3051.07,341.794 \n",
       "  \"/>\n",
       "<polyline clip-path=\"url(#clip150)\" style=\"stroke:#009af9; stroke-linecap:round; stroke-linejoin:round; stroke-width:4; stroke-opacity:1; fill:none\" points=\"\n",
       "  3088.37,134.434 3312.14,134.434 \n",
       "  \"/>\n",
       "<path clip-path=\"url(#clip150)\" d=\"M3363.27 154.121 Q3361.47 158.751 3359.76 160.163 Q3358.04 161.575 3355.17 161.575 L3351.77 161.575 L3351.77 158.01 L3354.27 158.01 Q3356.03 158.01 3357 157.176 Q3357.97 156.343 3359.15 153.241 L3359.92 151.297 L3349.43 125.788 L3353.95 125.788 L3362.05 146.065 L3370.15 125.788 L3374.66 125.788 L3363.27 154.121 Z\" fill=\"#000000\" fill-rule=\"evenodd\" fill-opacity=\"1\" /><path clip-path=\"url(#clip150)\" d=\"M3381.95 147.778 L3389.59 147.778 L3389.59 121.413 L3381.28 123.079 L3381.28 118.82 L3389.55 117.154 L3394.22 117.154 L3394.22 147.778 L3401.86 147.778 L3401.86 151.714 L3381.95 151.714 L3381.95 147.778 Z\" fill=\"#000000\" fill-rule=\"evenodd\" fill-opacity=\"1\" /><polyline clip-path=\"url(#clip150)\" style=\"stroke:#e26f46; stroke-linecap:round; stroke-linejoin:round; stroke-width:4; stroke-opacity:1; fill:none\" points=\"\n",
       "  3088.37,186.274 3312.14,186.274 \n",
       "  \"/>\n",
       "<path clip-path=\"url(#clip150)\" d=\"M3363.27 205.961 Q3361.47 210.591 3359.76 212.003 Q3358.04 213.415 3355.17 213.415 L3351.77 213.415 L3351.77 209.85 L3354.27 209.85 Q3356.03 209.85 3357 209.016 Q3357.97 208.183 3359.15 205.081 L3359.92 203.137 L3349.43 177.628 L3353.95 177.628 L3362.05 197.905 L3370.15 177.628 L3374.66 177.628 L3363.27 205.961 Z\" fill=\"#000000\" fill-rule=\"evenodd\" fill-opacity=\"1\" /><path clip-path=\"url(#clip150)\" d=\"M3385.17 199.618 L3401.49 199.618 L3401.49 203.554 L3379.55 203.554 L3379.55 199.618 Q3382.21 196.864 3386.79 192.234 Q3391.4 187.581 3392.58 186.239 Q3394.83 183.716 3395.7 181.98 Q3396.61 180.22 3396.61 178.531 Q3396.61 175.776 3394.66 174.04 Q3392.74 172.304 3389.64 172.304 Q3387.44 172.304 3384.99 173.068 Q3382.56 173.831 3379.78 175.382 L3379.78 170.66 Q3382.6 169.526 3385.06 168.947 Q3387.51 168.369 3389.55 168.369 Q3394.92 168.369 3398.11 171.054 Q3401.31 173.739 3401.31 178.23 Q3401.31 180.359 3400.5 182.281 Q3399.71 184.179 3397.6 186.771 Q3397.02 187.443 3393.92 190.66 Q3390.82 193.855 3385.17 199.618 Z\" fill=\"#000000\" fill-rule=\"evenodd\" fill-opacity=\"1\" /><polyline clip-path=\"url(#clip150)\" style=\"stroke:#3da44d; stroke-linecap:round; stroke-linejoin:round; stroke-width:4; stroke-opacity:1; fill:none\" points=\"\n",
       "  3088.37,238.114 3312.14,238.114 \n",
       "  \"/>\n",
       "<path clip-path=\"url(#clip150)\" d=\"M3363.27 257.801 Q3361.47 262.431 3359.76 263.843 Q3358.04 265.255 3355.17 265.255 L3351.77 265.255 L3351.77 261.69 L3354.27 261.69 Q3356.03 261.69 3357 260.856 Q3357.97 260.023 3359.15 256.921 L3359.92 254.977 L3349.43 229.468 L3353.95 229.468 L3362.05 249.745 L3370.15 229.468 L3374.66 229.468 L3363.27 257.801 Z\" fill=\"#000000\" fill-rule=\"evenodd\" fill-opacity=\"1\" /><path clip-path=\"url(#clip150)\" d=\"M3395.31 236.759 Q3398.67 237.477 3400.54 239.745 Q3402.44 242.014 3402.44 245.347 Q3402.44 250.463 3398.92 253.264 Q3395.4 256.065 3388.92 256.065 Q3386.75 256.065 3384.43 255.625 Q3382.14 255.208 3379.69 254.352 L3379.69 249.838 Q3381.63 250.972 3383.95 251.551 Q3386.26 252.13 3388.78 252.13 Q3393.18 252.13 3395.47 250.394 Q3397.79 248.657 3397.79 245.347 Q3397.79 242.292 3395.64 240.579 Q3393.51 238.843 3389.69 238.843 L3385.66 238.843 L3385.66 235 L3389.87 235 Q3393.32 235 3395.15 233.634 Q3396.98 232.246 3396.98 229.653 Q3396.98 226.991 3395.08 225.579 Q3393.2 224.144 3389.69 224.144 Q3387.77 224.144 3385.57 224.56 Q3383.37 224.977 3380.73 225.857 L3380.73 221.69 Q3383.39 220.949 3385.7 220.579 Q3388.04 220.209 3390.1 220.209 Q3395.43 220.209 3398.53 222.639 Q3401.63 225.046 3401.63 229.167 Q3401.63 232.037 3399.99 234.028 Q3398.34 235.996 3395.31 236.759 Z\" fill=\"#000000\" fill-rule=\"evenodd\" fill-opacity=\"1\" /><polyline clip-path=\"url(#clip150)\" style=\"stroke:#c271d2; stroke-linecap:round; stroke-linejoin:round; stroke-width:4; stroke-opacity:1; fill:none\" points=\"\n",
       "  3088.37,289.954 3312.14,289.954 \n",
       "  \"/>\n",
       "<path clip-path=\"url(#clip150)\" d=\"M3363.27 309.641 Q3361.47 314.271 3359.76 315.683 Q3358.04 317.095 3355.17 317.095 L3351.77 317.095 L3351.77 313.53 L3354.27 313.53 Q3356.03 313.53 3357 312.696 Q3357.97 311.863 3359.15 308.761 L3359.92 306.817 L3349.43 281.308 L3353.95 281.308 L3362.05 301.585 L3370.15 281.308 L3374.66 281.308 L3363.27 309.641 Z\" fill=\"#000000\" fill-rule=\"evenodd\" fill-opacity=\"1\" /><path clip-path=\"url(#clip150)\" d=\"M3393.99 276.748 L3382.19 295.197 L3393.99 295.197 L3393.99 276.748 M3392.77 272.674 L3398.64 272.674 L3398.64 295.197 L3403.58 295.197 L3403.58 299.085 L3398.64 299.085 L3398.64 307.234 L3393.99 307.234 L3393.99 299.085 L3378.39 299.085 L3378.39 294.572 L3392.77 272.674 Z\" fill=\"#000000\" fill-rule=\"evenodd\" fill-opacity=\"1\" /></svg>\n"
      ]
     },
     "execution_count": 14,
     "metadata": {},
     "output_type": "execute_result"
    }
   ],
   "source": [
    "plot(pitch_table.Prob[1:106])\n",
    "plot!(pitch_table.IC[1:106])\n",
    "plot!(pitch_table.H[1:106])\n",
    "phrases = [e.PHRASE for e in vcat(sequences...)];\n",
    "vline!(findall(x->x==-1,phrases[1:106]), lw = 1)\n",
    "plot!(size=(900,300))"
   ]
  }
 ],
 "metadata": {
  "kernelspec": {
   "display_name": "Julia 1.7.3",
   "language": "julia",
   "name": "julia-1.7"
  },
  "language_info": {
   "file_extension": ".jl",
   "mimetype": "application/julia",
   "name": "julia",
   "version": "1.7.3"
  }
 },
 "nbformat": 4,
 "nbformat_minor": 4
}
