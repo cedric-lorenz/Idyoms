{
 "cells": [
  {
   "cell_type": "markdown",
   "metadata": {},
   "source": [
    "# Generation Using Idyoms"
   ]
  },
  {
   "cell_type": "code",
   "execution_count": 1,
   "metadata": {},
   "outputs": [
    {
     "name": "stderr",
     "output_type": "stream",
     "text": [
      "WARNING: using DataFrames.combine in module Idyoms conflicts with an existing identifier.\n"
     ]
    }
   ],
   "source": [
    "using DataFrames, Plots, Random\n",
    "using Chakra\n",
    "include(\"src/Idyoms.jl\")\n",
    "using Main.Idyoms"
   ]
  },
  {
   "cell_type": "markdown",
   "metadata": {},
   "source": [
    "## Load Melch"
   ]
  },
  {
   "cell_type": "code",
   "execution_count": 2,
   "metadata": {},
   "outputs": [],
   "source": [
    "using Melch\n",
    "Melch.__INIT__(\"/Users/nick/Dropbox/MelchData\")"
   ]
  },
  {
   "cell_type": "markdown",
   "metadata": {},
   "source": [
    "## Select Nova Dataset"
   ]
  },
  {
   "cell_type": "code",
   "execution_count": 3,
   "metadata": {},
   "outputs": [
    {
     "data": {
      "text/plain": [
       "\"Songs and ballads from Nova Scotia, Canada.\""
      ]
     },
     "execution_count": 3,
     "metadata": {},
     "output_type": "execute_result"
    }
   ],
   "source": [
    "nova = fnd(Melch.id(0),Melch)\n",
    "nova.description"
   ]
  },
  {
   "cell_type": "markdown",
   "metadata": {},
   "source": [
    "## Generate Sequences"
   ]
  },
  {
   "cell_type": "code",
   "execution_count": 4,
   "metadata": {},
   "outputs": [],
   "source": [
    "melodies = pts(nova)\n",
    "sequences = [sequence(pts(mel,Melch),Melch) for mel in melodies];"
   ]
  },
  {
   "cell_type": "code",
   "execution_count": 5,
   "metadata": {},
   "outputs": [
    {
     "name": "stdout",
     "output_type": "stream",
     "text": [
      "Melch.Event\n",
      "  id: Melch.EventId\n",
      "    dataset: Int64 0\n",
      "    melody: Int64 1\n",
      "    event: Int64 1\n",
      "  ONSET: Int64 0\n",
      "  DELTAST: Int64 0\n",
      "  BIOI: Int64 1\n",
      "  DUR: Int64 24\n",
      "  CPITCH: Int64 65\n",
      "  MPITCH: Int64 38\n",
      "  ACCIDENTAL: Int64 0\n",
      "  KEYSIG: Int64 -1\n",
      "  MODE: Int64 0\n",
      "  BARLENGTH: Int64 48\n",
      "  PULSES: Int64 2\n",
      "  PHRASE: Int64 1\n",
      "  VOICE: Int64 1\n",
      "  ORNAMENT: Int64 0\n",
      "  COMMA: Int64 0\n",
      "  VERTINT12: Chakra.None Chakra.None()\n",
      "  ARTICULATION: Int64 0\n",
      "  DYN: Chakra.None Chakra.None()\n"
     ]
    }
   ],
   "source": [
    "dump(sequences[1][1])"
   ]
  },
  {
   "cell_type": "markdown",
   "metadata": {},
   "source": [
    "## Define Viewpoints"
   ]
  },
  {
   "cell_type": "code",
   "execution_count": 6,
   "metadata": {},
   "outputs": [
    {
     "data": {
      "text/plain": [
       "Chakra.LinkedViewpoint{Tuple{Int64, Int64}}(Viewpoint[Chakra.AtomicViewpoint{Int64}(Melch.Attribute{:CPITCH, Int64}(), Type[Int64]), Chakra.AtomicViewpoint{Int64}(Melch.Attribute{:DUR, Int64}(), Type[Int64])], DataType[Int64, Int64])"
      ]
     },
     "execution_count": 6,
     "metadata": {},
     "output_type": "execute_result"
    }
   ],
   "source": [
    "CPITCH = vp(Melch.CPITCH)\n",
    "DUR = vp(Melch.DUR)\n",
    "CPITCH_X_DUR = link(CPITCH,DUR)"
   ]
  },
  {
   "cell_type": "markdown",
   "metadata": {},
   "source": [
    "## Generate Views"
   ]
  },
  {
   "cell_type": "code",
   "execution_count": 7,
   "metadata": {},
   "outputs": [],
   "source": [
    "p_p = [View(seq,CPITCH,CPITCH) for seq in sequences];\n",
    "d_d = [View(seq,DUR,DUR) for seq in sequences];\n",
    "p_d = [View(seq,CPITCH,DUR) for seq in sequences];\n",
    "d_p = [View(seq,DUR,CPITCH) for seq in sequences];\n",
    "pxd_pxd = [View(seq,CPITCH_X_DUR,CPITCH_X_DUR) for seq in sequences];"
   ]
  },
  {
   "cell_type": "markdown",
   "metadata": {},
   "source": [
    "## Set Parameters"
   ]
  },
  {
   "cell_type": "code",
   "execution_count": 8,
   "metadata": {},
   "outputs": [
    {
     "data": {
      "text/plain": [
       "true"
      ]
     },
     "execution_count": 8,
     "metadata": {},
     "output_type": "execute_result"
    }
   ],
   "source": [
    "o = Bounded(5) # order bound\n",
    "b = Interpolated() # smoothing technique\n",
    "e = A() # escape method\n",
    "u = true # update exclusion"
   ]
  },
  {
   "cell_type": "markdown",
   "metadata": {},
   "source": [
    "## Generate Models"
   ]
  },
  {
   "cell_type": "code",
   "execution_count": 9,
   "metadata": {},
   "outputs": [],
   "source": [
    "p_p_tally, p_seen = Idyoms.train(p_p,o);\n",
    "d_d_tally, d_seen = Idyoms.train(d_d,o);\n",
    "p_d_tally, d_seen = Idyoms.train(p_d,o);\n",
    "d_p_tally, p_seen = Idyoms.train(d_p,o);\n",
    "pxd_pxd_tally, pxd_seen = Idyoms.train(pxd_pxd,o);"
   ]
  },
  {
   "cell_type": "markdown",
   "metadata": {},
   "source": [
    "## Use models to generate new sequences"
   ]
  },
  {
   "cell_type": "code",
   "execution_count": 10,
   "metadata": {},
   "outputs": [],
   "source": [
    "preds, seq = Idyoms.generate_sequence(100,pxd_pxd_tally,pxd_seen,pxd_seen,b,e,u,o);"
   ]
  },
  {
   "cell_type": "markdown",
   "metadata": {},
   "source": [
    "## Display Sequence"
   ]
  },
  {
   "cell_type": "code",
   "execution_count": 11,
   "metadata": {},
   "outputs": [
    {
     "data": {
      "text/plain": [
       "2.4669555056278205"
      ]
     },
     "execution_count": 11,
     "metadata": {},
     "output_type": "execute_result"
    }
   ],
   "source": [
    "Idyoms.mean_infcontent(preds)"
   ]
  },
  {
   "cell_type": "code",
   "execution_count": 12,
   "metadata": {},
   "outputs": [
    {
     "data": {
      "text/html": [
       "<div><div style = \"float: left;\"><span>100×7 DataFrame</span></div><div style = \"float: right;\"><span style = \"font-style: italic;\">75 rows omitted</span></div><div style = \"clear: both;\"></div></div><div class = \"data-frame\" style = \"overflow-x: scroll;\"><table class = \"data-frame\" style = \"margin-bottom: 6px;\"><thead><tr class = \"header\"><th class = \"rowNumber\" style = \"font-weight: bold; text-align: right;\">Row</th><th style = \"text-align: left;\">SeqID</th><th style = \"text-align: left;\">EventID</th><th style = \"text-align: left;\">Symbol</th><th style = \"text-align: left;\">Order</th><th style = \"text-align: left;\">Prob</th><th style = \"text-align: left;\">IC</th><th style = \"text-align: left;\">H</th></tr><tr class = \"subheader headerLastRow\"><th class = \"rowNumber\" style = \"font-weight: bold; text-align: right;\"></th><th title = \"Int64\" style = \"text-align: left;\">Int64</th><th title = \"Int64\" style = \"text-align: left;\">Int64</th><th title = \"Tuple{Int64, Int64}\" style = \"text-align: left;\">Tuple…</th><th title = \"Int64\" style = \"text-align: left;\">Int64</th><th title = \"Float64\" style = \"text-align: left;\">Float64</th><th title = \"Float64\" style = \"text-align: left;\">Float64</th><th title = \"Float64\" style = \"text-align: left;\">Float64</th></tr></thead><tbody><tr><td class = \"rowNumber\" style = \"font-weight: bold; text-align: right;\">1</td><td style = \"text-align: right;\">1</td><td style = \"text-align: right;\">1</td><td style = \"text-align: left;\">(58, 12)</td><td style = \"text-align: right;\">0</td><td style = \"text-align: right;\">0.00825783</td><td style = \"text-align: right;\">6.92002</td><td style = \"text-align: right;\">5.76473</td></tr><tr><td class = \"rowNumber\" style = \"font-weight: bold; text-align: right;\">2</td><td style = \"text-align: right;\">1</td><td style = \"text-align: right;\">2</td><td style = \"text-align: left;\">(63, 12)</td><td style = \"text-align: right;\">1</td><td style = \"text-align: right;\">0.152019</td><td style = \"text-align: right;\">2.71768</td><td style = \"text-align: right;\">3.95201</td></tr><tr><td class = \"rowNumber\" style = \"font-weight: bold; text-align: right;\">3</td><td style = \"text-align: right;\">1</td><td style = \"text-align: right;\">3</td><td style = \"text-align: left;\">(63, 12)</td><td style = \"text-align: right;\">2</td><td style = \"text-align: right;\">0.493631</td><td style = \"text-align: right;\">1.01849</td><td style = \"text-align: right;\">2.09102</td></tr><tr><td class = \"rowNumber\" style = \"font-weight: bold; text-align: right;\">4</td><td style = \"text-align: right;\">1</td><td style = \"text-align: right;\">4</td><td style = \"text-align: left;\">(60, 24)</td><td style = \"text-align: right;\">3</td><td style = \"text-align: right;\">0.272216</td><td style = \"text-align: right;\">1.87718</td><td style = \"text-align: right;\">2.69074</td></tr><tr><td class = \"rowNumber\" style = \"font-weight: bold; text-align: right;\">5</td><td style = \"text-align: right;\">1</td><td style = \"text-align: right;\">5</td><td style = \"text-align: left;\">(58, 12)</td><td style = \"text-align: right;\">4</td><td style = \"text-align: right;\">0.726085</td><td style = \"text-align: right;\">0.46179</td><td style = \"text-align: right;\">1.67638</td></tr><tr><td class = \"rowNumber\" style = \"font-weight: bold; text-align: right;\">6</td><td style = \"text-align: right;\">1</td><td style = \"text-align: right;\">6</td><td style = \"text-align: left;\">(58, 12)</td><td style = \"text-align: right;\">5</td><td style = \"text-align: right;\">0.751723</td><td style = \"text-align: right;\">0.411727</td><td style = \"text-align: right;\">1.52949</td></tr><tr><td class = \"rowNumber\" style = \"font-weight: bold; text-align: right;\">7</td><td style = \"text-align: right;\">1</td><td style = \"text-align: right;\">7</td><td style = \"text-align: left;\">(63, 12)</td><td style = \"text-align: right;\">5</td><td style = \"text-align: right;\">0.704482</td><td style = \"text-align: right;\">0.505365</td><td style = \"text-align: right;\">1.71233</td></tr><tr><td class = \"rowNumber\" style = \"font-weight: bold; text-align: right;\">8</td><td style = \"text-align: right;\">1</td><td style = \"text-align: right;\">8</td><td style = \"text-align: left;\">(65, 36)</td><td style = \"text-align: right;\">1</td><td style = \"text-align: right;\">0.00233248</td><td style = \"text-align: right;\">8.74392</td><td style = \"text-align: right;\">1.26517</td></tr><tr><td class = \"rowNumber\" style = \"font-weight: bold; text-align: right;\">9</td><td style = \"text-align: right;\">1</td><td style = \"text-align: right;\">9</td><td style = \"text-align: left;\">(58, 12)</td><td style = \"text-align: right;\">2</td><td style = \"text-align: right;\">0.1223</td><td style = \"text-align: right;\">3.03151</td><td style = \"text-align: right;\">2.98376</td></tr><tr><td class = \"rowNumber\" style = \"font-weight: bold; text-align: right;\">10</td><td style = \"text-align: right;\">1</td><td style = \"text-align: right;\">10</td><td style = \"text-align: left;\">(62, 12)</td><td style = \"text-align: right;\">3</td><td style = \"text-align: right;\">0.668594</td><td style = \"text-align: right;\">0.580798</td><td style = \"text-align: right;\">1.86375</td></tr><tr><td class = \"rowNumber\" style = \"font-weight: bold; text-align: right;\">11</td><td style = \"text-align: right;\">1</td><td style = \"text-align: right;\">11</td><td style = \"text-align: left;\">(63, 12)</td><td style = \"text-align: right;\">4</td><td style = \"text-align: right;\">0.616045</td><td style = \"text-align: right;\">0.698893</td><td style = \"text-align: right;\">2.07864</td></tr><tr><td class = \"rowNumber\" style = \"font-weight: bold; text-align: right;\">12</td><td style = \"text-align: right;\">1</td><td style = \"text-align: right;\">12</td><td style = \"text-align: left;\">(65, 36)</td><td style = \"text-align: right;\">5</td><td style = \"text-align: right;\">0.650895</td><td style = \"text-align: right;\">0.619504</td><td style = \"text-align: right;\">1.87152</td></tr><tr><td class = \"rowNumber\" style = \"font-weight: bold; text-align: right;\">13</td><td style = \"text-align: right;\">1</td><td style = \"text-align: right;\">13</td><td style = \"text-align: left;\">(58, 12)</td><td style = \"text-align: right;\">4</td><td style = \"text-align: right;\">0.140409</td><td style = \"text-align: right;\">2.83229</td><td style = \"text-align: right;\">1.97388</td></tr><tr><td style = \"text-align: right;\">&vellip;</td><td style = \"text-align: right;\">&vellip;</td><td style = \"text-align: right;\">&vellip;</td><td style = \"text-align: right;\">&vellip;</td><td style = \"text-align: right;\">&vellip;</td><td style = \"text-align: right;\">&vellip;</td><td style = \"text-align: right;\">&vellip;</td><td style = \"text-align: right;\">&vellip;</td></tr><tr><td class = \"rowNumber\" style = \"font-weight: bold; text-align: right;\">89</td><td style = \"text-align: right;\">1</td><td style = \"text-align: right;\">89</td><td style = \"text-align: left;\">(62, 6)</td><td style = \"text-align: right;\">5</td><td style = \"text-align: right;\">0.674729</td><td style = \"text-align: right;\">0.567619</td><td style = \"text-align: right;\">2.19231</td></tr><tr><td class = \"rowNumber\" style = \"font-weight: bold; text-align: right;\">90</td><td style = \"text-align: right;\">1</td><td style = \"text-align: right;\">90</td><td style = \"text-align: left;\">(63, 12)</td><td style = \"text-align: right;\">5</td><td style = \"text-align: right;\">0.677602</td><td style = \"text-align: right;\">0.561489</td><td style = \"text-align: right;\">2.27092</td></tr><tr><td class = \"rowNumber\" style = \"font-weight: bold; text-align: right;\">91</td><td style = \"text-align: right;\">1</td><td style = \"text-align: right;\">91</td><td style = \"text-align: left;\">(62, 12)</td><td style = \"text-align: right;\">5</td><td style = \"text-align: right;\">0.784073</td><td style = \"text-align: right;\">0.35094</td><td style = \"text-align: right;\">1.38523</td></tr><tr><td class = \"rowNumber\" style = \"font-weight: bold; text-align: right;\">92</td><td style = \"text-align: right;\">1</td><td style = \"text-align: right;\">92</td><td style = \"text-align: left;\">(63, 48)</td><td style = \"text-align: right;\">2</td><td style = \"text-align: right;\">0.0528193</td><td style = \"text-align: right;\">4.24279</td><td style = \"text-align: right;\">1.11242</td></tr><tr><td class = \"rowNumber\" style = \"font-weight: bold; text-align: right;\">93</td><td style = \"text-align: right;\">1</td><td style = \"text-align: right;\">93</td><td style = \"text-align: left;\">(58, 24)</td><td style = \"text-align: right;\">2</td><td style = \"text-align: right;\">0.596152</td><td style = \"text-align: right;\">0.746249</td><td style = \"text-align: right;\">2.53142</td></tr><tr><td class = \"rowNumber\" style = \"font-weight: bold; text-align: right;\">94</td><td style = \"text-align: right;\">1</td><td style = \"text-align: right;\">94</td><td style = \"text-align: left;\">(65, 12)</td><td style = \"text-align: right;\">1</td><td style = \"text-align: right;\">0.0332347</td><td style = \"text-align: right;\">4.91116</td><td style = \"text-align: right;\">2.99769</td></tr><tr><td class = \"rowNumber\" style = \"font-weight: bold; text-align: right;\">95</td><td style = \"text-align: right;\">1</td><td style = \"text-align: right;\">95</td><td style = \"text-align: left;\">(65, 24)</td><td style = \"text-align: right;\">2</td><td style = \"text-align: right;\">0.185987</td><td style = \"text-align: right;\">2.42673</td><td style = \"text-align: right;\">2.47988</td></tr><tr><td class = \"rowNumber\" style = \"font-weight: bold; text-align: right;\">96</td><td style = \"text-align: right;\">1</td><td style = \"text-align: right;\">96</td><td style = \"text-align: left;\">(65, 12)</td><td style = \"text-align: right;\">3</td><td style = \"text-align: right;\">0.509101</td><td style = \"text-align: right;\">0.973976</td><td style = \"text-align: right;\">2.9397</td></tr><tr><td class = \"rowNumber\" style = \"font-weight: bold; text-align: right;\">97</td><td style = \"text-align: right;\">1</td><td style = \"text-align: right;\">97</td><td style = \"text-align: left;\">(58, 24)</td><td style = \"text-align: right;\">4</td><td style = \"text-align: right;\">0.648339</td><td style = \"text-align: right;\">0.625179</td><td style = \"text-align: right;\">1.71663</td></tr><tr><td class = \"rowNumber\" style = \"font-weight: bold; text-align: right;\">98</td><td style = \"text-align: right;\">1</td><td style = \"text-align: right;\">98</td><td style = \"text-align: left;\">(60, 12)</td><td style = \"text-align: right;\">5</td><td style = \"text-align: right;\">0.480277</td><td style = \"text-align: right;\">1.05806</td><td style = \"text-align: right;\">1.55902</td></tr><tr><td class = \"rowNumber\" style = \"font-weight: bold; text-align: right;\">99</td><td style = \"text-align: right;\">1</td><td style = \"text-align: right;\">99</td><td style = \"text-align: left;\">(60, 36)</td><td style = \"text-align: right;\">5</td><td style = \"text-align: right;\">0.587938</td><td style = \"text-align: right;\">0.766264</td><td style = \"text-align: right;\">1.77052</td></tr><tr><td class = \"rowNumber\" style = \"font-weight: bold; text-align: right;\">100</td><td style = \"text-align: right;\">1</td><td style = \"text-align: right;\">100</td><td style = \"text-align: left;\">(65, 12)</td><td style = \"text-align: right;\">5</td><td style = \"text-align: right;\">0.504951</td><td style = \"text-align: right;\">0.985785</td><td style = \"text-align: right;\">2.28138</td></tr></tbody></table></div>"
      ],
      "text/latex": [
       "\\begin{tabular}{r|ccccccc}\n",
       "\t& SeqID & EventID & Symbol & Order & Prob & IC & H\\\\\n",
       "\t\\hline\n",
       "\t& Int64 & Int64 & Tuple… & Int64 & Float64 & Float64 & Float64\\\\\n",
       "\t\\hline\n",
       "\t1 & 1 & 1 & (58, 12) & 0 & 0.00825783 & 6.92002 & 5.76473 \\\\\n",
       "\t2 & 1 & 2 & (63, 12) & 1 & 0.152019 & 2.71768 & 3.95201 \\\\\n",
       "\t3 & 1 & 3 & (63, 12) & 2 & 0.493631 & 1.01849 & 2.09102 \\\\\n",
       "\t4 & 1 & 4 & (60, 24) & 3 & 0.272216 & 1.87718 & 2.69074 \\\\\n",
       "\t5 & 1 & 5 & (58, 12) & 4 & 0.726085 & 0.46179 & 1.67638 \\\\\n",
       "\t6 & 1 & 6 & (58, 12) & 5 & 0.751723 & 0.411727 & 1.52949 \\\\\n",
       "\t7 & 1 & 7 & (63, 12) & 5 & 0.704482 & 0.505365 & 1.71233 \\\\\n",
       "\t8 & 1 & 8 & (65, 36) & 1 & 0.00233248 & 8.74392 & 1.26517 \\\\\n",
       "\t9 & 1 & 9 & (58, 12) & 2 & 0.1223 & 3.03151 & 2.98376 \\\\\n",
       "\t10 & 1 & 10 & (62, 12) & 3 & 0.668594 & 0.580798 & 1.86375 \\\\\n",
       "\t11 & 1 & 11 & (63, 12) & 4 & 0.616045 & 0.698893 & 2.07864 \\\\\n",
       "\t12 & 1 & 12 & (65, 36) & 5 & 0.650895 & 0.619504 & 1.87152 \\\\\n",
       "\t13 & 1 & 13 & (58, 12) & 4 & 0.140409 & 2.83229 & 1.97388 \\\\\n",
       "\t14 & 1 & 14 & (62, 24) & 2 & 0.169263 & 2.56266 & 1.86375 \\\\\n",
       "\t15 & 1 & 15 & (62, 12) & 3 & 0.660302 & 0.598801 & 1.98477 \\\\\n",
       "\t16 & 1 & 16 & (58, 12) & 4 & 0.50351 & 0.989908 & 2.75782 \\\\\n",
       "\t17 & 1 & 17 & (60, 48) & 2 & 0.168958 & 2.56526 & 1.87646 \\\\\n",
       "\t18 & 1 & 18 & (67, 48) & 2 & 0.200024 & 2.32175 & 2.21242 \\\\\n",
       "\t19 & 1 & 19 & (65, 24) & 3 & 0.50734 & 0.978975 & 2.98846 \\\\\n",
       "\t20 & 1 & 20 & (62, 24) & 4 & 0.591217 & 0.758241 & 2.21187 \\\\\n",
       "\t21 & 1 & 21 & (58, 36) & 2 & 0.0279556 & 5.16072 & 2.56218 \\\\\n",
       "\t22 & 1 & 22 & (60, 12) & 1 & 0.0488302 & 4.35608 & 2.51556 \\\\\n",
       "\t23 & 1 & 23 & (58, 12) & 2 & 0.488594 & 1.03329 & 2.48608 \\\\\n",
       "\t24 & 1 & 24 & (63, 12) & 1 & 0.0103735 & 6.59095 & 1.64245 \\\\\n",
       "\t25 & 1 & 25 & (65, 12) & 2 & 0.252734 & 1.98431 & 2.09102 \\\\\n",
       "\t26 & 1 & 26 & (67, 12) & 3 & 0.789488 & 0.34101 & 1.34521 \\\\\n",
       "\t27 & 1 & 27 & (65, 36) & 3 & 0.0453406 & 4.46305 & 1.39385 \\\\\n",
       "\t28 & 1 & 28 & (63, 6) & 2 & 0.012724 & 6.2963 & 2.06201 \\\\\n",
       "\t29 & 1 & 29 & (60, 6) & 3 & 0.506942 & 0.980107 & 2.95983 \\\\\n",
       "\t30 & 1 & 30 & (58, 12) & 4 & 0.514485 & 0.9588 & 2.90979 \\\\\n",
       "\t$\\dots$ & $\\dots$ & $\\dots$ & $\\dots$ & $\\dots$ & $\\dots$ & $\\dots$ & $\\dots$ \\\\\n",
       "\\end{tabular}\n"
      ],
      "text/plain": [
       "\u001b[1m100×7 DataFrame\u001b[0m\n",
       "\u001b[1m Row \u001b[0m│\u001b[1m SeqID \u001b[0m\u001b[1m EventID \u001b[0m\u001b[1m Symbol   \u001b[0m\u001b[1m Order \u001b[0m\u001b[1m Prob       \u001b[0m\u001b[1m IC       \u001b[0m\u001b[1m H       \u001b[0m\n",
       "     │\u001b[90m Int64 \u001b[0m\u001b[90m Int64   \u001b[0m\u001b[90m Tuple…   \u001b[0m\u001b[90m Int64 \u001b[0m\u001b[90m Float64    \u001b[0m\u001b[90m Float64  \u001b[0m\u001b[90m Float64 \u001b[0m\n",
       "─────┼────────────────────────────────────────────────────────────────\n",
       "   1 │     1        1  (58, 12)      0  0.00825783  6.92002   5.76473\n",
       "   2 │     1        2  (63, 12)      1  0.152019    2.71768   3.95201\n",
       "   3 │     1        3  (63, 12)      2  0.493631    1.01849   2.09102\n",
       "   4 │     1        4  (60, 24)      3  0.272216    1.87718   2.69074\n",
       "   5 │     1        5  (58, 12)      4  0.726085    0.46179   1.67638\n",
       "   6 │     1        6  (58, 12)      5  0.751723    0.411727  1.52949\n",
       "   7 │     1        7  (63, 12)      5  0.704482    0.505365  1.71233\n",
       "   8 │     1        8  (65, 36)      1  0.00233248  8.74392   1.26517\n",
       "   9 │     1        9  (58, 12)      2  0.1223      3.03151   2.98376\n",
       "  10 │     1       10  (62, 12)      3  0.668594    0.580798  1.86375\n",
       "  11 │     1       11  (63, 12)      4  0.616045    0.698893  2.07864\n",
       "  ⋮  │   ⋮       ⋮        ⋮        ⋮        ⋮          ⋮         ⋮\n",
       "  91 │     1       91  (62, 12)      5  0.784073    0.35094   1.38523\n",
       "  92 │     1       92  (63, 48)      2  0.0528193   4.24279   1.11242\n",
       "  93 │     1       93  (58, 24)      2  0.596152    0.746249  2.53142\n",
       "  94 │     1       94  (65, 12)      1  0.0332347   4.91116   2.99769\n",
       "  95 │     1       95  (65, 24)      2  0.185987    2.42673   2.47988\n",
       "  96 │     1       96  (65, 12)      3  0.509101    0.973976  2.9397\n",
       "  97 │     1       97  (58, 24)      4  0.648339    0.625179  1.71663\n",
       "  98 │     1       98  (60, 12)      5  0.480277    1.05806   1.55902\n",
       "  99 │     1       99  (60, 36)      5  0.587938    0.766264  1.77052\n",
       " 100 │     1      100  (65, 12)      5  0.504951    0.985785  2.28138\n",
       "\u001b[36m                                                       79 rows omitted\u001b[0m"
      ]
     },
     "execution_count": 12,
     "metadata": {},
     "output_type": "execute_result"
    }
   ],
   "source": [
    "df = Idyoms.todataframe(1,preds)"
   ]
  },
  {
   "cell_type": "code",
   "execution_count": 13,
   "metadata": {},
   "outputs": [
    {
     "data": {
      "image/svg+xml": [
       "<?xml version=\"1.0\" encoding=\"utf-8\"?>\n",
       "<svg xmlns=\"http://www.w3.org/2000/svg\" xmlns:xlink=\"http://www.w3.org/1999/xlink\" width=\"900\" height=\"300\" viewBox=\"0 0 3600 1200\">\n",
       "<defs>\n",
       "  <clipPath id=\"clip010\">\n",
       "    <rect x=\"0\" y=\"0\" width=\"3600\" height=\"1200\"/>\n",
       "  </clipPath>\n",
       "</defs>\n",
       "<path clip-path=\"url(#clip010)\" d=\"\n",
       "M0 1200 L3600 1200 L3600 0 L0 0  Z\n",
       "  \" fill=\"#ffffff\" fill-rule=\"evenodd\" fill-opacity=\"1\"/>\n",
       "<defs>\n",
       "  <clipPath id=\"clip011\">\n",
       "    <rect x=\"720\" y=\"0\" width=\"2521\" height=\"1200\"/>\n",
       "  </clipPath>\n",
       "</defs>\n",
       "<path clip-path=\"url(#clip010)\" d=\"\n",
       "M196.191 1107.73 L3552.76 1107.73 L3552.76 47.2441 L196.191 47.2441  Z\n",
       "  \" fill=\"#ffffff\" fill-rule=\"evenodd\" fill-opacity=\"1\"/>\n",
       "<defs>\n",
       "  <clipPath id=\"clip012\">\n",
       "    <rect x=\"196\" y=\"47\" width=\"3358\" height=\"1061\"/>\n",
       "  </clipPath>\n",
       "</defs>\n",
       "<polyline clip-path=\"url(#clip012)\" style=\"stroke:#000000; stroke-linecap:round; stroke-linejoin:round; stroke-width:2; stroke-opacity:0.1; fill:none\" points=\"\n",
       "  259.202,1107.73 259.202,47.2441 \n",
       "  \"/>\n",
       "<polyline clip-path=\"url(#clip012)\" style=\"stroke:#000000; stroke-linecap:round; stroke-linejoin:round; stroke-width:2; stroke-opacity:0.1; fill:none\" points=\"\n",
       "  1058.84,1107.73 1058.84,47.2441 \n",
       "  \"/>\n",
       "<polyline clip-path=\"url(#clip012)\" style=\"stroke:#000000; stroke-linecap:round; stroke-linejoin:round; stroke-width:2; stroke-opacity:0.1; fill:none\" points=\"\n",
       "  1858.48,1107.73 1858.48,47.2441 \n",
       "  \"/>\n",
       "<polyline clip-path=\"url(#clip012)\" style=\"stroke:#000000; stroke-linecap:round; stroke-linejoin:round; stroke-width:2; stroke-opacity:0.1; fill:none\" points=\"\n",
       "  2658.12,1107.73 2658.12,47.2441 \n",
       "  \"/>\n",
       "<polyline clip-path=\"url(#clip012)\" style=\"stroke:#000000; stroke-linecap:round; stroke-linejoin:round; stroke-width:2; stroke-opacity:0.1; fill:none\" points=\"\n",
       "  3457.76,1107.73 3457.76,47.2441 \n",
       "  \"/>\n",
       "<polyline clip-path=\"url(#clip010)\" style=\"stroke:#000000; stroke-linecap:round; stroke-linejoin:round; stroke-width:4; stroke-opacity:1; fill:none\" points=\"\n",
       "  196.191,1107.73 3552.76,1107.73 \n",
       "  \"/>\n",
       "<polyline clip-path=\"url(#clip010)\" style=\"stroke:#000000; stroke-linecap:round; stroke-linejoin:round; stroke-width:4; stroke-opacity:1; fill:none\" points=\"\n",
       "  259.202,1107.73 259.202,1088.83 \n",
       "  \"/>\n",
       "<polyline clip-path=\"url(#clip010)\" style=\"stroke:#000000; stroke-linecap:round; stroke-linejoin:round; stroke-width:4; stroke-opacity:1; fill:none\" points=\"\n",
       "  1058.84,1107.73 1058.84,1088.83 \n",
       "  \"/>\n",
       "<polyline clip-path=\"url(#clip010)\" style=\"stroke:#000000; stroke-linecap:round; stroke-linejoin:round; stroke-width:4; stroke-opacity:1; fill:none\" points=\"\n",
       "  1858.48,1107.73 1858.48,1088.83 \n",
       "  \"/>\n",
       "<polyline clip-path=\"url(#clip010)\" style=\"stroke:#000000; stroke-linecap:round; stroke-linejoin:round; stroke-width:4; stroke-opacity:1; fill:none\" points=\"\n",
       "  2658.12,1107.73 2658.12,1088.83 \n",
       "  \"/>\n",
       "<polyline clip-path=\"url(#clip010)\" style=\"stroke:#000000; stroke-linecap:round; stroke-linejoin:round; stroke-width:4; stroke-opacity:1; fill:none\" points=\"\n",
       "  3457.76,1107.73 3457.76,1088.83 \n",
       "  \"/>\n",
       "<path clip-path=\"url(#clip010)\" d=\"M259.202 1148.25 Q255.591 1148.25 253.762 1151.81 Q251.957 1155.35 251.957 1162.48 Q251.957 1169.59 253.762 1173.15 Q255.591 1176.7 259.202 1176.7 Q262.836 1176.7 264.642 1173.15 Q266.471 1169.59 266.471 1162.48 Q266.471 1155.35 264.642 1151.81 Q262.836 1148.25 259.202 1148.25 M259.202 1144.54 Q265.012 1144.54 268.068 1149.15 Q271.147 1153.73 271.147 1162.48 Q271.147 1171.21 268.068 1175.82 Q265.012 1180.4 259.202 1180.4 Q253.392 1180.4 250.313 1175.82 Q247.258 1171.21 247.258 1162.48 Q247.258 1153.73 250.313 1149.15 Q253.392 1144.54 259.202 1144.54 Z\" fill=\"#000000\" fill-rule=\"evenodd\" fill-opacity=\"1\" /><path clip-path=\"url(#clip010)\" d=\"M1038.11 1175.79 L1054.43 1175.79 L1054.43 1179.73 L1032.49 1179.73 L1032.49 1175.79 Q1035.15 1173.04 1039.73 1168.41 Q1044.34 1163.76 1045.52 1162.41 Q1047.77 1159.89 1048.64 1158.15 Q1049.55 1156.39 1049.55 1154.7 Q1049.55 1151.95 1047.6 1150.21 Q1045.68 1148.48 1042.58 1148.48 Q1040.38 1148.48 1037.93 1149.24 Q1035.5 1150.01 1032.72 1151.56 L1032.72 1146.83 Q1035.54 1145.7 1038 1145.12 Q1040.45 1144.54 1042.49 1144.54 Q1047.86 1144.54 1051.05 1147.23 Q1054.25 1149.91 1054.25 1154.4 Q1054.25 1156.53 1053.44 1158.45 Q1052.65 1160.35 1050.54 1162.95 Q1049.96 1163.62 1046.86 1166.83 Q1043.76 1170.03 1038.11 1175.79 Z\" fill=\"#000000\" fill-rule=\"evenodd\" fill-opacity=\"1\" /><path clip-path=\"url(#clip010)\" d=\"M1064.29 1145.17 L1082.65 1145.17 L1082.65 1149.1 L1068.58 1149.1 L1068.58 1157.58 Q1069.59 1157.23 1070.61 1157.07 Q1071.63 1156.88 1072.65 1156.88 Q1078.44 1156.88 1081.82 1160.05 Q1085.2 1163.22 1085.2 1168.64 Q1085.2 1174.22 1081.72 1177.32 Q1078.25 1180.4 1071.93 1180.4 Q1069.76 1180.4 1067.49 1180.03 Q1065.24 1179.66 1062.83 1178.92 L1062.83 1174.22 Q1064.92 1175.35 1067.14 1175.91 Q1069.36 1176.46 1071.84 1176.46 Q1075.84 1176.46 1078.18 1174.36 Q1080.52 1172.25 1080.52 1168.64 Q1080.52 1165.03 1078.18 1162.92 Q1075.84 1160.82 1071.84 1160.82 Q1069.96 1160.82 1068.09 1161.23 Q1066.24 1161.65 1064.29 1162.53 L1064.29 1145.17 Z\" fill=\"#000000\" fill-rule=\"evenodd\" fill-opacity=\"1\" /><path clip-path=\"url(#clip010)\" d=\"M1833.18 1145.17 L1851.54 1145.17 L1851.54 1149.1 L1837.46 1149.1 L1837.46 1157.58 Q1838.48 1157.23 1839.5 1157.07 Q1840.52 1156.88 1841.54 1156.88 Q1847.32 1156.88 1850.7 1160.05 Q1854.08 1163.22 1854.08 1168.64 Q1854.08 1174.22 1850.61 1177.32 Q1847.14 1180.4 1840.82 1180.4 Q1838.64 1180.4 1836.37 1180.03 Q1834.13 1179.66 1831.72 1178.92 L1831.72 1174.22 Q1833.8 1175.35 1836.03 1175.91 Q1838.25 1176.46 1840.73 1176.46 Q1844.73 1176.46 1847.07 1174.36 Q1849.41 1172.25 1849.41 1168.64 Q1849.41 1165.03 1847.07 1162.92 Q1844.73 1160.82 1840.73 1160.82 Q1838.85 1160.82 1836.98 1161.23 Q1835.12 1161.65 1833.18 1162.53 L1833.18 1145.17 Z\" fill=\"#000000\" fill-rule=\"evenodd\" fill-opacity=\"1\" /><path clip-path=\"url(#clip010)\" d=\"M1873.3 1148.25 Q1869.68 1148.25 1867.86 1151.81 Q1866.05 1155.35 1866.05 1162.48 Q1866.05 1169.59 1867.86 1173.15 Q1869.68 1176.7 1873.3 1176.7 Q1876.93 1176.7 1878.74 1173.15 Q1880.56 1169.59 1880.56 1162.48 Q1880.56 1155.35 1878.74 1151.81 Q1876.93 1148.25 1873.3 1148.25 M1873.3 1144.54 Q1879.11 1144.54 1882.16 1149.15 Q1885.24 1153.73 1885.24 1162.48 Q1885.24 1171.21 1882.16 1175.82 Q1879.11 1180.4 1873.3 1180.4 Q1867.49 1180.4 1864.41 1175.82 Q1861.35 1171.21 1861.35 1162.48 Q1861.35 1153.73 1864.41 1149.15 Q1867.49 1144.54 1873.3 1144.54 Z\" fill=\"#000000\" fill-rule=\"evenodd\" fill-opacity=\"1\" /><path clip-path=\"url(#clip010)\" d=\"M2631.97 1145.17 L2654.2 1145.17 L2654.2 1147.16 L2641.65 1179.73 L2636.77 1179.73 L2648.57 1149.1 L2631.97 1149.1 L2631.97 1145.17 Z\" fill=\"#000000\" fill-rule=\"evenodd\" fill-opacity=\"1\" /><path clip-path=\"url(#clip010)\" d=\"M2663.36 1145.17 L2681.72 1145.17 L2681.72 1149.1 L2667.65 1149.1 L2667.65 1157.58 Q2668.66 1157.23 2669.68 1157.07 Q2670.7 1156.88 2671.72 1156.88 Q2677.51 1156.88 2680.89 1160.05 Q2684.27 1163.22 2684.27 1168.64 Q2684.27 1174.22 2680.79 1177.32 Q2677.32 1180.4 2671 1180.4 Q2668.83 1180.4 2666.56 1180.03 Q2664.31 1179.66 2661.9 1178.92 L2661.9 1174.22 Q2663.99 1175.35 2666.21 1175.91 Q2668.43 1176.46 2670.91 1176.46 Q2674.91 1176.46 2677.25 1174.36 Q2679.59 1172.25 2679.59 1168.64 Q2679.59 1165.03 2677.25 1162.92 Q2674.91 1160.82 2670.91 1160.82 Q2669.03 1160.82 2667.16 1161.23 Q2665.31 1161.65 2663.36 1162.53 L2663.36 1145.17 Z\" fill=\"#000000\" fill-rule=\"evenodd\" fill-opacity=\"1\" /><path clip-path=\"url(#clip010)\" d=\"M3417.37 1175.79 L3425 1175.79 L3425 1149.43 L3416.69 1151.09 L3416.69 1146.83 L3424.96 1145.17 L3429.63 1145.17 L3429.63 1175.79 L3437.27 1175.79 L3437.27 1179.73 L3417.37 1179.73 L3417.37 1175.79 Z\" fill=\"#000000\" fill-rule=\"evenodd\" fill-opacity=\"1\" /><path clip-path=\"url(#clip010)\" d=\"M3456.72 1148.25 Q3453.11 1148.25 3451.28 1151.81 Q3449.47 1155.35 3449.47 1162.48 Q3449.47 1169.59 3451.28 1173.15 Q3453.11 1176.7 3456.72 1176.7 Q3460.35 1176.7 3462.16 1173.15 Q3463.99 1169.59 3463.99 1162.48 Q3463.99 1155.35 3462.16 1151.81 Q3460.35 1148.25 3456.72 1148.25 M3456.72 1144.54 Q3462.53 1144.54 3465.58 1149.15 Q3468.66 1153.73 3468.66 1162.48 Q3468.66 1171.21 3465.58 1175.82 Q3462.53 1180.4 3456.72 1180.4 Q3450.91 1180.4 3447.83 1175.82 Q3444.77 1171.21 3444.77 1162.48 Q3444.77 1153.73 3447.83 1149.15 Q3450.91 1144.54 3456.72 1144.54 Z\" fill=\"#000000\" fill-rule=\"evenodd\" fill-opacity=\"1\" /><path clip-path=\"url(#clip010)\" d=\"M3486.88 1148.25 Q3483.27 1148.25 3481.44 1151.81 Q3479.63 1155.35 3479.63 1162.48 Q3479.63 1169.59 3481.44 1173.15 Q3483.27 1176.7 3486.88 1176.7 Q3490.51 1176.7 3492.32 1173.15 Q3494.15 1169.59 3494.15 1162.48 Q3494.15 1155.35 3492.32 1151.81 Q3490.51 1148.25 3486.88 1148.25 M3486.88 1144.54 Q3492.69 1144.54 3495.74 1149.15 Q3498.82 1153.73 3498.82 1162.48 Q3498.82 1171.21 3495.74 1175.82 Q3492.69 1180.4 3486.88 1180.4 Q3481.07 1180.4 3477.99 1175.82 Q3474.93 1171.21 3474.93 1162.48 Q3474.93 1153.73 3477.99 1149.15 Q3481.07 1144.54 3486.88 1144.54 Z\" fill=\"#000000\" fill-rule=\"evenodd\" fill-opacity=\"1\" /><polyline clip-path=\"url(#clip012)\" style=\"stroke:#000000; stroke-linecap:round; stroke-linejoin:round; stroke-width:2; stroke-opacity:0.1; fill:none\" points=\"\n",
       "  196.191,1077.82 3552.76,1077.82 \n",
       "  \"/>\n",
       "<polyline clip-path=\"url(#clip012)\" style=\"stroke:#000000; stroke-linecap:round; stroke-linejoin:round; stroke-width:2; stroke-opacity:0.1; fill:none\" points=\"\n",
       "  196.191,824.88 3552.76,824.88 \n",
       "  \"/>\n",
       "<polyline clip-path=\"url(#clip012)\" style=\"stroke:#000000; stroke-linecap:round; stroke-linejoin:round; stroke-width:2; stroke-opacity:0.1; fill:none\" points=\"\n",
       "  196.191,571.939 3552.76,571.939 \n",
       "  \"/>\n",
       "<polyline clip-path=\"url(#clip012)\" style=\"stroke:#000000; stroke-linecap:round; stroke-linejoin:round; stroke-width:2; stroke-opacity:0.1; fill:none\" points=\"\n",
       "  196.191,318.998 3552.76,318.998 \n",
       "  \"/>\n",
       "<polyline clip-path=\"url(#clip012)\" style=\"stroke:#000000; stroke-linecap:round; stroke-linejoin:round; stroke-width:2; stroke-opacity:0.1; fill:none\" points=\"\n",
       "  196.191,66.057 3552.76,66.057 \n",
       "  \"/>\n",
       "<polyline clip-path=\"url(#clip010)\" style=\"stroke:#000000; stroke-linecap:round; stroke-linejoin:round; stroke-width:4; stroke-opacity:1; fill:none\" points=\"\n",
       "  196.191,1107.73 196.191,47.2441 \n",
       "  \"/>\n",
       "<polyline clip-path=\"url(#clip010)\" style=\"stroke:#000000; stroke-linecap:round; stroke-linejoin:round; stroke-width:4; stroke-opacity:1; fill:none\" points=\"\n",
       "  196.191,1077.82 215.088,1077.82 \n",
       "  \"/>\n",
       "<polyline clip-path=\"url(#clip010)\" style=\"stroke:#000000; stroke-linecap:round; stroke-linejoin:round; stroke-width:4; stroke-opacity:1; fill:none\" points=\"\n",
       "  196.191,824.88 215.088,824.88 \n",
       "  \"/>\n",
       "<polyline clip-path=\"url(#clip010)\" style=\"stroke:#000000; stroke-linecap:round; stroke-linejoin:round; stroke-width:4; stroke-opacity:1; fill:none\" points=\"\n",
       "  196.191,571.939 215.088,571.939 \n",
       "  \"/>\n",
       "<polyline clip-path=\"url(#clip010)\" style=\"stroke:#000000; stroke-linecap:round; stroke-linejoin:round; stroke-width:4; stroke-opacity:1; fill:none\" points=\"\n",
       "  196.191,318.998 215.088,318.998 \n",
       "  \"/>\n",
       "<polyline clip-path=\"url(#clip010)\" style=\"stroke:#000000; stroke-linecap:round; stroke-linejoin:round; stroke-width:4; stroke-opacity:1; fill:none\" points=\"\n",
       "  196.191,66.057 215.088,66.057 \n",
       "  \"/>\n",
       "<path clip-path=\"url(#clip010)\" d=\"M85.0151 1063.62 Q81.404 1063.62 79.5753 1067.18 Q77.7697 1070.73 77.7697 1077.86 Q77.7697 1084.96 79.5753 1088.53 Q81.404 1092.07 85.0151 1092.07 Q88.6493 1092.07 90.4548 1088.53 Q92.2835 1084.96 92.2835 1077.86 Q92.2835 1070.73 90.4548 1067.18 Q88.6493 1063.62 85.0151 1063.62 M85.0151 1059.92 Q90.8252 1059.92 93.8808 1064.52 Q96.9594 1069.11 96.9594 1077.86 Q96.9594 1086.58 93.8808 1091.19 Q90.8252 1095.77 85.0151 1095.77 Q79.2049 1095.77 76.1262 1091.19 Q73.0707 1086.58 73.0707 1077.86 Q73.0707 1069.11 76.1262 1064.52 Q79.2049 1059.92 85.0151 1059.92 Z\" fill=\"#000000\" fill-rule=\"evenodd\" fill-opacity=\"1\" /><path clip-path=\"url(#clip010)\" d=\"M105.177 1089.22 L110.061 1089.22 L110.061 1095.1 L105.177 1095.1 L105.177 1089.22 Z\" fill=\"#000000\" fill-rule=\"evenodd\" fill-opacity=\"1\" /><path clip-path=\"url(#clip010)\" d=\"M130.246 1063.62 Q126.635 1063.62 124.807 1067.18 Q123.001 1070.73 123.001 1077.86 Q123.001 1084.96 124.807 1088.53 Q126.635 1092.07 130.246 1092.07 Q133.881 1092.07 135.686 1088.53 Q137.515 1084.96 137.515 1077.86 Q137.515 1070.73 135.686 1067.18 Q133.881 1063.62 130.246 1063.62 M130.246 1059.92 Q136.056 1059.92 139.112 1064.52 Q142.191 1069.11 142.191 1077.86 Q142.191 1086.58 139.112 1091.19 Q136.056 1095.77 130.246 1095.77 Q124.436 1095.77 121.357 1091.19 Q118.302 1086.58 118.302 1077.86 Q118.302 1069.11 121.357 1064.52 Q124.436 1059.92 130.246 1059.92 Z\" fill=\"#000000\" fill-rule=\"evenodd\" fill-opacity=\"1\" /><path clip-path=\"url(#clip010)\" d=\"M80.0382 838.225 L96.3576 838.225 L96.3576 842.16 L74.4133 842.16 L74.4133 838.225 Q77.0753 835.47 81.6586 830.841 Q86.2651 826.188 87.4456 824.845 Q89.691 822.322 90.5706 820.586 Q91.4734 818.827 91.4734 817.137 Q91.4734 814.382 89.5289 812.646 Q87.6076 810.91 84.5058 810.91 Q82.3067 810.91 79.8531 811.674 Q77.4225 812.438 74.6447 813.989 L74.6447 809.267 Q77.4688 808.132 79.9225 807.554 Q82.3762 806.975 84.4132 806.975 Q89.7836 806.975 92.978 809.66 Q96.1724 812.345 96.1724 816.836 Q96.1724 818.966 95.3622 820.887 Q94.5752 822.785 92.4687 825.378 Q91.89 826.049 88.7882 829.266 Q85.6864 832.461 80.0382 838.225 Z\" fill=\"#000000\" fill-rule=\"evenodd\" fill-opacity=\"1\" /><path clip-path=\"url(#clip010)\" d=\"M106.172 836.28 L111.057 836.28 L111.057 842.16 L106.172 842.16 L106.172 836.28 Z\" fill=\"#000000\" fill-rule=\"evenodd\" fill-opacity=\"1\" /><path clip-path=\"url(#clip010)\" d=\"M121.288 807.6 L139.644 807.6 L139.644 811.535 L125.57 811.535 L125.57 820.007 Q126.589 819.66 127.607 819.498 Q128.626 819.313 129.644 819.313 Q135.431 819.313 138.811 822.484 Q142.191 825.655 142.191 831.072 Q142.191 836.651 138.718 839.753 Q135.246 842.831 128.927 842.831 Q126.751 842.831 124.482 842.461 Q122.237 842.09 119.83 841.35 L119.83 836.651 Q121.913 837.785 124.135 838.34 Q126.357 838.896 128.834 838.896 Q132.839 838.896 135.177 836.79 Q137.515 834.683 137.515 831.072 Q137.515 827.461 135.177 825.354 Q132.839 823.248 128.834 823.248 Q126.959 823.248 125.084 823.665 Q123.232 824.081 121.288 824.961 L121.288 807.6 Z\" fill=\"#000000\" fill-rule=\"evenodd\" fill-opacity=\"1\" /><path clip-path=\"url(#clip010)\" d=\"M75.0614 554.659 L93.4178 554.659 L93.4178 558.594 L79.3438 558.594 L79.3438 567.066 Q80.3623 566.719 81.3808 566.557 Q82.3993 566.372 83.4178 566.372 Q89.2049 566.372 92.5845 569.543 Q95.9641 572.714 95.9641 578.131 Q95.9641 583.71 92.4919 586.812 Q89.0197 589.89 82.7003 589.89 Q80.5243 589.89 78.2558 589.52 Q76.0105 589.15 73.6031 588.409 L73.6031 583.71 Q75.6864 584.844 77.9086 585.4 Q80.1308 585.955 82.6077 585.955 Q86.6123 585.955 88.9502 583.849 Q91.2882 581.742 91.2882 578.131 Q91.2882 574.52 88.9502 572.413 Q86.6123 570.307 82.6077 570.307 Q80.7327 570.307 78.8577 570.724 Q77.0058 571.14 75.0614 572.02 L75.0614 554.659 Z\" fill=\"#000000\" fill-rule=\"evenodd\" fill-opacity=\"1\" /><path clip-path=\"url(#clip010)\" d=\"M105.177 583.339 L110.061 583.339 L110.061 589.219 L105.177 589.219 L105.177 583.339 Z\" fill=\"#000000\" fill-rule=\"evenodd\" fill-opacity=\"1\" /><path clip-path=\"url(#clip010)\" d=\"M130.246 557.738 Q126.635 557.738 124.807 561.302 Q123.001 564.844 123.001 571.974 Q123.001 579.08 124.807 582.645 Q126.635 586.187 130.246 586.187 Q133.881 586.187 135.686 582.645 Q137.515 579.08 137.515 571.974 Q137.515 564.844 135.686 561.302 Q133.881 557.738 130.246 557.738 M130.246 554.034 Q136.056 554.034 139.112 558.64 Q142.191 563.224 142.191 571.974 Q142.191 580.7 139.112 585.307 Q136.056 589.89 130.246 589.89 Q124.436 589.89 121.357 585.307 Q118.302 580.7 118.302 571.974 Q118.302 563.224 121.357 558.64 Q124.436 554.034 130.246 554.034 Z\" fill=\"#000000\" fill-rule=\"evenodd\" fill-opacity=\"1\" /><path clip-path=\"url(#clip010)\" d=\"M74.8299 301.718 L97.052 301.718 L97.052 303.709 L84.5058 336.278 L79.6216 336.278 L91.4271 305.653 L74.8299 305.653 L74.8299 301.718 Z\" fill=\"#000000\" fill-rule=\"evenodd\" fill-opacity=\"1\" /><path clip-path=\"url(#clip010)\" d=\"M106.172 330.398 L111.057 330.398 L111.057 336.278 L106.172 336.278 L106.172 330.398 Z\" fill=\"#000000\" fill-rule=\"evenodd\" fill-opacity=\"1\" /><path clip-path=\"url(#clip010)\" d=\"M121.288 301.718 L139.644 301.718 L139.644 305.653 L125.57 305.653 L125.57 314.125 Q126.589 313.778 127.607 313.616 Q128.626 313.431 129.644 313.431 Q135.431 313.431 138.811 316.602 Q142.191 319.773 142.191 325.19 Q142.191 330.769 138.718 333.871 Q135.246 336.949 128.927 336.949 Q126.751 336.949 124.482 336.579 Q122.237 336.209 119.83 335.468 L119.83 330.769 Q121.913 331.903 124.135 332.459 Q126.357 333.014 128.834 333.014 Q132.839 333.014 135.177 330.908 Q137.515 328.801 137.515 325.19 Q137.515 321.579 135.177 319.473 Q132.839 317.366 128.834 317.366 Q126.959 317.366 125.084 317.783 Q123.232 318.199 121.288 319.079 L121.288 301.718 Z\" fill=\"#000000\" fill-rule=\"evenodd\" fill-opacity=\"1\" /><path clip-path=\"url(#clip010)\" d=\"M45.6634 79.4019 L53.3023 79.4019 L53.3023 53.0363 L44.9921 54.7029 L44.9921 50.4437 L53.256 48.777 L57.9319 48.777 L57.9319 79.4019 L65.5707 79.4019 L65.5707 83.337 L45.6634 83.337 L45.6634 79.4019 Z\" fill=\"#000000\" fill-rule=\"evenodd\" fill-opacity=\"1\" /><path clip-path=\"url(#clip010)\" d=\"M85.0151 51.8557 Q81.404 51.8557 79.5753 55.4205 Q77.7697 58.9622 77.7697 66.0918 Q77.7697 73.1982 79.5753 76.763 Q81.404 80.3046 85.0151 80.3046 Q88.6493 80.3046 90.4548 76.763 Q92.2835 73.1982 92.2835 66.0918 Q92.2835 58.9622 90.4548 55.4205 Q88.6493 51.8557 85.0151 51.8557 M85.0151 48.152 Q90.8252 48.152 93.8808 52.7585 Q96.9594 57.3418 96.9594 66.0918 Q96.9594 74.8186 93.8808 79.425 Q90.8252 84.0083 85.0151 84.0083 Q79.2049 84.0083 76.1262 79.425 Q73.0707 74.8186 73.0707 66.0918 Q73.0707 57.3418 76.1262 52.7585 Q79.2049 48.152 85.0151 48.152 Z\" fill=\"#000000\" fill-rule=\"evenodd\" fill-opacity=\"1\" /><path clip-path=\"url(#clip010)\" d=\"M105.177 77.4574 L110.061 77.4574 L110.061 83.337 L105.177 83.337 L105.177 77.4574 Z\" fill=\"#000000\" fill-rule=\"evenodd\" fill-opacity=\"1\" /><path clip-path=\"url(#clip010)\" d=\"M130.246 51.8557 Q126.635 51.8557 124.807 55.4205 Q123.001 58.9622 123.001 66.0918 Q123.001 73.1982 124.807 76.763 Q126.635 80.3046 130.246 80.3046 Q133.881 80.3046 135.686 76.763 Q137.515 73.1982 137.515 66.0918 Q137.515 58.9622 135.686 55.4205 Q133.881 51.8557 130.246 51.8557 M130.246 48.152 Q136.056 48.152 139.112 52.7585 Q142.191 57.3418 142.191 66.0918 Q142.191 74.8186 139.112 79.425 Q136.056 84.0083 130.246 84.0083 Q124.436 84.0083 121.357 79.425 Q118.302 74.8186 118.302 66.0918 Q118.302 57.3418 121.357 52.7585 Q124.436 48.152 130.246 48.152 Z\" fill=\"#000000\" fill-rule=\"evenodd\" fill-opacity=\"1\" /><polyline clip-path=\"url(#clip012)\" style=\"stroke:#009af9; stroke-linecap:round; stroke-linejoin:round; stroke-width:4; stroke-opacity:1; fill:none\" points=\"\n",
       "  291.188,1076.99 323.173,1062.44 355.159,1027.88 387.145,1050.28 419.13,1004.36 451.116,1001.76 483.101,1006.54 515.087,1077.58 547.072,1065.45 579.058,1010.17 \n",
       "  611.043,1015.49 643.029,1011.97 675.015,1063.61 707,1060.7 738.986,1011.01 770.971,1026.88 802.957,1060.73 834.942,1057.58 866.928,1026.49 898.914,1018 \n",
       "  930.899,1074.99 962.885,1072.88 994.87,1028.39 1026.86,1076.77 1058.84,1052.25 1090.83,997.943 1122.81,1073.23 1154.8,1076.53 1186.78,1026.53 1218.77,1025.77 \n",
       "  1250.75,1011.69 1282.74,1019.29 1314.73,1070.4 1346.71,1025.67 1378.7,1077.6 1410.68,1042.41 1442.67,1073.65 1474.65,1024.66 1506.64,1074.25 1538.62,1068.64 \n",
       "  1570.61,1010.37 1602.6,1018.94 1634.58,1021.04 1666.57,1068.59 1698.55,1066.11 1730.54,1026.46 1762.52,1021.18 1794.51,1076.91 1826.49,1043.57 1858.48,1032.5 \n",
       "  1890.47,1042.29 1922.45,1027.28 1954.44,1049.28 1986.42,1042.97 2018.41,1077.71 2050.39,1075.82 2082.38,1050.94 2114.37,1046.39 2146.35,1060.91 2178.34,1075.67 \n",
       "  2210.32,1077.69 2242.31,1055.06 2274.29,1028.99 2306.28,1013.59 2338.26,1022.34 2370.25,1024.23 2402.24,997.163 2434.22,1062.01 2466.21,1022.88 2498.19,1036.77 \n",
       "  2530.18,1076.69 2562.16,1067.08 2594.15,1060.84 2626.13,1075.23 2658.12,1016.19 2690.11,1051.37 2722.09,1069.01 2754.08,1022.29 2786.06,1017.17 2818.05,1067.68 \n",
       "  2850.03,1071.05 2882.02,1027.03 2914,1074.79 2945.99,1077.22 2977.98,1026.49 3009.96,1061.01 3041.95,994.588 3073.93,1035.12 3105.92,1009.55 3137.9,1009.26 \n",
       "  3169.89,998.491 3201.87,1072.48 3233.86,1017.5 3265.85,1074.46 3297.83,1059 3329.82,1026.31 3361.8,1012.22 3393.79,1029.23 3425.77,1018.34 3457.76,1026.73 \n",
       "  \n",
       "  \"/>\n",
       "<polyline clip-path=\"url(#clip012)\" style=\"stroke:#e26f46; stroke-linecap:round; stroke-linejoin:round; stroke-width:4; stroke-opacity:1; fill:none\" points=\"\n",
       "  291.188,377.678 323.173,802.856 355.159,974.773 387.145,887.895 419.13,1031.1 451.116,1036.16 483.101,1026.69 515.087,193.143 547.072,771.104 579.058,1019.06 \n",
       "  611.043,1007.11 643.029,1015.14 675.015,791.26 707,818.54 738.986,1017.24 770.971,977.666 802.957,818.277 834.942,842.914 866.928,978.772 898.914,1001.1 \n",
       "  930.899,555.678 962.885,637.088 994.87,973.276 1026.86,410.972 1058.84,877.056 1090.83,1043.32 1122.81,626.265 1154.8,440.784 1186.78,978.657 1218.77,980.813 \n",
       "  1250.75,1015.75 1282.74,997.938 1314.73,696.471 1346.71,981.086 1378.7,186.24 1410.68,924.582 1442.67,612.229 1474.65,983.88 1506.64,589.731 1538.62,727.532 \n",
       "  1570.61,1018.64 1602.6,998.793 1634.58,993.498 1666.57,728.364 1698.55,763.034 1730.54,978.863 1762.52,993.131 1794.51,389.523 1826.49,919.734 1858.48,960.588 \n",
       "  1890.47,925.084 1922.45,976.504 1954.44,893.108 1986.42,922.26 2018.41,77.2578 2050.39,505.226 2082.38,884.357 2114.37,907.192 2146.35,816.681 2178.34,515.604 \n",
       "  2210.32,103.469 2242.31,860.081 2274.29,971.483 2306.28,1011.49 2338.26,990.107 2370.25,985.063 2402.24,1044.74 2434.22,806.86 2466.21,988.693 2498.19,946.136 \n",
       "  2530.18,422.343 2562.16,750.432 2594.15,817.338 2626.13,543.123 2658.12,1005.46 2690.11,881.986 2722.09,721.543 2754.08,990.248 2786.06,1003.12 2818.05,742.038 \n",
       "  2850.03,683.07 2882.02,977.214 2914,565.895 2945.99,328.46 2977.98,978.763 3009.96,815.868 3041.95,1049.32 3073.93,951.914 3105.92,1020.39 3137.9,1021.01 \n",
       "  3169.89,1042.31 3201.87,648.551 3233.86,1002.32 3265.85,580.927 3297.83,832.293 3329.82,979.278 3361.8,1014.57 3393.79,970.77 3425.77,1000.29 3457.76,978.083 \n",
       "  \n",
       "  \"/>\n",
       "<polyline clip-path=\"url(#clip012)\" style=\"stroke:#3da44d; stroke-linecap:round; stroke-linejoin:round; stroke-width:4; stroke-opacity:1; fill:none\" points=\"\n",
       "  291.188,494.567 323.173,677.97 355.159,866.259 387.145,805.581 419.13,908.211 451.116,923.073 483.101,904.574 515.087,949.816 547.072,775.935 579.058,889.253 \n",
       "  611.043,867.511 643.029,888.467 675.015,878.111 707,889.253 738.986,877.009 770.971,798.795 802.957,887.967 834.942,853.976 866.928,775.46 898.914,854.032 \n",
       "  930.899,818.589 962.885,823.306 994.87,826.288 1026.86,911.644 1058.84,866.259 1090.83,941.717 1122.81,936.796 1154.8,869.194 1186.78,778.356 1218.77,783.419 \n",
       "  1250.75,885.912 1282.74,806.095 1314.73,842.018 1346.71,765.826 1378.7,885.89 1410.68,780.223 1442.67,805.093 1474.65,847.581 1506.64,829.713 1538.62,834.784 \n",
       "  1570.61,896.662 1602.6,877.513 1634.58,839.147 1666.57,854.101 1698.55,872.162 1730.54,755.115 1762.52,834.413 1794.51,882.831 1826.49,789.144 1858.48,821.418 \n",
       "  1890.47,812.399 1922.45,756.338 1954.44,885.014 1986.42,826.42 2018.41,820.77 2050.39,821.593 2082.38,770.844 2114.37,880.62 2146.35,858.677 2178.34,809.82 \n",
       "  2210.32,700.979 2242.31,806.785 2274.29,802.513 2306.28,901.752 2338.26,785.082 2370.25,836.63 2402.24,957.466 2434.22,881.059 2466.21,882.508 2498.19,874.151 \n",
       "  2530.18,918.161 2562.16,820.885 2594.15,870.292 2626.13,890.911 2658.12,856.854 2690.11,822.123 2722.09,880.154 2754.08,899.211 2786.06,869.588 2818.05,844.296 \n",
       "  2850.03,912.95 2882.02,780.585 2914,684.323 2945.99,634.951 2977.98,835.804 3009.96,851.055 3041.95,961.377 3073.93,856.739 3105.92,856.011 3137.9,848.058 \n",
       "  3169.89,937.668 3201.87,965.271 3233.86,821.701 3265.85,774.525 3297.83,826.916 3329.82,780.393 3361.8,904.139 3393.79,920.085 3425.77,898.686 3457.76,846.999 \n",
       "  \n",
       "  \"/>\n",
       "<path clip-path=\"url(#clip010)\" d=\"\n",
       "M3052.2 289.954 L3440.87 289.954 L3440.87 82.5936 L3052.2 82.5936  Z\n",
       "  \" fill=\"#ffffff\" fill-rule=\"evenodd\" fill-opacity=\"1\"/>\n",
       "<polyline clip-path=\"url(#clip010)\" style=\"stroke:#000000; stroke-linecap:round; stroke-linejoin:round; stroke-width:4; stroke-opacity:1; fill:none\" points=\"\n",
       "  3052.2,289.954 3440.87,289.954 3440.87,82.5936 3052.2,82.5936 3052.2,289.954 \n",
       "  \"/>\n",
       "<polyline clip-path=\"url(#clip010)\" style=\"stroke:#009af9; stroke-linecap:round; stroke-linejoin:round; stroke-width:4; stroke-opacity:1; fill:none\" points=\"\n",
       "  3089.5,134.434 3313.27,134.434 \n",
       "  \"/>\n",
       "<path clip-path=\"url(#clip010)\" d=\"M3364.41 154.121 Q3362.6 158.751 3360.89 160.163 Q3359.18 161.575 3356.31 161.575 L3352.9 161.575 L3352.9 158.01 L3355.4 158.01 Q3357.16 158.01 3358.14 157.176 Q3359.11 156.343 3360.29 153.241 L3361.05 151.297 L3350.57 125.788 L3355.08 125.788 L3363.18 146.065 L3371.28 125.788 L3375.8 125.788 L3364.41 154.121 Z\" fill=\"#000000\" fill-rule=\"evenodd\" fill-opacity=\"1\" /><path clip-path=\"url(#clip010)\" d=\"M3383.09 147.778 L3390.73 147.778 L3390.73 121.413 L3382.42 123.079 L3382.42 118.82 L3390.68 117.154 L3395.36 117.154 L3395.36 147.778 L3403 147.778 L3403 151.714 L3383.09 151.714 L3383.09 147.778 Z\" fill=\"#000000\" fill-rule=\"evenodd\" fill-opacity=\"1\" /><polyline clip-path=\"url(#clip010)\" style=\"stroke:#e26f46; stroke-linecap:round; stroke-linejoin:round; stroke-width:4; stroke-opacity:1; fill:none\" points=\"\n",
       "  3089.5,186.274 3313.27,186.274 \n",
       "  \"/>\n",
       "<path clip-path=\"url(#clip010)\" d=\"M3364.41 205.961 Q3362.6 210.591 3360.89 212.003 Q3359.18 213.415 3356.31 213.415 L3352.9 213.415 L3352.9 209.85 L3355.4 209.85 Q3357.16 209.85 3358.14 209.016 Q3359.11 208.183 3360.29 205.081 L3361.05 203.137 L3350.57 177.628 L3355.08 177.628 L3363.18 197.905 L3371.28 177.628 L3375.8 177.628 L3364.41 205.961 Z\" fill=\"#000000\" fill-rule=\"evenodd\" fill-opacity=\"1\" /><path clip-path=\"url(#clip010)\" d=\"M3386.31 199.618 L3402.63 199.618 L3402.63 203.554 L3380.68 203.554 L3380.68 199.618 Q3383.34 196.864 3387.93 192.234 Q3392.53 187.581 3393.71 186.239 Q3395.96 183.716 3396.84 181.98 Q3397.74 180.22 3397.74 178.531 Q3397.74 175.776 3395.8 174.04 Q3393.88 172.304 3390.77 172.304 Q3388.58 172.304 3386.12 173.068 Q3383.69 173.831 3380.91 175.382 L3380.91 170.66 Q3383.74 169.526 3386.19 168.947 Q3388.64 168.369 3390.68 168.369 Q3396.05 168.369 3399.25 171.054 Q3402.44 173.739 3402.44 178.23 Q3402.44 180.359 3401.63 182.281 Q3400.84 184.179 3398.74 186.771 Q3398.16 187.443 3395.06 190.66 Q3391.95 193.855 3386.31 199.618 Z\" fill=\"#000000\" fill-rule=\"evenodd\" fill-opacity=\"1\" /><polyline clip-path=\"url(#clip010)\" style=\"stroke:#3da44d; stroke-linecap:round; stroke-linejoin:round; stroke-width:4; stroke-opacity:1; fill:none\" points=\"\n",
       "  3089.5,238.114 3313.27,238.114 \n",
       "  \"/>\n",
       "<path clip-path=\"url(#clip010)\" d=\"M3364.41 257.801 Q3362.6 262.431 3360.89 263.843 Q3359.18 265.255 3356.31 265.255 L3352.9 265.255 L3352.9 261.69 L3355.4 261.69 Q3357.16 261.69 3358.14 260.856 Q3359.11 260.023 3360.29 256.921 L3361.05 254.977 L3350.57 229.468 L3355.08 229.468 L3363.18 249.745 L3371.28 229.468 L3375.8 229.468 L3364.41 257.801 Z\" fill=\"#000000\" fill-rule=\"evenodd\" fill-opacity=\"1\" /><path clip-path=\"url(#clip010)\" d=\"M3396.45 236.759 Q3399.8 237.477 3401.68 239.745 Q3403.58 242.014 3403.58 245.347 Q3403.58 250.463 3400.06 253.264 Q3396.54 256.065 3390.06 256.065 Q3387.88 256.065 3385.57 255.625 Q3383.27 255.208 3380.82 254.352 L3380.82 249.838 Q3382.77 250.972 3385.08 251.551 Q3387.39 252.13 3389.92 252.13 Q3394.32 252.13 3396.61 250.394 Q3398.92 248.657 3398.92 245.347 Q3398.92 242.292 3396.77 240.579 Q3394.64 238.843 3390.82 238.843 L3386.79 238.843 L3386.79 235 L3391.01 235 Q3394.45 235 3396.28 233.634 Q3398.11 232.246 3398.11 229.653 Q3398.11 226.991 3396.21 225.579 Q3394.34 224.144 3390.82 224.144 Q3388.9 224.144 3386.7 224.56 Q3384.5 224.977 3381.86 225.857 L3381.86 221.69 Q3384.52 220.949 3386.84 220.579 Q3389.18 220.209 3391.24 220.209 Q3396.56 220.209 3399.66 222.639 Q3402.77 225.046 3402.77 229.167 Q3402.77 232.037 3401.12 234.028 Q3399.48 235.996 3396.45 236.759 Z\" fill=\"#000000\" fill-rule=\"evenodd\" fill-opacity=\"1\" /></svg>\n"
      ]
     },
     "execution_count": 13,
     "metadata": {},
     "output_type": "execute_result"
    }
   ],
   "source": [
    "plot(df.Prob)\n",
    "plot!(df.IC)\n",
    "plot!(df.H)\n",
    "plot!(size=(900,300))"
   ]
  },
  {
   "cell_type": "code",
   "execution_count": 14,
   "metadata": {},
   "outputs": [
    {
     "data": {
      "text/plain": [
       "generatemidifile (generic function with 1 method)"
      ]
     },
     "execution_count": 14,
     "metadata": {},
     "output_type": "execute_result"
    }
   ],
   "source": [
    "using MIDI, Dates\n",
    "function generatemidifile(xs::Vector{Tuple{Int,Int}},name::String)\n",
    "    tpq = 960\n",
    "    notes = Note[]\n",
    "    pos = 0\n",
    "    for pair in xs\n",
    "        pitch = pair[1]\n",
    "        velocity = 100\n",
    "        dur = Int(tpq*pair[2]/24)\n",
    "        \n",
    "        note = Note(pitch,100,pos,dur)\n",
    "        \n",
    "        push!(notes,note)\n",
    "        pos+=dur\n",
    "    end\n",
    "    track = MIDITrack()\n",
    "    addnotes!(track, notes)\n",
    "    \n",
    "    midi = MIDIFile(0, tpq, [track])\n",
    "    cd(@__DIR__)\n",
    "    save(name, midi)\n",
    "end"
   ]
  },
  {
   "cell_type": "code",
   "execution_count": 15,
   "metadata": {},
   "outputs": [
    {
     "data": {
      "text/plain": [
       "MIDIFile (format=0, tpq=960) with 1 tracks"
      ]
     },
     "execution_count": 15,
     "metadata": {},
     "output_type": "execute_result"
    }
   ],
   "source": [
    "generatemidifile(seq,\"example.mid\")"
   ]
  },
  {
   "cell_type": "code",
   "execution_count": null,
   "metadata": {},
   "outputs": [],
   "source": []
  }
 ],
 "metadata": {
  "kernelspec": {
   "display_name": "Julia 1.7.3",
   "language": "julia",
   "name": "julia-1.7"
  },
  "language_info": {
   "file_extension": ".jl",
   "mimetype": "application/julia",
   "name": "julia",
   "version": "1.7.3"
  }
 },
 "nbformat": 4,
 "nbformat_minor": 4
}
