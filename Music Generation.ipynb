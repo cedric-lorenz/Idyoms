{
 "cells": [
  {
   "cell_type": "markdown",
   "metadata": {},
   "source": [
    "# Generation Using Idyoms"
   ]
  },
  {
   "cell_type": "code",
   "execution_count": 1,
   "metadata": {},
   "outputs": [],
   "source": [
    "using DataFrames, Plots, Random\n",
    "using Chakra\n",
    "include(\"src/Idyoms.jl\")\n",
    "using Main.Idyoms"
   ]
  },
  {
   "cell_type": "markdown",
   "metadata": {},
   "source": [
    "## Load Melch"
   ]
  },
  {
   "cell_type": "code",
   "execution_count": 2,
   "metadata": {},
   "outputs": [],
   "source": [
    "using Melch\n",
    "Melch.__INIT__(\"/Users/nick/Dropbox/MelchData\")"
   ]
  },
  {
   "cell_type": "markdown",
   "metadata": {},
   "source": [
    "## Select Nova Dataset"
   ]
  },
  {
   "cell_type": "code",
   "execution_count": 3,
   "metadata": {},
   "outputs": [
    {
     "data": {
      "text/plain": [
       "\"Songs and ballads from Nova Scotia, Canada.\""
      ]
     },
     "execution_count": 3,
     "metadata": {},
     "output_type": "execute_result"
    }
   ],
   "source": [
    "nova = fnd(Melch.id(0),Melch)\n",
    "nova.description"
   ]
  },
  {
   "cell_type": "markdown",
   "metadata": {},
   "source": [
    "## Generate Sequences"
   ]
  },
  {
   "cell_type": "code",
   "execution_count": 4,
   "metadata": {},
   "outputs": [],
   "source": [
    "melodies = pts(nova)\n",
    "sequences = [sequence(pts(mel,Melch),Melch) for mel in melodies];"
   ]
  },
  {
   "cell_type": "code",
   "execution_count": 5,
   "metadata": {},
   "outputs": [
    {
     "name": "stdout",
     "output_type": "stream",
     "text": [
      "Melch.Event\n",
      "  id: Melch.EventId\n",
      "    dataset: Int64 0\n",
      "    melody: Int64 1\n",
      "    event: Int64 1\n",
      "  ONSET: Int64 0\n",
      "  DELTAST: Int64 0\n",
      "  BIOI: Int64 1\n",
      "  DUR: Int64 24\n",
      "  CPITCH: Int64 65\n",
      "  MPITCH: Int64 38\n",
      "  ACCIDENTAL: Int64 0\n",
      "  KEYSIG: Int64 -1\n",
      "  MODE: Int64 0\n",
      "  BARLENGTH: Int64 48\n",
      "  PULSES: Int64 2\n",
      "  PHRASE: Int64 1\n",
      "  VOICE: Int64 1\n",
      "  ORNAMENT: Int64 0\n",
      "  COMMA: Int64 0\n",
      "  VERTINT12: Chakra.None Chakra.None()\n",
      "  ARTICULATION: Int64 0\n",
      "  DYN: Chakra.None Chakra.None()\n"
     ]
    }
   ],
   "source": [
    "dump(sequences[1][1])"
   ]
  },
  {
   "cell_type": "markdown",
   "metadata": {},
   "source": [
    "## Define Viewpoints"
   ]
  },
  {
   "cell_type": "code",
   "execution_count": 6,
   "metadata": {},
   "outputs": [
    {
     "data": {
      "text/plain": [
       "Chakra.LinkedViewpoint{Tuple{Int64, Int64}}(Viewpoint[Chakra.AtomicViewpoint{Int64}(Melch.Attribute{:CPITCH, Int64}(), Type[Int64]), Chakra.AtomicViewpoint{Int64}(Melch.Attribute{:DUR, Int64}(), Type[Int64])], DataType[Int64, Int64])"
      ]
     },
     "execution_count": 6,
     "metadata": {},
     "output_type": "execute_result"
    }
   ],
   "source": [
    "CPITCH = vp(Melch.CPITCH)\n",
    "DUR = vp(Melch.DUR)\n",
    "CPITCH_X_DUR = link(CPITCH,DUR)"
   ]
  },
  {
   "cell_type": "markdown",
   "metadata": {},
   "source": [
    "## Generate Views"
   ]
  },
  {
   "cell_type": "code",
   "execution_count": 7,
   "metadata": {},
   "outputs": [],
   "source": [
    "p_p = [View(seq,CPITCH,CPITCH) for seq in sequences];\n",
    "d_d = [View(seq,DUR,DUR) for seq in sequences];\n",
    "p_d = [View(seq,CPITCH,DUR) for seq in sequences];\n",
    "d_p = [View(seq,DUR,CPITCH) for seq in sequences];\n",
    "pxd_pxd = [View(seq,CPITCH_X_DUR,CPITCH_X_DUR) for seq in sequences];"
   ]
  },
  {
   "cell_type": "markdown",
   "metadata": {},
   "source": [
    "## Set Parameters"
   ]
  },
  {
   "cell_type": "code",
   "execution_count": 8,
   "metadata": {},
   "outputs": [
    {
     "data": {
      "text/plain": [
       "true"
      ]
     },
     "execution_count": 8,
     "metadata": {},
     "output_type": "execute_result"
    }
   ],
   "source": [
    "o = Bounded(5) # order bound\n",
    "b = Interpolated() # smoothing technique\n",
    "e = A() # escape method\n",
    "u = true # update exclusion"
   ]
  },
  {
   "cell_type": "markdown",
   "metadata": {},
   "source": [
    "## Generate Models"
   ]
  },
  {
   "cell_type": "code",
   "execution_count": 9,
   "metadata": {},
   "outputs": [],
   "source": [
    "p_p_tally, p_seen = Idyoms.train(p_p,o);\n",
    "d_d_tally, d_seen = Idyoms.train(d_d,o);\n",
    "p_d_tally, d_seen = Idyoms.train(p_d,o);\n",
    "d_p_tally, p_seen = Idyoms.train(d_p,o);\n",
    "pxd_pxd_tally, pxd_seen = Idyoms.train(pxd_pxd,o);"
   ]
  },
  {
   "cell_type": "markdown",
   "metadata": {},
   "source": [
    "## Use models to generate new sequences"
   ]
  },
  {
   "cell_type": "code",
   "execution_count": 10,
   "metadata": {},
   "outputs": [
    {
     "ename": "LoadError",
     "evalue": "UndefVarError: generate_sequence not defined",
     "output_type": "error",
     "traceback": [
      "UndefVarError: generate_sequence not defined",
      "",
      "Stacktrace:",
      " [1] getproperty(x::Module, f::Symbol)",
      "   @ Base ./Base.jl:35",
      " [2] top-level scope",
      "   @ In[10]:1",
      " [3] eval",
      "   @ ./boot.jl:373 [inlined]",
      " [4] include_string(mapexpr::typeof(REPL.softscope), mod::Module, code::String, filename::String)",
      "   @ Base ./loading.jl:1196"
     ]
    }
   ],
   "source": [
    "preds, seq = Idyoms.gen_seq(100,pxd_pxd_tally,pxd_seen,pxd_seen,b,e,u,o);"
   ]
  },
  {
   "cell_type": "markdown",
   "metadata": {},
   "source": [
    "## Display Sequence"
   ]
  },
  {
   "cell_type": "code",
   "execution_count": 11,
   "metadata": {},
   "outputs": [
    {
     "ename": "LoadError",
     "evalue": "UndefVarError: preds not defined",
     "output_type": "error",
     "traceback": [
      "UndefVarError: preds not defined",
      "",
      "Stacktrace:",
      " [1] top-level scope",
      "   @ In[11]:1",
      " [2] eval",
      "   @ ./boot.jl:373 [inlined]",
      " [3] include_string(mapexpr::typeof(REPL.softscope), mod::Module, code::String, filename::String)",
      "   @ Base ./loading.jl:1196"
     ]
    }
   ],
   "source": [
    "Idyoms.mean_infcontent(preds)"
   ]
  },
  {
   "cell_type": "code",
   "execution_count": 12,
   "metadata": {},
   "outputs": [
    {
     "ename": "LoadError",
     "evalue": "UndefVarError: preds not defined",
     "output_type": "error",
     "traceback": [
      "UndefVarError: preds not defined",
      "",
      "Stacktrace:",
      " [1] top-level scope",
      "   @ In[12]:1",
      " [2] eval",
      "   @ ./boot.jl:373 [inlined]",
      " [3] include_string(mapexpr::typeof(REPL.softscope), mod::Module, code::String, filename::String)",
      "   @ Base ./loading.jl:1196"
     ]
    }
   ],
   "source": [
    "df = Idyoms.todataframe(1,preds)"
   ]
  },
  {
   "cell_type": "code",
   "execution_count": 13,
   "metadata": {},
   "outputs": [
    {
     "ename": "LoadError",
     "evalue": "UndefVarError: df not defined",
     "output_type": "error",
     "traceback": [
      "UndefVarError: df not defined",
      "",
      "Stacktrace:",
      " [1] top-level scope",
      "   @ In[13]:1",
      " [2] eval",
      "   @ ./boot.jl:373 [inlined]",
      " [3] include_string(mapexpr::typeof(REPL.softscope), mod::Module, code::String, filename::String)",
      "   @ Base ./loading.jl:1196"
     ]
    }
   ],
   "source": [
    "plot(df.Prob)\n",
    "plot!(df.IC)\n",
    "plot!(df.H)\n",
    "plot!(size=(900,300))"
   ]
  },
  {
   "cell_type": "code",
   "execution_count": 14,
   "metadata": {},
   "outputs": [
    {
     "data": {
      "text/plain": [
       "generatemidifile (generic function with 1 method)"
      ]
     },
     "execution_count": 14,
     "metadata": {},
     "output_type": "execute_result"
    }
   ],
   "source": [
    "using MIDI\n",
    "function generatemidifile(xs::Vector{Tuple{Int,Int}},name::String)\n",
    "    tpq = 960\n",
    "    notes = Note[]\n",
    "    pos = 0\n",
    "    for pair in xs\n",
    "        pitch = pair[1]\n",
    "        velocity = 100\n",
    "        dur = Int(tpq*pair[2]/24)\n",
    "        \n",
    "        note = Note(pitch,100,pos,dur)\n",
    "        \n",
    "        push!(notes,note)\n",
    "        pos+=dur\n",
    "    end\n",
    "    track = MIDITrack()\n",
    "    addnotes!(track, notes)\n",
    "    \n",
    "    midi = MIDIFile(0, tpq, [track])\n",
    "    cd(@__DIR__)\n",
    "    save(name, midi)\n",
    "end"
   ]
  },
  {
   "cell_type": "code",
   "execution_count": 15,
   "metadata": {},
   "outputs": [
    {
     "ename": "LoadError",
     "evalue": "UndefVarError: seq not defined",
     "output_type": "error",
     "traceback": [
      "UndefVarError: seq not defined",
      "",
      "Stacktrace:",
      " [1] top-level scope",
      "   @ In[15]:1",
      " [2] eval",
      "   @ ./boot.jl:373 [inlined]",
      " [3] include_string(mapexpr::typeof(REPL.softscope), mod::Module, code::String, filename::String)",
      "   @ Base ./loading.jl:1196"
     ]
    }
   ],
   "source": [
    "generatemidifile(seq,\"example.mid\")"
   ]
  },
  {
   "cell_type": "code",
   "execution_count": null,
   "metadata": {},
   "outputs": [],
   "source": []
  }
 ],
 "metadata": {
  "kernelspec": {
   "display_name": "Julia 1.7.3",
   "language": "julia",
   "name": "julia-1.7"
  },
  "language_info": {
   "file_extension": ".jl",
   "mimetype": "application/julia",
   "name": "julia",
   "version": "1.7.3"
  }
 },
 "nbformat": 4,
 "nbformat_minor": 4
}
